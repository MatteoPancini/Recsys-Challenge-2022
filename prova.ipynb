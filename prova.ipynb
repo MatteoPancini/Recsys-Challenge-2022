{
 "cells": [
  {
   "cell_type": "code",
   "execution_count": 1,
   "outputs": [],
   "source": [
    "import pandas as pd\n",
    "import scipy.sparse as sp\n",
    "import numpy as np"
   ],
   "metadata": {
    "collapsed": false
   }
  },
  {
   "cell_type": "code",
   "execution_count": 2,
   "outputs": [
    {
     "name": "stderr",
     "output_type": "stream",
     "text": [
      "/var/folders/tt/9v6608x550n51759gpcrffsc0000gn/T/ipykernel_53185/1060870599.py:1: DtypeWarning: Columns (2) have mixed types. Specify dtype option on import or set low_memory=False.\n",
      "  dataset = pd.read_csv('Input/interactions_and_impressions.csv')\n"
     ]
    }
   ],
   "source": [
    "dataset = pd.read_csv('Input/interactions_and_impressions.csv')\n",
    "\n",
    "dataset = dataset.drop(columns=['Impressions'])\n",
    "\n",
    "datasetCOO = sp.coo_matrix((dataset[\"Data\"].values, (dataset[\"UserID\"].values, dataset[\"ItemID\"].values)))\n",
    "userIDS = dataset['UserID'].unique()\n",
    "itemIDS = dataset['ItemID'].unique()\n",
    "\n",
    "URM = np.zeros((len(userIDS), len(itemIDS)), dtype=float)\n",
    "\n",
    "for x in range(len(datasetCOO.data)):\n",
    "    if datasetCOO.data[x] == 0:\n",
    "        if URM[datasetCOO.row[x]][datasetCOO.col[x]] == 1.0:\n",
    "            URM[datasetCOO.row[x]][datasetCOO.col[x]] = 1.4\n",
    "        else:\n",
    "            URM[datasetCOO.row[x]][datasetCOO.col[x]] = 1.25\n",
    "    elif datasetCOO.data[x] == 1:\n",
    "        if URM[datasetCOO.row[x]][datasetCOO.col[x]] == 1.25:\n",
    "            URM[datasetCOO.row[x]][datasetCOO.col[x]] = 1.4\n",
    "        elif URM[datasetCOO.row[x]][datasetCOO.col[x]] == 0.0:\n",
    "            URM[datasetCOO.row[x]][datasetCOO.col[x]] = 1.0"
   ],
   "metadata": {
    "collapsed": false
   }
  },
  {
   "cell_type": "code",
   "execution_count": 3,
   "outputs": [
    {
     "data": {
      "text/plain": "array([[0., 0., 0., ..., 0., 0., 0.],\n       [0., 0., 0., ..., 0., 0., 0.],\n       [0., 0., 0., ..., 0., 0., 0.],\n       ...,\n       [0., 0., 0., ..., 0., 0., 0.],\n       [0., 0., 0., ..., 0., 0., 0.],\n       [0., 0., 0., ..., 0., 0., 0.]])"
     },
     "execution_count": 3,
     "metadata": {},
     "output_type": "execute_result"
    }
   ],
   "source": [
    "URM"
   ],
   "metadata": {
    "collapsed": false
   }
  },
  {
   "cell_type": "code",
   "execution_count": 3,
   "outputs": [],
   "source": [],
   "metadata": {
    "collapsed": false
   }
  }
 ],
 "metadata": {
  "kernelspec": {
   "display_name": "Python 3",
   "language": "python",
   "name": "python3"
  },
  "language_info": {
   "codemirror_mode": {
    "name": "ipython",
    "version": 2
   },
   "file_extension": ".py",
   "mimetype": "text/x-python",
   "name": "python",
   "nbconvert_exporter": "python",
   "pygments_lexer": "ipython2",
   "version": "2.7.6"
  }
 },
 "nbformat": 4,
 "nbformat_minor": 0
}
