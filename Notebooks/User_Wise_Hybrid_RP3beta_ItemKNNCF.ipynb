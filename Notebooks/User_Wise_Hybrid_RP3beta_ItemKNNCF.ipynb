{
 "cells": [
  {
   "cell_type": "code",
   "execution_count": 1,
   "metadata": {
    "collapsed": true
   },
   "outputs": [],
   "source": [
    "from Data_manager.split_functions.split_train_validation_random_holdout import \\\n",
    "        split_train_in_two_percentage_global_sample\n",
    "from Utils.recsys2022DataReader import *"
   ]
  },
  {
   "cell_type": "code",
   "execution_count": 2,
   "outputs": [
    {
     "name": "stderr",
     "output_type": "stream",
     "text": [
      "C:\\Users\\Mike\\PycharmProjects\\recsys-challenge-2022-Pancini-Vitali\\Utils\\recsys2022DataReader.py:15: DtypeWarning: Columns (2) have mixed types. Specify dtype option on import or set low_memory=False.\n",
      "  dataset = pd.read_csv(urmPath)\n"
     ]
    }
   ],
   "source": [
    "URM = createURM()\n",
    "ICM = createSmallICM()"
   ],
   "metadata": {
    "collapsed": false
   }
  },
  {
   "cell_type": "code",
   "execution_count": 3,
   "outputs": [],
   "source": [
    "profile_length = np.ediff1d(URM.indptr)\n",
    "sorted_users = np.argsort(profile_length)"
   ],
   "metadata": {
    "collapsed": false
   }
  },
  {
   "cell_type": "code",
   "execution_count": 4,
   "outputs": [
    {
     "name": "stdout",
     "output_type": "stream",
     "text": [
      "Warning: 961 (2.31 %) of 41629 users have no sampled items\n"
     ]
    }
   ],
   "source": [
    "URM_train, URM_test = split_train_in_two_percentage_global_sample(URM, train_percentage=0.85)"
   ],
   "metadata": {
    "collapsed": false
   }
  },
  {
   "cell_type": "code",
   "execution_count": 5,
   "outputs": [],
   "source": [
    "interactions = []\n",
    "for i in range(41629):\n",
    "    interactions.append(len(URM[i,:].nonzero()[0]))"
   ],
   "metadata": {
    "collapsed": false
   }
  },
  {
   "cell_type": "code",
   "execution_count": 6,
   "outputs": [
    {
     "name": "stderr",
     "output_type": "stream",
     "text": [
      "Done: 100%|██████████| 24507/24507 [00:04<00:00, 5147.26it/s]            \n"
     ]
    },
    {
     "name": "stdout",
     "output_type": "stream",
     "text": [
      "P3alphaRecommender: Similarity column 24507 (100.0%), 2368.65 column/sec. Elapsed time 10.35 sec\n",
      "RP3betaRecommender: Similarity column 24507 (100.0%), 2854.69 column/sec. Elapsed time 8.58 sec\n"
     ]
    },
    {
     "data": {
      "text/plain": "  0%|          | 0/94 [00:00<?, ?it/s]",
      "application/vnd.jupyter.widget-view+json": {
       "version_major": 2,
       "version_minor": 0,
       "model_id": "3770678abb9f410290c7ec328a4b11d4"
      }
     },
     "metadata": {},
     "output_type": "display_data"
    },
    {
     "name": "stderr",
     "output_type": "stream",
     "text": [
      "100%|█████████▉| 24504/24507 [11:03<00:00, 36.91it/s]\n"
     ]
    }
   ],
   "source": [
    "from Recommenders.Hybrid.LinearHybridRecommender import LinearHybridTwoRecommenderTwoVariables\n",
    "from Recommenders.NonPersonalizedRecommender import TopPop\n",
    "from Recommenders.KNN.ItemKNNCFRecommenderPLUS import ItemKNNCFRecommender\n",
    "from Recommenders.SLIM.SLIMElasticNetRecommender import MultiThreadSLIM_SLIMElasticNetRecommender\n",
    "from Recommenders.GraphBased.P3alphaRecommender import P3alphaRecommender\n",
    "from Recommenders.GraphBased.RP3betaRecommender import RP3betaRecommender\n",
    "from Recommenders.Implicit.ImplicitALSRecommender import ImplicitALSRecommender\n",
    "\n",
    "MAP_recommender_per_group = {}\n",
    "\n",
    "collaborative_recommender_class = {\"TopPop\": TopPop,\n",
    "                                   \"RP3beta_ItemKNNCF_Hybrid\": ItemKNNCFRecommender,\n",
    "                                   \"P3alpha\": P3alphaRecommender,\n",
    "                                   \"RP3beta\": RP3betaRecommender,\n",
    "                                   \"ImplicitALSRecommender\": ImplicitALSRecommender,\n",
    "                                   \"SlimElasticNet\": MultiThreadSLIM_SLIMElasticNetRecommender,\n",
    "                                   }\n",
    "\n",
    "recommender_object_dict = {}\n",
    "\n",
    "for label, recommender_class in collaborative_recommender_class.items():\n",
    "    recommender_object = recommender_class(URM_train)\n",
    "    if(label == 'RP3beta_ItemKNNCF_Hybrid'):\n",
    "        recommender1 = ItemKNNCFRecommender(URM_train, verbose=False)\n",
    "        recommender1.fit(ICM=ICM*58, shrink=1665.2431108249625, topK=3228, similarity='dice', feature_weighting='bm25', normalization='bm25')\n",
    "        recommender2 = RP3betaRecommender(URM_train, verbose=False)\n",
    "        recommender2.fit(alpha=0.5126756776495514, beta=0.396119587486951, topK=100)\n",
    "        recommender_object = LinearHybridTwoRecommenderTwoVariables(URM_train=URM_train, Recommender_1=recommender1, Recommender_2=recommender2)\n",
    "        recommender_object.fit(alpha=0.0456180823477569, beta=0.7890742999166246)\n",
    "\n",
    "    elif(label == 'P3alpha'):\n",
    "        recommender_object.fit(topK=218, alpha=0.8561168568686058)\n",
    "    elif(label == 'RP3beta'):\n",
    "        recommender_object.fit(alpha=0.5126756776495514, beta=0.396119587486951, topK=100)\n",
    "    elif(label == 'ImplicitALSRecommender'):\n",
    "        recommender_object.fit(iterations=94, factors=287, alpha=10, regularization=0.01)\n",
    "    elif(label == 'SlimElasticNet'):\n",
    "        recommender_object.fit(topK=359, alpha=0.04183472018614359, l1_ratio=0.03260349571135893)\n",
    "    else:\n",
    "        recommender_object.fit()\n",
    "\n",
    "\n",
    "    recommender_object_dict[label] = recommender_object"
   ],
   "metadata": {
    "collapsed": false
   }
  },
  {
   "cell_type": "code",
   "execution_count": 7,
   "outputs": [
    {
     "name": "stdout",
     "output_type": "stream",
     "text": [
      "Evaluating group: 0\n",
      "EvaluatorHoldout: Ignoring 961 ( 2.3%) Users that have less than 1 test interactions\n",
      "EvaluatorHoldout: Ignoring 34127 Users\n",
      "EvaluatorHoldout: Ignoring 34127 Users\n",
      "EvaluatorHoldout: Processed 6919 (100.0%) in 5.21 sec. Users per second: 1328\n",
      "EvaluatorHoldout: Processed 6919 (100.0%) in 8.98 sec. Users per second: 771\n",
      "EvaluatorHoldout: Processed 6919 (100.0%) in 4.74 sec. Users per second: 1459\n",
      "EvaluatorHoldout: Processed 6919 (100.0%) in 4.94 sec. Users per second: 1402\n",
      "EvaluatorHoldout: Processed 6919 (100.0%) in 5.99 sec. Users per second: 1154\n",
      "EvaluatorHoldout: Processed 6919 (100.0%) in 5.35 sec. Users per second: 1294\n",
      "Evaluating group: 1\n",
      "EvaluatorHoldout: Ignoring 961 ( 2.3%) Users that have less than 1 test interactions\n",
      "EvaluatorHoldout: Ignoring 19381 Users\n",
      "EvaluatorHoldout: Ignoring 19381 Users\n",
      "EvaluatorHoldout: Processed 21872 (100.0%) in 14.65 sec. Users per second: 1493\n",
      "EvaluatorHoldout: Processed 21872 (100.0%) in 28.66 sec. Users per second: 763\n",
      "EvaluatorHoldout: Processed 21872 (100.0%) in 12.94 sec. Users per second: 1690\n",
      "EvaluatorHoldout: Processed 21872 (100.0%) in 13.69 sec. Users per second: 1597\n",
      "EvaluatorHoldout: Processed 21872 (100.0%) in 16.93 sec. Users per second: 1292\n",
      "EvaluatorHoldout: Processed 21872 (100.0%) in 16.12 sec. Users per second: 1356\n",
      "Evaluating group: 2\n",
      "EvaluatorHoldout: Ignoring 961 ( 2.3%) Users that have less than 1 test interactions\n",
      "EvaluatorHoldout: Ignoring 33285 Users\n",
      "EvaluatorHoldout: Ignoring 33285 Users\n",
      "EvaluatorHoldout: Processed 8342 (100.0%) in 6.37 sec. Users per second: 1309\n",
      "EvaluatorHoldout: Processed 8342 (100.0%) in 14.12 sec. Users per second: 591\n",
      "EvaluatorHoldout: Processed 8342 (100.0%) in 5.76 sec. Users per second: 1447\n",
      "EvaluatorHoldout: Processed 8342 (100.0%) in 5.61 sec. Users per second: 1486\n",
      "EvaluatorHoldout: Processed 8342 (100.0%) in 7.39 sec. Users per second: 1128\n",
      "EvaluatorHoldout: Processed 8342 (100.0%) in 8.25 sec. Users per second: 1011\n",
      "Evaluating group: 3\n",
      "EvaluatorHoldout: Ignoring 961 ( 2.3%) Users that have less than 1 test interactions\n",
      "EvaluatorHoldout: Ignoring 38094 Users\n",
      "EvaluatorHoldout: Ignoring 38094 Users\n",
      "EvaluatorHoldout: Processed 3535 (100.0%) in 3.40 sec. Users per second: 1038\n",
      "EvaluatorHoldout: Processed 3535 (100.0%) in 8.66 sec. Users per second: 408\n",
      "EvaluatorHoldout: Processed 3535 (100.0%) in 3.36 sec. Users per second: 1051\n",
      "EvaluatorHoldout: Processed 3535 (100.0%) in 3.33 sec. Users per second: 1062\n",
      "EvaluatorHoldout: Processed 3535 (100.0%) in 3.67 sec. Users per second: 964\n",
      "EvaluatorHoldout: Processed 3535 (100.0%) in 4.49 sec. Users per second: 787\n"
     ]
    }
   ],
   "source": [
    "cutoff = 10\n",
    "from Evaluation.Evaluator import EvaluatorHoldout\n",
    "from Evaluation.Evaluator_IALS import EvaluatorHoldout as EIALS\n",
    "\n",
    "list_group_interactions = [[0, 19] , [20, 39], [40, 69], [70, max(interactions)]]\n",
    "for group_id in range(0, 4):\n",
    "    lower_bound = list_group_interactions[group_id][0]\n",
    "    higher_bound = list_group_interactions[group_id][1]\n",
    "\n",
    "    users_in_group = [user_id for user_id in range(len(interactions)) if (lower_bound <= interactions[user_id] <= higher_bound)]\n",
    "    users_in_group_p_len = profile_length[users_in_group]\n",
    "\n",
    "    users_not_in_group_flag = np.isin(sorted_users, users_in_group, invert=True)\n",
    "    users_not_in_group = sorted_users[users_not_in_group_flag]\n",
    "\n",
    "    print(f\"Evaluating group: {group_id}\")\n",
    "\n",
    "    evaluator_test = EvaluatorHoldout(URM_test, cutoff_list=[cutoff], ignore_users=users_not_in_group)\n",
    "    evaluator_test_IALS = EIALS(URM_test, cutoff_list=[cutoff], ignore_users=users_not_in_group)\n",
    "\n",
    "    for label, recommender in recommender_object_dict.items():\n",
    "        result_df, _ = evaluator_test.evaluateRecommender(recommender)\n",
    "        if label in MAP_recommender_per_group:\n",
    "            MAP_recommender_per_group[label].append(result_df.loc[cutoff][\"MAP\"])\n",
    "        else:\n",
    "            MAP_recommender_per_group[label] = [result_df.loc[cutoff][\"MAP\"]]"
   ],
   "metadata": {
    "collapsed": false
   }
  },
  {
   "cell_type": "code",
   "execution_count": 8,
   "outputs": [
    {
     "data": {
      "text/plain": "<Figure size 1600x900 with 1 Axes>",
      "image/png": "[encoded data removed]"
     },
     "metadata": {},
     "output_type": "display_data"
    }
   ],
   "source": [
    "import matplotlib.pyplot as plt\n",
    "%matplotlib inline\n",
    "\n",
    "_ = plt.figure(figsize=(16, 9))\n",
    "for label, recommender in recommender_object_dict.items():\n",
    "    results = MAP_recommender_per_group[label]\n",
    "    plt.scatter(x=np.arange(0,len(results)), y=results, label=label)\n",
    "plt.ylabel('MAP')\n",
    "plt.xlabel('User Group')\n",
    "plt.legend()\n",
    "plt.show()"
   ],
   "metadata": {
    "collapsed": false
   }
  }
 ],
 "metadata": {
  "kernelspec": {
   "display_name": "Python 3",
   "language": "python",
   "name": "python3"
  },
  "language_info": {
   "codemirror_mode": {
    "name": "ipython",
    "version": 2
   },
   "file_extension": ".py",
   "mimetype": "text/x-python",
   "name": "python",
   "nbconvert_exporter": "python",
   "pygments_lexer": "ipython2",
   "version": "2.7.6"
  }
 },
 "nbformat": 4,
 "nbformat_minor": 0
}
