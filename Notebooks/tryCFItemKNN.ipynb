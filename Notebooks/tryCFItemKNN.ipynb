{
 "cells": [
  {
   "cell_type": "code",
   "execution_count": 21,
   "metadata": {
    "collapsed": true
   },
   "outputs": [],
   "source": [
    "import os\n",
    "from typing import Tuple, Callable, Dict, Optional, List\n",
    "from Utils.writeSubmission import write_submission\n",
    "\n",
    "\n",
    "import numpy as np\n",
    "import pandas as pd\n",
    "import scipy.sparse as sp\n",
    "\n",
    "from sklearn.model_selection import train_test_split\n",
    "from Data_manager.split_functions.split_train_validation_random_holdout import split_train_in_two_percentage_global_sample"
   ]
  },
  {
   "cell_type": "markdown",
   "source": [
    "# Create URM"
   ],
   "metadata": {
    "collapsed": false
   }
  },
  {
   "cell_type": "code",
   "execution_count": 22,
   "outputs": [
    {
     "name": "stderr",
     "output_type": "stream",
     "text": [
      "/var/folders/tt/9v6608x550n51759gpcrffsc0000gn/T/ipykernel_5332/4270484765.py:1: DtypeWarning: Columns (2) have mixed types. Specify dtype option on import or set low_memory=False.\n",
      "  dataset = pd.read_csv('../Input/interactions_and_impressions.csv')\n"
     ]
    }
   ],
   "source": [
    "dataset = pd.read_csv('../Input/interactions_and_impressions.csv')\n",
    "dataset = dataset.drop(columns=['Impressions'])"
   ],
   "metadata": {
    "collapsed": false
   }
  },
  {
   "cell_type": "code",
   "execution_count": 23,
   "outputs": [],
   "source": [
    "datasetCOO = sp.coo_matrix((dataset[\"Data\"].values,\n",
    "                          (dataset[\"UserID\"].values, dataset[\"ItemID\"].values)))\n",
    "userIDS = dataset['UserID'].unique()\n",
    "itemIDS = dataset['ItemID'].unique()"
   ],
   "metadata": {
    "collapsed": false
   }
  },
  {
   "cell_type": "code",
   "execution_count": 24,
   "outputs": [
    {
     "data": {
      "text/plain": "array([[0, 0, 0, ..., 0, 0, 0],\n       [0, 0, 0, ..., 0, 0, 0],\n       [0, 0, 0, ..., 0, 0, 0],\n       ...,\n       [0, 0, 0, ..., 0, 0, 0],\n       [0, 0, 0, ..., 0, 0, 0],\n       [0, 0, 0, ..., 0, 0, 0]])"
     },
     "execution_count": 24,
     "metadata": {},
     "output_type": "execute_result"
    }
   ],
   "source": [
    "x = 0\n",
    "URM = np.zeros((len(userIDS), len(itemIDS)), dtype=int)\n",
    "while x < len(datasetCOO.data):\n",
    "    if datasetCOO.data[x] == 0:\n",
    "        URM[datasetCOO.row[x]][datasetCOO.col[x]] = int(1)\n",
    "    x = x+1\n",
    "\n",
    "URM"
   ],
   "metadata": {
    "collapsed": false
   }
  },
  {
   "cell_type": "code",
   "execution_count": 25,
   "outputs": [
    {
     "data": {
      "text/plain": "<41629x24507 sparse matrix of type '<class 'numpy.int64'>'\n\twith 1051828 stored elements in Compressed Sparse Row format>"
     },
     "execution_count": 25,
     "metadata": {},
     "output_type": "execute_result"
    }
   ],
   "source": [
    "URM = sp.csr_matrix(URM)\n",
    "URM"
   ],
   "metadata": {
    "collapsed": false
   }
  },
  {
   "cell_type": "markdown",
   "source": [
    "## Train, Validation, Test SPLIT"
   ],
   "metadata": {
    "collapsed": false
   }
  },
  {
   "cell_type": "code",
   "execution_count": 26,
   "outputs": [
    {
     "name": "stdout",
     "output_type": "stream",
     "text": [
      "Warning: 1575 (3.78 %) of 41629 users have no sampled items\n",
      "Warning: 4 (0.01 %) of 41629 users have no train items\n",
      "Warning: 2629 (6.32 %) of 41629 users have no sampled items\n"
     ]
    }
   ],
   "source": [
    "URM_train, URM_test = split_train_in_two_percentage_global_sample(URM, train_percentage = 0.80)\n",
    "URM_train, URM_validation = split_train_in_two_percentage_global_sample(URM_train, train_percentage = 0.80)"
   ],
   "metadata": {
    "collapsed": false
   }
  },
  {
   "cell_type": "code",
   "execution_count": 27,
   "outputs": [
    {
     "data": {
      "text/plain": "<41629x24507 sparse matrix of type '<class 'numpy.float64'>'\n\twith 673170 stored elements in Compressed Sparse Row format>"
     },
     "execution_count": 27,
     "metadata": {},
     "output_type": "execute_result"
    }
   ],
   "source": [
    "URM_train"
   ],
   "metadata": {
    "collapsed": false
   }
  },
  {
   "cell_type": "code",
   "execution_count": 28,
   "outputs": [
    {
     "data": {
      "text/plain": "<41629x24507 sparse matrix of type '<class 'numpy.float64'>'\n\twith 168292 stored elements in Compressed Sparse Row format>"
     },
     "execution_count": 28,
     "metadata": {},
     "output_type": "execute_result"
    }
   ],
   "source": [
    "URM_validation"
   ],
   "metadata": {
    "collapsed": false
   }
  },
  {
   "cell_type": "code",
   "execution_count": 29,
   "outputs": [
    {
     "data": {
      "text/plain": "<41629x24507 sparse matrix of type '<class 'numpy.float64'>'\n\twith 210366 stored elements in Compressed Sparse Row format>"
     },
     "execution_count": 29,
     "metadata": {},
     "output_type": "execute_result"
    }
   ],
   "source": [
    "URM_test"
   ],
   "metadata": {
    "collapsed": false
   }
  },
  {
   "cell_type": "markdown",
   "source": [
    "## Cosine Similarity"
   ],
   "metadata": {
    "collapsed": false
   }
  },
  {
   "cell_type": "code",
   "execution_count": 30,
   "outputs": [],
   "source": [
    "def naive_similarity(urm: sp.csc_matrix, shrink: int):\n",
    "    num_items = urm.shape[1]\n",
    "    weights = np.empty(shape=(num_items, num_items))\n",
    "    for item_i in range(num_items):\n",
    "        item_i_profile = urm[:, item_i] # mx1 vector\n",
    "\n",
    "        for item_j in range(num_items):\n",
    "            item_j_profile = urm[:, item_j] # mx1 vector\n",
    "\n",
    "            numerator = item_i_profile.T.dot(item_j_profile).todense()[0,0]\n",
    "            denominator = (np.sqrt(np.sum(item_i_profile.power(2)))\n",
    "                           * np.sqrt(np.sum(item_j_profile.power(2)))\n",
    "                           + shrink\n",
    "                           + 1e-6)\n",
    "\n",
    "            weights[item_i, item_j] = numerator / denominator\n",
    "\n",
    "    np.fill_diagonal(weights, 0.0)\n",
    "    return weights"
   ],
   "metadata": {
    "collapsed": false
   }
  },
  {
   "cell_type": "code",
   "execution_count": 31,
   "outputs": [],
   "source": [
    "def vector_similarity(urm: sp.csc_matrix, shrink: int):\n",
    "    item_weights = np.sqrt(\n",
    "        np.sum(urm.power(2), axis=0)\n",
    "    ).A.flatten()\n",
    "\n",
    "    num_items = urm.shape[1]\n",
    "    urm_t = urm.T\n",
    "    weights = np.empty(shape=(num_items, num_items))\n",
    "    for item_id in range(num_items):\n",
    "        numerator = urm_t.dot(urm[:, item_id]).A.flatten()\n",
    "        denominator = item_weights[item_id] * item_weights + shrink + 1e-6\n",
    "\n",
    "        weights[item_id] = numerator / denominator\n",
    "\n",
    "    np.fill_diagonal(weights, 0.0)\n",
    "    return weights"
   ],
   "metadata": {
    "collapsed": false
   }
  },
  {
   "cell_type": "code",
   "execution_count": 32,
   "outputs": [],
   "source": [
    "def matrix_similarity(urm: sp.csc_matrix, shrink: int):\n",
    "    item_weights = np.sqrt(\n",
    "        np.sum(urm.power(2), axis=0)\n",
    "    ).A\n",
    "\n",
    "    numerator = urm.T.dot(urm)\n",
    "    denominator = item_weights.T.dot(item_weights) + shrink + 1e-6\n",
    "    weights = numerator / denominator\n",
    "    np.fill_diagonal(weights, 0.0)\n",
    "\n",
    "    return weights"
   ],
   "metadata": {
    "collapsed": false
   }
  },
  {
   "cell_type": "code",
   "execution_count": 33,
   "outputs": [],
   "source": [
    "urm_csc = URM_train.tocsc()\n",
    "shrink = 5\n",
    "slice_size = 100"
   ],
   "metadata": {
    "collapsed": false
   }
  },
  {
   "cell_type": "markdown",
   "source": [
    "# Collaborative Filtering ItemKNN Recommender"
   ],
   "metadata": {
    "collapsed": false
   }
  },
  {
   "cell_type": "code",
   "execution_count": 34,
   "outputs": [],
   "source": [
    "class CFItemKNN(object):\n",
    "    def __init__(self, shrink: int):\n",
    "        self.shrink = shrink\n",
    "        self.weights = None\n",
    "\n",
    "\n",
    "    def fit(self, urm_train: sp.csc_matrix, similarity_function):\n",
    "        if not sp.isspmatrix_csc(urm_train):\n",
    "            raise TypeError(f\"We expected a CSC matrix, we got {type(urm_train)}\")\n",
    "\n",
    "        self.weights = similarity_function(urm_train, self.shrink)\n",
    "\n",
    "    def recommend(self, user_id: int, urm_train: sp.csr_matrix, at: Optional[int] = None, remove_seen: bool = True):\n",
    "        user_profile = urm_train[user_id]\n",
    "\n",
    "        ranking = user_profile.dot(self.weights).A.flatten()\n",
    "\n",
    "        if remove_seen:\n",
    "            user_profile_start = urm_train.indptr[user_id]\n",
    "            user_profile_end = urm_train.indptr[user_id+1]\n",
    "\n",
    "            seen_items = urm_train.indices[user_profile_start:user_profile_end]\n",
    "\n",
    "            ranking[seen_items] = -np.inf\n",
    "\n",
    "        ranking = np.flip(np.argsort(ranking))\n",
    "        return ranking[:at]"
   ],
   "metadata": {
    "collapsed": false
   }
  },
  {
   "cell_type": "code",
   "execution_count": 35,
   "outputs": [
    {
     "data": {
      "text/plain": "<__main__.CFItemKNN at 0x7f8838a1bac0>"
     },
     "execution_count": 35,
     "metadata": {},
     "output_type": "execute_result"
    }
   ],
   "source": [
    "itemknn_recommender = CFItemKNN(shrink=50)\n",
    "itemknn_recommender"
   ],
   "metadata": {
    "collapsed": false
   }
  },
  {
   "cell_type": "code",
   "execution_count": 36,
   "outputs": [
    {
     "name": "stdout",
     "output_type": "stream",
     "text": [
      "CPU times: user 3.58 s, sys: 8.07 s, total: 11.6 s\n",
      "Wall time: 12.4 s\n"
     ]
    }
   ],
   "source": [
    "%%time\n",
    "\n",
    "itemknn_recommender.fit(URM_train.tocsc(), matrix_similarity)"
   ],
   "metadata": {
    "collapsed": false
   }
  },
  {
   "cell_type": "markdown",
   "source": [
    "# Submission"
   ],
   "metadata": {
    "collapsed": false
   }
  },
  {
   "cell_type": "code",
   "execution_count": 37,
   "outputs": [],
   "source": [
    "best_shrink = 10\n",
    "urm_train_validation = URM_train + URM_validation"
   ],
   "metadata": {
    "collapsed": false
   }
  },
  {
   "cell_type": "code",
   "execution_count": 38,
   "outputs": [],
   "source": [
    "best_recommender = CFItemKNN(shrink=best_shrink)\n",
    "best_recommender.fit(urm_train_validation.tocsc(), matrix_similarity)"
   ],
   "metadata": {
    "collapsed": false
   }
  },
  {
   "cell_type": "code",
   "execution_count": 39,
   "outputs": [],
   "source": [
    "users_to_recommend = pd.read_csv(\"../Input/data_target_users_test.csv\")['user_id']\n",
    "users_to_recommend = users_to_recommend.tolist()"
   ],
   "metadata": {
    "collapsed": false
   }
  },
  {
   "cell_type": "code",
   "execution_count": 40,
   "outputs": [],
   "source": [
    "write_submission(recommender=best_recommender, urm_train=URM_train, target_users_path=\"../Input/data_target_users_test.csv\",\n",
    "                     out_path='../Output/{}_submission.csv'.format('CFItemKNN'))"
   ],
   "metadata": {
    "collapsed": false
   }
  },
  {
   "cell_type": "code",
   "execution_count": 40,
   "outputs": [],
   "source": [],
   "metadata": {
    "collapsed": false
   }
  }
 ],
 "metadata": {
  "kernelspec": {
   "display_name": "Python 3",
   "language": "python",
   "name": "python3"
  },
  "language_info": {
   "codemirror_mode": {
    "name": "ipython",
    "version": 2
   },
   "file_extension": ".py",
   "mimetype": "text/x-python",
   "name": "python",
   "nbconvert_exporter": "python",
   "pygments_lexer": "ipython2",
   "version": "2.7.6"
  }
 },
 "nbformat": 4,
 "nbformat_minor": 0
}
