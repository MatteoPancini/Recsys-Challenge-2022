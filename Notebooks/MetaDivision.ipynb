{
 "cells": [
  {
   "cell_type": "code",
   "execution_count": 1,
   "metadata": {
    "collapsed": true
   },
   "outputs": [],
   "source": [
    "import pandas as pd\n",
    "import numpy as np\n",
    "import scipy.sparse as sp\n",
    "import seaborn as sb"
   ]
  },
  {
   "cell_type": "code",
   "execution_count": 2,
   "outputs": [
    {
     "name": "stderr",
     "output_type": "stream",
     "text": [
      "/var/folders/tt/9v6608x550n51759gpcrffsc0000gn/T/ipykernel_14363/958906415.py:14: DeprecationWarning: `np.float` is a deprecated alias for the builtin `float`. To silence this warning, use `float` by itself. Doing this will not modify any behavior and is safe. If you specifically wanted the numpy scalar type, use `np.float64` here.\n",
      "Deprecated in NumPy 1.20; for more details and guidance: https://numpy.org/devdocs/release/1.20.0-notes.html#deprecations\n",
      "  csr_matrix = csr_matrix.astype(dtype=np.float)\n"
     ]
    }
   ],
   "source": [
    "df_original = pd.read_csv(filepath_or_buffer='data_train.csv', sep=',', header=0,\n",
    "                              dtype={'row': int, 'col': int, 'rating': float})\n",
    "\n",
    "df_original.columns = ['user', 'item', 'rating']\n",
    "\n",
    "user_id_list = df_original['user'].values\n",
    "item_id_list = df_original['item'].values\n",
    "rating_id_list = df_original['rating'].values\n",
    "\n",
    "user_id_unique = np.unique(user_id_list)\n",
    "item_id_unique = np.unique(item_id_list)\n",
    "\n",
    "csr_matrix = sp.csr_matrix((rating_id_list, (user_id_list, item_id_list)))\n",
    "csr_matrix = csr_matrix.astype(dtype=np.float)"
   ],
   "metadata": {
    "collapsed": false
   }
  },
  {
   "cell_type": "code",
   "execution_count": 3,
   "outputs": [],
   "source": [
    "URM = csr_matrix"
   ],
   "metadata": {
    "collapsed": false
   }
  },
  {
   "cell_type": "code",
   "execution_count": 4,
   "outputs": [
    {
     "data": {
      "text/plain": "array([  2,   6,   2, ..., 156,   4,   2], dtype=int32)"
     },
     "execution_count": 4,
     "metadata": {},
     "output_type": "execute_result"
    }
   ],
   "source": [
    "profile_length = np.ediff1d(URM.indptr)\n",
    "profile_length"
   ],
   "metadata": {
    "collapsed": false
   }
  },
  {
   "cell_type": "code",
   "execution_count": 5,
   "outputs": [
    {
     "data": {
      "text/plain": "array([6012, 3608, 3171, ..., 1863, 2282, 7382])"
     },
     "execution_count": 5,
     "metadata": {},
     "output_type": "execute_result"
    }
   ],
   "source": [
    "sorted_users = np.argsort(profile_length)\n",
    "sorted_users"
   ],
   "metadata": {
    "collapsed": false
   }
  },
  {
   "cell_type": "code",
   "execution_count": 6,
   "outputs": [
    {
     "data": {
      "text/plain": "[2,\n 6,\n 2,\n 2,\n 7,\n 20,\n 4,\n 14,\n 3,\n 6,\n 6,\n 33,\n 3,\n 2,\n 3,\n 14,\n 2,\n 46,\n 12,\n 2,\n 7,\n 15,\n 19,\n 8,\n 3,\n 6,\n 5,\n 8,\n 7,\n 10,\n 8,\n 3,\n 2,\n 4,\n 3,\n 3,\n 14,\n 13,\n 7,\n 2,\n 7,\n 12,\n 10,\n 65,\n 3,\n 4,\n 86,\n 7,\n 29,\n 4,\n 6,\n 14,\n 6,\n 8,\n 2,\n 2,\n 4,\n 17,\n 2,\n 3,\n 6,\n 7,\n 33,\n 8,\n 8,\n 5,\n 9,\n 2,\n 31,\n 2,\n 2,\n 3,\n 20,\n 20,\n 31,\n 21,\n 14,\n 57,\n 4,\n 3,\n 3,\n 46,\n 20,\n 6,\n 16,\n 2,\n 2,\n 31,\n 46,\n 3,\n 25,\n 6,\n 7,\n 8,\n 6,\n 3,\n 6,\n 4,\n 7,\n 15,\n 9,\n 9,\n 4,\n 5,\n 7,\n 3,\n 4,\n 6,\n 17,\n 14,\n 2,\n 12,\n 6,\n 2,\n 6,\n 9,\n 14,\n 3,\n 6,\n 44,\n 3,\n 11,\n 7,\n 7,\n 11,\n 14,\n 5,\n 3,\n 19,\n 4,\n 12,\n 4,\n 3,\n 13,\n 4,\n 7,\n 2,\n 6,\n 2,\n 258,\n 4,\n 25,\n 180,\n 18,\n 2,\n 4,\n 5,\n 2,\n 18,\n 33,\n 3,\n 4,\n 2,\n 2,\n 4,\n 13,\n 14,\n 5,\n 7,\n 8,\n 10,\n 2,\n 1,\n 5,\n 6,\n 165,\n 2,\n 2,\n 2,\n 2,\n 2,\n 2,\n 20,\n 2,\n 4,\n 2,\n 3,\n 31,\n 2,\n 5,\n 12,\n 14,\n 4,\n 11,\n 8,\n 2,\n 13,\n 6,\n 3,\n 5,\n 7,\n 5,\n 4,\n 14,\n 2,\n 8,\n 5,\n 28,\n 11,\n 11,\n 4,\n 24,\n 4,\n 8,\n 5,\n 9,\n 3,\n 22,\n 11,\n 7,\n 25,\n 33,\n 2,\n 2,\n 8,\n 8,\n 37,\n 6,\n 4,\n 5,\n 2,\n 4,\n 4,\n 3,\n 20,\n 9,\n 4,\n 55,\n 5,\n 3,\n 7,\n 8,\n 6,\n 5,\n 3,\n 3,\n 13,\n 3,\n 5,\n 2,\n 5,\n 4,\n 28,\n 3,\n 11,\n 12,\n 25,\n 6,\n 3,\n 13,\n 5,\n 4,\n 14,\n 21,\n 4,\n 4,\n 20,\n 8,\n 5,\n 4,\n 37,\n 8,\n 9,\n 3,\n 5,\n 1,\n 2,\n 3,\n 2,\n 2,\n 4,\n 338,\n 11,\n 9,\n 2,\n 6,\n 4,\n 52,\n 5,\n 2,\n 8,\n 81,\n 3,\n 18,\n 5,\n 2,\n 20,\n 2,\n 14,\n 8,\n 5,\n 2,\n 5,\n 4,\n 2,\n 9,\n 11,\n 27,\n 4,\n 6,\n 2,\n 9,\n 7,\n 14,\n 21,\n 10,\n 4,\n 4,\n 3,\n 5,\n 3,\n 10,\n 18,\n 2,\n 31,\n 73,\n 15,\n 10,\n 3,\n 4,\n 4,\n 4,\n 133,\n 7,\n 3,\n 4,\n 3,\n 9,\n 26,\n 13,\n 3,\n 4,\n 37,\n 26,\n 13,\n 13,\n 6,\n 8,\n 2,\n 7,\n 8,\n 8,\n 3,\n 2,\n 15,\n 6,\n 8,\n 3,\n 2,\n 7,\n 5,\n 1,\n 22,\n 7,\n 3,\n 3,\n 6,\n 3,\n 26,\n 6,\n 21,\n 14,\n 5,\n 3,\n 1,\n 6,\n 2,\n 8,\n 6,\n 11,\n 6,\n 5,\n 29,\n 3,\n 4,\n 73,\n 5,\n 20,\n 13,\n 6,\n 5,\n 3,\n 4,\n 20,\n 73,\n 8,\n 2,\n 4,\n 3,\n 14,\n 12,\n 16,\n 6,\n 2,\n 15,\n 5,\n 7,\n 187,\n 4,\n 46,\n 3,\n 10,\n 5,\n 1,\n 28,\n 2,\n 9,\n 4,\n 14,\n 23,\n 2,\n 5,\n 2,\n 5,\n 9,\n 176,\n 3,\n 9,\n 14,\n 6,\n 11,\n 6,\n 3,\n 11,\n 46,\n 3,\n 2,\n 2,\n 2,\n 4,\n 21,\n 4,\n 21,\n 5,\n 7,\n 7,\n 4,\n 3,\n 3,\n 4,\n 3,\n 13,\n 3,\n 2,\n 6,\n 2,\n 16,\n 3,\n 37,\n 30,\n 2,\n 11,\n 8,\n 3,\n 3,\n 33,\n 14,\n 14,\n 3,\n 11,\n 2,\n 6,\n 3,\n 6,\n 2,\n 8,\n 2,\n 8,\n 32,\n 3,\n 32,\n 39,\n 4,\n 2,\n 20,\n 3,\n 10,\n 4,\n 3,\n 17,\n 9,\n 8,\n 4,\n 4,\n 12,\n 37,\n 4,\n 13,\n 3,\n 14,\n 7,\n 9,\n 7,\n 17,\n 3,\n 7,\n 3,\n 18,\n 53,\n 17,\n 9,\n 10,\n 6,\n 31,\n 6,\n 6,\n 3,\n 3,\n 11,\n 4,\n 8,\n 3,\n 9,\n 5,\n 8,\n 2,\n 5,\n 17,\n 82,\n 51,\n 4,\n 9,\n 5,\n 2,\n 7,\n 42,\n 23,\n 15,\n 11,\n 8,\n 4,\n 3,\n 14,\n 3,\n 7,\n 4,\n 2,\n 6,\n 3,\n 8,\n 7,\n 3,\n 7,\n 5,\n 6,\n 6,\n 26,\n 3,\n 4,\n 3,\n 8,\n 42,\n 1,\n 4,\n 6,\n 6,\n 2,\n 9,\n 3,\n 2,\n 10,\n 4,\n 30,\n 10,\n 4,\n 7,\n 10,\n 21,\n 2,\n 20,\n 7,\n 20,\n 3,\n 26,\n 9,\n 4,\n 20,\n 20,\n 3,\n 26,\n 6,\n 7,\n 2,\n 16,\n 21,\n 2,\n 2,\n 4,\n 74,\n 8,\n 49,\n 10,\n 13,\n 2,\n 4,\n 6,\n 8,\n 4,\n 2,\n 4,\n 2,\n 111,\n 13,\n 6,\n 5,\n 5,\n 2,\n 6,\n 8,\n 23,\n 11,\n 4,\n 4,\n 48,\n 3,\n 11,\n 3,\n 4,\n 2,\n 5,\n 5,\n 8,\n 3,\n 21,\n 2,\n 3,\n 52,\n 15,\n 47,\n 6,\n 5,\n 8,\n 2,\n 6,\n 3,\n 3,\n 6,\n 4,\n 18,\n 6,\n 8,\n 3,\n 3,\n 4,\n 24,\n 7,\n 5,\n 34,\n 3,\n 2,\n 13,\n 10,\n 3,\n 2,\n 4,\n 5,\n 3,\n 3,\n 2,\n 24,\n 5,\n 2,\n 15,\n 4,\n 2,\n 21,\n 5,\n 2,\n 3,\n 2,\n 4,\n 3,\n 5,\n 3,\n 8,\n 3,\n 92,\n 26,\n 3,\n 13,\n 5,\n 14,\n 6,\n 7,\n 39,\n 2,\n 3,\n 39,\n 5,\n 3,\n 10,\n 3,\n 17,\n 1,\n 6,\n 55,\n 4,\n 26,\n 34,\n 5,\n 17,\n 8,\n 15,\n 14,\n 3,\n 4,\n 2,\n 7,\n 6,\n 48,\n 17,\n 6,\n 8,\n 6,\n 4,\n 15,\n 3,\n 3,\n 3,\n 3,\n 6,\n 2,\n 17,\n 6,\n 19,\n 3,\n 2,\n 6,\n 27,\n 5,\n 5,\n 13,\n 3,\n 3,\n 13,\n 4,\n 11,\n 6,\n 2,\n 71,\n 18,\n 37,\n 2,\n 4,\n 2,\n 2,\n 2,\n 15,\n 5,\n 1,\n 8,\n 6,\n 4,\n 2,\n 4,\n 2,\n 3,\n 8,\n 9,\n 6,\n 3,\n 14,\n 8,\n 22,\n 7,\n 4,\n 63,\n 2,\n 4,\n 8,\n 13,\n 51,\n 7,\n 79,\n 12,\n 1,\n 14,\n 8,\n 1,\n 3,\n 37,\n 3,\n 76,\n 13,\n 15,\n 2,\n 132,\n 6,\n 9,\n 3,\n 3,\n 26,\n 5,\n 3,\n 26,\n 11,\n 3,\n 3,\n 7,\n 1,\n 3,\n 5,\n 6,\n 5,\n 8,\n 8,\n 5,\n 8,\n 2,\n 15,\n 4,\n 51,\n 7,\n 4,\n 4,\n 5,\n 6,\n 5,\n 46,\n 3,\n 6,\n 5,\n 14,\n 4,\n 26,\n 8,\n 23,\n 8,\n 46,\n 11,\n 6,\n 2,\n 2,\n 7,\n 2,\n 4,\n 7,\n 308,\n 2,\n 11,\n 2,\n 2,\n 16,\n 4,\n 11,\n 3,\n 14,\n 7,\n 6,\n 2,\n 9,\n 6,\n 8,\n 9,\n 3,\n 3,\n 6,\n 4,\n 8,\n 3,\n 6,\n 11,\n 22,\n 11,\n 6,\n 3,\n 5,\n 2,\n 8,\n 2,\n 5,\n 4,\n 7,\n 2,\n 18,\n 3,\n 20,\n 2,\n 2,\n 3,\n 50,\n 9,\n 4,\n 7,\n 8,\n 8,\n 7,\n 11,\n 3,\n 2,\n 4,\n 2,\n 200,\n 3,\n 5,\n 9,\n 10,\n 3,\n 17,\n 5,\n 3,\n 6,\n 14,\n 4,\n 5,\n 2,\n 33,\n 20,\n 69,\n 9,\n 3,\n 6,\n 3,\n 7,\n 3,\n 37,\n 3,\n 46,\n 22,\n 5,\n 3,\n 3,\n 2,\n 25,\n 13,\n 14,\n 9,\n 3,\n 8,\n 5,\n 6,\n 8,\n 5,\n 3,\n 3,\n 3,\n 38,\n 20,\n 4,\n 20,\n 5,\n 5,\n 3,\n 8,\n 2,\n 5,\n 8,\n 154,\n 7,\n 6,\n 3,\n 12,\n 3,\n 4,\n 2,\n 32,\n 35,\n 7,\n 8,\n 2,\n 2,\n 3,\n 34,\n 15,\n 9,\n 2,\n 9,\n 16,\n 23,\n 3,\n 21,\n 21,\n 3,\n 2,\n 3,\n 8,\n 30,\n 8,\n 26,\n 6,\n 7,\n 5,\n 37,\n 11,\n 2,\n 21,\n 20,\n 14,\n 8,\n 5,\n 2,\n 14,\n 3,\n 7,\n 2,\n 7,\n 7,\n 7,\n 18,\n 10,\n ...]"
     },
     "execution_count": 6,
     "metadata": {},
     "output_type": "execute_result"
    }
   ],
   "source": [
    "interactions = []\n",
    "for i in range(7947):\n",
    "    interactions.append(len(URM[i,:].nonzero()[0]))\n",
    "interactions"
   ],
   "metadata": {
    "collapsed": false
   }
  },
  {
   "cell_type": "code",
   "execution_count": 7,
   "outputs": [
    {
     "data": {
      "text/plain": "<AxesSubplot:ylabel='Count'>"
     },
     "execution_count": 7,
     "metadata": {},
     "output_type": "execute_result"
    },
    {
     "data": {
      "text/plain": "<Figure size 640x480 with 1 Axes>",
      "image/png": "[encoded data removed]"
     },
     "metadata": {},
     "output_type": "display_data"
    }
   ],
   "source": [
    "interactions_to_plot = sorted(interactions)[:1653]\n",
    "\n",
    "sb.histplot(interactions_to_plot)"
   ],
   "metadata": {
    "collapsed": false
   }
  },
  {
   "cell_type": "code",
   "execution_count": 8,
   "outputs": [
    {
     "data": {
      "text/plain": "[[0, 7], [8, 18], [19, 1653]]"
     },
     "execution_count": 8,
     "metadata": {},
     "output_type": "execute_result"
    }
   ],
   "source": [
    "list_group_interactions = [[0, 7], [8, 18], [19, max(interactions)]]\n",
    "list_group_interactions"
   ],
   "metadata": {
    "collapsed": false
   }
  },
  {
   "cell_type": "code",
   "execution_count": 21,
   "outputs": [
    {
     "name": "stdout",
     "output_type": "stream",
     "text": [
      "Group 0, #users in group 4677, average p.len 3.87, median 4.0, min 1, max 7\n",
      "Group 1, #users in group 1975, average p.len 11.10, median 10.0, min 8, max 18\n",
      "Group 2, #users in group 1295, average p.len 56.55, median 33.0, min 19, max 1653\n"
     ]
    }
   ],
   "source": [
    "for group_id in range(0, 3):\n",
    "    lower_bound = list_group_interactions[group_id][0]\n",
    "    higher_bound = list_group_interactions[group_id][1]\n",
    "\n",
    "    users_in_group = [user_id for user_id in range(len(interactions))\n",
    "                      if (lower_bound <= interactions[user_id] <= higher_bound)]\n",
    "    users_in_group_p_len = profile_length[users_in_group]\n",
    "\n",
    "    users_not_in_group_flag = np.isin(sorted_users, users_in_group, invert=True)\n",
    "    users_not_in_group = sorted_users[users_not_in_group_flag]\n",
    "\n",
    "    print(\"Group {}, #users in group {}, average p.len {:.2f}, median {}, min {}, max {}\".format(\n",
    "        group_id,\n",
    "        len(users_in_group),\n",
    "        users_in_group_p_len.mean(),\n",
    "        np.median(users_in_group_p_len),\n",
    "        users_in_group_p_len.min(),\n",
    "        users_in_group_p_len.max()))"
   ],
   "metadata": {
    "collapsed": false
   }
  },
  {
   "cell_type": "code",
   "execution_count": 9,
   "outputs": [
    {
     "name": "stdout",
     "output_type": "stream",
     "text": [
      "Group 0, #users in group 1589, average p.len 2.26, median 2.0, min 1, max 3\n",
      "Group 1, #users in group 1589, average p.len 3.60, median 4.0, min 3, max 5\n",
      "Group 2, #users in group 1589, average p.len 6.00, median 6.0, min 5, max 8\n",
      "Group 3, #users in group 1589, average p.len 10.28, median 10.0, min 8, max 15\n",
      "Group 4, #users in group 1589, average p.len 47.42, median 28.0, min 15, max 1074\n"
     ]
    }
   ],
   "source": [
    "block_size = int(len(profile_length) * 0.2)\n",
    "\n",
    "for group_id in range(0, 5):\n",
    "    start_pos = group_id * block_size\n",
    "    end_pos = min((group_id + 1) * block_size, len(profile_length))\n",
    "\n",
    "    users_in_group = sorted_users[start_pos:end_pos]\n",
    "\n",
    "    users_in_group_p_len = profile_length[users_in_group]\n",
    "\n",
    "    users_not_in_group_flag = np.isin(sorted_users, users_in_group, invert=True)\n",
    "    users_not_in_group = sorted_users[users_not_in_group_flag]\n",
    "\n",
    "    print(\"Group {}, #users in group {}, average p.len {:.2f}, median {}, min {}, max {}\".format(\n",
    "        group_id,\n",
    "        len(users_in_group),\n",
    "        users_in_group_p_len.mean(),\n",
    "        np.median(users_in_group_p_len),\n",
    "        users_in_group_p_len.min(),\n",
    "        users_in_group_p_len.max()))"
   ],
   "metadata": {
    "collapsed": false
   }
  },
  {
   "cell_type": "code",
   "execution_count": null,
   "outputs": [],
   "source": [],
   "metadata": {
    "collapsed": false
   }
  }
 ],
 "metadata": {
  "kernelspec": {
   "display_name": "Python 3",
   "language": "python",
   "name": "python3"
  },
  "language_info": {
   "codemirror_mode": {
    "name": "ipython",
    "version": 2
   },
   "file_extension": ".py",
   "mimetype": "text/x-python",
   "name": "python",
   "nbconvert_exporter": "python",
   "pygments_lexer": "ipython2",
   "version": "2.7.6"
  }
 },
 "nbformat": 4,
 "nbformat_minor": 0
}
