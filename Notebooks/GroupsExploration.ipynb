{
 "cells": [
  {
   "cell_type": "code",
   "execution_count": 1,
   "metadata": {
    "collapsed": true
   },
   "outputs": [],
   "source": [
    "from Data_manager.split_functions.split_train_validation_random_holdout import split_train_in_two_percentage_global_sample\n",
    "from Utils.recsys2022DataReader import *\n",
    "from Recommenders.GraphBased.RP3betaRecommender import RP3betaRecommender\n",
    "from Recommenders.KNN.ItemKNNCFRecommenderPLUS import ItemKNNCFRecommender\n",
    "from Evaluation.Evaluator import EvaluatorHoldout\n",
    "import matplotlib.pyplot as plt"
   ]
  },
  {
   "cell_type": "code",
   "execution_count": 2,
   "outputs": [
    {
     "name": "stderr",
     "output_type": "stream",
     "text": [
      "C:\\Users\\Mike\\PycharmProjects\\recsys-challenge-2022-Pancini-Vitali\\Utils\\recsys2022DataReader.py:20: DtypeWarning: Columns (2) have mixed types. Specify dtype option on import or set low_memory=False.\n",
      "  dataset = pd.read_csv(urmPath)\n"
     ]
    }
   ],
   "source": [
    "URM = createURM()"
   ],
   "metadata": {
    "collapsed": false
   }
  },
  {
   "cell_type": "code",
   "execution_count": 3,
   "outputs": [
    {
     "name": "stdout",
     "output_type": "stream",
     "text": [
      "Warning: 929 (2.23 %) of 41629 users have no sampled items\n"
     ]
    }
   ],
   "source": [
    "URM_train, URM_test = split_train_in_two_percentage_global_sample(URM, train_percentage=0.85)"
   ],
   "metadata": {
    "collapsed": false
   }
  },
  {
   "cell_type": "code",
   "execution_count": 4,
   "outputs": [],
   "source": [
    "profile_length = np.ediff1d(URM.indptr)\n",
    "sorted_users = np.argsort(profile_length)"
   ],
   "metadata": {
    "collapsed": false
   }
  },
  {
   "cell_type": "code",
   "execution_count": 5,
   "outputs": [],
   "source": [
    "block_size = int(len(profile_length) * 0.25)"
   ],
   "metadata": {
    "collapsed": false
   }
  },
  {
   "cell_type": "code",
   "execution_count": 6,
   "outputs": [],
   "source": [
    "interactions = []\n",
    "for i in range(41629):\n",
    "    interactions.append(len(URM[i,:].nonzero()[0]))"
   ],
   "metadata": {
    "collapsed": false
   }
  },
  {
   "cell_type": "code",
   "execution_count": 7,
   "outputs": [],
   "source": [
    "recommender_object_dict = {}"
   ],
   "metadata": {
    "collapsed": false
   }
  },
  {
   "cell_type": "code",
   "execution_count": 8,
   "outputs": [
    {
     "name": "stdout",
     "output_type": "stream",
     "text": [
      "RP3betaRecommender: Similarity column 24507 (100.0%), 2593.89 column/sec. Elapsed time 9.45 sec\n"
     ]
    }
   ],
   "source": [
    "# RP3beta\n",
    "RP3beta = RP3betaRecommender(URM_train)\n",
    "RP3beta.fit(alpha=0.5126756776495514, beta=0.396119587486951, topK=100)\n",
    "recommender_object_dict['RP3Beta'] = RP3beta"
   ],
   "metadata": {
    "collapsed": false
   }
  },
  {
   "cell_type": "markdown",
   "source": [
    "# Interactions"
   ],
   "metadata": {
    "collapsed": false
   }
  },
  {
   "cell_type": "code",
   "execution_count": 9,
   "outputs": [
    {
     "name": "stdout",
     "output_type": "stream",
     "text": [
      "Group 0, #users in group 9096, average p.len 16.90, median 17.0, min 5, max 20\n",
      "EvaluatorHoldout: Ignoring 929 ( 2.2%) Users that have less than 1 test interactions\n",
      "EvaluatorHoldout: Ignoring 32533 Users\n",
      "EvaluatorHoldout: Processed 8441 (100.0%) in 6.38 sec. Users per second: 1323\n",
      "Group 1, #users in group 7691, average p.len 22.97, median 23.0, min 21, max 25\n",
      "EvaluatorHoldout: Ignoring 929 ( 2.2%) Users that have less than 1 test interactions\n",
      "EvaluatorHoldout: Ignoring 33938 Users\n",
      "EvaluatorHoldout: Processed 7507 (100.0%) in 5.54 sec. Users per second: 1354\n",
      "Group 2, #users in group 17230, average p.len 34.50, median 33.0, min 26, max 49\n",
      "EvaluatorHoldout: Ignoring 929 ( 2.2%) Users that have less than 1 test interactions\n",
      "EvaluatorHoldout: Ignoring 24399 Users\n",
      "EvaluatorHoldout: Processed 17140 (100.0%) in 10.63 sec. Users per second: 1612\n",
      "Group 3, #users in group 7612, average p.len 82.73, median 67.0, min 50, max 1206\n",
      "EvaluatorHoldout: Ignoring 929 ( 2.2%) Users that have less than 1 test interactions\n",
      "EvaluatorHoldout: Ignoring 34017 Users\n",
      "EvaluatorHoldout: Processed 7612 (100.0%) in 5.71 sec. Users per second: 1333\n"
     ]
    }
   ],
   "source": [
    "list_group_interactions = [[0, 20], [21, 25], [26, 49], [50, max(interactions)]]\n",
    "MAP_recommender_per_group_int = {}\n",
    "\n",
    "for group_id in range(0, 4):\n",
    "    lower_bound = list_group_interactions[group_id][0]\n",
    "    higher_bound = list_group_interactions[group_id][1]\n",
    "\n",
    "    users_in_group = [user_id for user_id in range(len(interactions))\n",
    "                      if (lower_bound <= interactions[user_id] <= higher_bound)]\n",
    "    users_in_group_p_len = profile_length[users_in_group]\n",
    "\n",
    "    users_not_in_group_flag = np.isin(sorted_users, users_in_group, invert=True)\n",
    "    users_not_in_group = sorted_users[users_not_in_group_flag]\n",
    "\n",
    "    print(\"Group {}, #users in group {}, average p.len {:.2f}, median {}, min {}, max {}\".format(\n",
    "        group_id,\n",
    "        len(users_in_group),\n",
    "        users_in_group_p_len.mean(),\n",
    "        np.median(users_in_group_p_len),\n",
    "        users_in_group_p_len.min(),\n",
    "        users_in_group_p_len.max()))\n",
    "\n",
    "    evaluator_test = EvaluatorHoldout(URM_test, cutoff_list=[10], ignore_users=users_not_in_group)\n",
    "\n",
    "    for label, recommender in recommender_object_dict.items():\n",
    "        result_df, _ = evaluator_test.evaluateRecommender(recommender)\n",
    "        if label in MAP_recommender_per_group_int:\n",
    "            MAP_recommender_per_group_int[label].append(result_df.loc[10][\"MAP\"])\n",
    "        else:\n",
    "            MAP_recommender_per_group_int[label] = [result_df.loc[10][\"MAP\"]]"
   ],
   "metadata": {
    "collapsed": false
   }
  },
  {
   "cell_type": "code",
   "execution_count": 10,
   "outputs": [
    {
     "data": {
      "text/plain": "<Figure size 1600x900 with 1 Axes>",
      "image/png": "[encoded data removed]"
     },
     "metadata": {},
     "output_type": "display_data"
    },
    {
     "name": "stdout",
     "output_type": "stream",
     "text": [
      "RP3Beta [0.004415320722926478, 0.00943619817271074, 0.025175776981349318, 0.0650962661295038]\n"
     ]
    }
   ],
   "source": [
    "_ = plt.figure(figsize=(16, 9))\n",
    "\n",
    "finalResults = {}\n",
    "\n",
    "for label, recommender in recommender_object_dict.items():\n",
    "    results = MAP_recommender_per_group_int[label]\n",
    "    finalResults[label] = results\n",
    "    plt.scatter(x=np.arange(0, len(results)), y=results, label=label)\n",
    "plt.ylabel('MAP')\n",
    "plt.xlabel('User Group')\n",
    "plt.legend()\n",
    "plt.show()\n",
    "\n",
    "for label in finalResults:\n",
    "    print(label + ' ' + str(finalResults[label]))"
   ],
   "metadata": {
    "collapsed": false
   }
  },
  {
   "cell_type": "markdown",
   "source": [
    "# 4 Blocks"
   ],
   "metadata": {
    "collapsed": false
   }
  },
  {
   "cell_type": "code",
   "execution_count": 11,
   "outputs": [
    {
     "name": "stdout",
     "output_type": "stream",
     "text": [
      "Group 0, #users in group 10407, average p.len 17.42, median 18.0, min 5, max 21\n",
      "EvaluatorHoldout: Ignoring 929 ( 2.2%) Users that have less than 1 test interactions\n",
      "EvaluatorHoldout: Ignoring 31222 Users\n",
      "EvaluatorHoldout: Processed 9707 (100.0%) in 6.12 sec. Users per second: 1585\n",
      "Group 1, #users in group 10407, average p.len 24.78, median 25.0, min 21, max 29\n",
      "EvaluatorHoldout: Ignoring 929 ( 2.2%) Users that have less than 1 test interactions\n",
      "EvaluatorHoldout: Ignoring 31222 Users\n",
      "EvaluatorHoldout: Processed 10225 (100.0%) in 6.51 sec. Users per second: 1570\n",
      "Group 2, #users in group 10407, average p.len 34.40, median 34.0, min 29, max 42\n",
      "EvaluatorHoldout: Ignoring 929 ( 2.2%) Users that have less than 1 test interactions\n",
      "EvaluatorHoldout: Ignoring 31222 Users\n",
      "EvaluatorHoldout: Processed 10361 (100.0%) in 6.95 sec. Users per second: 1491\n",
      "Group 3, #users in group 10407, average p.len 72.67, median 59.0, min 42, max 1176\n",
      "EvaluatorHoldout: Ignoring 929 ( 2.2%) Users that have less than 1 test interactions\n",
      "EvaluatorHoldout: Ignoring 31222 Users\n",
      "EvaluatorHoldout: Processed 10406 (100.0%) in 7.39 sec. Users per second: 1407\n"
     ]
    }
   ],
   "source": [
    "MAP_recommender_per_group_block = {}\n",
    "\n",
    "for group_id in range(0, 4):\n",
    "    start_pos = group_id * block_size\n",
    "    end_pos = min((group_id + 1) * block_size, len(profile_length))\n",
    "\n",
    "    users_in_group = sorted_users[start_pos:end_pos]\n",
    "\n",
    "    users_in_group_p_len = profile_length[users_in_group]\n",
    "\n",
    "    users_not_in_group_flag = np.isin(sorted_users, users_in_group, invert=True)\n",
    "    users_not_in_group = sorted_users[users_not_in_group_flag]\n",
    "\n",
    "    print(\"Group {}, #users in group {}, average p.len {:.2f}, median {}, min {}, max {}\".format(\n",
    "        group_id,\n",
    "        len(users_in_group),\n",
    "        users_in_group_p_len.mean(),\n",
    "        np.median(users_in_group_p_len),\n",
    "        users_in_group_p_len.min(),\n",
    "        users_in_group_p_len.max()))\n",
    "\n",
    "    evaluator_test = EvaluatorHoldout(URM_test, cutoff_list=[10], ignore_users=users_not_in_group)\n",
    "\n",
    "    for label, recommender in recommender_object_dict.items():\n",
    "        result_df, _ = evaluator_test.evaluateRecommender(recommender)\n",
    "        if label in MAP_recommender_per_group_block:\n",
    "            MAP_recommender_per_group_block[label].append(result_df.loc[10][\"MAP\"])\n",
    "        else:\n",
    "            MAP_recommender_per_group_block[label] = [result_df.loc[10][\"MAP\"]]"
   ],
   "metadata": {
    "collapsed": false
   }
  },
  {
   "cell_type": "code",
   "execution_count": 12,
   "outputs": [
    {
     "data": {
      "text/plain": "<Figure size 1600x900 with 1 Axes>",
      "image/png": "[encoded data removed]"
     },
     "metadata": {},
     "output_type": "display_data"
    },
    {
     "name": "stdout",
     "output_type": "stream",
     "text": [
      "RP3Beta [0.004632526682593662, 0.011767411805798022, 0.025445596505822406, 0.058247771432232635]\n"
     ]
    }
   ],
   "source": [
    "_ = plt.figure(figsize=(16, 9))\n",
    "\n",
    "finalResults = {}\n",
    "\n",
    "for label, recommender in recommender_object_dict.items():\n",
    "    results = MAP_recommender_per_group_block[label]\n",
    "    finalResults[label] = results\n",
    "    plt.scatter(x=np.arange(0, len(results)), y=results, label=label)\n",
    "plt.ylabel('MAP')\n",
    "plt.xlabel('User Group')\n",
    "plt.legend()\n",
    "plt.show()\n",
    "\n",
    "for label in finalResults:\n",
    "    print(label + ' ' + str(finalResults[label]))"
   ],
   "metadata": {
    "collapsed": false
   }
  },
  {
   "cell_type": "markdown",
   "source": [
    "# 5 blocks"
   ],
   "metadata": {
    "collapsed": false
   }
  },
  {
   "cell_type": "code",
   "execution_count": 13,
   "outputs": [
    {
     "name": "stdout",
     "output_type": "stream",
     "text": [
      "Group 0, #users in group 8325, average p.len 16.61, median 17.0, min 5, max 20\n",
      "EvaluatorHoldout: Ignoring 929 ( 2.2%) Users that have less than 1 test interactions\n",
      "EvaluatorHoldout: Ignoring 33304 Users\n",
      "EvaluatorHoldout: Processed 7709 (100.0%) in 5.05 sec. Users per second: 1528\n",
      "Group 1, #users in group 8325, average p.len 22.66, median 23.0, min 20, max 25\n",
      "EvaluatorHoldout: Ignoring 929 ( 2.2%) Users that have less than 1 test interactions\n",
      "EvaluatorHoldout: Ignoring 33304 Users\n",
      "EvaluatorHoldout: Processed 8103 (100.0%) in 6.36 sec. Users per second: 1274\n",
      "Group 2, #users in group 8325, average p.len 28.73, median 29.0, min 25, max 33\n",
      "EvaluatorHoldout: Ignoring 929 ( 2.2%) Users that have less than 1 test interactions\n",
      "EvaluatorHoldout: Ignoring 33304 Users\n",
      "EvaluatorHoldout: Processed 8250 (100.0%) in 5.60 sec. Users per second: 1473\n",
      "Group 3, #users in group 8325, average p.len 38.92, median 38.0, min 33, max 47\n",
      "EvaluatorHoldout: Ignoring 929 ( 2.2%) Users that have less than 1 test interactions\n",
      "EvaluatorHoldout: Ignoring 33304 Users\n",
      "EvaluatorHoldout: Processed 8309 (100.0%) in 5.61 sec. Users per second: 1482\n",
      "Group 4, #users in group 8325, average p.len 79.32, median 65.0, min 47, max 796\n",
      "EvaluatorHoldout: Ignoring 929 ( 2.2%) Users that have less than 1 test interactions\n",
      "EvaluatorHoldout: Ignoring 33304 Users\n",
      "EvaluatorHoldout: Processed 8325 (100.0%) in 6.21 sec. Users per second: 1341\n"
     ]
    }
   ],
   "source": [
    "MAP_recommender_per_group_block = {}\n",
    "block_size = int(len(profile_length) * 0.2)\n",
    "\n",
    "for group_id in range(0, 5):\n",
    "    start_pos = group_id * block_size\n",
    "    end_pos = min((group_id + 1) * block_size, len(profile_length))\n",
    "\n",
    "    users_in_group = sorted_users[start_pos:end_pos]\n",
    "\n",
    "    users_in_group_p_len = profile_length[users_in_group]\n",
    "\n",
    "    users_not_in_group_flag = np.isin(sorted_users, users_in_group, invert=True)\n",
    "    users_not_in_group = sorted_users[users_not_in_group_flag]\n",
    "\n",
    "    print(\"Group {}, #users in group {}, average p.len {:.2f}, median {}, min {}, max {}\".format(\n",
    "        group_id,\n",
    "        len(users_in_group),\n",
    "        users_in_group_p_len.mean(),\n",
    "        np.median(users_in_group_p_len),\n",
    "        users_in_group_p_len.min(),\n",
    "        users_in_group_p_len.max()))\n",
    "\n",
    "    evaluator_test = EvaluatorHoldout(URM_test, cutoff_list=[10], ignore_users=users_not_in_group)\n",
    "\n",
    "    for label, recommender in recommender_object_dict.items():\n",
    "        result_df, _ = evaluator_test.evaluateRecommender(recommender)\n",
    "        if label in MAP_recommender_per_group_block:\n",
    "            MAP_recommender_per_group_block[label].append(result_df.loc[10][\"MAP\"])\n",
    "        else:\n",
    "            MAP_recommender_per_group_block[label] = [result_df.loc[10][\"MAP\"]]"
   ],
   "metadata": {
    "collapsed": false
   }
  },
  {
   "cell_type": "code",
   "execution_count": 14,
   "outputs": [
    {
     "data": {
      "text/plain": "<Figure size 1600x900 with 1 Axes>",
      "image/png": "[encoded data removed]"
     },
     "metadata": {},
     "output_type": "display_data"
    },
    {
     "name": "stdout",
     "output_type": "stream",
     "text": [
      "RP3Beta [0.004244502920725542, 0.009123291589044987, 0.016884521404521305, 0.031573308346084905, 0.06318031841365232]\n"
     ]
    }
   ],
   "source": [
    "_ = plt.figure(figsize=(16, 9))\n",
    "\n",
    "finalResults = {}\n",
    "\n",
    "for label, recommender in recommender_object_dict.items():\n",
    "    results = MAP_recommender_per_group_block[label]\n",
    "    finalResults[label] = results\n",
    "    plt.scatter(x=np.arange(0, len(results)), y=results, label=label)\n",
    "plt.ylabel('MAP')\n",
    "plt.xlabel('User Group')\n",
    "plt.legend()\n",
    "plt.show()\n",
    "\n",
    "for label in finalResults:\n",
    "    print(label + ' ' + str(finalResults[label]))"
   ],
   "metadata": {
    "collapsed": false
   }
  },
  {
   "cell_type": "markdown",
   "source": [
    "# Interactions 2"
   ],
   "metadata": {
    "collapsed": false
   }
  },
  {
   "cell_type": "code",
   "execution_count": 15,
   "outputs": [
    {
     "name": "stdout",
     "output_type": "stream",
     "text": [
      "Group 0, #users in group 40536, average p.len 33.75, median 28.0, min 5, max 109\n",
      "EvaluatorHoldout: Ignoring 929 ( 2.2%) Users that have less than 1 test interactions\n",
      "EvaluatorHoldout: Ignoring 1093 Users\n",
      "EvaluatorHoldout: Processed 39607 (100.0%) in 26.47 sec. Users per second: 1496\n",
      "Group 1, #users in group 613, average p.len 125.31, median 124.0, min 110, max 149\n",
      "EvaluatorHoldout: Ignoring 929 ( 2.2%) Users that have less than 1 test interactions\n",
      "EvaluatorHoldout: Ignoring 41016 Users\n",
      "EvaluatorHoldout: Processed 613 (100.0%) in 1.94 sec. Users per second: 315\n",
      "Group 2, #users in group 480, average p.len 229.00, median 188.0, min 150, max 1206\n",
      "EvaluatorHoldout: Ignoring 929 ( 2.2%) Users that have less than 1 test interactions\n",
      "EvaluatorHoldout: Ignoring 41149 Users\n",
      "EvaluatorHoldout: Processed 480 (100.0%) in 1.79 sec. Users per second: 268\n"
     ]
    }
   ],
   "source": [
    "list_group_interactions = [[0, 109], [110, 149], [150, max(interactions)]]\n",
    "MAP_recommender_per_group_int = {}\n",
    "\n",
    "for group_id in range(0, 3):\n",
    "    lower_bound = list_group_interactions[group_id][0]\n",
    "    higher_bound = list_group_interactions[group_id][1]\n",
    "\n",
    "    users_in_group = [user_id for user_id in range(len(interactions))\n",
    "                      if (lower_bound <= interactions[user_id] <= higher_bound)]\n",
    "    users_in_group_p_len = profile_length[users_in_group]\n",
    "\n",
    "    users_not_in_group_flag = np.isin(sorted_users, users_in_group, invert=True)\n",
    "    users_not_in_group = sorted_users[users_not_in_group_flag]\n",
    "\n",
    "    print(\"Group {}, #users in group {}, average p.len {:.2f}, median {}, min {}, max {}\".format(\n",
    "        group_id,\n",
    "        len(users_in_group),\n",
    "        users_in_group_p_len.mean(),\n",
    "        np.median(users_in_group_p_len),\n",
    "        users_in_group_p_len.min(),\n",
    "        users_in_group_p_len.max()))\n",
    "\n",
    "    evaluator_test = EvaluatorHoldout(URM_test, cutoff_list=[10], ignore_users=users_not_in_group)\n",
    "\n",
    "    for label, recommender in recommender_object_dict.items():\n",
    "        result_df, _ = evaluator_test.evaluateRecommender(recommender)\n",
    "        if label in MAP_recommender_per_group_int:\n",
    "            MAP_recommender_per_group_int[label].append(result_df.loc[10][\"MAP\"])\n",
    "        else:\n",
    "            MAP_recommender_per_group_int[label] = [result_df.loc[10][\"MAP\"]]"
   ],
   "metadata": {
    "collapsed": false
   }
  },
  {
   "cell_type": "code",
   "execution_count": 16,
   "outputs": [
    {
     "data": {
      "text/plain": "<Figure size 1600x900 with 1 Axes>",
      "image/png": "[encoded data removed]"
     },
     "metadata": {},
     "output_type": "display_data"
    },
    {
     "name": "stdout",
     "output_type": "stream",
     "text": [
      "RP3Beta [0.023487581961020538, 0.08611046376136104, 0.10848850859788367]\n"
     ]
    }
   ],
   "source": [
    "_ = plt.figure(figsize=(16, 9))\n",
    "\n",
    "finalResults = {}\n",
    "\n",
    "for label, recommender in recommender_object_dict.items():\n",
    "    results = MAP_recommender_per_group_int[label]\n",
    "    finalResults[label] = results\n",
    "    plt.scatter(x=np.arange(0, len(results)), y=results, label=label)\n",
    "plt.ylabel('MAP')\n",
    "plt.xlabel('User Group')\n",
    "plt.legend()\n",
    "plt.show()\n",
    "\n",
    "for label in finalResults:\n",
    "    print(label + ' ' + str(finalResults[label]))"
   ],
   "metadata": {
    "collapsed": false
   }
  },
  {
   "cell_type": "code",
   "execution_count": 16,
   "outputs": [],
   "source": [],
   "metadata": {
    "collapsed": false
   }
  }
 ],
 "metadata": {
  "kernelspec": {
   "display_name": "Python 3",
   "language": "python",
   "name": "python3"
  },
  "language_info": {
   "codemirror_mode": {
    "name": "ipython",
    "version": 2
   },
   "file_extension": ".py",
   "mimetype": "text/x-python",
   "name": "python",
   "nbconvert_exporter": "python",
   "pygments_lexer": "ipython2",
   "version": "2.7.6"
  }
 },
 "nbformat": 4,
 "nbformat_minor": 0
}
