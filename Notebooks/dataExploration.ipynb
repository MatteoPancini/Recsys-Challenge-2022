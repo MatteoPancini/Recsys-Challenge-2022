{
 "cells": [
  {
   "cell_type": "code",
   "execution_count": 12,
   "metadata": {
    "collapsed": true
   },
   "outputs": [],
   "source": [
    "from Utils.createURM import createURM\n",
    "import pandas as pd\n",
    "import numpy as np\n",
    "import scipy.sparse as sp"
   ]
  },
  {
   "cell_type": "code",
   "execution_count": 13,
   "outputs": [
    {
     "name": "stderr",
     "output_type": "stream",
     "text": [
      "/var/folders/tt/9v6608x550n51759gpcrffsc0000gn/T/ipykernel_15183/2492280762.py:1: DtypeWarning: Columns (2) have mixed types. Specify dtype option on import or set low_memory=False.\n",
      "  dataset = pd.read_csv('../Input/interactions_and_impressions.csv')\n"
     ]
    },
    {
     "data": {
      "text/plain": "array([[0, 0, 0, ..., 0, 0, 0],\n       [0, 0, 0, ..., 0, 0, 0],\n       [0, 0, 0, ..., 0, 0, 0],\n       ...,\n       [0, 0, 0, ..., 0, 0, 0],\n       [0, 0, 0, ..., 0, 0, 0],\n       [0, 0, 0, ..., 0, 0, 0]])"
     },
     "execution_count": 13,
     "metadata": {},
     "output_type": "execute_result"
    }
   ],
   "source": [
    "dataset = pd.read_csv('../Input/interactions_and_impressions.csv')\n",
    "dataset = dataset.drop(columns=['Impressions'])\n",
    "\n",
    "datasetCOO = sp.coo_matrix((dataset[\"Data\"].values, (dataset[\"UserID\"].values, dataset[\"ItemID\"].values)))\n",
    "userIDS = dataset['UserID'].unique()\n",
    "itemIDS = dataset['ItemID'].unique()\n",
    "\n",
    "URM = np.zeros((len(userIDS), len(itemIDS)), dtype=int)\n",
    "for x in range(len(datasetCOO.data)):\n",
    "    if datasetCOO.data[x] == 0:\n",
    "        URM[datasetCOO.row[x]][datasetCOO.col[x]] = int(1)\n",
    "\n",
    "URM"
   ],
   "metadata": {
    "collapsed": false
   }
  },
  {
   "cell_type": "code",
   "execution_count": 14,
   "outputs": [
    {
     "data": {
      "text/plain": "(41629, 24507)"
     },
     "execution_count": 14,
     "metadata": {},
     "output_type": "execute_result"
    }
   ],
   "source": [
    "URM.shape"
   ],
   "metadata": {
    "collapsed": false
   }
  },
  {
   "cell_type": "code",
   "execution_count": 15,
   "outputs": [
    {
     "data": {
      "text/plain": "0            0\n1            1\n2            2\n3            3\n4            4\n         ...  \n23086    27963\n23087    27964\n23088    27965\n23089    27966\n23090    27967\nName: item_id, Length: 23091, dtype: int64"
     },
     "execution_count": 15,
     "metadata": {},
     "output_type": "execute_result"
    }
   ],
   "source": [
    "lenght = pd.read_csv('../Input/data_ICM_length.csv')\n",
    "lenght['item_id']"
   ],
   "metadata": {
    "collapsed": false
   }
  },
  {
   "cell_type": "code",
   "execution_count": 10,
   "outputs": [
    {
     "data": {
      "text/plain": "       item_id  feature_id  data\n0            0           1     1\n1            1           3     1\n2            2           4     1\n3            3           1     1\n4            4           3     1\n...        ...         ...   ...\n23086    27963           1     1\n23087    27964           2     1\n23088    27965           1     1\n23089    27966           1     1\n23090    27967           4     1\n\n[23091 rows x 3 columns]",
      "text/html": "<div>\n<style scoped>\n    .dataframe tbody tr th:only-of-type {\n        vertical-align: middle;\n    }\n\n    .dataframe tbody tr th {\n        vertical-align: top;\n    }\n\n    .dataframe thead th {\n        text-align: right;\n    }\n</style>\n<table border=\"1\" class=\"dataframe\">\n  <thead>\n    <tr style=\"text-align: right;\">\n      <th></th>\n      <th>item_id</th>\n      <th>feature_id</th>\n      <th>data</th>\n    </tr>\n  </thead>\n  <tbody>\n    <tr>\n      <th>0</th>\n      <td>0</td>\n      <td>1</td>\n      <td>1</td>\n    </tr>\n    <tr>\n      <th>1</th>\n      <td>1</td>\n      <td>3</td>\n      <td>1</td>\n    </tr>\n    <tr>\n      <th>2</th>\n      <td>2</td>\n      <td>4</td>\n      <td>1</td>\n    </tr>\n    <tr>\n      <th>3</th>\n      <td>3</td>\n      <td>1</td>\n      <td>1</td>\n    </tr>\n    <tr>\n      <th>4</th>\n      <td>4</td>\n      <td>3</td>\n      <td>1</td>\n    </tr>\n    <tr>\n      <th>...</th>\n      <td>...</td>\n      <td>...</td>\n      <td>...</td>\n    </tr>\n    <tr>\n      <th>23086</th>\n      <td>27963</td>\n      <td>1</td>\n      <td>1</td>\n    </tr>\n    <tr>\n      <th>23087</th>\n      <td>27964</td>\n      <td>2</td>\n      <td>1</td>\n    </tr>\n    <tr>\n      <th>23088</th>\n      <td>27965</td>\n      <td>1</td>\n      <td>1</td>\n    </tr>\n    <tr>\n      <th>23089</th>\n      <td>27966</td>\n      <td>1</td>\n      <td>1</td>\n    </tr>\n    <tr>\n      <th>23090</th>\n      <td>27967</td>\n      <td>4</td>\n      <td>1</td>\n    </tr>\n  </tbody>\n</table>\n<p>23091 rows × 3 columns</p>\n</div>"
     },
     "execution_count": 10,
     "metadata": {},
     "output_type": "execute_result"
    }
   ],
   "source": [
    "types = pd.read_csv('../Input/data_ICM_type.csv')\n",
    "types"
   ],
   "metadata": {
    "collapsed": false
   }
  },
  {
   "cell_type": "markdown",
   "source": [
    "## Startegia\n",
    "Una possibile strategia potrebbe essere quella di aumentare le colonne della URM fino all'item 27967 per poi trainare eventuali valori."
   ],
   "metadata": {
    "collapsed": false
   }
  },
  {
   "cell_type": "code",
   "execution_count": 31,
   "outputs": [
    {
     "name": "stderr",
     "output_type": "stream",
     "text": [
      "/var/folders/tt/9v6608x550n51759gpcrffsc0000gn/T/ipykernel_15183/2121708647.py:1: DtypeWarning: Columns (2) have mixed types. Specify dtype option on import or set low_memory=False.\n",
      "  dataset = pd.read_csv('../Input/interactions_and_impressions.csv')\n"
     ]
    },
    {
     "data": {
      "text/plain": "array([[0, 0, 0, ..., 0, 0, 0],\n       [0, 0, 0, ..., 0, 0, 0],\n       [0, 0, 0, ..., 0, 0, 0],\n       ...,\n       [0, 0, 0, ..., 0, 0, 0],\n       [0, 0, 0, ..., 0, 0, 0],\n       [0, 0, 0, ..., 0, 0, 0]])"
     },
     "execution_count": 31,
     "metadata": {},
     "output_type": "execute_result"
    }
   ],
   "source": [
    "dataset = pd.read_csv('../Input/interactions_and_impressions.csv')\n",
    "dataset = dataset.drop(columns=['Impressions'])\n",
    "\n",
    "datasetCOO = sp.coo_matrix((dataset[\"Data\"].values, (dataset[\"UserID\"].values, dataset[\"ItemID\"].values)))\n",
    "userIDS = dataset['UserID'].unique()\n",
    "itemIDS = dataset['ItemID'].unique()\n",
    "\n",
    "newURM = np.zeros((len(userIDS), 27968), dtype=int)\n",
    "for x in range(len(datasetCOO.data)):\n",
    "    if datasetCOO.data[x] == 0:\n",
    "        newURM[datasetCOO.row[x]][datasetCOO.col[x]] = int(1)\n",
    "\n",
    "newURM"
   ],
   "metadata": {
    "collapsed": false
   }
  },
  {
   "cell_type": "code",
   "execution_count": 32,
   "outputs": [
    {
     "data": {
      "text/plain": "       item_id  type\n0            0     1\n1            1     3\n2            2     4\n3            3     1\n4            4     3\n...        ...   ...\n23086    27963     1\n23087    27964     2\n23088    27965     1\n23089    27966     1\n23090    27967     4\n\n[23091 rows x 2 columns]",
      "text/html": "<div>\n<style scoped>\n    .dataframe tbody tr th:only-of-type {\n        vertical-align: middle;\n    }\n\n    .dataframe tbody tr th {\n        vertical-align: top;\n    }\n\n    .dataframe thead th {\n        text-align: right;\n    }\n</style>\n<table border=\"1\" class=\"dataframe\">\n  <thead>\n    <tr style=\"text-align: right;\">\n      <th></th>\n      <th>item_id</th>\n      <th>type</th>\n    </tr>\n  </thead>\n  <tbody>\n    <tr>\n      <th>0</th>\n      <td>0</td>\n      <td>1</td>\n    </tr>\n    <tr>\n      <th>1</th>\n      <td>1</td>\n      <td>3</td>\n    </tr>\n    <tr>\n      <th>2</th>\n      <td>2</td>\n      <td>4</td>\n    </tr>\n    <tr>\n      <th>3</th>\n      <td>3</td>\n      <td>1</td>\n    </tr>\n    <tr>\n      <th>4</th>\n      <td>4</td>\n      <td>3</td>\n    </tr>\n    <tr>\n      <th>...</th>\n      <td>...</td>\n      <td>...</td>\n    </tr>\n    <tr>\n      <th>23086</th>\n      <td>27963</td>\n      <td>1</td>\n    </tr>\n    <tr>\n      <th>23087</th>\n      <td>27964</td>\n      <td>2</td>\n    </tr>\n    <tr>\n      <th>23088</th>\n      <td>27965</td>\n      <td>1</td>\n    </tr>\n    <tr>\n      <th>23089</th>\n      <td>27966</td>\n      <td>1</td>\n    </tr>\n    <tr>\n      <th>23090</th>\n      <td>27967</td>\n      <td>4</td>\n    </tr>\n  </tbody>\n</table>\n<p>23091 rows × 2 columns</p>\n</div>"
     },
     "execution_count": 32,
     "metadata": {},
     "output_type": "execute_result"
    }
   ],
   "source": [
    "types = pd.read_csv('../Input/data_ICM_type.csv')\n",
    "types = types.drop(columns=['data'], axis=1)\n",
    "types = types.rename(columns={'feature_id': 'type'})\n",
    "types"
   ],
   "metadata": {
    "collapsed": false
   }
  },
  {
   "cell_type": "code",
   "execution_count": 42,
   "outputs": [],
   "source": [
    "typesArray = types['type'].to_numpy()\n",
    "itemsID = types['item_id'].to_numpy()"
   ],
   "metadata": {
    "collapsed": false
   }
  },
  {
   "cell_type": "code",
   "execution_count": 40,
   "outputs": [],
   "source": [
    "ICM = np.zeros((27968, 2), dtype=int)"
   ],
   "metadata": {
    "collapsed": false
   }
  },
  {
   "cell_type": "code",
   "execution_count": 43,
   "outputs": [],
   "source": [
    "for x in range(len(itemsID)):\n",
    "    ICM[itemsID[x]][0] = typesArray[x]"
   ],
   "metadata": {
    "collapsed": false
   }
  },
  {
   "cell_type": "code",
   "execution_count": 44,
   "outputs": [
    {
     "data": {
      "text/plain": "array([[1, 0],\n       [3, 0],\n       [4, 0],\n       ...,\n       [1, 0],\n       [1, 0],\n       [4, 0]])"
     },
     "execution_count": 44,
     "metadata": {},
     "output_type": "execute_result"
    }
   ],
   "source": [
    "ICM"
   ],
   "metadata": {
    "collapsed": false
   }
  },
  {
   "cell_type": "code",
   "execution_count": 50,
   "outputs": [
    {
     "data": {
      "text/plain": "       item_id  numberOfEpisodes\n0            0                 1\n1            1                 1\n2            2                21\n3            3                 1\n4            4                 1\n...        ...               ...\n23086    27963                 1\n23087    27964                 1\n23088    27965                 1\n23089    27966                 1\n23090    27967                 2\n\n[23091 rows x 2 columns]",
      "text/html": "<div>\n<style scoped>\n    .dataframe tbody tr th:only-of-type {\n        vertical-align: middle;\n    }\n\n    .dataframe tbody tr th {\n        vertical-align: top;\n    }\n\n    .dataframe thead th {\n        text-align: right;\n    }\n</style>\n<table border=\"1\" class=\"dataframe\">\n  <thead>\n    <tr style=\"text-align: right;\">\n      <th></th>\n      <th>item_id</th>\n      <th>numberOfEpisodes</th>\n    </tr>\n  </thead>\n  <tbody>\n    <tr>\n      <th>0</th>\n      <td>0</td>\n      <td>1</td>\n    </tr>\n    <tr>\n      <th>1</th>\n      <td>1</td>\n      <td>1</td>\n    </tr>\n    <tr>\n      <th>2</th>\n      <td>2</td>\n      <td>21</td>\n    </tr>\n    <tr>\n      <th>3</th>\n      <td>3</td>\n      <td>1</td>\n    </tr>\n    <tr>\n      <th>4</th>\n      <td>4</td>\n      <td>1</td>\n    </tr>\n    <tr>\n      <th>...</th>\n      <td>...</td>\n      <td>...</td>\n    </tr>\n    <tr>\n      <th>23086</th>\n      <td>27963</td>\n      <td>1</td>\n    </tr>\n    <tr>\n      <th>23087</th>\n      <td>27964</td>\n      <td>1</td>\n    </tr>\n    <tr>\n      <th>23088</th>\n      <td>27965</td>\n      <td>1</td>\n    </tr>\n    <tr>\n      <th>23089</th>\n      <td>27966</td>\n      <td>1</td>\n    </tr>\n    <tr>\n      <th>23090</th>\n      <td>27967</td>\n      <td>2</td>\n    </tr>\n  </tbody>\n</table>\n<p>23091 rows × 2 columns</p>\n</div>"
     },
     "execution_count": 50,
     "metadata": {},
     "output_type": "execute_result"
    }
   ],
   "source": [
    "lenght = pd.read_csv('../Input/data_ICM_length.csv')\n",
    "lenght = lenght.drop(columns=['feature_id'], axis=1)\n",
    "lenght = lenght.rename(columns={'data': 'numberOfEpisodes'})\n",
    "lenght"
   ],
   "metadata": {
    "collapsed": false
   }
  },
  {
   "cell_type": "code",
   "execution_count": 47,
   "outputs": [],
   "source": [
    "lenghtArray = lenght['numberOfEpisodes'].to_numpy()"
   ],
   "metadata": {
    "collapsed": false
   }
  },
  {
   "cell_type": "code",
   "execution_count": 48,
   "outputs": [],
   "source": [
    "for x in range(len(itemsID)):\n",
    "    ICM[itemsID[x]][1] = lenghtArray[x]"
   ],
   "metadata": {
    "collapsed": false
   }
  },
  {
   "cell_type": "code",
   "execution_count": 49,
   "outputs": [
    {
     "data": {
      "text/plain": "array([[ 1,  1],\n       [ 3,  1],\n       [ 4, 21],\n       ...,\n       [ 1,  1],\n       [ 1,  1],\n       [ 4,  2]])"
     },
     "execution_count": 49,
     "metadata": {},
     "output_type": "execute_result"
    }
   ],
   "source": [
    "ICM"
   ],
   "metadata": {
    "collapsed": false
   }
  },
  {
   "cell_type": "code",
   "execution_count": null,
   "outputs": [],
   "source": [],
   "metadata": {
    "collapsed": false
   }
  }
 ],
 "metadata": {
  "kernelspec": {
   "display_name": "Python 3",
   "language": "python",
   "name": "python3"
  },
  "language_info": {
   "codemirror_mode": {
    "name": "ipython",
    "version": 2
   },
   "file_extension": ".py",
   "mimetype": "text/x-python",
   "name": "python",
   "nbconvert_exporter": "python",
   "pygments_lexer": "ipython2",
   "version": "2.7.6"
  }
 },
 "nbformat": 4,
 "nbformat_minor": 0
}
