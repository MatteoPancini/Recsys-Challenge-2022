{
 "cells": [
  {
   "cell_type": "code",
   "execution_count": 1,
   "outputs": [],
   "source": [
    "from Data_manager.split_functions.split_train_validation_random_holdout import \\\n",
    "        split_train_in_two_percentage_global_sample\n",
    "from Utils.recsys2022DataReader import *"
   ],
   "metadata": {
    "collapsed": false
   }
  },
  {
   "cell_type": "code",
   "execution_count": 2,
   "outputs": [
    {
     "name": "stderr",
     "output_type": "stream",
     "text": [
      "C:\\Users\\Mike\\PycharmProjects\\recsys-challenge-2022-Pancini-Vitali\\Utils\\recsys2022DataReader.py:15: DtypeWarning: Columns (2) have mixed types. Specify dtype option on import or set low_memory=False.\n",
      "  dataset = pd.read_csv(urmPath)\n"
     ]
    }
   ],
   "source": [
    "URM = createURM()"
   ],
   "metadata": {
    "collapsed": false
   }
  },
  {
   "cell_type": "code",
   "execution_count": 6,
   "outputs": [],
   "source": [
    "ICM = createSmallICM()"
   ],
   "metadata": {
    "collapsed": false
   }
  },
  {
   "cell_type": "code",
   "execution_count": 7,
   "outputs": [
    {
     "data": {
      "text/plain": "(5, (41629,))"
     },
     "execution_count": 7,
     "metadata": {},
     "output_type": "execute_result"
    }
   ],
   "source": [
    "profile_length = np.ediff1d(URM.indptr)\n",
    "min(profile_length), profile_length.shape"
   ],
   "metadata": {
    "collapsed": false
   }
  },
  {
   "cell_type": "code",
   "execution_count": 44,
   "outputs": [
    {
     "data": {
      "text/plain": "10407"
     },
     "execution_count": 44,
     "metadata": {},
     "output_type": "execute_result"
    }
   ],
   "source": [
    "block_size = int(len(profile_length)*0.25)\n",
    "block_size"
   ],
   "metadata": {
    "collapsed": false
   }
  },
  {
   "cell_type": "code",
   "execution_count": 45,
   "outputs": [
    {
     "data": {
      "text/plain": "array([38400, 30257, 25061, ..., 19407,  8693, 12454], dtype=int64)"
     },
     "execution_count": 45,
     "metadata": {},
     "output_type": "execute_result"
    }
   ],
   "source": [
    "sorted_users = np.argsort(profile_length)\n",
    "sorted_users"
   ],
   "metadata": {
    "collapsed": false
   }
  },
  {
   "cell_type": "code",
   "execution_count": 46,
   "outputs": [
    {
     "name": "stdout",
     "output_type": "stream",
     "text": [
      "Warning: 974 (2.34 %) of 41629 users have no sampled items\n"
     ]
    }
   ],
   "source": [
    "URM_train, URM_test = split_train_in_two_percentage_global_sample(URM, train_percentage=0.85)"
   ],
   "metadata": {
    "collapsed": false
   }
  },
  {
   "cell_type": "code",
   "execution_count": 47,
   "outputs": [
    {
     "name": "stdout",
     "output_type": "stream",
     "text": [
      "Group 0, #users in group 10407, average p.len 17.42, median 18.0, min 5, max 21\n",
      "Group 1, #users in group 10407, average p.len 24.78, median 25.0, min 21, max 29\n",
      "Group 2, #users in group 10407, average p.len 34.40, median 34.0, min 29, max 42\n",
      "Group 3, #users in group 10407, average p.len 72.67, median 59.0, min 42, max 1176\n"
     ]
    }
   ],
   "source": [
    "for group_id in range(0, 4):\n",
    "    start_pos = group_id * block_size\n",
    "    end_pos = min((group_id+1) * block_size, len(profile_length))\n",
    "\n",
    "    users_in_group = sorted_users[start_pos:end_pos]\n",
    "\n",
    "    users_in_group_p_len = profile_length[users_in_group]\n",
    "\n",
    "    print(\"Group {}, #users in group {}, average p.len {:.2f}, median {}, min {}, max {}\".format(\n",
    "        group_id,\n",
    "        users_in_group.shape[0],\n",
    "        users_in_group_p_len.mean(),\n",
    "        np.median(users_in_group_p_len),\n",
    "        users_in_group_p_len.min(),\n",
    "        users_in_group_p_len.max()))"
   ],
   "metadata": {
    "collapsed": false
   }
  },
  {
   "cell_type": "code",
   "execution_count": 48,
   "outputs": [
    {
     "name": "stderr",
     "output_type": "stream",
     "text": [
      "Done: 100%|██████████| 24507/24507 [00:03<00:00, 6221.19it/s]            \n"
     ]
    },
    {
     "name": "stdout",
     "output_type": "stream",
     "text": [
      "P3alphaRecommender: Similarity column 24507 (100.0%), 2295.55 column/sec. Elapsed time 10.68 sec\n",
      "RP3betaRecommender: Similarity column 24507 (100.0%), 2494.23 column/sec. Elapsed time 9.83 sec\n"
     ]
    },
    {
     "data": {
      "text/plain": "  0%|          | 0/94 [00:00<?, ?it/s]",
      "application/vnd.jupyter.widget-view+json": {
       "version_major": 2,
       "version_minor": 0,
       "model_id": "a242055c745548aba4fc8e6227203c5e"
      }
     },
     "metadata": {},
     "output_type": "display_data"
    },
    {
     "name": "stderr",
     "output_type": "stream",
     "text": [
      "100%|█████████▉| 24504/24507 [10:11<00:00, 40.10it/s]\n"
     ]
    }
   ],
   "source": [
    "from Recommenders.NonPersonalizedRecommender import TopPop\n",
    "from Recommenders.KNN.ItemKNNCFRecommenderPLUS import ItemKNNCFRecommender\n",
    "from Recommenders.SLIM.SLIMElasticNetRecommender import MultiThreadSLIM_SLIMElasticNetRecommender\n",
    "from Recommenders.GraphBased.P3alphaRecommender import P3alphaRecommender\n",
    "from Recommenders.GraphBased.RP3betaRecommender import RP3betaRecommender\n",
    "from Recommenders.Implicit.ImplicitALSRecommender import ImplicitALSRecommender\n",
    "\n",
    "MAP_recommender_per_group = {}\n",
    "\n",
    "collaborative_recommender_class = {\"TopPop\": TopPop,\n",
    "                                   \"ItemKNNCF\": ItemKNNCFRecommender,\n",
    "                                   \"P3alpha\": P3alphaRecommender,\n",
    "                                   \"RP3beta\": RP3betaRecommender,\n",
    "                                   \"ImplicitALSRecommender\": ImplicitALSRecommender,\n",
    "                                   \"SlimElasticNet\": MultiThreadSLIM_SLIMElasticNetRecommender,\n",
    "                                   }\n",
    "\n",
    "recommender_object_dict = {}\n",
    "\n",
    "for label, recommender_class in collaborative_recommender_class.items():\n",
    "    recommender_object = recommender_class(URM_train)\n",
    "    if(label == 'ItemKNNCF'):\n",
    "        recommender_object.fit(ICM=ICM*58, shrink=1665.2431108249625, topK=3228, similarity='dice', feature_weighting='bm25', normalization='bm25')\n",
    "    elif(label == 'P3alpha'):\n",
    "        recommender_object.fit(topK=218, alpha=0.8561168568686058)\n",
    "    elif(label == 'RP3beta'):\n",
    "        recommender_object.fit(alpha=0.5126756776495514, beta=0.396119587486951, topK=100)\n",
    "    elif(label == 'ImplicitALSRecommender'):\n",
    "        recommender_object.fit(iterations=94, factors=287, alpha=10, regularization=0.01)\n",
    "    elif(label == 'SlimElasticNet'):\n",
    "        recommender_object.fit(topK=359, alpha=0.04183472018614359, l1_ratio=0.03260349571135893)\n",
    "    else:\n",
    "        recommender_object.fit()\n",
    "\n",
    "\n",
    "    recommender_object_dict[label] = recommender_object"
   ],
   "metadata": {
    "collapsed": false
   }
  },
  {
   "cell_type": "code",
   "execution_count": 49,
   "outputs": [
    {
     "name": "stdout",
     "output_type": "stream",
     "text": [
      "Group 0, #users in group 10407, average p.len 17.42, median 18.0, min 5, max 21\n",
      "EvaluatorHoldout: Ignoring 974 ( 2.3%) Users that have less than 1 test interactions\n",
      "EvaluatorHoldout: Ignoring 31222 Users\n",
      "EvaluatorHoldout: Ignoring 31222 Users\n",
      "EvaluatorHoldout: Processed 9699 (100.0%) in 6.64 sec. Users per second: 1461\n",
      "EvaluatorHoldout: Processed 9699 (100.0%) in 9.72 sec. Users per second: 998\n",
      "EvaluatorHoldout: Processed 9699 (100.0%) in 5.75 sec. Users per second: 1687\n",
      "EvaluatorHoldout: Processed 9699 (100.0%) in 5.77 sec. Users per second: 1682\n",
      "EvaluatorHoldout: Processed 9699 (100.0%) in 7.67 sec. Users per second: 1264\n",
      "EvaluatorHoldout: Processed 9699 (100.0%) in 6.17 sec. Users per second: 1573\n",
      "Group 1, #users in group 10407, average p.len 24.78, median 25.0, min 21, max 29\n",
      "EvaluatorHoldout: Ignoring 974 ( 2.3%) Users that have less than 1 test interactions\n",
      "EvaluatorHoldout: Ignoring 31222 Users\n",
      "EvaluatorHoldout: Ignoring 31222 Users\n",
      "EvaluatorHoldout: Processed 10190 (100.0%) in 7.01 sec. Users per second: 1454\n",
      "EvaluatorHoldout: Processed 10190 (100.0%) in 11.36 sec. Users per second: 897\n",
      "EvaluatorHoldout: Processed 10190 (100.0%) in 6.22 sec. Users per second: 1639\n",
      "EvaluatorHoldout: Processed 10190 (100.0%) in 6.11 sec. Users per second: 1669\n",
      "EvaluatorHoldout: Processed 10190 (100.0%) in 7.90 sec. Users per second: 1290\n",
      "EvaluatorHoldout: Processed 10190 (100.0%) in 7.24 sec. Users per second: 1407\n",
      "Group 2, #users in group 10407, average p.len 34.40, median 34.0, min 29, max 42\n",
      "EvaluatorHoldout: Ignoring 974 ( 2.3%) Users that have less than 1 test interactions\n",
      "EvaluatorHoldout: Ignoring 31222 Users\n",
      "EvaluatorHoldout: Ignoring 31222 Users\n",
      "EvaluatorHoldout: Processed 10361 (100.0%) in 7.05 sec. Users per second: 1470\n",
      "EvaluatorHoldout: Processed 10361 (100.0%) in 12.75 sec. Users per second: 812\n",
      "EvaluatorHoldout: Processed 10361 (100.0%) in 6.54 sec. Users per second: 1584\n",
      "EvaluatorHoldout: Processed 10361 (100.0%) in 6.45 sec. Users per second: 1606\n",
      "EvaluatorHoldout: Processed 10361 (100.0%) in 8.27 sec. Users per second: 1253\n",
      "EvaluatorHoldout: Processed 10361 (100.0%) in 8.33 sec. Users per second: 1244\n",
      "Group 3, #users in group 10407, average p.len 72.67, median 59.0, min 42, max 1176\n",
      "EvaluatorHoldout: Ignoring 974 ( 2.3%) Users that have less than 1 test interactions\n",
      "EvaluatorHoldout: Ignoring 31222 Users\n",
      "EvaluatorHoldout: Ignoring 31222 Users\n",
      "EvaluatorHoldout: Processed 10404 (100.0%) in 7.17 sec. Users per second: 1451\n",
      "EvaluatorHoldout: Processed 10404 (100.0%) in 16.05 sec. Users per second: 648\n",
      "EvaluatorHoldout: Processed 10404 (100.0%) in 6.98 sec. Users per second: 1491\n",
      "EvaluatorHoldout: Processed 10404 (100.0%) in 6.82 sec. Users per second: 1526\n",
      "EvaluatorHoldout: Processed 10404 (100.0%) in 8.35 sec. Users per second: 1246\n",
      "EvaluatorHoldout: Processed 10404 (100.0%) in 9.78 sec. Users per second: 1064\n"
     ]
    }
   ],
   "source": [
    "cutoff = 10\n",
    "from Evaluation.Evaluator import EvaluatorHoldout\n",
    "from Evaluation.Evaluator_IALS import EvaluatorHoldout as EIALS\n",
    "\n",
    "for group_id in range(0, 4):\n",
    "\n",
    "    start_pos = group_id*block_size\n",
    "    end_pos = min((group_id+1)*block_size, len(profile_length))\n",
    "\n",
    "    users_in_group = sorted_users[start_pos:end_pos]\n",
    "\n",
    "    users_in_group_p_len = profile_length[users_in_group]\n",
    "\n",
    "    print(\"Group {}, #users in group {}, average p.len {:.2f}, median {}, min {}, max {}\".format(\n",
    "        group_id,\n",
    "        users_in_group.shape[0],\n",
    "        users_in_group_p_len.mean(),\n",
    "        np.median(users_in_group_p_len),\n",
    "        users_in_group_p_len.min(),\n",
    "        users_in_group_p_len.max()))\n",
    "\n",
    "\n",
    "    users_not_in_group_flag = np.isin(sorted_users, users_in_group, invert=True)\n",
    "    users_not_in_group = sorted_users[users_not_in_group_flag]\n",
    "\n",
    "    evaluator_test = EvaluatorHoldout(URM_test, cutoff_list=[cutoff], ignore_users=users_not_in_group)\n",
    "    evaluator_test_IALS = EIALS(URM_test, cutoff_list=[cutoff], ignore_users=users_not_in_group)\n",
    "\n",
    "    for label, recommender in recommender_object_dict.items():\n",
    "        result_df, _ = evaluator_test.evaluateRecommender(recommender)\n",
    "        if label in MAP_recommender_per_group:\n",
    "            MAP_recommender_per_group[label].append(result_df.loc[cutoff][\"MAP\"])\n",
    "        else:\n",
    "            MAP_recommender_per_group[label] = [result_df.loc[cutoff][\"MAP\"]]"
   ],
   "metadata": {
    "collapsed": false
   }
  },
  {
   "cell_type": "code",
   "execution_count": 50,
   "outputs": [
    {
     "data": {
      "text/plain": "<Figure size 1600x900 with 1 Axes>",
      "image/png": "[encoded data removed]"
     },
     "metadata": {},
     "output_type": "display_data"
    }
   ],
   "source": [
    "import matplotlib.pyplot as plt\n",
    "%matplotlib inline\n",
    "\n",
    "_ = plt.figure(figsize=(16, 9))\n",
    "for label, recommender in recommender_object_dict.items():\n",
    "    results = MAP_recommender_per_group[label]\n",
    "    plt.scatter(x=np.arange(0,len(results)), y=results, label=label)\n",
    "plt.ylabel('MAP')\n",
    "plt.xlabel('User Group')\n",
    "plt.legend()\n",
    "plt.show()"
   ],
   "metadata": {
    "collapsed": false
   }
  }
 ],
 "metadata": {
  "kernelspec": {
   "display_name": "Python 3",
   "language": "python",
   "name": "python3"
  },
  "language_info": {
   "codemirror_mode": {
    "name": "ipython",
    "version": 2
   },
   "file_extension": ".py",
   "mimetype": "text/x-python",
   "name": "python",
   "nbconvert_exporter": "python",
   "pygments_lexer": "ipython2",
   "version": "2.7.6"
  }
 },
 "nbformat": 4,
 "nbformat_minor": 0
}
