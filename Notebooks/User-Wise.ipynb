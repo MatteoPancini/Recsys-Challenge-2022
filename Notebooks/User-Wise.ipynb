{
 "cells": [
  {
   "cell_type": "code",
   "execution_count": 1,
   "outputs": [],
   "source": [
    "import numpy as np\n",
    "import seaborn as sb\n",
    "\n",
    "from Data_manager.split_functions.split_train_validation_random_holdout import \\\n",
    "        split_train_in_two_percentage_global_sample\n",
    "from Utils.recsys2022DataReader import *\n",
    "import matplotlib.pyplot as plt"
   ],
   "metadata": {
    "collapsed": false
   }
  },
  {
   "cell_type": "code",
   "execution_count": 2,
   "outputs": [
    {
     "name": "stderr",
     "output_type": "stream",
     "text": [
      "C:\\Users\\Mike\\PycharmProjects\\recsys-challenge-2022-Pancini-Vitali\\Utils\\recsys2022DataReader.py:15: DtypeWarning: Columns (2) have mixed types. Specify dtype option on import or set low_memory=False.\n",
      "  dataset = pd.read_csv(urmPath)\n"
     ]
    }
   ],
   "source": [
    "URM = createURM()"
   ],
   "metadata": {
    "collapsed": false
   }
  },
  {
   "cell_type": "code",
   "execution_count": 3,
   "outputs": [],
   "source": [
    "ICM = createSmallICM()"
   ],
   "metadata": {
    "collapsed": false
   }
  },
  {
   "cell_type": "code",
   "execution_count": 4,
   "outputs": [
    {
     "data": {
      "text/plain": "(array([ 66,  21, 103, ...,  23,  53,  23], dtype=int32), (41629,))"
     },
     "execution_count": 4,
     "metadata": {},
     "output_type": "execute_result"
    }
   ],
   "source": [
    "profile_length = np.ediff1d(URM.indptr)\n",
    "profile_length, profile_length.shape"
   ],
   "metadata": {
    "collapsed": false
   }
  },
  {
   "cell_type": "code",
   "execution_count": 5,
   "outputs": [
    {
     "data": {
      "text/plain": "10407"
     },
     "execution_count": 5,
     "metadata": {},
     "output_type": "execute_result"
    }
   ],
   "source": [
    "block_size = int(len(profile_length)*0.25)\n",
    "block_size"
   ],
   "metadata": {
    "collapsed": false
   }
  },
  {
   "cell_type": "code",
   "execution_count": 6,
   "outputs": [
    {
     "data": {
      "text/plain": "array([38400, 30257, 25061, ..., 19407,  8693, 12454], dtype=int64)"
     },
     "execution_count": 6,
     "metadata": {},
     "output_type": "execute_result"
    }
   ],
   "source": [
    "sorted_users = np.argsort(profile_length)\n",
    "sorted_users"
   ],
   "metadata": {
    "collapsed": false
   }
  },
  {
   "cell_type": "code",
   "execution_count": 7,
   "outputs": [
    {
     "name": "stdout",
     "output_type": "stream",
     "text": [
      "Warning: 940 (2.26 %) of 41629 users have no sampled items\n"
     ]
    }
   ],
   "source": [
    "URM_train, URM_test = split_train_in_two_percentage_global_sample(URM, train_percentage=0.85)"
   ],
   "metadata": {
    "collapsed": false
   }
  },
  {
   "cell_type": "code",
   "execution_count": 8,
   "outputs": [
    {
     "data": {
      "text/plain": "<AxesSubplot:ylabel='Count'>"
     },
     "execution_count": 8,
     "metadata": {},
     "output_type": "execute_result"
    },
    {
     "data": {
      "text/plain": "<Figure size 640x480 with 1 Axes>",
      "image/png": "[encoded data removed]"
     },
     "metadata": {},
     "output_type": "display_data"
    }
   ],
   "source": [
    "interactions = []\n",
    "for i in range(41629):\n",
    "    interactions.append(len(URM[i,:].nonzero()[0]))\n",
    "\n",
    "#interactions = np.array(inter).sort()\n",
    "interactions_to_plot = sorted(interactions)[:40000]\n",
    "\n",
    "sb.histplot(interactions_to_plot)"
   ],
   "metadata": {
    "collapsed": false
   }
  },
  {
   "cell_type": "code",
   "execution_count": 24,
   "outputs": [
    {
     "name": "stderr",
     "output_type": "stream",
     "text": [
      "Done: 100%|██████████| 24507/24507 [00:00<00:00, 30146.26it/s]            \n"
     ]
    },
    {
     "name": "stdout",
     "output_type": "stream",
     "text": [
      "P3alphaRecommender: Similarity column 24507 (100.0%), 2355.01 column/sec. Elapsed time 10.41 sec\n",
      "RP3betaRecommender: Similarity column 24507 (100.0%), 2803.11 column/sec. Elapsed time 8.74 sec\n"
     ]
    },
    {
     "data": {
      "text/plain": "  0%|          | 0/94 [00:00<?, ?it/s]",
      "application/vnd.jupyter.widget-view+json": {
       "version_major": 2,
       "version_minor": 0,
       "model_id": "247a8953b7564c5ba8c240ac3570bae8"
      }
     },
     "metadata": {},
     "output_type": "display_data"
    }
   ],
   "source": [
    "from Recommenders.NonPersonalizedRecommender import TopPop\n",
    "from Recommenders.KNN.ItemKNNCFRecommenderPLUS import ItemKNNCFRecommender\n",
    "from Recommenders.SLIM.SLIMElasticNetRecommender import MultiThreadSLIM_SLIMElasticNetRecommender\n",
    "from Recommenders.GraphBased.P3alphaRecommender import P3alphaRecommender\n",
    "from Recommenders.GraphBased.RP3betaRecommender import RP3betaRecommender\n",
    "from Recommenders.Implicit.ImplicitALSRecommender import ImplicitALSRecommender\n",
    "\n",
    "MAP_recommender_per_group = {}\n",
    "\n",
    "collaborative_recommender_class = {\"TopPop\": TopPop,\n",
    "                                   \"ItemKNNCF\": ItemKNNCFRecommender,\n",
    "                                   \"P3alpha\": P3alphaRecommender,\n",
    "                                   \"RP3beta\": RP3betaRecommender,\n",
    "                                   \"ImplicitALSRecommender\": ImplicitALSRecommender,\n",
    "                                   #\"SlimElasticNet\": MultiThreadSLIM_SLIMElasticNetRecommender,\n",
    "                                   }\n",
    "\n",
    "recommender_object_dict = {}\n",
    "\n",
    "for label, recommender_class in collaborative_recommender_class.items():\n",
    "    recommender_object = recommender_class(URM_train)\n",
    "    if(label == 'ItemKNNCF'):\n",
    "        recommender_object.fit(ICM=ICM*53, shrink=15.254006295776568, topK=235, similarity='rp3beta', normalization='tfidf')\n",
    "    elif(label == 'P3alpha'):\n",
    "        recommender_object.fit(topK=218, alpha=0.8561168568686058)\n",
    "    elif(label == 'RP3beta'):\n",
    "        recommender_object.fit(alpha=0.5126756776495514, beta=0.396119587486951, topK=100)\n",
    "    elif(label == 'ImplicitALSRecommender'):\n",
    "        recommender_object.fit(iterations=94, factors=287, alpha=10, regularization=0.01)\n",
    "    elif(label == 'SlimElasticNet'):\n",
    "        recommender_object.fit(topK=359, alpha=0.04183472018614359, l1_ratio=0.03260349571135893)\n",
    "    else:\n",
    "        recommender_object.fit()\n",
    "\n",
    "    recommender_object_dict[label] = recommender_object"
   ],
   "metadata": {
    "collapsed": false
   }
  },
  {
   "cell_type": "code",
   "execution_count": 28,
   "outputs": [
    {
     "name": "stdout",
     "output_type": "stream",
     "text": [
      "Evaluating group: 0\n",
      "EvaluatorHoldout: Ignoring 902 ( 2.2%) Users that have less than 1 test interactions\n",
      "EvaluatorHoldout: Ignoring 32533 Users\n",
      "EvaluatorHoldout: Processed 8454 (100.0%) in 6.28 sec. Users per second: 1347\n",
      "EvaluatorHoldout: Processed 8454 (100.0%) in 5.62 sec. Users per second: 1504\n",
      "EvaluatorHoldout: Processed 8454 (100.0%) in 5.25 sec. Users per second: 1610\n",
      "EvaluatorHoldout: Processed 8454 (100.0%) in 5.23 sec. Users per second: 1617\n",
      "EvaluatorHoldout: Processed 8454 (100.0%) in 6.41 sec. Users per second: 1319\n",
      "Evaluating group: 1\n",
      "EvaluatorHoldout: Ignoring 902 ( 2.2%) Users that have less than 1 test interactions\n",
      "EvaluatorHoldout: Ignoring 33938 Users\n",
      "EvaluatorHoldout: Processed 7531 (100.0%) in 5.42 sec. Users per second: 1388\n",
      "EvaluatorHoldout: Processed 7531 (100.0%) in 5.40 sec. Users per second: 1394\n",
      "EvaluatorHoldout: Processed 7531 (100.0%) in 5.37 sec. Users per second: 1403\n",
      "EvaluatorHoldout: Processed 7531 (100.0%) in 5.04 sec. Users per second: 1495\n",
      "EvaluatorHoldout: Processed 7531 (100.0%) in 6.07 sec. Users per second: 1240\n",
      "Evaluating group: 2\n",
      "EvaluatorHoldout: Ignoring 902 ( 2.2%) Users that have less than 1 test interactions\n",
      "EvaluatorHoldout: Ignoring 24399 Users\n",
      "EvaluatorHoldout: Processed 17130 (100.0%) in 11.12 sec. Users per second: 1541\n"
     ]
    },
    {
     "ename": "KeyboardInterrupt",
     "evalue": "",
     "output_type": "error",
     "traceback": [
      "\u001B[1;31m---------------------------------------------------------------------------\u001B[0m",
      "\u001B[1;31mKeyboardInterrupt\u001B[0m                         Traceback (most recent call last)",
      "Input \u001B[1;32mIn [28]\u001B[0m, in \u001B[0;36m<cell line: 5>\u001B[1;34m()\u001B[0m\n\u001B[0;32m     17\u001B[0m evaluator_test \u001B[38;5;241m=\u001B[39m EvaluatorHoldout(URM_test, cutoff_list\u001B[38;5;241m=\u001B[39m[cutoff], ignore_users\u001B[38;5;241m=\u001B[39musers_not_in_group)\n\u001B[0;32m     19\u001B[0m \u001B[38;5;28;01mfor\u001B[39;00m label, recommender \u001B[38;5;129;01min\u001B[39;00m recommender_object_dict\u001B[38;5;241m.\u001B[39mitems():\n\u001B[1;32m---> 20\u001B[0m     result_df, _ \u001B[38;5;241m=\u001B[39m \u001B[43mevaluator_test\u001B[49m\u001B[38;5;241;43m.\u001B[39;49m\u001B[43mevaluateRecommender\u001B[49m\u001B[43m(\u001B[49m\u001B[43mrecommender\u001B[49m\u001B[43m)\u001B[49m\n\u001B[0;32m     21\u001B[0m     \u001B[38;5;28;01mif\u001B[39;00m label \u001B[38;5;129;01min\u001B[39;00m MAP_recommender_per_group:\n\u001B[0;32m     22\u001B[0m         MAP_recommender_per_group[label]\u001B[38;5;241m.\u001B[39mappend(result_df\u001B[38;5;241m.\u001B[39mloc[cutoff][\u001B[38;5;124m\"\u001B[39m\u001B[38;5;124mMAP\u001B[39m\u001B[38;5;124m\"\u001B[39m])\n",
      "File \u001B[1;32m~\\PycharmProjects\\recsys-challenge-2022-Pancini-Vitali\\Evaluation\\Evaluator.py:276\u001B[0m, in \u001B[0;36mEvaluator.evaluateRecommender\u001B[1;34m(self, recommender_object)\u001B[0m\n\u001B[0;32m    273\u001B[0m \u001B[38;5;28mself\u001B[39m\u001B[38;5;241m.\u001B[39m_start_time_print \u001B[38;5;241m=\u001B[39m time\u001B[38;5;241m.\u001B[39mtime()\n\u001B[0;32m    274\u001B[0m \u001B[38;5;28mself\u001B[39m\u001B[38;5;241m.\u001B[39m_n_users_evaluated \u001B[38;5;241m=\u001B[39m \u001B[38;5;241m0\u001B[39m\n\u001B[1;32m--> 276\u001B[0m results_dict \u001B[38;5;241m=\u001B[39m \u001B[38;5;28;43mself\u001B[39;49m\u001B[38;5;241;43m.\u001B[39;49m\u001B[43m_run_evaluation_on_selected_users\u001B[49m\u001B[43m(\u001B[49m\u001B[43mrecommender_object\u001B[49m\u001B[43m,\u001B[49m\u001B[43m \u001B[49m\u001B[38;5;28;43mself\u001B[39;49m\u001B[38;5;241;43m.\u001B[39;49m\u001B[43musers_to_evaluate\u001B[49m\u001B[43m)\u001B[49m\n\u001B[0;32m    279\u001B[0m \u001B[38;5;28;01mif\u001B[39;00m \u001B[38;5;28mself\u001B[39m\u001B[38;5;241m.\u001B[39m_n_users_evaluated \u001B[38;5;241m>\u001B[39m \u001B[38;5;241m0\u001B[39m:\n\u001B[0;32m    281\u001B[0m     \u001B[38;5;28;01mfor\u001B[39;00m cutoff \u001B[38;5;129;01min\u001B[39;00m \u001B[38;5;28mself\u001B[39m\u001B[38;5;241m.\u001B[39mcutoff_list:\n",
      "File \u001B[1;32m~\\PycharmProjects\\recsys-challenge-2022-Pancini-Vitali\\Evaluation\\Evaluator.py:484\u001B[0m, in \u001B[0;36mEvaluatorHoldout._run_evaluation_on_selected_users\u001B[1;34m(self, recommender_object, users_to_evaluate, block_size)\u001B[0m\n\u001B[0;32m    475\u001B[0m     \u001B[38;5;66;03m# Compute predictions for a batch of users using vectorization, much more efficient than computing it one at a time\u001B[39;00m\n\u001B[0;32m    476\u001B[0m     recommended_items_batch_list, scores_batch \u001B[38;5;241m=\u001B[39m recommender_object\u001B[38;5;241m.\u001B[39mrecommend(test_user_batch_array,\n\u001B[0;32m    477\u001B[0m                                                               remove_seen_flag\u001B[38;5;241m=\u001B[39m\u001B[38;5;28mself\u001B[39m\u001B[38;5;241m.\u001B[39mexclude_seen,\n\u001B[0;32m    478\u001B[0m                                                               cutoff \u001B[38;5;241m=\u001B[39m \u001B[38;5;28mself\u001B[39m\u001B[38;5;241m.\u001B[39mmax_cutoff,\n\u001B[1;32m   (...)\u001B[0m\n\u001B[0;32m    481\u001B[0m                                                               return_scores \u001B[38;5;241m=\u001B[39m \u001B[38;5;28;01mTrue\u001B[39;00m\n\u001B[0;32m    482\u001B[0m                                                              )\n\u001B[1;32m--> 484\u001B[0m     results_dict \u001B[38;5;241m=\u001B[39m \u001B[38;5;28;43mself\u001B[39;49m\u001B[38;5;241;43m.\u001B[39;49m\u001B[43m_compute_metrics_on_recommendation_list\u001B[49m\u001B[43m(\u001B[49m\u001B[43mtest_user_batch_array\u001B[49m\u001B[43m \u001B[49m\u001B[38;5;241;43m=\u001B[39;49m\u001B[43m \u001B[49m\u001B[43mtest_user_batch_array\u001B[49m\u001B[43m,\u001B[49m\n\u001B[0;32m    485\u001B[0m \u001B[43m                                                 \u001B[49m\u001B[43mrecommended_items_batch_list\u001B[49m\u001B[43m \u001B[49m\u001B[38;5;241;43m=\u001B[39;49m\u001B[43m \u001B[49m\u001B[43mrecommended_items_batch_list\u001B[49m\u001B[43m,\u001B[49m\n\u001B[0;32m    486\u001B[0m \u001B[43m                                                 \u001B[49m\u001B[43mscores_batch\u001B[49m\u001B[43m \u001B[49m\u001B[38;5;241;43m=\u001B[39;49m\u001B[43m \u001B[49m\u001B[43mscores_batch\u001B[49m\u001B[43m,\u001B[49m\n\u001B[0;32m    487\u001B[0m \u001B[43m                                                 \u001B[49m\u001B[43mresults_dict\u001B[49m\u001B[43m \u001B[49m\u001B[38;5;241;43m=\u001B[39;49m\u001B[43m \u001B[49m\u001B[43mresults_dict\u001B[49m\u001B[43m)\u001B[49m\n\u001B[0;32m    490\u001B[0m \u001B[38;5;28;01mreturn\u001B[39;00m results_dict\n",
      "File \u001B[1;32m~\\PycharmProjects\\recsys-challenge-2022-Pancini-Vitali\\Evaluation\\Evaluator.py:389\u001B[0m, in \u001B[0;36mEvaluator._compute_metrics_on_recommendation_list\u001B[1;34m(self, test_user_batch_array, recommended_items_batch_list, scores_batch, results_dict)\u001B[0m\n\u001B[0;32m    387\u001B[0m results_current_cutoff[EvaluatorMetrics\u001B[38;5;241m.\u001B[39mRATIO_SHANNON_ENTROPY\u001B[38;5;241m.\u001B[39mvalue]\u001B[38;5;241m.\u001B[39madd_recommendations(recommended_items_current_cutoff)\n\u001B[0;32m    388\u001B[0m results_current_cutoff[EvaluatorMetrics\u001B[38;5;241m.\u001B[39mRATIO_DIVERSITY_HERFINDAHL\u001B[38;5;241m.\u001B[39mvalue]\u001B[38;5;241m.\u001B[39madd_recommendations(recommended_items_current_cutoff)\n\u001B[1;32m--> 389\u001B[0m \u001B[43mresults_current_cutoff\u001B[49m\u001B[43m[\u001B[49m\u001B[43mEvaluatorMetrics\u001B[49m\u001B[38;5;241;43m.\u001B[39;49m\u001B[43mRATIO_DIVERSITY_GINI\u001B[49m\u001B[38;5;241;43m.\u001B[39;49m\u001B[43mvalue\u001B[49m\u001B[43m]\u001B[49m\u001B[38;5;241;43m.\u001B[39;49m\u001B[43madd_recommendations\u001B[49m\u001B[43m(\u001B[49m\u001B[43mrecommended_items_current_cutoff\u001B[49m\u001B[43m)\u001B[49m\n\u001B[0;32m    390\u001B[0m results_current_cutoff[EvaluatorMetrics\u001B[38;5;241m.\u001B[39mRATIO_NOVELTY\u001B[38;5;241m.\u001B[39mvalue]\u001B[38;5;241m.\u001B[39madd_recommendations(recommended_items_current_cutoff)\n\u001B[0;32m    391\u001B[0m results_current_cutoff[EvaluatorMetrics\u001B[38;5;241m.\u001B[39mRATIO_AVERAGE_POPULARITY\u001B[38;5;241m.\u001B[39mvalue]\u001B[38;5;241m.\u001B[39madd_recommendations(recommended_items_current_cutoff)\n",
      "File \u001B[1;32m~\\PycharmProjects\\recsys-challenge-2022-Pancini-Vitali\\Evaluation\\metrics.py:299\u001B[0m, in \u001B[0;36m_Global_Item_Distribution_Counter.add_recommendations\u001B[1;34m(self, recommended_items_ids)\u001B[0m\n\u001B[0;32m    297\u001B[0m \u001B[38;5;28;01mdef\u001B[39;00m \u001B[38;5;21madd_recommendations\u001B[39m(\u001B[38;5;28mself\u001B[39m, recommended_items_ids):\n\u001B[0;32m    298\u001B[0m     \u001B[38;5;28;01mif\u001B[39;00m \u001B[38;5;28mlen\u001B[39m(recommended_items_ids) \u001B[38;5;241m>\u001B[39m \u001B[38;5;241m0\u001B[39m:\n\u001B[1;32m--> 299\u001B[0m         \u001B[38;5;28mself\u001B[39m\u001B[38;5;241m.\u001B[39mrecommended_counter[recommended_items_ids] \u001B[38;5;241m+\u001B[39m\u001B[38;5;241m=\u001B[39m \u001B[38;5;241m1\u001B[39m\n",
      "\u001B[1;31mKeyboardInterrupt\u001B[0m: "
     ]
    }
   ],
   "source": [
    "cutoff = 10\n",
    "from Evaluation.Evaluator import EvaluatorHoldout\n",
    "\n",
    "list_group_interactions = [[0, 20] , [21, 25], [26, 49], [50, max(interactions)]]\n",
    "for group_id in range(0, 4):\n",
    "    lower_bound = list_group_interactions[group_id][0]\n",
    "    higher_bound = list_group_interactions[group_id][1]\n",
    "\n",
    "    users_in_group = [user_id for user_id in range(len(interactions)) if (lower_bound <= interactions[user_id] <= higher_bound)]\n",
    "    users_in_group_p_len = profile_length[users_in_group]\n",
    "\n",
    "    users_not_in_group_flag = np.isin(sorted_users, users_in_group, invert=True)\n",
    "    users_not_in_group = sorted_users[users_not_in_group_flag]\n",
    "\n",
    "    print(f\"Evaluating group: {group_id}\")\n",
    "\n",
    "    evaluator_test = EvaluatorHoldout(URM_test, cutoff_list=[cutoff], ignore_users=users_not_in_group)\n",
    "\n",
    "    for label, recommender in recommender_object_dict.items():\n",
    "        result_df, _ = evaluator_test.evaluateRecommender(recommender)\n",
    "        if label in MAP_recommender_per_group:\n",
    "            MAP_recommender_per_group[label].append(result_df.loc[cutoff][\"MAP\"])\n",
    "        else:\n",
    "            MAP_recommender_per_group[label] = [result_df.loc[cutoff][\"MAP\"]]"
   ],
   "metadata": {
    "collapsed": false
   }
  },
  {
   "cell_type": "code",
   "execution_count": 26,
   "outputs": [
    {
     "data": {
      "text/plain": "<Figure size 1600x900 with 1 Axes>",
      "image/png": "[encoded data removed]"
     },
     "metadata": {},
     "output_type": "display_data"
    }
   ],
   "source": [
    "import matplotlib.pyplot as plt\n",
    "%matplotlib inline\n",
    "\n",
    "_ = plt.figure(figsize=(16, 9))\n",
    "for label, recommender in recommender_object_dict.items():\n",
    "    results = MAP_recommender_per_group[label]\n",
    "    plt.scatter(x=np.arange(0,len(results)), y=results, label=label)\n",
    "plt.ylabel('MAP')\n",
    "plt.xlabel('User Group')\n",
    "plt.legend()\n",
    "plt.show()"
   ],
   "metadata": {
    "collapsed": false
   }
  },
  {
   "cell_type": "code",
   "execution_count": null,
   "outputs": [],
   "source": [],
   "metadata": {
    "collapsed": false
   }
  }
 ],
 "metadata": {
  "kernelspec": {
   "display_name": "Python 3",
   "language": "python",
   "name": "python3"
  },
  "language_info": {
   "codemirror_mode": {
    "name": "ipython",
    "version": 2
   },
   "file_extension": ".py",
   "mimetype": "text/x-python",
   "name": "python",
   "nbconvert_exporter": "python",
   "pygments_lexer": "ipython2",
   "version": "2.7.6"
  }
 },
 "nbformat": 4,
 "nbformat_minor": 0
}
