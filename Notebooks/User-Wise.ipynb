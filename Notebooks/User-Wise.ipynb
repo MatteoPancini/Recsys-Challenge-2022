{
 "cells": [
  {
   "cell_type": "code",
   "execution_count": 1,
   "outputs": [],
   "source": [
    "import numpy as np\n",
    "import scipy.sparse as sp\n",
    "import pandas as pd\n",
    "from Data_manager.split_functions.split_train_validation_random_holdout import \\\n",
    "        split_train_in_two_percentage_global_sample\n",
    "from Utils.recsys2022DataReader import *"
   ],
   "metadata": {
    "collapsed": false
   }
  },
  {
   "cell_type": "code",
   "execution_count": 2,
   "outputs": [
    {
     "name": "stderr",
     "output_type": "stream",
     "text": [
      "/Users/matteopancini/PycharmProjects/recsys-challenge-2022-Pancini-Vitali/Utils/recsys2022DataReader.py:15: DtypeWarning: Columns (2) have mixed types. Specify dtype option on import or set low_memory=False.\n",
      "  dataset = pd.read_csv(urmPath)\n"
     ]
    }
   ],
   "source": [
    "URM = createURM()"
   ],
   "metadata": {
    "collapsed": false
   }
  },
  {
   "cell_type": "code",
   "execution_count": 3,
   "outputs": [],
   "source": [
    "ICM = createSmallICM()"
   ],
   "metadata": {
    "collapsed": false
   }
  },
  {
   "cell_type": "code",
   "execution_count": 4,
   "outputs": [
    {
     "data": {
      "text/plain": "(array([ 66,  21, 103, ...,  23,  53,  23], dtype=int32), (41629,))"
     },
     "execution_count": 4,
     "metadata": {},
     "output_type": "execute_result"
    }
   ],
   "source": [
    "profile_length = np.ediff1d(URM.indptr)\n",
    "profile_length, profile_length.shape"
   ],
   "metadata": {
    "collapsed": false
   }
  },
  {
   "cell_type": "code",
   "execution_count": 5,
   "outputs": [
    {
     "data": {
      "text/plain": "10407"
     },
     "execution_count": 5,
     "metadata": {},
     "output_type": "execute_result"
    }
   ],
   "source": [
    "block_size = int(len(profile_length)*0.25)\n",
    "block_size"
   ],
   "metadata": {
    "collapsed": false
   }
  },
  {
   "cell_type": "code",
   "execution_count": 6,
   "outputs": [
    {
     "data": {
      "text/plain": "array([38400, 30257, 25061, ..., 19407,  8693, 12454])"
     },
     "execution_count": 6,
     "metadata": {},
     "output_type": "execute_result"
    }
   ],
   "source": [
    "sorted_users = np.argsort(profile_length)\n",
    "sorted_users"
   ],
   "metadata": {
    "collapsed": false
   }
  },
  {
   "cell_type": "code",
   "execution_count": 7,
   "outputs": [
    {
     "name": "stdout",
     "output_type": "stream",
     "text": [
      "Warning: 1010 (2.43 %) of 41629 users have no sampled items\n"
     ]
    }
   ],
   "source": [
    "URM_train, URM_test = split_train_in_two_percentage_global_sample(URM, train_percentage=0.85)"
   ],
   "metadata": {
    "collapsed": false
   }
  },
  {
   "cell_type": "code",
   "execution_count": 8,
   "outputs": [
    {
     "name": "stdout",
     "output_type": "stream",
     "text": [
      "Group 0, #users in group 10407, average p.len 17.42, median 18.0, min 5, max 21\n",
      "Group 1, #users in group 10407, average p.len 24.78, median 25.0, min 21, max 29\n",
      "Group 2, #users in group 10407, average p.len 34.40, median 34.0, min 29, max 42\n",
      "Group 3, #users in group 10407, average p.len 72.67, median 59.0, min 42, max 1176\n"
     ]
    }
   ],
   "source": [
    "for group_id in range(0, 4):\n",
    "    start_pos = group_id * block_size\n",
    "    end_pos = min((group_id+1) * block_size, len(profile_length))\n",
    "\n",
    "    users_in_group = sorted_users[start_pos:end_pos]\n",
    "\n",
    "    users_in_group_p_len = profile_length[users_in_group]\n",
    "\n",
    "    print(\"Group {}, #users in group {}, average p.len {:.2f}, median {}, min {}, max {}\".format(\n",
    "        group_id,\n",
    "        users_in_group.shape[0],\n",
    "        users_in_group_p_len.mean(),\n",
    "        np.median(users_in_group_p_len),\n",
    "        users_in_group_p_len.min(),\n",
    "        users_in_group_p_len.max()))"
   ],
   "metadata": {
    "collapsed": false
   }
  },
  {
   "cell_type": "code",
   "execution_count": 9,
   "outputs": [
    {
     "name": "stderr",
     "output_type": "stream",
     "text": [
      "Done: 100%|██████████| 24507/24507 [00:16<00:00, 1481.95it/s]            \n"
     ]
    },
    {
     "name": "stdout",
     "output_type": "stream",
     "text": [
      "P3alphaRecommender: Similarity column 24507 (100.0%), 2992.46 column/sec. Elapsed time 8.19 sec\n",
      "RP3betaRecommender: Similarity column 24507 (100.0%), 3698.77 column/sec. Elapsed time 6.63 sec\n",
      "IALSRecommender: Epoch 1 of 94. Elapsed time 3.20 min\n"
     ]
    },
    {
     "ename": "KeyboardInterrupt",
     "evalue": "",
     "output_type": "error",
     "traceback": [
      "\u001B[0;31m---------------------------------------------------------------------------\u001B[0m",
      "\u001B[0;31mKeyboardInterrupt\u001B[0m                         Traceback (most recent call last)",
      "Cell \u001B[0;32mIn [9], line 30\u001B[0m\n\u001B[1;32m     28\u001B[0m     recommender_object\u001B[38;5;241m.\u001B[39mfit(alpha\u001B[38;5;241m=\u001B[39m\u001B[38;5;241m0.5126756776495514\u001B[39m, beta\u001B[38;5;241m=\u001B[39m\u001B[38;5;241m0.396119587486951\u001B[39m, topK\u001B[38;5;241m=\u001B[39m\u001B[38;5;241m100\u001B[39m)\n\u001B[1;32m     29\u001B[0m \u001B[38;5;28;01melif\u001B[39;00m(label \u001B[38;5;241m==\u001B[39m \u001B[38;5;124m'\u001B[39m\u001B[38;5;124mIALSRecommender\u001B[39m\u001B[38;5;124m'\u001B[39m):\n\u001B[0;32m---> 30\u001B[0m     \u001B[43mrecommender_object\u001B[49m\u001B[38;5;241;43m.\u001B[39;49m\u001B[43mfit\u001B[49m\u001B[43m(\u001B[49m\u001B[43mepochs\u001B[49m\u001B[38;5;241;43m=\u001B[39;49m\u001B[38;5;241;43m94\u001B[39;49m\u001B[43m,\u001B[49m\u001B[43m \u001B[49m\u001B[43mnum_factors\u001B[49m\u001B[38;5;241;43m=\u001B[39;49m\u001B[38;5;241;43m287\u001B[39;49m\u001B[43m,\u001B[49m\u001B[43m \u001B[49m\u001B[43malpha\u001B[49m\u001B[38;5;241;43m=\u001B[39;49m\u001B[38;5;241;43m10\u001B[39;49m\u001B[43m,\u001B[49m\u001B[43m \u001B[49m\u001B[43mreg\u001B[49m\u001B[38;5;241;43m=\u001B[39;49m\u001B[38;5;241;43m0.01\u001B[39;49m\u001B[43m)\u001B[49m\n\u001B[1;32m     31\u001B[0m \u001B[38;5;28;01melif\u001B[39;00m(label \u001B[38;5;241m==\u001B[39m \u001B[38;5;124m'\u001B[39m\u001B[38;5;124mSlimElasticNet\u001B[39m\u001B[38;5;124m'\u001B[39m):\n\u001B[1;32m     32\u001B[0m     recommender_object\u001B[38;5;241m.\u001B[39mfit(topK\u001B[38;5;241m=\u001B[39m\u001B[38;5;241m359\u001B[39m, alpha\u001B[38;5;241m=\u001B[39m\u001B[38;5;241m0.04183472018614359\u001B[39m, l1_ratio\u001B[38;5;241m=\u001B[39m\u001B[38;5;241m0.03260349571135893\u001B[39m)\n",
      "File \u001B[0;32m~/PycharmProjects/recsys-challenge-2022-Pancini-Vitali/Recommenders/MatrixFactorization/IALSRecommender.py:88\u001B[0m, in \u001B[0;36mIALSRecommender.fit\u001B[0;34m(self, epochs, num_factors, confidence_scaling, alpha, epsilon, reg, init_mean, init_std, **earlystopping_kwargs)\u001B[0m\n\u001B[1;32m     84\u001B[0m \u001B[38;5;28mself\u001B[39m\u001B[38;5;241m.\u001B[39mregularization_diagonal \u001B[38;5;241m=\u001B[39m np\u001B[38;5;241m.\u001B[39mdiag(\u001B[38;5;28mself\u001B[39m\u001B[38;5;241m.\u001B[39mreg \u001B[38;5;241m*\u001B[39m np\u001B[38;5;241m.\u001B[39mones(\u001B[38;5;28mself\u001B[39m\u001B[38;5;241m.\u001B[39mnum_factors))\n\u001B[1;32m     86\u001B[0m \u001B[38;5;28mself\u001B[39m\u001B[38;5;241m.\u001B[39m_update_best_model()\n\u001B[0;32m---> 88\u001B[0m \u001B[38;5;28;43mself\u001B[39;49m\u001B[38;5;241;43m.\u001B[39;49m\u001B[43m_train_with_early_stopping\u001B[49m\u001B[43m(\u001B[49m\u001B[43mepochs\u001B[49m\u001B[43m,\u001B[49m\n\u001B[1;32m     89\u001B[0m \u001B[43m                                \u001B[49m\u001B[43malgorithm_name\u001B[49m\u001B[43m \u001B[49m\u001B[38;5;241;43m=\u001B[39;49m\u001B[43m \u001B[49m\u001B[38;5;28;43mself\u001B[39;49m\u001B[38;5;241;43m.\u001B[39;49m\u001B[43mRECOMMENDER_NAME\u001B[49m\u001B[43m,\u001B[49m\n\u001B[1;32m     90\u001B[0m \u001B[43m                                \u001B[49m\u001B[38;5;241;43m*\u001B[39;49m\u001B[38;5;241;43m*\u001B[39;49m\u001B[43mearlystopping_kwargs\u001B[49m\u001B[43m)\u001B[49m\n\u001B[1;32m     93\u001B[0m \u001B[38;5;28mself\u001B[39m\u001B[38;5;241m.\u001B[39mUSER_factors \u001B[38;5;241m=\u001B[39m \u001B[38;5;28mself\u001B[39m\u001B[38;5;241m.\u001B[39mUSER_factors_best\n\u001B[1;32m     94\u001B[0m \u001B[38;5;28mself\u001B[39m\u001B[38;5;241m.\u001B[39mITEM_factors \u001B[38;5;241m=\u001B[39m \u001B[38;5;28mself\u001B[39m\u001B[38;5;241m.\u001B[39mITEM_factors_best\n",
      "File \u001B[0;32m~/PycharmProjects/recsys-challenge-2022-Pancini-Vitali/Recommenders/Incremental_Training_Early_Stopping.py:199\u001B[0m, in \u001B[0;36mIncremental_Training_Early_Stopping._train_with_early_stopping\u001B[0;34m(self, epochs_max, epochs_min, validation_every_n, stop_on_validation, validation_metric, lower_validations_allowed, evaluator_object, algorithm_name)\u001B[0m\n\u001B[1;32m    195\u001B[0m epochs_current \u001B[38;5;241m=\u001B[39m \u001B[38;5;241m0\u001B[39m\n\u001B[1;32m    197\u001B[0m \u001B[38;5;28;01mwhile\u001B[39;00m epochs_current \u001B[38;5;241m<\u001B[39m epochs_max \u001B[38;5;129;01mand\u001B[39;00m \u001B[38;5;129;01mnot\u001B[39;00m convergence:\n\u001B[0;32m--> 199\u001B[0m     \u001B[38;5;28;43mself\u001B[39;49m\u001B[38;5;241;43m.\u001B[39;49m\u001B[43m_run_epoch\u001B[49m\u001B[43m(\u001B[49m\u001B[43mepochs_current\u001B[49m\u001B[43m)\u001B[49m\n\u001B[1;32m    201\u001B[0m     \u001B[38;5;66;03m# If no validation required, always keep the latest\u001B[39;00m\n\u001B[1;32m    202\u001B[0m     \u001B[38;5;28;01mif\u001B[39;00m evaluator_object \u001B[38;5;129;01mis\u001B[39;00m \u001B[38;5;28;01mNone\u001B[39;00m:\n",
      "File \u001B[0;32m~/PycharmProjects/recsys-challenge-2022-Pancini-Vitali/Recommenders/MatrixFactorization/IALSRecommender.py:152\u001B[0m, in \u001B[0;36mIALSRecommender._run_epoch\u001B[0;34m(self, num_epoch)\u001B[0m\n\u001B[1;32m    149\u001B[0m     user_profile \u001B[38;5;241m=\u001B[39m \u001B[38;5;28mself\u001B[39m\u001B[38;5;241m.\u001B[39mC\u001B[38;5;241m.\u001B[39mindices[start_pos:end_pos]\n\u001B[1;32m    150\u001B[0m     user_confidence \u001B[38;5;241m=\u001B[39m \u001B[38;5;28mself\u001B[39m\u001B[38;5;241m.\u001B[39mC\u001B[38;5;241m.\u001B[39mdata[start_pos:end_pos]\n\u001B[0;32m--> 152\u001B[0m     \u001B[38;5;28mself\u001B[39m\u001B[38;5;241m.\u001B[39mUSER_factors[user_id, :] \u001B[38;5;241m=\u001B[39m \u001B[38;5;28;43mself\u001B[39;49m\u001B[38;5;241;43m.\u001B[39;49m\u001B[43m_update_row\u001B[49m\u001B[43m(\u001B[49m\u001B[43muser_profile\u001B[49m\u001B[43m,\u001B[49m\u001B[43m \u001B[49m\u001B[43muser_confidence\u001B[49m\u001B[43m,\u001B[49m\u001B[43m \u001B[49m\u001B[38;5;28;43mself\u001B[39;49m\u001B[38;5;241;43m.\u001B[39;49m\u001B[43mITEM_factors\u001B[49m\u001B[43m,\u001B[49m\u001B[43m \u001B[49m\u001B[43mVV\u001B[49m\u001B[43m)\u001B[49m\n\u001B[1;32m    154\u001B[0m \u001B[38;5;66;03m# fit item factors\u001B[39;00m\n\u001B[1;32m    155\u001B[0m \u001B[38;5;66;03m# UU = n_factors x n_factors\u001B[39;00m\n\u001B[1;32m    156\u001B[0m UU \u001B[38;5;241m=\u001B[39m \u001B[38;5;28mself\u001B[39m\u001B[38;5;241m.\u001B[39mUSER_factors\u001B[38;5;241m.\u001B[39mT\u001B[38;5;241m.\u001B[39mdot(\u001B[38;5;28mself\u001B[39m\u001B[38;5;241m.\u001B[39mUSER_factors)\n",
      "File \u001B[0;32m~/PycharmProjects/recsys-challenge-2022-Pancini-Vitali/Recommenders/MatrixFactorization/IALSRecommender.py:201\u001B[0m, in \u001B[0;36mIALSRecommender._update_row\u001B[0;34m(self, interaction_profile, interaction_confidence, Y, YtY)\u001B[0m\n\u001B[1;32m    197\u001B[0m A \u001B[38;5;241m=\u001B[39m Y_interactions\u001B[38;5;241m.\u001B[39mT\u001B[38;5;241m.\u001B[39mdot(((interaction_confidence \u001B[38;5;241m-\u001B[39m \u001B[38;5;241m1\u001B[39m) \u001B[38;5;241m*\u001B[39m Y_interactions\u001B[38;5;241m.\u001B[39mT)\u001B[38;5;241m.\u001B[39mT)\n\u001B[1;32m    199\u001B[0m B \u001B[38;5;241m=\u001B[39m YtY \u001B[38;5;241m+\u001B[39m A \u001B[38;5;241m+\u001B[39m \u001B[38;5;28mself\u001B[39m\u001B[38;5;241m.\u001B[39mregularization_diagonal\n\u001B[0;32m--> 201\u001B[0m \u001B[38;5;28;01mreturn\u001B[39;00m np\u001B[38;5;241m.\u001B[39mdot(\u001B[43mnp\u001B[49m\u001B[38;5;241;43m.\u001B[39;49m\u001B[43mlinalg\u001B[49m\u001B[38;5;241;43m.\u001B[39;49m\u001B[43minv\u001B[49m\u001B[43m(\u001B[49m\u001B[43mB\u001B[49m\u001B[43m)\u001B[49m, Y_interactions\u001B[38;5;241m.\u001B[39mT\u001B[38;5;241m.\u001B[39mdot(interaction_confidence))\n",
      "File \u001B[0;32m<__array_function__ internals>:180\u001B[0m, in \u001B[0;36minv\u001B[0;34m(*args, **kwargs)\u001B[0m\n",
      "File \u001B[0;32m~/opt/anaconda3/envs/recsys/lib/python3.9/site-packages/numpy/linalg/linalg.py:552\u001B[0m, in \u001B[0;36minv\u001B[0;34m(a)\u001B[0m\n\u001B[1;32m    550\u001B[0m signature \u001B[38;5;241m=\u001B[39m \u001B[38;5;124m'\u001B[39m\u001B[38;5;124mD->D\u001B[39m\u001B[38;5;124m'\u001B[39m \u001B[38;5;28;01mif\u001B[39;00m isComplexType(t) \u001B[38;5;28;01melse\u001B[39;00m \u001B[38;5;124m'\u001B[39m\u001B[38;5;124md->d\u001B[39m\u001B[38;5;124m'\u001B[39m\n\u001B[1;32m    551\u001B[0m extobj \u001B[38;5;241m=\u001B[39m get_linalg_error_extobj(_raise_linalgerror_singular)\n\u001B[0;32m--> 552\u001B[0m ainv \u001B[38;5;241m=\u001B[39m \u001B[43m_umath_linalg\u001B[49m\u001B[38;5;241;43m.\u001B[39;49m\u001B[43minv\u001B[49m\u001B[43m(\u001B[49m\u001B[43ma\u001B[49m\u001B[43m,\u001B[49m\u001B[43m \u001B[49m\u001B[43msignature\u001B[49m\u001B[38;5;241;43m=\u001B[39;49m\u001B[43msignature\u001B[49m\u001B[43m,\u001B[49m\u001B[43m \u001B[49m\u001B[43mextobj\u001B[49m\u001B[38;5;241;43m=\u001B[39;49m\u001B[43mextobj\u001B[49m\u001B[43m)\u001B[49m\n\u001B[1;32m    553\u001B[0m \u001B[38;5;28;01mreturn\u001B[39;00m wrap(ainv\u001B[38;5;241m.\u001B[39mastype(result_t, copy\u001B[38;5;241m=\u001B[39m\u001B[38;5;28;01mFalse\u001B[39;00m))\n",
      "\u001B[0;31mKeyboardInterrupt\u001B[0m: "
     ]
    }
   ],
   "source": [
    "from Recommenders.NonPersonalizedRecommender import TopPop\n",
    "from Recommenders.KNN.ItemKNNCFRecommenderPLUS import ItemKNNCFRecommender\n",
    "from Recommenders.SLIM.SLIMElasticNetRecommender import MultiThreadSLIM_SLIMElasticNetRecommender\n",
    "from Recommenders.GraphBased.P3alphaRecommender import P3alphaRecommender\n",
    "from Recommenders.GraphBased.RP3betaRecommender import RP3betaRecommender\n",
    "from Recommenders.MatrixFactorization.IALSRecommender import IALSRecommender\n",
    "\n",
    "MAP_recommender_per_group = {}\n",
    "\n",
    "collaborative_recommender_class = {\"TopPop\": TopPop,\n",
    "                                   \"ItemKNNCF\": ItemKNNCFRecommender,\n",
    "                                   \"P3alpha\": P3alphaRecommender,\n",
    "                                   \"RP3beta\": RP3betaRecommender,\n",
    "                                   \"IALSRecommender\": IALSRecommender,\n",
    "                                   \"SlimElasticNet\": MultiThreadSLIM_SLIMElasticNetRecommender,\n",
    "                                   }\n",
    "\n",
    "recommender_object_dict = {}\n",
    "\n",
    "for label, recommender_class in collaborative_recommender_class.items():\n",
    "    recommender_object = recommender_class(URM_train)\n",
    "    if(label == 'ItemKNNCF'):\n",
    "        recommender_object.fit(ICM=ICM*58, shrink=1665.2431108249625, topK=3228, similarity='dice',\n",
    "                                                  feature_weighting='bm25', normalization='bm25')\n",
    "    elif(label == 'P3alpha'):\n",
    "        recommender_object.fit(topK=218, alpha=0.8561168568686058)\n",
    "    elif(label == 'RP3beta'):\n",
    "        recommender_object.fit(alpha=0.5126756776495514, beta=0.396119587486951, topK=100)\n",
    "    elif(label == 'IALSRecommender'):\n",
    "        recommender_object.fit(epochs=94, num_factors=287, alpha=10, reg=0.01)\n",
    "    elif(label == 'SlimElasticNet'):\n",
    "        recommender_object.fit(topK=359, alpha=0.04183472018614359, l1_ratio=0.03260349571135893)\n",
    "    else:\n",
    "        recommender_object.fit()\n",
    "\n",
    "\n",
    "    recommender_object_dict[label] = recommender_object"
   ],
   "metadata": {
    "collapsed": false
   }
  },
  {
   "cell_type": "code",
   "execution_count": 15,
   "outputs": [
    {
     "name": "stdout",
     "output_type": "stream",
     "text": [
      "Group 0, #users in group 10407, average p.len 17.42, median 18.0, min 5, max 21\n",
      "EvaluatorHoldout: Ignoring 952 ( 2.3%) Users that have less than 1 test interactions\n",
      "EvaluatorHoldout: Ignoring 31222 Users\n",
      "Deallocating Cython objects\n",
      "EvaluatorHoldout: Processed 9688 (100.0%) in 5.82 sec. Users per second: 1663\n",
      "EvaluatorHoldout: Processed 9688 (100.0%) in 4.31 sec. Users per second: 2250\n",
      "EvaluatorHoldout: Processed 9688 (100.0%) in 4.24 sec. Users per second: 2283\n",
      "EvaluatorHoldout: Processed 9688 (100.0%) in 4.15 sec. Users per second: 2335\n",
      "EvaluatorHoldout: Processed 9688 (100.0%) in 4.35 sec. Users per second: 2226\n",
      "EvaluatorHoldout: Processed 9688 (100.0%) in 3.87 sec. Users per second: 2506\n",
      "Group 1, #users in group 10407, average p.len 24.78, median 25.0, min 21, max 29\n",
      "EvaluatorHoldout: Ignoring 952 ( 2.3%) Users that have less than 1 test interactions\n",
      "EvaluatorHoldout: Ignoring 31222 Users\n",
      "EvaluatorHoldout: Processed 10214 (100.0%) in 5.91 sec. Users per second: 1727\n",
      "EvaluatorHoldout: Processed 10214 (100.0%) in 4.47 sec. Users per second: 2284\n",
      "EvaluatorHoldout: Processed 10214 (100.0%) in 4.58 sec. Users per second: 2230\n",
      "EvaluatorHoldout: Processed 10214 (100.0%) in 4.41 sec. Users per second: 2315\n",
      "EvaluatorHoldout: Processed 10214 (100.0%) in 4.75 sec. Users per second: 2149\n",
      "EvaluatorHoldout: Processed 10214 (100.0%) in 4.10 sec. Users per second: 2493\n",
      "Group 2, #users in group 10407, average p.len 34.40, median 34.0, min 29, max 42\n",
      "EvaluatorHoldout: Ignoring 952 ( 2.3%) Users that have less than 1 test interactions\n",
      "EvaluatorHoldout: Ignoring 31222 Users\n",
      "EvaluatorHoldout: Processed 10369 (100.0%) in 6.13 sec. Users per second: 1692\n",
      "EvaluatorHoldout: Processed 10369 (100.0%) in 4.70 sec. Users per second: 2204\n",
      "EvaluatorHoldout: Processed 10369 (100.0%) in 4.80 sec. Users per second: 2160\n",
      "EvaluatorHoldout: Processed 10369 (100.0%) in 4.53 sec. Users per second: 2291\n",
      "EvaluatorHoldout: Processed 10369 (100.0%) in 4.97 sec. Users per second: 2085\n",
      "EvaluatorHoldout: Processed 10369 (100.0%) in 4.15 sec. Users per second: 2500\n",
      "Group 3, #users in group 10407, average p.len 72.67, median 59.0, min 42, max 1176\n",
      "EvaluatorHoldout: Ignoring 952 ( 2.3%) Users that have less than 1 test interactions\n",
      "EvaluatorHoldout: Ignoring 31222 Users\n",
      "EvaluatorHoldout: Processed 10405 (100.0%) in 6.05 sec. Users per second: 1719\n",
      "EvaluatorHoldout: Processed 10405 (100.0%) in 5.06 sec. Users per second: 2057\n",
      "EvaluatorHoldout: Processed 10405 (100.0%) in 5.32 sec. Users per second: 1954\n",
      "EvaluatorHoldout: Processed 10405 (100.0%) in 4.83 sec. Users per second: 2152\n",
      "EvaluatorHoldout: Processed 10405 (100.0%) in 5.63 sec. Users per second: 1848\n",
      "EvaluatorHoldout: Processed 10405 (100.0%) in 4.29 sec. Users per second: 2423\n"
     ]
    }
   ],
   "source": [
    "cutoff = 10\n",
    "from Evaluation.Evaluator import EvaluatorHoldout\n",
    "\n",
    "for group_id in range(0, 4):\n",
    "\n",
    "    start_pos = group_id*block_size\n",
    "    end_pos = min((group_id+1)*block_size, len(profile_length))\n",
    "\n",
    "    users_in_group = sorted_users[start_pos:end_pos]\n",
    "\n",
    "    users_in_group_p_len = profile_length[users_in_group]\n",
    "\n",
    "    print(\"Group {}, #users in group {}, average p.len {:.2f}, median {}, min {}, max {}\".format(\n",
    "        group_id,\n",
    "        users_in_group.shape[0],\n",
    "        users_in_group_p_len.mean(),\n",
    "        np.median(users_in_group_p_len),\n",
    "        users_in_group_p_len.min(),\n",
    "        users_in_group_p_len.max()))\n",
    "\n",
    "\n",
    "    users_not_in_group_flag = np.isin(sorted_users, users_in_group, invert=True)\n",
    "    users_not_in_group = sorted_users[users_not_in_group_flag]\n",
    "\n",
    "    evaluator_test = EvaluatorHoldout(URM_test, cutoff_list=[cutoff], ignore_users=users_not_in_group)\n",
    "\n",
    "    for label, recommender in recommender_object_dict.items():\n",
    "        result_df, _ = evaluator_test.evaluateRecommender(recommender)\n",
    "        if label in MAP_recommender_per_group:\n",
    "            MAP_recommender_per_group[label].append(result_df.loc[cutoff][\"MAP\"])\n",
    "        else:\n",
    "            MAP_recommender_per_group[label] = [result_df.loc[cutoff][\"MAP\"]]"
   ],
   "metadata": {
    "collapsed": false
   }
  },
  {
   "cell_type": "code",
   "execution_count": 16,
   "outputs": [
    {
     "data": {
      "text/plain": "<Figure size 1600x900 with 1 Axes>",
      "image/png": "[encoded data removed]"
     },
     "metadata": {},
     "output_type": "display_data"
    }
   ],
   "source": [
    "import matplotlib.pyplot as plt\n",
    "%matplotlib inline\n",
    "\n",
    "_ = plt.figure(figsize=(16, 9))\n",
    "for label, recommender in recommender_object_dict.items():\n",
    "    results = MAP_recommender_per_group[label]\n",
    "    plt.scatter(x=np.arange(0,len(results)), y=results, label=label)\n",
    "plt.ylabel('MAP')\n",
    "plt.xlabel('User Group')\n",
    "plt.legend()\n",
    "plt.show()"
   ],
   "metadata": {
    "collapsed": false
   }
  }
 ],
 "metadata": {
  "kernelspec": {
   "display_name": "Python 3",
   "language": "python",
   "name": "python3"
  },
  "language_info": {
   "codemirror_mode": {
    "name": "ipython",
    "version": 2
   },
   "file_extension": ".py",
   "mimetype": "text/x-python",
   "name": "python",
   "nbconvert_exporter": "python",
   "pygments_lexer": "ipython2",
   "version": "2.7.6"
  }
 },
 "nbformat": 4,
 "nbformat_minor": 0
}
