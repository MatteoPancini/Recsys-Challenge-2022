{
 "cells": [
  {
   "cell_type": "code",
   "execution_count": 1,
   "metadata": {
    "collapsed": true
   },
   "outputs": [],
   "source": [
    "import numpy as np\n",
    "import pandas as pd\n",
    "import scipy.sparse as sps"
   ]
  },
  {
   "cell_type": "code",
   "execution_count": 11,
   "outputs": [],
   "source": [
    "types = pd.read_csv('../Input/data_ICM_type.csv')"
   ],
   "metadata": {
    "collapsed": false
   }
  },
  {
   "cell_type": "code",
   "execution_count": 12,
   "outputs": [
    {
     "data": {
      "text/plain": "       item_id  feature_id  data\n0            0           1     1\n1            1           3     1\n2            2           4     1\n3            3           1     1\n4            4           3     1\n...        ...         ...   ...\n23086    27963           1     1\n23087    27964           2     1\n23088    27965           1     1\n23089    27966           1     1\n23090    27967           4     1\n\n[23091 rows x 3 columns]",
      "text/html": "<div>\n<style scoped>\n    .dataframe tbody tr th:only-of-type {\n        vertical-align: middle;\n    }\n\n    .dataframe tbody tr th {\n        vertical-align: top;\n    }\n\n    .dataframe thead th {\n        text-align: right;\n    }\n</style>\n<table border=\"1\" class=\"dataframe\">\n  <thead>\n    <tr style=\"text-align: right;\">\n      <th></th>\n      <th>item_id</th>\n      <th>feature_id</th>\n      <th>data</th>\n    </tr>\n  </thead>\n  <tbody>\n    <tr>\n      <th>0</th>\n      <td>0</td>\n      <td>1</td>\n      <td>1</td>\n    </tr>\n    <tr>\n      <th>1</th>\n      <td>1</td>\n      <td>3</td>\n      <td>1</td>\n    </tr>\n    <tr>\n      <th>2</th>\n      <td>2</td>\n      <td>4</td>\n      <td>1</td>\n    </tr>\n    <tr>\n      <th>3</th>\n      <td>3</td>\n      <td>1</td>\n      <td>1</td>\n    </tr>\n    <tr>\n      <th>4</th>\n      <td>4</td>\n      <td>3</td>\n      <td>1</td>\n    </tr>\n    <tr>\n      <th>...</th>\n      <td>...</td>\n      <td>...</td>\n      <td>...</td>\n    </tr>\n    <tr>\n      <th>23086</th>\n      <td>27963</td>\n      <td>1</td>\n      <td>1</td>\n    </tr>\n    <tr>\n      <th>23087</th>\n      <td>27964</td>\n      <td>2</td>\n      <td>1</td>\n    </tr>\n    <tr>\n      <th>23088</th>\n      <td>27965</td>\n      <td>1</td>\n      <td>1</td>\n    </tr>\n    <tr>\n      <th>23089</th>\n      <td>27966</td>\n      <td>1</td>\n      <td>1</td>\n    </tr>\n    <tr>\n      <th>23090</th>\n      <td>27967</td>\n      <td>4</td>\n      <td>1</td>\n    </tr>\n  </tbody>\n</table>\n<p>23091 rows × 3 columns</p>\n</div>"
     },
     "execution_count": 12,
     "metadata": {},
     "output_type": "execute_result"
    }
   ],
   "source": [
    "types"
   ],
   "metadata": {
    "collapsed": false
   }
  },
  {
   "cell_type": "code",
   "execution_count": 13,
   "outputs": [
    {
     "data": {
      "text/plain": "       item_id  feature_id\n0            0           1\n1            1           3\n2            2           4\n3            3           1\n4            4           3\n...        ...         ...\n23086    27963           1\n23087    27964           2\n23088    27965           1\n23089    27966           1\n23090    27967           4\n\n[23091 rows x 2 columns]",
      "text/html": "<div>\n<style scoped>\n    .dataframe tbody tr th:only-of-type {\n        vertical-align: middle;\n    }\n\n    .dataframe tbody tr th {\n        vertical-align: top;\n    }\n\n    .dataframe thead th {\n        text-align: right;\n    }\n</style>\n<table border=\"1\" class=\"dataframe\">\n  <thead>\n    <tr style=\"text-align: right;\">\n      <th></th>\n      <th>item_id</th>\n      <th>feature_id</th>\n    </tr>\n  </thead>\n  <tbody>\n    <tr>\n      <th>0</th>\n      <td>0</td>\n      <td>1</td>\n    </tr>\n    <tr>\n      <th>1</th>\n      <td>1</td>\n      <td>3</td>\n    </tr>\n    <tr>\n      <th>2</th>\n      <td>2</td>\n      <td>4</td>\n    </tr>\n    <tr>\n      <th>3</th>\n      <td>3</td>\n      <td>1</td>\n    </tr>\n    <tr>\n      <th>4</th>\n      <td>4</td>\n      <td>3</td>\n    </tr>\n    <tr>\n      <th>...</th>\n      <td>...</td>\n      <td>...</td>\n    </tr>\n    <tr>\n      <th>23086</th>\n      <td>27963</td>\n      <td>1</td>\n    </tr>\n    <tr>\n      <th>23087</th>\n      <td>27964</td>\n      <td>2</td>\n    </tr>\n    <tr>\n      <th>23088</th>\n      <td>27965</td>\n      <td>1</td>\n    </tr>\n    <tr>\n      <th>23089</th>\n      <td>27966</td>\n      <td>1</td>\n    </tr>\n    <tr>\n      <th>23090</th>\n      <td>27967</td>\n      <td>4</td>\n    </tr>\n  </tbody>\n</table>\n<p>23091 rows × 2 columns</p>\n</div>"
     },
     "execution_count": 13,
     "metadata": {},
     "output_type": "execute_result"
    }
   ],
   "source": [
    "types = types.drop(columns = ['data'], axis=1)\n",
    "types"
   ],
   "metadata": {
    "collapsed": false
   }
  },
  {
   "cell_type": "code",
   "execution_count": 14,
   "outputs": [
    {
     "data": {
      "text/plain": "       item_id  type\n0            0     1\n1            1     3\n2            2     4\n3            3     1\n4            4     3\n...        ...   ...\n23086    27963     1\n23087    27964     2\n23088    27965     1\n23089    27966     1\n23090    27967     4\n\n[23091 rows x 2 columns]",
      "text/html": "<div>\n<style scoped>\n    .dataframe tbody tr th:only-of-type {\n        vertical-align: middle;\n    }\n\n    .dataframe tbody tr th {\n        vertical-align: top;\n    }\n\n    .dataframe thead th {\n        text-align: right;\n    }\n</style>\n<table border=\"1\" class=\"dataframe\">\n  <thead>\n    <tr style=\"text-align: right;\">\n      <th></th>\n      <th>item_id</th>\n      <th>type</th>\n    </tr>\n  </thead>\n  <tbody>\n    <tr>\n      <th>0</th>\n      <td>0</td>\n      <td>1</td>\n    </tr>\n    <tr>\n      <th>1</th>\n      <td>1</td>\n      <td>3</td>\n    </tr>\n    <tr>\n      <th>2</th>\n      <td>2</td>\n      <td>4</td>\n    </tr>\n    <tr>\n      <th>3</th>\n      <td>3</td>\n      <td>1</td>\n    </tr>\n    <tr>\n      <th>4</th>\n      <td>4</td>\n      <td>3</td>\n    </tr>\n    <tr>\n      <th>...</th>\n      <td>...</td>\n      <td>...</td>\n    </tr>\n    <tr>\n      <th>23086</th>\n      <td>27963</td>\n      <td>1</td>\n    </tr>\n    <tr>\n      <th>23087</th>\n      <td>27964</td>\n      <td>2</td>\n    </tr>\n    <tr>\n      <th>23088</th>\n      <td>27965</td>\n      <td>1</td>\n    </tr>\n    <tr>\n      <th>23089</th>\n      <td>27966</td>\n      <td>1</td>\n    </tr>\n    <tr>\n      <th>23090</th>\n      <td>27967</td>\n      <td>4</td>\n    </tr>\n  </tbody>\n</table>\n<p>23091 rows × 2 columns</p>\n</div>"
     },
     "execution_count": 14,
     "metadata": {},
     "output_type": "execute_result"
    }
   ],
   "source": [
    "types = types.rename(columns={'feature_id':'type'})\n",
    "types"
   ],
   "metadata": {
    "collapsed": false
   }
  },
  {
   "cell_type": "code",
   "execution_count": 16,
   "outputs": [
    {
     "data": {
      "text/plain": "   item_id  type\n0        0     1\n1        1     3\n2        2     4\n3        3     1\n4        4     3",
      "text/html": "<div>\n<style scoped>\n    .dataframe tbody tr th:only-of-type {\n        vertical-align: middle;\n    }\n\n    .dataframe tbody tr th {\n        vertical-align: top;\n    }\n\n    .dataframe thead th {\n        text-align: right;\n    }\n</style>\n<table border=\"1\" class=\"dataframe\">\n  <thead>\n    <tr style=\"text-align: right;\">\n      <th></th>\n      <th>item_id</th>\n      <th>type</th>\n    </tr>\n  </thead>\n  <tbody>\n    <tr>\n      <th>0</th>\n      <td>0</td>\n      <td>1</td>\n    </tr>\n    <tr>\n      <th>1</th>\n      <td>1</td>\n      <td>3</td>\n    </tr>\n    <tr>\n      <th>2</th>\n      <td>2</td>\n      <td>4</td>\n    </tr>\n    <tr>\n      <th>3</th>\n      <td>3</td>\n      <td>1</td>\n    </tr>\n    <tr>\n      <th>4</th>\n      <td>4</td>\n      <td>3</td>\n    </tr>\n  </tbody>\n</table>\n</div>"
     },
     "execution_count": 16,
     "metadata": {},
     "output_type": "execute_result"
    }
   ],
   "source": [
    "typesFiltered = types[types['item_id'] <= 24506]\n",
    "\n",
    "typesFiltered.head()"
   ],
   "metadata": {
    "collapsed": false
   }
  },
  {
   "cell_type": "code",
   "execution_count": 17,
   "outputs": [
    {
     "data": {
      "text/plain": "       item_id  type\n0            0     1\n1            1     3\n2            2     4\n3            3     1\n4            4     3\n...        ...   ...\n19625    24502     1\n19626    24503     4\n19627    24504     1\n19628    24505     4\n19629    24506     1\n\n[19630 rows x 2 columns]",
      "text/html": "<div>\n<style scoped>\n    .dataframe tbody tr th:only-of-type {\n        vertical-align: middle;\n    }\n\n    .dataframe tbody tr th {\n        vertical-align: top;\n    }\n\n    .dataframe thead th {\n        text-align: right;\n    }\n</style>\n<table border=\"1\" class=\"dataframe\">\n  <thead>\n    <tr style=\"text-align: right;\">\n      <th></th>\n      <th>item_id</th>\n      <th>type</th>\n    </tr>\n  </thead>\n  <tbody>\n    <tr>\n      <th>0</th>\n      <td>0</td>\n      <td>1</td>\n    </tr>\n    <tr>\n      <th>1</th>\n      <td>1</td>\n      <td>3</td>\n    </tr>\n    <tr>\n      <th>2</th>\n      <td>2</td>\n      <td>4</td>\n    </tr>\n    <tr>\n      <th>3</th>\n      <td>3</td>\n      <td>1</td>\n    </tr>\n    <tr>\n      <th>4</th>\n      <td>4</td>\n      <td>3</td>\n    </tr>\n    <tr>\n      <th>...</th>\n      <td>...</td>\n      <td>...</td>\n    </tr>\n    <tr>\n      <th>19625</th>\n      <td>24502</td>\n      <td>1</td>\n    </tr>\n    <tr>\n      <th>19626</th>\n      <td>24503</td>\n      <td>4</td>\n    </tr>\n    <tr>\n      <th>19627</th>\n      <td>24504</td>\n      <td>1</td>\n    </tr>\n    <tr>\n      <th>19628</th>\n      <td>24505</td>\n      <td>4</td>\n    </tr>\n    <tr>\n      <th>19629</th>\n      <td>24506</td>\n      <td>1</td>\n    </tr>\n  </tbody>\n</table>\n<p>19630 rows × 2 columns</p>\n</div>"
     },
     "execution_count": 17,
     "metadata": {},
     "output_type": "execute_result"
    }
   ],
   "source": [
    "typesFiltered"
   ],
   "metadata": {
    "collapsed": false
   }
  },
  {
   "cell_type": "code",
   "execution_count": 38,
   "outputs": [
    {
     "data": {
      "text/plain": "array([1, 3, 4, ..., 1, 4, 1])"
     },
     "execution_count": 38,
     "metadata": {},
     "output_type": "execute_result"
    }
   ],
   "source": [
    "typesArray = typesFiltered['type'].to_numpy()\n",
    "typesArray"
   ],
   "metadata": {
    "collapsed": false
   }
  },
  {
   "cell_type": "code",
   "execution_count": 27,
   "outputs": [
    {
     "data": {
      "text/plain": "array([    0,     1,     2, ..., 24504, 24505, 24506])"
     },
     "execution_count": 27,
     "metadata": {},
     "output_type": "execute_result"
    }
   ],
   "source": [
    "itemsID = typesFiltered['item_id'].to_numpy()\n",
    "itemsID"
   ],
   "metadata": {
    "collapsed": false
   }
  },
  {
   "cell_type": "code",
   "execution_count": 15,
   "outputs": [
    {
     "name": "stderr",
     "output_type": "stream",
     "text": [
      "/var/folders/tt/9v6608x550n51759gpcrffsc0000gn/T/ipykernel_47827/98915780.py:1: DtypeWarning: Columns (2) have mixed types. Specify dtype option on import or set low_memory=False.\n",
      "  URM = pd.read_csv('../Input/interactions_and_impressions.csv')\n"
     ]
    },
    {
     "data": {
      "text/plain": "array([    0,     1,     2, ..., 24504, 24505, 24506])"
     },
     "execution_count": 15,
     "metadata": {},
     "output_type": "execute_result"
    }
   ],
   "source": [
    "URM = pd.read_csv('../Input/interactions_and_impressions.csv')\n",
    "itemsURM = URM['ItemID'].to_numpy()\n",
    "itemsURM = np.unique(itemsURM, axis=0)\n",
    "itemsURM"
   ],
   "metadata": {
    "collapsed": false
   }
  },
  {
   "cell_type": "markdown",
   "source": [
    "As we can the problem is that in URM we have 24507 items, but in the ICM we have info just about 23091.\n",
    "Let's fill with 0 the items from which we don't have any info."
   ],
   "metadata": {
    "collapsed": false
   }
  },
  {
   "cell_type": "code",
   "execution_count": 19,
   "outputs": [
    {
     "data": {
      "text/plain": "24507"
     },
     "execution_count": 19,
     "metadata": {},
     "output_type": "execute_result"
    }
   ],
   "source": [
    "len(itemsURM)"
   ],
   "metadata": {
    "collapsed": false
   }
  },
  {
   "cell_type": "code",
   "execution_count": 36,
   "outputs": [
    {
     "data": {
      "text/plain": "array([[0.],\n       [0.],\n       [0.],\n       ...,\n       [0.],\n       [0.],\n       [0.]])"
     },
     "execution_count": 36,
     "metadata": {},
     "output_type": "execute_result"
    }
   ],
   "source": [
    "ICMType = np.zeros((len(itemsURM), 1))\n",
    "ICMType"
   ],
   "metadata": {
    "collapsed": false
   }
  },
  {
   "cell_type": "code",
   "execution_count": 37,
   "outputs": [
    {
     "data": {
      "text/plain": "array([[1.],\n       [3.],\n       [4.],\n       ...,\n       [1.],\n       [4.],\n       [1.]])"
     },
     "execution_count": 37,
     "metadata": {},
     "output_type": "execute_result"
    }
   ],
   "source": [
    "for x in range(len(itemsID)):\n",
    "    #print(itemsID[x])\n",
    "    ICMType[itemsID[x]][0] = typesArray[x]\n",
    "ICMType"
   ],
   "metadata": {
    "collapsed": false
   }
  },
  {
   "cell_type": "markdown",
   "source": [
    "## Algoritmo per ICM"
   ],
   "metadata": {
    "collapsed": false
   }
  },
  {
   "cell_type": "code",
   "execution_count": 1,
   "outputs": [],
   "source": [
    "import numpy as np\n",
    "import pandas as pd\n",
    "import scipy.sparse as sps"
   ],
   "metadata": {
    "collapsed": false
   }
  },
  {
   "cell_type": "markdown",
   "source": [
    "## Types"
   ],
   "metadata": {
    "collapsed": false
   }
  },
  {
   "cell_type": "code",
   "execution_count": 2,
   "outputs": [
    {
     "data": {
      "text/plain": "       item_id  type\n0            0     1\n1            1     3\n2            2     4\n3            3     1\n4            4     3\n...        ...   ...\n23086    27963     1\n23087    27964     2\n23088    27965     1\n23089    27966     1\n23090    27967     4\n\n[23091 rows x 2 columns]",
      "text/html": "<div>\n<style scoped>\n    .dataframe tbody tr th:only-of-type {\n        vertical-align: middle;\n    }\n\n    .dataframe tbody tr th {\n        vertical-align: top;\n    }\n\n    .dataframe thead th {\n        text-align: right;\n    }\n</style>\n<table border=\"1\" class=\"dataframe\">\n  <thead>\n    <tr style=\"text-align: right;\">\n      <th></th>\n      <th>item_id</th>\n      <th>type</th>\n    </tr>\n  </thead>\n  <tbody>\n    <tr>\n      <th>0</th>\n      <td>0</td>\n      <td>1</td>\n    </tr>\n    <tr>\n      <th>1</th>\n      <td>1</td>\n      <td>3</td>\n    </tr>\n    <tr>\n      <th>2</th>\n      <td>2</td>\n      <td>4</td>\n    </tr>\n    <tr>\n      <th>3</th>\n      <td>3</td>\n      <td>1</td>\n    </tr>\n    <tr>\n      <th>4</th>\n      <td>4</td>\n      <td>3</td>\n    </tr>\n    <tr>\n      <th>...</th>\n      <td>...</td>\n      <td>...</td>\n    </tr>\n    <tr>\n      <th>23086</th>\n      <td>27963</td>\n      <td>1</td>\n    </tr>\n    <tr>\n      <th>23087</th>\n      <td>27964</td>\n      <td>2</td>\n    </tr>\n    <tr>\n      <th>23088</th>\n      <td>27965</td>\n      <td>1</td>\n    </tr>\n    <tr>\n      <th>23089</th>\n      <td>27966</td>\n      <td>1</td>\n    </tr>\n    <tr>\n      <th>23090</th>\n      <td>27967</td>\n      <td>4</td>\n    </tr>\n  </tbody>\n</table>\n<p>23091 rows × 2 columns</p>\n</div>"
     },
     "execution_count": 2,
     "metadata": {},
     "output_type": "execute_result"
    }
   ],
   "source": [
    "types = pd.read_csv('../Input/data_ICM_type.csv')\n",
    "types = types.drop(columns = ['data'], axis=1)\n",
    "types = types.rename(columns={'feature_id':'type'})\n",
    "types"
   ],
   "metadata": {
    "collapsed": false
   }
  },
  {
   "cell_type": "code",
   "execution_count": 3,
   "outputs": [],
   "source": [
    "typesFiltered = types[types['item_id'] <= 24506]\n",
    "typesArray = typesFiltered['type'].to_numpy()\n",
    "itemsID = typesFiltered['item_id'].to_numpy()"
   ],
   "metadata": {
    "collapsed": false
   }
  },
  {
   "cell_type": "code",
   "execution_count": 4,
   "outputs": [
    {
     "name": "stderr",
     "output_type": "stream",
     "text": [
      "/var/folders/tt/9v6608x550n51759gpcrffsc0000gn/T/ipykernel_60746/98915780.py:1: DtypeWarning: Columns (2) have mixed types. Specify dtype option on import or set low_memory=False.\n",
      "  URM = pd.read_csv('../Input/interactions_and_impressions.csv')\n"
     ]
    },
    {
     "data": {
      "text/plain": "array([    0,     1,     2, ..., 24504, 24505, 24506])"
     },
     "execution_count": 4,
     "metadata": {},
     "output_type": "execute_result"
    }
   ],
   "source": [
    "URM = pd.read_csv('../Input/interactions_and_impressions.csv')\n",
    "itemsURM = URM['ItemID'].to_numpy()\n",
    "itemsURM = np.unique(itemsURM, axis=0)\n",
    "itemsURM"
   ],
   "metadata": {
    "collapsed": false
   }
  },
  {
   "cell_type": "code",
   "execution_count": 30,
   "outputs": [],
   "source": [
    "ICM = np.zeros((len(itemsURM), 2), dtype=int)"
   ],
   "metadata": {
    "collapsed": false
   }
  },
  {
   "cell_type": "code",
   "execution_count": 31,
   "outputs": [],
   "source": [
    "for x in range(len(itemsID)):\n",
    "    ICM[itemsID[x]][0] = typesArray[x]"
   ],
   "metadata": {
    "collapsed": false
   }
  },
  {
   "cell_type": "markdown",
   "source": [
    "## Length"
   ],
   "metadata": {
    "collapsed": false
   }
  },
  {
   "cell_type": "code",
   "execution_count": 32,
   "outputs": [
    {
     "data": {
      "text/plain": "       item_id  numberOfEpisodes\n0            0                 1\n1            1                 1\n2            2                21\n3            3                 1\n4            4                 1\n...        ...               ...\n23086    27963                 1\n23087    27964                 1\n23088    27965                 1\n23089    27966                 1\n23090    27967                 2\n\n[23091 rows x 2 columns]",
      "text/html": "<div>\n<style scoped>\n    .dataframe tbody tr th:only-of-type {\n        vertical-align: middle;\n    }\n\n    .dataframe tbody tr th {\n        vertical-align: top;\n    }\n\n    .dataframe thead th {\n        text-align: right;\n    }\n</style>\n<table border=\"1\" class=\"dataframe\">\n  <thead>\n    <tr style=\"text-align: right;\">\n      <th></th>\n      <th>item_id</th>\n      <th>numberOfEpisodes</th>\n    </tr>\n  </thead>\n  <tbody>\n    <tr>\n      <th>0</th>\n      <td>0</td>\n      <td>1</td>\n    </tr>\n    <tr>\n      <th>1</th>\n      <td>1</td>\n      <td>1</td>\n    </tr>\n    <tr>\n      <th>2</th>\n      <td>2</td>\n      <td>21</td>\n    </tr>\n    <tr>\n      <th>3</th>\n      <td>3</td>\n      <td>1</td>\n    </tr>\n    <tr>\n      <th>4</th>\n      <td>4</td>\n      <td>1</td>\n    </tr>\n    <tr>\n      <th>...</th>\n      <td>...</td>\n      <td>...</td>\n    </tr>\n    <tr>\n      <th>23086</th>\n      <td>27963</td>\n      <td>1</td>\n    </tr>\n    <tr>\n      <th>23087</th>\n      <td>27964</td>\n      <td>1</td>\n    </tr>\n    <tr>\n      <th>23088</th>\n      <td>27965</td>\n      <td>1</td>\n    </tr>\n    <tr>\n      <th>23089</th>\n      <td>27966</td>\n      <td>1</td>\n    </tr>\n    <tr>\n      <th>23090</th>\n      <td>27967</td>\n      <td>2</td>\n    </tr>\n  </tbody>\n</table>\n<p>23091 rows × 2 columns</p>\n</div>"
     },
     "execution_count": 32,
     "metadata": {},
     "output_type": "execute_result"
    }
   ],
   "source": [
    "lenght = pd.read_csv('../Input/data_ICM_length.csv')\n",
    "lenght = lenght.drop(columns = ['feature_id'], axis=1)\n",
    "lenght = lenght.rename(columns={'data':'numberOfEpisodes'})\n",
    "lenght"
   ],
   "metadata": {
    "collapsed": false
   }
  },
  {
   "cell_type": "code",
   "execution_count": 33,
   "outputs": [],
   "source": [
    "lenghtFiltered = lenght[lenght['item_id'] <= 24506]\n",
    "lenghtArray = lenghtFiltered['numberOfEpisodes'].to_numpy()\n",
    "itemsID = typesFiltered['item_id'].to_numpy()"
   ],
   "metadata": {
    "collapsed": false
   }
  },
  {
   "cell_type": "code",
   "execution_count": 34,
   "outputs": [],
   "source": [
    "for x in range(len(itemsID)):\n",
    "    ICM[itemsID[x]][1] = lenghtArray[x]"
   ],
   "metadata": {
    "collapsed": false
   }
  },
  {
   "cell_type": "code",
   "execution_count": 39,
   "outputs": [
    {
     "data": {
      "text/plain": "array([[   1,    1],\n       [   3,    1],\n       [   4,   21],\n       ...,\n       [   1,    1],\n       [   4, 1001],\n       [   1,    1]])"
     },
     "execution_count": 39,
     "metadata": {},
     "output_type": "execute_result"
    }
   ],
   "source": [
    "ICM"
   ],
   "metadata": {
    "collapsed": false
   }
  }
 ],
 "metadata": {
  "kernelspec": {
   "display_name": "Python 3",
   "language": "python",
   "name": "python3"
  },
  "language_info": {
   "codemirror_mode": {
    "name": "ipython",
    "version": 2
   },
   "file_extension": ".py",
   "mimetype": "text/x-python",
   "name": "python",
   "nbconvert_exporter": "python",
   "pygments_lexer": "ipython2",
   "version": "2.7.6"
  }
 },
 "nbformat": 4,
 "nbformat_minor": 0
}
