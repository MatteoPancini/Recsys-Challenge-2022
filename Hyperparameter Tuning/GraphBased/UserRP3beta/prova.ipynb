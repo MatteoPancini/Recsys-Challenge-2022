{
 "cells": [
  {
   "cell_type": "code",
   "execution_count": 4,
   "metadata": {
    "collapsed": true
   },
   "outputs": [],
   "source": [
    "from Data_manager.split_functions.split_train_validation_random_holdout import split_train_in_two_percentage_global_sample\n",
    "from Evaluation.Evaluator import EvaluatorHoldout\n",
    "from Recommenders.GraphBased.RP3betaRecommender import RP3betaRecommender\n",
    "from Utils.createURM import createBumpURM\n",
    "import pandas as pd"
   ]
  },
  {
   "cell_type": "code",
   "execution_count": 5,
   "outputs": [
    {
     "name": "stderr",
     "output_type": "stream",
     "text": [
      "C:\\Users\\Mike\\AppData\\Local\\Temp\\ipykernel_9772\\1810336968.py:1: DtypeWarning: Columns (2) have mixed types. Specify dtype option on import or set low_memory=False.\n",
      "  dataset = pd.read_csv('../../../Input/interactions_and_impressions.csv')\n"
     ]
    }
   ],
   "source": [
    "dataset = pd.read_csv('../../../Input/interactions_and_impressions.csv')\n",
    "URM = createBumpURM(dataset)"
   ],
   "metadata": {
    "collapsed": false
   }
  },
  {
   "cell_type": "code",
   "execution_count": 6,
   "outputs": [
    {
     "name": "stdout",
     "output_type": "stream",
     "text": [
      "Warning: 305 (0.73 %) of 41629 users have no sampled items\n"
     ]
    },
    {
     "data": {
      "text/plain": "       PRECISION PRECISION_RECALL_MIN_DEN    RECALL       MAP MAP_MIN_DEN  \\\ncutoff                                                                      \n10      0.062734                 0.085455  0.074232  0.032222    0.043054   \n\n            MRR      NDCG     F1  HIT_RATE ARHR_ALL_HITS  ... COVERAGE_USER  \\\ncutoff                                                    ...                 \n10      0.20023  0.094755  0.068  0.385224       0.25159  ...      0.992673   \n\n       COVERAGE_USER_HIT USERS_IN_GT DIVERSITY_GINI SHANNON_ENTROPY  \\\ncutoff                                                                \n10              0.382402    0.992673       0.064548        9.325028   \n\n       RATIO_DIVERSITY_HERFINDAHL RATIO_DIVERSITY_GINI RATIO_SHANNON_ENTROPY  \\\ncutoff                                                                         \n10                       0.993075             0.127223              0.691099   \n\n       RATIO_AVERAGE_POPULARITY RATIO_NOVELTY  \ncutoff                                         \n10                      4.00041      0.269117  \n\n[1 rows x 27 columns]",
      "text/html": "<div>\n<style scoped>\n    .dataframe tbody tr th:only-of-type {\n        vertical-align: middle;\n    }\n\n    .dataframe tbody tr th {\n        vertical-align: top;\n    }\n\n    .dataframe thead th {\n        text-align: right;\n    }\n</style>\n<table border=\"1\" class=\"dataframe\">\n  <thead>\n    <tr style=\"text-align: right;\">\n      <th></th>\n      <th>PRECISION</th>\n      <th>PRECISION_RECALL_MIN_DEN</th>\n      <th>RECALL</th>\n      <th>MAP</th>\n      <th>MAP_MIN_DEN</th>\n      <th>MRR</th>\n      <th>NDCG</th>\n      <th>F1</th>\n      <th>HIT_RATE</th>\n      <th>ARHR_ALL_HITS</th>\n      <th>...</th>\n      <th>COVERAGE_USER</th>\n      <th>COVERAGE_USER_HIT</th>\n      <th>USERS_IN_GT</th>\n      <th>DIVERSITY_GINI</th>\n      <th>SHANNON_ENTROPY</th>\n      <th>RATIO_DIVERSITY_HERFINDAHL</th>\n      <th>RATIO_DIVERSITY_GINI</th>\n      <th>RATIO_SHANNON_ENTROPY</th>\n      <th>RATIO_AVERAGE_POPULARITY</th>\n      <th>RATIO_NOVELTY</th>\n    </tr>\n    <tr>\n      <th>cutoff</th>\n      <th></th>\n      <th></th>\n      <th></th>\n      <th></th>\n      <th></th>\n      <th></th>\n      <th></th>\n      <th></th>\n      <th></th>\n      <th></th>\n      <th></th>\n      <th></th>\n      <th></th>\n      <th></th>\n      <th></th>\n      <th></th>\n      <th></th>\n      <th></th>\n      <th></th>\n      <th></th>\n      <th></th>\n    </tr>\n  </thead>\n  <tbody>\n    <tr>\n      <th>10</th>\n      <td>0.062734</td>\n      <td>0.085455</td>\n      <td>0.074232</td>\n      <td>0.032222</td>\n      <td>0.043054</td>\n      <td>0.20023</td>\n      <td>0.094755</td>\n      <td>0.068</td>\n      <td>0.385224</td>\n      <td>0.25159</td>\n      <td>...</td>\n      <td>0.992673</td>\n      <td>0.382402</td>\n      <td>0.992673</td>\n      <td>0.064548</td>\n      <td>9.325028</td>\n      <td>0.993075</td>\n      <td>0.127223</td>\n      <td>0.691099</td>\n      <td>4.00041</td>\n      <td>0.269117</td>\n    </tr>\n  </tbody>\n</table>\n<p>1 rows × 27 columns</p>\n</div>"
     },
     "execution_count": 6,
     "metadata": {},
     "output_type": "execute_result"
    }
   ],
   "source": [
    "URM_train, URM_test = split_train_in_two_percentage_global_sample(URM, train_percentage=0.80)\n",
    "evaluator_test = EvaluatorHoldout(URM_test, cutoff_list=[10], verbose=False)\n",
    "\n",
    "recommender = RP3betaRecommender(URM_train, verbose=False)\n",
    "recommender.fit(alpha=0.3596922439611471, beta=0.47779864322375626, topK= 309, implicit=True)\n",
    "result_dict, _ = evaluator_test.evaluateRecommender(recommender)\n",
    "result_dict"
   ],
   "metadata": {
    "collapsed": false
   }
  },
  {
   "cell_type": "code",
   "execution_count": null,
   "outputs": [],
   "source": [],
   "metadata": {
    "collapsed": false
   }
  }
 ],
 "metadata": {
  "kernelspec": {
   "display_name": "Python 3",
   "language": "python",
   "name": "python3"
  },
  "language_info": {
   "codemirror_mode": {
    "name": "ipython",
    "version": 2
   },
   "file_extension": ".py",
   "mimetype": "text/x-python",
   "name": "python",
   "nbconvert_exporter": "python",
   "pygments_lexer": "ipython2",
   "version": "2.7.6"
  }
 },
 "nbformat": 4,
 "nbformat_minor": 0
}
