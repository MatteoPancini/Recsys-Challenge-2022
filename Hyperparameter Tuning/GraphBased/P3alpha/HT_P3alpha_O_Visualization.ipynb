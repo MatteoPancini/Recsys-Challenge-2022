{
 "cells": [
  {
   "cell_type": "code",
   "execution_count": 55,
   "outputs": [],
   "source": [
    "from optuna.samplers import TPESampler\n",
    "from Evaluation.Evaluator import EvaluatorHoldout\n",
    "from datetime import datetime\n",
    "from Utils.recsys2022DataReader import createBumpURM\n",
    "from Data_manager.split_functions.split_train_validation_random_holdout import \\\n",
    "        split_train_in_two_percentage_global_sample\n",
    "from Recommenders.GraphBased.P3alphaRecommender import P3alphaRecommender\n",
    "import optuna as op\n",
    "import json"
   ],
   "metadata": {
    "collapsed": false
   }
  },
  {
   "cell_type": "code",
   "execution_count": 56,
   "outputs": [
    {
     "name": "stderr",
     "output_type": "stream",
     "text": [
      "/Users/matteopancini/PycharmProjects/recsys-challenge-2022-Pancini-Vitali/Utils/recsys2022DataReader.py:12: DtypeWarning:\n",
      "\n",
      "Columns (2) have mixed types. Specify dtype option on import or set low_memory=False.\n",
      "\n"
     ]
    }
   ],
   "source": [
    "URM = createBumpURM()"
   ],
   "metadata": {
    "collapsed": false
   }
  },
  {
   "cell_type": "code",
   "execution_count": 57,
   "outputs": [
    {
     "name": "stdout",
     "output_type": "stream",
     "text": [
      "Warning: 340 (0.82 %) of 41629 users have no sampled items\n",
      "Warning: 767 (1.84 %) of 41629 users have no sampled items\n",
      "Warning: 1492 (3.58 %) of 41629 users have no sampled items\n",
      "Warning: 3 (0.01 %) of 41629 users have no train items\n",
      "Warning: 2701 (6.49 %) of 41629 users have no sampled items\n"
     ]
    }
   ],
   "source": [
    "URM_train_list = []\n",
    "URM_validation_list = []\n",
    "\n",
    "URM_train, URM_test = split_train_in_two_percentage_global_sample(URM, train_percentage=0.80)\n",
    "\n",
    "for k in range(3):\n",
    "    URM_train, URM_validation = split_train_in_two_percentage_global_sample(URM_train, train_percentage=0.80)\n",
    "    URM_train_list.append(URM_train)\n",
    "    URM_validation_list.append(URM_validation)\n",
    "\n",
    "recommender_P3alpha_list = []"
   ],
   "metadata": {
    "collapsed": false
   }
  },
  {
   "cell_type": "code",
   "execution_count": 58,
   "outputs": [],
   "source": [
    "def objective(trial):\n",
    "\n",
    "    MAP_List_Fold = []\n",
    "\n",
    "    topK = trial.suggest_int(\"topK\", 400, 800)\n",
    "    alpha = trial.suggest_float(\"alpha\", 0.6, 0.9)\n",
    "\n",
    "    for index in range(len(URM_train_list)):\n",
    "        recommender_P3alpha = P3alphaRecommender(URM_train_list[index], verbose=False)\n",
    "\n",
    "        recommender_P3alpha.fit(alpha=alpha, topK=topK)\n",
    "\n",
    "        recommender_P3alpha_list.append(recommender_P3alpha)\n",
    "\n",
    "        evaluator_validation = EvaluatorHoldout(URM_validation_list[index], cutoff_list=[10])\n",
    "\n",
    "        result_dict, _ = evaluator_validation.evaluateRecommender(recommender_P3alpha)\n",
    "\n",
    "        MAP_List_Fold.append(result_dict.iloc[0][\"MAP\"])\n",
    "\n",
    "    return sum(MAP_List_Fold) / len(MAP_List_Fold)"
   ],
   "metadata": {
    "collapsed": false
   }
  },
  {
   "cell_type": "code",
   "execution_count": 59,
   "outputs": [
    {
     "name": "stderr",
     "output_type": "stream",
     "text": [
      "/Users/matteopancini/opt/anaconda3/envs/recsys/lib/python3.9/site-packages/optuna/samplers/_tpe/sampler.py:281: ExperimentalWarning:\n",
      "\n",
      "``multivariate`` option is an experimental feature. The interface can change in the future.\n",
      "\n",
      "\u001B[32m[I 2022-11-10 17:09:30,967]\u001B[0m A new study created in memory with name: no-name-d321108f-2891-42d0-83ca-567005962a42\u001B[0m\n"
     ]
    },
    {
     "name": "stdout",
     "output_type": "stream",
     "text": [
      "EvaluatorHoldout: Ignoring 767 ( 1.8%) Users that have less than 1 test interactions\n",
      "EvaluatorHoldout: Processed 40862 (100.0%) in 19.79 sec. Users per second: 2065\n",
      "EvaluatorHoldout: Ignoring 1492 ( 3.6%) Users that have less than 1 test interactions\n",
      "EvaluatorHoldout: Processed 40137 (100.0%) in 18.38 sec. Users per second: 2184\n",
      "EvaluatorHoldout: Ignoring 2701 ( 6.5%) Users that have less than 1 test interactions\n",
      "EvaluatorHoldout: Processed 38928 (100.0%) in 16.95 sec. Users per second: 2296\n"
     ]
    },
    {
     "name": "stderr",
     "output_type": "stream",
     "text": [
      "\u001B[32m[I 2022-11-10 17:11:13,441]\u001B[0m Trial 0 finished with value: 0.013192232346487883 and parameters: {'topK': 481, 'alpha': 0.7279909074675759}. Best is trial 0 with value: 0.013192232346487883.\u001B[0m\n"
     ]
    },
    {
     "name": "stdout",
     "output_type": "stream",
     "text": [
      "EvaluatorHoldout: Ignoring 767 ( 1.8%) Users that have less than 1 test interactions\n",
      "EvaluatorHoldout: Processed 40862 (100.0%) in 22.41 sec. Users per second: 1824\n",
      "EvaluatorHoldout: Ignoring 1492 ( 3.6%) Users that have less than 1 test interactions\n",
      "EvaluatorHoldout: Processed 40137 (100.0%) in 20.71 sec. Users per second: 1938\n",
      "EvaluatorHoldout: Ignoring 2701 ( 6.5%) Users that have less than 1 test interactions\n",
      "EvaluatorHoldout: Processed 38928 (100.0%) in 18.72 sec. Users per second: 2079\n"
     ]
    },
    {
     "name": "stderr",
     "output_type": "stream",
     "text": [
      "\u001B[32m[I 2022-11-10 17:13:15,480]\u001B[0m Trial 1 finished with value: 0.012837702134622262 and parameters: {'topK': 792, 'alpha': 0.7070686676053721}. Best is trial 0 with value: 0.013192232346487883.\u001B[0m\n"
     ]
    },
    {
     "name": "stdout",
     "output_type": "stream",
     "text": [
      "EvaluatorHoldout: Ignoring 767 ( 1.8%) Users that have less than 1 test interactions\n",
      "EvaluatorHoldout: Processed 40862 (100.0%) in 20.94 sec. Users per second: 1951\n",
      "EvaluatorHoldout: Ignoring 1492 ( 3.6%) Users that have less than 1 test interactions\n",
      "EvaluatorHoldout: Processed 40137 (100.0%) in 19.44 sec. Users per second: 2064\n",
      "EvaluatorHoldout: Ignoring 2701 ( 6.5%) Users that have less than 1 test interactions\n",
      "EvaluatorHoldout: Processed 38928 (100.0%) in 17.93 sec. Users per second: 2172\n"
     ]
    },
    {
     "name": "stderr",
     "output_type": "stream",
     "text": [
      "\u001B[32m[I 2022-11-10 17:15:08,569]\u001B[0m Trial 2 finished with value: 0.012494257411166101 and parameters: {'topK': 650, 'alpha': 0.882952300167823}. Best is trial 0 with value: 0.013192232346487883.\u001B[0m\n"
     ]
    },
    {
     "name": "stdout",
     "output_type": "stream",
     "text": [
      "EvaluatorHoldout: Ignoring 767 ( 1.8%) Users that have less than 1 test interactions\n",
      "EvaluatorHoldout: Processed 40862 (100.0%) in 18.81 sec. Users per second: 2172\n",
      "EvaluatorHoldout: Ignoring 1492 ( 3.6%) Users that have less than 1 test interactions\n",
      "EvaluatorHoldout: Processed 40137 (100.0%) in 17.66 sec. Users per second: 2273\n",
      "EvaluatorHoldout: Ignoring 2701 ( 6.5%) Users that have less than 1 test interactions\n",
      "EvaluatorHoldout: Processed 38928 (100.0%) in 16.37 sec. Users per second: 2379\n"
     ]
    },
    {
     "name": "stderr",
     "output_type": "stream",
     "text": [
      "\u001B[32m[I 2022-11-10 17:16:44,288]\u001B[0m Trial 3 finished with value: 0.012988954148099025 and parameters: {'topK': 401, 'alpha': 0.8406004424029265}. Best is trial 0 with value: 0.013192232346487883.\u001B[0m\n"
     ]
    },
    {
     "name": "stdout",
     "output_type": "stream",
     "text": [
      "EvaluatorHoldout: Ignoring 767 ( 1.8%) Users that have less than 1 test interactions\n",
      "EvaluatorHoldout: Processed 40862 (100.0%) in 22.09 sec. Users per second: 1850\n",
      "EvaluatorHoldout: Ignoring 1492 ( 3.6%) Users that have less than 1 test interactions\n",
      "EvaluatorHoldout: Processed 40137 (100.0%) in 20.30 sec. Users per second: 1977\n",
      "EvaluatorHoldout: Ignoring 2701 ( 6.5%) Users that have less than 1 test interactions\n",
      "EvaluatorHoldout: Processed 38928 (100.0%) in 18.68 sec. Users per second: 2084\n"
     ]
    },
    {
     "name": "stderr",
     "output_type": "stream",
     "text": [
      "\u001B[32m[I 2022-11-10 17:18:44,784]\u001B[0m Trial 4 finished with value: 0.013212145036817856 and parameters: {'topK': 767, 'alpha': 0.7979089915059906}. Best is trial 4 with value: 0.013212145036817856.\u001B[0m\n"
     ]
    },
    {
     "name": "stdout",
     "output_type": "stream",
     "text": [
      "EvaluatorHoldout: Ignoring 767 ( 1.8%) Users that have less than 1 test interactions\n",
      "EvaluatorHoldout: Processed 40862 (100.0%) in 19.63 sec. Users per second: 2082\n",
      "EvaluatorHoldout: Ignoring 1492 ( 3.6%) Users that have less than 1 test interactions\n",
      "EvaluatorHoldout: Processed 40137 (100.0%) in 18.45 sec. Users per second: 2176\n",
      "EvaluatorHoldout: Ignoring 2701 ( 6.5%) Users that have less than 1 test interactions\n",
      "EvaluatorHoldout: Processed 38928 (100.0%) in 17.64 sec. Users per second: 2207\n"
     ]
    },
    {
     "name": "stderr",
     "output_type": "stream",
     "text": [
      "\u001B[32m[I 2022-11-10 17:20:26,239]\u001B[0m Trial 5 finished with value: 0.012657929217489252 and parameters: {'topK': 440, 'alpha': 0.631511167151756}. Best is trial 4 with value: 0.013212145036817856.\u001B[0m\n"
     ]
    },
    {
     "name": "stdout",
     "output_type": "stream",
     "text": [
      "EvaluatorHoldout: Ignoring 767 ( 1.8%) Users that have less than 1 test interactions\n",
      "EvaluatorHoldout: Processed 40862 (100.0%) in 19.82 sec. Users per second: 2062\n",
      "EvaluatorHoldout: Ignoring 1492 ( 3.6%) Users that have less than 1 test interactions\n"
     ]
    },
    {
     "name": "stderr",
     "output_type": "stream",
     "text": [
      "\u001B[33m[W 2022-11-10 17:21:33,087]\u001B[0m Trial 6 failed because of the following error: KeyboardInterrupt()\u001B[0m\n",
      "Traceback (most recent call last):\n",
      "  File \"/Users/matteopancini/opt/anaconda3/envs/recsys/lib/python3.9/site-packages/optuna/study/_optimize.py\", line 196, in _run_trial\n",
      "    value_or_values = func(trial)\n",
      "  File \"/var/folders/tt/9v6608x550n51759gpcrffsc0000gn/T/ipykernel_77043/1199796140.py\", line 17, in objective\n",
      "    result_dict, _ = evaluator_validation.evaluateRecommender(recommender_P3alpha)\n",
      "  File \"/Users/matteopancini/PycharmProjects/recsys-challenge-2022-Pancini-Vitali/Evaluation/Evaluator.py\", line 276, in evaluateRecommender\n",
      "    results_dict = self._run_evaluation_on_selected_users(recommender_object, self.users_to_evaluate)\n",
      "  File \"/Users/matteopancini/PycharmProjects/recsys-challenge-2022-Pancini-Vitali/Evaluation/Evaluator.py\", line 476, in _run_evaluation_on_selected_users\n",
      "    recommended_items_batch_list, scores_batch = recommender_object.recommend(test_user_batch_array,\n",
      "  File \"/Users/matteopancini/PycharmProjects/recsys-challenge-2022-Pancini-Vitali/Recommenders/BaseRecommender.py\", line 169, in recommend\n",
      "    relevant_items_partition = np.argpartition(-scores_batch, cutoff-1, axis=1)[:,0:cutoff]\n",
      "  File \"<__array_function__ internals>\", line 180, in argpartition\n",
      "  File \"/Users/matteopancini/opt/anaconda3/envs/recsys/lib/python3.9/site-packages/numpy/core/fromnumeric.py\", line 845, in argpartition\n",
      "    return _wrapfunc(a, 'argpartition', kth, axis=axis, kind=kind, order=order)\n",
      "  File \"/Users/matteopancini/opt/anaconda3/envs/recsys/lib/python3.9/site-packages/numpy/core/fromnumeric.py\", line 57, in _wrapfunc\n",
      "    return bound(*args, **kwds)\n",
      "KeyboardInterrupt\n"
     ]
    },
    {
     "ename": "KeyboardInterrupt",
     "evalue": "",
     "output_type": "error",
     "traceback": [
      "\u001B[0;31m---------------------------------------------------------------------------\u001B[0m",
      "\u001B[0;31mKeyboardInterrupt\u001B[0m                         Traceback (most recent call last)",
      "Cell \u001B[0;32mIn [59], line 2\u001B[0m\n\u001B[1;32m      1\u001B[0m study \u001B[38;5;241m=\u001B[39m op\u001B[38;5;241m.\u001B[39mcreate_study(direction\u001B[38;5;241m=\u001B[39m\u001B[38;5;124m'\u001B[39m\u001B[38;5;124mmaximize\u001B[39m\u001B[38;5;124m'\u001B[39m, sampler\u001B[38;5;241m=\u001B[39mTPESampler(multivariate\u001B[38;5;241m=\u001B[39m\u001B[38;5;28;01mTrue\u001B[39;00m))\n\u001B[0;32m----> 2\u001B[0m \u001B[43mstudy\u001B[49m\u001B[38;5;241;43m.\u001B[39;49m\u001B[43moptimize\u001B[49m\u001B[43m(\u001B[49m\u001B[43mobjective\u001B[49m\u001B[43m,\u001B[49m\u001B[43m \u001B[49m\u001B[43mn_trials\u001B[49m\u001B[38;5;241;43m=\u001B[39;49m\u001B[38;5;241;43m15\u001B[39;49m\u001B[43m)\u001B[49m\n",
      "File \u001B[0;32m~/opt/anaconda3/envs/recsys/lib/python3.9/site-packages/optuna/study/study.py:419\u001B[0m, in \u001B[0;36mStudy.optimize\u001B[0;34m(self, func, n_trials, timeout, n_jobs, catch, callbacks, gc_after_trial, show_progress_bar)\u001B[0m\n\u001B[1;32m    315\u001B[0m \u001B[38;5;28;01mdef\u001B[39;00m \u001B[38;5;21moptimize\u001B[39m(\n\u001B[1;32m    316\u001B[0m     \u001B[38;5;28mself\u001B[39m,\n\u001B[1;32m    317\u001B[0m     func: ObjectiveFuncType,\n\u001B[0;32m   (...)\u001B[0m\n\u001B[1;32m    324\u001B[0m     show_progress_bar: \u001B[38;5;28mbool\u001B[39m \u001B[38;5;241m=\u001B[39m \u001B[38;5;28;01mFalse\u001B[39;00m,\n\u001B[1;32m    325\u001B[0m ) \u001B[38;5;241m-\u001B[39m\u001B[38;5;241m>\u001B[39m \u001B[38;5;28;01mNone\u001B[39;00m:\n\u001B[1;32m    326\u001B[0m     \u001B[38;5;124;03m\"\"\"Optimize an objective function.\u001B[39;00m\n\u001B[1;32m    327\u001B[0m \n\u001B[1;32m    328\u001B[0m \u001B[38;5;124;03m    Optimization is done by choosing a suitable set of hyperparameter values from a given\u001B[39;00m\n\u001B[0;32m   (...)\u001B[0m\n\u001B[1;32m    416\u001B[0m \u001B[38;5;124;03m            If nested invocation of this method occurs.\u001B[39;00m\n\u001B[1;32m    417\u001B[0m \u001B[38;5;124;03m    \"\"\"\u001B[39;00m\n\u001B[0;32m--> 419\u001B[0m     \u001B[43m_optimize\u001B[49m\u001B[43m(\u001B[49m\n\u001B[1;32m    420\u001B[0m \u001B[43m        \u001B[49m\u001B[43mstudy\u001B[49m\u001B[38;5;241;43m=\u001B[39;49m\u001B[38;5;28;43mself\u001B[39;49m\u001B[43m,\u001B[49m\n\u001B[1;32m    421\u001B[0m \u001B[43m        \u001B[49m\u001B[43mfunc\u001B[49m\u001B[38;5;241;43m=\u001B[39;49m\u001B[43mfunc\u001B[49m\u001B[43m,\u001B[49m\n\u001B[1;32m    422\u001B[0m \u001B[43m        \u001B[49m\u001B[43mn_trials\u001B[49m\u001B[38;5;241;43m=\u001B[39;49m\u001B[43mn_trials\u001B[49m\u001B[43m,\u001B[49m\n\u001B[1;32m    423\u001B[0m \u001B[43m        \u001B[49m\u001B[43mtimeout\u001B[49m\u001B[38;5;241;43m=\u001B[39;49m\u001B[43mtimeout\u001B[49m\u001B[43m,\u001B[49m\n\u001B[1;32m    424\u001B[0m \u001B[43m        \u001B[49m\u001B[43mn_jobs\u001B[49m\u001B[38;5;241;43m=\u001B[39;49m\u001B[43mn_jobs\u001B[49m\u001B[43m,\u001B[49m\n\u001B[1;32m    425\u001B[0m \u001B[43m        \u001B[49m\u001B[43mcatch\u001B[49m\u001B[38;5;241;43m=\u001B[39;49m\u001B[43mcatch\u001B[49m\u001B[43m,\u001B[49m\n\u001B[1;32m    426\u001B[0m \u001B[43m        \u001B[49m\u001B[43mcallbacks\u001B[49m\u001B[38;5;241;43m=\u001B[39;49m\u001B[43mcallbacks\u001B[49m\u001B[43m,\u001B[49m\n\u001B[1;32m    427\u001B[0m \u001B[43m        \u001B[49m\u001B[43mgc_after_trial\u001B[49m\u001B[38;5;241;43m=\u001B[39;49m\u001B[43mgc_after_trial\u001B[49m\u001B[43m,\u001B[49m\n\u001B[1;32m    428\u001B[0m \u001B[43m        \u001B[49m\u001B[43mshow_progress_bar\u001B[49m\u001B[38;5;241;43m=\u001B[39;49m\u001B[43mshow_progress_bar\u001B[49m\u001B[43m,\u001B[49m\n\u001B[1;32m    429\u001B[0m \u001B[43m    \u001B[49m\u001B[43m)\u001B[49m\n",
      "File \u001B[0;32m~/opt/anaconda3/envs/recsys/lib/python3.9/site-packages/optuna/study/_optimize.py:66\u001B[0m, in \u001B[0;36m_optimize\u001B[0;34m(study, func, n_trials, timeout, n_jobs, catch, callbacks, gc_after_trial, show_progress_bar)\u001B[0m\n\u001B[1;32m     64\u001B[0m \u001B[38;5;28;01mtry\u001B[39;00m:\n\u001B[1;32m     65\u001B[0m     \u001B[38;5;28;01mif\u001B[39;00m n_jobs \u001B[38;5;241m==\u001B[39m \u001B[38;5;241m1\u001B[39m:\n\u001B[0;32m---> 66\u001B[0m         \u001B[43m_optimize_sequential\u001B[49m\u001B[43m(\u001B[49m\n\u001B[1;32m     67\u001B[0m \u001B[43m            \u001B[49m\u001B[43mstudy\u001B[49m\u001B[43m,\u001B[49m\n\u001B[1;32m     68\u001B[0m \u001B[43m            \u001B[49m\u001B[43mfunc\u001B[49m\u001B[43m,\u001B[49m\n\u001B[1;32m     69\u001B[0m \u001B[43m            \u001B[49m\u001B[43mn_trials\u001B[49m\u001B[43m,\u001B[49m\n\u001B[1;32m     70\u001B[0m \u001B[43m            \u001B[49m\u001B[43mtimeout\u001B[49m\u001B[43m,\u001B[49m\n\u001B[1;32m     71\u001B[0m \u001B[43m            \u001B[49m\u001B[43mcatch\u001B[49m\u001B[43m,\u001B[49m\n\u001B[1;32m     72\u001B[0m \u001B[43m            \u001B[49m\u001B[43mcallbacks\u001B[49m\u001B[43m,\u001B[49m\n\u001B[1;32m     73\u001B[0m \u001B[43m            \u001B[49m\u001B[43mgc_after_trial\u001B[49m\u001B[43m,\u001B[49m\n\u001B[1;32m     74\u001B[0m \u001B[43m            \u001B[49m\u001B[43mreseed_sampler_rng\u001B[49m\u001B[38;5;241;43m=\u001B[39;49m\u001B[38;5;28;43;01mFalse\u001B[39;49;00m\u001B[43m,\u001B[49m\n\u001B[1;32m     75\u001B[0m \u001B[43m            \u001B[49m\u001B[43mtime_start\u001B[49m\u001B[38;5;241;43m=\u001B[39;49m\u001B[38;5;28;43;01mNone\u001B[39;49;00m\u001B[43m,\u001B[49m\n\u001B[1;32m     76\u001B[0m \u001B[43m            \u001B[49m\u001B[43mprogress_bar\u001B[49m\u001B[38;5;241;43m=\u001B[39;49m\u001B[43mprogress_bar\u001B[49m\u001B[43m,\u001B[49m\n\u001B[1;32m     77\u001B[0m \u001B[43m        \u001B[49m\u001B[43m)\u001B[49m\n\u001B[1;32m     78\u001B[0m     \u001B[38;5;28;01melse\u001B[39;00m:\n\u001B[1;32m     79\u001B[0m         \u001B[38;5;28;01mif\u001B[39;00m n_jobs \u001B[38;5;241m==\u001B[39m \u001B[38;5;241m-\u001B[39m\u001B[38;5;241m1\u001B[39m:\n",
      "File \u001B[0;32m~/opt/anaconda3/envs/recsys/lib/python3.9/site-packages/optuna/study/_optimize.py:160\u001B[0m, in \u001B[0;36m_optimize_sequential\u001B[0;34m(study, func, n_trials, timeout, catch, callbacks, gc_after_trial, reseed_sampler_rng, time_start, progress_bar)\u001B[0m\n\u001B[1;32m    157\u001B[0m         \u001B[38;5;28;01mbreak\u001B[39;00m\n\u001B[1;32m    159\u001B[0m \u001B[38;5;28;01mtry\u001B[39;00m:\n\u001B[0;32m--> 160\u001B[0m     frozen_trial \u001B[38;5;241m=\u001B[39m \u001B[43m_run_trial\u001B[49m\u001B[43m(\u001B[49m\u001B[43mstudy\u001B[49m\u001B[43m,\u001B[49m\u001B[43m \u001B[49m\u001B[43mfunc\u001B[49m\u001B[43m,\u001B[49m\u001B[43m \u001B[49m\u001B[43mcatch\u001B[49m\u001B[43m)\u001B[49m\n\u001B[1;32m    161\u001B[0m \u001B[38;5;28;01mfinally\u001B[39;00m:\n\u001B[1;32m    162\u001B[0m     \u001B[38;5;66;03m# The following line mitigates memory problems that can be occurred in some\u001B[39;00m\n\u001B[1;32m    163\u001B[0m     \u001B[38;5;66;03m# environments (e.g., services that use computing containers such as CircleCI).\u001B[39;00m\n\u001B[1;32m    164\u001B[0m     \u001B[38;5;66;03m# Please refer to the following PR for further details:\u001B[39;00m\n\u001B[1;32m    165\u001B[0m     \u001B[38;5;66;03m# https://github.com/optuna/optuna/pull/325.\u001B[39;00m\n\u001B[1;32m    166\u001B[0m     \u001B[38;5;28;01mif\u001B[39;00m gc_after_trial:\n",
      "File \u001B[0;32m~/opt/anaconda3/envs/recsys/lib/python3.9/site-packages/optuna/study/_optimize.py:234\u001B[0m, in \u001B[0;36m_run_trial\u001B[0;34m(study, func, catch)\u001B[0m\n\u001B[1;32m    227\u001B[0m         \u001B[38;5;28;01massert\u001B[39;00m \u001B[38;5;28;01mFalse\u001B[39;00m, \u001B[38;5;124m\"\u001B[39m\u001B[38;5;124mShould not reach.\u001B[39m\u001B[38;5;124m\"\u001B[39m\n\u001B[1;32m    229\u001B[0m \u001B[38;5;28;01mif\u001B[39;00m (\n\u001B[1;32m    230\u001B[0m     frozen_trial\u001B[38;5;241m.\u001B[39mstate \u001B[38;5;241m==\u001B[39m TrialState\u001B[38;5;241m.\u001B[39mFAIL\n\u001B[1;32m    231\u001B[0m     \u001B[38;5;129;01mand\u001B[39;00m func_err \u001B[38;5;129;01mis\u001B[39;00m \u001B[38;5;129;01mnot\u001B[39;00m \u001B[38;5;28;01mNone\u001B[39;00m\n\u001B[1;32m    232\u001B[0m     \u001B[38;5;129;01mand\u001B[39;00m \u001B[38;5;129;01mnot\u001B[39;00m \u001B[38;5;28misinstance\u001B[39m(func_err, catch)\n\u001B[1;32m    233\u001B[0m ):\n\u001B[0;32m--> 234\u001B[0m     \u001B[38;5;28;01mraise\u001B[39;00m func_err\n\u001B[1;32m    235\u001B[0m \u001B[38;5;28;01mreturn\u001B[39;00m frozen_trial\n",
      "File \u001B[0;32m~/opt/anaconda3/envs/recsys/lib/python3.9/site-packages/optuna/study/_optimize.py:196\u001B[0m, in \u001B[0;36m_run_trial\u001B[0;34m(study, func, catch)\u001B[0m\n\u001B[1;32m    194\u001B[0m \u001B[38;5;28;01mwith\u001B[39;00m get_heartbeat_thread(trial\u001B[38;5;241m.\u001B[39m_trial_id, study\u001B[38;5;241m.\u001B[39m_storage):\n\u001B[1;32m    195\u001B[0m     \u001B[38;5;28;01mtry\u001B[39;00m:\n\u001B[0;32m--> 196\u001B[0m         value_or_values \u001B[38;5;241m=\u001B[39m \u001B[43mfunc\u001B[49m\u001B[43m(\u001B[49m\u001B[43mtrial\u001B[49m\u001B[43m)\u001B[49m\n\u001B[1;32m    197\u001B[0m     \u001B[38;5;28;01mexcept\u001B[39;00m exceptions\u001B[38;5;241m.\u001B[39mTrialPruned \u001B[38;5;28;01mas\u001B[39;00m e:\n\u001B[1;32m    198\u001B[0m         \u001B[38;5;66;03m# TODO(mamu): Handle multi-objective cases.\u001B[39;00m\n\u001B[1;32m    199\u001B[0m         state \u001B[38;5;241m=\u001B[39m TrialState\u001B[38;5;241m.\u001B[39mPRUNED\n",
      "Cell \u001B[0;32mIn [58], line 17\u001B[0m, in \u001B[0;36mobjective\u001B[0;34m(trial)\u001B[0m\n\u001B[1;32m     13\u001B[0m     recommender_P3alpha_list\u001B[38;5;241m.\u001B[39mappend(recommender_P3alpha)\n\u001B[1;32m     15\u001B[0m     evaluator_validation \u001B[38;5;241m=\u001B[39m EvaluatorHoldout(URM_validation_list[index], cutoff_list\u001B[38;5;241m=\u001B[39m[\u001B[38;5;241m10\u001B[39m])\n\u001B[0;32m---> 17\u001B[0m     result_dict, _ \u001B[38;5;241m=\u001B[39m \u001B[43mevaluator_validation\u001B[49m\u001B[38;5;241;43m.\u001B[39;49m\u001B[43mevaluateRecommender\u001B[49m\u001B[43m(\u001B[49m\u001B[43mrecommender_P3alpha\u001B[49m\u001B[43m)\u001B[49m\n\u001B[1;32m     19\u001B[0m     MAP_List_Fold\u001B[38;5;241m.\u001B[39mappend(result_dict\u001B[38;5;241m.\u001B[39miloc[\u001B[38;5;241m0\u001B[39m][\u001B[38;5;124m\"\u001B[39m\u001B[38;5;124mMAP\u001B[39m\u001B[38;5;124m\"\u001B[39m])\n\u001B[1;32m     21\u001B[0m \u001B[38;5;28;01mreturn\u001B[39;00m \u001B[38;5;28msum\u001B[39m(MAP_List_Fold) \u001B[38;5;241m/\u001B[39m \u001B[38;5;28mlen\u001B[39m(MAP_List_Fold)\n",
      "File \u001B[0;32m~/PycharmProjects/recsys-challenge-2022-Pancini-Vitali/Evaluation/Evaluator.py:276\u001B[0m, in \u001B[0;36mEvaluator.evaluateRecommender\u001B[0;34m(self, recommender_object)\u001B[0m\n\u001B[1;32m    273\u001B[0m \u001B[38;5;28mself\u001B[39m\u001B[38;5;241m.\u001B[39m_start_time_print \u001B[38;5;241m=\u001B[39m time\u001B[38;5;241m.\u001B[39mtime()\n\u001B[1;32m    274\u001B[0m \u001B[38;5;28mself\u001B[39m\u001B[38;5;241m.\u001B[39m_n_users_evaluated \u001B[38;5;241m=\u001B[39m \u001B[38;5;241m0\u001B[39m\n\u001B[0;32m--> 276\u001B[0m results_dict \u001B[38;5;241m=\u001B[39m \u001B[38;5;28;43mself\u001B[39;49m\u001B[38;5;241;43m.\u001B[39;49m\u001B[43m_run_evaluation_on_selected_users\u001B[49m\u001B[43m(\u001B[49m\u001B[43mrecommender_object\u001B[49m\u001B[43m,\u001B[49m\u001B[43m \u001B[49m\u001B[38;5;28;43mself\u001B[39;49m\u001B[38;5;241;43m.\u001B[39;49m\u001B[43musers_to_evaluate\u001B[49m\u001B[43m)\u001B[49m\n\u001B[1;32m    279\u001B[0m \u001B[38;5;28;01mif\u001B[39;00m \u001B[38;5;28mself\u001B[39m\u001B[38;5;241m.\u001B[39m_n_users_evaluated \u001B[38;5;241m>\u001B[39m \u001B[38;5;241m0\u001B[39m:\n\u001B[1;32m    281\u001B[0m     \u001B[38;5;28;01mfor\u001B[39;00m cutoff \u001B[38;5;129;01min\u001B[39;00m \u001B[38;5;28mself\u001B[39m\u001B[38;5;241m.\u001B[39mcutoff_list:\n",
      "File \u001B[0;32m~/PycharmProjects/recsys-challenge-2022-Pancini-Vitali/Evaluation/Evaluator.py:476\u001B[0m, in \u001B[0;36mEvaluatorHoldout._run_evaluation_on_selected_users\u001B[0;34m(self, recommender_object, users_to_evaluate, block_size)\u001B[0m\n\u001B[1;32m    473\u001B[0m     user_batch_start \u001B[38;5;241m=\u001B[39m user_batch_end\n\u001B[1;32m    475\u001B[0m     \u001B[38;5;66;03m# Compute predictions for a batch of users using vectorization, much more efficient than computing it one at a time\u001B[39;00m\n\u001B[0;32m--> 476\u001B[0m     recommended_items_batch_list, scores_batch \u001B[38;5;241m=\u001B[39m \u001B[43mrecommender_object\u001B[49m\u001B[38;5;241;43m.\u001B[39;49m\u001B[43mrecommend\u001B[49m\u001B[43m(\u001B[49m\u001B[43mtest_user_batch_array\u001B[49m\u001B[43m,\u001B[49m\n\u001B[1;32m    477\u001B[0m \u001B[43m                                                              \u001B[49m\u001B[43mremove_seen_flag\u001B[49m\u001B[38;5;241;43m=\u001B[39;49m\u001B[38;5;28;43mself\u001B[39;49m\u001B[38;5;241;43m.\u001B[39;49m\u001B[43mexclude_seen\u001B[49m\u001B[43m,\u001B[49m\n\u001B[1;32m    478\u001B[0m \u001B[43m                                                              \u001B[49m\u001B[43mcutoff\u001B[49m\u001B[43m \u001B[49m\u001B[38;5;241;43m=\u001B[39;49m\u001B[43m \u001B[49m\u001B[38;5;28;43mself\u001B[39;49m\u001B[38;5;241;43m.\u001B[39;49m\u001B[43mmax_cutoff\u001B[49m\u001B[43m,\u001B[49m\n\u001B[1;32m    479\u001B[0m \u001B[43m                                                              \u001B[49m\u001B[43mremove_top_pop_flag\u001B[49m\u001B[38;5;241;43m=\u001B[39;49m\u001B[38;5;28;43;01mFalse\u001B[39;49;00m\u001B[43m,\u001B[49m\n\u001B[1;32m    480\u001B[0m \u001B[43m                                                              \u001B[49m\u001B[43mremove_custom_items_flag\u001B[49m\u001B[38;5;241;43m=\u001B[39;49m\u001B[38;5;28;43mself\u001B[39;49m\u001B[38;5;241;43m.\u001B[39;49m\u001B[43mignore_items_flag\u001B[49m\u001B[43m,\u001B[49m\n\u001B[1;32m    481\u001B[0m \u001B[43m                                                              \u001B[49m\u001B[43mreturn_scores\u001B[49m\u001B[43m \u001B[49m\u001B[38;5;241;43m=\u001B[39;49m\u001B[43m \u001B[49m\u001B[38;5;28;43;01mTrue\u001B[39;49;00m\n\u001B[1;32m    482\u001B[0m \u001B[43m                                                             \u001B[49m\u001B[43m)\u001B[49m\n\u001B[1;32m    484\u001B[0m     results_dict \u001B[38;5;241m=\u001B[39m \u001B[38;5;28mself\u001B[39m\u001B[38;5;241m.\u001B[39m_compute_metrics_on_recommendation_list(test_user_batch_array \u001B[38;5;241m=\u001B[39m test_user_batch_array,\n\u001B[1;32m    485\u001B[0m                                                  recommended_items_batch_list \u001B[38;5;241m=\u001B[39m recommended_items_batch_list,\n\u001B[1;32m    486\u001B[0m                                                  scores_batch \u001B[38;5;241m=\u001B[39m scores_batch,\n\u001B[1;32m    487\u001B[0m                                                  results_dict \u001B[38;5;241m=\u001B[39m results_dict)\n\u001B[1;32m    490\u001B[0m \u001B[38;5;28;01mreturn\u001B[39;00m results_dict\n",
      "File \u001B[0;32m~/PycharmProjects/recsys-challenge-2022-Pancini-Vitali/Recommenders/BaseRecommender.py:169\u001B[0m, in \u001B[0;36mBaseRecommender.recommend\u001B[0;34m(self, user_id_array, cutoff, remove_seen_flag, items_to_compute, remove_top_pop_flag, remove_custom_items_flag, return_scores)\u001B[0m\n\u001B[1;32m    162\u001B[0m     scores_batch \u001B[38;5;241m=\u001B[39m \u001B[38;5;28mself\u001B[39m\u001B[38;5;241m.\u001B[39m_remove_custom_items_on_scores(scores_batch)\n\u001B[1;32m    164\u001B[0m \u001B[38;5;66;03m# Sorting is done in three steps. Faster then plain np.argsort for higher number of items\u001B[39;00m\n\u001B[1;32m    165\u001B[0m \u001B[38;5;66;03m# - Partition the data to extract the set of relevant items\u001B[39;00m\n\u001B[1;32m    166\u001B[0m \u001B[38;5;66;03m# - Sort only the relevant items\u001B[39;00m\n\u001B[1;32m    167\u001B[0m \u001B[38;5;66;03m# - Get the original item index\u001B[39;00m\n\u001B[1;32m    168\u001B[0m \u001B[38;5;66;03m# relevant_items_partition is block_size x cutoff\u001B[39;00m\n\u001B[0;32m--> 169\u001B[0m relevant_items_partition \u001B[38;5;241m=\u001B[39m \u001B[43mnp\u001B[49m\u001B[38;5;241;43m.\u001B[39;49m\u001B[43margpartition\u001B[49m\u001B[43m(\u001B[49m\u001B[38;5;241;43m-\u001B[39;49m\u001B[43mscores_batch\u001B[49m\u001B[43m,\u001B[49m\u001B[43m \u001B[49m\u001B[43mcutoff\u001B[49m\u001B[38;5;241;43m-\u001B[39;49m\u001B[38;5;241;43m1\u001B[39;49m\u001B[43m,\u001B[49m\u001B[43m \u001B[49m\u001B[43maxis\u001B[49m\u001B[38;5;241;43m=\u001B[39;49m\u001B[38;5;241;43m1\u001B[39;49m\u001B[43m)\u001B[49m[:,\u001B[38;5;241m0\u001B[39m:cutoff]\n\u001B[1;32m    171\u001B[0m \u001B[38;5;66;03m# Get original value and sort it\u001B[39;00m\n\u001B[1;32m    172\u001B[0m \u001B[38;5;66;03m# [:, None] adds 1 dimension to the array, from (block_size,) to (block_size,1)\u001B[39;00m\n\u001B[1;32m    173\u001B[0m \u001B[38;5;66;03m# This is done to correctly get scores_batch value as [row, relevant_items_partition[row,:]]\u001B[39;00m\n\u001B[1;32m    174\u001B[0m relevant_items_partition_original_value \u001B[38;5;241m=\u001B[39m scores_batch[np\u001B[38;5;241m.\u001B[39marange(scores_batch\u001B[38;5;241m.\u001B[39mshape[\u001B[38;5;241m0\u001B[39m])[:, \u001B[38;5;28;01mNone\u001B[39;00m], relevant_items_partition]\n",
      "File \u001B[0;32m<__array_function__ internals>:180\u001B[0m, in \u001B[0;36margpartition\u001B[0;34m(*args, **kwargs)\u001B[0m\n",
      "File \u001B[0;32m~/opt/anaconda3/envs/recsys/lib/python3.9/site-packages/numpy/core/fromnumeric.py:845\u001B[0m, in \u001B[0;36margpartition\u001B[0;34m(a, kth, axis, kind, order)\u001B[0m\n\u001B[1;32m    766\u001B[0m \u001B[38;5;129m@array_function_dispatch\u001B[39m(_argpartition_dispatcher)\n\u001B[1;32m    767\u001B[0m \u001B[38;5;28;01mdef\u001B[39;00m \u001B[38;5;21margpartition\u001B[39m(a, kth, axis\u001B[38;5;241m=\u001B[39m\u001B[38;5;241m-\u001B[39m\u001B[38;5;241m1\u001B[39m, kind\u001B[38;5;241m=\u001B[39m\u001B[38;5;124m'\u001B[39m\u001B[38;5;124mintroselect\u001B[39m\u001B[38;5;124m'\u001B[39m, order\u001B[38;5;241m=\u001B[39m\u001B[38;5;28;01mNone\u001B[39;00m):\n\u001B[1;32m    768\u001B[0m     \u001B[38;5;124;03m\"\"\"\u001B[39;00m\n\u001B[1;32m    769\u001B[0m \u001B[38;5;124;03m    Perform an indirect partition along the given axis using the\u001B[39;00m\n\u001B[1;32m    770\u001B[0m \u001B[38;5;124;03m    algorithm specified by the `kind` keyword. It returns an array of\u001B[39;00m\n\u001B[0;32m   (...)\u001B[0m\n\u001B[1;32m    843\u001B[0m \n\u001B[1;32m    844\u001B[0m \u001B[38;5;124;03m    \"\"\"\u001B[39;00m\n\u001B[0;32m--> 845\u001B[0m     \u001B[38;5;28;01mreturn\u001B[39;00m \u001B[43m_wrapfunc\u001B[49m\u001B[43m(\u001B[49m\u001B[43ma\u001B[49m\u001B[43m,\u001B[49m\u001B[43m \u001B[49m\u001B[38;5;124;43m'\u001B[39;49m\u001B[38;5;124;43margpartition\u001B[39;49m\u001B[38;5;124;43m'\u001B[39;49m\u001B[43m,\u001B[49m\u001B[43m \u001B[49m\u001B[43mkth\u001B[49m\u001B[43m,\u001B[49m\u001B[43m \u001B[49m\u001B[43maxis\u001B[49m\u001B[38;5;241;43m=\u001B[39;49m\u001B[43maxis\u001B[49m\u001B[43m,\u001B[49m\u001B[43m \u001B[49m\u001B[43mkind\u001B[49m\u001B[38;5;241;43m=\u001B[39;49m\u001B[43mkind\u001B[49m\u001B[43m,\u001B[49m\u001B[43m \u001B[49m\u001B[43morder\u001B[49m\u001B[38;5;241;43m=\u001B[39;49m\u001B[43morder\u001B[49m\u001B[43m)\u001B[49m\n",
      "File \u001B[0;32m~/opt/anaconda3/envs/recsys/lib/python3.9/site-packages/numpy/core/fromnumeric.py:57\u001B[0m, in \u001B[0;36m_wrapfunc\u001B[0;34m(obj, method, *args, **kwds)\u001B[0m\n\u001B[1;32m     54\u001B[0m     \u001B[38;5;28;01mreturn\u001B[39;00m _wrapit(obj, method, \u001B[38;5;241m*\u001B[39margs, \u001B[38;5;241m*\u001B[39m\u001B[38;5;241m*\u001B[39mkwds)\n\u001B[1;32m     56\u001B[0m \u001B[38;5;28;01mtry\u001B[39;00m:\n\u001B[0;32m---> 57\u001B[0m     \u001B[38;5;28;01mreturn\u001B[39;00m \u001B[43mbound\u001B[49m\u001B[43m(\u001B[49m\u001B[38;5;241;43m*\u001B[39;49m\u001B[43margs\u001B[49m\u001B[43m,\u001B[49m\u001B[43m \u001B[49m\u001B[38;5;241;43m*\u001B[39;49m\u001B[38;5;241;43m*\u001B[39;49m\u001B[43mkwds\u001B[49m\u001B[43m)\u001B[49m\n\u001B[1;32m     58\u001B[0m \u001B[38;5;28;01mexcept\u001B[39;00m \u001B[38;5;167;01mTypeError\u001B[39;00m:\n\u001B[1;32m     59\u001B[0m     \u001B[38;5;66;03m# A TypeError occurs if the object does have such a method in its\u001B[39;00m\n\u001B[1;32m     60\u001B[0m     \u001B[38;5;66;03m# class, but its signature is not identical to that of NumPy's. This\u001B[39;00m\n\u001B[0;32m   (...)\u001B[0m\n\u001B[1;32m     64\u001B[0m     \u001B[38;5;66;03m# Call _wrapit from within the except clause to ensure a potential\u001B[39;00m\n\u001B[1;32m     65\u001B[0m     \u001B[38;5;66;03m# exception has a traceback chain.\u001B[39;00m\n\u001B[1;32m     66\u001B[0m     \u001B[38;5;28;01mreturn\u001B[39;00m _wrapit(obj, method, \u001B[38;5;241m*\u001B[39margs, \u001B[38;5;241m*\u001B[39m\u001B[38;5;241m*\u001B[39mkwds)\n",
      "\u001B[0;31mKeyboardInterrupt\u001B[0m: "
     ]
    }
   ],
   "source": [
    "study = op.create_study(direction='maximize', sampler=TPESampler(multivariate=True))\n",
    "study.optimize(objective, n_trials=15)"
   ],
   "metadata": {
    "collapsed": false
   }
  },
  {
   "cell_type": "code",
   "execution_count": null,
   "outputs": [],
   "source": [
    "topK = study.best_params['topK']\n",
    "alpha = study.best_params['alpha']"
   ],
   "metadata": {
    "collapsed": false
   }
  },
  {
   "cell_type": "code",
   "execution_count": null,
   "outputs": [],
   "source": [
    "op.visualization.plot_optimization_history(study)"
   ],
   "metadata": {
    "collapsed": false
   }
  },
  {
   "cell_type": "code",
   "execution_count": null,
   "outputs": [],
   "source": [
    "op.visualization.plot_param_importances(study)"
   ],
   "metadata": {
    "collapsed": false
   }
  },
  {
   "cell_type": "code",
   "execution_count": null,
   "outputs": [],
   "source": [
    "recommender_P3alpha_list[0].fit(alpha=alpha, topK=topK)\n",
    "\n",
    "evaluator_test = EvaluatorHoldout(URM_test, cutoff_list=[10])\n",
    "result_dict, _ = evaluator_test.evaluateRecommender(recommender_P3alpha_list[0])\n",
    "result_dict.iloc[0][\"MAP\"]"
   ],
   "metadata": {
    "collapsed": false
   }
  },
  {
   "cell_type": "code",
   "execution_count": null,
   "outputs": [],
   "source": [
    "resultParameters = result_dict.to_json(orient=\"records\")\n",
    "parsed = json.loads(resultParameters)"
   ],
   "metadata": {
    "collapsed": false
   }
  },
  {
   "cell_type": "code",
   "execution_count": null,
   "outputs": [],
   "source": [
    "with open(\"logs/\" + recommender_P3alpha_list[0].RECOMMENDER_NAME + \"_logs_\" + datetime.now().strftime('%b%d_%H-%M-%S') + \".json\", 'w') as json_file:\n",
    "    json.dump(study.best_params, json_file, indent=4)\n",
    "    json.dump(parsed, json_file, indent=4)"
   ],
   "metadata": {
    "collapsed": false
   }
  },
  {
   "cell_type": "code",
   "execution_count": null,
   "outputs": [],
   "source": [],
   "metadata": {
    "collapsed": false
   }
  }
 ],
 "metadata": {
  "kernelspec": {
   "display_name": "Python 3",
   "language": "python",
   "name": "python3"
  },
  "language_info": {
   "codemirror_mode": {
    "name": "ipython",
    "version": 2
   },
   "file_extension": ".py",
   "mimetype": "text/x-python",
   "name": "python",
   "nbconvert_exporter": "python",
   "pygments_lexer": "ipython2",
   "version": "2.7.6"
  }
 },
 "nbformat": 4,
 "nbformat_minor": 0
}
