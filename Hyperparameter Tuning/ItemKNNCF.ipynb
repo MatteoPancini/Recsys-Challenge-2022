{
 "cells": [
  {
   "cell_type": "code",
   "execution_count": 1,
   "outputs": [],
   "source": [
    "%load_ext Cython"
   ],
   "metadata": {
    "collapsed": false
   }
  },
  {
   "cell_type": "code",
   "execution_count": 2,
   "outputs": [],
   "source": [
    "import numpy as np\n",
    "import pandas as pd\n",
    "import scipy.sparse as sp\n",
    "import matplotlib.pyplot as pyplot\n",
    "import optuna as op\n",
    "%matplotlib inline\n",
    "from Data_manager.split_functions.split_train_validation_random_holdout import split_train_in_two_percentage_global_sample\n",
    "from Evaluation.Evaluator import EvaluatorHoldout\n",
    "from Recommenders.KNN.ItemKNNCFRecommender import ItemKNNCFRecommender"
   ],
   "metadata": {
    "collapsed": false
   }
  },
  {
   "cell_type": "code",
   "execution_count": 3,
   "outputs": [
    {
     "name": "stderr",
     "output_type": "stream",
     "text": [
      "/var/folders/tt/9v6608x550n51759gpcrffsc0000gn/T/ipykernel_12146/4045740091.py:1: DtypeWarning: Columns (2) have mixed types. Specify dtype option on import or set low_memory=False.\n",
      "  dataset = pd.read_csv('../Input/interactions_and_impressions.csv')\n"
     ]
    }
   ],
   "source": [
    "dataset = pd.read_csv('../Input/interactions_and_impressions.csv')\n",
    "dataset = dataset.drop(columns=['Impressions'])\n",
    "\n",
    "datasetCOO = sp.coo_matrix((dataset[\"Data\"].values, (dataset[\"UserID\"].values, dataset[\"ItemID\"].values)))\n",
    "userIDS = dataset['UserID'].unique()\n",
    "itemIDS = dataset['ItemID'].unique()\n",
    "\n",
    "URM = np.zeros((len(userIDS), len(itemIDS)), dtype=int)\n",
    "for x in range(len(datasetCOO.data)):\n",
    "    if datasetCOO.data[x] == 0:\n",
    "        URM[datasetCOO.row[x]][datasetCOO.col[x]] = int(1)\n",
    "\n",
    "URM = sp.csr_matrix(URM)"
   ],
   "metadata": {
    "collapsed": false
   }
  },
  {
   "cell_type": "code",
   "execution_count": 4,
   "outputs": [
    {
     "name": "stdout",
     "output_type": "stream",
     "text": [
      "Warning: 2 (0.00 %) of 41629 users have no train items\n",
      "Warning: 1580 (3.80 %) of 41629 users have no sampled items\n",
      "Warning: 6 (0.01 %) of 41629 users have no train items\n",
      "Warning: 2679 (6.44 %) of 41629 users have no sampled items\n"
     ]
    }
   ],
   "source": [
    "URM_train, URM_test = split_train_in_two_percentage_global_sample(URM, train_percentage = 0.80)\n",
    "URM_train, URM_validation = split_train_in_two_percentage_global_sample(URM_train, train_percentage = 0.80)"
   ],
   "metadata": {
    "collapsed": false
   }
  },
  {
   "cell_type": "code",
   "execution_count": 5,
   "outputs": [
    {
     "name": "stdout",
     "output_type": "stream",
     "text": [
      "EvaluatorHoldout: Ignoring 2679 ( 6.4%) Users that have less than 1 test interactions\n",
      "EvaluatorHoldout: Ignoring 1580 ( 3.8%) Users that have less than 1 test interactions\n"
     ]
    }
   ],
   "source": [
    "evaluator_validation = EvaluatorHoldout(URM_validation, cutoff_list=[10])\n",
    "evaluator_test = EvaluatorHoldout(URM_test, cutoff_list=[10])"
   ],
   "metadata": {
    "collapsed": false
   }
  },
  {
   "cell_type": "markdown",
   "source": [
    "## Number of Neighbors"
   ],
   "metadata": {
    "collapsed": false
   }
  },
  {
   "cell_type": "code",
   "execution_count": 6,
   "outputs": [
    {
     "name": "stdout",
     "output_type": "stream",
     "text": [
      "ItemKNNCFRecommender: URM Detected 5 ( 0.0%) users with no interactions.\n",
      "Unable to load Cython Compute_Similarity, reverting to Python\n",
      "Similarity column 24507 (100.0%), 494.97 column/sec. Elapsed time 49.51 sec\n",
      "EvaluatorHoldout: Processed 38943 (100.0%) in 30.62 sec. Users per second: 1272\n",
      "ItemKNNCFRecommender: URM Detected 5 ( 0.0%) users with no interactions.\n",
      "Unable to load Cython Compute_Similarity, reverting to Python\n",
      "Similarity column 24507 (100.0%), 449.01 column/sec. Elapsed time 54.58 sec\n"
     ]
    },
    {
     "ename": "KeyboardInterrupt",
     "evalue": "",
     "output_type": "error",
     "traceback": [
      "\u001B[1;31m---------------------------------------------------------------------------\u001B[0m",
      "\u001B[1;31mKeyboardInterrupt\u001B[0m                         Traceback (most recent call last)",
      "Input \u001B[1;32mIn [6]\u001B[0m, in \u001B[0;36m<cell line: 6>\u001B[1;34m()\u001B[0m\n\u001B[0;32m      8\u001B[0m recommender \u001B[38;5;241m=\u001B[39m ItemKNNCFRecommender(URM_train)\n\u001B[0;32m      9\u001B[0m recommender\u001B[38;5;241m.\u001B[39mfit(shrink\u001B[38;5;241m=\u001B[39m\u001B[38;5;241m0.0\u001B[39m, topK\u001B[38;5;241m=\u001B[39mtopK)\n\u001B[1;32m---> 11\u001B[0m result_df, _ \u001B[38;5;241m=\u001B[39m \u001B[43mevaluator_validation\u001B[49m\u001B[38;5;241;43m.\u001B[39;49m\u001B[43mevaluateRecommender\u001B[49m\u001B[43m(\u001B[49m\u001B[43mrecommender\u001B[49m\u001B[43m)\u001B[49m\n\u001B[0;32m     13\u001B[0m MAP_per_k\u001B[38;5;241m.\u001B[39mappend(result_df\u001B[38;5;241m.\u001B[39mloc[\u001B[38;5;241m10\u001B[39m][\u001B[38;5;124m\"\u001B[39m\u001B[38;5;124mMAP\u001B[39m\u001B[38;5;124m\"\u001B[39m])\n",
      "File \u001B[1;32m~\\PycharmProjects\\recsys-challenge-2022-Pancini-Vitali\\Evaluation\\Evaluator.py:276\u001B[0m, in \u001B[0;36mEvaluator.evaluateRecommender\u001B[1;34m(self, recommender_object)\u001B[0m\n\u001B[0;32m    273\u001B[0m \u001B[38;5;28mself\u001B[39m\u001B[38;5;241m.\u001B[39m_start_time_print \u001B[38;5;241m=\u001B[39m time\u001B[38;5;241m.\u001B[39mtime()\n\u001B[0;32m    274\u001B[0m \u001B[38;5;28mself\u001B[39m\u001B[38;5;241m.\u001B[39m_n_users_evaluated \u001B[38;5;241m=\u001B[39m \u001B[38;5;241m0\u001B[39m\n\u001B[1;32m--> 276\u001B[0m results_dict \u001B[38;5;241m=\u001B[39m \u001B[38;5;28;43mself\u001B[39;49m\u001B[38;5;241;43m.\u001B[39;49m\u001B[43m_run_evaluation_on_selected_users\u001B[49m\u001B[43m(\u001B[49m\u001B[43mrecommender_object\u001B[49m\u001B[43m,\u001B[49m\u001B[43m \u001B[49m\u001B[38;5;28;43mself\u001B[39;49m\u001B[38;5;241;43m.\u001B[39;49m\u001B[43musers_to_evaluate\u001B[49m\u001B[43m)\u001B[49m\n\u001B[0;32m    279\u001B[0m \u001B[38;5;28;01mif\u001B[39;00m \u001B[38;5;28mself\u001B[39m\u001B[38;5;241m.\u001B[39m_n_users_evaluated \u001B[38;5;241m>\u001B[39m \u001B[38;5;241m0\u001B[39m:\n\u001B[0;32m    281\u001B[0m     \u001B[38;5;28;01mfor\u001B[39;00m cutoff \u001B[38;5;129;01min\u001B[39;00m \u001B[38;5;28mself\u001B[39m\u001B[38;5;241m.\u001B[39mcutoff_list:\n",
      "File \u001B[1;32m~\\PycharmProjects\\recsys-challenge-2022-Pancini-Vitali\\Evaluation\\Evaluator.py:476\u001B[0m, in \u001B[0;36mEvaluatorHoldout._run_evaluation_on_selected_users\u001B[1;34m(self, recommender_object, users_to_evaluate, block_size)\u001B[0m\n\u001B[0;32m    473\u001B[0m     user_batch_start \u001B[38;5;241m=\u001B[39m user_batch_end\n\u001B[0;32m    475\u001B[0m     \u001B[38;5;66;03m# Compute predictions for a batch of users using vectorization, much more efficient than computing it one at a time\u001B[39;00m\n\u001B[1;32m--> 476\u001B[0m     recommended_items_batch_list, scores_batch \u001B[38;5;241m=\u001B[39m \u001B[43mrecommender_object\u001B[49m\u001B[38;5;241;43m.\u001B[39;49m\u001B[43mrecommend\u001B[49m\u001B[43m(\u001B[49m\u001B[43mtest_user_batch_array\u001B[49m\u001B[43m,\u001B[49m\n\u001B[0;32m    477\u001B[0m \u001B[43m                                                              \u001B[49m\u001B[43mremove_seen_flag\u001B[49m\u001B[38;5;241;43m=\u001B[39;49m\u001B[38;5;28;43mself\u001B[39;49m\u001B[38;5;241;43m.\u001B[39;49m\u001B[43mexclude_seen\u001B[49m\u001B[43m,\u001B[49m\n\u001B[0;32m    478\u001B[0m \u001B[43m                                                              \u001B[49m\u001B[43mcutoff\u001B[49m\u001B[43m \u001B[49m\u001B[38;5;241;43m=\u001B[39;49m\u001B[43m \u001B[49m\u001B[38;5;28;43mself\u001B[39;49m\u001B[38;5;241;43m.\u001B[39;49m\u001B[43mmax_cutoff\u001B[49m\u001B[43m,\u001B[49m\n\u001B[0;32m    479\u001B[0m \u001B[43m                                                              \u001B[49m\u001B[43mremove_top_pop_flag\u001B[49m\u001B[38;5;241;43m=\u001B[39;49m\u001B[38;5;28;43;01mFalse\u001B[39;49;00m\u001B[43m,\u001B[49m\n\u001B[0;32m    480\u001B[0m \u001B[43m                                                              \u001B[49m\u001B[43mremove_custom_items_flag\u001B[49m\u001B[38;5;241;43m=\u001B[39;49m\u001B[38;5;28;43mself\u001B[39;49m\u001B[38;5;241;43m.\u001B[39;49m\u001B[43mignore_items_flag\u001B[49m\u001B[43m,\u001B[49m\n\u001B[0;32m    481\u001B[0m \u001B[43m                                                              \u001B[49m\u001B[43mreturn_scores\u001B[49m\u001B[43m \u001B[49m\u001B[38;5;241;43m=\u001B[39;49m\u001B[43m \u001B[49m\u001B[38;5;28;43;01mTrue\u001B[39;49;00m\n\u001B[0;32m    482\u001B[0m \u001B[43m                                                             \u001B[49m\u001B[43m)\u001B[49m\n\u001B[0;32m    484\u001B[0m     results_dict \u001B[38;5;241m=\u001B[39m \u001B[38;5;28mself\u001B[39m\u001B[38;5;241m.\u001B[39m_compute_metrics_on_recommendation_list(test_user_batch_array \u001B[38;5;241m=\u001B[39m test_user_batch_array,\n\u001B[0;32m    485\u001B[0m                                                  recommended_items_batch_list \u001B[38;5;241m=\u001B[39m recommended_items_batch_list,\n\u001B[0;32m    486\u001B[0m                                                  scores_batch \u001B[38;5;241m=\u001B[39m scores_batch,\n\u001B[0;32m    487\u001B[0m                                                  results_dict \u001B[38;5;241m=\u001B[39m results_dict)\n\u001B[0;32m    490\u001B[0m \u001B[38;5;28;01mreturn\u001B[39;00m results_dict\n",
      "File \u001B[1;32m~\\PycharmProjects\\recsys-challenge-2022-Pancini-Vitali\\Recommenders\\BaseRecommender.py:184\u001B[0m, in \u001B[0;36mBaseRecommender.recommend\u001B[1;34m(self, user_id_array, cutoff, remove_seen_flag, items_to_compute, remove_top_pop_flag, remove_custom_items_flag, return_scores)\u001B[0m\n\u001B[0;32m    182\u001B[0m \u001B[38;5;28;01mfor\u001B[39;00m user_index \u001B[38;5;129;01min\u001B[39;00m \u001B[38;5;28mrange\u001B[39m(\u001B[38;5;28mlen\u001B[39m(user_id_array)):\n\u001B[0;32m    183\u001B[0m     user_recommendation_list \u001B[38;5;241m=\u001B[39m ranking[user_index]\n\u001B[1;32m--> 184\u001B[0m     user_item_scores \u001B[38;5;241m=\u001B[39m \u001B[43mscores_batch\u001B[49m\u001B[43m[\u001B[49m\u001B[43muser_index\u001B[49m\u001B[43m,\u001B[49m\u001B[43m \u001B[49m\u001B[43muser_recommendation_list\u001B[49m\u001B[43m]\u001B[49m\n\u001B[0;32m    186\u001B[0m     not_inf_scores_mask \u001B[38;5;241m=\u001B[39m np\u001B[38;5;241m.\u001B[39mlogical_not(np\u001B[38;5;241m.\u001B[39misinf(user_item_scores))\n\u001B[0;32m    188\u001B[0m     user_recommendation_list \u001B[38;5;241m=\u001B[39m user_recommendation_list[not_inf_scores_mask]\n",
      "\u001B[1;31mKeyboardInterrupt\u001B[0m: "
     ]
    }
   ],
   "source": [
    "x_tick = [10, 25, 40, 50, 100]\n",
    "MAP_per_k = []\n",
    "\n",
    "for topK in x_tick:\n",
    "\n",
    "    recommender = ItemKNNCFRecommender(URM_train)\n",
    "    recommender.fit(shrink=0.0, topK=topK)\n",
    "\n",
    "    result_df, _ = evaluator_validation.evaluateRecommender(recommender)\n",
    "\n",
    "    MAP_per_k.append(result_df.loc[10][\"MAP\"])"
   ],
   "metadata": {
    "collapsed": false
   }
  },
  {
   "cell_type": "code",
   "execution_count": 23,
   "outputs": [
    {
     "data": {
      "text/plain": "<Figure size 640x480 with 1 Axes>",
      "image/png": "[encoded data removed]"
     },
     "metadata": {},
     "output_type": "display_data"
    }
   ],
   "source": [
    "pyplot.plot(x_tick, MAP_per_k)\n",
    "pyplot.ylabel('MAP')\n",
    "pyplot.xlabel('TopK')\n",
    "pyplot.show()"
   ],
   "metadata": {
    "collapsed": false
   }
  },
  {
   "cell_type": "markdown",
   "source": [
    "Let's take topK=23"
   ],
   "metadata": {
    "collapsed": false
   }
  },
  {
   "cell_type": "markdown",
   "source": [
    "## Shrinkage"
   ],
   "metadata": {
    "collapsed": false
   }
  },
  {
   "cell_type": "code",
   "execution_count": 24,
   "outputs": [
    {
     "name": "stdout",
     "output_type": "stream",
     "text": [
      "ItemKNNCFRecommender: URM Detected 6 ( 0.0%) users with no interactions.\n",
      "Unable to load Cython Compute_Similarity, reverting to Python\n",
      "Similarity column 24507 (100.0%), 1632.31 column/sec. Elapsed time 15.01 sec\n",
      "EvaluatorHoldout: Processed 38894 (100.0%) in 17.25 sec. Users per second: 2255\n",
      "ItemKNNCFRecommender: URM Detected 6 ( 0.0%) users with no interactions.\n",
      "Unable to load Cython Compute_Similarity, reverting to Python\n",
      "Similarity column 24507 (100.0%), 1603.38 column/sec. Elapsed time 15.28 sec\n",
      "EvaluatorHoldout: Processed 38894 (100.0%) in 17.55 sec. Users per second: 2216\n",
      "ItemKNNCFRecommender: URM Detected 6 ( 0.0%) users with no interactions.\n",
      "Unable to load Cython Compute_Similarity, reverting to Python\n",
      "Similarity column 24507 (100.0%), 1632.11 column/sec. Elapsed time 15.02 sec\n",
      "EvaluatorHoldout: Processed 38894 (100.0%) in 18.83 sec. Users per second: 2066\n",
      "ItemKNNCFRecommender: URM Detected 6 ( 0.0%) users with no interactions.\n",
      "Unable to load Cython Compute_Similarity, reverting to Python\n",
      "Similarity column 24507 (100.0%), 1647.27 column/sec. Elapsed time 14.88 sec\n",
      "EvaluatorHoldout: Processed 38894 (100.0%) in 20.75 sec. Users per second: 1875\n",
      "ItemKNNCFRecommender: URM Detected 6 ( 0.0%) users with no interactions.\n",
      "Unable to load Cython Compute_Similarity, reverting to Python\n",
      "Similarity column 24507 (100.0%), 1745.97 column/sec. Elapsed time 14.04 sec\n",
      "EvaluatorHoldout: Processed 38894 (100.0%) in 21.89 sec. Users per second: 1777\n"
     ]
    }
   ],
   "source": [
    "x_tick = [0, 10, 50, 100, 200]\n",
    "MAP_per_shrinkage = []\n",
    "\n",
    "for shrink in x_tick:\n",
    "\n",
    "    recommender = ItemKNNCFRecommender(URM_train)\n",
    "    recommender.fit(shrink=shrink, topK=100)\n",
    "\n",
    "    result_df, _ = evaluator_validation.evaluateRecommender(recommender)\n",
    "\n",
    "    MAP_per_shrinkage.append(result_df.loc[10][\"MAP\"])"
   ],
   "metadata": {
    "collapsed": false
   }
  },
  {
   "cell_type": "code",
   "execution_count": 25,
   "outputs": [
    {
     "data": {
      "text/plain": "<Figure size 640x480 with 1 Axes>",
      "image/png": "[encoded data removed]"
     },
     "metadata": {},
     "output_type": "display_data"
    }
   ],
   "source": [
    "pyplot.plot(x_tick, MAP_per_shrinkage)\n",
    "pyplot.ylabel('MAP')\n",
    "pyplot.xlabel('Shrinkage')\n",
    "pyplot.show()"
   ],
   "metadata": {
    "collapsed": false
   }
  },
  {
   "cell_type": "markdown",
   "source": [
    "Let's take shrinkage = 100"
   ],
   "metadata": {
    "collapsed": false
   }
  },
  {
   "cell_type": "markdown",
   "source": [
    "## Testing of reccomenders"
   ],
   "metadata": {
    "collapsed": false
   }
  },
  {
   "cell_type": "code",
   "execution_count": 20,
   "outputs": [
    {
     "name": "stdout",
     "output_type": "stream",
     "text": [
      "ItemKNNCFRecommender: URM Detected 7 ( 0.0%) users with no interactions.\n",
      "ItemKNNCFRecommender: URM Detected 7 ( 0.0%) users with no interactions.\n",
      "Unable to load Cython Compute_Similarity, reverting to Python\n"
     ]
    },
    {
     "ename": "KeyboardInterrupt",
     "evalue": "",
     "output_type": "error",
     "traceback": [
      "\u001B[0;31m---------------------------------------------------------------------------\u001B[0m",
      "\u001B[0;31mKeyboardInterrupt\u001B[0m                         Traceback (most recent call last)",
      "Cell \u001B[0;32mIn [20], line 16\u001B[0m\n\u001B[1;32m     13\u001B[0m \u001B[38;5;28;01mfor\u001B[39;00m shrink \u001B[38;5;129;01min\u001B[39;00m [\u001B[38;5;241m10\u001B[39m, \u001B[38;5;241m100\u001B[39m]:\n\u001B[1;32m     14\u001B[0m     x_tick\u001B[38;5;241m.\u001B[39mappend(\u001B[38;5;124m\"\u001B[39m\u001B[38;5;124mtopk \u001B[39m\u001B[38;5;132;01m{}\u001B[39;00m\u001B[38;5;124m, shrink \u001B[39m\u001B[38;5;132;01m{}\u001B[39;00m\u001B[38;5;124m\"\u001B[39m\u001B[38;5;241m.\u001B[39mformat(topK, shrink))\n\u001B[0;32m---> 16\u001B[0m     \u001B[43mcollaborative_recommender1\u001B[49m\u001B[38;5;241;43m.\u001B[39;49m\u001B[43mfit\u001B[49m\u001B[43m(\u001B[49m\u001B[43mshrink\u001B[49m\u001B[38;5;241;43m=\u001B[39;49m\u001B[43mshrink\u001B[49m\u001B[43m,\u001B[49m\u001B[43m \u001B[49m\u001B[43mtopK\u001B[49m\u001B[38;5;241;43m=\u001B[39;49m\u001B[43mtopK\u001B[49m\u001B[43m)\u001B[49m\n\u001B[1;32m     17\u001B[0m     collaborative_recommender2\u001B[38;5;241m.\u001B[39mfit(shrink\u001B[38;5;241m=\u001B[39mshrink, topK\u001B[38;5;241m=\u001B[39mtopK)\n\u001B[1;32m     19\u001B[0m     result_df, _ \u001B[38;5;241m=\u001B[39m evaluator_test\u001B[38;5;241m.\u001B[39mevaluateRecommender(collaborative_recommender1)\n",
      "File \u001B[0;32m~/PycharmProjects/recsys-challenge-2022-Pancini-Vitali/Recommenders/KNN/ItemKNNCFRecommender.py:55\u001B[0m, in \u001B[0;36mItemKNNCFRecommender.fit\u001B[0;34m(self, topK, shrink, similarity, normalize, feature_weighting, URM_bias, **similarity_args)\u001B[0m\n\u001B[1;32m     50\u001B[0m     \u001B[38;5;28mself\u001B[39m\u001B[38;5;241m.\u001B[39mURM_train \u001B[38;5;241m=\u001B[39m check_matrix(\u001B[38;5;28mself\u001B[39m\u001B[38;5;241m.\u001B[39mURM_train, \u001B[38;5;124m'\u001B[39m\u001B[38;5;124mcsr\u001B[39m\u001B[38;5;124m'\u001B[39m)\n\u001B[1;32m     52\u001B[0m similarity \u001B[38;5;241m=\u001B[39m Compute_Similarity(\u001B[38;5;28mself\u001B[39m\u001B[38;5;241m.\u001B[39mURM_train, shrink\u001B[38;5;241m=\u001B[39mshrink, topK\u001B[38;5;241m=\u001B[39mtopK, normalize\u001B[38;5;241m=\u001B[39mnormalize, similarity \u001B[38;5;241m=\u001B[39m similarity, \u001B[38;5;241m*\u001B[39m\u001B[38;5;241m*\u001B[39msimilarity_args)\n\u001B[0;32m---> 55\u001B[0m \u001B[38;5;28mself\u001B[39m\u001B[38;5;241m.\u001B[39mW_sparse \u001B[38;5;241m=\u001B[39m \u001B[43msimilarity\u001B[49m\u001B[38;5;241;43m.\u001B[39;49m\u001B[43mcompute_similarity\u001B[49m\u001B[43m(\u001B[49m\u001B[43m)\u001B[49m\n\u001B[1;32m     56\u001B[0m \u001B[38;5;28mself\u001B[39m\u001B[38;5;241m.\u001B[39mW_sparse \u001B[38;5;241m=\u001B[39m check_matrix(\u001B[38;5;28mself\u001B[39m\u001B[38;5;241m.\u001B[39mW_sparse, \u001B[38;5;28mformat\u001B[39m\u001B[38;5;241m=\u001B[39m\u001B[38;5;124m'\u001B[39m\u001B[38;5;124mcsr\u001B[39m\u001B[38;5;124m'\u001B[39m)\n",
      "File \u001B[0;32m~/PycharmProjects/recsys-challenge-2022-Pancini-Vitali/Recommenders/Similarity/Compute_Similarity.py:126\u001B[0m, in \u001B[0;36mCompute_Similarity.compute_similarity\u001B[0;34m(self, **args)\u001B[0m\n\u001B[1;32m    124\u001B[0m \u001B[38;5;28;01mdef\u001B[39;00m \u001B[38;5;21mcompute_similarity\u001B[39m(\u001B[38;5;28mself\u001B[39m,  \u001B[38;5;241m*\u001B[39m\u001B[38;5;241m*\u001B[39margs):\n\u001B[0;32m--> 126\u001B[0m     \u001B[38;5;28;01mreturn\u001B[39;00m \u001B[38;5;28;43mself\u001B[39;49m\u001B[38;5;241;43m.\u001B[39;49m\u001B[43mcompute_similarity_object\u001B[49m\u001B[38;5;241;43m.\u001B[39;49m\u001B[43mcompute_similarity\u001B[49m\u001B[43m(\u001B[49m\u001B[38;5;241;43m*\u001B[39;49m\u001B[38;5;241;43m*\u001B[39;49m\u001B[43margs\u001B[49m\u001B[43m)\u001B[49m\n",
      "File \u001B[0;32m~/PycharmProjects/recsys-challenge-2022-Pancini-Vitali/Recommenders/Similarity/Compute_Similarity_Python.py:366\u001B[0m, in \u001B[0;36mCompute_Similarity_Python.compute_similarity\u001B[0;34m(self, start_col, end_col, block_size)\u001B[0m\n\u001B[1;32m    363\u001B[0m     \u001B[38;5;28;01melse\u001B[39;00m:\n\u001B[1;32m    364\u001B[0m         denominator \u001B[38;5;241m=\u001B[39m sum_of_squared[columnIndex] \u001B[38;5;241m*\u001B[39m sum_of_squared \u001B[38;5;241m+\u001B[39m \u001B[38;5;28mself\u001B[39m\u001B[38;5;241m.\u001B[39mshrink \u001B[38;5;241m+\u001B[39m \u001B[38;5;241m1e-6\u001B[39m\n\u001B[0;32m--> 366\u001B[0m     this_column_weights \u001B[38;5;241m=\u001B[39m \u001B[43mnp\u001B[49m\u001B[38;5;241;43m.\u001B[39;49m\u001B[43mmultiply\u001B[49m\u001B[43m(\u001B[49m\u001B[43mthis_column_weights\u001B[49m\u001B[43m,\u001B[49m\u001B[43m \u001B[49m\u001B[38;5;241;43m1\u001B[39;49m\u001B[43m \u001B[49m\u001B[38;5;241;43m/\u001B[39;49m\u001B[43m \u001B[49m\u001B[43mdenominator\u001B[49m\u001B[43m)\u001B[49m\n\u001B[1;32m    369\u001B[0m \u001B[38;5;66;03m# Apply the specific denominator for Tanimoto\u001B[39;00m\n\u001B[1;32m    370\u001B[0m \u001B[38;5;28;01melif\u001B[39;00m \u001B[38;5;28mself\u001B[39m\u001B[38;5;241m.\u001B[39mtanimoto_coefficient:\n",
      "\u001B[0;31mKeyboardInterrupt\u001B[0m: "
     ]
    }
   ],
   "source": [
    "collaborative_recommender1 = ItemKNNCFRecommender(URM_train)\n",
    "# collaborative_recommender1.fit(shrink=10, topK=20)\n",
    "\n",
    "collaborative_recommender2 = ItemKNNCFRecommender(URM_train)\n",
    "# collaborative_recommender2.fit(shrink=100, topK=25)\n",
    "\n",
    "collaborative_MAP1 = []\n",
    "collaborative_MAP2 = []\n",
    "\n",
    "x_tick = []\n",
    "\n",
    "for topK in [20, 25]:\n",
    "    for shrink in [10, 100]:\n",
    "        x_tick.append(\"topk {}, shrink {}\".format(topK, shrink))\n",
    "\n",
    "        collaborative_recommender1.fit(shrink=shrink, topK=topK)\n",
    "        collaborative_recommender2.fit(shrink=shrink, topK=topK)\n",
    "\n",
    "        result_df, _ = evaluator_test.evaluateRecommender(collaborative_recommender1)\n",
    "        collaborative_MAP1.append(result_df.loc[10][\"MAP\"])\n",
    "\n",
    "        result_df, _ = evaluator_test.evaluateRecommender(collaborative_recommender2)\n",
    "        collaborative_MAP2.append(result_df.loc[10][\"MAP\"])"
   ],
   "metadata": {
    "collapsed": false,
    "pycharm": {
     "name": "#%%cython\n"
    }
   }
  },
  {
   "cell_type": "code",
   "execution_count": 17,
   "outputs": [
    {
     "data": {
      "text/plain": "<Figure size 640x480 with 1 Axes>",
      "image/png": "[encoded data removed]"
     },
     "metadata": {},
     "output_type": "display_data"
    }
   ],
   "source": [
    "pyplot.plot(x_tick, collaborative_MAP1, label=\"Collaborative1\")\n",
    "pyplot.plot(x_tick, collaborative_MAP2, label=\"Collaborative2\")\n",
    "\n",
    "pyplot.ylabel('Similarity')\n",
    "pyplot.xlabel('Sorted values')\n",
    "pyplot.legend()\n",
    "pyplot.show()"
   ],
   "metadata": {
    "collapsed": false
   }
  },
  {
   "cell_type": "markdown",
   "source": [
    "## OPTUNA optimization"
   ],
   "metadata": {
    "collapsed": false
   }
  },
  {
   "cell_type": "code",
   "execution_count": 6,
   "outputs": [
    {
     "name": "stdout",
     "output_type": "stream",
     "text": [
      "ItemKNNCFRecommender: URM Detected 6 ( 0.0%) users with no interactions.\n"
     ]
    }
   ],
   "source": [
    "recommender = ItemKNNCFRecommender(URM_train)\n",
    "\n",
    "def objective(trial):\n",
    "    topK = trial.suggest_float(\"topK\", 20, 500)\n",
    "    shrink = trial.suggest_float(\"shrink\", 0, 100)\n",
    "    recommender.fit(topK=int(topK), shrink=shrink)\n",
    "    result_dict, _ = evaluator_validation.evaluateRecommender(recommender)\n",
    "\n",
    "    return result_dict.loc[10][\"MAP\"]"
   ],
   "metadata": {
    "collapsed": false
   }
  },
  {
   "cell_type": "code",
   "execution_count": 7,
   "outputs": [],
   "source": [
    "# objective = represents the function that we need to minimize\n",
    "# trial = optuna parameter that tries random values in a certain interval\n",
    "\n",
    "def objective(trial):\n",
    "    topK = trial.suggest_float(\"topK\", 20, 60)\n",
    "    shrink = trial.suggest_float(\"shrink\", 5, 25)\n",
    "    recommender.fit(topK=int(topK), shrink=shrink)\n",
    "    result_dict, _ = evaluator_validation.evaluateRecommender(recommender)\n",
    "\n",
    "    return result_dict.loc[10][\"MAP\"]"
   ],
   "metadata": {
    "collapsed": false
   }
  },
  {
   "cell_type": "code",
   "execution_count": 8,
   "outputs": [
    {
     "name": "stderr",
     "output_type": "stream",
     "text": [
      "\u001B[32m[I 2022-11-04 22:33:48,248]\u001B[0m A new study created in memory with name: no-name-2c7fe412-baed-4434-897e-2384206a17d0\u001B[0m\n"
     ]
    },
    {
     "name": "stdout",
     "output_type": "stream",
     "text": [
      "Similarity column 24507 (100.0%), 9445.82 column/sec. Elapsed time 2.59 sec\n",
      "EvaluatorHoldout: Processed 38950 (100.0%) in 14.75 sec. Users per second: 2640\n"
     ]
    },
    {
     "name": "stderr",
     "output_type": "stream",
     "text": [
      "\u001B[32m[I 2022-11-04 22:34:05,658]\u001B[0m Trial 0 finished with value: 0.017527730912647296 and parameters: {'topK': 51.671247960899215, 'shrink': 24.222108288044993}. Best is trial 0 with value: 0.017527730912647296.\u001B[0m\n"
     ]
    },
    {
     "name": "stdout",
     "output_type": "stream",
     "text": [
      "Similarity column 24507 (100.0%), 9741.93 column/sec. Elapsed time 2.52 sec\n",
      "EvaluatorHoldout: Processed 38950 (100.0%) in 13.75 sec. Users per second: 2834\n"
     ]
    },
    {
     "name": "stderr",
     "output_type": "stream",
     "text": [
      "\u001B[32m[I 2022-11-04 22:34:21,946]\u001B[0m Trial 1 finished with value: 0.017099333700103816 and parameters: {'topK': 30.77503577741142, 'shrink': 6.37058266038554}. Best is trial 0 with value: 0.017527730912647296.\u001B[0m\n"
     ]
    },
    {
     "name": "stdout",
     "output_type": "stream",
     "text": [
      "Similarity column 24507 (100.0%), 9716.44 column/sec. Elapsed time 2.52 sec\n",
      "EvaluatorHoldout: Processed 38950 (100.0%) in 14.41 sec. Users per second: 2702\n"
     ]
    },
    {
     "name": "stderr",
     "output_type": "stream",
     "text": [
      "\u001B[32m[I 2022-11-04 22:34:38,917]\u001B[0m Trial 2 finished with value: 0.01732825865476679 and parameters: {'topK': 56.34325514565549, 'shrink': 6.564217307838131}. Best is trial 0 with value: 0.017527730912647296.\u001B[0m\n"
     ]
    },
    {
     "name": "stdout",
     "output_type": "stream",
     "text": [
      "Similarity column 24507 (100.0%), 9740.47 column/sec. Elapsed time 2.52 sec\n",
      "EvaluatorHoldout: Processed 38950 (100.0%) in 13.96 sec. Users per second: 2791\n"
     ]
    },
    {
     "name": "stderr",
     "output_type": "stream",
     "text": [
      "\u001B[32m[I 2022-11-04 22:34:55,414]\u001B[0m Trial 3 finished with value: 0.01729144201968318 and parameters: {'topK': 30.897865189762463, 'shrink': 16.56199471475656}. Best is trial 0 with value: 0.017527730912647296.\u001B[0m\n"
     ]
    },
    {
     "name": "stdout",
     "output_type": "stream",
     "text": [
      "Similarity column 24507 (100.0%), 9738.84 column/sec. Elapsed time 2.52 sec\n",
      "EvaluatorHoldout: Processed 38950 (100.0%) in 13.72 sec. Users per second: 2840\n"
     ]
    },
    {
     "name": "stderr",
     "output_type": "stream",
     "text": [
      "\u001B[32m[I 2022-11-04 22:35:11,668]\u001B[0m Trial 4 finished with value: 0.01705733031766398 and parameters: {'topK': 23.31234793927182, 'shrink': 13.128887445248829}. Best is trial 0 with value: 0.017527730912647296.\u001B[0m\n"
     ]
    },
    {
     "name": "stdout",
     "output_type": "stream",
     "text": [
      "Similarity column 24507 (100.0%), 9754.03 column/sec. Elapsed time 2.51 sec\n",
      "EvaluatorHoldout: Processed 38950 (100.0%) in 13.95 sec. Users per second: 2792\n"
     ]
    },
    {
     "name": "stderr",
     "output_type": "stream",
     "text": [
      "\u001B[32m[I 2022-11-04 22:35:28,156]\u001B[0m Trial 5 finished with value: 0.017175211402489912 and parameters: {'topK': 21.56312240341157, 'shrink': 23.94682707417983}. Best is trial 0 with value: 0.017527730912647296.\u001B[0m\n"
     ]
    },
    {
     "name": "stdout",
     "output_type": "stream",
     "text": [
      "Similarity column 24507 (100.0%), 9701.47 column/sec. Elapsed time 2.53 sec\n",
      "EvaluatorHoldout: Processed 38950 (100.0%) in 14.56 sec. Users per second: 2676\n"
     ]
    },
    {
     "name": "stderr",
     "output_type": "stream",
     "text": [
      "\u001B[32m[I 2022-11-04 22:35:45,267]\u001B[0m Trial 6 finished with value: 0.017364435478941082 and parameters: {'topK': 55.25710611808226, 'shrink': 6.796641177055274}. Best is trial 0 with value: 0.017527730912647296.\u001B[0m\n"
     ]
    },
    {
     "name": "stdout",
     "output_type": "stream",
     "text": [
      "Similarity column 24507 (100.0%), 9651.95 column/sec. Elapsed time 2.54 sec\n",
      "EvaluatorHoldout: Processed 38950 (100.0%) in 14.31 sec. Users per second: 2721\n"
     ]
    },
    {
     "name": "stderr",
     "output_type": "stream",
     "text": [
      "\u001B[32m[I 2022-11-04 22:36:02,143]\u001B[0m Trial 7 finished with value: 0.017255382358334712 and parameters: {'topK': 28.52334025744691, 'shrink': 23.766956652500507}. Best is trial 0 with value: 0.017527730912647296.\u001B[0m\n"
     ]
    },
    {
     "name": "stdout",
     "output_type": "stream",
     "text": [
      "Similarity column 24507 (100.0%), 9629.36 column/sec. Elapsed time 2.55 sec\n",
      "EvaluatorHoldout: Processed 38950 (100.0%) in 14.81 sec. Users per second: 2630\n"
     ]
    },
    {
     "name": "stderr",
     "output_type": "stream",
     "text": [
      "\u001B[32m[I 2022-11-04 22:36:19,529]\u001B[0m Trial 8 finished with value: 0.01751475945962448 and parameters: {'topK': 51.81428956189145, 'shrink': 19.902516943885807}. Best is trial 0 with value: 0.017527730912647296.\u001B[0m\n"
     ]
    },
    {
     "name": "stdout",
     "output_type": "stream",
     "text": [
      "Similarity column 24507 (100.0%), 9587.02 column/sec. Elapsed time 2.56 sec\n",
      "EvaluatorHoldout: Processed 38950 (100.0%) in 14.20 sec. Users per second: 2742\n"
     ]
    },
    {
     "name": "stderr",
     "output_type": "stream",
     "text": [
      "\u001B[32m[I 2022-11-04 22:36:36,315]\u001B[0m Trial 9 finished with value: 0.017383082706766743 and parameters: {'topK': 38.070384675777085, 'shrink': 15.371465436520353}. Best is trial 0 with value: 0.017527730912647296.\u001B[0m\n"
     ]
    }
   ],
   "source": [
    "study = op.create_study(direction='maximize')\n",
    "study.optimize(objective, n_trials=10)"
   ],
   "metadata": {
    "collapsed": false
   }
  },
  {
   "cell_type": "code",
   "execution_count": 9,
   "outputs": [],
   "source": [
    "topK = study.best_params['topK']\n",
    "shrink = study.best_params['shrink']"
   ],
   "metadata": {
    "collapsed": false
   }
  },
  {
   "cell_type": "code",
   "execution_count": 10,
   "outputs": [
    {
     "data": {
      "text/plain": "51.671247960899215"
     },
     "execution_count": 10,
     "metadata": {},
     "output_type": "execute_result"
    }
   ],
   "source": [
    "topK"
   ],
   "metadata": {
    "collapsed": false
   }
  },
  {
   "cell_type": "code",
   "execution_count": 11,
   "outputs": [
    {
     "data": {
      "text/plain": "24.222108288044993"
     },
     "execution_count": 11,
     "metadata": {},
     "output_type": "execute_result"
    }
   ],
   "source": [
    "shrink"
   ],
   "metadata": {
    "collapsed": false
   }
  },
  {
   "cell_type": "code",
   "execution_count": 18,
   "outputs": [
    {
     "name": "stdout",
     "output_type": "stream",
     "text": [
      "Unable to load Cython Compute_Similarity, reverting to Python\n",
      "Similarity column 24507 (100.0%), 2239.63 column/sec. Elapsed time 10.94 sec\n",
      "EvaluatorHoldout: Processed 40049 (100.0%) in 14.52 sec. Users per second: 2757\n"
     ]
    },
    {
     "data": {
      "text/plain": "       PRECISION PRECISION_RECALL_MIN_DEN    RECALL       MAP MAP_MIN_DEN  \\\ncutoff                                                                      \n10      0.046321                 0.079588  0.074875  0.021972    0.037271   \n\n             MRR      NDCG        F1  HIT_RATE ARHR_ALL_HITS  ...  \\\ncutoff                                                        ...   \n10      0.146416  0.074062  0.057234  0.306824      0.178098  ...   \n\n       COVERAGE_USER COVERAGE_USER_HIT USERS_IN_GT DIVERSITY_GINI  \\\ncutoff                                                              \n10          0.962046          0.295179    0.962046        0.06312   \n\n       SHANNON_ENTROPY RATIO_DIVERSITY_HERFINDAHL RATIO_DIVERSITY_GINI  \\\ncutoff                                                                   \n10            9.998054                   0.996586             0.144911   \n\n       RATIO_SHANNON_ENTROPY RATIO_AVERAGE_POPULARITY RATIO_NOVELTY  \ncutoff                                                               \n10                  0.758633                 2.655495      0.521819  \n\n[1 rows x 27 columns]",
      "text/html": "<div>\n<style scoped>\n    .dataframe tbody tr th:only-of-type {\n        vertical-align: middle;\n    }\n\n    .dataframe tbody tr th {\n        vertical-align: top;\n    }\n\n    .dataframe thead th {\n        text-align: right;\n    }\n</style>\n<table border=\"1\" class=\"dataframe\">\n  <thead>\n    <tr style=\"text-align: right;\">\n      <th></th>\n      <th>PRECISION</th>\n      <th>PRECISION_RECALL_MIN_DEN</th>\n      <th>RECALL</th>\n      <th>MAP</th>\n      <th>MAP_MIN_DEN</th>\n      <th>MRR</th>\n      <th>NDCG</th>\n      <th>F1</th>\n      <th>HIT_RATE</th>\n      <th>ARHR_ALL_HITS</th>\n      <th>...</th>\n      <th>COVERAGE_USER</th>\n      <th>COVERAGE_USER_HIT</th>\n      <th>USERS_IN_GT</th>\n      <th>DIVERSITY_GINI</th>\n      <th>SHANNON_ENTROPY</th>\n      <th>RATIO_DIVERSITY_HERFINDAHL</th>\n      <th>RATIO_DIVERSITY_GINI</th>\n      <th>RATIO_SHANNON_ENTROPY</th>\n      <th>RATIO_AVERAGE_POPULARITY</th>\n      <th>RATIO_NOVELTY</th>\n    </tr>\n    <tr>\n      <th>cutoff</th>\n      <th></th>\n      <th></th>\n      <th></th>\n      <th></th>\n      <th></th>\n      <th></th>\n      <th></th>\n      <th></th>\n      <th></th>\n      <th></th>\n      <th></th>\n      <th></th>\n      <th></th>\n      <th></th>\n      <th></th>\n      <th></th>\n      <th></th>\n      <th></th>\n      <th></th>\n      <th></th>\n      <th></th>\n    </tr>\n  </thead>\n  <tbody>\n    <tr>\n      <th>10</th>\n      <td>0.046321</td>\n      <td>0.079588</td>\n      <td>0.074875</td>\n      <td>0.021972</td>\n      <td>0.037271</td>\n      <td>0.146416</td>\n      <td>0.074062</td>\n      <td>0.057234</td>\n      <td>0.306824</td>\n      <td>0.178098</td>\n      <td>...</td>\n      <td>0.962046</td>\n      <td>0.295179</td>\n      <td>0.962046</td>\n      <td>0.06312</td>\n      <td>9.998054</td>\n      <td>0.996586</td>\n      <td>0.144911</td>\n      <td>0.758633</td>\n      <td>2.655495</td>\n      <td>0.521819</td>\n    </tr>\n  </tbody>\n</table>\n<p>1 rows × 27 columns</p>\n</div>"
     },
     "execution_count": 18,
     "metadata": {},
     "output_type": "execute_result"
    }
   ],
   "source": [
    "# BEST\n",
    "recommender.fit(shrink=int(11.360087017080575), topK=int(24.286589663434658))\n",
    "result_df, _ = evaluator_test.evaluateRecommender(recommender)\n",
    "result_df"
   ],
   "metadata": {
    "collapsed": false
   }
  },
  {
   "cell_type": "code",
   "execution_count": 12,
   "outputs": [
    {
     "name": "stdout",
     "output_type": "stream",
     "text": [
      "Similarity column 24507 (100.0%), 9564.72 column/sec. Elapsed time 2.56 sec\n",
      "EvaluatorHoldout: Processed 40049 (100.0%) in 15.22 sec. Users per second: 2631\n"
     ]
    },
    {
     "data": {
      "text/plain": "       PRECISION PRECISION_RECALL_MIN_DEN   RECALL       MAP MAP_MIN_DEN  \\\ncutoff                                                                     \n10       0.04703                 0.081784  0.07714  0.022538    0.038561   \n\n             MRR      NDCG        F1  HIT_RATE ARHR_ALL_HITS  ...  \\\ncutoff                                                        ...   \n10      0.151745  0.076298  0.058434  0.314165      0.183661  ...   \n\n       COVERAGE_USER COVERAGE_USER_HIT USERS_IN_GT DIVERSITY_GINI  \\\ncutoff                                                              \n10          0.962046          0.302241    0.962046       0.047511   \n\n       SHANNON_ENTROPY RATIO_DIVERSITY_HERFINDAHL RATIO_DIVERSITY_GINI  \\\ncutoff                                                                   \n10            9.523232                    0.99554             0.109023   \n\n       RATIO_SHANNON_ENTROPY RATIO_AVERAGE_POPULARITY RATIO_NOVELTY  \ncutoff                                                               \n10                  0.722592                 2.979664      0.504982  \n\n[1 rows x 27 columns]",
      "text/html": "<div>\n<style scoped>\n    .dataframe tbody tr th:only-of-type {\n        vertical-align: middle;\n    }\n\n    .dataframe tbody tr th {\n        vertical-align: top;\n    }\n\n    .dataframe thead th {\n        text-align: right;\n    }\n</style>\n<table border=\"1\" class=\"dataframe\">\n  <thead>\n    <tr style=\"text-align: right;\">\n      <th></th>\n      <th>PRECISION</th>\n      <th>PRECISION_RECALL_MIN_DEN</th>\n      <th>RECALL</th>\n      <th>MAP</th>\n      <th>MAP_MIN_DEN</th>\n      <th>MRR</th>\n      <th>NDCG</th>\n      <th>F1</th>\n      <th>HIT_RATE</th>\n      <th>ARHR_ALL_HITS</th>\n      <th>...</th>\n      <th>COVERAGE_USER</th>\n      <th>COVERAGE_USER_HIT</th>\n      <th>USERS_IN_GT</th>\n      <th>DIVERSITY_GINI</th>\n      <th>SHANNON_ENTROPY</th>\n      <th>RATIO_DIVERSITY_HERFINDAHL</th>\n      <th>RATIO_DIVERSITY_GINI</th>\n      <th>RATIO_SHANNON_ENTROPY</th>\n      <th>RATIO_AVERAGE_POPULARITY</th>\n      <th>RATIO_NOVELTY</th>\n    </tr>\n    <tr>\n      <th>cutoff</th>\n      <th></th>\n      <th></th>\n      <th></th>\n      <th></th>\n      <th></th>\n      <th></th>\n      <th></th>\n      <th></th>\n      <th></th>\n      <th></th>\n      <th></th>\n      <th></th>\n      <th></th>\n      <th></th>\n      <th></th>\n      <th></th>\n      <th></th>\n      <th></th>\n      <th></th>\n      <th></th>\n      <th></th>\n    </tr>\n  </thead>\n  <tbody>\n    <tr>\n      <th>10</th>\n      <td>0.04703</td>\n      <td>0.081784</td>\n      <td>0.07714</td>\n      <td>0.022538</td>\n      <td>0.038561</td>\n      <td>0.151745</td>\n      <td>0.076298</td>\n      <td>0.058434</td>\n      <td>0.314165</td>\n      <td>0.183661</td>\n      <td>...</td>\n      <td>0.962046</td>\n      <td>0.302241</td>\n      <td>0.962046</td>\n      <td>0.047511</td>\n      <td>9.523232</td>\n      <td>0.99554</td>\n      <td>0.109023</td>\n      <td>0.722592</td>\n      <td>2.979664</td>\n      <td>0.504982</td>\n    </tr>\n  </tbody>\n</table>\n<p>1 rows × 27 columns</p>\n</div>"
     },
     "execution_count": 12,
     "metadata": {},
     "output_type": "execute_result"
    }
   ],
   "source": [
    "recommender.fit(shrink=int(24.222108288044993), topK=int(51.671247960899215))\n",
    "result_df, _ = evaluator_test.evaluateRecommender(recommender)\n",
    "result_df"
   ],
   "metadata": {
    "collapsed": false
   }
  }
 ],
 "metadata": {
  "kernelspec": {
   "display_name": "Python 3",
   "language": "python",
   "name": "python3"
  },
  "language_info": {
   "codemirror_mode": {
    "name": "ipython",
    "version": 2
   },
   "file_extension": ".py",
   "mimetype": "text/x-python",
   "name": "python",
   "nbconvert_exporter": "python",
   "pygments_lexer": "ipython2",
   "version": "2.7.6"
  }
 },
 "nbformat": 4,
 "nbformat_minor": 0
}
