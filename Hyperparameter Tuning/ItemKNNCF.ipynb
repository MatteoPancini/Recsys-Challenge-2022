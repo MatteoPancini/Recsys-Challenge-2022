{
 "cells": [
  {
   "cell_type": "code",
   "execution_count": 7,
   "outputs": [
    {
     "name": "stdout",
     "output_type": "stream",
     "text": [
      "The Cython extension is already loaded. To reload it, use:\n",
      "  %reload_ext Cython\n"
     ]
    }
   ],
   "source": [
    "%load_ext Cython"
   ],
   "metadata": {
    "collapsed": false
   }
  },
  {
   "cell_type": "code",
   "execution_count": 8,
   "outputs": [],
   "source": [
    "import matplotlib.pyplot as pyplot\n",
    "import optuna as op\n",
    "%matplotlib inline\n",
    "from Data_manager.split_functions.split_train_validation_random_holdout import split_train_in_two_percentage_global_sample\n",
    "from Evaluation.Evaluator import EvaluatorHoldout\n",
    "from Recommenders.KNN.ItemKNNCFRecommender import ItemKNNCFRecommender\n",
    "from Utils.createICM import newCreateICM\n",
    "from Utils.createURM import createURM2\n",
    "from Utils.createURM import newCreateURM\n",
    "from Utils.combineURMICM import combine"
   ],
   "metadata": {
    "collapsed": false
   }
  },
  {
   "cell_type": "code",
   "execution_count": 9,
   "outputs": [
    {
     "name": "stderr",
     "output_type": "stream",
     "text": [
      "C:\\Users\\Mike\\PycharmProjects\\recsys-challenge-2022-Pancini-Vitali\\Utils\\createURM.py:43: DtypeWarning: Columns (2) have mixed types. Specify dtype option on import or set low_memory=False.\n",
      "  dataset = pd.read_csv('../Input/interactions_and_impressions.csv')\n"
     ]
    },
    {
     "ename": "KeyboardInterrupt",
     "evalue": "",
     "output_type": "error",
     "traceback": [
      "\u001B[1;31m---------------------------------------------------------------------------\u001B[0m",
      "\u001B[1;31mKeyboardInterrupt\u001B[0m                         Traceback (most recent call last)",
      "Input \u001B[1;32mIn [9]\u001B[0m, in \u001B[0;36m<cell line: 1>\u001B[1;34m()\u001B[0m\n\u001B[1;32m----> 1\u001B[0m URM \u001B[38;5;241m=\u001B[39m \u001B[43mcreateURM2\u001B[49m\u001B[43m(\u001B[49m\u001B[43m)\u001B[49m\n\u001B[0;32m      2\u001B[0m ICM \u001B[38;5;241m=\u001B[39m newCreateICM()\n",
      "File \u001B[1;32m~\\PycharmProjects\\recsys-challenge-2022-Pancini-Vitali\\Utils\\createURM.py:53\u001B[0m, in \u001B[0;36mcreateURM2\u001B[1;34m()\u001B[0m\n\u001B[0;32m     51\u001B[0m \u001B[38;5;28;01mfor\u001B[39;00m x \u001B[38;5;129;01min\u001B[39;00m \u001B[38;5;28mrange\u001B[39m(\u001B[38;5;28mlen\u001B[39m(datasetCOO\u001B[38;5;241m.\u001B[39mdata)):\n\u001B[0;32m     52\u001B[0m     \u001B[38;5;28;01mif\u001B[39;00m datasetCOO\u001B[38;5;241m.\u001B[39mdata[x] \u001B[38;5;241m==\u001B[39m \u001B[38;5;241m0\u001B[39m:\n\u001B[1;32m---> 53\u001B[0m         URM[datasetCOO\u001B[38;5;241m.\u001B[39mrow[x]][\u001B[43mdatasetCOO\u001B[49m\u001B[38;5;241;43m.\u001B[39;49m\u001B[43mcol\u001B[49m[x]] \u001B[38;5;241m=\u001B[39m \u001B[38;5;28mint\u001B[39m(\u001B[38;5;241m5\u001B[39m)\n\u001B[0;32m     54\u001B[0m     \u001B[38;5;28;01melif\u001B[39;00m URM[datasetCOO\u001B[38;5;241m.\u001B[39mrow[x]][datasetCOO\u001B[38;5;241m.\u001B[39mcol[x]] \u001B[38;5;241m!=\u001B[39m \u001B[38;5;28mint\u001B[39m(\u001B[38;5;241m5\u001B[39m) \u001B[38;5;129;01mand\u001B[39;00m datasetCOO\u001B[38;5;241m.\u001B[39mdata[x] \u001B[38;5;241m==\u001B[39m \u001B[38;5;241m1\u001B[39m:\n\u001B[0;32m     55\u001B[0m         URM[datasetCOO\u001B[38;5;241m.\u001B[39mrow[x]][datasetCOO\u001B[38;5;241m.\u001B[39mcol[x]] \u001B[38;5;241m=\u001B[39m \u001B[38;5;28mint\u001B[39m(\u001B[38;5;241m1\u001B[39m)\n",
      "\u001B[1;31mKeyboardInterrupt\u001B[0m: "
     ]
    }
   ],
   "source": [
    "URM = createURM2()\n",
    "ICM = newCreateICM()"
   ],
   "metadata": {
    "collapsed": false
   }
  },
  {
   "cell_type": "code",
   "execution_count": null,
   "outputs": [],
   "source": [
    "URM_train, URM_test = split_train_in_two_percentage_global_sample(URM, train_percentage = 0.80)\n",
    "URM_train, URM_validation = split_train_in_two_percentage_global_sample(URM_train, train_percentage = 0.80)"
   ],
   "metadata": {
    "collapsed": false
   }
  },
  {
   "cell_type": "code",
   "execution_count": null,
   "outputs": [],
   "source": [
    "evaluator_validation = EvaluatorHoldout(URM_validation, cutoff_list=[10])\n",
    "evaluator_test = EvaluatorHoldout(URM_test, cutoff_list=[10])"
   ],
   "metadata": {
    "collapsed": false
   }
  },
  {
   "cell_type": "code",
   "execution_count": 78,
   "outputs": [],
   "source": [
    "URMICMCombined = combine(ICM, URM_train)"
   ],
   "metadata": {
    "collapsed": false
   }
  },
  {
   "cell_type": "markdown",
   "source": [
    "## Neighbors"
   ],
   "metadata": {
    "collapsed": false
   }
  },
  {
   "cell_type": "code",
   "execution_count": 79,
   "outputs": [
    {
     "name": "stdout",
     "output_type": "stream",
     "text": [
      "ItemKNNCFRecommender: URM Detected 5 ( 0.0%) users with no interactions.\n",
      "Unable to load Cython Compute_Similarity, reverting to Python\n",
      "Similarity column 27968 (100.0%), 933.56 column/sec. Elapsed time 29.96 sec\n",
      "EvaluatorHoldout: Processed 39007 (100.0%) in 20.47 sec. Users per second: 1906\n",
      "ItemKNNCFRecommender: URM Detected 5 ( 0.0%) users with no interactions.\n",
      "Unable to load Cython Compute_Similarity, reverting to Python\n",
      "Similarity column 27968 (100.0%), 979.46 column/sec. Elapsed time 28.55 sec\n",
      "EvaluatorHoldout: Processed 39007 (100.0%) in 20.53 sec. Users per second: 1900\n",
      "ItemKNNCFRecommender: URM Detected 5 ( 0.0%) users with no interactions.\n",
      "Unable to load Cython Compute_Similarity, reverting to Python\n",
      "Similarity column 27968 (100.0%), 969.53 column/sec. Elapsed time 28.85 sec\n",
      "EvaluatorHoldout: Processed 39007 (100.0%) in 20.89 sec. Users per second: 1867\n",
      "ItemKNNCFRecommender: URM Detected 5 ( 0.0%) users with no interactions.\n",
      "Unable to load Cython Compute_Similarity, reverting to Python\n",
      "Similarity column 27968 (100.0%), 927.50 column/sec. Elapsed time 30.15 sec\n",
      "EvaluatorHoldout: Processed 39007 (100.0%) in 20.60 sec. Users per second: 1893\n",
      "ItemKNNCFRecommender: URM Detected 5 ( 0.0%) users with no interactions.\n",
      "Unable to load Cython Compute_Similarity, reverting to Python\n",
      "Similarity column 27968 (100.0%), 936.87 column/sec. Elapsed time 29.85 sec\n",
      "EvaluatorHoldout: Processed 39007 (100.0%) in 23.30 sec. Users per second: 1674\n"
     ]
    }
   ],
   "source": [
    "x_tick = [10, 25, 40, 50, 100]\n",
    "MAP_per_k = []\n",
    "\n",
    "for topK in x_tick:\n",
    "\n",
    "    recommender = ItemKNNCFRecommender(URMICMCombined.T)\n",
    "    recommender.fit(shrink=0.0, topK=topK)\n",
    "\n",
    "    result_df, _ = evaluator_validation.evaluateRecommender(recommender)\n",
    "\n",
    "    MAP_per_k.append(result_df.loc[10][\"MAP\"])"
   ],
   "metadata": {
    "collapsed": false
   }
  },
  {
   "cell_type": "code",
   "execution_count": 80,
   "outputs": [
    {
     "data": {
      "text/plain": "<Figure size 640x480 with 1 Axes>",
      "image/png": "[encoded data removed]"
     },
     "metadata": {},
     "output_type": "display_data"
    }
   ],
   "source": [
    "pyplot.plot(x_tick, MAP_per_k)\n",
    "pyplot.ylabel('MAP')\n",
    "pyplot.xlabel('TopK')\n",
    "pyplot.show()"
   ],
   "metadata": {
    "collapsed": false
   }
  },
  {
   "cell_type": "markdown",
   "source": [
    "## Shrink"
   ],
   "metadata": {
    "collapsed": false
   }
  },
  {
   "cell_type": "code",
   "execution_count": 81,
   "outputs": [
    {
     "name": "stdout",
     "output_type": "stream",
     "text": [
      "ItemKNNCFRecommender: URM Detected 5 ( 0.0%) users with no interactions.\n",
      "Unable to load Cython Compute_Similarity, reverting to Python\n",
      "Similarity column 27968 (100.0%), 975.41 column/sec. Elapsed time 28.67 sec\n",
      "EvaluatorHoldout: Processed 39007 (100.0%) in 20.48 sec. Users per second: 1905\n",
      "ItemKNNCFRecommender: URM Detected 5 ( 0.0%) users with no interactions.\n",
      "Unable to load Cython Compute_Similarity, reverting to Python\n",
      "Similarity column 27968 (100.0%), 1003.01 column/sec. Elapsed time 27.88 sec\n",
      "EvaluatorHoldout: Processed 39007 (100.0%) in 20.44 sec. Users per second: 1908\n",
      "ItemKNNCFRecommender: URM Detected 5 ( 0.0%) users with no interactions.\n",
      "Unable to load Cython Compute_Similarity, reverting to Python\n",
      "Similarity column 27968 (100.0%), 1001.09 column/sec. Elapsed time 27.94 sec\n",
      "EvaluatorHoldout: Processed 39007 (100.0%) in 20.97 sec. Users per second: 1860\n",
      "ItemKNNCFRecommender: URM Detected 5 ( 0.0%) users with no interactions.\n",
      "Unable to load Cython Compute_Similarity, reverting to Python\n",
      "Similarity column 27968 (100.0%), 973.81 column/sec. Elapsed time 28.72 sec\n",
      "EvaluatorHoldout: Processed 39007 (100.0%) in 23.14 sec. Users per second: 1686\n",
      "ItemKNNCFRecommender: URM Detected 5 ( 0.0%) users with no interactions.\n",
      "Unable to load Cython Compute_Similarity, reverting to Python\n",
      "Similarity column 27968 (100.0%), 994.02 column/sec. Elapsed time 28.14 sec\n",
      "EvaluatorHoldout: Processed 39007 (100.0%) in 22.25 sec. Users per second: 1753\n"
     ]
    }
   ],
   "source": [
    "x_tick = [0, 10, 50, 100, 200]\n",
    "MAP_per_shrinkage = []\n",
    "\n",
    "for shrink in x_tick:\n",
    "\n",
    "    recommender = ItemKNNCFRecommender(URMICMCombined.T)\n",
    "    recommender.fit(shrink=shrink, topK=45)\n",
    "\n",
    "    result_df, _ = evaluator_validation.evaluateRecommender(recommender)\n",
    "\n",
    "    MAP_per_shrinkage.append(result_df.loc[10][\"MAP\"])"
   ],
   "metadata": {
    "collapsed": false
   }
  },
  {
   "cell_type": "code",
   "execution_count": 82,
   "outputs": [
    {
     "data": {
      "text/plain": "<Figure size 640x480 with 1 Axes>",
      "image/png": "[encoded data removed]"
     },
     "metadata": {},
     "output_type": "display_data"
    }
   ],
   "source": [
    "pyplot.plot(x_tick, MAP_per_shrinkage)\n",
    "pyplot.ylabel('MAP')\n",
    "pyplot.xlabel('Shrinkage')\n",
    "pyplot.show()"
   ],
   "metadata": {
    "collapsed": false
   }
  },
  {
   "cell_type": "markdown",
   "source": [
    "## OPTUNA optimization"
   ],
   "metadata": {
    "collapsed": false
   }
  },
  {
   "cell_type": "code",
   "execution_count": 83,
   "outputs": [
    {
     "name": "stdout",
     "output_type": "stream",
     "text": [
      "ItemKNNCFRecommender: URM Detected 5 ( 0.0%) users with no interactions.\n"
     ]
    }
   ],
   "source": [
    "# objective = represents the function that we need to minimize\n",
    "# trial = optuna parameter that tries random values in a certain interval\n",
    "recommender = ItemKNNCFRecommender(URM_train)\n",
    "def objective(trial):\n",
    "    topK = trial.suggest_int(\"topK\", 175, 195)\n",
    "    shrink = trial.suggest_float(\"shrink\", 50, 56)\n",
    "    recommender.fit(topK=topK, shrink=shrink)\n",
    "    result_dict, _ = evaluator_validation.evaluateRecommender(recommender)\n",
    "\n",
    "    return result_dict.loc[10][\"MAP\"]"
   ],
   "metadata": {
    "collapsed": false
   }
  },
  {
   "cell_type": "code",
   "execution_count": 84,
   "outputs": [
    {
     "name": "stderr",
     "output_type": "stream",
     "text": [
      "\u001B[32m[I 2022-11-05 18:16:20,944]\u001B[0m A new study created in memory with name: no-name-6c5aa9c9-9ea9-43a6-a90f-37600cb19781\u001B[0m\n"
     ]
    },
    {
     "name": "stdout",
     "output_type": "stream",
     "text": [
      "Unable to load Cython Compute_Similarity, reverting to Python\n",
      "Similarity column 27968 (100.0%), 927.32 column/sec. Elapsed time 30.16 sec\n",
      "EvaluatorHoldout: Processed 39007 (100.0%) in 22.03 sec. Users per second: 1771\n"
     ]
    },
    {
     "name": "stderr",
     "output_type": "stream",
     "text": [
      "\u001B[32m[I 2022-11-05 18:17:13,179]\u001B[0m Trial 0 finished with value: 0.01382161362164979 and parameters: {'topK': 42, 'shrink': 112.47823731563625}. Best is trial 0 with value: 0.01382161362164979.\u001B[0m\n"
     ]
    },
    {
     "name": "stdout",
     "output_type": "stream",
     "text": [
      "Unable to load Cython Compute_Similarity, reverting to Python\n",
      "Similarity column 27968 (100.0%), 990.01 column/sec. Elapsed time 28.25 sec\n",
      "EvaluatorHoldout: Processed 39007 (100.0%) in 22.39 sec. Users per second: 1742\n"
     ]
    },
    {
     "name": "stderr",
     "output_type": "stream",
     "text": [
      "\u001B[32m[I 2022-11-05 18:18:03,864]\u001B[0m Trial 1 finished with value: 0.013832066568434656 and parameters: {'topK': 40, 'shrink': 115.47654588394641}. Best is trial 1 with value: 0.013832066568434656.\u001B[0m\n"
     ]
    },
    {
     "name": "stdout",
     "output_type": "stream",
     "text": [
      "Unable to load Cython Compute_Similarity, reverting to Python\n",
      "Similarity column 27968 (100.0%), 967.83 column/sec. Elapsed time 28.90 sec\n",
      "EvaluatorHoldout: Processed 39007 (100.0%) in 21.95 sec. Users per second: 1777\n"
     ]
    },
    {
     "name": "stderr",
     "output_type": "stream",
     "text": [
      "\u001B[32m[I 2022-11-05 18:18:54,772]\u001B[0m Trial 2 finished with value: 0.013893149418440042 and parameters: {'topK': 44, 'shrink': 116.71520771895881}. Best is trial 2 with value: 0.013893149418440042.\u001B[0m\n"
     ]
    },
    {
     "name": "stdout",
     "output_type": "stream",
     "text": [
      "Unable to load Cython Compute_Similarity, reverting to Python\n",
      "Similarity column 27968 (100.0%), 990.08 column/sec. Elapsed time 28.25 sec\n",
      "EvaluatorHoldout: Processed 39007 (100.0%) in 22.08 sec. Users per second: 1766\n"
     ]
    },
    {
     "name": "stderr",
     "output_type": "stream",
     "text": [
      "\u001B[32m[I 2022-11-05 18:19:45,154]\u001B[0m Trial 3 finished with value: 0.013883709720803333 and parameters: {'topK': 44, 'shrink': 107.35607829486699}. Best is trial 2 with value: 0.013893149418440042.\u001B[0m\n"
     ]
    },
    {
     "name": "stdout",
     "output_type": "stream",
     "text": [
      "Unable to load Cython Compute_Similarity, reverting to Python\n",
      "Similarity column 27968 (100.0%), 991.41 column/sec. Elapsed time 28.21 sec\n",
      "EvaluatorHoldout: Processed 39007 (100.0%) in 21.79 sec. Users per second: 1790\n"
     ]
    },
    {
     "name": "stderr",
     "output_type": "stream",
     "text": [
      "\u001B[32m[I 2022-11-05 18:20:35,198]\u001B[0m Trial 4 finished with value: 0.01381649956194296 and parameters: {'topK': 42, 'shrink': 107.22304165406828}. Best is trial 2 with value: 0.013893149418440042.\u001B[0m\n"
     ]
    },
    {
     "name": "stdout",
     "output_type": "stream",
     "text": [
      "Unable to load Cython Compute_Similarity, reverting to Python\n",
      "Similarity column 27968 (100.0%), 995.23 column/sec. Elapsed time 28.10 sec\n",
      "EvaluatorHoldout: Processed 39007 (100.0%) in 21.65 sec. Users per second: 1802\n"
     ]
    },
    {
     "name": "stderr",
     "output_type": "stream",
     "text": [
      "\u001B[32m[I 2022-11-05 18:21:24,990]\u001B[0m Trial 5 finished with value: 0.013830711500296711 and parameters: {'topK': 40, 'shrink': 116.20973434602718}. Best is trial 2 with value: 0.013893149418440042.\u001B[0m\n"
     ]
    },
    {
     "name": "stdout",
     "output_type": "stream",
     "text": [
      "Unable to load Cython Compute_Similarity, reverting to Python\n",
      "Similarity column 27968 (100.0%), 976.57 column/sec. Elapsed time 28.64 sec\n",
      "EvaluatorHoldout: Processed 39007 (100.0%) in 21.98 sec. Users per second: 1774\n"
     ]
    },
    {
     "name": "stderr",
     "output_type": "stream",
     "text": [
      "\u001B[32m[I 2022-11-05 18:22:15,672]\u001B[0m Trial 6 finished with value: 0.013884750437548927 and parameters: {'topK': 50, 'shrink': 107.56476511552702}. Best is trial 2 with value: 0.013893149418440042.\u001B[0m\n"
     ]
    },
    {
     "name": "stdout",
     "output_type": "stream",
     "text": [
      "Unable to load Cython Compute_Similarity, reverting to Python\n",
      "Similarity column 27968 (100.0%), 988.29 column/sec. Elapsed time 28.30 sec\n",
      "EvaluatorHoldout: Processed 39007 (100.0%) in 22.06 sec. Users per second: 1769\n"
     ]
    },
    {
     "name": "stderr",
     "output_type": "stream",
     "text": [
      "\u001B[32m[I 2022-11-05 18:23:06,078]\u001B[0m Trial 7 finished with value: 0.013844220471620955 and parameters: {'topK': 43, 'shrink': 114.6662349399051}. Best is trial 2 with value: 0.013893149418440042.\u001B[0m\n"
     ]
    },
    {
     "name": "stdout",
     "output_type": "stream",
     "text": [
      "Unable to load Cython Compute_Similarity, reverting to Python\n",
      "Similarity column 27968 (100.0%), 985.38 column/sec. Elapsed time 28.38 sec\n",
      "EvaluatorHoldout: Processed 39007 (100.0%) in 22.06 sec. Users per second: 1768\n"
     ]
    },
    {
     "name": "stderr",
     "output_type": "stream",
     "text": [
      "\u001B[32m[I 2022-11-05 18:23:56,568]\u001B[0m Trial 8 finished with value: 0.01390557901491866 and parameters: {'topK': 45, 'shrink': 109.0486866286725}. Best is trial 8 with value: 0.01390557901491866.\u001B[0m\n"
     ]
    },
    {
     "name": "stdout",
     "output_type": "stream",
     "text": [
      "Unable to load Cython Compute_Similarity, reverting to Python\n",
      "Similarity column 27968 (100.0%), 976.86 column/sec. Elapsed time 28.63 sec\n",
      "EvaluatorHoldout: Processed 39007 (100.0%) in 22.89 sec. Users per second: 1704\n"
     ]
    },
    {
     "name": "stderr",
     "output_type": "stream",
     "text": [
      "\u001B[32m[I 2022-11-05 18:24:48,135]\u001B[0m Trial 9 finished with value: 0.013894223706693567 and parameters: {'topK': 47, 'shrink': 113.28310884005074}. Best is trial 8 with value: 0.01390557901491866.\u001B[0m\n"
     ]
    },
    {
     "name": "stdout",
     "output_type": "stream",
     "text": [
      "Unable to load Cython Compute_Similarity, reverting to Python\n",
      "Similarity column 27968 (100.0%), 970.54 column/sec. Elapsed time 28.82 sec\n",
      "EvaluatorHoldout: Processed 39007 (100.0%) in 21.89 sec. Users per second: 1782\n"
     ]
    },
    {
     "name": "stderr",
     "output_type": "stream",
     "text": [
      "\u001B[32m[I 2022-11-05 18:25:38,903]\u001B[0m Trial 10 finished with value: 0.01385350858881276 and parameters: {'topK': 47, 'shrink': 100.25053961133851}. Best is trial 8 with value: 0.01390557901491866.\u001B[0m\n"
     ]
    },
    {
     "name": "stdout",
     "output_type": "stream",
     "text": [
      "Unable to load Cython Compute_Similarity, reverting to Python\n",
      "Similarity column 27968 (100.0%), 983.49 column/sec. Elapsed time 28.44 sec\n",
      "EvaluatorHoldout: Processed 39007 (100.0%) in 22.26 sec. Users per second: 1753\n"
     ]
    },
    {
     "name": "stderr",
     "output_type": "stream",
     "text": [
      "\u001B[32m[I 2022-11-05 18:26:29,636]\u001B[0m Trial 11 finished with value: 0.013884024072195722 and parameters: {'topK': 47, 'shrink': 111.0196499974539}. Best is trial 8 with value: 0.01390557901491866.\u001B[0m\n"
     ]
    },
    {
     "name": "stdout",
     "output_type": "stream",
     "text": [
      "Unable to load Cython Compute_Similarity, reverting to Python\n",
      "Similarity column 27968 (100.0%), 963.65 column/sec. Elapsed time 29.02 sec\n",
      "EvaluatorHoldout: Processed 39007 (100.0%) in 21.98 sec. Users per second: 1775\n"
     ]
    },
    {
     "name": "stderr",
     "output_type": "stream",
     "text": [
      "\u001B[32m[I 2022-11-05 18:27:20,675]\u001B[0m Trial 12 finished with value: 0.013850998864265995 and parameters: {'topK': 47, 'shrink': 103.3131733550909}. Best is trial 8 with value: 0.01390557901491866.\u001B[0m\n"
     ]
    },
    {
     "name": "stdout",
     "output_type": "stream",
     "text": [
      "Unable to load Cython Compute_Similarity, reverting to Python\n",
      "Similarity column 27968 (100.0%), 983.63 column/sec. Elapsed time 28.43 sec\n",
      "EvaluatorHoldout: Processed 39007 (100.0%) in 22.08 sec. Users per second: 1767\n"
     ]
    },
    {
     "name": "stderr",
     "output_type": "stream",
     "text": [
      "\u001B[32m[I 2022-11-05 18:28:11,240]\u001B[0m Trial 13 finished with value: 0.01394296953619667 and parameters: {'topK': 49, 'shrink': 119.70030097668956}. Best is trial 13 with value: 0.01394296953619667.\u001B[0m\n"
     ]
    },
    {
     "name": "stdout",
     "output_type": "stream",
     "text": [
      "Unable to load Cython Compute_Similarity, reverting to Python\n",
      "Similarity column 27968 (100.0%), 972.49 column/sec. Elapsed time 28.76 sec\n",
      "EvaluatorHoldout: Processed 39007 (100.0%) in 22.12 sec. Users per second: 1764\n"
     ]
    },
    {
     "name": "stderr",
     "output_type": "stream",
     "text": [
      "\u001B[32m[I 2022-11-05 18:29:02,166]\u001B[0m Trial 14 finished with value: 0.013920683141528402 and parameters: {'topK': 50, 'shrink': 109.86382990819409}. Best is trial 13 with value: 0.01394296953619667.\u001B[0m\n"
     ]
    }
   ],
   "source": [
    "study = op.create_study(direction='maximize')\n",
    "study.optimize(objective, n_trials=20)"
   ],
   "metadata": {
    "collapsed": false
   }
  },
  {
   "cell_type": "code",
   "execution_count": 85,
   "outputs": [],
   "source": [
    "topK = study.best_params['topK']\n",
    "shrink = study.best_params['shrink']"
   ],
   "metadata": {
    "collapsed": false
   }
  },
  {
   "cell_type": "code",
   "execution_count": 6,
   "outputs": [
    {
     "name": "stdout",
     "output_type": "stream",
     "text": [
      "Unable to load Cython Compute_Similarity, reverting to Python\n",
      "Similarity column 24507 (100.0%), 809.83 column/sec. Elapsed time 30.26 sec\n",
      "EvaluatorHoldout: Processed 41308 (100.0%) in 27.70 sec. Users per second: 1491\n"
     ]
    },
    {
     "data": {
      "text/plain": "       PRECISION PRECISION_RECALL_MIN_DEN    RECALL       MAP MAP_MIN_DEN  \\\ncutoff                                                                      \n10      0.051922                  0.06987  0.060524  0.024824    0.033011   \n\n             MRR      NDCG        F1  HIT_RATE ARHR_ALL_HITS  ...  \\\ncutoff                                                        ...   \n10      0.162364  0.075162  0.055894  0.335649      0.199303  ...   \n\n       COVERAGE_USER COVERAGE_USER_HIT USERS_IN_GT DIVERSITY_GINI  \\\ncutoff                                                              \n10          0.992289          0.333061    0.992289       0.102962   \n\n       SHANNON_ENTROPY RATIO_DIVERSITY_HERFINDAHL RATIO_DIVERSITY_GINI  \\\ncutoff                                                                   \n10            9.910954                   0.994396             0.204605   \n\n       RATIO_SHANNON_ENTROPY RATIO_AVERAGE_POPULARITY RATIO_NOVELTY  \ncutoff                                                               \n10                  0.734815                 3.470055      0.351586  \n\n[1 rows x 27 columns]",
      "text/html": "<div>\n<style scoped>\n    .dataframe tbody tr th:only-of-type {\n        vertical-align: middle;\n    }\n\n    .dataframe tbody tr th {\n        vertical-align: top;\n    }\n\n    .dataframe thead th {\n        text-align: right;\n    }\n</style>\n<table border=\"1\" class=\"dataframe\">\n  <thead>\n    <tr style=\"text-align: right;\">\n      <th></th>\n      <th>PRECISION</th>\n      <th>PRECISION_RECALL_MIN_DEN</th>\n      <th>RECALL</th>\n      <th>MAP</th>\n      <th>MAP_MIN_DEN</th>\n      <th>MRR</th>\n      <th>NDCG</th>\n      <th>F1</th>\n      <th>HIT_RATE</th>\n      <th>ARHR_ALL_HITS</th>\n      <th>...</th>\n      <th>COVERAGE_USER</th>\n      <th>COVERAGE_USER_HIT</th>\n      <th>USERS_IN_GT</th>\n      <th>DIVERSITY_GINI</th>\n      <th>SHANNON_ENTROPY</th>\n      <th>RATIO_DIVERSITY_HERFINDAHL</th>\n      <th>RATIO_DIVERSITY_GINI</th>\n      <th>RATIO_SHANNON_ENTROPY</th>\n      <th>RATIO_AVERAGE_POPULARITY</th>\n      <th>RATIO_NOVELTY</th>\n    </tr>\n    <tr>\n      <th>cutoff</th>\n      <th></th>\n      <th></th>\n      <th></th>\n      <th></th>\n      <th></th>\n      <th></th>\n      <th></th>\n      <th></th>\n      <th></th>\n      <th></th>\n      <th></th>\n      <th></th>\n      <th></th>\n      <th></th>\n      <th></th>\n      <th></th>\n      <th></th>\n      <th></th>\n      <th></th>\n      <th></th>\n      <th></th>\n    </tr>\n  </thead>\n  <tbody>\n    <tr>\n      <th>10</th>\n      <td>0.051922</td>\n      <td>0.06987</td>\n      <td>0.060524</td>\n      <td>0.024824</td>\n      <td>0.033011</td>\n      <td>0.162364</td>\n      <td>0.075162</td>\n      <td>0.055894</td>\n      <td>0.335649</td>\n      <td>0.199303</td>\n      <td>...</td>\n      <td>0.992289</td>\n      <td>0.333061</td>\n      <td>0.992289</td>\n      <td>0.102962</td>\n      <td>9.910954</td>\n      <td>0.994396</td>\n      <td>0.204605</td>\n      <td>0.734815</td>\n      <td>3.470055</td>\n      <td>0.351586</td>\n    </tr>\n  </tbody>\n</table>\n<p>1 rows × 27 columns</p>\n</div>"
     },
     "execution_count": 6,
     "metadata": {},
     "output_type": "execute_result"
    }
   ],
   "source": [
    "recommender = ItemKNNCFRecommender(URM_train)\n",
    "recommender.fit(shrink=53.0, topK=185)\n",
    "result_df, _ = evaluator_test.evaluateRecommender(recommender)\n",
    "result_df"
   ],
   "metadata": {
    "collapsed": false
   }
  },
  {
   "cell_type": "code",
   "execution_count": null,
   "outputs": [],
   "source": [],
   "metadata": {
    "collapsed": false
   }
  }
 ],
 "metadata": {
  "kernelspec": {
   "display_name": "Python 3",
   "language": "python",
   "name": "python3"
  },
  "language_info": {
   "codemirror_mode": {
    "name": "ipython",
    "version": 2
   },
   "file_extension": ".py",
   "mimetype": "text/x-python",
   "name": "python",
   "nbconvert_exporter": "python",
   "pygments_lexer": "ipython2",
   "version": "2.7.6"
  }
 },
 "nbformat": 4,
 "nbformat_minor": 0
}
