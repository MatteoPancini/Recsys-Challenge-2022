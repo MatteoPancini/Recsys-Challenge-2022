{
 "cells": [
  {
   "cell_type": "code",
   "execution_count": 45,
   "outputs": [
    {
     "name": "stdout",
     "output_type": "stream",
     "text": [
      "The Cython extension is already loaded. To reload it, use:\n",
      "  %reload_ext Cython\n"
     ]
    }
   ],
   "source": [
    "%load_ext Cython"
   ],
   "metadata": {
    "collapsed": false
   }
  },
  {
   "cell_type": "code",
   "execution_count": 46,
   "outputs": [],
   "source": [
    "import numpy as np\n",
    "import pandas as pd\n",
    "import scipy.sparse as sp\n",
    "import matplotlib.pyplot as pyplot\n",
    "import optuna as op\n",
    "%matplotlib inline\n",
    "from Data_manager.split_functions.split_train_validation_random_holdout import split_train_in_two_percentage_global_sample\n",
    "from Evaluation.Evaluator import EvaluatorHoldout\n",
    "from Recommenders.KNN.ItemKNNCFRecommender import ItemKNNCFRecommender"
   ],
   "metadata": {
    "collapsed": false
   }
  },
  {
   "cell_type": "code",
   "execution_count": 47,
   "outputs": [
    {
     "name": "stderr",
     "output_type": "stream",
     "text": [
      "C:\\Users\\Mike\\AppData\\Local\\Temp\\ipykernel_3576\\4045740091.py:1: DtypeWarning: Columns (2) have mixed types. Specify dtype option on import or set low_memory=False.\n",
      "  dataset = pd.read_csv('../Input/interactions_and_impressions.csv')\n"
     ]
    }
   ],
   "source": [
    "dataset = pd.read_csv('../Input/interactions_and_impressions.csv')\n",
    "dataset = dataset.drop(columns=['Impressions'])\n",
    "\n",
    "datasetCOO = sp.coo_matrix((dataset[\"Data\"].values, (dataset[\"UserID\"].values, dataset[\"ItemID\"].values)))\n",
    "userIDS = dataset['UserID'].unique()\n",
    "itemIDS = dataset['ItemID'].unique()\n",
    "\n",
    "URM = np.zeros((len(userIDS), len(itemIDS)), dtype=int)\n",
    "for x in range(len(datasetCOO.data)):\n",
    "    if datasetCOO.data[x] == 0:\n",
    "        URM[datasetCOO.row[x]][datasetCOO.col[x]] = int(1)\n",
    "\n",
    "URM = sp.csr_matrix(URM)"
   ],
   "metadata": {
    "collapsed": false
   }
  },
  {
   "cell_type": "code",
   "execution_count": 48,
   "outputs": [
    {
     "name": "stdout",
     "output_type": "stream",
     "text": [
      "Warning: 1546 (3.71 %) of 41629 users have no sampled items\n",
      "Warning: 3 (0.01 %) of 41629 users have no train items\n",
      "Warning: 2787 (6.69 %) of 41629 users have no sampled items\n"
     ]
    }
   ],
   "source": [
    "URM_train, URM_test = split_train_in_two_percentage_global_sample(URM, train_percentage = 0.80)\n",
    "URM_train, URM_validation = split_train_in_two_percentage_global_sample(URM_train, train_percentage = 0.80)"
   ],
   "metadata": {
    "collapsed": false
   }
  },
  {
   "cell_type": "code",
   "execution_count": 49,
   "outputs": [
    {
     "name": "stdout",
     "output_type": "stream",
     "text": [
      "EvaluatorHoldout: Ignoring 2787 ( 6.7%) Users that have less than 1 test interactions\n",
      "EvaluatorHoldout: Ignoring 1546 ( 3.7%) Users that have less than 1 test interactions\n"
     ]
    }
   ],
   "source": [
    "evaluator_validation = EvaluatorHoldout(URM_validation, cutoff_list=[10])\n",
    "evaluator_test = EvaluatorHoldout(URM_test, cutoff_list=[10])"
   ],
   "metadata": {
    "collapsed": false
   }
  },
  {
   "cell_type": "markdown",
   "source": [
    "## Number of Neighbors"
   ],
   "metadata": {
    "collapsed": false
   }
  },
  {
   "cell_type": "code",
   "execution_count": 27,
   "outputs": [
    {
     "name": "stdout",
     "output_type": "stream",
     "text": [
      "ItemKNNCFRecommender: URM Detected 2 ( 0.0%) users with no interactions.\n",
      "Unable to load Cython Compute_Similarity, reverting to Python\n",
      "Similarity column 24507 (100.0%), 1103.14 column/sec. Elapsed time 22.22 sec\n",
      "EvaluatorHoldout: Processed 38925 (100.0%) in 19.01 sec. Users per second: 2047\n",
      "ItemKNNCFRecommender: URM Detected 2 ( 0.0%) users with no interactions.\n",
      "Unable to load Cython Compute_Similarity, reverting to Python\n",
      "Similarity column 24507 (100.0%), 1190.56 column/sec. Elapsed time 20.58 sec\n",
      "EvaluatorHoldout: Processed 38925 (100.0%) in 19.31 sec. Users per second: 2016\n",
      "ItemKNNCFRecommender: URM Detected 2 ( 0.0%) users with no interactions.\n",
      "Unable to load Cython Compute_Similarity, reverting to Python\n",
      "Similarity column 24507 (100.0%), 1179.81 column/sec. Elapsed time 20.77 sec\n",
      "EvaluatorHoldout: Processed 38925 (100.0%) in 19.47 sec. Users per second: 2000\n",
      "ItemKNNCFRecommender: URM Detected 2 ( 0.0%) users with no interactions.\n",
      "Unable to load Cython Compute_Similarity, reverting to Python\n",
      "Similarity column 24507 (100.0%), 1170.94 column/sec. Elapsed time 20.93 sec\n",
      "EvaluatorHoldout: Processed 38925 (100.0%) in 19.82 sec. Users per second: 1964\n",
      "ItemKNNCFRecommender: URM Detected 2 ( 0.0%) users with no interactions.\n",
      "Unable to load Cython Compute_Similarity, reverting to Python\n",
      "Similarity column 24507 (100.0%), 1099.87 column/sec. Elapsed time 22.28 sec\n",
      "EvaluatorHoldout: Processed 38925 (100.0%) in 21.95 sec. Users per second: 1773\n",
      "ItemKNNCFRecommender: URM Detected 2 ( 0.0%) users with no interactions.\n",
      "Unable to load Cython Compute_Similarity, reverting to Python\n",
      "Similarity column 24507 (100.0%), 893.55 column/sec. Elapsed time 27.43 sec\n",
      "EvaluatorHoldout: Processed 38925 (100.0%) in 30.88 sec. Users per second: 1261\n"
     ]
    }
   ],
   "source": [
    "x_tick = [10, 25, 40, 50, 100, 500]\n",
    "MAP_per_k = []\n",
    "\n",
    "for topK in x_tick:\n",
    "\n",
    "    recommender = ItemKNNCFRecommender(URM_train)\n",
    "    recommender.fit(shrink=0.0, topK=topK)\n",
    "\n",
    "    result_df, _ = evaluator_validation.evaluateRecommender(recommender)\n",
    "\n",
    "    MAP_per_k.append(result_df.loc[10][\"MAP\"])"
   ],
   "metadata": {
    "collapsed": false
   }
  },
  {
   "cell_type": "code",
   "execution_count": 28,
   "outputs": [
    {
     "data": {
      "text/plain": "<Figure size 640x480 with 1 Axes>",
      "image/png": "[encoded data removed]"
     },
     "metadata": {},
     "output_type": "display_data"
    }
   ],
   "source": [
    "pyplot.plot(x_tick, MAP_per_k)\n",
    "pyplot.ylabel('MAP')\n",
    "pyplot.xlabel('TopK')\n",
    "pyplot.show()"
   ],
   "metadata": {
    "collapsed": false
   }
  },
  {
   "cell_type": "markdown",
   "source": [
    "Let's take topK=23"
   ],
   "metadata": {
    "collapsed": false
   }
  },
  {
   "cell_type": "markdown",
   "source": [
    "## Shrinkage"
   ],
   "metadata": {
    "collapsed": false
   }
  },
  {
   "cell_type": "code",
   "execution_count": 12,
   "outputs": [
    {
     "name": "stdout",
     "output_type": "stream",
     "text": [
      "ItemKNNCFRecommender: URM Detected 7 ( 0.0%) users with no interactions.\n",
      "Unable to load Cython Compute_Similarity, reverting to Python\n",
      "Similarity column 24507 (100.0%), 1118.07 column/sec. Elapsed time 21.92 sec\n",
      "EvaluatorHoldout: Processed 38971 (100.0%) in 21.72 sec. Users per second: 1794\n",
      "ItemKNNCFRecommender: URM Detected 7 ( 0.0%) users with no interactions.\n",
      "Unable to load Cython Compute_Similarity, reverting to Python\n",
      "Similarity column 24507 (100.0%), 1072.05 column/sec. Elapsed time 22.86 sec\n",
      "EvaluatorHoldout: Processed 38971 (100.0%) in 22.28 sec. Users per second: 1750\n",
      "ItemKNNCFRecommender: URM Detected 7 ( 0.0%) users with no interactions.\n",
      "Unable to load Cython Compute_Similarity, reverting to Python\n",
      "Similarity column 24507 (100.0%), 1078.73 column/sec. Elapsed time 22.72 sec\n",
      "EvaluatorHoldout: Processed 38971 (100.0%) in 23.66 sec. Users per second: 1647\n",
      "ItemKNNCFRecommender: URM Detected 7 ( 0.0%) users with no interactions.\n",
      "Unable to load Cython Compute_Similarity, reverting to Python\n",
      "Similarity column 24507 (100.0%), 1128.60 column/sec. Elapsed time 21.71 sec\n",
      "EvaluatorHoldout: Processed 38971 (100.0%) in 25.10 sec. Users per second: 1553\n",
      "ItemKNNCFRecommender: URM Detected 7 ( 0.0%) users with no interactions.\n",
      "Unable to load Cython Compute_Similarity, reverting to Python\n",
      "Similarity column 24507 (100.0%), 1139.30 column/sec. Elapsed time 21.51 sec\n",
      "EvaluatorHoldout: Processed 38971 (100.0%) in 25.66 sec. Users per second: 1519\n"
     ]
    }
   ],
   "source": [
    "x_tick = [0, 10, 50, 100, 200]\n",
    "MAP_per_shrinkage = []\n",
    "\n",
    "for shrink in x_tick:\n",
    "\n",
    "    recommender = ItemKNNCFRecommender(URM_train)\n",
    "    recommender.fit(shrink=shrink, topK=100)\n",
    "\n",
    "    result_df, _ = evaluator_validation.evaluateRecommender(recommender)\n",
    "\n",
    "    MAP_per_shrinkage.append(result_df.loc[10][\"MAP\"])"
   ],
   "metadata": {
    "collapsed": false
   }
  },
  {
   "cell_type": "code",
   "execution_count": 13,
   "outputs": [
    {
     "data": {
      "text/plain": "<Figure size 640x480 with 1 Axes>",
      "image/png": "[encoded data removed]"
     },
     "metadata": {},
     "output_type": "display_data"
    }
   ],
   "source": [
    "pyplot.plot(x_tick, MAP_per_shrinkage)\n",
    "pyplot.ylabel('MAP')\n",
    "pyplot.xlabel('Shrinkage')\n",
    "pyplot.show()"
   ],
   "metadata": {
    "collapsed": false
   }
  },
  {
   "cell_type": "markdown",
   "source": [
    "Let's take shrinkage = 100"
   ],
   "metadata": {
    "collapsed": false
   }
  },
  {
   "cell_type": "markdown",
   "source": [
    "## Testing of reccomenders"
   ],
   "metadata": {
    "collapsed": false
   }
  },
  {
   "cell_type": "code",
   "execution_count": 14,
   "outputs": [
    {
     "name": "stdout",
     "output_type": "stream",
     "text": [
      "ItemKNNCFRecommender: URM Detected 7 ( 0.0%) users with no interactions.\n",
      "ItemKNNCFRecommender: URM Detected 7 ( 0.0%) users with no interactions.\n",
      "Unable to load Cython Compute_Similarity, reverting to Python\n",
      "Similarity column 24507 (100.0%), 1094.74 column/sec. Elapsed time 22.39 sec\n",
      "Unable to load Cython Compute_Similarity, reverting to Python\n",
      "Similarity column 24507 (100.0%), 1167.04 column/sec. Elapsed time 21.00 sec\n",
      "EvaluatorHoldout: Processed 40081 (100.0%) in 22.85 sec. Users per second: 1754\n",
      "EvaluatorHoldout: Processed 40081 (100.0%) in 22.68 sec. Users per second: 1767\n",
      "Unable to load Cython Compute_Similarity, reverting to Python\n",
      "Similarity column 24507 (100.0%), 1169.16 column/sec. Elapsed time 20.96 sec\n",
      "Unable to load Cython Compute_Similarity, reverting to Python\n",
      "Similarity column 24507 (100.0%), 1146.43 column/sec. Elapsed time 21.38 sec\n",
      "EvaluatorHoldout: Processed 40081 (100.0%) in 23.27 sec. Users per second: 1723\n",
      "EvaluatorHoldout: Processed 40081 (100.0%) in 22.86 sec. Users per second: 1753\n",
      "Unable to load Cython Compute_Similarity, reverting to Python\n",
      "Similarity column 24507 (100.0%), 1140.61 column/sec. Elapsed time 21.49 sec\n",
      "Unable to load Cython Compute_Similarity, reverting to Python\n",
      "Similarity column 24507 (100.0%), 1130.75 column/sec. Elapsed time 21.67 sec\n",
      "EvaluatorHoldout: Processed 40081 (100.0%) in 23.00 sec. Users per second: 1742\n",
      "EvaluatorHoldout: Processed 40081 (100.0%) in 23.17 sec. Users per second: 1730\n",
      "Unable to load Cython Compute_Similarity, reverting to Python\n",
      "Similarity column 24507 (100.0%), 1126.20 column/sec. Elapsed time 21.76 sec\n",
      "Unable to load Cython Compute_Similarity, reverting to Python\n",
      "Similarity column 24507 (100.0%), 1131.83 column/sec. Elapsed time 21.65 sec\n",
      "EvaluatorHoldout: Processed 40081 (100.0%) in 24.41 sec. Users per second: 1642\n",
      "EvaluatorHoldout: Processed 40081 (100.0%) in 24.65 sec. Users per second: 1626\n"
     ]
    }
   ],
   "source": [
    "collaborative_recommender1 = ItemKNNCFRecommender(URM_train)\n",
    "# collaborative_recommender1.fit(shrink=10, topK=20)\n",
    "\n",
    "collaborative_recommender2 = ItemKNNCFRecommender(URM_train)\n",
    "# collaborative_recommender2.fit(shrink=100, topK=25)\n",
    "\n",
    "collaborative_MAP1 = []\n",
    "collaborative_MAP2 = []\n",
    "\n",
    "x_tick = []\n",
    "\n",
    "for topK in [80, 100]:\n",
    "    for shrink in [25, 50]:\n",
    "        x_tick.append(\"topk {}, shrink {}\".format(topK, shrink))\n",
    "\n",
    "        collaborative_recommender1.fit(shrink=shrink, topK=topK)\n",
    "        collaborative_recommender2.fit(shrink=shrink, topK=topK)\n",
    "\n",
    "        result_df, _ = evaluator_test.evaluateRecommender(collaborative_recommender1)\n",
    "        collaborative_MAP1.append(result_df.loc[10][\"MAP\"])\n",
    "\n",
    "        result_df, _ = evaluator_test.evaluateRecommender(collaborative_recommender2)\n",
    "        collaborative_MAP2.append(result_df.loc[10][\"MAP\"])"
   ],
   "metadata": {
    "collapsed": false,
    "pycharm": {
     "name": "#%%cython\n"
    }
   }
  },
  {
   "cell_type": "code",
   "execution_count": 15,
   "outputs": [
    {
     "data": {
      "text/plain": "<Figure size 640x480 with 1 Axes>",
      "image/png": "[encoded data removed]"
     },
     "metadata": {},
     "output_type": "display_data"
    }
   ],
   "source": [
    "pyplot.plot(x_tick, collaborative_MAP1, label=\"Collaborative1\")\n",
    "pyplot.plot(x_tick, collaborative_MAP2, label=\"Collaborative2\")\n",
    "\n",
    "pyplot.ylabel('Similarity')\n",
    "pyplot.xlabel('Sorted values')\n",
    "pyplot.legend()\n",
    "pyplot.show()"
   ],
   "metadata": {
    "collapsed": false
   }
  },
  {
   "cell_type": "markdown",
   "source": [
    "## OPTUNA optimization"
   ],
   "metadata": {
    "collapsed": false
   }
  },
  {
   "cell_type": "code",
   "execution_count": 30,
   "outputs": [
    {
     "name": "stdout",
     "output_type": "stream",
     "text": [
      "ItemKNNCFRecommender: URM Detected 2 ( 0.0%) users with no interactions.\n"
     ]
    }
   ],
   "source": [
    "recommender = ItemKNNCFRecommender(URM_train)\n",
    "\n",
    "def objective(trial):\n",
    "    topK = trial.suggest_float(\"topK\", 80, 90)\n",
    "    shrink = trial.suggest_float(\"shrink\", 10, 15)\n",
    "    recommender.fit(topK=int(topK), shrink=shrink)\n",
    "    result_dict, _ = evaluator_validation.evaluateRecommender(recommender)\n",
    "\n",
    "    return result_dict.loc[10][\"MAP\"]"
   ],
   "metadata": {
    "collapsed": false
   }
  },
  {
   "cell_type": "code",
   "execution_count": 50,
   "outputs": [],
   "source": [
    "# objective = represents the function that we need to minimize\n",
    "# trial = optuna parameter that tries random values in a certain interval\n",
    "\n",
    "def objective(trial):\n",
    "    topK = trial.suggest_int(\"topK\", 140, 160)\n",
    "    shrink = trial.suggest_float(\"shrink\", 55, 65)\n",
    "    recommender.fit(topK=topK, shrink=shrink)\n",
    "    result_dict, _ = evaluator_validation.evaluateRecommender(recommender)\n",
    "\n",
    "    return result_dict.loc[10][\"MAP\"]"
   ],
   "metadata": {
    "collapsed": false
   }
  },
  {
   "cell_type": "code",
   "execution_count": 51,
   "outputs": [
    {
     "name": "stderr",
     "output_type": "stream",
     "text": [
      "\u001B[32m[I 2022-11-05 09:53:11,367]\u001B[0m A new study created in memory with name: no-name-a0f839d1-4270-4ed3-8567-201ca2d2ce81\u001B[0m\n"
     ]
    },
    {
     "name": "stdout",
     "output_type": "stream",
     "text": [
      "Unable to load Cython Compute_Similarity, reverting to Python\n",
      "Similarity column 24507 (100.0%), 1029.77 column/sec. Elapsed time 23.80 sec\n",
      "EvaluatorHoldout: Processed 38842 (100.0%) in 26.07 sec. Users per second: 1490\n"
     ]
    },
    {
     "name": "stderr",
     "output_type": "stream",
     "text": [
      "\u001B[32m[I 2022-11-05 09:54:01,381]\u001B[0m Trial 0 finished with value: 0.005825077460742487 and parameters: {'topK': 147, 'shrink': 59.05487561230662}. Best is trial 0 with value: 0.005825077460742487.\u001B[0m\n"
     ]
    },
    {
     "name": "stdout",
     "output_type": "stream",
     "text": [
      "Unable to load Cython Compute_Similarity, reverting to Python\n",
      "Similarity column 24507 (100.0%), 1028.12 column/sec. Elapsed time 23.84 sec\n",
      "EvaluatorHoldout: Processed 38842 (100.0%) in 27.03 sec. Users per second: 1437\n"
     ]
    },
    {
     "name": "stderr",
     "output_type": "stream",
     "text": [
      "\u001B[32m[I 2022-11-05 09:54:52,378]\u001B[0m Trial 1 finished with value: 0.005849093151497798 and parameters: {'topK': 154, 'shrink': 57.47032516584955}. Best is trial 1 with value: 0.005849093151497798.\u001B[0m\n"
     ]
    },
    {
     "name": "stdout",
     "output_type": "stream",
     "text": [
      "Unable to load Cython Compute_Similarity, reverting to Python\n",
      "Similarity column 24507 (100.0%), 1030.04 column/sec. Elapsed time 23.79 sec\n",
      "EvaluatorHoldout: Processed 38842 (100.0%) in 27.01 sec. Users per second: 1438\n"
     ]
    },
    {
     "name": "stderr",
     "output_type": "stream",
     "text": [
      "\u001B[32m[I 2022-11-05 09:55:43,318]\u001B[0m Trial 2 finished with value: 0.005854140052945493 and parameters: {'topK': 151, 'shrink': 55.52618392019687}. Best is trial 2 with value: 0.005854140052945493.\u001B[0m\n"
     ]
    },
    {
     "name": "stdout",
     "output_type": "stream",
     "text": [
      "Unable to load Cython Compute_Similarity, reverting to Python\n",
      "Similarity column 24507 (100.0%), 943.50 column/sec. Elapsed time 25.97 sec\n",
      "EvaluatorHoldout: Processed 38842 (100.0%) in 27.27 sec. Users per second: 1424\n"
     ]
    },
    {
     "name": "stderr",
     "output_type": "stream",
     "text": [
      "\u001B[32m[I 2022-11-05 09:56:36,696]\u001B[0m Trial 3 finished with value: 0.00585764121311985 and parameters: {'topK': 154, 'shrink': 61.779347330455245}. Best is trial 3 with value: 0.00585764121311985.\u001B[0m\n"
     ]
    },
    {
     "name": "stdout",
     "output_type": "stream",
     "text": [
      "Unable to load Cython Compute_Similarity, reverting to Python\n",
      "Similarity column 24507 (100.0%), 1094.66 column/sec. Elapsed time 22.39 sec\n",
      "EvaluatorHoldout: Processed 38842 (100.0%) in 26.06 sec. Users per second: 1490\n"
     ]
    },
    {
     "name": "stderr",
     "output_type": "stream",
     "text": [
      "\u001B[32m[I 2022-11-05 09:57:25,287]\u001B[0m Trial 4 finished with value: 0.0058281924410084965 and parameters: {'topK': 147, 'shrink': 62.48564639290929}. Best is trial 3 with value: 0.00585764121311985.\u001B[0m\n"
     ]
    },
    {
     "name": "stdout",
     "output_type": "stream",
     "text": [
      "Unable to load Cython Compute_Similarity, reverting to Python\n",
      "Similarity column 24507 (100.0%), 1075.62 column/sec. Elapsed time 22.78 sec\n",
      "EvaluatorHoldout: Processed 38842 (100.0%) in 25.90 sec. Users per second: 1500\n"
     ]
    },
    {
     "name": "stderr",
     "output_type": "stream",
     "text": [
      "\u001B[32m[I 2022-11-05 09:58:14,084]\u001B[0m Trial 5 finished with value: 0.005822712364213854 and parameters: {'topK': 141, 'shrink': 58.981560303020494}. Best is trial 3 with value: 0.00585764121311985.\u001B[0m\n"
     ]
    },
    {
     "name": "stdout",
     "output_type": "stream",
     "text": [
      "Unable to load Cython Compute_Similarity, reverting to Python\n",
      "Similarity column 24507 (100.0%), 1036.48 column/sec. Elapsed time 23.64 sec\n",
      "EvaluatorHoldout: Processed 38842 (100.0%) in 26.21 sec. Users per second: 1482\n"
     ]
    },
    {
     "name": "stderr",
     "output_type": "stream",
     "text": [
      "\u001B[32m[I 2022-11-05 09:59:04,072]\u001B[0m Trial 6 finished with value: 0.005848238038843596 and parameters: {'topK': 148, 'shrink': 63.3161951910516}. Best is trial 3 with value: 0.00585764121311985.\u001B[0m\n"
     ]
    },
    {
     "name": "stdout",
     "output_type": "stream",
     "text": [
      "Unable to load Cython Compute_Similarity, reverting to Python\n",
      "Similarity column 24507 (100.0%), 1058.25 column/sec. Elapsed time 23.16 sec\n",
      "EvaluatorHoldout: Processed 38842 (100.0%) in 49.61 sec. Users per second: 783\n"
     ]
    },
    {
     "name": "stderr",
     "output_type": "stream",
     "text": [
      "\u001B[32m[I 2022-11-05 10:00:16,983]\u001B[0m Trial 7 finished with value: 0.005860149339244164 and parameters: {'topK': 155, 'shrink': 60.835282444940944}. Best is trial 7 with value: 0.005860149339244164.\u001B[0m\n"
     ]
    },
    {
     "name": "stdout",
     "output_type": "stream",
     "text": [
      "Unable to load Cython Compute_Similarity, reverting to Python\n",
      "Similarity column 24507 (100.0%), 550.99 column/sec. Elapsed time 44.48 sec\n",
      "EvaluatorHoldout: Processed 38842 (100.0%) in 36.74 sec. Users per second: 1057\n"
     ]
    },
    {
     "name": "stderr",
     "output_type": "stream",
     "text": [
      "\u001B[32m[I 2022-11-05 10:01:38,434]\u001B[0m Trial 8 finished with value: 0.0058555151803440075 and parameters: {'topK': 156, 'shrink': 61.970852626299326}. Best is trial 7 with value: 0.005860149339244164.\u001B[0m\n"
     ]
    },
    {
     "name": "stdout",
     "output_type": "stream",
     "text": [
      "Unable to load Cython Compute_Similarity, reverting to Python\n",
      "Similarity column 24507 (100.0%), 1096.49 column/sec. Elapsed time 22.35 sec\n",
      "EvaluatorHoldout: Processed 38842 (100.0%) in 26.60 sec. Users per second: 1460\n"
     ]
    },
    {
     "name": "stderr",
     "output_type": "stream",
     "text": [
      "\u001B[32m[I 2022-11-05 10:02:27,505]\u001B[0m Trial 9 finished with value: 0.005828347730283799 and parameters: {'topK': 146, 'shrink': 56.69484443756727}. Best is trial 7 with value: 0.005860149339244164.\u001B[0m\n"
     ]
    }
   ],
   "source": [
    "study = op.create_study(direction='maximize')\n",
    "study.optimize(objective, n_trials=10)"
   ],
   "metadata": {
    "collapsed": false
   }
  },
  {
   "cell_type": "code",
   "execution_count": 52,
   "outputs": [],
   "source": [
    "topK = study.best_params['topK']\n",
    "shrink = study.best_params['shrink']"
   ],
   "metadata": {
    "collapsed": false
   }
  },
  {
   "cell_type": "code",
   "execution_count": 53,
   "outputs": [
    {
     "data": {
      "text/plain": "155"
     },
     "execution_count": 53,
     "metadata": {},
     "output_type": "execute_result"
    }
   ],
   "source": [
    "topK"
   ],
   "metadata": {
    "collapsed": false
   }
  },
  {
   "cell_type": "code",
   "execution_count": 54,
   "outputs": [
    {
     "data": {
      "text/plain": "60.835282444940944"
     },
     "execution_count": 54,
     "metadata": {},
     "output_type": "execute_result"
    }
   ],
   "source": [
    "shrink"
   ],
   "metadata": {
    "collapsed": false
   }
  },
  {
   "cell_type": "code",
   "execution_count": 31,
   "outputs": [
    {
     "name": "stdout",
     "output_type": "stream",
     "text": [
      "Unable to load Cython Compute_Similarity, reverting to Python\n",
      "Similarity column 24507 (100.0%), 1145.20 column/sec. Elapsed time 21.40 sec\n",
      "EvaluatorHoldout: Processed 40084 (100.0%) in 20.25 sec. Users per second: 1979\n"
     ]
    },
    {
     "data": {
      "text/plain": "       PRECISION PRECISION_RECALL_MIN_DEN    RECALL       MAP MAP_MIN_DEN  \\\ncutoff                                                                      \n10      0.016638                 0.028342  0.026583  0.006895    0.012005   \n\n             MRR      NDCG        F1  HIT_RATE ARHR_ALL_HITS  ...  \\\ncutoff                                                        ...   \n10      0.059039  0.026414  0.020466  0.142002      0.063699  ...   \n\n       COVERAGE_USER COVERAGE_USER_HIT USERS_IN_GT DIVERSITY_GINI  \\\ncutoff                                                              \n10          0.962886          0.136732    0.962886       0.062547   \n\n       SHANNON_ENTROPY RATIO_DIVERSITY_HERFINDAHL RATIO_DIVERSITY_GINI  \\\ncutoff                                                                   \n10            9.987618                   0.996563             0.143687   \n\n       RATIO_SHANNON_ENTROPY RATIO_AVERAGE_POPULARITY RATIO_NOVELTY  \ncutoff                                                               \n10                  0.757957                 2.658988      0.521342  \n\n[1 rows x 27 columns]",
      "text/html": "<div>\n<style scoped>\n    .dataframe tbody tr th:only-of-type {\n        vertical-align: middle;\n    }\n\n    .dataframe tbody tr th {\n        vertical-align: top;\n    }\n\n    .dataframe thead th {\n        text-align: right;\n    }\n</style>\n<table border=\"1\" class=\"dataframe\">\n  <thead>\n    <tr style=\"text-align: right;\">\n      <th></th>\n      <th>PRECISION</th>\n      <th>PRECISION_RECALL_MIN_DEN</th>\n      <th>RECALL</th>\n      <th>MAP</th>\n      <th>MAP_MIN_DEN</th>\n      <th>MRR</th>\n      <th>NDCG</th>\n      <th>F1</th>\n      <th>HIT_RATE</th>\n      <th>ARHR_ALL_HITS</th>\n      <th>...</th>\n      <th>COVERAGE_USER</th>\n      <th>COVERAGE_USER_HIT</th>\n      <th>USERS_IN_GT</th>\n      <th>DIVERSITY_GINI</th>\n      <th>SHANNON_ENTROPY</th>\n      <th>RATIO_DIVERSITY_HERFINDAHL</th>\n      <th>RATIO_DIVERSITY_GINI</th>\n      <th>RATIO_SHANNON_ENTROPY</th>\n      <th>RATIO_AVERAGE_POPULARITY</th>\n      <th>RATIO_NOVELTY</th>\n    </tr>\n    <tr>\n      <th>cutoff</th>\n      <th></th>\n      <th></th>\n      <th></th>\n      <th></th>\n      <th></th>\n      <th></th>\n      <th></th>\n      <th></th>\n      <th></th>\n      <th></th>\n      <th></th>\n      <th></th>\n      <th></th>\n      <th></th>\n      <th></th>\n      <th></th>\n      <th></th>\n      <th></th>\n      <th></th>\n      <th></th>\n      <th></th>\n    </tr>\n  </thead>\n  <tbody>\n    <tr>\n      <th>10</th>\n      <td>0.016638</td>\n      <td>0.028342</td>\n      <td>0.026583</td>\n      <td>0.006895</td>\n      <td>0.012005</td>\n      <td>0.059039</td>\n      <td>0.026414</td>\n      <td>0.020466</td>\n      <td>0.142002</td>\n      <td>0.063699</td>\n      <td>...</td>\n      <td>0.962886</td>\n      <td>0.136732</td>\n      <td>0.962886</td>\n      <td>0.062547</td>\n      <td>9.987618</td>\n      <td>0.996563</td>\n      <td>0.143687</td>\n      <td>0.757957</td>\n      <td>2.658988</td>\n      <td>0.521342</td>\n    </tr>\n  </tbody>\n</table>\n<p>1 rows × 27 columns</p>\n</div>"
     },
     "execution_count": 31,
     "metadata": {},
     "output_type": "execute_result"
    }
   ],
   "source": [
    "recommender.fit(shrink=int(11.360087017080575), topK=int(24.286589663434658))\n",
    "result_df, _ = evaluator_test.evaluateRecommender(recommender)\n",
    "result_df"
   ],
   "metadata": {
    "collapsed": false
   }
  },
  {
   "cell_type": "code",
   "execution_count": 33,
   "outputs": [
    {
     "name": "stdout",
     "output_type": "stream",
     "text": [
      "Unable to load Cython Compute_Similarity, reverting to Python\n",
      "Similarity column 24507 (100.0%), 1093.94 column/sec. Elapsed time 22.40 sec\n",
      "EvaluatorHoldout: Processed 40084 (100.0%) in 23.04 sec. Users per second: 1740\n"
     ]
    },
    {
     "data": {
      "text/plain": "       PRECISION PRECISION_RECALL_MIN_DEN    RECALL       MAP MAP_MIN_DEN  \\\ncutoff                                                                      \n10      0.017309                 0.029938  0.028193  0.007176    0.012539   \n\n             MRR      NDCG        F1  HIT_RATE ARHR_ALL_HITS  ...  \\\ncutoff                                                        ...   \n10      0.061427  0.027627  0.021449  0.147665      0.066305  ...   \n\n       COVERAGE_USER COVERAGE_USER_HIT USERS_IN_GT DIVERSITY_GINI  \\\ncutoff                                                              \n10          0.962886          0.142185    0.962886       0.047016   \n\n       SHANNON_ENTROPY RATIO_DIVERSITY_HERFINDAHL RATIO_DIVERSITY_GINI  \\\ncutoff                                                                   \n10            9.282323                   0.994223             0.108007   \n\n       RATIO_SHANNON_ENTROPY RATIO_AVERAGE_POPULARITY RATIO_NOVELTY  \ncutoff                                                               \n10                  0.704433                 3.279176      0.497832  \n\n[1 rows x 27 columns]",
      "text/html": "<div>\n<style scoped>\n    .dataframe tbody tr th:only-of-type {\n        vertical-align: middle;\n    }\n\n    .dataframe tbody tr th {\n        vertical-align: top;\n    }\n\n    .dataframe thead th {\n        text-align: right;\n    }\n</style>\n<table border=\"1\" class=\"dataframe\">\n  <thead>\n    <tr style=\"text-align: right;\">\n      <th></th>\n      <th>PRECISION</th>\n      <th>PRECISION_RECALL_MIN_DEN</th>\n      <th>RECALL</th>\n      <th>MAP</th>\n      <th>MAP_MIN_DEN</th>\n      <th>MRR</th>\n      <th>NDCG</th>\n      <th>F1</th>\n      <th>HIT_RATE</th>\n      <th>ARHR_ALL_HITS</th>\n      <th>...</th>\n      <th>COVERAGE_USER</th>\n      <th>COVERAGE_USER_HIT</th>\n      <th>USERS_IN_GT</th>\n      <th>DIVERSITY_GINI</th>\n      <th>SHANNON_ENTROPY</th>\n      <th>RATIO_DIVERSITY_HERFINDAHL</th>\n      <th>RATIO_DIVERSITY_GINI</th>\n      <th>RATIO_SHANNON_ENTROPY</th>\n      <th>RATIO_AVERAGE_POPULARITY</th>\n      <th>RATIO_NOVELTY</th>\n    </tr>\n    <tr>\n      <th>cutoff</th>\n      <th></th>\n      <th></th>\n      <th></th>\n      <th></th>\n      <th></th>\n      <th></th>\n      <th></th>\n      <th></th>\n      <th></th>\n      <th></th>\n      <th></th>\n      <th></th>\n      <th></th>\n      <th></th>\n      <th></th>\n      <th></th>\n      <th></th>\n      <th></th>\n      <th></th>\n      <th></th>\n      <th></th>\n    </tr>\n  </thead>\n  <tbody>\n    <tr>\n      <th>10</th>\n      <td>0.017309</td>\n      <td>0.029938</td>\n      <td>0.028193</td>\n      <td>0.007176</td>\n      <td>0.012539</td>\n      <td>0.061427</td>\n      <td>0.027627</td>\n      <td>0.021449</td>\n      <td>0.147665</td>\n      <td>0.066305</td>\n      <td>...</td>\n      <td>0.962886</td>\n      <td>0.142185</td>\n      <td>0.962886</td>\n      <td>0.047016</td>\n      <td>9.282323</td>\n      <td>0.994223</td>\n      <td>0.108007</td>\n      <td>0.704433</td>\n      <td>3.279176</td>\n      <td>0.497832</td>\n    </tr>\n  </tbody>\n</table>\n<p>1 rows × 27 columns</p>\n</div>"
     },
     "execution_count": 33,
     "metadata": {},
     "output_type": "execute_result"
    }
   ],
   "source": [
    "recommender.fit(shrink=25, topK=100)\n",
    "result_df, _ = evaluator_test.evaluateRecommender(recommender)\n",
    "result_df"
   ],
   "metadata": {
    "collapsed": false
   }
  },
  {
   "cell_type": "code",
   "execution_count": 24,
   "outputs": [
    {
     "name": "stdout",
     "output_type": "stream",
     "text": [
      "Unable to load Cython Compute_Similarity, reverting to Python\n",
      "Similarity column 24507 (100.0%), 1045.64 column/sec. Elapsed time 23.44 sec\n",
      "EvaluatorHoldout: Processed 39996 (100.0%) in 26.08 sec. Users per second: 1534\n"
     ]
    },
    {
     "data": {
      "text/plain": "       PRECISION PRECISION_RECALL_MIN_DEN    RECALL       MAP MAP_MIN_DEN  \\\ncutoff                                                                      \n10      0.016932                 0.029289  0.027564  0.007106    0.012572   \n\n             MRR      NDCG        F1  HIT_RATE ARHR_ALL_HITS  ...  \\\ncutoff                                                        ...   \n10      0.061196  0.027395  0.020978  0.143764       0.06588  ...   \n\n       COVERAGE_USER COVERAGE_USER_HIT USERS_IN_GT DIVERSITY_GINI  \\\ncutoff                                                              \n10          0.960773          0.138125    0.960773        0.03585   \n\n       SHANNON_ENTROPY RATIO_DIVERSITY_HERFINDAHL RATIO_DIVERSITY_GINI  \\\ncutoff                                                                   \n10            9.069113                   0.994058             0.082357   \n\n       RATIO_SHANNON_ENTROPY RATIO_AVERAGE_POPULARITY RATIO_NOVELTY  \ncutoff                                                               \n10                  0.688252                 3.357806        0.4904  \n\n[1 rows x 27 columns]",
      "text/html": "<div>\n<style scoped>\n    .dataframe tbody tr th:only-of-type {\n        vertical-align: middle;\n    }\n\n    .dataframe tbody tr th {\n        vertical-align: top;\n    }\n\n    .dataframe thead th {\n        text-align: right;\n    }\n</style>\n<table border=\"1\" class=\"dataframe\">\n  <thead>\n    <tr style=\"text-align: right;\">\n      <th></th>\n      <th>PRECISION</th>\n      <th>PRECISION_RECALL_MIN_DEN</th>\n      <th>RECALL</th>\n      <th>MAP</th>\n      <th>MAP_MIN_DEN</th>\n      <th>MRR</th>\n      <th>NDCG</th>\n      <th>F1</th>\n      <th>HIT_RATE</th>\n      <th>ARHR_ALL_HITS</th>\n      <th>...</th>\n      <th>COVERAGE_USER</th>\n      <th>COVERAGE_USER_HIT</th>\n      <th>USERS_IN_GT</th>\n      <th>DIVERSITY_GINI</th>\n      <th>SHANNON_ENTROPY</th>\n      <th>RATIO_DIVERSITY_HERFINDAHL</th>\n      <th>RATIO_DIVERSITY_GINI</th>\n      <th>RATIO_SHANNON_ENTROPY</th>\n      <th>RATIO_AVERAGE_POPULARITY</th>\n      <th>RATIO_NOVELTY</th>\n    </tr>\n    <tr>\n      <th>cutoff</th>\n      <th></th>\n      <th></th>\n      <th></th>\n      <th></th>\n      <th></th>\n      <th></th>\n      <th></th>\n      <th></th>\n      <th></th>\n      <th></th>\n      <th></th>\n      <th></th>\n      <th></th>\n      <th></th>\n      <th></th>\n      <th></th>\n      <th></th>\n      <th></th>\n      <th></th>\n      <th></th>\n      <th></th>\n    </tr>\n  </thead>\n  <tbody>\n    <tr>\n      <th>10</th>\n      <td>0.016932</td>\n      <td>0.029289</td>\n      <td>0.027564</td>\n      <td>0.007106</td>\n      <td>0.012572</td>\n      <td>0.061196</td>\n      <td>0.027395</td>\n      <td>0.020978</td>\n      <td>0.143764</td>\n      <td>0.06588</td>\n      <td>...</td>\n      <td>0.960773</td>\n      <td>0.138125</td>\n      <td>0.960773</td>\n      <td>0.03585</td>\n      <td>9.069113</td>\n      <td>0.994058</td>\n      <td>0.082357</td>\n      <td>0.688252</td>\n      <td>3.357806</td>\n      <td>0.4904</td>\n    </tr>\n  </tbody>\n</table>\n<p>1 rows × 27 columns</p>\n</div>"
     },
     "execution_count": 24,
     "metadata": {},
     "output_type": "execute_result"
    }
   ],
   "source": [
    "recommender.fit(shrink=50, topK=80)\n",
    "result_df, _ = evaluator_test.evaluateRecommender(recommender)\n",
    "result_df"
   ],
   "metadata": {
    "collapsed": false
   }
  },
  {
   "cell_type": "code",
   "execution_count": 55,
   "outputs": [
    {
     "name": "stdout",
     "output_type": "stream",
     "text": [
      "ItemKNNCFRecommender: URM Detected 3 ( 0.0%) users with no interactions.\n",
      "Unable to load Cython Compute_Similarity, reverting to Python\n",
      "Similarity column 24507 (100.0%), 1076.01 column/sec. Elapsed time 22.78 sec\n",
      "EvaluatorHoldout: Processed 38842 (100.0%) in 26.36 sec. Users per second: 1474\n"
     ]
    },
    {
     "data": {
      "text/plain": "       PRECISION PRECISION_RECALL_MIN_DEN    RECALL       MAP MAP_MIN_DEN  \\\ncutoff                                                                      \n10      0.039218                 0.082653  0.080303  0.017704    0.037006   \n\n             MRR      NDCG        F1  HIT_RATE ARHR_ALL_HITS  ...  \\\ncutoff                                                        ...   \n10      0.128195  0.070728  0.052699  0.282298      0.149961  ...   \n\n       COVERAGE_USER COVERAGE_USER_HIT USERS_IN_GT DIVERSITY_GINI  \\\ncutoff                                                              \n10          0.933051          0.263398    0.933051       0.031458   \n\n       SHANNON_ENTROPY RATIO_DIVERSITY_HERFINDAHL RATIO_DIVERSITY_GINI  \\\ncutoff                                                                   \n10            8.766627                   0.992446             0.072189   \n\n       RATIO_SHANNON_ENTROPY RATIO_AVERAGE_POPULARITY RATIO_NOVELTY  \ncutoff                                                               \n10                  0.665104                 3.692853      0.481864  \n\n[1 rows x 27 columns]",
      "text/html": "<div>\n<style scoped>\n    .dataframe tbody tr th:only-of-type {\n        vertical-align: middle;\n    }\n\n    .dataframe tbody tr th {\n        vertical-align: top;\n    }\n\n    .dataframe thead th {\n        text-align: right;\n    }\n</style>\n<table border=\"1\" class=\"dataframe\">\n  <thead>\n    <tr style=\"text-align: right;\">\n      <th></th>\n      <th>PRECISION</th>\n      <th>PRECISION_RECALL_MIN_DEN</th>\n      <th>RECALL</th>\n      <th>MAP</th>\n      <th>MAP_MIN_DEN</th>\n      <th>MRR</th>\n      <th>NDCG</th>\n      <th>F1</th>\n      <th>HIT_RATE</th>\n      <th>ARHR_ALL_HITS</th>\n      <th>...</th>\n      <th>COVERAGE_USER</th>\n      <th>COVERAGE_USER_HIT</th>\n      <th>USERS_IN_GT</th>\n      <th>DIVERSITY_GINI</th>\n      <th>SHANNON_ENTROPY</th>\n      <th>RATIO_DIVERSITY_HERFINDAHL</th>\n      <th>RATIO_DIVERSITY_GINI</th>\n      <th>RATIO_SHANNON_ENTROPY</th>\n      <th>RATIO_AVERAGE_POPULARITY</th>\n      <th>RATIO_NOVELTY</th>\n    </tr>\n    <tr>\n      <th>cutoff</th>\n      <th></th>\n      <th></th>\n      <th></th>\n      <th></th>\n      <th></th>\n      <th></th>\n      <th></th>\n      <th></th>\n      <th></th>\n      <th></th>\n      <th></th>\n      <th></th>\n      <th></th>\n      <th></th>\n      <th></th>\n      <th></th>\n      <th></th>\n      <th></th>\n      <th></th>\n      <th></th>\n      <th></th>\n    </tr>\n  </thead>\n  <tbody>\n    <tr>\n      <th>10</th>\n      <td>0.039218</td>\n      <td>0.082653</td>\n      <td>0.080303</td>\n      <td>0.017704</td>\n      <td>0.037006</td>\n      <td>0.128195</td>\n      <td>0.070728</td>\n      <td>0.052699</td>\n      <td>0.282298</td>\n      <td>0.149961</td>\n      <td>...</td>\n      <td>0.933051</td>\n      <td>0.263398</td>\n      <td>0.933051</td>\n      <td>0.031458</td>\n      <td>8.766627</td>\n      <td>0.992446</td>\n      <td>0.072189</td>\n      <td>0.665104</td>\n      <td>3.692853</td>\n      <td>0.481864</td>\n    </tr>\n  </tbody>\n</table>\n<p>1 rows × 27 columns</p>\n</div>"
     },
     "execution_count": 55,
     "metadata": {},
     "output_type": "execute_result"
    }
   ],
   "source": [
    "recommender_try = ItemKNNCFRecommender(URM_train)\n",
    "recommender_try.fit(topK=155, shrink=60.835282444940944)\n",
    "\n",
    "\n",
    "result_df, _ = evaluator_validation.evaluateRecommender(recommender_try)\n",
    "result_df"
   ],
   "metadata": {
    "collapsed": false
   }
  },
  {
   "cell_type": "code",
   "execution_count": 43,
   "outputs": [
    {
     "name": "stdout",
     "output_type": "stream",
     "text": [
      "ItemKNNCFRecommender: URM Detected 5 ( 0.0%) users with no interactions.\n",
      "Unable to load Cython Compute_Similarity, reverting to Python\n",
      "Similarity column 24507 (100.0%), 1005.74 column/sec. Elapsed time 24.37 sec\n",
      "EvaluatorHoldout: Processed 38984 (100.0%) in 27.82 sec. Users per second: 1401\n"
     ]
    },
    {
     "data": {
      "text/plain": "       PRECISION PRECISION_RECALL_MIN_DEN    RECALL       MAP MAP_MIN_DEN  \\\ncutoff                                                                      \n10      0.039162                 0.082337  0.080068  0.017838     0.03707   \n\n             MRR      NDCG        F1  HIT_RATE ARHR_ALL_HITS  ...  \\\ncutoff                                                        ...   \n10      0.128873  0.070771  0.052598  0.280782      0.150903  ...   \n\n       COVERAGE_USER COVERAGE_USER_HIT USERS_IN_GT DIVERSITY_GINI  \\\ncutoff                                                              \n10          0.936463          0.262942    0.936463       0.032166   \n\n       SHANNON_ENTROPY RATIO_DIVERSITY_HERFINDAHL RATIO_DIVERSITY_GINI  \\\ncutoff                                                                   \n10             8.79144                   0.992498             0.073804   \n\n       RATIO_SHANNON_ENTROPY RATIO_AVERAGE_POPULARITY RATIO_NOVELTY  \ncutoff                                                               \n10                  0.667122                 3.680118      0.482355  \n\n[1 rows x 27 columns]",
      "text/html": "<div>\n<style scoped>\n    .dataframe tbody tr th:only-of-type {\n        vertical-align: middle;\n    }\n\n    .dataframe tbody tr th {\n        vertical-align: top;\n    }\n\n    .dataframe thead th {\n        text-align: right;\n    }\n</style>\n<table border=\"1\" class=\"dataframe\">\n  <thead>\n    <tr style=\"text-align: right;\">\n      <th></th>\n      <th>PRECISION</th>\n      <th>PRECISION_RECALL_MIN_DEN</th>\n      <th>RECALL</th>\n      <th>MAP</th>\n      <th>MAP_MIN_DEN</th>\n      <th>MRR</th>\n      <th>NDCG</th>\n      <th>F1</th>\n      <th>HIT_RATE</th>\n      <th>ARHR_ALL_HITS</th>\n      <th>...</th>\n      <th>COVERAGE_USER</th>\n      <th>COVERAGE_USER_HIT</th>\n      <th>USERS_IN_GT</th>\n      <th>DIVERSITY_GINI</th>\n      <th>SHANNON_ENTROPY</th>\n      <th>RATIO_DIVERSITY_HERFINDAHL</th>\n      <th>RATIO_DIVERSITY_GINI</th>\n      <th>RATIO_SHANNON_ENTROPY</th>\n      <th>RATIO_AVERAGE_POPULARITY</th>\n      <th>RATIO_NOVELTY</th>\n    </tr>\n    <tr>\n      <th>cutoff</th>\n      <th></th>\n      <th></th>\n      <th></th>\n      <th></th>\n      <th></th>\n      <th></th>\n      <th></th>\n      <th></th>\n      <th></th>\n      <th></th>\n      <th></th>\n      <th></th>\n      <th></th>\n      <th></th>\n      <th></th>\n      <th></th>\n      <th></th>\n      <th></th>\n      <th></th>\n      <th></th>\n      <th></th>\n    </tr>\n  </thead>\n  <tbody>\n    <tr>\n      <th>10</th>\n      <td>0.039162</td>\n      <td>0.082337</td>\n      <td>0.080068</td>\n      <td>0.017838</td>\n      <td>0.03707</td>\n      <td>0.128873</td>\n      <td>0.070771</td>\n      <td>0.052598</td>\n      <td>0.280782</td>\n      <td>0.150903</td>\n      <td>...</td>\n      <td>0.936463</td>\n      <td>0.262942</td>\n      <td>0.936463</td>\n      <td>0.032166</td>\n      <td>8.79144</td>\n      <td>0.992498</td>\n      <td>0.073804</td>\n      <td>0.667122</td>\n      <td>3.680118</td>\n      <td>0.482355</td>\n    </tr>\n  </tbody>\n</table>\n<p>1 rows × 27 columns</p>\n</div>"
     },
     "execution_count": 43,
     "metadata": {},
     "output_type": "execute_result"
    }
   ],
   "source": [
    "recommender_try = ItemKNNCFRecommender(URM_train)\n",
    "recommender_try.fit(topK=150, shrink=60)\n",
    "\n",
    "\n",
    "result_df, _ = evaluator_validation.evaluateRecommender(recommender_try)\n",
    "result_df"
   ],
   "metadata": {
    "collapsed": false
   }
  },
  {
   "cell_type": "code",
   "execution_count": null,
   "outputs": [],
   "source": [],
   "metadata": {
    "collapsed": false
   }
  }
 ],
 "metadata": {
  "kernelspec": {
   "display_name": "Python 3",
   "language": "python",
   "name": "python3"
  },
  "language_info": {
   "codemirror_mode": {
    "name": "ipython",
    "version": 2
   },
   "file_extension": ".py",
   "mimetype": "text/x-python",
   "name": "python",
   "nbconvert_exporter": "python",
   "pygments_lexer": "ipython2",
   "version": "2.7.6"
  }
 },
 "nbformat": 4,
 "nbformat_minor": 0
}
