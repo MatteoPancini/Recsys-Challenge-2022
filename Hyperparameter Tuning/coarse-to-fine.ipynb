{
 "cells": [
  {
   "cell_type": "markdown",
   "source": [
    "# Coarse to fine"
   ],
   "metadata": {
    "collapsed": false
   }
  },
  {
   "cell_type": "code",
   "execution_count": 1,
   "outputs": [],
   "source": [
    "import numpy as np\n",
    "import pandas as pd\n",
    "from sklearn.model_selection import ParameterSampler\n",
    "\n",
    "import matplotlib.pyplot as pyplot\n",
    "import optuna as op\n",
    "%matplotlib inline\n",
    "from Data_manager.split_functions.split_train_validation_random_holdout import split_train_in_two_percentage_global_sample\n",
    "from Evaluation.Evaluator import EvaluatorHoldout\n",
    "from Recommenders.KNN.ItemKNNCFRecommender import ItemKNNCFRecommender\n",
    "from Utils.createURM import createURM2"
   ],
   "metadata": {
    "collapsed": false
   }
  },
  {
   "cell_type": "code",
   "execution_count": 2,
   "outputs": [
    {
     "name": "stderr",
     "output_type": "stream",
     "text": [
      "C:\\Users\\Mike\\PycharmProjects\\recsys-challenge-2022-Pancini-Vitali\\Utils\\createURM.py:43: DtypeWarning: Columns (2) have mixed types. Specify dtype option on import or set low_memory=False.\n",
      "  dataset = pd.read_csv('../Input/interactions_and_impressions.csv')\n"
     ]
    }
   ],
   "source": [
    "URM = createURM2()"
   ],
   "metadata": {
    "collapsed": false
   }
  },
  {
   "cell_type": "code",
   "execution_count": 3,
   "outputs": [
    {
     "name": "stdout",
     "output_type": "stream",
     "text": [
      "Warning: 290 (0.70 %) of 41629 users have no sampled items\n",
      "Warning: 752 (1.81 %) of 41629 users have no sampled items\n"
     ]
    }
   ],
   "source": [
    "URM_train, URM_test = split_train_in_two_percentage_global_sample(URM, train_percentage = 0.80)\n",
    "URM_train, URM_validation = split_train_in_two_percentage_global_sample(URM_train, train_percentage = 0.80)"
   ],
   "metadata": {
    "collapsed": false
   }
  },
  {
   "cell_type": "code",
   "execution_count": 4,
   "outputs": [
    {
     "name": "stdout",
     "output_type": "stream",
     "text": [
      "EvaluatorHoldout: Ignoring 752 ( 1.8%) Users that have less than 1 test interactions\n",
      "EvaluatorHoldout: Ignoring 290 ( 0.7%) Users that have less than 1 test interactions\n"
     ]
    }
   ],
   "source": [
    "evaluator_validation = EvaluatorHoldout(URM_validation, cutoff_list=[10])\n",
    "evaluator_test = EvaluatorHoldout(URM_test, cutoff_list=[10])"
   ],
   "metadata": {
    "collapsed": false
   }
  },
  {
   "cell_type": "code",
   "execution_count": 5,
   "outputs": [
    {
     "name": "stdout",
     "output_type": "stream",
     "text": [
      "Unable to load Cython Compute_Similarity, reverting to Python\n",
      "Similarity column 24507 (100.0%), 366.11 column/sec. Elapsed time 1.12 min\n",
      "EvaluatorHoldout: Processed 40877 (100.0%) in 1.33 min. Users per second: 513\n",
      "Unable to load Cython Compute_Similarity, reverting to Python\n",
      "Similarity column 24507 (100.0%), 316.79 column/sec. Elapsed time 1.29 min\n",
      "EvaluatorHoldout: Processed 40877 (100.0%) in 1.38 min. Users per second: 492\n",
      "Unable to load Cython Compute_Similarity, reverting to Python\n",
      "Similarity column 24507 (100.0%), 285.31 column/sec. Elapsed time 1.43 min\n",
      "EvaluatorHoldout: Processed 40877 (100.0%) in 1.26 min. Users per second: 540\n",
      "Unable to load Cython Compute_Similarity, reverting to Python\n",
      "Similarity column 24507 (100.0%), 847.89 column/sec. Elapsed time 28.90 sec\n",
      "EvaluatorHoldout: Processed 40877 (100.0%) in 27.88 sec. Users per second: 1466\n",
      "Unable to load Cython Compute_Similarity, reverting to Python\n",
      "Similarity column 24507 (100.0%), 993.23 column/sec. Elapsed time 24.67 sec\n",
      "EvaluatorHoldout: Processed 40877 (100.0%) in 20.22 sec. Users per second: 2021\n",
      "Unable to load Cython Compute_Similarity, reverting to Python\n",
      "Similarity column 24507 (100.0%), 811.19 column/sec. Elapsed time 30.21 sec\n",
      "EvaluatorHoldout: Processed 40877 (100.0%) in 30.48 sec. Users per second: 1341\n",
      "Unable to load Cython Compute_Similarity, reverting to Python\n",
      "Similarity column 24507 (100.0%), 749.42 column/sec. Elapsed time 32.70 sec\n",
      "EvaluatorHoldout: Processed 40877 (100.0%) in 33.55 sec. Users per second: 1219\n",
      "Unable to load Cython Compute_Similarity, reverting to Python\n",
      "Similarity column 24507 (100.0%), 863.31 column/sec. Elapsed time 28.39 sec\n",
      "EvaluatorHoldout: Processed 40877 (100.0%) in 26.73 sec. Users per second: 1529\n",
      "Unable to load Cython Compute_Similarity, reverting to Python\n",
      "Similarity column 24507 (100.0%), 819.88 column/sec. Elapsed time 29.89 sec\n",
      "EvaluatorHoldout: Processed 40877 (100.0%) in 30.37 sec. Users per second: 1346\n",
      "Unable to load Cython Compute_Similarity, reverting to Python\n",
      "Similarity column 24507 (100.0%), 776.27 column/sec. Elapsed time 31.57 sec\n",
      "EvaluatorHoldout: Processed 40877 (100.0%) in 30.87 sec. Users per second: 1324\n"
     ]
    },
    {
     "data": {
      "text/plain": "   topK  shrink     score\n3   183      53  0.019434\n7   187      52  0.019409",
      "text/html": "<div>\n<style scoped>\n    .dataframe tbody tr th:only-of-type {\n        vertical-align: middle;\n    }\n\n    .dataframe tbody tr th {\n        vertical-align: top;\n    }\n\n    .dataframe thead th {\n        text-align: right;\n    }\n</style>\n<table border=\"1\" class=\"dataframe\">\n  <thead>\n    <tr style=\"text-align: right;\">\n      <th></th>\n      <th>topK</th>\n      <th>shrink</th>\n      <th>score</th>\n    </tr>\n  </thead>\n  <tbody>\n    <tr>\n      <th>3</th>\n      <td>183</td>\n      <td>53</td>\n      <td>0.019434</td>\n    </tr>\n    <tr>\n      <th>7</th>\n      <td>187</td>\n      <td>52</td>\n      <td>0.019409</td>\n    </tr>\n  </tbody>\n</table>\n</div>"
     },
     "metadata": {},
     "output_type": "display_data"
    },
    {
     "name": "stdout",
     "output_type": "stream",
     "text": [
      "{3: {'topK': 183.0, 'shrink': 53.0, 'score': 0.01943409399705082}}\n",
      "Unable to load Cython Compute_Similarity, reverting to Python\n",
      "Similarity column 24507 (100.0%), 811.25 column/sec. Elapsed time 30.21 sec\n",
      "EvaluatorHoldout: Processed 40877 (100.0%) in 26.33 sec. Users per second: 1553\n",
      "Unable to load Cython Compute_Similarity, reverting to Python\n",
      "Similarity column 24507 (100.0%), 863.05 column/sec. Elapsed time 28.40 sec\n",
      "EvaluatorHoldout: Processed 40877 (100.0%) in 27.01 sec. Users per second: 1513\n",
      "Unable to load Cython Compute_Similarity, reverting to Python\n",
      "Similarity column 24507 (100.0%), 871.57 column/sec. Elapsed time 28.12 sec\n",
      "EvaluatorHoldout: Processed 40877 (100.0%) in 26.64 sec. Users per second: 1534\n",
      "Unable to load Cython Compute_Similarity, reverting to Python\n",
      "Similarity column 24507 (100.0%), 886.14 column/sec. Elapsed time 27.66 sec\n",
      "EvaluatorHoldout: Processed 40877 (100.0%) in 26.85 sec. Users per second: 1522\n",
      "Unable to load Cython Compute_Similarity, reverting to Python\n",
      "Similarity column 24507 (100.0%), 877.75 column/sec. Elapsed time 27.92 sec\n",
      "EvaluatorHoldout: Processed 40877 (100.0%) in 26.77 sec. Users per second: 1527\n",
      "Unable to load Cython Compute_Similarity, reverting to Python\n",
      "Similarity column 24507 (100.0%), 875.98 column/sec. Elapsed time 27.98 sec\n",
      "EvaluatorHoldout: Processed 40877 (100.0%) in 26.80 sec. Users per second: 1525\n",
      "Unable to load Cython Compute_Similarity, reverting to Python\n",
      "Similarity column 24507 (100.0%), 877.62 column/sec. Elapsed time 27.92 sec\n",
      "EvaluatorHoldout: Processed 40877 (100.0%) in 26.65 sec. Users per second: 1534\n",
      "Unable to load Cython Compute_Similarity, reverting to Python\n",
      "Similarity column 24507 (100.0%), 871.28 column/sec. Elapsed time 28.13 sec\n",
      "EvaluatorHoldout: Processed 40877 (100.0%) in 26.87 sec. Users per second: 1521\n",
      "Unable to load Cython Compute_Similarity, reverting to Python\n",
      "Similarity column 24507 (100.0%), 708.14 column/sec. Elapsed time 34.61 sec\n",
      "EvaluatorHoldout: Processed 40877 (100.0%) in 27.34 sec. Users per second: 1495\n",
      "Unable to load Cython Compute_Similarity, reverting to Python\n",
      "Similarity column 24507 (100.0%), 868.48 column/sec. Elapsed time 28.22 sec\n",
      "EvaluatorHoldout: Processed 40877 (100.0%) in 26.75 sec. Users per second: 1528\n"
     ]
    },
    {
     "data": {
      "text/plain": "   topK  shrink    score\n7   185      53  0.01944",
      "text/html": "<div>\n<style scoped>\n    .dataframe tbody tr th:only-of-type {\n        vertical-align: middle;\n    }\n\n    .dataframe tbody tr th {\n        vertical-align: top;\n    }\n\n    .dataframe thead th {\n        text-align: right;\n    }\n</style>\n<table border=\"1\" class=\"dataframe\">\n  <thead>\n    <tr style=\"text-align: right;\">\n      <th></th>\n      <th>topK</th>\n      <th>shrink</th>\n      <th>score</th>\n    </tr>\n  </thead>\n  <tbody>\n    <tr>\n      <th>7</th>\n      <td>185</td>\n      <td>53</td>\n      <td>0.01944</td>\n    </tr>\n  </tbody>\n</table>\n</div>"
     },
     "metadata": {},
     "output_type": "display_data"
    },
    {
     "name": "stdout",
     "output_type": "stream",
     "text": [
      "{7: {'topK': 185.0, 'shrink': 53.0, 'score': 0.01943996332784615}}\n"
     ]
    }
   ],
   "source": [
    "grid_size = 100\n",
    "TUNE_ITER = 10\n",
    "num_epochs = 2\n",
    "worse_score = 0\n",
    "\n",
    "init_param_grid = {'topK': [i for i in range(10, 500)],\n",
    "                   'shrink': [i for i in range(10, 100)],\n",
    "                  }\n",
    "\n",
    "new_param_grid = init_param_grid.copy()\n",
    "best_params_dict = {'score':worse_score,'params':[]}\n",
    "tried_params_list = []\n",
    "\n",
    "for epoch in range(num_epochs):\n",
    "\n",
    "    # List of sampled hyperparameter combinations will be used for random search\n",
    "    param_list = list(ParameterSampler(new_param_grid, n_iter=TUNE_ITER,random_state=0))\n",
    "\n",
    "    # Searching the Best Parameters with Random Search\n",
    "    rs_results_dict = {}\n",
    "    for tune_iter in range(TUNE_ITER):\n",
    "        # Get the set of parameter for this iteration\n",
    "        strategy_params = param_list[tune_iter]\n",
    "\n",
    "        recommender = ItemKNNCFRecommender(URM_train)\n",
    "        recommender.fit(shrink=strategy_params['shrink'], topK=strategy_params['topK'])\n",
    "        results, _ = evaluator_validation.evaluateRecommender(recommender)\n",
    "        results = results.loc[10]['MAP']\n",
    "\n",
    "        rs_results_dict[tuple(strategy_params.values())] = {'score':results}\n",
    "\n",
    "        if results > best_params_dict['score']:\n",
    "            best_params_dict['score'] = results\n",
    "            best_params_dict['params'] = list(strategy_params.values())\n",
    "\n",
    "    # Save the results in dataframe and sort it based on score\n",
    "    df_rs_results = pd.DataFrame(rs_results_dict).T.reset_index()\n",
    "    df_rs_results.columns = list(strategy_params.keys()) + ['score']\n",
    "    df_rs_results = df_rs_results.sort_values(['score'],ascending=False).head(num_epochs-epoch)\n",
    "\n",
    "    # If the best score from this epoch is worse than the best score,\n",
    "    # then append the best hyperaparameters combination to this epoch dataframe\n",
    "    if df_rs_results['score'].iloc[0] < best_params_dict['score']:\n",
    "        new_row_dict = {}\n",
    "        new_row_dict['score'] = best_params_dict['score']\n",
    "        for idx, key in enumerate(init_param_grid):\n",
    "            new_row_dict[key] = best_params_dict['params'][idx]\n",
    "\n",
    "        df_rs_results = df_rs_results.append(new_row_dict,ignore_index=True)\n",
    "        df_rs_results = df_rs_results.sort_values(['score'],ascending=False).head(num_epochs-epoch)\n",
    "\n",
    "    display(df_rs_results)\n",
    "    print(df_rs_results.head(1).T.to_dict())\n",
    "\n",
    "    # Get the worse and best hyperparameter combinations\n",
    "    df_rs_results_min = df_rs_results[df_rs_results['score']>worse_score].min(axis=0)\n",
    "    df_rs_results_max = df_rs_results[df_rs_results['score']>worse_score].max(axis=0)\n",
    "\n",
    "    # Generate new hyperparameter space based on current worse and best hyperparameter combinations\n",
    "    for key in init_param_grid:\n",
    "        if isinstance(init_param_grid[key][0],int):\n",
    "            new_param_grid[key] = np.unique([i for i in range(int(df_rs_results_min[key]), int(df_rs_results_max[key])+1)])\n",
    "        elif isinstance(init_param_grid[key][0],float):\n",
    "            new_param_grid[key] = np.unique(np.linspace(df_rs_results_min[key], df_rs_results_max[key], grid_size))\n",
    "        else:\n",
    "            new_param_grid[key] = init_param_grid[key]\n",
    "\n",
    "    # Decrease the tuning iteration for random search\n",
    "    TUNE_ITER = int(TUNE_ITER - epoch * TUNE_ITER/num_epochs)"
   ],
   "metadata": {
    "collapsed": false
   }
  },
  {
   "cell_type": "code",
   "execution_count": 6,
   "outputs": [
    {
     "data": {
      "text/plain": "{'score': 0.01943996332784615, 'params': [185, 53]}"
     },
     "execution_count": 6,
     "metadata": {},
     "output_type": "execute_result"
    }
   ],
   "source": [
    "best_params_dict"
   ],
   "metadata": {
    "collapsed": false
   }
  }
 ],
 "metadata": {
  "kernelspec": {
   "display_name": "Python 3",
   "language": "python",
   "name": "python3"
  },
  "language_info": {
   "codemirror_mode": {
    "name": "ipython",
    "version": 2
   },
   "file_extension": ".py",
   "mimetype": "text/x-python",
   "name": "python",
   "nbconvert_exporter": "python",
   "pygments_lexer": "ipython2",
   "version": "2.7.6"
  }
 },
 "nbformat": 4,
 "nbformat_minor": 0
}
