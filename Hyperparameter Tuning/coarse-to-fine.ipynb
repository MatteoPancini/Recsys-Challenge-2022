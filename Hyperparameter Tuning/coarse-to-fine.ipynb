{
 "cells": [
  {
   "cell_type": "markdown",
   "source": [
    "# Coarse to fine"
   ],
   "metadata": {
    "collapsed": false
   }
  },
  {
   "cell_type": "code",
   "execution_count": 1,
   "outputs": [],
   "source": [
    "import numpy as np\n",
    "import pandas as pd\n",
    "from sklearn.model_selection import ParameterSampler\n",
    "%matplotlib inline\n",
    "from Data_manager.split_functions.split_train_validation_random_holdout import split_train_in_two_percentage_global_sample\n",
    "from Evaluation.Evaluator import EvaluatorHoldout\n",
    "from Recommenders.KNN.ItemKNNCFRecommender import ItemKNNCFRecommender\n",
    "from Utils.createURM import createURM"
   ],
   "metadata": {
    "collapsed": false
   }
  },
  {
   "cell_type": "code",
   "execution_count": 2,
   "outputs": [
    {
     "name": "stderr",
     "output_type": "stream",
     "text": [
      "/Users/matteopancini/PycharmProjects/recsys-challenge-2022-Pancini-Vitali/Utils/createURM.py:5: DtypeWarning: Columns (2) have mixed types. Specify dtype option on import or set low_memory=False.\n",
      "  dataset = pd.read_csv('../Input/interactions_and_impressions.csv')\n"
     ]
    }
   ],
   "source": [
    "URM = createURM()"
   ],
   "metadata": {
    "collapsed": false
   }
  },
  {
   "cell_type": "code",
   "execution_count": 3,
   "outputs": [
    {
     "name": "stdout",
     "output_type": "stream",
     "text": [
      "Warning: 329 (0.79 %) of 41629 users have no sampled items\n",
      "Warning: 1 (0.00 %) of 41629 users have no train items\n",
      "Warning: 726 (1.74 %) of 41629 users have no sampled items\n"
     ]
    }
   ],
   "source": [
    "URM_train, URM_test = split_train_in_two_percentage_global_sample(URM, train_percentage = 0.80)\n",
    "URM_train, URM_validation = split_train_in_two_percentage_global_sample(URM_train, train_percentage = 0.80)"
   ],
   "metadata": {
    "collapsed": false
   }
  },
  {
   "cell_type": "code",
   "execution_count": 4,
   "outputs": [
    {
     "name": "stdout",
     "output_type": "stream",
     "text": [
      "EvaluatorHoldout: Ignoring 726 ( 1.7%) Users that have less than 1 test interactions\n",
      "EvaluatorHoldout: Ignoring 329 ( 0.8%) Users that have less than 1 test interactions\n"
     ]
    }
   ],
   "source": [
    "evaluator_validation = EvaluatorHoldout(URM_validation, cutoff_list=[10])\n",
    "evaluator_test = EvaluatorHoldout(URM_test, cutoff_list=[10])"
   ],
   "metadata": {
    "collapsed": false
   }
  },
  {
   "cell_type": "code",
   "execution_count": 5,
   "outputs": [
    {
     "name": "stdout",
     "output_type": "stream",
     "text": [
      "ItemKNNCFRecommender: URM Detected 1 ( 0.0%) users with no interactions.\n",
      "Similarity column 24507 (100.0%), 8499.92 column/sec. Elapsed time 2.88 sec\n",
      "EvaluatorHoldout: Processed 40903 (100.0%) in 25.98 sec. Users per second: 1574\n",
      "ItemKNNCFRecommender: URM Detected 1 ( 0.0%) users with no interactions.\n",
      "Similarity column 24507 (100.0%), 8614.82 column/sec. Elapsed time 2.84 sec\n",
      "EvaluatorHoldout: Processed 40903 (100.0%) in 29.40 sec. Users per second: 1391\n",
      "ItemKNNCFRecommender: URM Detected 1 ( 0.0%) users with no interactions.\n",
      "Similarity column 24507 (100.0%), 8704.95 column/sec. Elapsed time 2.82 sec\n",
      "EvaluatorHoldout: Processed 40903 (100.0%) in 29.66 sec. Users per second: 1379\n",
      "ItemKNNCFRecommender: URM Detected 1 ( 0.0%) users with no interactions.\n",
      "Similarity column 24507 (100.0%), 8715.65 column/sec. Elapsed time 2.81 sec\n",
      "EvaluatorHoldout: Processed 40903 (100.0%) in 21.28 sec. Users per second: 1922\n",
      "ItemKNNCFRecommender: URM Detected 1 ( 0.0%) users with no interactions.\n",
      "Similarity column 24507 (100.0%), 8890.45 column/sec. Elapsed time 2.76 sec\n",
      "EvaluatorHoldout: Processed 40903 (100.0%) in 14.77 sec. Users per second: 2770\n",
      "ItemKNNCFRecommender: URM Detected 1 ( 0.0%) users with no interactions.\n",
      "Similarity column 24507 (100.0%), 8695.44 column/sec. Elapsed time 2.82 sec\n",
      "EvaluatorHoldout: Processed 40903 (100.0%) in 25.00 sec. Users per second: 1636\n",
      "ItemKNNCFRecommender: URM Detected 1 ( 0.0%) users with no interactions.\n",
      "Similarity column 24507 (100.0%), 8539.81 column/sec. Elapsed time 2.87 sec\n",
      "EvaluatorHoldout: Processed 40903 (100.0%) in 28.52 sec. Users per second: 1434\n",
      "ItemKNNCFRecommender: URM Detected 1 ( 0.0%) users with no interactions.\n",
      "Similarity column 24507 (100.0%), 8522.93 column/sec. Elapsed time 2.88 sec\n",
      "EvaluatorHoldout: Processed 40903 (100.0%) in 21.86 sec. Users per second: 1872\n",
      "ItemKNNCFRecommender: URM Detected 1 ( 0.0%) users with no interactions.\n",
      "Similarity column 24507 (100.0%), 8515.29 column/sec. Elapsed time 2.88 sec\n",
      "EvaluatorHoldout: Processed 40903 (100.0%) in 24.40 sec. Users per second: 1677\n",
      "ItemKNNCFRecommender: URM Detected 1 ( 0.0%) users with no interactions.\n",
      "Similarity column 24507 (100.0%), 8630.62 column/sec. Elapsed time 2.84 sec\n",
      "EvaluatorHoldout: Processed 40903 (100.0%) in 24.48 sec. Users per second: 1671\n"
     ]
    },
    {
     "data": {
      "text/plain": "   topK  shrink     score\n3   183      53  0.019323\n7   187      52  0.019318",
      "text/html": "<div>\n<style scoped>\n    .dataframe tbody tr th:only-of-type {\n        vertical-align: middle;\n    }\n\n    .dataframe tbody tr th {\n        vertical-align: top;\n    }\n\n    .dataframe thead th {\n        text-align: right;\n    }\n</style>\n<table border=\"1\" class=\"dataframe\">\n  <thead>\n    <tr style=\"text-align: right;\">\n      <th></th>\n      <th>topK</th>\n      <th>shrink</th>\n      <th>score</th>\n    </tr>\n  </thead>\n  <tbody>\n    <tr>\n      <th>3</th>\n      <td>183</td>\n      <td>53</td>\n      <td>0.019323</td>\n    </tr>\n    <tr>\n      <th>7</th>\n      <td>187</td>\n      <td>52</td>\n      <td>0.019318</td>\n    </tr>\n  </tbody>\n</table>\n</div>"
     },
     "metadata": {},
     "output_type": "display_data"
    },
    {
     "name": "stdout",
     "output_type": "stream",
     "text": [
      "{3: {'topK': 183.0, 'shrink': 53.0, 'score': 0.019322663878808606}}\n",
      "ItemKNNCFRecommender: URM Detected 1 ( 0.0%) users with no interactions.\n",
      "Similarity column 24507 (100.0%), 8670.02 column/sec. Elapsed time 2.83 sec\n",
      "EvaluatorHoldout: Processed 40903 (100.0%) in 21.39 sec. Users per second: 1912\n",
      "ItemKNNCFRecommender: URM Detected 1 ( 0.0%) users with no interactions.\n",
      "Similarity column 24507 (100.0%), 8561.19 column/sec. Elapsed time 2.86 sec\n",
      "EvaluatorHoldout: Processed 40903 (100.0%) in 21.84 sec. Users per second: 1873\n",
      "ItemKNNCFRecommender: URM Detected 1 ( 0.0%) users with no interactions.\n",
      "Similarity column 24507 (100.0%), 8515.81 column/sec. Elapsed time 2.88 sec\n",
      "EvaluatorHoldout: Processed 40903 (100.0%) in 21.71 sec. Users per second: 1884\n",
      "ItemKNNCFRecommender: URM Detected 1 ( 0.0%) users with no interactions.\n",
      "Similarity column 24507 (100.0%), 8736.87 column/sec. Elapsed time 2.81 sec\n",
      "EvaluatorHoldout: Processed 40903 (100.0%) in 21.58 sec. Users per second: 1895\n",
      "ItemKNNCFRecommender: URM Detected 1 ( 0.0%) users with no interactions.\n",
      "Similarity column 24507 (100.0%), 8727.27 column/sec. Elapsed time 2.81 sec\n",
      "EvaluatorHoldout: Processed 40903 (100.0%) in 21.55 sec. Users per second: 1898\n",
      "ItemKNNCFRecommender: URM Detected 1 ( 0.0%) users with no interactions.\n",
      "Similarity column 24507 (100.0%), 8703.91 column/sec. Elapsed time 2.82 sec\n",
      "EvaluatorHoldout: Processed 40903 (100.0%) in 21.66 sec. Users per second: 1888\n",
      "ItemKNNCFRecommender: URM Detected 1 ( 0.0%) users with no interactions.\n",
      "Similarity column 24507 (100.0%), 8598.41 column/sec. Elapsed time 2.85 sec\n",
      "EvaluatorHoldout: Processed 40903 (100.0%) in 21.42 sec. Users per second: 1909\n",
      "ItemKNNCFRecommender: URM Detected 1 ( 0.0%) users with no interactions.\n",
      "Similarity column 24507 (100.0%), 8747.64 column/sec. Elapsed time 2.80 sec\n",
      "EvaluatorHoldout: Processed 40903 (100.0%) in 21.47 sec. Users per second: 1906\n",
      "ItemKNNCFRecommender: URM Detected 1 ( 0.0%) users with no interactions.\n",
      "Similarity column 24507 (100.0%), 8718.92 column/sec. Elapsed time 2.81 sec\n",
      "EvaluatorHoldout: Processed 40903 (100.0%) in 21.51 sec. Users per second: 1902\n",
      "ItemKNNCFRecommender: URM Detected 1 ( 0.0%) users with no interactions.\n",
      "Similarity column 24507 (100.0%), 8719.65 column/sec. Elapsed time 2.81 sec\n",
      "EvaluatorHoldout: Processed 40903 (100.0%) in 21.56 sec. Users per second: 1897\n"
     ]
    },
    {
     "data": {
      "text/plain": "   topK  shrink     score\n3   186      52  0.019324",
      "text/html": "<div>\n<style scoped>\n    .dataframe tbody tr th:only-of-type {\n        vertical-align: middle;\n    }\n\n    .dataframe tbody tr th {\n        vertical-align: top;\n    }\n\n    .dataframe thead th {\n        text-align: right;\n    }\n</style>\n<table border=\"1\" class=\"dataframe\">\n  <thead>\n    <tr style=\"text-align: right;\">\n      <th></th>\n      <th>topK</th>\n      <th>shrink</th>\n      <th>score</th>\n    </tr>\n  </thead>\n  <tbody>\n    <tr>\n      <th>3</th>\n      <td>186</td>\n      <td>52</td>\n      <td>0.019324</td>\n    </tr>\n  </tbody>\n</table>\n</div>"
     },
     "metadata": {},
     "output_type": "display_data"
    },
    {
     "name": "stdout",
     "output_type": "stream",
     "text": [
      "{3: {'topK': 186.0, 'shrink': 52.0, 'score': 0.019324115241284825}}\n"
     ]
    }
   ],
   "source": [
    "grid_size = 100\n",
    "TUNE_ITER = 100\n",
    "num_epochs = 5\n",
    "worse_score = 0\n",
    "\n",
    "init_param_grid = {'topK': [i for i in range(10, 500)],\n",
    "                   'shrink': [i for i in range(10, 100)],\n",
    "                  }\n",
    "\n",
    "new_param_grid = init_param_grid.copy()\n",
    "best_params_dict = {'score':worse_score,'params':[]}\n",
    "tried_params_list = []\n",
    "\n",
    "for epoch in range(num_epochs):\n",
    "\n",
    "    # List of sampled hyperparameter combinations will be used for random search\n",
    "    param_list = list(ParameterSampler(new_param_grid, n_iter=TUNE_ITER,random_state=0))\n",
    "\n",
    "    # Searching the Best Parameters with Random Search\n",
    "    rs_results_dict = {}\n",
    "    for tune_iter in range(TUNE_ITER):\n",
    "        # Get the set of parameter for this iteration\n",
    "        strategy_params = param_list[tune_iter]\n",
    "\n",
    "        recommender = ItemKNNCFRecommender(URM_train)\n",
    "        recommender.fit(shrink=strategy_params['shrink'], topK=strategy_params['topK'])\n",
    "        results, _ = evaluator_validation.evaluateRecommender(recommender)\n",
    "        results = results.loc[10]['MAP']\n",
    "\n",
    "        rs_results_dict[tuple(strategy_params.values())] = {'score':results}\n",
    "\n",
    "        if results > best_params_dict['score']:\n",
    "            best_params_dict['score'] = results\n",
    "            best_params_dict['params'] = list(strategy_params.values())\n",
    "\n",
    "    # Save the results in dataframe and sort it based on score\n",
    "    df_rs_results = pd.DataFrame(rs_results_dict).T.reset_index()\n",
    "    df_rs_results.columns = list(strategy_params.keys()) + ['score']\n",
    "    df_rs_results = df_rs_results.sort_values(['score'],ascending=False).head(num_epochs-epoch)\n",
    "\n",
    "    # If the best score from this epoch is worse than the best score,\n",
    "    # then append the best hyperaparameters combination to this epoch dataframe\n",
    "    if df_rs_results['score'].iloc[0] < best_params_dict['score']:\n",
    "        new_row_dict = {}\n",
    "        new_row_dict['score'] = best_params_dict['score']\n",
    "        for idx, key in enumerate(init_param_grid):\n",
    "            new_row_dict[key] = best_params_dict['params'][idx]\n",
    "\n",
    "        df_rs_results = df_rs_results.append(new_row_dict,ignore_index=True)\n",
    "        df_rs_results = df_rs_results.sort_values(['score'],ascending=False).head(num_epochs-epoch)\n",
    "\n",
    "    display(df_rs_results)\n",
    "    print(df_rs_results.head(1).T.to_dict())\n",
    "\n",
    "    # Get the worse and best hyperparameter combinations\n",
    "    df_rs_results_min = df_rs_results[df_rs_results['score']>worse_score].min(axis=0)\n",
    "    df_rs_results_max = df_rs_results[df_rs_results['score']>worse_score].max(axis=0)\n",
    "\n",
    "    # Generate new hyperparameter space based on current worse and best hyperparameter combinations\n",
    "    for key in init_param_grid:\n",
    "        if isinstance(init_param_grid[key][0],int):\n",
    "            new_param_grid[key] = np.unique([i for i in range(int(df_rs_results_min[key]), int(df_rs_results_max[key])+1)])\n",
    "        elif isinstance(init_param_grid[key][0],float):\n",
    "            new_param_grid[key] = np.unique(np.linspace(df_rs_results_min[key], df_rs_results_max[key], grid_size))\n",
    "        else:\n",
    "            new_param_grid[key] = init_param_grid[key]\n",
    "\n",
    "    # Decrease the tuning iteration for random search\n",
    "    TUNE_ITER = int(TUNE_ITER - epoch * TUNE_ITER/num_epochs)"
   ],
   "metadata": {
    "collapsed": false
   }
  },
  {
   "cell_type": "code",
   "execution_count": 37,
   "outputs": [],
   "source": [
    "import json\n",
    "\n",
    "importantParameters = df_rs_results.to_json(orient=\"records\")\n",
    "parsed = json.loads(importantParameters)\n",
    "\n",
    "with open(\"logs/\" + recommender.RECOMMENDER_NAME + \"_logs.json\", 'w') as json_file:\n",
    "        json.dump(parsed, json_file, indent=4)"
   ],
   "metadata": {
    "collapsed": false
   }
  },
  {
   "cell_type": "code",
   "execution_count": null,
   "outputs": [],
   "source": [],
   "metadata": {
    "collapsed": false
   }
  }
 ],
 "metadata": {
  "kernelspec": {
   "display_name": "Python 3",
   "language": "python",
   "name": "python3"
  },
  "language_info": {
   "codemirror_mode": {
    "name": "ipython",
    "version": 2
   },
   "file_extension": ".py",
   "mimetype": "text/x-python",
   "name": "python",
   "nbconvert_exporter": "python",
   "pygments_lexer": "ipython2",
   "version": "2.7.6"
  }
 },
 "nbformat": 4,
 "nbformat_minor": 0
}
