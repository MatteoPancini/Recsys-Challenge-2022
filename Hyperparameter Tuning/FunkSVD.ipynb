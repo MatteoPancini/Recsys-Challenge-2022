{
 "cells": [
  {
   "cell_type": "code",
   "execution_count": 3,
   "metadata": {
    "collapsed": true
   },
   "outputs": [],
   "source": [
    "import numpy as np\n",
    "import pandas as pd\n",
    "import scipy.sparse as sp\n",
    "import matplotlib.pyplot as pyplot\n",
    "import optuna as op\n",
    "%matplotlib inline\n",
    "from Data_manager.split_functions.split_train_validation_random_holdout import split_train_in_two_percentage_global_sample\n",
    "from Evaluation.Evaluator import EvaluatorHoldout\n",
    "from Recommenders.MatrixFactorization.Cython.MatrixFactorization_Cython import MatrixFactorization_FunkSVD_Cython\n",
    "from Utils.createURM import createURM"
   ]
  },
  {
   "cell_type": "code",
   "execution_count": 4,
   "outputs": [
    {
     "name": "stderr",
     "output_type": "stream",
     "text": [
      "/Users/matteopancini/PycharmProjects/recsys-challenge-2022-Pancini-Vitali/Utils/createURM.py:24: DtypeWarning: Columns (2) have mixed types. Specify dtype option on import or set low_memory=False.\n",
      "  dataset = pd.read_csv('../Input/interactions_and_impressions.csv')\n",
      "/Users/matteopancini/PycharmProjects/recsys-challenge-2022-Pancini-Vitali/Utils/createICM.py:46: DtypeWarning: Columns (2) have mixed types. Specify dtype option on import or set low_memory=False.\n",
      "  URM = pd.read_csv('../Input/interactions_and_impressions.csv')\n"
     ]
    }
   ],
   "source": [
    "URM = createURM()"
   ],
   "metadata": {
    "collapsed": false
   }
  },
  {
   "cell_type": "code",
   "execution_count": 5,
   "outputs": [
    {
     "name": "stdout",
     "output_type": "stream",
     "text": [
      "Warning: 2 (0.00 %) of 41629 users have no train items\n",
      "Warning: 1524 (3.66 %) of 41629 users have no sampled items\n",
      "Warning: 7 (0.02 %) of 41629 users have no train items\n",
      "Warning: 2693 (6.47 %) of 41629 users have no sampled items\n"
     ]
    }
   ],
   "source": [
    "URM_train, URM_test = split_train_in_two_percentage_global_sample(URM, train_percentage = 0.80)\n",
    "URM_train, URM_validation = split_train_in_two_percentage_global_sample(URM_train, train_percentage = 0.80)"
   ],
   "metadata": {
    "collapsed": false
   }
  },
  {
   "cell_type": "code",
   "execution_count": 6,
   "outputs": [
    {
     "name": "stdout",
     "output_type": "stream",
     "text": [
      "EvaluatorHoldout: Ignoring 2693 ( 6.5%) Users that have less than 1 test interactions\n",
      "EvaluatorHoldout: Ignoring 1524 ( 3.7%) Users that have less than 1 test interactions\n"
     ]
    }
   ],
   "source": [
    "evaluator_validation = EvaluatorHoldout(URM_validation, cutoff_list=[10])\n",
    "evaluator_test = EvaluatorHoldout(URM_test, cutoff_list=[10])"
   ],
   "metadata": {
    "collapsed": false
   }
  },
  {
   "cell_type": "markdown",
   "source": [
    "## FunkSVD"
   ],
   "metadata": {
    "collapsed": false
   }
  },
  {
   "cell_type": "code",
   "execution_count": 10,
   "outputs": [],
   "source": [
    "recommender = MatrixFactorization_FunkSVD_Cython(URMICMCombined.T)\n",
    "\n",
    "def objective(trial):\n",
    "    num_factors = trial.suggest_float(\"num_factors\", 50, 500)\n",
    "    user_reg = trial.suggest_float(\"user_reg\", 1, 10)\n",
    "    item_reg = trial.suggest_float(\"item_reg\", 1, 10)\n",
    "    recommender.fit(\n",
    "            epochs=10,\n",
    "            batch_size=1000,\n",
    "            num_factors=num_factors,\n",
    "            positive_threshold_BPR=None,\n",
    "            learning_rate=0.001,\n",
    "            use_bias=False,\n",
    "            sgd_mode='adam',\n",
    "            negative_interactions_quota=0.0,\n",
    "            init_mean=0.0, init_std_dev=0.1,\n",
    "            user_reg=user_reg, item_reg=item_reg, bias_reg=0.0, positive_reg=0.0, negative_reg=0.0,\n",
    "            random_seed=None,\n",
    "            **{\n",
    "                'epochs_min' : 0,\n",
    "                'evaluator_object' : evaluator_validation,\n",
    "                'stop_on_validation' : True,\n",
    "                'validation_every_n' : 5,\n",
    "                'validation_metric' : 'MAP',\n",
    "                'lower_validations_allowed' : 3\n",
    "            }\n",
    "    )\n",
    "\n",
    "    result_dict, _ = evaluator_validation.evaluateRecommender(recommender)\n",
    "\n",
    "    return result_dict.loc[10][\"MAP\"]"
   ],
   "metadata": {
    "collapsed": false
   }
  },
  {
   "cell_type": "code",
   "execution_count": null,
   "outputs": [
    {
     "name": "stderr",
     "output_type": "stream",
     "text": [
      "\u001B[32m[I 2022-11-05 00:24:34,945]\u001B[0m A new study created in memory with name: no-name-6accf0ff-5199-4869-a9b8-5839ff453437\u001B[0m\n"
     ]
    },
    {
     "name": "stdout",
     "output_type": "stream",
     "text": [
      "FUNK_SVD: Processed 1099000 (100.0%) in 7.83 sec. MSE loss 9.87E-01. Sample per second: 140304\n",
      "FUNK_SVD: Epoch 1 of 10. Elapsed time 7.70 sec\n",
      "FUNK_SVD: Processed 1099000 (100.0%) in 8.51 sec. MSE loss 9.73E-01. Sample per second: 129165\n",
      "FUNK_SVD: Epoch 2 of 10. Elapsed time 15.37 sec\n",
      "FUNK_SVD: Processed 1099000 (100.0%) in 8.23 sec. MSE loss 9.69E-01. Sample per second: 133552\n",
      "FUNK_SVD: Epoch 3 of 10. Elapsed time 23.09 sec\n",
      "FUNK_SVD: Processed 1099000 (100.0%) in 7.88 sec. MSE loss 9.28E-01. Sample per second: 139496\n",
      "FUNK_SVD: Epoch 4 of 10. Elapsed time 30.74 sec\n",
      "FUNK_SVD: Processed 1099000 (100.0%) in 8.53 sec. MSE loss 8.21E-01. Sample per second: 128853\n",
      "FUNK_SVD: Validation begins...\n",
      "EvaluatorHoldout: Processed 38936 (100.0%) in 24.41 sec. Users per second: 1595\n",
      "FUNK_SVD: CUTOFF: 10 - PRECISION: 0.0000000, PRECISION_RECALL_MIN_DEN: 0.0000000, RECALL: 0.0000000, MAP: 0.0000000, MAP_MIN_DEN: 0.0000000, MRR: 0.0000000, NDCG: 0.0000000, F1: 0.0000000, HIT_RATE: 0.0000000, ARHR_ALL_HITS: 0.0000000, NOVELTY: 0.0029296, AVERAGE_POPULARITY: 0.5376347, DIVERSITY_MEAN_INTER_LIST: 0.2159208, DIVERSITY_HERFINDAHL: 0.9215915, COVERAGE_ITEM: 0.0070080, COVERAGE_ITEM_HIT: 0.0000000, ITEMS_IN_GT: 0.8431064, COVERAGE_USER: 0.9353095, COVERAGE_USER_HIT: 0.0000000, USERS_IN_GT: 0.9353095, DIVERSITY_GINI: 0.0004701, SHANNON_ENTROPY: 3.8358606, RATIO_DIVERSITY_HERFINDAHL: 0.9219873, RATIO_DIVERSITY_GINI: 0.0011311, RATIO_SHANNON_ENTROPY: 0.2881647, RATIO_AVERAGE_POPULARITY: 8.8504798, RATIO_NOVELTY: 0.2333740, \n",
      "\n",
      "FUNK_SVD: New best model found! Updating.\n",
      "FUNK_SVD: Epoch 5 of 10. Elapsed time 1.05 min\n",
      "FUNK_SVD: Processed 1099000 (100.0%) in 8.70 sec. MSE loss 7.06E-01. Sample per second: 126261\n",
      "FUNK_SVD: Epoch 6 of 10. Elapsed time 1.18 min\n",
      "FUNK_SVD: Processed 1099000 (100.0%) in 8.43 sec. MSE loss 6.13E-01. Sample per second: 130395\n",
      "FUNK_SVD: Epoch 7 of 10. Elapsed time 1.30 min\n",
      "FUNK_SVD: Processed 1099000 (100.0%) in 8.14 sec. MSE loss 5.49E-01. Sample per second: 135023\n",
      "FUNK_SVD: Epoch 8 of 10. Elapsed time 1.43 min\n",
      "FUNK_SVD: Processed 1099000 (100.0%) in 7.90 sec. MSE loss 5.52E-01. Sample per second: 139075\n",
      "FUNK_SVD: Epoch 9 of 10. Elapsed time 1.56 min\n",
      "FUNK_SVD: Processed 1099000 (100.0%) in 8.66 sec. MSE loss 4.05E-01. Sample per second: 126969\n",
      "FUNK_SVD: Validation begins...\n",
      "EvaluatorHoldout: Processed 38936 (100.0%) in 23.06 sec. Users per second: 1689\n",
      "FUNK_SVD: CUTOFF: 10 - PRECISION: 0.0000000, PRECISION_RECALL_MIN_DEN: 0.0000000, RECALL: 0.0000000, MAP: 0.0000000, MAP_MIN_DEN: 0.0000000, MRR: 0.0000000, NDCG: 0.0000000, F1: 0.0000000, HIT_RATE: 0.0000000, ARHR_ALL_HITS: 0.0000000, NOVELTY: 0.0034973, AVERAGE_POPULARITY: 0.1864242, DIVERSITY_MEAN_INTER_LIST: 0.6050468, DIVERSITY_HERFINDAHL: 0.9605031, COVERAGE_ITEM: 0.0051487, COVERAGE_ITEM_HIT: 0.0000000, ITEMS_IN_GT: 0.8431064, COVERAGE_USER: 0.9353095, COVERAGE_USER_HIT: 0.0000000, USERS_IN_GT: 0.9353095, DIVERSITY_GINI: 0.0010229, SHANNON_ENTROPY: 5.2137455, RATIO_DIVERSITY_HERFINDAHL: 0.9609156, RATIO_DIVERSITY_GINI: 0.0024612, RATIO_SHANNON_ENTROPY: 0.3916767, RATIO_AVERAGE_POPULARITY: 3.0688936, RATIO_NOVELTY: 0.2785996, \n",
      "\n",
      "FUNK_SVD: Epoch 10 of 10. Elapsed time 2.08 min\n",
      "FUNK_SVD: Terminating at epoch 10. Best value for 'MAP' at epoch 5 is 0.0000. Elapsed time 2.08 min\n",
      "EvaluatorHoldout: Processed 38936 (100.0%) in 24.52 sec. Users per second: 1588\n"
     ]
    },
    {
     "name": "stderr",
     "output_type": "stream",
     "text": [
      "\u001B[32m[I 2022-11-05 00:27:04,269]\u001B[0m Trial 0 finished with value: 0.0 and parameters: {'num_factors': 83.59486999144859, 'user_reg': 6.10542017857443, 'item_reg': 5.5045977638138}. Best is trial 0 with value: 0.0.\u001B[0m\n"
     ]
    },
    {
     "name": "stdout",
     "output_type": "stream",
     "text": [
      "FUNK_SVD: Processed 1099000 (100.0%) in 13.36 sec. MSE loss 9.88E-01. Sample per second: 82247\n",
      "FUNK_SVD: Epoch 1 of 10. Elapsed time 12.81 sec\n",
      "FUNK_SVD: Processed 1099000 (100.0%) in 13.09 sec. MSE loss 9.89E-01. Sample per second: 83969\n",
      "FUNK_SVD: Epoch 2 of 10. Elapsed time 25.53 sec\n",
      "FUNK_SVD: Processed 1099000 (100.0%) in 12.78 sec. MSE loss 9.65E-01. Sample per second: 86019\n",
      "FUNK_SVD: Epoch 3 of 10. Elapsed time 38.22 sec\n",
      "FUNK_SVD: Processed 1099000 (100.0%) in 13.53 sec. MSE loss 9.41E-01. Sample per second: 81223\n",
      "FUNK_SVD: Epoch 4 of 10. Elapsed time 50.98 sec\n",
      "FUNK_SVD: Processed 1099000 (100.0%) in 13.25 sec. MSE loss 8.56E-01. Sample per second: 82922\n",
      "FUNK_SVD: Validation begins...\n",
      "EvaluatorHoldout: Processed 38936 (100.0%) in 27.57 sec. Users per second: 1412\n",
      "FUNK_SVD: CUTOFF: 10 - PRECISION: 0.0000000, PRECISION_RECALL_MIN_DEN: 0.0000000, RECALL: 0.0000000, MAP: 0.0000000, MAP_MIN_DEN: 0.0000000, MRR: 0.0000000, NDCG: 0.0000000, F1: 0.0000000, HIT_RATE: 0.0000000, ARHR_ALL_HITS: 0.0000000, NOVELTY: 0.0029379, AVERAGE_POPULARITY: 0.5332346, DIVERSITY_MEAN_INTER_LIST: 0.2349247, DIVERSITY_HERFINDAHL: 0.9234919, COVERAGE_ITEM: 0.0245638, COVERAGE_ITEM_HIT: 0.0000000, ITEMS_IN_GT: 0.8431064, COVERAGE_USER: 0.9353095, COVERAGE_USER_HIT: 0.0000000, USERS_IN_GT: 0.9353095, DIVERSITY_GINI: 0.0005222, SHANNON_ENTROPY: 3.9115936, RATIO_DIVERSITY_HERFINDAHL: 0.9238885, RATIO_DIVERSITY_GINI: 0.0012564, RATIO_SHANNON_ENTROPY: 0.2938541, RATIO_AVERAGE_POPULARITY: 8.7780448, RATIO_NOVELTY: 0.2340355, \n",
      "\n",
      "FUNK_SVD: New best model found! Updating.\n",
      "FUNK_SVD: Epoch 5 of 10. Elapsed time 1.52 min\n",
      "FUNK_SVD: Processed 1099000 (100.0%) in 13.55 sec. MSE loss 7.78E-01. Sample per second: 81123\n",
      "FUNK_SVD: Epoch 6 of 10. Elapsed time 1.73 min\n",
      "FUNK_SVD: Processed 1099000 (100.0%) in 13.17 sec. MSE loss 6.71E-01. Sample per second: 83418\n",
      "FUNK_SVD: Epoch 7 of 10. Elapsed time 1.94 min\n",
      "FUNK_SVD: Processed 1099000 (100.0%) in 12.86 sec. MSE loss 6.05E-01. Sample per second: 85433\n",
      "FUNK_SVD: Epoch 8 of 10. Elapsed time 2.16 min\n",
      "FUNK_SVD: Processed 1099000 (100.0%) in 13.59 sec. MSE loss 5.31E-01. Sample per second: 80840\n",
      "FUNK_SVD: Epoch 9 of 10. Elapsed time 2.37 min\n",
      "FUNK_SVD: Processed 1099000 (100.0%) in 13.20 sec. MSE loss 4.74E-01. Sample per second: 83235\n",
      "FUNK_SVD: Validation begins...\n",
      "EvaluatorHoldout: Processed 38936 (100.0%) in 27.34 sec. Users per second: 1424\n",
      "FUNK_SVD: CUTOFF: 10 - PRECISION: 0.0000000, PRECISION_RECALL_MIN_DEN: 0.0000000, RECALL: 0.0000000, MAP: 0.0000000, MAP_MIN_DEN: 0.0000000, MRR: 0.0000000, NDCG: 0.0000000, F1: 0.0000000, HIT_RATE: 0.0000000, ARHR_ALL_HITS: 0.0000000, NOVELTY: 0.0034136, AVERAGE_POPULARITY: 0.2229773, DIVERSITY_MEAN_INTER_LIST: 0.6884500, DIVERSITY_HERFINDAHL: 0.9688432, COVERAGE_ITEM: 0.0041476, COVERAGE_ITEM_HIT: 0.0000000, ITEMS_IN_GT: 0.8431064, COVERAGE_USER: 0.9353095, COVERAGE_USER_HIT: 0.0000000, USERS_IN_GT: 0.9353095, DIVERSITY_GINI: 0.0011529, SHANNON_ENTROPY: 5.3940399, RATIO_DIVERSITY_HERFINDAHL: 0.9692593, RATIO_DIVERSITY_GINI: 0.0027741, RATIO_SHANNON_ENTROPY: 0.4052212, RATIO_AVERAGE_POPULARITY: 3.6706257, RATIO_NOVELTY: 0.2719335, \n",
      "\n",
      "FUNK_SVD: Epoch 10 of 10. Elapsed time 3.03 min\n",
      "FUNK_SVD: Terminating at epoch 10. Best value for 'MAP' at epoch 5 is 0.0000. Elapsed time 3.03 min\n",
      "EvaluatorHoldout: Processed 38936 (100.0%) in 27.83 sec. Users per second: 1399\n"
     ]
    },
    {
     "name": "stderr",
     "output_type": "stream",
     "text": [
      "\u001B[32m[I 2022-11-05 00:30:34,415]\u001B[0m Trial 1 finished with value: 0.0 and parameters: {'num_factors': 141.3557010553778, 'user_reg': 7.72972693169171, 'item_reg': 9.960942930844908}. Best is trial 0 with value: 0.0.\u001B[0m\n"
     ]
    },
    {
     "name": "stdout",
     "output_type": "stream",
     "text": [
      "FUNK_SVD: Processed 1099000 (100.0%) in 23.99 sec. MSE loss 9.52E-01. Sample per second: 45809\n",
      "FUNK_SVD: Epoch 1 of 10. Elapsed time 23.01 sec\n",
      "FUNK_SVD: Processed 1099000 (100.0%) in 23.79 sec. MSE loss 9.27E+01. Sample per second: 46197\n",
      "FUNK_SVD: Epoch 2 of 10. Elapsed time 45.81 sec\n",
      "FUNK_SVD: Processed 1099000 (100.0%) in 23.54 sec. MSE loss 7.46E-01. Sample per second: 46689\n",
      "FUNK_SVD: Epoch 3 of 10. Elapsed time 1.14 min\n",
      "FUNK_SVD: Processed 1099000 (100.0%) in 23.28 sec. MSE loss 5.69E-01. Sample per second: 47205\n",
      "FUNK_SVD: Epoch 4 of 10. Elapsed time 1.52 min\n",
      "FUNK_SVD: Processed 1099000 (100.0%) in 23.04 sec. MSE loss 1.34E+00. Sample per second: 47704\n",
      "FUNK_SVD: Validation begins...\n",
      "EvaluatorHoldout: Processed 38936 (100.0%) in 28.54 sec. Users per second: 1364\n",
      "FUNK_SVD: CUTOFF: 10 - PRECISION: 0.0000000, PRECISION_RECALL_MIN_DEN: 0.0000000, RECALL: 0.0000000, MAP: 0.0000000, MAP_MIN_DEN: 0.0000000, MRR: 0.0000000, NDCG: 0.0000000, F1: 0.0000000, HIT_RATE: 0.0000000, ARHR_ALL_HITS: 0.0000000, NOVELTY: 0.0031595, AVERAGE_POPULARITY: 0.3686653, DIVERSITY_MEAN_INTER_LIST: 0.7231455, DIVERSITY_HERFINDAHL: 0.9723127, COVERAGE_ITEM: 0.0057566, COVERAGE_ITEM_HIT: 0.0000000, ITEMS_IN_GT: 0.8431064, COVERAGE_USER: 0.9353095, COVERAGE_USER_HIT: 0.0000000, USERS_IN_GT: 0.9353095, DIVERSITY_GINI: 0.0012490, SHANNON_ENTROPY: 5.5093292, RATIO_DIVERSITY_HERFINDAHL: 0.9727303, RATIO_DIVERSITY_GINI: 0.0030052, RATIO_SHANNON_ENTROPY: 0.4138821, RATIO_AVERAGE_POPULARITY: 6.0689243, RATIO_NOVELTY: 0.2516895, \n",
      "\n",
      "FUNK_SVD: New best model found! Updating.\n",
      "FUNK_SVD: Epoch 5 of 10. Elapsed time 2.38 min\n",
      "FUNK_SVD: Processed 1099000 (100.0%) in 23.47 sec. MSE loss 9.13E+01. Sample per second: 46833\n",
      "FUNK_SVD: Epoch 6 of 10. Elapsed time 2.76 min\n",
      "FUNK_SVD: Processed 1099000 (100.0%) in 23.26 sec. MSE loss 2.32E-01. Sample per second: 47254\n",
      "FUNK_SVD: Epoch 7 of 10. Elapsed time 3.14 min\n",
      "FUNK_SVD: Processed 1099000 (100.0%) in 23.07 sec. MSE loss 1.75E-01. Sample per second: 47641\n",
      "FUNK_SVD: Epoch 8 of 10. Elapsed time 3.52 min\n",
      "FUNK_SVD: Processed 1099000 (100.0%) in 22.81 sec. MSE loss 1.41E-01. Sample per second: 48187\n",
      "FUNK_SVD: Epoch 9 of 10. Elapsed time 3.90 min\n",
      "FUNK_SVD: Processed 1099000 (100.0%) in 23.52 sec. MSE loss 9.11E+01. Sample per second: 46720\n",
      "FUNK_SVD: Validation begins...\n",
      "EvaluatorHoldout: Processed 38936 (100.0%) in 28.67 sec. Users per second: 1358\n",
      "FUNK_SVD: CUTOFF: 10 - PRECISION: 0.0000000, PRECISION_RECALL_MIN_DEN: 0.0000000, RECALL: 0.0000000, MAP: 0.0000000, MAP_MIN_DEN: 0.0000000, MRR: 0.0000000, NDCG: 0.0000000, F1: 0.0000000, HIT_RATE: 0.0000000, ARHR_ALL_HITS: 0.0000000, NOVELTY: 0.0035717, AVERAGE_POPULARITY: 0.1742452, DIVERSITY_MEAN_INTER_LIST: 0.8928242, DIVERSITY_HERFINDAHL: 0.9892801, COVERAGE_ITEM: 0.0159826, COVERAGE_ITEM_HIT: 0.0000000, ITEMS_IN_GT: 0.8431064, COVERAGE_USER: 0.9353095, COVERAGE_USER_HIT: 0.0000000, USERS_IN_GT: 0.9353095, DIVERSITY_GINI: 0.0040382, SHANNON_ENTROPY: 7.2049604, RATIO_DIVERSITY_HERFINDAHL: 0.9897050, RATIO_DIVERSITY_GINI: 0.0097164, RATIO_SHANNON_ENTROPY: 0.5412645, RATIO_AVERAGE_POPULARITY: 2.8684044, RATIO_NOVELTY: 0.2845240, \n",
      "\n",
      "FUNK_SVD: Epoch 10 of 10. Elapsed time 4.75 min\n",
      "FUNK_SVD: Terminating at epoch 10. Best value for 'MAP' at epoch 5 is 0.0000. Elapsed time 4.75 min\n",
      "EvaluatorHoldout: Processed 38936 (100.0%) in 28.49 sec. Users per second: 1367\n"
     ]
    },
    {
     "name": "stderr",
     "output_type": "stream",
     "text": [
      "\u001B[32m[I 2022-11-05 00:35:48,724]\u001B[0m Trial 2 finished with value: 0.0 and parameters: {'num_factors': 263.86605136228616, 'user_reg': 2.3153588130118083, 'item_reg': 7.127435470073221}. Best is trial 0 with value: 0.0.\u001B[0m\n"
     ]
    },
    {
     "name": "stdout",
     "output_type": "stream",
     "text": [
      "FUNK_SVD: Processed 1099000 (100.0%) in 34.19 sec. MSE loss 9.49E-01. Sample per second: 32143\n",
      "FUNK_SVD: Epoch 1 of 10. Elapsed time 33.51 sec\n",
      "FUNK_SVD: Processed 1099000 (100.0%) in 33.50 sec. MSE loss 8.96E-01. Sample per second: 32802\n",
      "FUNK_SVD: Epoch 2 of 10. Elapsed time 1.11 min\n",
      "FUNK_SVD: Processed 1099000 (100.0%) in 7.27 min. MSE loss 9.13E-01. Sample per second: 2518\n",
      "FUNK_SVD: Epoch 3 of 10. Elapsed time 8.38 min\n"
     ]
    }
   ],
   "source": [
    "study = op.create_study(direction='maximize')\n",
    "study.optimize(objective, n_trials=10)"
   ],
   "metadata": {
    "collapsed": false,
    "pycharm": {
     "is_executing": true
    }
   }
  },
  {
   "cell_type": "code",
   "execution_count": null,
   "outputs": [],
   "source": [],
   "metadata": {
    "collapsed": false
   }
  }
 ],
 "metadata": {
  "kernelspec": {
   "display_name": "Python 3",
   "language": "python",
   "name": "python3"
  },
  "language_info": {
   "codemirror_mode": {
    "name": "ipython",
    "version": 2
   },
   "file_extension": ".py",
   "mimetype": "text/x-python",
   "name": "python",
   "nbconvert_exporter": "python",
   "pygments_lexer": "ipython2",
   "version": "2.7.6"
  }
 },
 "nbformat": 4,
 "nbformat_minor": 0
}
