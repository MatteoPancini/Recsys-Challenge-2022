{
 "cells": [
  {
   "cell_type": "markdown",
   "source": [
    "# Content Based Recommender"
   ],
   "metadata": {
    "collapsed": false
   }
  },
  {
   "cell_type": "code",
   "execution_count": 15,
   "outputs": [
    {
     "name": "stdout",
     "output_type": "stream",
     "text": [
      "The Cython extension is already loaded. To reload it, use:\n",
      "  %reload_ext Cython\n"
     ]
    }
   ],
   "source": [
    "%load_ext Cython\n",
    "import numpy as np\n",
    "import pandas as pd\n",
    "import scipy.sparse as sp\n",
    "import matplotlib.pyplot as pyplot\n",
    "import optuna as op\n",
    "%matplotlib inline\n",
    "from Data_manager.split_functions.split_train_validation_random_holdout import split_train_in_two_percentage_global_sample\n",
    "from Evaluation.Evaluator import EvaluatorHoldout\n",
    "from Utils.createURM import createURM\n",
    "from Utils.createICM import createICM\n",
    "from Recommenders.KNN.ItemKNNCBFRecommender import ItemKNNCBFRecommender"
   ],
   "metadata": {
    "collapsed": false
   }
  },
  {
   "cell_type": "code",
   "execution_count": 10,
   "outputs": [
    {
     "name": "stderr",
     "output_type": "stream",
     "text": [
      "C:\\Users\\Mike\\PycharmProjects\\recsys-challenge-2022-Pancini-Vitali\\Utils\\createURM.py:6: DtypeWarning: Columns (2) have mixed types. Specify dtype option on import or set low_memory=False.\n",
      "  dataset = pd.read_csv('../Input/interactions_and_impressions.csv')\n",
      "C:\\Users\\Mike\\PycharmProjects\\recsys-challenge-2022-Pancini-Vitali\\Utils\\createICM.py:14: DtypeWarning: Columns (2) have mixed types. Specify dtype option on import or set low_memory=False.\n",
      "  URM = pd.read_csv('../Input/interactions_and_impressions.csv')\n"
     ]
    }
   ],
   "source": [
    "URM = createURM()\n",
    "ICM = createICM()"
   ],
   "metadata": {
    "collapsed": false
   }
  },
  {
   "cell_type": "code",
   "execution_count": 11,
   "outputs": [
    {
     "name": "stdout",
     "output_type": "stream",
     "text": [
      "Warning: 1547 (3.72 %) of 41629 users have no sampled items\n",
      "Warning: 4 (0.01 %) of 41629 users have no train items\n",
      "Warning: 2655 (6.38 %) of 41629 users have no sampled items\n"
     ]
    }
   ],
   "source": [
    "URM_train, URM_test = split_train_in_two_percentage_global_sample(URM, train_percentage = 0.80)\n",
    "URM_train, URM_validation = split_train_in_two_percentage_global_sample(URM_train, train_percentage = 0.80)"
   ],
   "metadata": {
    "collapsed": false
   }
  },
  {
   "cell_type": "code",
   "execution_count": 12,
   "outputs": [
    {
     "name": "stdout",
     "output_type": "stream",
     "text": [
      "EvaluatorHoldout: Ignoring 2655 ( 6.4%) Users that have less than 1 test interactions\n",
      "EvaluatorHoldout: Ignoring 1547 ( 3.7%) Users that have less than 1 test interactions\n"
     ]
    }
   ],
   "source": [
    "evaluator_validation = EvaluatorHoldout(URM_validation, cutoff_list=[10])\n",
    "evaluator_test = EvaluatorHoldout(URM_test, cutoff_list=[10])"
   ],
   "metadata": {
    "collapsed": false
   }
  },
  {
   "cell_type": "markdown",
   "source": [
    "# Neighbors"
   ],
   "metadata": {
    "collapsed": false
   }
  },
  {
   "cell_type": "code",
   "execution_count": 16,
   "outputs": [
    {
     "name": "stdout",
     "output_type": "stream",
     "text": [
      "ItemKNNCBFRecommender: URM Detected 4 ( 0.0%) users with no interactions.\n",
      "ItemKNNCBFRecommender: ICM Detected 4877 (19.9%) items with no features.\n",
      "Compute_Similarity: detected dense matrix\n",
      "Similarity column 24507 (100.0%), 2932.04 column/sec. Elapsed time 8.36 sec\n",
      "EvaluatorHoldout: Processed 38974 (100.0%) in 20.07 sec. Users per second: 1942\n",
      "ItemKNNCBFRecommender: URM Detected 4 ( 0.0%) users with no interactions.\n",
      "ItemKNNCBFRecommender: ICM Detected 4877 (19.9%) items with no features.\n",
      "Compute_Similarity: detected dense matrix\n",
      "Similarity column 24507 (100.0%), 3194.78 column/sec. Elapsed time 7.67 sec\n",
      "EvaluatorHoldout: Processed 38974 (100.0%) in 18.54 sec. Users per second: 2102\n",
      "ItemKNNCBFRecommender: URM Detected 4 ( 0.0%) users with no interactions.\n",
      "ItemKNNCBFRecommender: ICM Detected 4877 (19.9%) items with no features.\n",
      "Compute_Similarity: detected dense matrix\n",
      "Similarity column 24507 (100.0%), 3124.10 column/sec. Elapsed time 7.84 sec\n",
      "EvaluatorHoldout: Processed 38974 (100.0%) in 18.85 sec. Users per second: 2068\n",
      "ItemKNNCBFRecommender: URM Detected 4 ( 0.0%) users with no interactions.\n",
      "ItemKNNCBFRecommender: ICM Detected 4877 (19.9%) items with no features.\n",
      "Compute_Similarity: detected dense matrix\n",
      "Similarity column 24507 (100.0%), 3003.09 column/sec. Elapsed time 8.16 sec\n",
      "EvaluatorHoldout: Processed 38974 (100.0%) in 18.85 sec. Users per second: 2067\n",
      "ItemKNNCBFRecommender: URM Detected 4 ( 0.0%) users with no interactions.\n",
      "ItemKNNCBFRecommender: ICM Detected 4877 (19.9%) items with no features.\n",
      "Compute_Similarity: detected dense matrix\n",
      "Similarity column 24507 (100.0%), 2702.87 column/sec. Elapsed time 9.07 sec\n",
      "EvaluatorHoldout: Processed 38974 (100.0%) in 19.44 sec. Users per second: 2004\n"
     ]
    }
   ],
   "source": [
    "x_tick = [10, 25, 40, 50, 100]\n",
    "MAP_per_k = []\n",
    "\n",
    "for topK in x_tick:\n",
    "\n",
    "    recommender = ItemKNNCBFRecommender(URM_train, ICM)\n",
    "    recommender.fit(shrink=0.0, topK=topK)\n",
    "\n",
    "    result_df, _ = evaluator_validation.evaluateRecommender(recommender)\n",
    "\n",
    "    MAP_per_k.append(result_df.loc[10][\"MAP\"])"
   ],
   "metadata": {
    "collapsed": false
   }
  },
  {
   "cell_type": "code",
   "execution_count": 17,
   "outputs": [
    {
     "data": {
      "text/plain": "<Figure size 640x480 with 1 Axes>",
      "image/png": "[encoded data removed]"
     },
     "metadata": {},
     "output_type": "display_data"
    }
   ],
   "source": [
    "pyplot.plot(x_tick, MAP_per_k)\n",
    "pyplot.ylabel('MAP')\n",
    "pyplot.xlabel('TopK')\n",
    "pyplot.show()"
   ],
   "metadata": {
    "collapsed": false
   }
  },
  {
   "cell_type": "markdown",
   "source": [
    "Let's take topK=45"
   ],
   "metadata": {
    "collapsed": false
   }
  },
  {
   "cell_type": "markdown",
   "source": [
    "# Shrinkage"
   ],
   "metadata": {
    "collapsed": false
   }
  },
  {
   "cell_type": "code",
   "execution_count": 18,
   "outputs": [
    {
     "name": "stdout",
     "output_type": "stream",
     "text": [
      "ItemKNNCBFRecommender: URM Detected 4 ( 0.0%) users with no interactions.\n",
      "ItemKNNCBFRecommender: ICM Detected 4877 (19.9%) items with no features.\n",
      "Compute_Similarity: detected dense matrix\n",
      "Similarity column 24507 (100.0%), 2369.75 column/sec. Elapsed time 10.34 sec\n",
      "EvaluatorHoldout: Processed 38974 (100.0%) in 20.15 sec. Users per second: 1934\n",
      "ItemKNNCBFRecommender: URM Detected 4 ( 0.0%) users with no interactions.\n",
      "ItemKNNCBFRecommender: ICM Detected 4877 (19.9%) items with no features.\n",
      "Compute_Similarity: detected dense matrix\n",
      "Similarity column 24507 (100.0%), 2663.21 column/sec. Elapsed time 9.20 sec\n",
      "EvaluatorHoldout: Processed 38974 (100.0%) in 20.04 sec. Users per second: 1945\n",
      "ItemKNNCBFRecommender: URM Detected 4 ( 0.0%) users with no interactions.\n",
      "ItemKNNCBFRecommender: ICM Detected 4877 (19.9%) items with no features.\n",
      "Compute_Similarity: detected dense matrix\n",
      "Similarity column 24507 (100.0%), 3037.77 column/sec. Elapsed time 8.07 sec\n",
      "EvaluatorHoldout: Processed 38974 (100.0%) in 19.12 sec. Users per second: 2038\n",
      "ItemKNNCBFRecommender: URM Detected 4 ( 0.0%) users with no interactions.\n",
      "ItemKNNCBFRecommender: ICM Detected 4877 (19.9%) items with no features.\n",
      "Compute_Similarity: detected dense matrix\n",
      "Similarity column 24507 (100.0%), 2677.63 column/sec. Elapsed time 9.15 sec\n",
      "EvaluatorHoldout: Processed 38974 (100.0%) in 19.06 sec. Users per second: 2045\n",
      "ItemKNNCBFRecommender: URM Detected 4 ( 0.0%) users with no interactions.\n",
      "ItemKNNCBFRecommender: ICM Detected 4877 (19.9%) items with no features.\n",
      "Compute_Similarity: detected dense matrix\n",
      "Similarity column 24507 (100.0%), 2670.99 column/sec. Elapsed time 9.18 sec\n",
      "EvaluatorHoldout: Processed 38974 (100.0%) in 20.60 sec. Users per second: 1892\n"
     ]
    }
   ],
   "source": [
    "x_tick = [0, 10, 50, 100, 200]\n",
    "MAP_per_shrinkage = []\n",
    "\n",
    "for shrink in x_tick:\n",
    "\n",
    "    recommender = ItemKNNCBFRecommender(URM_train, ICM)\n",
    "    recommender.fit(shrink=shrink, topK=45)\n",
    "\n",
    "    result_df, _ = evaluator_validation.evaluateRecommender(recommender)\n",
    "\n",
    "    MAP_per_shrinkage.append(result_df.loc[10][\"MAP\"])"
   ],
   "metadata": {
    "collapsed": false
   }
  },
  {
   "cell_type": "code",
   "execution_count": 19,
   "outputs": [
    {
     "data": {
      "text/plain": "<Figure size 640x480 with 1 Axes>",
      "image/png": "[encoded data removed]"
     },
     "metadata": {},
     "output_type": "display_data"
    }
   ],
   "source": [
    "pyplot.plot(x_tick, MAP_per_shrinkage)\n",
    "pyplot.ylabel('MAP')\n",
    "pyplot.xlabel('Shrinkage')\n",
    "pyplot.show()"
   ],
   "metadata": {
    "collapsed": false
   }
  },
  {
   "cell_type": "markdown",
   "source": [
    "# Optuna optimization"
   ],
   "metadata": {
    "collapsed": false
   }
  },
  {
   "cell_type": "code",
   "execution_count": 20,
   "outputs": [
    {
     "name": "stdout",
     "output_type": "stream",
     "text": [
      "ItemKNNCBFRecommender: URM Detected 4 ( 0.0%) users with no interactions.\n",
      "ItemKNNCBFRecommender: ICM Detected 4877 (19.9%) items with no features.\n"
     ]
    }
   ],
   "source": [
    "recommender = ItemKNNCBFRecommender(URM_train, ICM)\n",
    "\n",
    "def objective(trial):\n",
    "    topK = trial.suggest_float(\"topK\", 20, 30)\n",
    "    shrink = trial.suggest_float(\"shrink\", 15, 30)\n",
    "    recommender.fit(topK=int(topK), shrink=shrink)\n",
    "    result_dict, _ = evaluator_validation.evaluateRecommender(recommender)\n",
    "\n",
    "    return result_dict.loc[10][\"MAP\"]"
   ],
   "metadata": {
    "collapsed": false
   }
  },
  {
   "cell_type": "code",
   "execution_count": 21,
   "outputs": [
    {
     "name": "stderr",
     "output_type": "stream",
     "text": [
      "\u001B[32m[I 2022-11-04 18:56:37,771]\u001B[0m A new study created in memory with name: no-name-276e2133-2537-4338-ac45-5fcf533ab816\u001B[0m\n"
     ]
    },
    {
     "name": "stdout",
     "output_type": "stream",
     "text": [
      "Compute_Similarity: detected dense matrix\n",
      "Similarity column 24507 (100.0%), 2642.32 column/sec. Elapsed time 9.27 sec\n",
      "EvaluatorHoldout: Processed 38974 (100.0%) in 19.64 sec. Users per second: 1984\n"
     ]
    },
    {
     "name": "stderr",
     "output_type": "stream",
     "text": [
      "\u001B[32m[I 2022-11-04 18:57:06,724]\u001B[0m Trial 0 finished with value: 4.1987698758879544e-05 and parameters: {'topK': 24.847153091712542, 'shrink': 22.012197494637043}. Best is trial 0 with value: 4.1987698758879544e-05.\u001B[0m\n"
     ]
    },
    {
     "name": "stdout",
     "output_type": "stream",
     "text": [
      "Compute_Similarity: detected dense matrix\n",
      "Similarity column 24507 (100.0%), 2473.15 column/sec. Elapsed time 9.91 sec\n",
      "EvaluatorHoldout: Processed 38974 (100.0%) in 19.12 sec. Users per second: 2038\n"
     ]
    },
    {
     "name": "stderr",
     "output_type": "stream",
     "text": [
      "\u001B[32m[I 2022-11-04 18:57:35,785]\u001B[0m Trial 1 finished with value: 3.9393376618193155e-05 and parameters: {'topK': 22.401501425931805, 'shrink': 26.793994383464355}. Best is trial 1 with value: 3.9393376618193155e-05.\u001B[0m\n"
     ]
    },
    {
     "name": "stdout",
     "output_type": "stream",
     "text": [
      "Compute_Similarity: detected dense matrix\n",
      "Similarity column 24507 (100.0%), 2802.87 column/sec. Elapsed time 8.74 sec\n",
      "EvaluatorHoldout: Processed 38974 (100.0%) in 18.61 sec. Users per second: 2094\n"
     ]
    },
    {
     "name": "stderr",
     "output_type": "stream",
     "text": [
      "\u001B[32m[I 2022-11-04 18:58:03,167]\u001B[0m Trial 2 finished with value: 4.048690172772894e-05 and parameters: {'topK': 29.159430183875514, 'shrink': 26.07439184769368}. Best is trial 1 with value: 3.9393376618193155e-05.\u001B[0m\n"
     ]
    },
    {
     "name": "stdout",
     "output_type": "stream",
     "text": [
      "Compute_Similarity: detected dense matrix\n",
      "Similarity column 24507 (100.0%), 2861.08 column/sec. Elapsed time 8.57 sec\n",
      "EvaluatorHoldout: Processed 38974 (100.0%) in 19.80 sec. Users per second: 1969\n"
     ]
    },
    {
     "name": "stderr",
     "output_type": "stream",
     "text": [
      "\u001B[32m[I 2022-11-04 18:58:31,558]\u001B[0m Trial 3 finished with value: 5.602330735753019e-05 and parameters: {'topK': 29.090689335157304, 'shrink': 22.738844850826712}. Best is trial 1 with value: 3.9393376618193155e-05.\u001B[0m\n"
     ]
    },
    {
     "name": "stdout",
     "output_type": "stream",
     "text": [
      "Compute_Similarity: detected dense matrix\n",
      "Similarity column 24507 (100.0%), 2807.92 column/sec. Elapsed time 8.73 sec\n",
      "EvaluatorHoldout: Processed 38974 (100.0%) in 19.39 sec. Users per second: 2010\n"
     ]
    },
    {
     "name": "stderr",
     "output_type": "stream",
     "text": [
      "\u001B[32m[I 2022-11-04 18:58:59,698]\u001B[0m Trial 4 finished with value: 2.7529545541553538e-05 and parameters: {'topK': 20.76030330382823, 'shrink': 21.726768509649}. Best is trial 4 with value: 2.7529545541553538e-05.\u001B[0m\n"
     ]
    },
    {
     "name": "stdout",
     "output_type": "stream",
     "text": [
      "Compute_Similarity: detected dense matrix\n",
      "Similarity column 24507 (100.0%), 2795.58 column/sec. Elapsed time 8.77 sec\n",
      "EvaluatorHoldout: Processed 38974 (100.0%) in 19.41 sec. Users per second: 2008\n"
     ]
    },
    {
     "name": "stderr",
     "output_type": "stream",
     "text": [
      "\u001B[32m[I 2022-11-04 18:59:27,898]\u001B[0m Trial 5 finished with value: 3.340037029163113e-05 and parameters: {'topK': 23.967179492775816, 'shrink': 19.536125576299757}. Best is trial 4 with value: 2.7529545541553538e-05.\u001B[0m\n"
     ]
    },
    {
     "name": "stdout",
     "output_type": "stream",
     "text": [
      "Compute_Similarity: detected dense matrix\n",
      "Similarity column 24507 (100.0%), 2927.05 column/sec. Elapsed time 8.37 sec\n",
      "EvaluatorHoldout: Processed 38974 (100.0%) in 19.24 sec. Users per second: 2025\n"
     ]
    },
    {
     "name": "stderr",
     "output_type": "stream",
     "text": [
      "\u001B[32m[I 2022-11-04 18:59:55,546]\u001B[0m Trial 6 finished with value: 4.528558314415552e-05 and parameters: {'topK': 21.94519400298361, 'shrink': 28.06152532535406}. Best is trial 4 with value: 2.7529545541553538e-05.\u001B[0m\n"
     ]
    },
    {
     "name": "stdout",
     "output_type": "stream",
     "text": [
      "Compute_Similarity: detected dense matrix\n",
      "Similarity column 24507 (100.0%), 2675.19 column/sec. Elapsed time 9.16 sec\n",
      "EvaluatorHoldout: Processed 38974 (100.0%) in 18.55 sec. Users per second: 2101\n"
     ]
    },
    {
     "name": "stderr",
     "output_type": "stream",
     "text": [
      "\u001B[32m[I 2022-11-04 19:00:23,280]\u001B[0m Trial 7 finished with value: 4.028733848613769e-05 and parameters: {'topK': 26.71485122105296, 'shrink': 16.707608197369886}. Best is trial 4 with value: 2.7529545541553538e-05.\u001B[0m\n"
     ]
    },
    {
     "name": "stdout",
     "output_type": "stream",
     "text": [
      "Compute_Similarity: detected dense matrix\n",
      "Similarity column 24507 (100.0%), 2626.20 column/sec. Elapsed time 9.33 sec\n",
      "EvaluatorHoldout: Processed 38974 (100.0%) in 24.09 sec. Users per second: 1618\n"
     ]
    },
    {
     "name": "stderr",
     "output_type": "stream",
     "text": [
      "\u001B[32m[I 2022-11-04 19:00:56,735]\u001B[0m Trial 8 finished with value: 4.364020458083166e-05 and parameters: {'topK': 28.153474195961955, 'shrink': 20.51918765009151}. Best is trial 4 with value: 2.7529545541553538e-05.\u001B[0m\n"
     ]
    },
    {
     "name": "stdout",
     "output_type": "stream",
     "text": [
      "Compute_Similarity: detected dense matrix\n",
      "Similarity column 24507 (100.0%), 2646.24 column/sec. Elapsed time 9.26 sec\n",
      "EvaluatorHoldout: Processed 38974 (100.0%) in 18.83 sec. Users per second: 2070\n"
     ]
    },
    {
     "name": "stderr",
     "output_type": "stream",
     "text": [
      "\u001B[32m[I 2022-11-04 19:01:24,855]\u001B[0m Trial 9 finished with value: 3.583687456269177e-05 and parameters: {'topK': 25.949858196975647, 'shrink': 21.228536995148428}. Best is trial 4 with value: 2.7529545541553538e-05.\u001B[0m\n"
     ]
    },
    {
     "name": "stdout",
     "output_type": "stream",
     "text": [
      "Compute_Similarity: detected dense matrix\n",
      "Similarity column 24507 (100.0%), 2883.52 column/sec. Elapsed time 8.50 sec\n",
      "EvaluatorHoldout: Processed 38974 (100.0%) in 19.53 sec. Users per second: 1996\n"
     ]
    },
    {
     "name": "stderr",
     "output_type": "stream",
     "text": [
      "\u001B[32m[I 2022-11-04 19:01:52,916]\u001B[0m Trial 10 finished with value: 5.6481488269346847e-05 and parameters: {'topK': 20.054836324677957, 'shrink': 15.253304336384584}. Best is trial 4 with value: 2.7529545541553538e-05.\u001B[0m\n"
     ]
    },
    {
     "name": "stdout",
     "output_type": "stream",
     "text": [
      "Compute_Similarity: detected dense matrix\n",
      "Similarity column 24507 (100.0%), 2841.35 column/sec. Elapsed time 8.63 sec\n",
      "EvaluatorHoldout: Processed 38974 (100.0%) in 19.74 sec. Users per second: 1974\n"
     ]
    },
    {
     "name": "stderr",
     "output_type": "stream",
     "text": [
      "\u001B[32m[I 2022-11-04 19:02:21,318]\u001B[0m Trial 11 finished with value: 2.7306564164469436e-05 and parameters: {'topK': 23.52526158379014, 'shrink': 18.044930875443463}. Best is trial 11 with value: 2.7306564164469436e-05.\u001B[0m\n"
     ]
    },
    {
     "name": "stdout",
     "output_type": "stream",
     "text": [
      "Compute_Similarity: detected dense matrix\n",
      "Similarity column 24507 (100.0%), 2355.44 column/sec. Elapsed time 10.40 sec\n",
      "EvaluatorHoldout: Processed 38974 (100.0%) in 21.99 sec. Users per second: 1772\n"
     ]
    },
    {
     "name": "stderr",
     "output_type": "stream",
     "text": [
      "\u001B[32m[I 2022-11-04 19:02:53,738]\u001B[0m Trial 12 finished with value: 3.301448014590109e-05 and parameters: {'topK': 20.29577011453744, 'shrink': 17.90749331215975}. Best is trial 11 with value: 2.7306564164469436e-05.\u001B[0m\n"
     ]
    },
    {
     "name": "stdout",
     "output_type": "stream",
     "text": [
      "Compute_Similarity: detected dense matrix\n",
      "Similarity column 24507 (100.0%), 2673.23 column/sec. Elapsed time 9.17 sec\n",
      "EvaluatorHoldout: Processed 38974 (100.0%) in 21.88 sec. Users per second: 1781\n"
     ]
    },
    {
     "name": "stderr",
     "output_type": "stream",
     "text": [
      "\u001B[32m[I 2022-11-04 19:03:24,819]\u001B[0m Trial 13 finished with value: 2.6607074639095985e-05 and parameters: {'topK': 22.601403333483844, 'shrink': 24.453692628426108}. Best is trial 13 with value: 2.6607074639095985e-05.\u001B[0m\n"
     ]
    },
    {
     "name": "stdout",
     "output_type": "stream",
     "text": [
      "Compute_Similarity: detected dense matrix\n",
      "Similarity column 24507 (100.0%), 2472.88 column/sec. Elapsed time 9.91 sec\n",
      "EvaluatorHoldout: Processed 38974 (100.0%) in 19.73 sec. Users per second: 1976\n"
     ]
    },
    {
     "name": "stderr",
     "output_type": "stream",
     "text": [
      "\u001B[32m[I 2022-11-04 19:03:54,489]\u001B[0m Trial 14 finished with value: 3.902886824834789e-05 and parameters: {'topK': 23.727064996762135, 'shrink': 24.519328151996053}. Best is trial 13 with value: 2.6607074639095985e-05.\u001B[0m\n"
     ]
    }
   ],
   "source": [
    "study = op.create_study(direction='maximize')\n",
    "study.optimize(objective, n_trials=15)"
   ],
   "metadata": {
    "collapsed": false
   }
  },
  {
   "cell_type": "code",
   "execution_count": 22,
   "outputs": [],
   "source": [
    "topK = study.best_params['topK']\n",
    "shrink = study.best_params['shrink']"
   ],
   "metadata": {
    "collapsed": false
   }
  },
  {
   "cell_type": "code",
   "execution_count": 23,
   "outputs": [
    {
     "data": {
      "text/plain": "22.601403333483844"
     },
     "execution_count": 23,
     "metadata": {},
     "output_type": "execute_result"
    }
   ],
   "source": [
    "topK"
   ],
   "metadata": {
    "collapsed": false
   }
  },
  {
   "cell_type": "code",
   "execution_count": 24,
   "outputs": [
    {
     "data": {
      "text/plain": "24.453692628426108"
     },
     "execution_count": 24,
     "metadata": {},
     "output_type": "execute_result"
    }
   ],
   "source": [
    "shrink"
   ],
   "metadata": {
    "collapsed": false
   }
  },
  {
   "cell_type": "code",
   "execution_count": null,
   "outputs": [],
   "source": [],
   "metadata": {
    "collapsed": false
   }
  }
 ],
 "metadata": {
  "kernelspec": {
   "display_name": "Python 3",
   "language": "python",
   "name": "python3"
  },
  "language_info": {
   "codemirror_mode": {
    "name": "ipython",
    "version": 2
   },
   "file_extension": ".py",
   "mimetype": "text/x-python",
   "name": "python",
   "nbconvert_exporter": "python",
   "pygments_lexer": "ipython2",
   "version": "2.7.6"
  }
 },
 "nbformat": 4,
 "nbformat_minor": 0
}
