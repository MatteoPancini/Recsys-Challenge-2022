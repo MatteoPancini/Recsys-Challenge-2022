{
 "cells": [
  {
   "cell_type": "code",
   "execution_count": 1,
   "metadata": {
    "collapsed": true
   },
   "outputs": [],
   "source": [
    "%load_ext Cython"
   ]
  },
  {
   "cell_type": "code",
   "execution_count": 2,
   "outputs": [],
   "source": [
    "import json\n",
    "from datetime import datetime\n",
    "import optuna as op\n",
    "from optuna.samplers import TPESampler\n",
    "%matplotlib inline\n",
    "from Data_manager.split_functions.split_train_validation_random_holdout import split_train_in_two_percentage_global_sample\n",
    "from Evaluation.Evaluator import EvaluatorHoldout\n",
    "from Recommenders.SLIM.SLIMElasticNetRecommender import MultiThreadSLIM_SLIMElasticNetRecommender\n",
    "from Utils.recsys2022DataReader import createCombineURM_ICMAll"
   ],
   "metadata": {
    "collapsed": false
   }
  },
  {
   "cell_type": "code",
   "execution_count": 5,
   "outputs": [
    {
     "name": "stderr",
     "output_type": "stream",
     "text": [
      "/Users/matteopancini/PycharmProjects/recsys-challenge-2022-Pancini-Vitali/Utils/recsys2022DataReader.py:37: DtypeWarning: Columns (2) have mixed types. Specify dtype option on import or set low_memory=False.\n",
      "  dataset = pd.read_csv(urmPath)\n"
     ]
    },
    {
     "name": "stdout",
     "output_type": "stream",
     "text": [
      "23091\n"
     ]
    },
    {
     "ename": "TypeError",
     "evalue": "ufunc 'isnan' not supported for the input types, and the inputs could not be safely coerced to any supported types according to the casting rule ''safe''",
     "output_type": "error",
     "traceback": [
      "\u001B[0;31m---------------------------------------------------------------------------\u001B[0m",
      "\u001B[0;31mTypeError\u001B[0m                                 Traceback (most recent call last)",
      "Cell \u001B[0;32mIn [5], line 1\u001B[0m\n\u001B[0;32m----> 1\u001B[0m URM2 \u001B[38;5;241m=\u001B[39m \u001B[43mcreateCombineURM_ICMAll\u001B[49m\u001B[43m(\u001B[49m\u001B[43m)\u001B[49m\n\u001B[1;32m      2\u001B[0m URM2\n",
      "File \u001B[0;32m~/PycharmProjects/recsys-challenge-2022-Pancini-Vitali/Utils/recsys2022DataReader.py:156\u001B[0m, in \u001B[0;36mcreateCombineURM_ICMAll\u001B[0;34m()\u001B[0m\n\u001B[1;32m    152\u001B[0m URM \u001B[38;5;241m=\u001B[39m createBigBumpURM()\n\u001B[1;32m    154\u001B[0m ICM \u001B[38;5;241m=\u001B[39m createBigICM()\n\u001B[0;32m--> 156\u001B[0m combinedURMICM \u001B[38;5;241m=\u001B[39m \u001B[43msp\u001B[49m\u001B[38;5;241;43m.\u001B[39;49m\u001B[43mvstack\u001B[49m\u001B[43m(\u001B[49m\u001B[43mURM\u001B[49m\u001B[43m,\u001B[49m\u001B[43m \u001B[49m\u001B[43mICM\u001B[49m\u001B[38;5;241;43m.\u001B[39;49m\u001B[43mT\u001B[49m\u001B[43m)\u001B[49m\n\u001B[1;32m    158\u001B[0m \u001B[38;5;28;01mreturn\u001B[39;00m combinedURMICM\n",
      "File \u001B[0;32m~/opt/anaconda3/envs/recsys/lib/python3.9/site-packages/scipy/sparse/_construct.py:566\u001B[0m, in \u001B[0;36mvstack\u001B[0;34m(blocks, format, dtype)\u001B[0m\n\u001B[1;32m    535\u001B[0m \u001B[38;5;28;01mdef\u001B[39;00m \u001B[38;5;21mvstack\u001B[39m(blocks, \u001B[38;5;28mformat\u001B[39m\u001B[38;5;241m=\u001B[39m\u001B[38;5;28;01mNone\u001B[39;00m, dtype\u001B[38;5;241m=\u001B[39m\u001B[38;5;28;01mNone\u001B[39;00m):\n\u001B[1;32m    536\u001B[0m     \u001B[38;5;124;03m\"\"\"\u001B[39;00m\n\u001B[1;32m    537\u001B[0m \u001B[38;5;124;03m    Stack sparse matrices vertically (row wise)\u001B[39;00m\n\u001B[1;32m    538\u001B[0m \n\u001B[0;32m   (...)\u001B[0m\n\u001B[1;32m    564\u001B[0m \n\u001B[1;32m    565\u001B[0m \u001B[38;5;124;03m    \"\"\"\u001B[39;00m\n\u001B[0;32m--> 566\u001B[0m     \u001B[38;5;28;01mreturn\u001B[39;00m \u001B[43mbmat\u001B[49m\u001B[43m(\u001B[49m\u001B[43m[\u001B[49m\u001B[43m[\u001B[49m\u001B[43mb\u001B[49m\u001B[43m]\u001B[49m\u001B[43m \u001B[49m\u001B[38;5;28;43;01mfor\u001B[39;49;00m\u001B[43m \u001B[49m\u001B[43mb\u001B[49m\u001B[43m \u001B[49m\u001B[38;5;129;43;01min\u001B[39;49;00m\u001B[43m \u001B[49m\u001B[43mblocks\u001B[49m\u001B[43m]\u001B[49m\u001B[43m,\u001B[49m\u001B[43m \u001B[49m\u001B[38;5;28;43mformat\u001B[39;49m\u001B[38;5;241;43m=\u001B[39;49m\u001B[38;5;28;43mformat\u001B[39;49m\u001B[43m,\u001B[49m\u001B[43m \u001B[49m\u001B[43mdtype\u001B[49m\u001B[38;5;241;43m=\u001B[39;49m\u001B[43mdtype\u001B[49m\u001B[43m)\u001B[49m\n",
      "File \u001B[0;32m~/opt/anaconda3/envs/recsys/lib/python3.9/site-packages/scipy/sparse/_construct.py:620\u001B[0m, in \u001B[0;36mbmat\u001B[0;34m(blocks, format, dtype)\u001B[0m\n\u001B[1;32m    617\u001B[0m M,N \u001B[38;5;241m=\u001B[39m blocks\u001B[38;5;241m.\u001B[39mshape\n\u001B[1;32m    619\u001B[0m \u001B[38;5;66;03m# check for fast path cases\u001B[39;00m\n\u001B[0;32m--> 620\u001B[0m \u001B[38;5;28;01mif\u001B[39;00m (\u001B[38;5;28;43mformat\u001B[39;49m\u001B[43m \u001B[49m\u001B[38;5;129;43;01min\u001B[39;49;00m\u001B[43m \u001B[49m\u001B[43m(\u001B[49m\u001B[38;5;28;43;01mNone\u001B[39;49;00m\u001B[43m,\u001B[49m\u001B[43m \u001B[49m\u001B[38;5;124;43m'\u001B[39;49m\u001B[38;5;124;43mcsr\u001B[39;49m\u001B[38;5;124;43m'\u001B[39;49m\u001B[43m)\u001B[49m \u001B[38;5;129;01mand\u001B[39;00m \u001B[38;5;28mall\u001B[39m(\u001B[38;5;28misinstance\u001B[39m(b, csr_matrix)\n\u001B[1;32m    621\u001B[0m                                     \u001B[38;5;28;01mfor\u001B[39;00m b \u001B[38;5;129;01min\u001B[39;00m blocks\u001B[38;5;241m.\u001B[39mflat)):\n\u001B[1;32m    622\u001B[0m     \u001B[38;5;28;01mif\u001B[39;00m N \u001B[38;5;241m>\u001B[39m \u001B[38;5;241m1\u001B[39m:\n\u001B[1;32m    623\u001B[0m         \u001B[38;5;66;03m# stack along columns (axis 1):\u001B[39;00m\n\u001B[1;32m    624\u001B[0m         blocks \u001B[38;5;241m=\u001B[39m [[_stack_along_minor_axis(blocks[b, :], \u001B[38;5;241m1\u001B[39m)]\n\u001B[1;32m    625\u001B[0m                   \u001B[38;5;28;01mfor\u001B[39;00m b \u001B[38;5;129;01min\u001B[39;00m \u001B[38;5;28mrange\u001B[39m(M)]   \u001B[38;5;66;03m# must have shape: (M, 1)\u001B[39;00m\n",
      "File \u001B[0;32m~/opt/anaconda3/envs/recsys/lib/python3.9/site-packages/scipy/sparse/_compressed.py:218\u001B[0m, in \u001B[0;36m_cs_matrix.__eq__\u001B[0;34m(self, other)\u001B[0m\n\u001B[1;32m    215\u001B[0m \u001B[38;5;28;01mdef\u001B[39;00m \u001B[38;5;21m__eq__\u001B[39m(\u001B[38;5;28mself\u001B[39m, other):\n\u001B[1;32m    216\u001B[0m     \u001B[38;5;66;03m# Scalar other.\u001B[39;00m\n\u001B[1;32m    217\u001B[0m     \u001B[38;5;28;01mif\u001B[39;00m isscalarlike(other):\n\u001B[0;32m--> 218\u001B[0m         \u001B[38;5;28;01mif\u001B[39;00m \u001B[43mnp\u001B[49m\u001B[38;5;241;43m.\u001B[39;49m\u001B[43misnan\u001B[49m\u001B[43m(\u001B[49m\u001B[43mother\u001B[49m\u001B[43m)\u001B[49m:\n\u001B[1;32m    219\u001B[0m             \u001B[38;5;28;01mreturn\u001B[39;00m \u001B[38;5;28mself\u001B[39m\u001B[38;5;241m.\u001B[39m\u001B[38;5;18m__class__\u001B[39m(\u001B[38;5;28mself\u001B[39m\u001B[38;5;241m.\u001B[39mshape, dtype\u001B[38;5;241m=\u001B[39mnp\u001B[38;5;241m.\u001B[39mbool_)\n\u001B[1;32m    221\u001B[0m         \u001B[38;5;28;01mif\u001B[39;00m other \u001B[38;5;241m==\u001B[39m \u001B[38;5;241m0\u001B[39m:\n",
      "\u001B[0;31mTypeError\u001B[0m: ufunc 'isnan' not supported for the input types, and the inputs could not be safely coerced to any supported types according to the casting rule ''safe''"
     ]
    }
   ],
   "source": [
    "URM2 = createCombineURM_ICMAll()\n",
    "URM2"
   ],
   "metadata": {
    "collapsed": false
   }
  },
  {
   "cell_type": "code",
   "execution_count": null,
   "outputs": [],
   "source": [
    "URM_train_list = []\n",
    "URM_validation_list = []\n",
    "\n",
    "URM_train, URM_test = split_train_in_two_percentage_global_sample(URM2, train_percentage=0.80)\n",
    "\n",
    "for k in range(1):\n",
    "    URM_train, URM_validation = split_train_in_two_percentage_global_sample(URM_train, train_percentage=0.80)\n",
    "    URM_train_list.append(URM_train)\n",
    "    URM_validation_list.append(URM_validation)\n",
    "\n",
    "recommender_SLIMElasticNet_list = []"
   ],
   "metadata": {
    "collapsed": false
   }
  },
  {
   "cell_type": "code",
   "execution_count": null,
   "outputs": [],
   "source": [
    "def objective(trial):\n",
    "\n",
    "    MAP_List_Fold = []\n",
    "\n",
    "    alpha = trial.suggest_float(\"alpha\", 0.00001, 0.1, log=True)\n",
    "    l1_ratio = trial.suggest_float(\"l1_ratio\", 0.000001, 0.1, log=True)\n",
    "    topK = trial.suggest_int(\"topK\", 300, 400, log=True)\n",
    "\n",
    "    for index in range(len(URM_train_list)):\n",
    "        recommender_SLIMElasticNet = MultiThreadSLIM_SLIMElasticNetRecommender(URM_train_list[index], verbose=False)\n",
    "\n",
    "        recommender_SLIMElasticNet.fit(alpha=alpha, l1_ratio=l1_ratio, topK=topK)\n",
    "\n",
    "        recommender_SLIMElasticNet_list.append(recommender_SLIMElasticNet)\n",
    "\n",
    "        evaluator_validation = EvaluatorHoldout(URM_validation_list[index], cutoff_list=[10])\n",
    "\n",
    "        result_dict, _ = evaluator_validation.evaluateRecommender(recommender_SLIMElasticNet)\n",
    "\n",
    "        MAP_List_Fold.append(result_dict.iloc[0][\"MAP\"])\n",
    "\n",
    "    return sum(MAP_List_Fold) / len(MAP_List_Fold)"
   ],
   "metadata": {
    "collapsed": false
   }
  },
  {
   "cell_type": "code",
   "execution_count": null,
   "outputs": [],
   "source": [
    "study = op.create_study(direction='maximize', sampler=TPESampler(multivariate=True))\n",
    "study.optimize(objective, n_trials=3)"
   ],
   "metadata": {
    "collapsed": false
   }
  },
  {
   "cell_type": "code",
   "execution_count": null,
   "outputs": [],
   "source": [
    "alpha = study.best_params['alpha']\n",
    "l1_ratio = study.best_params['l1_ratio']\n",
    "topK = study.best_params['topK']"
   ],
   "metadata": {
    "collapsed": false
   }
  },
  {
   "cell_type": "code",
   "execution_count": null,
   "outputs": [],
   "source": [
    "op.visualization.plot_optimization_history(study)"
   ],
   "metadata": {
    "collapsed": false
   }
  },
  {
   "cell_type": "code",
   "execution_count": null,
   "outputs": [],
   "source": [
    "op.visualization.plot_param_importances(study)"
   ],
   "metadata": {
    "collapsed": false
   }
  },
  {
   "cell_type": "code",
   "execution_count": null,
   "outputs": [],
   "source": [
    "recommender_SLIMElasticNet_list[0].fit(alpha=alpha, l1_ratio=l1_ratio, topK=topK)\n",
    "\n",
    "evaluator_test = EvaluatorHoldout(URM_test, cutoff_list=[10])\n",
    "result_dict, _ = evaluator_test.evaluateRecommender(recommender_SLIMElasticNet_list[0])\n",
    "result_dict.iloc[0][\"MAP\"]"
   ],
   "metadata": {
    "collapsed": false
   }
  },
  {
   "cell_type": "code",
   "execution_count": null,
   "outputs": [],
   "source": [
    "resultParameters = result_dict.to_json(orient=\"records\")\n",
    "parsed = json.loads(resultParameters)"
   ],
   "metadata": {
    "collapsed": false
   }
  },
  {
   "cell_type": "code",
   "execution_count": null,
   "outputs": [],
   "source": [
    "with open(\"logs/\" + recommender_SLIMElasticNet_list[0].RECOMMENDER_NAME + \"_logs_\" + datetime.now().strftime('%b%d_%H-%M-%S') + \".json\", 'w') as json_file:\n",
    "    json.dump(study.best_params, json_file, indent=4)\n",
    "    json.dump(parsed, json_file, indent=4)"
   ],
   "metadata": {
    "collapsed": false
   }
  },
  {
   "cell_type": "code",
   "execution_count": null,
   "outputs": [],
   "source": [],
   "metadata": {
    "collapsed": false
   }
  }
 ],
 "metadata": {
  "kernelspec": {
   "display_name": "Python 3",
   "language": "python",
   "name": "python3"
  },
  "language_info": {
   "codemirror_mode": {
    "name": "ipython",
    "version": 2
   },
   "file_extension": ".py",
   "mimetype": "text/x-python",
   "name": "python",
   "nbconvert_exporter": "python",
   "pygments_lexer": "ipython2",
   "version": "2.7.6"
  }
 },
 "nbformat": 4,
 "nbformat_minor": 0
}
