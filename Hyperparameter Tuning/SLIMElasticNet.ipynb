{
 "cells": [
  {
   "cell_type": "code",
   "execution_count": 1,
   "metadata": {
    "collapsed": true
   },
   "outputs": [],
   "source": [
    "%load_ext Cython"
   ]
  },
  {
   "cell_type": "code",
   "execution_count": 2,
   "outputs": [],
   "source": [
    "import numpy as np\n",
    "import pandas as pd\n",
    "import scipy.sparse as sp\n",
    "import matplotlib.pyplot as pyplot\n",
    "import optuna as op\n",
    "%matplotlib inline\n",
    "from Data_manager.split_functions.split_train_validation_random_holdout import split_train_in_two_percentage_global_sample\n",
    "from Evaluation.Evaluator import EvaluatorHoldout\n",
    "from Recommenders.SLIM.SLIMElasticNetRecommender import MultiThreadSLIM_SLIMElasticNetRecommender\n",
    "from Utils.createURM import createURM\n",
    "from Utils.createICM import createICM\n",
    "from Utils.combineURMICM import combine"
   ],
   "metadata": {
    "collapsed": false
   }
  },
  {
   "cell_type": "markdown",
   "source": [
    "### URM"
   ],
   "metadata": {
    "collapsed": false
   }
  },
  {
   "cell_type": "code",
   "execution_count": 3,
   "outputs": [
    {
     "name": "stderr",
     "output_type": "stream",
     "text": [
      "/Users/matteopancini/PycharmProjects/recsys-challenge-2022-Pancini-Vitali/Utils/createURM.py:6: DtypeWarning: Columns (2) have mixed types. Specify dtype option on import or set low_memory=False.\n",
      "  dataset = pd.read_csv('../Input/interactions_and_impressions.csv')\n",
      "/Users/matteopancini/PycharmProjects/recsys-challenge-2022-Pancini-Vitali/Utils/createICM.py:14: DtypeWarning: Columns (2) have mixed types. Specify dtype option on import or set low_memory=False.\n",
      "  URM = pd.read_csv('../Input/interactions_and_impressions.csv')\n"
     ]
    }
   ],
   "source": [
    "URM = createURM()\n",
    "ICM = createICM()"
   ],
   "metadata": {
    "collapsed": false
   }
  },
  {
   "cell_type": "code",
   "execution_count": 4,
   "outputs": [
    {
     "name": "stdout",
     "output_type": "stream",
     "text": [
      "Warning: 1520 (3.65 %) of 41629 users have no sampled items\n",
      "Warning: 2 (0.00 %) of 41629 users have no train items\n",
      "Warning: 2711 (6.51 %) of 41629 users have no sampled items\n"
     ]
    }
   ],
   "source": [
    "URM_train, URM_test = split_train_in_two_percentage_global_sample(URM, train_percentage = 0.80)\n",
    "URM_train, URM_validation = split_train_in_two_percentage_global_sample(URM_train, train_percentage = 0.80)"
   ],
   "metadata": {
    "collapsed": false
   }
  },
  {
   "cell_type": "code",
   "execution_count": 5,
   "outputs": [
    {
     "name": "stdout",
     "output_type": "stream",
     "text": [
      "EvaluatorHoldout: Ignoring 2711 ( 6.5%) Users that have less than 1 test interactions\n",
      "EvaluatorHoldout: Ignoring 1520 ( 3.7%) Users that have less than 1 test interactions\n"
     ]
    }
   ],
   "source": [
    "evaluator_validation = EvaluatorHoldout(URM_validation, cutoff_list=[10])\n",
    "evaluator_test = EvaluatorHoldout(URM_test, cutoff_list=[10])"
   ],
   "metadata": {
    "collapsed": false
   }
  },
  {
   "cell_type": "code",
   "execution_count": 6,
   "outputs": [],
   "source": [
    "URMICMCombined = combine(ICM=ICM, URM = URM)"
   ],
   "metadata": {
    "collapsed": false
   }
  },
  {
   "cell_type": "markdown",
   "source": [
    "### SLIM"
   ],
   "metadata": {
    "collapsed": false
   }
  },
  {
   "cell_type": "code",
   "execution_count": 7,
   "outputs": [],
   "source": [
    "recommender = MultiThreadSLIM_SLIMElasticNetRecommender(URMICMCombined.T, verbose=False)\n",
    "\n",
    "def objective(trial):\n",
    "    alpha = trial.suggest_float(\"alpha\", 0, 1)\n",
    "    l1_ratio = trial.suggest_float(\"l1_ratio\", 0, 1)\n",
    "    topK = trial.suggest_float(\"topK\", 100, 500)\n",
    "    recommender.fit(alpha=alpha, l1_ratio=l1_ratio, topK=int(topK))\n",
    "    result_dict, _ = evaluator_validation.evaluateRecommender(recommender)\n",
    "\n",
    "    return result_dict.loc[10][\"MAP\"]"
   ],
   "metadata": {
    "collapsed": false
   }
  },
  {
   "cell_type": "code",
   "execution_count": 8,
   "outputs": [
    {
     "name": "stderr",
     "output_type": "stream",
     "text": [
      "\u001B[32m[I 2022-11-04 08:44:39,727]\u001B[0m A new study created in memory with name: no-name-d9839c4a-5f03-459b-9690-90a5199154f0\u001B[0m\n",
      "100%|█████████▉| 24504/24507 [01:11<00:00, 345.04it/s]\n"
     ]
    },
    {
     "name": "stdout",
     "output_type": "stream",
     "text": [
      "EvaluatorHoldout: Processed 38918 (100.0%) in 12.82 sec. Users per second: 3035\n"
     ]
    },
    {
     "name": "stderr",
     "output_type": "stream",
     "text": [
      "\u001B[32m[I 2022-11-04 08:46:03,661]\u001B[0m Trial 0 finished with value: 0.0 and parameters: {'alpha': 0.7144444121186274, 'l1_ratio': 0.8941505797892362, 'topK': 193.62943556987977}. Best is trial 0 with value: 0.0.\u001B[0m\n",
      "100%|█████████▉| 24504/24507 [02:05<00:00, 195.83it/s]\n"
     ]
    },
    {
     "name": "stdout",
     "output_type": "stream",
     "text": [
      "EvaluatorHoldout: Processed 38918 (100.0%) in 13.03 sec. Users per second: 2986\n"
     ]
    },
    {
     "name": "stderr",
     "output_type": "stream",
     "text": [
      "\u001B[32m[I 2022-11-04 08:48:21,889]\u001B[0m Trial 1 finished with value: 0.0 and parameters: {'alpha': 0.9355381247279914, 'l1_ratio': 0.7262796263865665, 'topK': 200.43803329859162}. Best is trial 0 with value: 0.0.\u001B[0m\n",
      "100%|█████████▉| 24504/24507 [16:06<00:00, 25.36it/s]\n"
     ]
    },
    {
     "name": "stdout",
     "output_type": "stream",
     "text": [
      "EvaluatorHoldout: Processed 38918 (100.0%) in 20.27 sec. Users per second: 1920\n"
     ]
    },
    {
     "name": "stderr",
     "output_type": "stream",
     "text": [
      "\u001B[32m[I 2022-11-04 09:04:48,635]\u001B[0m Trial 2 finished with value: 0.0 and parameters: {'alpha': 0.005784999789566814, 'l1_ratio': 0.033207425935551704, 'topK': 341.13037892856545}. Best is trial 0 with value: 0.0.\u001B[0m\n",
      "100%|█████████▉| 24504/24507 [07:23<00:00, 55.26it/s]\n"
     ]
    },
    {
     "name": "stdout",
     "output_type": "stream",
     "text": [
      "EvaluatorHoldout: Processed 38918 (100.0%) in 13.42 sec. Users per second: 2900\n"
     ]
    },
    {
     "name": "stderr",
     "output_type": "stream",
     "text": [
      "\u001B[32m[I 2022-11-04 09:12:25,535]\u001B[0m Trial 3 finished with value: 0.0 and parameters: {'alpha': 0.11052414385217224, 'l1_ratio': 0.024668891834883855, 'topK': 445.406443310537}. Best is trial 0 with value: 0.0.\u001B[0m\n",
      "100%|█████████▉| 24504/24507 [01:50<00:00, 222.36it/s]\n"
     ]
    },
    {
     "name": "stdout",
     "output_type": "stream",
     "text": [
      "EvaluatorHoldout: Processed 38918 (100.0%) in 13.09 sec. Users per second: 2973\n"
     ]
    },
    {
     "name": "stderr",
     "output_type": "stream",
     "text": [
      "\u001B[32m[I 2022-11-04 09:14:28,882]\u001B[0m Trial 4 finished with value: 0.0 and parameters: {'alpha': 0.0915506719173772, 'l1_ratio': 0.8998093656529678, 'topK': 441.94499702724914}. Best is trial 0 with value: 0.0.\u001B[0m\n",
      "100%|█████████▉| 24504/24507 [21:12<00:00, 19.26it/s]  \n"
     ]
    },
    {
     "name": "stdout",
     "output_type": "stream",
     "text": [
      "EvaluatorHoldout: Processed 38918 (100.0%) in 12.96 sec. Users per second: 3004\n"
     ]
    },
    {
     "name": "stderr",
     "output_type": "stream",
     "text": [
      "\u001B[32m[I 2022-11-04 09:35:54,362]\u001B[0m Trial 5 finished with value: 0.0 and parameters: {'alpha': 0.917956893563923, 'l1_ratio': 0.05424945011007676, 'topK': 499.39665667749887}. Best is trial 0 with value: 0.0.\u001B[0m\n",
      "  1%|          | 168/24507 [00:03<04:10, 97.08it/s]\u001B[33m[W 2022-11-04 09:35:57,535]\u001B[0m Trial 6 failed because of the following error: KeyboardInterrupt()\u001B[0m\n",
      "Traceback (most recent call last):\n",
      "  File \"/Users/matteopancini/opt/anaconda3/envs/recsys/lib/python3.9/multiprocessing/pool.py\", line 853, in next\n",
      "    item = self._items.popleft()\n",
      "IndexError: pop from an empty deque\n",
      "\n",
      "During handling of the above exception, another exception occurred:\n",
      "\n",
      "Traceback (most recent call last):\n",
      "  File \"/Users/matteopancini/opt/anaconda3/envs/recsys/lib/python3.9/site-packages/optuna/study/_optimize.py\", line 196, in _run_trial\n",
      "    value_or_values = func(trial)\n",
      "  File \"/var/folders/tt/9v6608x550n51759gpcrffsc0000gn/T/ipykernel_61283/1017296203.py\", line 7, in objective\n",
      "    recommender.fit(alpha=alpha, l1_ratio=l1_ratio, topK=int(topK))\n",
      "  File \"/Users/matteopancini/PycharmProjects/recsys-challenge-2022-Pancini-Vitali/Recommenders/SLIM/SLIMElasticNetRecommender.py\", line 240, in fit\n",
      "    for values_, rows_, cols_ in pool.imap_unordered(_pfit, itemchunks, pool_chunksize):\n",
      "  File \"/Users/matteopancini/opt/anaconda3/envs/recsys/lib/python3.9/multiprocessing/pool.py\", line 448, in <genexpr>\n",
      "    return (item for chunk in result for item in chunk)\n",
      "  File \"/Users/matteopancini/opt/anaconda3/envs/recsys/lib/python3.9/multiprocessing/pool.py\", line 858, in next\n",
      "    self._cond.wait(timeout)\n",
      "  File \"/Users/matteopancini/opt/anaconda3/envs/recsys/lib/python3.9/threading.py\", line 312, in wait\n",
      "    waiter.acquire()\n",
      "KeyboardInterrupt\n"
     ]
    },
    {
     "ename": "KeyboardInterrupt",
     "evalue": "",
     "output_type": "error",
     "traceback": [
      "\u001B[0;31m---------------------------------------------------------------------------\u001B[0m",
      "\u001B[0;31mIndexError\u001B[0m                                Traceback (most recent call last)",
      "File \u001B[0;32m~/opt/anaconda3/envs/recsys/lib/python3.9/multiprocessing/pool.py:853\u001B[0m, in \u001B[0;36mIMapIterator.next\u001B[0;34m(self, timeout)\u001B[0m\n\u001B[1;32m    852\u001B[0m \u001B[38;5;28;01mtry\u001B[39;00m:\n\u001B[0;32m--> 853\u001B[0m     item \u001B[38;5;241m=\u001B[39m \u001B[38;5;28;43mself\u001B[39;49m\u001B[38;5;241;43m.\u001B[39;49m\u001B[43m_items\u001B[49m\u001B[38;5;241;43m.\u001B[39;49m\u001B[43mpopleft\u001B[49m\u001B[43m(\u001B[49m\u001B[43m)\u001B[49m\n\u001B[1;32m    854\u001B[0m \u001B[38;5;28;01mexcept\u001B[39;00m \u001B[38;5;167;01mIndexError\u001B[39;00m:\n",
      "\u001B[0;31mIndexError\u001B[0m: pop from an empty deque",
      "\nDuring handling of the above exception, another exception occurred:\n",
      "\u001B[0;31mKeyboardInterrupt\u001B[0m                         Traceback (most recent call last)",
      "Cell \u001B[0;32mIn [8], line 2\u001B[0m\n\u001B[1;32m      1\u001B[0m study \u001B[38;5;241m=\u001B[39m op\u001B[38;5;241m.\u001B[39mcreate_study(direction\u001B[38;5;241m=\u001B[39m\u001B[38;5;124m'\u001B[39m\u001B[38;5;124mminimize\u001B[39m\u001B[38;5;124m'\u001B[39m)\n\u001B[0;32m----> 2\u001B[0m \u001B[43mstudy\u001B[49m\u001B[38;5;241;43m.\u001B[39;49m\u001B[43moptimize\u001B[49m\u001B[43m(\u001B[49m\u001B[43mobjective\u001B[49m\u001B[43m,\u001B[49m\u001B[43m \u001B[49m\u001B[43mn_trials\u001B[49m\u001B[38;5;241;43m=\u001B[39;49m\u001B[38;5;241;43m15\u001B[39;49m\u001B[43m)\u001B[49m\n",
      "File \u001B[0;32m~/opt/anaconda3/envs/recsys/lib/python3.9/site-packages/optuna/study/study.py:419\u001B[0m, in \u001B[0;36mStudy.optimize\u001B[0;34m(self, func, n_trials, timeout, n_jobs, catch, callbacks, gc_after_trial, show_progress_bar)\u001B[0m\n\u001B[1;32m    315\u001B[0m \u001B[38;5;28;01mdef\u001B[39;00m \u001B[38;5;21moptimize\u001B[39m(\n\u001B[1;32m    316\u001B[0m     \u001B[38;5;28mself\u001B[39m,\n\u001B[1;32m    317\u001B[0m     func: ObjectiveFuncType,\n\u001B[0;32m   (...)\u001B[0m\n\u001B[1;32m    324\u001B[0m     show_progress_bar: \u001B[38;5;28mbool\u001B[39m \u001B[38;5;241m=\u001B[39m \u001B[38;5;28;01mFalse\u001B[39;00m,\n\u001B[1;32m    325\u001B[0m ) \u001B[38;5;241m-\u001B[39m\u001B[38;5;241m>\u001B[39m \u001B[38;5;28;01mNone\u001B[39;00m:\n\u001B[1;32m    326\u001B[0m     \u001B[38;5;124;03m\"\"\"Optimize an objective function.\u001B[39;00m\n\u001B[1;32m    327\u001B[0m \n\u001B[1;32m    328\u001B[0m \u001B[38;5;124;03m    Optimization is done by choosing a suitable set of hyperparameter values from a given\u001B[39;00m\n\u001B[0;32m   (...)\u001B[0m\n\u001B[1;32m    416\u001B[0m \u001B[38;5;124;03m            If nested invocation of this method occurs.\u001B[39;00m\n\u001B[1;32m    417\u001B[0m \u001B[38;5;124;03m    \"\"\"\u001B[39;00m\n\u001B[0;32m--> 419\u001B[0m     \u001B[43m_optimize\u001B[49m\u001B[43m(\u001B[49m\n\u001B[1;32m    420\u001B[0m \u001B[43m        \u001B[49m\u001B[43mstudy\u001B[49m\u001B[38;5;241;43m=\u001B[39;49m\u001B[38;5;28;43mself\u001B[39;49m\u001B[43m,\u001B[49m\n\u001B[1;32m    421\u001B[0m \u001B[43m        \u001B[49m\u001B[43mfunc\u001B[49m\u001B[38;5;241;43m=\u001B[39;49m\u001B[43mfunc\u001B[49m\u001B[43m,\u001B[49m\n\u001B[1;32m    422\u001B[0m \u001B[43m        \u001B[49m\u001B[43mn_trials\u001B[49m\u001B[38;5;241;43m=\u001B[39;49m\u001B[43mn_trials\u001B[49m\u001B[43m,\u001B[49m\n\u001B[1;32m    423\u001B[0m \u001B[43m        \u001B[49m\u001B[43mtimeout\u001B[49m\u001B[38;5;241;43m=\u001B[39;49m\u001B[43mtimeout\u001B[49m\u001B[43m,\u001B[49m\n\u001B[1;32m    424\u001B[0m \u001B[43m        \u001B[49m\u001B[43mn_jobs\u001B[49m\u001B[38;5;241;43m=\u001B[39;49m\u001B[43mn_jobs\u001B[49m\u001B[43m,\u001B[49m\n\u001B[1;32m    425\u001B[0m \u001B[43m        \u001B[49m\u001B[43mcatch\u001B[49m\u001B[38;5;241;43m=\u001B[39;49m\u001B[43mcatch\u001B[49m\u001B[43m,\u001B[49m\n\u001B[1;32m    426\u001B[0m \u001B[43m        \u001B[49m\u001B[43mcallbacks\u001B[49m\u001B[38;5;241;43m=\u001B[39;49m\u001B[43mcallbacks\u001B[49m\u001B[43m,\u001B[49m\n\u001B[1;32m    427\u001B[0m \u001B[43m        \u001B[49m\u001B[43mgc_after_trial\u001B[49m\u001B[38;5;241;43m=\u001B[39;49m\u001B[43mgc_after_trial\u001B[49m\u001B[43m,\u001B[49m\n\u001B[1;32m    428\u001B[0m \u001B[43m        \u001B[49m\u001B[43mshow_progress_bar\u001B[49m\u001B[38;5;241;43m=\u001B[39;49m\u001B[43mshow_progress_bar\u001B[49m\u001B[43m,\u001B[49m\n\u001B[1;32m    429\u001B[0m \u001B[43m    \u001B[49m\u001B[43m)\u001B[49m\n",
      "File \u001B[0;32m~/opt/anaconda3/envs/recsys/lib/python3.9/site-packages/optuna/study/_optimize.py:66\u001B[0m, in \u001B[0;36m_optimize\u001B[0;34m(study, func, n_trials, timeout, n_jobs, catch, callbacks, gc_after_trial, show_progress_bar)\u001B[0m\n\u001B[1;32m     64\u001B[0m \u001B[38;5;28;01mtry\u001B[39;00m:\n\u001B[1;32m     65\u001B[0m     \u001B[38;5;28;01mif\u001B[39;00m n_jobs \u001B[38;5;241m==\u001B[39m \u001B[38;5;241m1\u001B[39m:\n\u001B[0;32m---> 66\u001B[0m         \u001B[43m_optimize_sequential\u001B[49m\u001B[43m(\u001B[49m\n\u001B[1;32m     67\u001B[0m \u001B[43m            \u001B[49m\u001B[43mstudy\u001B[49m\u001B[43m,\u001B[49m\n\u001B[1;32m     68\u001B[0m \u001B[43m            \u001B[49m\u001B[43mfunc\u001B[49m\u001B[43m,\u001B[49m\n\u001B[1;32m     69\u001B[0m \u001B[43m            \u001B[49m\u001B[43mn_trials\u001B[49m\u001B[43m,\u001B[49m\n\u001B[1;32m     70\u001B[0m \u001B[43m            \u001B[49m\u001B[43mtimeout\u001B[49m\u001B[43m,\u001B[49m\n\u001B[1;32m     71\u001B[0m \u001B[43m            \u001B[49m\u001B[43mcatch\u001B[49m\u001B[43m,\u001B[49m\n\u001B[1;32m     72\u001B[0m \u001B[43m            \u001B[49m\u001B[43mcallbacks\u001B[49m\u001B[43m,\u001B[49m\n\u001B[1;32m     73\u001B[0m \u001B[43m            \u001B[49m\u001B[43mgc_after_trial\u001B[49m\u001B[43m,\u001B[49m\n\u001B[1;32m     74\u001B[0m \u001B[43m            \u001B[49m\u001B[43mreseed_sampler_rng\u001B[49m\u001B[38;5;241;43m=\u001B[39;49m\u001B[38;5;28;43;01mFalse\u001B[39;49;00m\u001B[43m,\u001B[49m\n\u001B[1;32m     75\u001B[0m \u001B[43m            \u001B[49m\u001B[43mtime_start\u001B[49m\u001B[38;5;241;43m=\u001B[39;49m\u001B[38;5;28;43;01mNone\u001B[39;49;00m\u001B[43m,\u001B[49m\n\u001B[1;32m     76\u001B[0m \u001B[43m            \u001B[49m\u001B[43mprogress_bar\u001B[49m\u001B[38;5;241;43m=\u001B[39;49m\u001B[43mprogress_bar\u001B[49m\u001B[43m,\u001B[49m\n\u001B[1;32m     77\u001B[0m \u001B[43m        \u001B[49m\u001B[43m)\u001B[49m\n\u001B[1;32m     78\u001B[0m     \u001B[38;5;28;01melse\u001B[39;00m:\n\u001B[1;32m     79\u001B[0m         \u001B[38;5;28;01mif\u001B[39;00m n_jobs \u001B[38;5;241m==\u001B[39m \u001B[38;5;241m-\u001B[39m\u001B[38;5;241m1\u001B[39m:\n",
      "File \u001B[0;32m~/opt/anaconda3/envs/recsys/lib/python3.9/site-packages/optuna/study/_optimize.py:160\u001B[0m, in \u001B[0;36m_optimize_sequential\u001B[0;34m(study, func, n_trials, timeout, catch, callbacks, gc_after_trial, reseed_sampler_rng, time_start, progress_bar)\u001B[0m\n\u001B[1;32m    157\u001B[0m         \u001B[38;5;28;01mbreak\u001B[39;00m\n\u001B[1;32m    159\u001B[0m \u001B[38;5;28;01mtry\u001B[39;00m:\n\u001B[0;32m--> 160\u001B[0m     frozen_trial \u001B[38;5;241m=\u001B[39m \u001B[43m_run_trial\u001B[49m\u001B[43m(\u001B[49m\u001B[43mstudy\u001B[49m\u001B[43m,\u001B[49m\u001B[43m \u001B[49m\u001B[43mfunc\u001B[49m\u001B[43m,\u001B[49m\u001B[43m \u001B[49m\u001B[43mcatch\u001B[49m\u001B[43m)\u001B[49m\n\u001B[1;32m    161\u001B[0m \u001B[38;5;28;01mfinally\u001B[39;00m:\n\u001B[1;32m    162\u001B[0m     \u001B[38;5;66;03m# The following line mitigates memory problems that can be occurred in some\u001B[39;00m\n\u001B[1;32m    163\u001B[0m     \u001B[38;5;66;03m# environments (e.g., services that use computing containers such as CircleCI).\u001B[39;00m\n\u001B[1;32m    164\u001B[0m     \u001B[38;5;66;03m# Please refer to the following PR for further details:\u001B[39;00m\n\u001B[1;32m    165\u001B[0m     \u001B[38;5;66;03m# https://github.com/optuna/optuna/pull/325.\u001B[39;00m\n\u001B[1;32m    166\u001B[0m     \u001B[38;5;28;01mif\u001B[39;00m gc_after_trial:\n",
      "File \u001B[0;32m~/opt/anaconda3/envs/recsys/lib/python3.9/site-packages/optuna/study/_optimize.py:234\u001B[0m, in \u001B[0;36m_run_trial\u001B[0;34m(study, func, catch)\u001B[0m\n\u001B[1;32m    227\u001B[0m         \u001B[38;5;28;01massert\u001B[39;00m \u001B[38;5;28;01mFalse\u001B[39;00m, \u001B[38;5;124m\"\u001B[39m\u001B[38;5;124mShould not reach.\u001B[39m\u001B[38;5;124m\"\u001B[39m\n\u001B[1;32m    229\u001B[0m \u001B[38;5;28;01mif\u001B[39;00m (\n\u001B[1;32m    230\u001B[0m     frozen_trial\u001B[38;5;241m.\u001B[39mstate \u001B[38;5;241m==\u001B[39m TrialState\u001B[38;5;241m.\u001B[39mFAIL\n\u001B[1;32m    231\u001B[0m     \u001B[38;5;129;01mand\u001B[39;00m func_err \u001B[38;5;129;01mis\u001B[39;00m \u001B[38;5;129;01mnot\u001B[39;00m \u001B[38;5;28;01mNone\u001B[39;00m\n\u001B[1;32m    232\u001B[0m     \u001B[38;5;129;01mand\u001B[39;00m \u001B[38;5;129;01mnot\u001B[39;00m \u001B[38;5;28misinstance\u001B[39m(func_err, catch)\n\u001B[1;32m    233\u001B[0m ):\n\u001B[0;32m--> 234\u001B[0m     \u001B[38;5;28;01mraise\u001B[39;00m func_err\n\u001B[1;32m    235\u001B[0m \u001B[38;5;28;01mreturn\u001B[39;00m frozen_trial\n",
      "File \u001B[0;32m~/opt/anaconda3/envs/recsys/lib/python3.9/site-packages/optuna/study/_optimize.py:196\u001B[0m, in \u001B[0;36m_run_trial\u001B[0;34m(study, func, catch)\u001B[0m\n\u001B[1;32m    194\u001B[0m \u001B[38;5;28;01mwith\u001B[39;00m get_heartbeat_thread(trial\u001B[38;5;241m.\u001B[39m_trial_id, study\u001B[38;5;241m.\u001B[39m_storage):\n\u001B[1;32m    195\u001B[0m     \u001B[38;5;28;01mtry\u001B[39;00m:\n\u001B[0;32m--> 196\u001B[0m         value_or_values \u001B[38;5;241m=\u001B[39m \u001B[43mfunc\u001B[49m\u001B[43m(\u001B[49m\u001B[43mtrial\u001B[49m\u001B[43m)\u001B[49m\n\u001B[1;32m    197\u001B[0m     \u001B[38;5;28;01mexcept\u001B[39;00m exceptions\u001B[38;5;241m.\u001B[39mTrialPruned \u001B[38;5;28;01mas\u001B[39;00m e:\n\u001B[1;32m    198\u001B[0m         \u001B[38;5;66;03m# TODO(mamu): Handle multi-objective cases.\u001B[39;00m\n\u001B[1;32m    199\u001B[0m         state \u001B[38;5;241m=\u001B[39m TrialState\u001B[38;5;241m.\u001B[39mPRUNED\n",
      "Cell \u001B[0;32mIn [7], line 7\u001B[0m, in \u001B[0;36mobjective\u001B[0;34m(trial)\u001B[0m\n\u001B[1;32m      5\u001B[0m l1_ratio \u001B[38;5;241m=\u001B[39m trial\u001B[38;5;241m.\u001B[39msuggest_float(\u001B[38;5;124m\"\u001B[39m\u001B[38;5;124ml1_ratio\u001B[39m\u001B[38;5;124m\"\u001B[39m, \u001B[38;5;241m0\u001B[39m, \u001B[38;5;241m1\u001B[39m)\n\u001B[1;32m      6\u001B[0m topK \u001B[38;5;241m=\u001B[39m trial\u001B[38;5;241m.\u001B[39msuggest_float(\u001B[38;5;124m\"\u001B[39m\u001B[38;5;124mtopK\u001B[39m\u001B[38;5;124m\"\u001B[39m, \u001B[38;5;241m100\u001B[39m, \u001B[38;5;241m500\u001B[39m)\n\u001B[0;32m----> 7\u001B[0m \u001B[43mrecommender\u001B[49m\u001B[38;5;241;43m.\u001B[39;49m\u001B[43mfit\u001B[49m\u001B[43m(\u001B[49m\u001B[43malpha\u001B[49m\u001B[38;5;241;43m=\u001B[39;49m\u001B[43malpha\u001B[49m\u001B[43m,\u001B[49m\u001B[43m \u001B[49m\u001B[43ml1_ratio\u001B[49m\u001B[38;5;241;43m=\u001B[39;49m\u001B[43ml1_ratio\u001B[49m\u001B[43m,\u001B[49m\u001B[43m \u001B[49m\u001B[43mtopK\u001B[49m\u001B[38;5;241;43m=\u001B[39;49m\u001B[38;5;28;43mint\u001B[39;49m\u001B[43m(\u001B[49m\u001B[43mtopK\u001B[49m\u001B[43m)\u001B[49m\u001B[43m)\u001B[49m\n\u001B[1;32m      8\u001B[0m result_dict, _ \u001B[38;5;241m=\u001B[39m evaluator_validation\u001B[38;5;241m.\u001B[39mevaluateRecommender(recommender)\n\u001B[1;32m     10\u001B[0m \u001B[38;5;28;01mreturn\u001B[39;00m result_dict\u001B[38;5;241m.\u001B[39mloc[\u001B[38;5;241m10\u001B[39m][\u001B[38;5;124m\"\u001B[39m\u001B[38;5;124mMAP\u001B[39m\u001B[38;5;124m\"\u001B[39m]\n",
      "File \u001B[0;32m~/PycharmProjects/recsys-challenge-2022-Pancini-Vitali/Recommenders/SLIM/SLIMElasticNetRecommender.py:240\u001B[0m, in \u001B[0;36mMultiThreadSLIM_SLIMElasticNetRecommender.fit\u001B[0;34m(self, alpha, l1_ratio, positive_only, topK, verbose, workers)\u001B[0m\n\u001B[1;32m    238\u001B[0m \u001B[38;5;66;03m# res contains a vector of (values, rows, cols) tuples\u001B[39;00m\n\u001B[1;32m    239\u001B[0m values, rows, cols \u001B[38;5;241m=\u001B[39m [], [], []\n\u001B[0;32m--> 240\u001B[0m \u001B[38;5;28;01mfor\u001B[39;00m values_, rows_, cols_ \u001B[38;5;129;01min\u001B[39;00m pool\u001B[38;5;241m.\u001B[39mimap_unordered(_pfit, itemchunks, pool_chunksize):\n\u001B[1;32m    241\u001B[0m     values\u001B[38;5;241m.\u001B[39mextend(values_)\n\u001B[1;32m    242\u001B[0m     rows\u001B[38;5;241m.\u001B[39mextend(rows_)\n",
      "File \u001B[0;32m~/opt/anaconda3/envs/recsys/lib/python3.9/multiprocessing/pool.py:448\u001B[0m, in \u001B[0;36m<genexpr>\u001B[0;34m(.0)\u001B[0m\n\u001B[1;32m    440\u001B[0m result \u001B[38;5;241m=\u001B[39m IMapUnorderedIterator(\u001B[38;5;28mself\u001B[39m)\n\u001B[1;32m    441\u001B[0m \u001B[38;5;28mself\u001B[39m\u001B[38;5;241m.\u001B[39m_taskqueue\u001B[38;5;241m.\u001B[39mput(\n\u001B[1;32m    442\u001B[0m     (\n\u001B[1;32m    443\u001B[0m         \u001B[38;5;28mself\u001B[39m\u001B[38;5;241m.\u001B[39m_guarded_task_generation(result\u001B[38;5;241m.\u001B[39m_job,\n\u001B[0;32m   (...)\u001B[0m\n\u001B[1;32m    446\u001B[0m         result\u001B[38;5;241m.\u001B[39m_set_length\n\u001B[1;32m    447\u001B[0m     ))\n\u001B[0;32m--> 448\u001B[0m \u001B[38;5;28;01mreturn\u001B[39;00m (item \u001B[38;5;28;01mfor\u001B[39;00m chunk \u001B[38;5;129;01min\u001B[39;00m result \u001B[38;5;28;01mfor\u001B[39;00m item \u001B[38;5;129;01min\u001B[39;00m chunk)\n",
      "File \u001B[0;32m~/opt/anaconda3/envs/recsys/lib/python3.9/multiprocessing/pool.py:858\u001B[0m, in \u001B[0;36mIMapIterator.next\u001B[0;34m(self, timeout)\u001B[0m\n\u001B[1;32m    856\u001B[0m     \u001B[38;5;28mself\u001B[39m\u001B[38;5;241m.\u001B[39m_pool \u001B[38;5;241m=\u001B[39m \u001B[38;5;28;01mNone\u001B[39;00m\n\u001B[1;32m    857\u001B[0m     \u001B[38;5;28;01mraise\u001B[39;00m \u001B[38;5;167;01mStopIteration\u001B[39;00m \u001B[38;5;28;01mfrom\u001B[39;00m \u001B[38;5;28mNone\u001B[39m\n\u001B[0;32m--> 858\u001B[0m \u001B[38;5;28;43mself\u001B[39;49m\u001B[38;5;241;43m.\u001B[39;49m\u001B[43m_cond\u001B[49m\u001B[38;5;241;43m.\u001B[39;49m\u001B[43mwait\u001B[49m\u001B[43m(\u001B[49m\u001B[43mtimeout\u001B[49m\u001B[43m)\u001B[49m\n\u001B[1;32m    859\u001B[0m \u001B[38;5;28;01mtry\u001B[39;00m:\n\u001B[1;32m    860\u001B[0m     item \u001B[38;5;241m=\u001B[39m \u001B[38;5;28mself\u001B[39m\u001B[38;5;241m.\u001B[39m_items\u001B[38;5;241m.\u001B[39mpopleft()\n",
      "File \u001B[0;32m~/opt/anaconda3/envs/recsys/lib/python3.9/threading.py:312\u001B[0m, in \u001B[0;36mCondition.wait\u001B[0;34m(self, timeout)\u001B[0m\n\u001B[1;32m    310\u001B[0m \u001B[38;5;28;01mtry\u001B[39;00m:    \u001B[38;5;66;03m# restore state no matter what (e.g., KeyboardInterrupt)\u001B[39;00m\n\u001B[1;32m    311\u001B[0m     \u001B[38;5;28;01mif\u001B[39;00m timeout \u001B[38;5;129;01mis\u001B[39;00m \u001B[38;5;28;01mNone\u001B[39;00m:\n\u001B[0;32m--> 312\u001B[0m         \u001B[43mwaiter\u001B[49m\u001B[38;5;241;43m.\u001B[39;49m\u001B[43macquire\u001B[49m\u001B[43m(\u001B[49m\u001B[43m)\u001B[49m\n\u001B[1;32m    313\u001B[0m         gotit \u001B[38;5;241m=\u001B[39m \u001B[38;5;28;01mTrue\u001B[39;00m\n\u001B[1;32m    314\u001B[0m     \u001B[38;5;28;01melse\u001B[39;00m:\n",
      "\u001B[0;31mKeyboardInterrupt\u001B[0m: "
     ]
    }
   ],
   "source": [
    "study = op.create_study(direction='minimize')\n",
    "study.optimize(objective, n_trials=15)"
   ],
   "metadata": {
    "collapsed": false
   }
  },
  {
   "cell_type": "code",
   "execution_count": 9,
   "outputs": [],
   "source": [
    "alpha = study.best_params['alpha']\n",
    "l1_ratio = study.best_params['l1_ratio']\n",
    "topK = study.best_params['topK']"
   ],
   "metadata": {
    "collapsed": false
   }
  },
  {
   "cell_type": "code",
   "execution_count": 10,
   "outputs": [
    {
     "data": {
      "text/plain": "0.7144444121186274"
     },
     "execution_count": 10,
     "metadata": {},
     "output_type": "execute_result"
    }
   ],
   "source": [
    "alpha"
   ],
   "metadata": {
    "collapsed": false
   }
  },
  {
   "cell_type": "code",
   "execution_count": 11,
   "outputs": [
    {
     "data": {
      "text/plain": "0.8941505797892362"
     },
     "execution_count": 11,
     "metadata": {},
     "output_type": "execute_result"
    }
   ],
   "source": [
    "l1_ratio"
   ],
   "metadata": {
    "collapsed": false
   }
  },
  {
   "cell_type": "code",
   "execution_count": 12,
   "outputs": [
    {
     "data": {
      "text/plain": "193.62943556987977"
     },
     "execution_count": 12,
     "metadata": {},
     "output_type": "execute_result"
    }
   ],
   "source": [
    "topK"
   ],
   "metadata": {
    "collapsed": false
   }
  },
  {
   "cell_type": "code",
   "execution_count": 14,
   "outputs": [
    {
     "name": "stderr",
     "output_type": "stream",
     "text": [
      "100%|█████████▉| 24504/24507 [00:42<00:00, 570.40it/s]\n"
     ]
    },
    {
     "name": "stdout",
     "output_type": "stream",
     "text": [
      "EvaluatorHoldout: Processed 40035 (100.0%) in 13.33 sec. Users per second: 3002\n"
     ]
    },
    {
     "data": {
      "text/plain": "       PRECISION PRECISION_RECALL_MIN_DEN    RECALL       MAP MAP_MIN_DEN  \\\ncutoff                                                                      \n10      0.000087                 0.000205  0.000198  0.000024    0.000074   \n\n             MRR      NDCG        F1  HIT_RATE ARHR_ALL_HITS  ...  \\\ncutoff                                                        ...   \n10      0.000242  0.000151  0.000121  0.000874      0.000242  ...   \n\n       COVERAGE_USER COVERAGE_USER_HIT USERS_IN_GT DIVERSITY_GINI  \\\ncutoff                                                              \n10          0.961709          0.000841    0.961709       0.000503   \n\n       SHANNON_ENTROPY RATIO_DIVERSITY_HERFINDAHL RATIO_DIVERSITY_GINI  \\\ncutoff                                                                   \n10            3.791113                    0.91992              0.00115   \n\n       RATIO_SHANNON_ENTROPY RATIO_AVERAGE_POPULARITY RATIO_NOVELTY  \ncutoff                                                               \n10                  0.287535                 0.044782      0.738861  \n\n[1 rows x 27 columns]",
      "text/html": "<div>\n<style scoped>\n    .dataframe tbody tr th:only-of-type {\n        vertical-align: middle;\n    }\n\n    .dataframe tbody tr th {\n        vertical-align: top;\n    }\n\n    .dataframe thead th {\n        text-align: right;\n    }\n</style>\n<table border=\"1\" class=\"dataframe\">\n  <thead>\n    <tr style=\"text-align: right;\">\n      <th></th>\n      <th>PRECISION</th>\n      <th>PRECISION_RECALL_MIN_DEN</th>\n      <th>RECALL</th>\n      <th>MAP</th>\n      <th>MAP_MIN_DEN</th>\n      <th>MRR</th>\n      <th>NDCG</th>\n      <th>F1</th>\n      <th>HIT_RATE</th>\n      <th>ARHR_ALL_HITS</th>\n      <th>...</th>\n      <th>COVERAGE_USER</th>\n      <th>COVERAGE_USER_HIT</th>\n      <th>USERS_IN_GT</th>\n      <th>DIVERSITY_GINI</th>\n      <th>SHANNON_ENTROPY</th>\n      <th>RATIO_DIVERSITY_HERFINDAHL</th>\n      <th>RATIO_DIVERSITY_GINI</th>\n      <th>RATIO_SHANNON_ENTROPY</th>\n      <th>RATIO_AVERAGE_POPULARITY</th>\n      <th>RATIO_NOVELTY</th>\n    </tr>\n    <tr>\n      <th>cutoff</th>\n      <th></th>\n      <th></th>\n      <th></th>\n      <th></th>\n      <th></th>\n      <th></th>\n      <th></th>\n      <th></th>\n      <th></th>\n      <th></th>\n      <th></th>\n      <th></th>\n      <th></th>\n      <th></th>\n      <th></th>\n      <th></th>\n      <th></th>\n      <th></th>\n      <th></th>\n      <th></th>\n      <th></th>\n    </tr>\n  </thead>\n  <tbody>\n    <tr>\n      <th>10</th>\n      <td>0.000087</td>\n      <td>0.000205</td>\n      <td>0.000198</td>\n      <td>0.000024</td>\n      <td>0.000074</td>\n      <td>0.000242</td>\n      <td>0.000151</td>\n      <td>0.000121</td>\n      <td>0.000874</td>\n      <td>0.000242</td>\n      <td>...</td>\n      <td>0.961709</td>\n      <td>0.000841</td>\n      <td>0.961709</td>\n      <td>0.000503</td>\n      <td>3.791113</td>\n      <td>0.91992</td>\n      <td>0.00115</td>\n      <td>0.287535</td>\n      <td>0.044782</td>\n      <td>0.738861</td>\n    </tr>\n  </tbody>\n</table>\n<p>1 rows × 27 columns</p>\n</div>"
     },
     "execution_count": 14,
     "metadata": {},
     "output_type": "execute_result"
    }
   ],
   "source": [
    "recommender.fit(alpha=0.8804905330217533, l1_ratio=0.9120820630476552, topK=int(491.2852695850108))\n",
    "result_df, _ = evaluator_test.evaluateRecommender(recommender)\n",
    "result_df"
   ],
   "metadata": {
    "collapsed": false
   }
  },
  {
   "cell_type": "code",
   "execution_count": 13,
   "outputs": [
    {
     "name": "stderr",
     "output_type": "stream",
     "text": [
      "\n",
      "  0%|          | 0/24507 [00:00<?, ?it/s]\u001B[A\n",
      "  0%|          | 8/24507 [00:01<1:04:01,  6.38it/s]\u001B[A\n",
      "  0%|          | 104/24507 [00:01<04:31, 90.04it/s]\u001B[A\n",
      "  1%|          | 200/24507 [00:01<02:29, 162.81it/s]\u001B[A\n",
      "  1%|          | 296/24507 [00:02<01:53, 213.05it/s]\u001B[A\n",
      "  1%|▏         | 336/24507 [00:02<01:42, 236.09it/s]\u001B[A\n",
      "  2%|▏         | 392/24507 [00:02<01:42, 236.25it/s]\u001B[A\n",
      "  2%|▏         | 456/24507 [00:02<01:20, 297.40it/s]\u001B[A\n",
      "  2%|▏         | 504/24507 [00:02<01:22, 292.26it/s]\u001B[A\n",
      "  2%|▏         | 544/24507 [00:02<01:19, 302.75it/s]\u001B[A\n",
      "  2%|▏         | 584/24507 [00:02<01:25, 279.77it/s]\u001B[A\n",
      "  3%|▎         | 624/24507 [00:03<01:26, 277.51it/s]\u001B[A\n",
      "  3%|▎         | 656/24507 [00:03<01:27, 271.34it/s]\u001B[A\n",
      "  3%|▎         | 712/24507 [00:03<01:21, 290.26it/s]\u001B[A\n",
      "  3%|▎         | 744/24507 [00:03<01:28, 269.90it/s]\u001B[A\n",
      "  3%|▎         | 808/24507 [00:03<01:15, 314.11it/s]\u001B[A\n",
      "  3%|▎         | 840/24507 [00:03<01:19, 298.04it/s]\u001B[A\n",
      "  4%|▎         | 904/24507 [00:04<01:25, 276.70it/s]\u001B[A\n",
      "  4%|▍         | 1000/24507 [00:04<01:17, 304.26it/s]\u001B[A\n",
      "  4%|▍         | 1096/24507 [00:04<01:11, 328.22it/s]\u001B[A\n",
      "  5%|▍         | 1192/24507 [00:04<01:07, 345.92it/s]\u001B[A\n",
      "  5%|▌         | 1256/24507 [00:05<01:06, 352.16it/s]\u001B[A\n",
      "  5%|▌         | 1296/24507 [00:05<01:09, 332.90it/s]\u001B[A\n",
      "  6%|▌         | 1352/24507 [00:05<01:08, 335.99it/s]\u001B[A\n",
      "  6%|▌         | 1392/24507 [00:05<01:11, 322.14it/s]\u001B[A\n",
      "  6%|▌         | 1448/24507 [00:05<01:14, 308.23it/s]\u001B[A\n",
      "  6%|▌         | 1480/24507 [00:05<01:14, 308.64it/s]\u001B[A\n",
      "  6%|▋         | 1544/24507 [00:06<01:24, 271.64it/s]\u001B[A\n",
      "  7%|▋         | 1640/24507 [00:06<01:14, 305.39it/s]\u001B[A\n",
      "  7%|▋         | 1704/24507 [00:06<01:04, 352.39it/s]\u001B[A\n",
      "  7%|▋         | 1744/24507 [00:06<01:07, 338.60it/s]\u001B[A\n",
      "  7%|▋         | 1800/24507 [00:06<01:03, 355.92it/s]\u001B[A\n",
      "  8%|▊         | 1840/24507 [00:06<01:06, 340.95it/s]\u001B[A\n",
      "  8%|▊         | 1896/24507 [00:06<01:03, 358.40it/s]\u001B[A\n",
      "  8%|▊         | 1936/24507 [00:07<01:05, 343.33it/s]\u001B[A\n",
      "  8%|▊         | 1992/24507 [00:07<01:01, 364.83it/s]\u001B[A\n",
      "  8%|▊         | 2032/24507 [00:07<01:00, 372.57it/s]\u001B[A\n",
      "  9%|▊         | 2088/24507 [00:07<01:08, 327.82it/s]\u001B[A\n",
      "  9%|▉         | 2152/24507 [00:07<01:02, 354.93it/s]\u001B[A\n",
      "  9%|▉         | 2192/24507 [00:07<01:02, 357.06it/s]\u001B[A\n",
      "  9%|▉         | 2232/24507 [00:07<01:09, 322.45it/s]\u001B[A\n",
      "  9%|▉         | 2280/24507 [00:08<01:03, 348.59it/s]\u001B[A\n",
      "  9%|▉         | 2320/24507 [00:08<01:10, 313.03it/s]\u001B[A\n",
      " 10%|▉         | 2376/24507 [00:08<01:01, 357.72it/s]\u001B[A\n",
      " 10%|▉         | 2416/24507 [00:08<01:10, 314.47it/s]\u001B[A\n",
      " 10%|█         | 2472/24507 [00:08<01:22, 267.91it/s]\u001B[A\n",
      " 10%|█         | 2536/24507 [00:08<01:06, 330.24it/s]\u001B[A\n",
      " 11%|█         | 2576/24507 [00:09<01:09, 314.53it/s]\u001B[A\n",
      " 11%|█         | 2632/24507 [00:09<01:01, 355.63it/s]\u001B[A\n",
      " 11%|█         | 2672/24507 [00:09<01:09, 316.39it/s]\u001B[A\n",
      " 11%|█         | 2728/24507 [00:09<00:59, 365.61it/s]\u001B[A\n",
      " 11%|█▏        | 2768/24507 [00:09<01:05, 331.64it/s]\u001B[A\n",
      " 12%|█▏        | 2824/24507 [00:09<00:58, 368.10it/s]\u001B[A\n",
      " 12%|█▏        | 2864/24507 [00:09<00:59, 365.86it/s]\u001B[A\n",
      " 12%|█▏        | 2904/24507 [00:09<01:00, 355.47it/s]\u001B[A\n",
      " 12%|█▏        | 2952/24507 [00:10<01:04, 331.82it/s]\u001B[A\n",
      " 12%|█▏        | 2992/24507 [00:10<01:05, 330.71it/s]\u001B[A\n",
      " 12%|█▏        | 3048/24507 [00:10<01:20, 265.35it/s]\u001B[A\n",
      " 13%|█▎        | 3144/24507 [00:10<01:09, 307.62it/s]\u001B[A\n",
      " 13%|█▎        | 3240/24507 [00:11<01:03, 337.41it/s]\u001B[A\n",
      " 14%|█▎        | 3336/24507 [00:11<01:02, 338.51it/s]\u001B[A\n",
      " 14%|█▍        | 3400/24507 [00:11<00:56, 370.46it/s]\u001B[A\n",
      " 14%|█▍        | 3440/24507 [00:11<01:00, 348.03it/s]\u001B[A\n",
      " 14%|█▍        | 3480/24507 [00:11<01:03, 332.67it/s]\u001B[A\n",
      " 14%|█▍        | 3528/24507 [00:11<00:59, 354.70it/s]\u001B[A\n",
      " 15%|█▍        | 3568/24507 [00:12<01:06, 316.23it/s]\u001B[A\n",
      " 15%|█▍        | 3624/24507 [00:12<00:57, 363.93it/s]\u001B[A\n",
      " 15%|█▍        | 3664/24507 [00:12<01:02, 335.57it/s]\u001B[A\n",
      " 15%|█▌        | 3704/24507 [00:12<01:01, 335.95it/s]\u001B[A\n",
      " 15%|█▌        | 3752/24507 [00:12<01:02, 334.54it/s]\u001B[A\n",
      " 15%|█▌        | 3792/24507 [00:12<01:09, 299.95it/s]\u001B[A\n",
      " 16%|█▌        | 3880/24507 [00:12<01:06, 311.97it/s]\u001B[A\n",
      " 16%|█▌        | 3976/24507 [00:13<01:02, 328.13it/s]\u001B[A\n",
      " 17%|█▋        | 4072/24507 [00:13<01:00, 338.55it/s]\u001B[A\n",
      " 17%|█▋        | 4168/24507 [00:13<00:59, 339.04it/s]\u001B[A\n",
      " 17%|█▋        | 4264/24507 [00:14<00:59, 340.60it/s]\u001B[A\n",
      " 18%|█▊        | 4360/24507 [00:14<00:57, 352.87it/s]\u001B[A\n",
      " 18%|█▊        | 4424/24507 [00:14<00:51, 392.97it/s]\u001B[A\n",
      " 18%|█▊        | 4472/24507 [00:14<00:54, 367.64it/s]\u001B[A\n",
      " 18%|█▊        | 4520/24507 [00:14<00:52, 383.77it/s]\u001B[A\n",
      " 19%|█▊        | 4568/24507 [00:14<00:55, 358.21it/s]\u001B[A\n",
      " 19%|█▉        | 4648/24507 [00:15<00:58, 338.14it/s]\u001B[A\n",
      " 19%|█▉        | 4712/24507 [00:15<00:51, 384.81it/s]\u001B[A\n",
      " 19%|█▉        | 4760/24507 [00:15<00:55, 353.97it/s]\u001B[A\n",
      " 20%|█▉        | 4840/24507 [00:15<01:02, 314.04it/s]\u001B[A\n",
      " 20%|██        | 4936/24507 [00:15<00:57, 339.82it/s]\u001B[A\n",
      " 21%|██        | 5032/24507 [00:16<00:55, 351.18it/s]\u001B[A\n",
      " 21%|██        | 5128/24507 [00:16<00:54, 354.96it/s]\u001B[A\n",
      " 21%|██▏       | 5224/24507 [00:16<00:52, 365.12it/s]\u001B[A\n",
      " 22%|██▏       | 5320/24507 [00:16<00:51, 374.85it/s]\u001B[A\n",
      " 22%|██▏       | 5416/24507 [00:17<00:52, 360.51it/s]\u001B[A\n",
      " 22%|██▏       | 5480/24507 [00:17<00:47, 398.48it/s]\u001B[A\n",
      " 23%|██▎       | 5528/24507 [00:17<00:50, 378.77it/s]\u001B[A\n",
      " 23%|██▎       | 5576/24507 [00:17<00:52, 362.74it/s]\u001B[A\n",
      " 23%|██▎       | 5616/24507 [00:17<01:00, 310.90it/s]\u001B[A\n",
      " 23%|██▎       | 5672/24507 [00:17<00:53, 351.87it/s]\u001B[A\n",
      " 23%|██▎       | 5712/24507 [00:18<00:57, 325.16it/s]\u001B[A\n",
      " 24%|██▎       | 5800/24507 [00:18<00:57, 325.07it/s]\u001B[A\n",
      " 24%|██▍       | 5864/24507 [00:18<00:48, 381.01it/s]\u001B[A\n",
      " 24%|██▍       | 5912/24507 [00:18<00:53, 348.57it/s]\u001B[A\n",
      " 24%|██▍       | 5992/24507 [00:18<00:57, 320.48it/s]\u001B[A\n",
      " 25%|██▍       | 6088/24507 [00:19<00:54, 339.00it/s]\u001B[A\n",
      " 25%|██▌       | 6184/24507 [00:19<00:52, 350.45it/s]\u001B[A\n",
      " 25%|██▌       | 6248/24507 [00:19<00:47, 387.02it/s]\u001B[A\n",
      " 26%|██▌       | 6296/24507 [00:19<00:47, 383.93it/s]\u001B[A\n",
      " 26%|██▌       | 6344/24507 [00:19<00:47, 381.23it/s]\u001B[A\n",
      " 26%|██▌       | 6384/24507 [00:19<00:48, 370.14it/s]\u001B[A\n",
      " 26%|██▌       | 6424/24507 [00:20<00:51, 349.91it/s]\u001B[A\n",
      " 26%|██▋       | 6472/24507 [00:20<00:48, 368.57it/s]\u001B[A\n",
      " 27%|██▋       | 6512/24507 [00:20<00:53, 336.15it/s]\u001B[A\n",
      " 27%|██▋       | 6568/24507 [00:20<00:47, 376.75it/s]\u001B[A\n",
      " 27%|██▋       | 6608/24507 [00:20<00:51, 347.42it/s]\u001B[A\n",
      " 27%|██▋       | 6664/24507 [00:20<00:45, 388.68it/s]\u001B[A\n",
      " 27%|██▋       | 6712/24507 [00:20<00:51, 344.38it/s]\u001B[A\n",
      " 28%|██▊       | 6760/24507 [00:21<01:03, 281.04it/s]\u001B[A\n",
      " 28%|██▊       | 6856/24507 [00:21<00:55, 318.13it/s]\u001B[A\n",
      " 28%|██▊       | 6952/24507 [00:21<00:51, 339.22it/s]\u001B[A\n",
      " 29%|██▊       | 7016/24507 [00:21<00:46, 376.86it/s]\u001B[A\n",
      " 29%|██▉       | 7064/24507 [00:21<00:45, 380.52it/s]\u001B[A\n",
      " 29%|██▉       | 7112/24507 [00:22<00:46, 375.25it/s]\u001B[A\n",
      " 29%|██▉       | 7152/24507 [00:22<00:49, 349.38it/s]\u001B[A\n",
      " 29%|██▉       | 7192/24507 [00:22<00:49, 349.61it/s]\u001B[A\n",
      " 30%|██▉       | 7240/24507 [00:22<00:49, 348.43it/s]\u001B[A\n",
      " 30%|██▉       | 7280/24507 [00:22<00:50, 339.22it/s]\u001B[A\n",
      " 30%|██▉       | 7336/24507 [00:22<00:48, 353.22it/s]\u001B[A\n",
      " 30%|███       | 7376/24507 [00:22<00:49, 343.41it/s]\u001B[A\n",
      " 30%|███       | 7432/24507 [00:23<00:58, 289.77it/s]\u001B[A\n",
      " 31%|███       | 7528/24507 [00:23<00:53, 315.04it/s]\u001B[A\n",
      " 31%|███       | 7624/24507 [00:23<00:49, 339.78it/s]\u001B[A\n",
      " 31%|███▏      | 7688/24507 [00:23<00:45, 367.08it/s]\u001B[A\n",
      " 32%|███▏      | 7728/24507 [00:23<00:47, 355.16it/s]\u001B[A\n",
      " 32%|███▏      | 7784/24507 [00:23<00:45, 371.46it/s]\u001B[A\n",
      " 32%|███▏      | 7824/24507 [00:24<00:51, 325.08it/s]\u001B[A\n",
      " 32%|███▏      | 7912/24507 [00:24<00:50, 329.65it/s]\u001B[A\n",
      " 33%|███▎      | 8008/24507 [00:24<00:47, 348.13it/s]\u001B[A\n",
      " 33%|███▎      | 8072/24507 [00:24<00:42, 384.61it/s]\u001B[A\n",
      " 33%|███▎      | 8120/24507 [00:24<00:43, 380.25it/s]\u001B[A\n",
      " 33%|███▎      | 8160/24507 [00:25<00:43, 376.67it/s]\u001B[A\n",
      " 33%|███▎      | 8200/24507 [00:25<00:48, 334.39it/s]\u001B[A\n",
      " 34%|███▎      | 8264/24507 [00:25<00:49, 328.62it/s]\u001B[A\n",
      " 34%|███▍      | 8328/24507 [00:25<00:47, 339.14it/s]\u001B[A\n",
      " 34%|███▍      | 8392/24507 [00:25<00:44, 358.43it/s]\u001B[A\n",
      " 35%|███▍      | 8456/24507 [00:25<00:44, 359.56it/s]\u001B[A\n",
      " 35%|███▍      | 8520/24507 [00:26<00:43, 369.92it/s]\u001B[A\n",
      " 35%|███▍      | 8560/24507 [00:26<00:43, 368.72it/s]\u001B[A\n",
      " 35%|███▌      | 8616/24507 [00:26<00:43, 367.16it/s]\u001B[A\n",
      " 35%|███▌      | 8656/24507 [00:26<00:45, 349.87it/s]\u001B[A\n",
      " 36%|███▌      | 8712/24507 [00:26<00:41, 379.66it/s]\u001B[A\n",
      " 36%|███▌      | 8752/24507 [00:26<00:45, 345.16it/s]\u001B[A\n",
      " 36%|███▌      | 8808/24507 [00:26<00:48, 322.20it/s]\u001B[A\n",
      " 36%|███▌      | 8872/24507 [00:27<00:44, 350.26it/s]\u001B[A\n",
      " 36%|███▋      | 8912/24507 [00:27<00:43, 358.17it/s]\u001B[A\n",
      " 37%|███▋      | 8968/24507 [00:27<00:42, 361.40it/s]\u001B[A\n",
      " 37%|███▋      | 9008/24507 [00:27<00:46, 333.01it/s]\u001B[A\n",
      " 37%|███▋      | 9064/24507 [00:27<00:40, 379.38it/s]\u001B[A\n",
      " 37%|███▋      | 9104/24507 [00:27<00:45, 336.12it/s]\u001B[A\n",
      " 37%|███▋      | 9160/24507 [00:27<00:47, 321.71it/s]\u001B[A\n",
      " 38%|███▊      | 9224/24507 [00:28<00:42, 362.94it/s]\u001B[A\n",
      " 38%|███▊      | 9264/24507 [00:28<00:43, 347.38it/s]\u001B[A\n",
      " 38%|███▊      | 9304/24507 [00:28<00:43, 348.64it/s]\u001B[A\n",
      " 38%|███▊      | 9344/24507 [00:28<00:47, 320.51it/s]\u001B[A\n",
      " 38%|███▊      | 9384/24507 [00:28<00:44, 338.14it/s]\u001B[A\n",
      " 38%|███▊      | 9424/24507 [00:28<00:49, 306.40it/s]\u001B[A\n",
      " 39%|███▉      | 9512/24507 [00:29<00:48, 308.24it/s]\u001B[A\n",
      " 39%|███▉      | 9608/24507 [00:29<00:44, 331.74it/s]\u001B[A\n",
      " 40%|███▉      | 9704/24507 [00:29<00:44, 334.81it/s]\u001B[A\n",
      " 40%|███▉      | 9768/24507 [00:29<00:39, 370.26it/s]\u001B[A\n",
      " 40%|████      | 9808/24507 [00:29<00:42, 343.77it/s]\u001B[A\n",
      " 40%|████      | 9864/24507 [00:29<00:41, 356.85it/s]\u001B[A\n",
      " 40%|████      | 9904/24507 [00:30<00:41, 350.67it/s]\u001B[A\n",
      " 41%|████      | 9944/24507 [00:30<00:40, 356.02it/s]\u001B[A\n",
      " 41%|████      | 9992/24507 [00:30<00:44, 328.25it/s]\u001B[A\n",
      " 41%|████      | 10056/24507 [00:30<00:40, 358.86it/s]\u001B[A\n",
      " 41%|████      | 10096/24507 [00:30<00:39, 363.20it/s]\u001B[A\n",
      " 41%|████▏     | 10152/24507 [00:30<00:40, 356.45it/s]\u001B[A\n",
      " 42%|████▏     | 10216/24507 [00:31<00:43, 331.87it/s]\u001B[A\n",
      " 42%|████▏     | 10280/24507 [00:31<00:37, 379.03it/s]\u001B[A\n",
      " 42%|████▏     | 10320/24507 [00:31<00:39, 356.32it/s]\u001B[A\n",
      " 42%|████▏     | 10376/24507 [00:31<00:36, 389.36it/s]\u001B[A\n",
      " 43%|████▎     | 10424/24507 [00:31<00:38, 361.80it/s]\u001B[A\n",
      " 43%|████▎     | 10472/24507 [00:31<00:37, 370.81it/s]\u001B[A\n",
      " 43%|████▎     | 10512/24507 [00:31<00:39, 351.51it/s]\u001B[A\n",
      " 43%|████▎     | 10552/24507 [00:31<00:39, 355.93it/s]\u001B[A\n",
      " 43%|████▎     | 10600/24507 [00:32<00:39, 355.44it/s]\u001B[A\n",
      " 43%|████▎     | 10640/24507 [00:32<00:42, 325.74it/s]\u001B[A\n",
      " 44%|████▎     | 10696/24507 [00:32<00:38, 354.72it/s]\u001B[A\n",
      " 44%|████▍     | 10736/24507 [00:32<00:41, 330.76it/s]\u001B[A\n",
      " 44%|████▍     | 10792/24507 [00:32<00:36, 375.32it/s]\u001B[A\n",
      " 44%|████▍     | 10832/24507 [00:32<00:43, 316.35it/s]\u001B[A\n",
      " 45%|████▍     | 10920/24507 [00:33<00:42, 322.05it/s]\u001B[A\n",
      " 45%|████▍     | 11016/24507 [00:33<00:40, 334.08it/s]\u001B[A\n",
      " 45%|████▌     | 11112/24507 [00:33<00:39, 338.65it/s]\u001B[A\n",
      " 46%|████▌     | 11208/24507 [00:33<00:39, 335.60it/s]\u001B[A\n",
      " 46%|████▌     | 11272/24507 [00:34<00:42, 311.25it/s]\u001B[A\n",
      " 46%|████▋     | 11368/24507 [00:34<00:39, 331.35it/s]\u001B[A\n",
      " 47%|████▋     | 11432/24507 [00:34<00:35, 371.45it/s]\u001B[A\n",
      " 47%|████▋     | 11480/24507 [00:34<00:35, 367.67it/s]\u001B[A\n",
      " 47%|████▋     | 11528/24507 [00:34<00:34, 371.88it/s]\u001B[A\n",
      " 47%|████▋     | 11568/24507 [00:34<00:36, 356.01it/s]\u001B[A\n",
      " 47%|████▋     | 11624/24507 [00:35<00:38, 338.97it/s]\u001B[A\n",
      " 48%|████▊     | 11720/24507 [00:35<00:37, 340.23it/s]\u001B[A\n",
      " 48%|████▊     | 11784/24507 [00:35<00:33, 385.39it/s]\u001B[A\n",
      " 48%|████▊     | 11832/24507 [00:35<00:38, 329.53it/s]\u001B[A\n",
      " 49%|████▊     | 11912/24507 [00:35<00:39, 317.26it/s]\u001B[A\n",
      " 49%|████▉     | 12008/24507 [00:36<00:38, 328.89it/s]\u001B[A\n",
      " 49%|████▉     | 12104/24507 [00:36<00:36, 343.78it/s]\u001B[A\n",
      " 50%|████▉     | 12200/24507 [00:36<00:34, 359.91it/s]\u001B[A\n",
      " 50%|█████     | 12296/24507 [00:36<00:34, 356.70it/s]\u001B[A\n",
      " 51%|█████     | 12392/24507 [00:37<00:33, 365.26it/s]\u001B[A\n",
      " 51%|█████     | 12456/24507 [00:37<00:30, 400.00it/s]\u001B[A\n",
      " 51%|█████     | 12504/24507 [00:37<00:31, 378.04it/s]\u001B[A\n",
      " 51%|█████     | 12552/24507 [00:37<00:31, 383.09it/s]\u001B[A\n",
      " 51%|█████▏    | 12592/24507 [00:37<00:33, 351.49it/s]\u001B[A\n",
      " 52%|█████▏    | 12648/24507 [00:37<00:31, 381.51it/s]\u001B[A\n",
      " 52%|█████▏    | 12688/24507 [00:38<00:33, 354.38it/s]\u001B[A\n",
      " 52%|█████▏    | 12728/24507 [00:38<00:32, 363.97it/s]\u001B[A\n",
      " 52%|█████▏    | 12776/24507 [00:38<00:34, 340.20it/s]\u001B[A\n",
      " 52%|█████▏    | 12816/24507 [00:38<00:33, 350.28it/s]\u001B[A\n",
      " 53%|█████▎    | 12872/24507 [00:38<00:32, 360.55it/s]\u001B[A\n",
      " 53%|█████▎    | 12912/24507 [00:38<00:31, 363.39it/s]\u001B[A\n",
      " 53%|█████▎    | 12968/24507 [00:38<00:38, 301.65it/s]\u001B[A\n",
      " 53%|█████▎    | 13032/24507 [00:39<00:38, 297.70it/s]\u001B[A\n",
      " 53%|█████▎    | 13096/24507 [00:39<00:32, 346.87it/s]\u001B[A\n",
      " 54%|█████▎    | 13136/24507 [00:39<00:36, 311.50it/s]\u001B[A\n",
      " 54%|█████▍    | 13224/24507 [00:39<00:34, 326.18it/s]\u001B[A\n",
      " 54%|█████▍    | 13288/24507 [00:39<00:29, 380.35it/s]\u001B[A\n",
      " 54%|█████▍    | 13336/24507 [00:39<00:30, 362.73it/s]\u001B[A\n",
      " 55%|█████▍    | 13384/24507 [00:40<00:28, 383.96it/s]\u001B[A\n",
      " 55%|█████▍    | 13432/24507 [00:40<00:29, 373.72it/s]\u001B[A\n",
      " 55%|█████▍    | 13472/24507 [00:40<00:30, 360.68it/s]\u001B[A\n",
      " 55%|█████▌    | 13512/24507 [00:40<00:33, 331.64it/s]\u001B[A\n",
      " 55%|█████▌    | 13552/24507 [00:40<00:32, 341.43it/s]\u001B[A\n",
      " 56%|█████▌    | 13608/24507 [00:40<00:31, 345.33it/s]\u001B[A\n",
      " 56%|█████▌    | 13672/24507 [00:40<00:29, 370.09it/s]\u001B[A\n",
      " 56%|█████▌    | 13712/24507 [00:40<00:28, 375.00it/s]\u001B[A\n",
      " 56%|█████▌    | 13752/24507 [00:41<00:29, 363.82it/s]\u001B[A\n",
      " 56%|█████▋    | 13800/24507 [00:41<00:30, 345.73it/s]\u001B[A\n",
      " 56%|█████▋    | 13840/24507 [00:41<00:33, 320.83it/s]\u001B[A\n",
      " 57%|█████▋    | 13896/24507 [00:41<00:29, 362.76it/s]\u001B[A\n",
      " 57%|█████▋    | 13936/24507 [00:41<00:32, 329.76it/s]\u001B[A\n",
      " 57%|█████▋    | 14024/24507 [00:41<00:32, 324.71it/s]\u001B[A\n",
      " 57%|█████▋    | 14088/24507 [00:42<00:27, 378.98it/s]\u001B[A\n",
      " 58%|█████▊    | 14136/24507 [00:42<00:27, 372.11it/s]\u001B[A\n",
      " 58%|█████▊    | 14184/24507 [00:42<00:27, 377.55it/s]\u001B[A\n",
      " 58%|█████▊    | 14224/24507 [00:42<00:30, 340.32it/s]\u001B[A\n",
      " 58%|█████▊    | 14280/24507 [00:42<00:27, 370.48it/s]\u001B[A\n",
      " 58%|█████▊    | 14320/24507 [00:42<00:31, 323.15it/s]\u001B[A\n",
      " 59%|█████▉    | 14408/24507 [00:43<00:31, 319.61it/s]\u001B[A\n",
      " 59%|█████▉    | 14504/24507 [00:43<00:28, 345.13it/s]\u001B[A\n",
      " 59%|█████▉    | 14568/24507 [00:43<00:27, 356.27it/s]\u001B[A\n",
      " 60%|█████▉    | 14608/24507 [00:43<00:29, 339.86it/s]\u001B[A\n",
      " 60%|█████▉    | 14664/24507 [00:43<00:26, 373.25it/s]\u001B[A\n",
      " 60%|█████▉    | 14704/24507 [00:43<00:28, 350.05it/s]\u001B[A\n",
      " 60%|██████    | 14760/24507 [00:43<00:24, 394.60it/s]\u001B[A\n",
      " 60%|██████    | 14808/24507 [00:44<00:25, 379.38it/s]\u001B[A\n",
      " 61%|██████    | 14856/24507 [00:44<00:25, 384.48it/s]\u001B[A\n",
      " 61%|██████    | 14896/24507 [00:44<00:28, 332.02it/s]\u001B[A\n",
      " 61%|██████    | 14952/24507 [00:44<00:24, 383.64it/s]\u001B[A\n",
      " 61%|██████    | 15000/24507 [00:44<00:28, 330.58it/s]\u001B[A\n",
      " 62%|██████▏   | 15080/24507 [00:44<00:29, 317.10it/s]\u001B[A\n",
      " 62%|██████▏   | 15176/24507 [00:45<00:27, 345.23it/s]\u001B[A\n",
      " 62%|██████▏   | 15272/24507 [00:45<00:25, 357.68it/s]\u001B[A\n",
      " 62%|██████▏   | 15312/24507 [00:45<00:25, 359.88it/s]\u001B[A\n",
      " 63%|██████▎   | 15368/24507 [00:45<00:24, 368.96it/s]\u001B[A\n",
      " 63%|██████▎   | 15408/24507 [00:45<00:25, 360.95it/s]\u001B[A\n",
      " 63%|██████▎   | 15464/24507 [00:45<00:24, 365.22it/s]\u001B[A\n",
      " 63%|██████▎   | 15504/24507 [00:46<00:24, 361.58it/s]\u001B[A\n",
      " 63%|██████▎   | 15560/24507 [00:46<00:24, 361.85it/s]\u001B[A\n",
      " 64%|██████▍   | 15624/24507 [00:46<00:24, 359.99it/s]\u001B[A\n",
      " 64%|██████▍   | 15688/24507 [00:46<00:24, 356.21it/s]\u001B[A\n",
      " 64%|██████▍   | 15752/24507 [00:46<00:23, 378.52it/s]\u001B[A\n",
      " 64%|██████▍   | 15792/24507 [00:46<00:24, 362.98it/s]\u001B[A\n",
      " 65%|██████▍   | 15848/24507 [00:46<00:23, 372.88it/s]\u001B[A\n",
      " 65%|██████▍   | 15888/24507 [00:47<00:23, 361.47it/s]\u001B[A\n",
      " 65%|██████▌   | 15944/24507 [00:47<00:22, 375.81it/s]\u001B[A\n",
      " 65%|██████▌   | 15984/24507 [00:47<00:23, 356.02it/s]\u001B[A\n",
      " 65%|██████▌   | 16024/24507 [00:47<00:23, 354.60it/s]\u001B[A\n",
      " 66%|██████▌   | 16072/24507 [00:47<00:23, 352.42it/s]\u001B[A\n",
      " 66%|██████▌   | 16112/24507 [00:47<00:24, 338.05it/s]\u001B[A\n",
      " 66%|██████▌   | 16168/24507 [00:47<00:22, 364.63it/s]\u001B[A\n",
      " 66%|██████▌   | 16208/24507 [00:47<00:23, 354.65it/s]\u001B[A\n",
      " 66%|██████▋   | 16264/24507 [00:48<00:24, 339.74it/s]\u001B[A\n",
      " 67%|██████▋   | 16328/24507 [00:48<00:21, 380.88it/s]\u001B[A\n",
      " 67%|██████▋   | 16368/24507 [00:48<00:22, 365.11it/s]\u001B[A\n",
      " 67%|██████▋   | 16424/24507 [00:48<00:27, 294.13it/s]\u001B[A\n",
      " 67%|██████▋   | 16520/24507 [00:48<00:25, 317.46it/s]\u001B[A\n",
      " 68%|██████▊   | 16584/24507 [00:49<00:21, 370.21it/s]\u001B[A\n",
      " 68%|██████▊   | 16632/24507 [00:49<00:23, 340.72it/s]\u001B[A\n",
      " 68%|██████▊   | 16712/24507 [00:49<00:23, 324.97it/s]\u001B[A\n",
      " 68%|██████▊   | 16776/24507 [00:49<00:21, 355.71it/s]\u001B[A\n",
      " 69%|██████▊   | 16816/24507 [00:49<00:21, 362.78it/s]\u001B[A\n",
      " 69%|██████▉   | 16872/24507 [00:49<00:23, 328.65it/s]\u001B[A\n",
      " 69%|██████▉   | 16936/24507 [00:50<00:22, 338.41it/s]\u001B[A\n",
      " 69%|██████▉   | 17000/24507 [00:50<00:20, 366.75it/s]\u001B[A\n",
      " 70%|██████▉   | 17040/24507 [00:50<00:20, 363.55it/s]\u001B[A\n",
      " 70%|██████▉   | 17080/24507 [00:50<00:20, 364.84it/s]\u001B[A\n",
      " 70%|██████▉   | 17128/24507 [00:50<00:21, 342.43it/s]\u001B[A\n",
      " 70%|███████   | 17192/24507 [00:50<00:21, 335.85it/s]\u001B[A\n",
      " 70%|███████   | 17256/24507 [00:51<00:20, 350.94it/s]\u001B[A\n",
      " 71%|███████   | 17320/24507 [00:51<00:21, 341.67it/s]\u001B[A\n",
      " 71%|███████   | 17384/24507 [00:51<00:19, 358.38it/s]\u001B[A\n",
      " 71%|███████   | 17448/24507 [00:51<00:19, 362.49it/s]\u001B[A\n",
      " 71%|███████▏  | 17488/24507 [00:51<00:19, 367.46it/s]\u001B[A\n",
      " 72%|███████▏  | 17528/24507 [00:51<00:18, 368.75it/s]\u001B[A\n",
      " 72%|███████▏  | 17576/24507 [00:51<00:20, 333.73it/s]\u001B[A\n",
      " 72%|███████▏  | 17616/24507 [00:52<00:21, 327.09it/s]\u001B[A\n",
      " 72%|███████▏  | 17672/24507 [00:52<00:18, 364.82it/s]\u001B[A\n",
      " 72%|███████▏  | 17712/24507 [00:52<00:20, 331.05it/s]\u001B[A\n",
      " 73%|███████▎  | 17768/24507 [00:52<00:19, 351.72it/s]\u001B[A\n",
      " 73%|███████▎  | 17808/24507 [00:52<00:20, 324.35it/s]\u001B[A\n",
      " 73%|███████▎  | 17864/24507 [00:52<00:20, 331.01it/s]\u001B[A\n",
      " 73%|███████▎  | 17904/24507 [00:52<00:19, 341.73it/s]\u001B[A\n",
      " 73%|███████▎  | 17960/24507 [00:53<00:19, 341.04it/s]\u001B[A\n",
      " 74%|███████▎  | 18024/24507 [00:53<00:17, 369.67it/s]\u001B[A\n",
      " 74%|███████▎  | 18064/24507 [00:53<00:18, 356.24it/s]\u001B[A\n",
      " 74%|███████▍  | 18120/24507 [00:53<00:17, 363.20it/s]\u001B[A\n",
      " 74%|███████▍  | 18160/24507 [00:53<00:17, 353.06it/s]\u001B[A\n",
      " 74%|███████▍  | 18216/24507 [00:53<00:16, 371.02it/s]\u001B[A\n",
      " 74%|███████▍  | 18256/24507 [00:53<00:17, 362.27it/s]\u001B[A\n",
      " 75%|███████▍  | 18312/24507 [00:54<00:17, 362.66it/s]\u001B[A\n",
      " 75%|███████▍  | 18352/24507 [00:54<00:16, 370.42it/s]\u001B[A\n",
      " 75%|███████▌  | 18408/24507 [00:54<00:16, 369.31it/s]\u001B[A\n",
      " 75%|███████▌  | 18448/24507 [00:54<00:17, 355.49it/s]\u001B[A\n",
      " 76%|███████▌  | 18504/24507 [00:54<00:16, 361.59it/s]\u001B[A\n",
      " 76%|███████▌  | 18544/24507 [00:54<00:16, 360.06it/s]\u001B[A\n",
      " 76%|███████▌  | 18600/24507 [00:54<00:18, 324.38it/s]\u001B[A\n",
      " 76%|███████▌  | 18664/24507 [00:54<00:15, 387.24it/s]\u001B[A\n",
      " 76%|███████▋  | 18712/24507 [00:55<00:16, 357.45it/s]\u001B[A\n",
      " 77%|███████▋  | 18760/24507 [00:55<00:15, 380.69it/s]\u001B[A\n",
      " 77%|███████▋  | 18808/24507 [00:55<00:16, 335.77it/s]\u001B[A\n",
      " 77%|███████▋  | 18888/24507 [00:55<00:17, 314.46it/s]\u001B[A\n",
      " 77%|███████▋  | 18928/24507 [00:55<00:17, 324.87it/s]\u001B[A\n",
      " 77%|███████▋  | 18984/24507 [00:55<00:16, 336.15it/s]\u001B[A\n",
      " 78%|███████▊  | 19024/24507 [00:56<00:16, 331.75it/s]\u001B[A\n",
      " 78%|███████▊  | 19080/24507 [00:56<00:15, 353.18it/s]\u001B[A\n",
      " 78%|███████▊  | 19120/24507 [00:56<00:16, 332.33it/s]\u001B[A\n",
      " 78%|███████▊  | 19176/24507 [00:56<00:14, 357.91it/s]\u001B[A\n",
      " 78%|███████▊  | 19216/24507 [00:56<00:15, 338.71it/s]\u001B[A\n",
      " 79%|███████▊  | 19272/24507 [00:56<00:14, 359.27it/s]\u001B[A\n",
      " 79%|███████▉  | 19312/24507 [00:56<00:14, 362.79it/s]\u001B[A\n",
      " 79%|███████▉  | 19368/24507 [00:57<00:13, 379.93it/s]\u001B[A\n",
      " 79%|███████▉  | 19408/24507 [00:57<00:14, 351.36it/s]\u001B[A\n",
      " 79%|███████▉  | 19464/24507 [00:57<00:12, 397.53it/s]\u001B[A\n",
      " 80%|███████▉  | 19512/24507 [00:57<00:13, 358.85it/s]\u001B[A\n",
      " 80%|███████▉  | 19592/24507 [00:57<00:14, 337.89it/s]\u001B[A\n",
      " 80%|████████  | 19688/24507 [00:57<00:13, 350.76it/s]\u001B[A\n",
      " 81%|████████  | 19784/24507 [00:58<00:14, 331.78it/s]\u001B[A\n",
      " 81%|████████  | 19880/24507 [00:58<00:13, 347.45it/s]\u001B[A\n",
      " 82%|████████▏ | 19976/24507 [00:58<00:12, 358.49it/s]\u001B[A\n",
      " 82%|████████▏ | 20072/24507 [00:59<00:12, 354.03it/s]\u001B[A\n",
      " 82%|████████▏ | 20136/24507 [00:59<00:12, 353.86it/s]\u001B[A\n",
      " 82%|████████▏ | 20200/24507 [00:59<00:11, 364.86it/s]\u001B[A\n",
      " 83%|████████▎ | 20240/24507 [00:59<00:11, 355.84it/s]\u001B[A\n",
      " 83%|████████▎ | 20296/24507 [00:59<00:11, 355.55it/s]\u001B[A\n",
      " 83%|████████▎ | 20336/24507 [00:59<00:11, 352.58it/s]\u001B[A\n",
      " 83%|████████▎ | 20392/24507 [00:59<00:11, 353.51it/s]\u001B[A\n",
      " 83%|████████▎ | 20456/24507 [01:00<00:10, 393.06it/s]\u001B[A\n",
      " 84%|████████▎ | 20496/24507 [01:00<00:10, 365.11it/s]\u001B[A\n",
      " 84%|████████▍ | 20552/24507 [01:00<00:10, 366.27it/s]\u001B[A\n",
      " 84%|████████▍ | 20592/24507 [01:00<00:10, 368.74it/s]\u001B[A\n",
      " 84%|████████▍ | 20632/24507 [01:00<00:10, 367.72it/s]\u001B[A\n",
      " 84%|████████▍ | 20680/24507 [01:00<00:10, 352.01it/s]\u001B[A\n",
      " 85%|████████▍ | 20720/24507 [01:00<00:11, 341.57it/s]\u001B[A\n",
      " 85%|████████▍ | 20776/24507 [01:00<00:10, 355.00it/s]\u001B[A\n",
      " 85%|████████▍ | 20816/24507 [01:01<00:10, 350.22it/s]\u001B[A\n",
      " 85%|████████▌ | 20872/24507 [01:01<00:10, 355.08it/s]\u001B[A\n",
      " 85%|████████▌ | 20912/24507 [01:01<00:09, 359.60it/s]\u001B[A\n",
      " 86%|████████▌ | 20968/24507 [01:01<00:10, 352.49it/s]\u001B[A\n",
      " 86%|████████▌ | 21008/24507 [01:01<00:10, 344.38it/s]\u001B[A\n",
      " 86%|████████▌ | 21064/24507 [01:01<00:10, 327.91it/s]\u001B[A\n",
      " 86%|████████▋ | 21160/24507 [01:02<00:10, 329.01it/s]\u001B[A\n",
      " 87%|████████▋ | 21256/24507 [01:02<00:09, 330.41it/s]\u001B[A\n",
      " 87%|████████▋ | 21320/24507 [01:02<00:08, 360.55it/s]\u001B[A\n",
      " 87%|████████▋ | 21360/24507 [01:02<00:10, 309.37it/s]\u001B[A\n",
      " 88%|████████▊ | 21448/24507 [01:03<00:09, 322.96it/s]\u001B[A\n",
      " 88%|████████▊ | 21512/24507 [01:03<00:08, 370.08it/s]\u001B[A\n",
      " 88%|████████▊ | 21560/24507 [01:03<00:08, 350.01it/s]\u001B[A\n",
      " 88%|████████▊ | 21608/24507 [01:03<00:08, 360.10it/s]\u001B[A\n",
      " 88%|████████▊ | 21648/24507 [01:03<00:08, 331.43it/s]\u001B[A\n",
      " 89%|████████▊ | 21704/24507 [01:03<00:07, 376.55it/s]\u001B[A\n",
      " 89%|████████▉ | 21752/24507 [01:03<00:08, 323.22it/s]\u001B[A\n",
      " 89%|████████▉ | 21832/24507 [01:04<00:08, 328.29it/s]\u001B[A\n",
      " 89%|████████▉ | 21896/24507 [01:04<00:06, 373.01it/s]\u001B[A\n",
      " 90%|████████▉ | 21944/24507 [01:04<00:07, 359.36it/s]\u001B[A\n",
      " 90%|████████▉ | 21984/24507 [01:04<00:06, 361.39it/s]\u001B[A\n",
      " 90%|████████▉ | 22024/24507 [01:04<00:07, 332.44it/s]\u001B[A\n",
      " 90%|█████████ | 22064/24507 [01:04<00:07, 330.53it/s]\u001B[A\n",
      " 90%|█████████ | 22120/24507 [01:04<00:06, 365.49it/s]\u001B[A\n",
      " 90%|█████████ | 22160/24507 [01:04<00:06, 347.60it/s]\u001B[A\n",
      " 91%|█████████ | 22216/24507 [01:05<00:06, 369.74it/s]\u001B[A\n",
      " 91%|█████████ | 22256/24507 [01:05<00:06, 341.53it/s]\u001B[A\n",
      " 91%|█████████ | 22312/24507 [01:05<00:05, 384.49it/s]\u001B[A\n",
      " 91%|█████████ | 22352/24507 [01:05<00:06, 329.12it/s]\u001B[A\n",
      " 92%|█████████▏| 22440/24507 [01:05<00:06, 316.01it/s]\u001B[A\n",
      " 92%|█████████▏| 22536/24507 [01:06<00:06, 312.94it/s]\u001B[A\n",
      " 92%|█████████▏| 22632/24507 [01:06<00:05, 334.36it/s]\u001B[A\n",
      " 93%|█████████▎| 22728/24507 [01:06<00:05, 347.96it/s]\u001B[A\n",
      " 93%|█████████▎| 22824/24507 [01:06<00:04, 359.96it/s]\u001B[A\n",
      " 93%|█████████▎| 22888/24507 [01:07<00:04, 397.50it/s]\u001B[A\n",
      " 94%|█████████▎| 22936/24507 [01:07<00:04, 368.13it/s]\u001B[A\n",
      " 94%|█████████▍| 22976/24507 [01:07<00:04, 372.72it/s]\u001B[A\n",
      " 94%|█████████▍| 23016/24507 [01:07<00:04, 325.50it/s]\u001B[A\n",
      " 94%|█████████▍| 23056/24507 [01:07<00:04, 336.73it/s]\u001B[A\n",
      " 94%|█████████▍| 23112/24507 [01:07<00:04, 343.07it/s]\u001B[A\n",
      " 94%|█████████▍| 23152/24507 [01:07<00:04, 338.34it/s]\u001B[A\n",
      " 95%|█████████▍| 23208/24507 [01:08<00:04, 319.55it/s]\u001B[A\n",
      " 95%|█████████▌| 23304/24507 [01:08<00:03, 337.38it/s]\u001B[A\n",
      " 95%|█████████▌| 23400/24507 [01:08<00:03, 331.18it/s]\u001B[A\n",
      " 96%|█████████▌| 23496/24507 [01:08<00:02, 345.22it/s]\u001B[A\n",
      " 96%|█████████▋| 23592/24507 [01:09<00:02, 343.49it/s]\u001B[A\n",
      " 97%|█████████▋| 23688/24507 [01:09<00:02, 352.40it/s]\u001B[A\n",
      " 97%|█████████▋| 23784/24507 [01:09<00:02, 361.15it/s]\u001B[A\n",
      " 97%|█████████▋| 23848/24507 [01:09<00:01, 391.73it/s]\u001B[A\n",
      " 98%|█████████▊| 23896/24507 [01:09<00:01, 375.78it/s]\u001B[A\n",
      " 98%|█████████▊| 23976/24507 [01:10<00:01, 348.06it/s]\u001B[A\n",
      " 98%|█████████▊| 24040/24507 [01:10<00:01, 394.85it/s]\u001B[A\n",
      " 98%|█████████▊| 24088/24507 [01:10<00:01, 355.01it/s]\u001B[A\n",
      " 99%|█████████▊| 24168/24507 [01:10<00:01, 322.31it/s]\u001B[A\n",
      " 99%|█████████▉| 24232/24507 [01:10<00:00, 374.20it/s]\u001B[A\n",
      " 99%|█████████▉| 24280/24507 [01:11<00:00, 361.66it/s]\u001B[A\n",
      " 99%|█████████▉| 24328/24507 [01:11<00:00, 374.34it/s]\u001B[A\n",
      " 99%|█████████▉| 24376/24507 [01:11<00:00, 352.73it/s]\u001B[A\n",
      "100%|█████████▉| 24424/24507 [01:11<00:00, 359.19it/s]\u001B[A\n",
      "100%|█████████▉| 24504/24507 [01:11<00:00, 342.34it/s]\u001B[A\n"
     ]
    },
    {
     "name": "stdout",
     "output_type": "stream",
     "text": [
      "EvaluatorHoldout: Processed 40109 (100.0%) in 13.47 sec. Users per second: 2977\n"
     ]
    },
    {
     "data": {
      "text/plain": "       PRECISION PRECISION_RECALL_MIN_DEN RECALL  MAP MAP_MIN_DEN  MRR NDCG  \\\ncutoff                                                                        \n10           0.0                      0.0    0.0  0.0         0.0  0.0  0.0   \n\n         F1 HIT_RATE ARHR_ALL_HITS  ... COVERAGE_USER COVERAGE_USER_HIT  \\\ncutoff                              ...                                   \n10      0.0      0.0           0.0  ...      0.963487               0.0   \n\n       USERS_IN_GT DIVERSITY_GINI SHANNON_ENTROPY RATIO_DIVERSITY_HERFINDAHL  \\\ncutoff                                                                         \n10        0.963487       0.000591        4.095323                   0.928331   \n\n       RATIO_DIVERSITY_GINI RATIO_SHANNON_ENTROPY RATIO_AVERAGE_POPULARITY  \\\ncutoff                                                                       \n10                 0.001274              0.308715                 0.047869   \n\n       RATIO_NOVELTY  \ncutoff                \n10          0.450896  \n\n[1 rows x 27 columns]",
      "text/html": "<div>\n<style scoped>\n    .dataframe tbody tr th:only-of-type {\n        vertical-align: middle;\n    }\n\n    .dataframe tbody tr th {\n        vertical-align: top;\n    }\n\n    .dataframe thead th {\n        text-align: right;\n    }\n</style>\n<table border=\"1\" class=\"dataframe\">\n  <thead>\n    <tr style=\"text-align: right;\">\n      <th></th>\n      <th>PRECISION</th>\n      <th>PRECISION_RECALL_MIN_DEN</th>\n      <th>RECALL</th>\n      <th>MAP</th>\n      <th>MAP_MIN_DEN</th>\n      <th>MRR</th>\n      <th>NDCG</th>\n      <th>F1</th>\n      <th>HIT_RATE</th>\n      <th>ARHR_ALL_HITS</th>\n      <th>...</th>\n      <th>COVERAGE_USER</th>\n      <th>COVERAGE_USER_HIT</th>\n      <th>USERS_IN_GT</th>\n      <th>DIVERSITY_GINI</th>\n      <th>SHANNON_ENTROPY</th>\n      <th>RATIO_DIVERSITY_HERFINDAHL</th>\n      <th>RATIO_DIVERSITY_GINI</th>\n      <th>RATIO_SHANNON_ENTROPY</th>\n      <th>RATIO_AVERAGE_POPULARITY</th>\n      <th>RATIO_NOVELTY</th>\n    </tr>\n    <tr>\n      <th>cutoff</th>\n      <th></th>\n      <th></th>\n      <th></th>\n      <th></th>\n      <th></th>\n      <th></th>\n      <th></th>\n      <th></th>\n      <th></th>\n      <th></th>\n      <th></th>\n      <th></th>\n      <th></th>\n      <th></th>\n      <th></th>\n      <th></th>\n      <th></th>\n      <th></th>\n      <th></th>\n      <th></th>\n      <th></th>\n    </tr>\n  </thead>\n  <tbody>\n    <tr>\n      <th>10</th>\n      <td>0.0</td>\n      <td>0.0</td>\n      <td>0.0</td>\n      <td>0.0</td>\n      <td>0.0</td>\n      <td>0.0</td>\n      <td>0.0</td>\n      <td>0.0</td>\n      <td>0.0</td>\n      <td>0.0</td>\n      <td>...</td>\n      <td>0.963487</td>\n      <td>0.0</td>\n      <td>0.963487</td>\n      <td>0.000591</td>\n      <td>4.095323</td>\n      <td>0.928331</td>\n      <td>0.001274</td>\n      <td>0.308715</td>\n      <td>0.047869</td>\n      <td>0.450896</td>\n    </tr>\n  </tbody>\n</table>\n<p>1 rows × 27 columns</p>\n</div>"
     },
     "execution_count": 13,
     "metadata": {},
     "output_type": "execute_result"
    }
   ],
   "source": [
    "recommender.fit(alpha=0.7144444121186274, l1_ratio=0.8941505797892362, topK=int(193.62943556987977))\n",
    "result_df, _ = evaluator_test.evaluateRecommender(recommender)\n",
    "result_df"
   ],
   "metadata": {
    "collapsed": false
   }
  },
  {
   "cell_type": "code",
   "execution_count": null,
   "outputs": [],
   "source": [],
   "metadata": {
    "collapsed": false
   }
  }
 ],
 "metadata": {
  "kernelspec": {
   "display_name": "Python 3",
   "language": "python",
   "name": "python3"
  },
  "language_info": {
   "codemirror_mode": {
    "name": "ipython",
    "version": 2
   },
   "file_extension": ".py",
   "mimetype": "text/x-python",
   "name": "python",
   "nbconvert_exporter": "python",
   "pygments_lexer": "ipython2",
   "version": "2.7.6"
  }
 },
 "nbformat": 4,
 "nbformat_minor": 0
}
