{
 "cells": [
  {
   "cell_type": "code",
   "execution_count": 24,
   "metadata": {
    "collapsed": true
   },
   "outputs": [
    {
     "name": "stdout",
     "output_type": "stream",
     "text": [
      "The Cython extension is already loaded. To reload it, use:\n",
      "  %reload_ext Cython\n"
     ]
    }
   ],
   "source": [
    "%load_ext Cython"
   ]
  },
  {
   "cell_type": "code",
   "execution_count": 27,
   "outputs": [],
   "source": [
    "import numpy as np\n",
    "import pandas as pd\n",
    "import scipy.sparse as sp\n",
    "import matplotlib.pyplot as pyplot\n",
    "import optuna as op\n",
    "from sklearn.model_selection import ParameterSampler\n",
    "%matplotlib inline\n",
    "from Data_manager.split_functions.split_train_validation_random_holdout import split_train_in_two_percentage_global_sample\n",
    "from Evaluation.Evaluator import EvaluatorHoldout\n",
    "from Recommenders.SLIM.SLIMElasticNetRecommender import MultiThreadSLIM_SLIMElasticNetRecommender\n",
    "from Utils.createURM import createURM\n",
    "from sklearn.model_selection import train_test_split\n",
    "from Utils.createICM import createICM"
   ],
   "metadata": {
    "collapsed": false
   }
  },
  {
   "cell_type": "markdown",
   "source": [
    "### URM"
   ],
   "metadata": {
    "collapsed": false
   }
  },
  {
   "cell_type": "code",
   "execution_count": 7,
   "outputs": [
    {
     "name": "stderr",
     "output_type": "stream",
     "text": [
      "/Users/matteopancini/PycharmProjects/recsys-challenge-2022-Pancini-Vitali/Utils/createURM.py:6: DtypeWarning: Columns (2) have mixed types. Specify dtype option on import or set low_memory=False.\n",
      "  dataset = pd.read_csv('/Users/matteopancini/PycharmProjects/recsys-challenge-2022-Pancini-Vitali/Input/interactions_and_impressions.csv')\n"
     ]
    }
   ],
   "source": [
    "URM = createURM()\n",
    "#ICM = createICM()"
   ],
   "metadata": {
    "collapsed": false
   }
  },
  {
   "cell_type": "code",
   "execution_count": 8,
   "outputs": [
    {
     "name": "stdout",
     "output_type": "stream",
     "text": [
      "Warning: 319 (0.77 %) of 41629 users have no sampled items\n",
      "Warning: 713 (1.71 %) of 41629 users have no sampled items\n"
     ]
    }
   ],
   "source": [
    "URM_train, URM_test = split_train_in_two_percentage_global_sample(URM, train_percentage = 0.80)\n",
    "URM_train, URM_validation = split_train_in_two_percentage_global_sample(URM_train, train_percentage = 0.80)"
   ],
   "metadata": {
    "collapsed": false
   }
  },
  {
   "cell_type": "code",
   "execution_count": 34,
   "outputs": [],
   "source": [
    "train_x, valid_x, train_y, valid_y = train_test_split(URM, URM, test_size=0.2)"
   ],
   "metadata": {
    "collapsed": false
   }
  },
  {
   "cell_type": "code",
   "execution_count": 26,
   "outputs": [
    {
     "name": "stdout",
     "output_type": "stream",
     "text": [
      "EvaluatorHoldout: Ignoring 713 ( 1.7%) Users that have less than 1 test interactions\n",
      "EvaluatorHoldout: Ignoring 319 ( 0.8%) Users that have less than 1 test interactions\n"
     ]
    }
   ],
   "source": [
    "evaluator_validation = EvaluatorHoldout(URM_validation, cutoff_list=[10])\n",
    "evaluator_test = EvaluatorHoldout(URM_test, cutoff_list=[10])"
   ],
   "metadata": {
    "collapsed": false
   }
  },
  {
   "cell_type": "code",
   "execution_count": 35,
   "outputs": [
    {
     "data": {
      "text/plain": "<33303x24507 sparse matrix of type '<class 'numpy.int64'>'\n\twith 1247245 stored elements in Compressed Sparse Row format>"
     },
     "execution_count": 35,
     "metadata": {},
     "output_type": "execute_result"
    }
   ],
   "source": [
    "train_x"
   ],
   "metadata": {
    "collapsed": false
   }
  },
  {
   "cell_type": "code",
   "execution_count": 36,
   "outputs": [
    {
     "data": {
      "text/plain": "<8326x24507 sparse matrix of type '<class 'numpy.int64'>'\n\twith 307395 stored elements in Compressed Sparse Row format>"
     },
     "execution_count": 36,
     "metadata": {},
     "output_type": "execute_result"
    }
   ],
   "source": [
    "valid_x"
   ],
   "metadata": {
    "collapsed": false
   }
  },
  {
   "cell_type": "code",
   "execution_count": 39,
   "outputs": [
    {
     "data": {
      "text/plain": "<33303x24507 sparse matrix of type '<class 'numpy.int64'>'\n\twith 1247245 stored elements in Compressed Sparse Row format>"
     },
     "execution_count": 39,
     "metadata": {},
     "output_type": "execute_result"
    }
   ],
   "source": [
    "train_y"
   ],
   "metadata": {
    "collapsed": false
   }
  },
  {
   "cell_type": "code",
   "execution_count": 37,
   "outputs": [
    {
     "data": {
      "text/plain": "<41629x24507 sparse matrix of type '<class 'numpy.float64'>'\n\twith 994970 stored elements in Compressed Sparse Row format>"
     },
     "execution_count": 37,
     "metadata": {},
     "output_type": "execute_result"
    }
   ],
   "source": [
    " URM_train"
   ],
   "metadata": {
    "collapsed": false
   }
  },
  {
   "cell_type": "code",
   "execution_count": 38,
   "outputs": [
    {
     "data": {
      "text/plain": "<41629x24507 sparse matrix of type '<class 'numpy.float64'>'\n\twith 248742 stored elements in Compressed Sparse Row format>"
     },
     "execution_count": 38,
     "metadata": {},
     "output_type": "execute_result"
    }
   ],
   "source": [
    "URM_validation"
   ],
   "metadata": {
    "collapsed": false
   }
  },
  {
   "cell_type": "markdown",
   "source": [
    "### SLIM"
   ],
   "metadata": {
    "collapsed": false
   }
  },
  {
   "cell_type": "code",
   "execution_count": 10,
   "outputs": [],
   "source": [
    "recommender = MultiThreadSLIM_SLIMElasticNetRecommender(URM_train, verbose=False)\n",
    "\n",
    "def objective(trial):\n",
    "    alpha = trial.suggest_float(\"alpha\", 0.00001, 0.1)\n",
    "    l1_ratio = trial.suggest_float(\"l1_ratio\", 0.000001, 0.1)\n",
    "    topK = trial.suggest_float(\"topK\", 300, 400)\n",
    "    recommender.fit(alpha=alpha, l1_ratio=l1_ratio, topK=int(topK))\n",
    "\n",
    "    result_dict, _ = evaluator_validation.evaluateRecommender(recommender)\n",
    "\n",
    "    return result_dict.loc[10][\"MAP\"]"
   ],
   "metadata": {
    "collapsed": false
   }
  },
  {
   "cell_type": "code",
   "execution_count": 11,
   "outputs": [
    {
     "name": "stderr",
     "output_type": "stream",
     "text": [
      "\u001B[32m[I 2022-11-07 09:15:28,235]\u001B[0m A new study created in memory with name: no-name-6939472b-9618-4b9f-b9bd-e41414cff535\u001B[0m\n",
      "100%|█████████▉| 24504/24507 [03:15<00:00, 125.60it/s]\n"
     ]
    },
    {
     "name": "stdout",
     "output_type": "stream",
     "text": [
      "EvaluatorHoldout: Processed 40916 (100.0%) in 21.42 sec. Users per second: 1910\n"
     ]
    },
    {
     "name": "stderr",
     "output_type": "stream",
     "text": [
      "\u001B[32m[I 2022-11-07 09:19:04,849]\u001B[0m Trial 0 finished with value: 0.02116299829150505 and parameters: {'alpha': 0.024538291519953584, 'l1_ratio': 0.036287650949949526, 'topK': 373.26486191259335}. Best is trial 0 with value: 0.02116299829150505.\u001B[0m\n",
      "100%|█████████▉| 24504/24507 [03:27<00:00, 118.24it/s]\n"
     ]
    },
    {
     "name": "stdout",
     "output_type": "stream",
     "text": [
      "EvaluatorHoldout: Processed 40916 (100.0%) in 22.12 sec. Users per second: 1850\n"
     ]
    },
    {
     "name": "stderr",
     "output_type": "stream",
     "text": [
      "\u001B[32m[I 2022-11-07 09:22:54,282]\u001B[0m Trial 1 finished with value: 0.020910678207151027 and parameters: {'alpha': 0.023341787400459772, 'l1_ratio': 0.02971766556803617, 'topK': 305.696621709463}. Best is trial 0 with value: 0.02116299829150505.\u001B[0m\n",
      "100%|█████████▉| 24504/24507 [04:44<00:00, 86.16it/s] \n"
     ]
    },
    {
     "name": "stdout",
     "output_type": "stream",
     "text": [
      "EvaluatorHoldout: Processed 40916 (100.0%) in 23.65 sec. Users per second: 1730\n"
     ]
    },
    {
     "name": "stderr",
     "output_type": "stream",
     "text": [
      "\u001B[32m[I 2022-11-07 09:28:02,587]\u001B[0m Trial 2 finished with value: 0.020875175737515114 and parameters: {'alpha': 0.045923373364497255, 'l1_ratio': 0.0011056617555199742, 'topK': 324.9468079191235}. Best is trial 0 with value: 0.02116299829150505.\u001B[0m\n"
     ]
    }
   ],
   "source": [
    "study = op.create_study(direction='maximize')\n",
    "study.optimize(objective, n_trials=3)"
   ],
   "metadata": {
    "collapsed": false
   }
  },
  {
   "cell_type": "code",
   "execution_count": 12,
   "outputs": [],
   "source": [
    "alpha = study.best_params['alpha']\n",
    "l1_ratio = study.best_params['l1_ratio']\n",
    "topK = study.best_params['topK']"
   ],
   "metadata": {
    "collapsed": false
   }
  },
  {
   "cell_type": "code",
   "execution_count": 13,
   "outputs": [
    {
     "data": {
      "text/plain": "0.024538291519953584"
     },
     "execution_count": 13,
     "metadata": {},
     "output_type": "execute_result"
    }
   ],
   "source": [
    "alpha"
   ],
   "metadata": {
    "collapsed": false
   }
  },
  {
   "cell_type": "code",
   "execution_count": 14,
   "outputs": [
    {
     "data": {
      "text/plain": "0.036287650949949526"
     },
     "execution_count": 14,
     "metadata": {},
     "output_type": "execute_result"
    }
   ],
   "source": [
    "l1_ratio"
   ],
   "metadata": {
    "collapsed": false
   }
  },
  {
   "cell_type": "code",
   "execution_count": 15,
   "outputs": [
    {
     "data": {
      "text/plain": "373.26486191259335"
     },
     "execution_count": 15,
     "metadata": {},
     "output_type": "execute_result"
    }
   ],
   "source": [
    "topK"
   ],
   "metadata": {
    "collapsed": false
   }
  },
  {
   "cell_type": "code",
   "execution_count": 16,
   "outputs": [
    {
     "name": "stderr",
     "output_type": "stream",
     "text": [
      "100%|█████████▉| 24504/24507 [03:15<00:00, 125.53it/s]\n"
     ]
    },
    {
     "name": "stdout",
     "output_type": "stream",
     "text": [
      "EvaluatorHoldout: Processed 40916 (100.0%) in 21.49 sec. Users per second: 1904\n"
     ]
    }
   ],
   "source": [
    "recommender.fit(alpha=alpha, l1_ratio=l1_ratio, topK=int(topK))\n",
    "\n",
    "result_dict, _ = evaluator_validation.evaluateRecommender(recommender)"
   ],
   "metadata": {
    "collapsed": false
   }
  },
  {
   "cell_type": "code",
   "execution_count": 48,
   "outputs": [],
   "source": [
    "import json\n",
    "\n",
    "resultParameters = result_dict.to_json(orient=\"records\")\n",
    "parsed = json.loads(resultParameters)\n",
    "\n",
    "with open(\"logs/\" + recommender.RECOMMENDER_NAME + \"_logs.json\", 'w') as json_file:\n",
    "    json.dump(study.best_params, json_file, indent=4)\n",
    "    json.dump(parsed, json_file, indent=4)"
   ],
   "metadata": {
    "collapsed": false
   }
  },
  {
   "cell_type": "code",
   "execution_count": 24,
   "outputs": [
    {
     "data": {
      "text/plain": "0.02116256670654663"
     },
     "execution_count": 24,
     "metadata": {},
     "output_type": "execute_result"
    }
   ],
   "source": [
    "result_dict.iloc[0]['MAP']"
   ],
   "metadata": {
    "collapsed": false
   }
  },
  {
   "cell_type": "markdown",
   "source": [
    "## Course To Fine"
   ],
   "metadata": {
    "collapsed": false
   }
  },
  {
   "cell_type": "code",
   "execution_count": null,
   "outputs": [],
   "source": [
    "grid_size = 100\n",
    "TUNE_ITER = 10\n",
    "num_epochs = 2\n",
    "worse_score = 0\n",
    "\n",
    "init_param_grid = {'l1_ratio': [i for i in range(0, 1)],\n",
    "                   'topK': [i for i in range(10, 500)]\n",
    "                  }\n",
    "\n",
    "new_param_grid = init_param_grid.copy()\n",
    "best_params_dict = {'score':worse_score,'params':[]}\n",
    "tried_params_list = []\n",
    "\n",
    "for epoch in range(num_epochs):\n",
    "\n",
    "    # List of sampled hyperparameter combinations will be used for random search\n",
    "    param_list = list(ParameterSampler(new_param_grid, n_iter=TUNE_ITER,random_state=0))\n",
    "\n",
    "    # Searching the Best Parameters with Random Search\n",
    "    rs_results_dict = {}\n",
    "    for tune_iter in range(TUNE_ITER):\n",
    "        # Get the set of parameter for this iteration\n",
    "        strategy_params = param_list[tune_iter]\n",
    "\n",
    "        recommender = MultiThreadSLIM_SLIMElasticNetRecommender(URM_train)\n",
    "        recommender.fit(alpha=0.0001, l1_ratio=strategy_params['l1_ratio'], topK=strategy_params['topK'])\n",
    "        results, _ = evaluator_validation.evaluateRecommender(recommender)\n",
    "        results = results.loc[10]['MAP']\n",
    "\n",
    "        rs_results_dict[tuple(strategy_params.values())] = {'score':results}\n",
    "\n",
    "        if results > best_params_dict['score']:\n",
    "            best_params_dict['score'] = results\n",
    "            best_params_dict['params'] = list(strategy_params.values())\n",
    "\n",
    "    # Save the results in dataframe and sort it based on score\n",
    "    df_rs_results = pd.DataFrame(rs_results_dict).T.reset_index()\n",
    "    df_rs_results.columns = list(strategy_params.keys()) + ['score']\n",
    "    df_rs_results = df_rs_results.sort_values(['score'],ascending=False).head(num_epochs-epoch)\n",
    "\n",
    "    # If the best score from this epoch is worse than the best score,\n",
    "    # then append the best hyperaparameters combination to this epoch dataframe\n",
    "    if df_rs_results['score'].iloc[0] < best_params_dict['score']:\n",
    "        new_row_dict = {}\n",
    "        new_row_dict['score'] = best_params_dict['score']\n",
    "        for idx, key in enumerate(init_param_grid):\n",
    "            new_row_dict[key] = best_params_dict['params'][idx]\n",
    "\n",
    "        df_rs_results = df_rs_results.append(new_row_dict,ignore_index=True)\n",
    "        df_rs_results = df_rs_results.sort_values(['score'],ascending=False).head(num_epochs-epoch)\n",
    "\n",
    "    display(df_rs_results)\n",
    "    print(df_rs_results.head(1).T.to_dict())\n",
    "\n",
    "    # Get the worse and best hyperparameter combinations\n",
    "    df_rs_results_min = df_rs_results[df_rs_results['score']>worse_score].min(axis=0)\n",
    "    df_rs_results_max = df_rs_results[df_rs_results['score']>worse_score].max(axis=0)\n",
    "\n",
    "    # Generate new hyperparameter space based on current worse and best hyperparameter combinations\n",
    "    for key in init_param_grid:\n",
    "        if isinstance(init_param_grid[key][0],int):\n",
    "            new_param_grid[key] = np.unique([i for i in range(int(df_rs_results_min[key]), int(df_rs_results_max[key])+1)])\n",
    "        elif isinstance(init_param_grid[key][0],float):\n",
    "            new_param_grid[key] = np.unique(np.linspace(df_rs_results_min[key], df_rs_results_max[key], grid_size))\n",
    "        else:\n",
    "            new_param_grid[key] = init_param_grid[key]\n",
    "\n",
    "    # Decrease the tuning iteration for random search\n",
    "    TUNE_ITER = int(TUNE_ITER - epoch * TUNE_ITER/num_epochs)"
   ],
   "metadata": {
    "collapsed": false
   }
  },
  {
   "cell_type": "code",
   "execution_count": null,
   "outputs": [],
   "source": [
    "best_params_dict"
   ],
   "metadata": {
    "collapsed": false
   }
  }
 ],
 "metadata": {
  "kernelspec": {
   "display_name": "Python 3",
   "language": "python",
   "name": "python3"
  },
  "language_info": {
   "codemirror_mode": {
    "name": "ipython",
    "version": 2
   },
   "file_extension": ".py",
   "mimetype": "text/x-python",
   "name": "python",
   "nbconvert_exporter": "python",
   "pygments_lexer": "ipython2",
   "version": "2.7.6"
  }
 },
 "nbformat": 4,
 "nbformat_minor": 0
}
