{
 "cells": [
  {
   "cell_type": "code",
   "execution_count": 29,
   "metadata": {
    "collapsed": true
   },
   "outputs": [
    {
     "name": "stdout",
     "output_type": "stream",
     "text": [
      "The Cython extension is already loaded. To reload it, use:\n",
      "  %reload_ext Cython\n"
     ]
    }
   ],
   "source": [
    "%load_ext Cython"
   ]
  },
  {
   "cell_type": "code",
   "execution_count": 30,
   "outputs": [],
   "source": [
    "from Utils.recsys2022DataReader import createBumpURM\n",
    "from Utils.recsys2022DataReader import createSmallICM\n",
    "from Data_manager.split_functions.split_train_validation_random_holdout import split_train_in_two_percentage_global_sample\n",
    "from Evaluation.Evaluator import EvaluatorHoldout\n",
    "from Recommenders.Hybrid.MergedHybridRecommender import MergedHybridRecommender\n",
    "from optuna.samplers import TPESampler\n",
    "from Recommenders.KNN.ItemKNNCFRecommender import ItemKNNCFRecommender\n",
    "from Recommenders.KNN.ItemKNNCBFRecommender import ItemKNNCBFRecommender\n",
    "import optuna as op"
   ],
   "metadata": {
    "collapsed": false
   }
  },
  {
   "cell_type": "code",
   "execution_count": 31,
   "outputs": [
    {
     "name": "stderr",
     "output_type": "stream",
     "text": [
      "C:\\Users\\Mike\\PycharmProjects\\recsys-challenge-2022-Pancini-Vitali\\Utils\\recsys2022DataReader.py:16: DtypeWarning: Columns (2) have mixed types. Specify dtype option on import or set low_memory=False.\n",
      "  dataset = pd.read_csv(urmPath)\n"
     ]
    }
   ],
   "source": [
    "URM = createBumpURM()\n",
    "ICM = createSmallICM()"
   ],
   "metadata": {
    "collapsed": false
   }
  },
  {
   "cell_type": "code",
   "execution_count": 32,
   "outputs": [
    {
     "name": "stdout",
     "output_type": "stream",
     "text": [
      "Warning: 872 (2.09 %) of 41629 users have no sampled items\n",
      "Warning: 1555 (3.74 %) of 41629 users have no sampled items\n",
      "EvaluatorHoldout: Ignoring 872 ( 2.1%) Users that have less than 1 test interactions\n",
      "EvaluatorHoldout: Ignoring 1555 ( 3.7%) Users that have less than 1 test interactions\n"
     ]
    }
   ],
   "source": [
    "URM_train, URM_test = split_train_in_two_percentage_global_sample(URM, 0.85)\n",
    "URM_train, URM_validation = split_train_in_two_percentage_global_sample(URM_train, 0.85)\n",
    "evaluator_test = EvaluatorHoldout(URM_test, cutoff_list=[10])\n",
    "evaluator_validation = EvaluatorHoldout(URM_validation, cutoff_list=[10])"
   ],
   "metadata": {
    "collapsed": false
   }
  },
  {
   "cell_type": "code",
   "execution_count": null,
   "outputs": [],
   "source": [
    "ItemKNNCF_recommender = ItemKNNCFRecommender(URM_train)\n",
    "ItemKNNCBF_recommender = ItemKNNCBFRecommender(URM_train, ICM)"
   ],
   "metadata": {
    "collapsed": false
   }
  },
  {
   "cell_type": "code",
   "execution_count": null,
   "outputs": [],
   "source": [
    "def objective(trial):\n",
    "\n",
    "    topKCF = trial.suggest_int(\"topKCF\", 300, 400)\n",
    "    shrinkCF = trial.suggest_float(\"shrinkCF\", 10, 100)\n",
    "    topKCBF = trial.suggest_int(\"topKCBF\", 300, 400)\n",
    "    shrinkCBF = trial.suggest_float(\"shrinkCBF\", 10, 100)\n",
    "    alpha = trial.suggest_float(\"alpha\", 0.1, 0.9)\n",
    "\n",
    "    ItemKNNCF_recommender.fit(topK=topKCF, shrink=shrinkCF)\n",
    "    ItemKNNCBF_recommender.fit(topK=topKCBF, shrink=shrinkCBF)\n",
    "\n",
    "    recommender = MergedHybridRecommender(URM_train, recommender1=ItemKNNCF_recommender, recommender2=ItemKNNCBF_recommender, verbose=False)\n",
    "    recommender.fit(alpha=alpha)\n",
    "\n",
    "    result, _ = evaluator_validation.evaluateRecommender(recommender)\n",
    "\n",
    "    return result.loc[10]['MAP']"
   ],
   "metadata": {
    "collapsed": false
   }
  },
  {
   "cell_type": "code",
   "execution_count": 33,
   "outputs": [
    {
     "name": "stdout",
     "output_type": "stream",
     "text": [
      "ItemKNNCBFRecommender: ICM Detected 4877 (19.9%) items with no features.\n",
      "Similarity column 24507 (100.0%), 6543.54 column/sec. Elapsed time 3.75 sec\n",
      "Compute_Similarity: detected dense matrix\n",
      "Similarity column 24507 (100.0%), 2214.74 column/sec. Elapsed time 11.07 sec\n"
     ]
    }
   ],
   "source": [
    "study = op.create_study(direction='maximize', sampler=TPESampler(multivariate=True))\n",
    "study.optimize(objective, n_trials=10)"
   ],
   "metadata": {
    "collapsed": false
   }
  },
  {
   "cell_type": "code",
   "execution_count": null,
   "outputs": [],
   "source": [
    "ItemKNNCF_recommender.fit(topK=study.best_params['topKCF'], shrink=study.best_params['shrinkCF'])\n",
    "ItemKNNCBF_recommender.fit(topK=study.best_params['topKCBF'], shrink=study.best_params['shrinkCBF'])\n",
    "\n",
    "recommender = MergedHybridRecommender(URM_train, recommender1=ItemKNNCF_recommender, recommender2=ItemKNNCBF_recommender, verbose=False)\n",
    "recommender.fit(alpha=study.best_params['alpha'])"
   ],
   "metadata": {
    "collapsed": false
   }
  },
  {
   "cell_type": "code",
   "execution_count": 34,
   "outputs": [
    {
     "name": "stdout",
     "output_type": "stream",
     "text": [
      "EvaluatorHoldout: Processed 40757 (100.0%) in 41.05 sec. Users per second: 993\n"
     ]
    },
    {
     "data": {
      "text/plain": "       PRECISION PRECISION_RECALL_MIN_DEN    RECALL       MAP MAP_MIN_DEN  \\\ncutoff                                                                      \n10      0.042596                 0.071097  0.066523  0.019802    0.032684   \n\n             MRR      NDCG        F1  HIT_RATE ARHR_ALL_HITS  ...  \\\ncutoff                                                        ...   \n10      0.140396  0.072498  0.051936  0.298893      0.165825  ...   \n\n       COVERAGE_USER COVERAGE_USER_HIT USERS_IN_GT DIVERSITY_GINI  \\\ncutoff                                                              \n10          0.979053          0.292633    0.979053       0.058722   \n\n       SHANNON_ENTROPY RATIO_DIVERSITY_HERFINDAHL RATIO_DIVERSITY_GINI  \\\ncutoff                                                                   \n10            9.197093                   0.992407             0.116006   \n\n       RATIO_SHANNON_ENTROPY RATIO_AVERAGE_POPULARITY RATIO_NOVELTY  \ncutoff                                                               \n10                  0.681632                 4.009202      0.298335  \n\n[1 rows x 27 columns]",
      "text/html": "<div>\n<style scoped>\n    .dataframe tbody tr th:only-of-type {\n        vertical-align: middle;\n    }\n\n    .dataframe tbody tr th {\n        vertical-align: top;\n    }\n\n    .dataframe thead th {\n        text-align: right;\n    }\n</style>\n<table border=\"1\" class=\"dataframe\">\n  <thead>\n    <tr style=\"text-align: right;\">\n      <th></th>\n      <th>PRECISION</th>\n      <th>PRECISION_RECALL_MIN_DEN</th>\n      <th>RECALL</th>\n      <th>MAP</th>\n      <th>MAP_MIN_DEN</th>\n      <th>MRR</th>\n      <th>NDCG</th>\n      <th>F1</th>\n      <th>HIT_RATE</th>\n      <th>ARHR_ALL_HITS</th>\n      <th>...</th>\n      <th>COVERAGE_USER</th>\n      <th>COVERAGE_USER_HIT</th>\n      <th>USERS_IN_GT</th>\n      <th>DIVERSITY_GINI</th>\n      <th>SHANNON_ENTROPY</th>\n      <th>RATIO_DIVERSITY_HERFINDAHL</th>\n      <th>RATIO_DIVERSITY_GINI</th>\n      <th>RATIO_SHANNON_ENTROPY</th>\n      <th>RATIO_AVERAGE_POPULARITY</th>\n      <th>RATIO_NOVELTY</th>\n    </tr>\n    <tr>\n      <th>cutoff</th>\n      <th></th>\n      <th></th>\n      <th></th>\n      <th></th>\n      <th></th>\n      <th></th>\n      <th></th>\n      <th></th>\n      <th></th>\n      <th></th>\n      <th></th>\n      <th></th>\n      <th></th>\n      <th></th>\n      <th></th>\n      <th></th>\n      <th></th>\n      <th></th>\n      <th></th>\n      <th></th>\n      <th></th>\n    </tr>\n  </thead>\n  <tbody>\n    <tr>\n      <th>10</th>\n      <td>0.042596</td>\n      <td>0.071097</td>\n      <td>0.066523</td>\n      <td>0.019802</td>\n      <td>0.032684</td>\n      <td>0.140396</td>\n      <td>0.072498</td>\n      <td>0.051936</td>\n      <td>0.298893</td>\n      <td>0.165825</td>\n      <td>...</td>\n      <td>0.979053</td>\n      <td>0.292633</td>\n      <td>0.979053</td>\n      <td>0.058722</td>\n      <td>9.197093</td>\n      <td>0.992407</td>\n      <td>0.116006</td>\n      <td>0.681632</td>\n      <td>4.009202</td>\n      <td>0.298335</td>\n    </tr>\n  </tbody>\n</table>\n<p>1 rows × 27 columns</p>\n</div>"
     },
     "execution_count": 34,
     "metadata": {},
     "output_type": "execute_result"
    }
   ],
   "source": [
    "result, _ = evaluator_test.evaluateRecommender(recommender)\n",
    "result"
   ],
   "metadata": {
    "collapsed": false
   }
  },
  {
   "cell_type": "code",
   "execution_count": 34,
   "outputs": [],
   "source": [],
   "metadata": {
    "collapsed": false
   }
  }
 ],
 "metadata": {
  "kernelspec": {
   "display_name": "Python 3",
   "language": "python",
   "name": "python3"
  },
  "language_info": {
   "codemirror_mode": {
    "name": "ipython",
    "version": 2
   },
   "file_extension": ".py",
   "mimetype": "text/x-python",
   "name": "python",
   "nbconvert_exporter": "python",
   "pygments_lexer": "ipython2",
   "version": "2.7.6"
  }
 },
 "nbformat": 4,
 "nbformat_minor": 0
}
