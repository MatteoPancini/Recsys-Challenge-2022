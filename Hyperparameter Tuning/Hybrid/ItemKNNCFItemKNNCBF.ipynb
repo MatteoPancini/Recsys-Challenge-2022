{
 "cells": [
  {
   "cell_type": "code",
   "execution_count": 35,
   "metadata": {
    "collapsed": true
   },
   "outputs": [
    {
     "name": "stdout",
     "output_type": "stream",
     "text": [
      "The Cython extension is already loaded. To reload it, use:\n",
      "  %reload_ext Cython\n"
     ]
    }
   ],
   "source": [
    "%load_ext Cython"
   ]
  },
  {
   "cell_type": "code",
   "execution_count": 36,
   "outputs": [],
   "source": [
    "from Utils.recsys2022DataReader import createBumpURM\n",
    "from Utils.recsys2022DataReader import createSmallICM\n",
    "from Data_manager.split_functions.split_train_validation_random_holdout import split_train_in_two_percentage_global_sample\n",
    "from Evaluation.Evaluator import EvaluatorHoldout\n",
    "from Recommenders.Hybrid.MergedHybridRecommender import MergedHybridRecommender\n",
    "from optuna.samplers import TPESampler\n",
    "from Recommenders.KNN.ItemKNNCFRecommender import ItemKNNCFRecommender\n",
    "from Recommenders.KNN.ItemKNNCBFRecommender import ItemKNNCBFRecommender\n",
    "import optuna as op"
   ],
   "metadata": {
    "collapsed": false
   }
  },
  {
   "cell_type": "code",
   "execution_count": 37,
   "outputs": [
    {
     "name": "stderr",
     "output_type": "stream",
     "text": [
      "C:\\Users\\Mike\\PycharmProjects\\recsys-challenge-2022-Pancini-Vitali\\Utils\\recsys2022DataReader.py:16: DtypeWarning: Columns (2) have mixed types. Specify dtype option on import or set low_memory=False.\n",
      "  dataset = pd.read_csv(urmPath)\n"
     ]
    }
   ],
   "source": [
    "URM = createBumpURM()\n",
    "ICM = createSmallICM()"
   ],
   "metadata": {
    "collapsed": false
   }
  },
  {
   "cell_type": "code",
   "execution_count": 38,
   "outputs": [
    {
     "name": "stdout",
     "output_type": "stream",
     "text": [
      "Warning: 952 (2.29 %) of 41629 users have no sampled items\n",
      "Warning: 1501 (3.61 %) of 41629 users have no sampled items\n",
      "EvaluatorHoldout: Ignoring 952 ( 2.3%) Users that have less than 1 test interactions\n",
      "EvaluatorHoldout: Ignoring 1501 ( 3.6%) Users that have less than 1 test interactions\n"
     ]
    }
   ],
   "source": [
    "URM_train, URM_test = split_train_in_two_percentage_global_sample(URM, 0.85)\n",
    "URM_train, URM_validation = split_train_in_two_percentage_global_sample(URM_train, 0.85)\n",
    "evaluator_test = EvaluatorHoldout(URM_test, cutoff_list=[10])\n",
    "evaluator_validation = EvaluatorHoldout(URM_validation, cutoff_list=[10])"
   ],
   "metadata": {
    "collapsed": false
   }
  },
  {
   "cell_type": "code",
   "execution_count": 39,
   "outputs": [
    {
     "name": "stdout",
     "output_type": "stream",
     "text": [
      "ItemKNNCBFRecommender: ICM Detected 4877 (19.9%) items with no features.\n"
     ]
    }
   ],
   "source": [
    "ItemKNNCF_recommender = ItemKNNCFRecommender(URM_train)\n",
    "ItemKNNCBF_recommender = ItemKNNCBFRecommender(URM_train, ICM)"
   ],
   "metadata": {
    "collapsed": false
   }
  },
  {
   "cell_type": "code",
   "execution_count": 40,
   "outputs": [],
   "source": [
    "def objective(trial):\n",
    "\n",
    "    topKCF = trial.suggest_int(\"topKCF\", 300, 400)\n",
    "    shrinkCF = trial.suggest_float(\"shrinkCF\", 10, 100)\n",
    "    topKCBF = trial.suggest_int(\"topKCBF\", 300, 400)\n",
    "    shrinkCBF = trial.suggest_float(\"shrinkCBF\", 10, 100)\n",
    "    alpha = trial.suggest_float(\"alpha\", 0.1, 0.9)\n",
    "\n",
    "    ItemKNNCF_recommender.fit(topK=topKCF, shrink=shrinkCF)\n",
    "    ItemKNNCBF_recommender.fit(topK=topKCBF, shrink=shrinkCBF)\n",
    "\n",
    "    recommender = MergedHybridRecommender(URM_train, recommender1=ItemKNNCF_recommender, recommender2=ItemKNNCBF_recommender, verbose=False)\n",
    "    recommender.fit(alpha=alpha)\n",
    "\n",
    "    result, _ = evaluator_validation.evaluateRecommender(recommender)\n",
    "\n",
    "    return result.loc[10]['MAP']"
   ],
   "metadata": {
    "collapsed": false
   }
  },
  {
   "cell_type": "code",
   "execution_count": 41,
   "outputs": [
    {
     "name": "stderr",
     "output_type": "stream",
     "text": [
      "C:\\Users\\Mike\\anaconda3\\envs\\recsys\\lib\\site-packages\\optuna\\samplers\\_tpe\\sampler.py:263: ExperimentalWarning: ``multivariate`` option is an experimental feature. The interface can change in the future.\n",
      "  warnings.warn(\n",
      "\u001B[32m[I 2022-11-11 15:03:37,139]\u001B[0m A new study created in memory with name: no-name-bcf0ed3d-8833-45bd-8bc8-28ba15cd11b7\u001B[0m\n"
     ]
    },
    {
     "name": "stdout",
     "output_type": "stream",
     "text": [
      "Similarity column 24507 (100.0%), 6582.15 column/sec. Elapsed time 3.72 sec\n",
      "Compute_Similarity: detected dense matrix\n",
      "Similarity column 24507 (100.0%), 1654.73 column/sec. Elapsed time 14.81 sec\n",
      "EvaluatorHoldout: Processed 40128 (100.0%) in 41.33 sec. Users per second: 971\n"
     ]
    },
    {
     "name": "stderr",
     "output_type": "stream",
     "text": [
      "\u001B[32m[I 2022-11-11 15:04:37,528]\u001B[0m Trial 0 finished with value: 0.013244140575555455 and parameters: {'topKCF': 367, 'shrinkCF': 34.9206687128155, 'topKCBF': 358, 'shrinkCBF': 84.22327444074578, 'alpha': 0.20881971158487833}. Best is trial 0 with value: 0.013244140575555455.\u001B[0m\n"
     ]
    },
    {
     "name": "stdout",
     "output_type": "stream",
     "text": [
      "Similarity column 24507 (100.0%), 6629.22 column/sec. Elapsed time 3.70 sec\n",
      "Compute_Similarity: detected dense matrix\n",
      "Similarity column 24507 (100.0%), 1461.99 column/sec. Elapsed time 16.76 sec\n",
      "EvaluatorHoldout: Processed 40128 (100.0%) in 41.93 sec. Users per second: 957\n"
     ]
    },
    {
     "name": "stderr",
     "output_type": "stream",
     "text": [
      "\u001B[32m[I 2022-11-11 15:05:40,405]\u001B[0m Trial 1 finished with value: 0.011769793011569723 and parameters: {'topKCF': 302, 'shrinkCF': 71.59387529364699, 'topKCBF': 308, 'shrinkCBF': 56.39277025166837, 'alpha': 0.1991968664447339}. Best is trial 0 with value: 0.013244140575555455.\u001B[0m\n"
     ]
    },
    {
     "name": "stdout",
     "output_type": "stream",
     "text": [
      "Similarity column 24507 (100.0%), 6292.61 column/sec. Elapsed time 3.89 sec\n",
      "Compute_Similarity: detected dense matrix\n",
      "Similarity column 24507 (100.0%), 1684.32 column/sec. Elapsed time 14.55 sec\n",
      "EvaluatorHoldout: Processed 40128 (100.0%) in 41.61 sec. Users per second: 964\n"
     ]
    },
    {
     "name": "stderr",
     "output_type": "stream",
     "text": [
      "\u001B[32m[I 2022-11-11 15:06:41,016]\u001B[0m Trial 2 finished with value: 0.016277059243753264 and parameters: {'topKCF': 377, 'shrinkCF': 40.377364697335295, 'topKCBF': 312, 'shrinkCBF': 38.51808781846103, 'alpha': 0.7094805008290165}. Best is trial 2 with value: 0.016277059243753264.\u001B[0m\n"
     ]
    },
    {
     "name": "stdout",
     "output_type": "stream",
     "text": [
      "Similarity column 24507 (100.0%), 6423.81 column/sec. Elapsed time 3.82 sec\n",
      "Compute_Similarity: detected dense matrix\n",
      "Similarity column 24507 (100.0%), 1641.35 column/sec. Elapsed time 14.93 sec\n",
      "EvaluatorHoldout: Processed 40128 (100.0%) in 41.00 sec. Users per second: 979\n"
     ]
    },
    {
     "name": "stderr",
     "output_type": "stream",
     "text": [
      "\u001B[32m[I 2022-11-11 15:07:41,215]\u001B[0m Trial 3 finished with value: 0.010606117962203811 and parameters: {'topKCF': 303, 'shrinkCF': 19.877814417693102, 'topKCBF': 329, 'shrinkCBF': 56.74889223449642, 'alpha': 0.16787776757860506}. Best is trial 2 with value: 0.016277059243753264.\u001B[0m\n"
     ]
    },
    {
     "name": "stdout",
     "output_type": "stream",
     "text": [
      "Similarity column 24507 (100.0%), 5869.70 column/sec. Elapsed time 4.18 sec\n",
      "Compute_Similarity: detected dense matrix\n",
      "Similarity column 24507 (100.0%), 1493.29 column/sec. Elapsed time 16.41 sec\n",
      "EvaluatorHoldout: Processed 40128 (100.0%) in 47.98 sec. Users per second: 836\n"
     ]
    },
    {
     "name": "stderr",
     "output_type": "stream",
     "text": [
      "\u001B[32m[I 2022-11-11 15:08:50,520]\u001B[0m Trial 4 finished with value: 0.015071260063036497 and parameters: {'topKCF': 399, 'shrinkCF': 89.32174106724905, 'topKCBF': 372, 'shrinkCBF': 18.478883219380386, 'alpha': 0.7353870934988879}. Best is trial 2 with value: 0.016277059243753264.\u001B[0m\n"
     ]
    },
    {
     "name": "stdout",
     "output_type": "stream",
     "text": [
      "Similarity column 24507 (100.0%), 6391.28 column/sec. Elapsed time 3.83 sec\n",
      "Compute_Similarity: detected dense matrix\n",
      "Similarity column 24507 (100.0%), 1674.53 column/sec. Elapsed time 14.64 sec\n",
      "EvaluatorHoldout: Processed 40128 (100.0%) in 41.74 sec. Users per second: 961\n"
     ]
    },
    {
     "name": "stderr",
     "output_type": "stream",
     "text": [
      "\u001B[32m[I 2022-11-11 15:09:51,270]\u001B[0m Trial 5 finished with value: 0.0160836078516999 and parameters: {'topKCF': 367, 'shrinkCF': 24.028543040276652, 'topKCBF': 327, 'shrinkCBF': 91.17681209305309, 'alpha': 0.6672676969935278}. Best is trial 2 with value: 0.016277059243753264.\u001B[0m\n"
     ]
    },
    {
     "name": "stdout",
     "output_type": "stream",
     "text": [
      "Similarity column 24507 (100.0%), 6359.99 column/sec. Elapsed time 3.85 sec\n",
      "Compute_Similarity: detected dense matrix\n",
      "Similarity column 24507 (100.0%), 1532.26 column/sec. Elapsed time 15.99 sec\n",
      "EvaluatorHoldout: Processed 40128 (100.0%) in 43.63 sec. Users per second: 920\n"
     ]
    },
    {
     "name": "stderr",
     "output_type": "stream",
     "text": [
      "\u001B[32m[I 2022-11-11 15:10:55,328]\u001B[0m Trial 6 finished with value: 0.01666525056327677 and parameters: {'topKCF': 387, 'shrinkCF': 35.81683094198013, 'topKCBF': 379, 'shrinkCBF': 37.155391906958805, 'alpha': 0.8624046273352842}. Best is trial 6 with value: 0.01666525056327677.\u001B[0m\n"
     ]
    },
    {
     "name": "stdout",
     "output_type": "stream",
     "text": [
      "Similarity column 24507 (100.0%), 6381.64 column/sec. Elapsed time 3.84 sec\n",
      "Compute_Similarity: detected dense matrix\n",
      "Similarity column 24507 (100.0%), 1584.19 column/sec. Elapsed time 15.47 sec\n",
      "EvaluatorHoldout: Processed 40128 (100.0%) in 42.06 sec. Users per second: 954\n"
     ]
    },
    {
     "name": "stderr",
     "output_type": "stream",
     "text": [
      "\u001B[32m[I 2022-11-11 15:11:57,251]\u001B[0m Trial 7 finished with value: 0.004331877080643508 and parameters: {'topKCF': 346, 'shrinkCF': 40.67170264271434, 'topKCBF': 358, 'shrinkCBF': 11.946537187460892, 'alpha': 0.337648222297975}. Best is trial 6 with value: 0.01666525056327677.\u001B[0m\n"
     ]
    },
    {
     "name": "stdout",
     "output_type": "stream",
     "text": [
      "Similarity column 24507 (100.0%), 6226.58 column/sec. Elapsed time 3.94 sec\n",
      "Compute_Similarity: detected dense matrix\n",
      "Similarity column 24507 (100.0%), 1388.63 column/sec. Elapsed time 17.65 sec\n",
      "EvaluatorHoldout: Processed 40128 (100.0%) in 47.68 sec. Users per second: 842\n"
     ]
    },
    {
     "name": "stderr",
     "output_type": "stream",
     "text": [
      "\u001B[32m[I 2022-11-11 15:13:07,118]\u001B[0m Trial 8 finished with value: 0.006688281032442274 and parameters: {'topKCF': 376, 'shrinkCF': 54.67130509139248, 'topKCBF': 351, 'shrinkCBF': 11.766957412003926, 'alpha': 0.46287735178468814}. Best is trial 6 with value: 0.01666525056327677.\u001B[0m\n"
     ]
    },
    {
     "name": "stdout",
     "output_type": "stream",
     "text": [
      "Similarity column 24507 (100.0%), 6223.76 column/sec. Elapsed time 3.94 sec\n",
      "Compute_Similarity: detected dense matrix\n",
      "Similarity column 24507 (100.0%), 1182.66 column/sec. Elapsed time 20.72 sec\n",
      "EvaluatorHoldout: Processed 40128 (100.0%) in 47.90 sec. Users per second: 838\n"
     ]
    },
    {
     "name": "stderr",
     "output_type": "stream",
     "text": [
      "\u001B[32m[I 2022-11-11 15:14:20,344]\u001B[0m Trial 9 finished with value: 0.010781561503190087 and parameters: {'topKCF': 358, 'shrinkCF': 18.690411137466956, 'topKCBF': 383, 'shrinkCBF': 12.141412765331012, 'alpha': 0.625463301747489}. Best is trial 6 with value: 0.01666525056327677.\u001B[0m\n"
     ]
    }
   ],
   "source": [
    "study = op.create_study(direction='maximize', sampler=TPESampler(multivariate=True))\n",
    "study.optimize(objective, n_trials=10)"
   ],
   "metadata": {
    "collapsed": false
   }
  },
  {
   "cell_type": "code",
   "execution_count": 42,
   "outputs": [
    {
     "name": "stdout",
     "output_type": "stream",
     "text": [
      "Similarity column 24507 (100.0%), 6265.55 column/sec. Elapsed time 3.91 sec\n",
      "Compute_Similarity: detected dense matrix\n",
      "Similarity column 24507 (100.0%), 1553.55 column/sec. Elapsed time 15.77 sec\n"
     ]
    }
   ],
   "source": [
    "ItemKNNCF_recommender.fit(topK=study.best_params['topKCF'], shrink=study.best_params['shrinkCF'])\n",
    "ItemKNNCBF_recommender.fit(topK=study.best_params['topKCBF'], shrink=study.best_params['shrinkCBF'])\n",
    "\n",
    "recommender = MergedHybridRecommender(URM_train, recommender1=ItemKNNCF_recommender, recommender2=ItemKNNCBF_recommender, verbose=False)\n",
    "recommender.fit(alpha=study.best_params['alpha'])"
   ],
   "metadata": {
    "collapsed": false
   }
  },
  {
   "cell_type": "code",
   "execution_count": 43,
   "outputs": [
    {
     "name": "stdout",
     "output_type": "stream",
     "text": [
      "EvaluatorHoldout: Processed 40677 (100.0%) in 44.77 sec. Users per second: 909\n"
     ]
    },
    {
     "data": {
      "text/plain": "       PRECISION PRECISION_RECALL_MIN_DEN    RECALL       MAP MAP_MIN_DEN  \\\ncutoff                                                                      \n10      0.041707                 0.069817  0.065284  0.019218    0.031946   \n\n             MRR      NDCG        F1  HIT_RATE ARHR_ALL_HITS  ...  \\\ncutoff                                                        ...   \n10      0.137631  0.071077  0.050898  0.294663      0.161713  ...   \n\n       COVERAGE_USER COVERAGE_USER_HIT USERS_IN_GT DIVERSITY_GINI  \\\ncutoff                                                              \n10          0.977131          0.287924    0.977131       0.069519   \n\n       SHANNON_ENTROPY RATIO_DIVERSITY_HERFINDAHL RATIO_DIVERSITY_GINI  \\\ncutoff                                                                   \n10             9.34443                   0.992565              0.13737   \n\n       RATIO_SHANNON_ENTROPY RATIO_AVERAGE_POPULARITY RATIO_NOVELTY  \ncutoff                                                               \n10                  0.692641                 3.949131      0.301382  \n\n[1 rows x 27 columns]",
      "text/html": "<div>\n<style scoped>\n    .dataframe tbody tr th:only-of-type {\n        vertical-align: middle;\n    }\n\n    .dataframe tbody tr th {\n        vertical-align: top;\n    }\n\n    .dataframe thead th {\n        text-align: right;\n    }\n</style>\n<table border=\"1\" class=\"dataframe\">\n  <thead>\n    <tr style=\"text-align: right;\">\n      <th></th>\n      <th>PRECISION</th>\n      <th>PRECISION_RECALL_MIN_DEN</th>\n      <th>RECALL</th>\n      <th>MAP</th>\n      <th>MAP_MIN_DEN</th>\n      <th>MRR</th>\n      <th>NDCG</th>\n      <th>F1</th>\n      <th>HIT_RATE</th>\n      <th>ARHR_ALL_HITS</th>\n      <th>...</th>\n      <th>COVERAGE_USER</th>\n      <th>COVERAGE_USER_HIT</th>\n      <th>USERS_IN_GT</th>\n      <th>DIVERSITY_GINI</th>\n      <th>SHANNON_ENTROPY</th>\n      <th>RATIO_DIVERSITY_HERFINDAHL</th>\n      <th>RATIO_DIVERSITY_GINI</th>\n      <th>RATIO_SHANNON_ENTROPY</th>\n      <th>RATIO_AVERAGE_POPULARITY</th>\n      <th>RATIO_NOVELTY</th>\n    </tr>\n    <tr>\n      <th>cutoff</th>\n      <th></th>\n      <th></th>\n      <th></th>\n      <th></th>\n      <th></th>\n      <th></th>\n      <th></th>\n      <th></th>\n      <th></th>\n      <th></th>\n      <th></th>\n      <th></th>\n      <th></th>\n      <th></th>\n      <th></th>\n      <th></th>\n      <th></th>\n      <th></th>\n      <th></th>\n      <th></th>\n      <th></th>\n    </tr>\n  </thead>\n  <tbody>\n    <tr>\n      <th>10</th>\n      <td>0.041707</td>\n      <td>0.069817</td>\n      <td>0.065284</td>\n      <td>0.019218</td>\n      <td>0.031946</td>\n      <td>0.137631</td>\n      <td>0.071077</td>\n      <td>0.050898</td>\n      <td>0.294663</td>\n      <td>0.161713</td>\n      <td>...</td>\n      <td>0.977131</td>\n      <td>0.287924</td>\n      <td>0.977131</td>\n      <td>0.069519</td>\n      <td>9.34443</td>\n      <td>0.992565</td>\n      <td>0.13737</td>\n      <td>0.692641</td>\n      <td>3.949131</td>\n      <td>0.301382</td>\n    </tr>\n  </tbody>\n</table>\n<p>1 rows × 27 columns</p>\n</div>"
     },
     "execution_count": 43,
     "metadata": {},
     "output_type": "execute_result"
    }
   ],
   "source": [
    "result, _ = evaluator_test.evaluateRecommender(recommender)\n",
    "result"
   ],
   "metadata": {
    "collapsed": false
   }
  },
  {
   "cell_type": "code",
   "execution_count": 43,
   "outputs": [],
   "source": [],
   "metadata": {
    "collapsed": false
   }
  }
 ],
 "metadata": {
  "kernelspec": {
   "display_name": "Python 3",
   "language": "python",
   "name": "python3"
  },
  "language_info": {
   "codemirror_mode": {
    "name": "ipython",
    "version": 2
   },
   "file_extension": ".py",
   "mimetype": "text/x-python",
   "name": "python",
   "nbconvert_exporter": "python",
   "pygments_lexer": "ipython2",
   "version": "2.7.6"
  }
 },
 "nbformat": 4,
 "nbformat_minor": 0
}
