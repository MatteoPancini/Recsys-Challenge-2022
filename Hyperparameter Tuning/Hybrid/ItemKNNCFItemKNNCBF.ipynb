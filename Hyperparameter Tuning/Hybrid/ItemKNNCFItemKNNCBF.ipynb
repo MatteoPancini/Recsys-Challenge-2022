{
 "cells": [
  {
   "cell_type": "code",
   "execution_count": 51,
   "metadata": {
    "collapsed": true
   },
   "outputs": [
    {
     "name": "stdout",
     "output_type": "stream",
     "text": [
      "The Cython extension is already loaded. To reload it, use:\n",
      "  %reload_ext Cython\n"
     ]
    }
   ],
   "source": [
    "%load_ext Cython"
   ]
  },
  {
   "cell_type": "code",
   "execution_count": 52,
   "outputs": [],
   "source": [
    "from Utils.recsys2022DataReader import createBumpURM\n",
    "from Utils.recsys2022DataReader import createSmallICM\n",
    "from Data_manager.split_functions.split_train_validation_random_holdout import split_train_in_two_percentage_global_sample\n",
    "from Evaluation.Evaluator import EvaluatorHoldout\n",
    "from Recommenders.Hybrid.LinearHybridRecommender import LinearHybridTwoRecommender\n",
    "from optuna.samplers import TPESampler\n",
    "from Recommenders.KNN.ItemKNNCFRecommender import ItemKNNCFRecommender\n",
    "from Recommenders.KNN.ItemKNNCBFRecommender import ItemKNNCBFRecommender\n",
    "import optuna as op"
   ],
   "metadata": {
    "collapsed": false
   }
  },
  {
   "cell_type": "code",
   "execution_count": 53,
   "outputs": [
    {
     "name": "stderr",
     "output_type": "stream",
     "text": [
      "C:\\Users\\Mike\\PycharmProjects\\recsys-challenge-2022-Pancini-Vitali\\Utils\\recsys2022DataReader.py:16: DtypeWarning: Columns (2) have mixed types. Specify dtype option on import or set low_memory=False.\n",
      "  dataset = pd.read_csv(urmPath)\n"
     ]
    }
   ],
   "source": [
    "URM = createBumpURM()\n",
    "ICM = createSmallICM()"
   ],
   "metadata": {
    "collapsed": false
   }
  },
  {
   "cell_type": "code",
   "execution_count": 54,
   "outputs": [
    {
     "name": "stdout",
     "output_type": "stream",
     "text": [
      "Warning: 918 (2.21 %) of 41629 users have no sampled items\n",
      "Warning: 1564 (3.76 %) of 41629 users have no sampled items\n",
      "EvaluatorHoldout: Ignoring 918 ( 2.2%) Users that have less than 1 test interactions\n",
      "EvaluatorHoldout: Ignoring 1564 ( 3.8%) Users that have less than 1 test interactions\n"
     ]
    }
   ],
   "source": [
    "URM_train, URM_test = split_train_in_two_percentage_global_sample(URM, 0.85)\n",
    "URM_train, URM_validation = split_train_in_two_percentage_global_sample(URM_train, 0.85)\n",
    "evaluator_test = EvaluatorHoldout(URM_test, cutoff_list=[10])\n",
    "evaluator_validation = EvaluatorHoldout(URM_validation, cutoff_list=[10])"
   ],
   "metadata": {
    "collapsed": false
   }
  },
  {
   "cell_type": "code",
   "execution_count": 55,
   "outputs": [
    {
     "name": "stdout",
     "output_type": "stream",
     "text": [
      "ItemKNNCBFRecommender: ICM Detected 4877 (19.9%) items with no features.\n"
     ]
    }
   ],
   "source": [
    "ItemKNNCF_recommender = ItemKNNCFRecommender(URM_train)\n",
    "ItemKNNCBF_recommender = ItemKNNCBFRecommender(URM_train, ICM)"
   ],
   "metadata": {
    "collapsed": false
   }
  },
  {
   "cell_type": "code",
   "execution_count": 58,
   "outputs": [],
   "source": [
    "def objective(trial):\n",
    "\n",
    "    topKCF = trial.suggest_int(\"topKCF\", 300, 400)\n",
    "    shrinkCF = trial.suggest_float(\"shrinkCF\", 10, 100)\n",
    "    topKCBF = trial.suggest_int(\"topKCBF\", 300, 400)\n",
    "    shrinkCBF = trial.suggest_float(\"shrinkCBF\", 10, 100)\n",
    "    alpha = trial.suggest_float(\"alpha\", 0.1, 0.9)\n",
    "\n",
    "    ItemKNNCF_recommender.fit(topK=topKCF, shrink=shrinkCF)\n",
    "    ItemKNNCBF_recommender.fit(topK=topKCBF, shrink=shrinkCBF)\n",
    "\n",
    "    recommender = LinearHybridTwoRecommender(URM_train, Recommender_1=ItemKNNCF_recommender, Recommender_2=ItemKNNCBF_recommender)\n",
    "    recommender.fit(alpha=alpha)\n",
    "\n",
    "    result, _ = evaluator_validation.evaluateRecommender(recommender)\n",
    "\n",
    "    return result.loc[10]['MAP']"
   ],
   "metadata": {
    "collapsed": false
   }
  },
  {
   "cell_type": "code",
   "execution_count": 59,
   "outputs": [
    {
     "name": "stderr",
     "output_type": "stream",
     "text": [
      "C:\\Users\\Mike\\anaconda3\\envs\\recsys\\lib\\site-packages\\optuna\\samplers\\_tpe\\sampler.py:263: ExperimentalWarning: ``multivariate`` option is an experimental feature. The interface can change in the future.\n",
      "  warnings.warn(\n",
      "\u001B[32m[I 2022-11-11 16:03:15,761]\u001B[0m A new study created in memory with name: no-name-99b2d761-9fea-45bd-99e1-bd36318b289e\u001B[0m\n"
     ]
    },
    {
     "name": "stdout",
     "output_type": "stream",
     "text": [
      "Similarity column 24507 (100.0%), 6114.82 column/sec. Elapsed time 4.01 sec\n",
      "Compute_Similarity: detected dense matrix\n",
      "Similarity column 24507 (100.0%), 1475.11 column/sec. Elapsed time 16.61 sec\n",
      "EvaluatorHoldout: Processed 40065 (100.0%) in 41.94 sec. Users per second: 955\n"
     ]
    },
    {
     "name": "stderr",
     "output_type": "stream",
     "text": [
      "\u001B[32m[I 2022-11-11 16:04:18,909]\u001B[0m Trial 0 finished with value: 0.016423049647497304 and parameters: {'topKCF': 354, 'shrinkCF': 84.5322249059575, 'topKCBF': 390, 'shrinkCBF': 80.88989157475186, 'alpha': 0.8508702365392337}. Best is trial 0 with value: 0.016423049647497304.\u001B[0m\n"
     ]
    }
   ],
   "source": [
    "study = op.create_study(direction='maximize', sampler=TPESampler(multivariate=True))\n",
    "study.optimize(objective, n_trials=1)"
   ],
   "metadata": {
    "collapsed": false
   }
  },
  {
   "cell_type": "code",
   "execution_count": null,
   "outputs": [],
   "source": [
    "ItemKNNCF_recommender.fit(topK=study.best_params['topKCF'], shrink=study.best_params['shrinkCF'])\n",
    "ItemKNNCBF_recommender.fit(topK=study.best_params['topKCBF'], shrink=study.best_params['shrinkCBF'])\n",
    "\n",
    "recommender = LinearHybridTwoRecommender(URM_train, Recommender_1=ItemKNNCF_recommender, Recommender_2=ItemKNNCBF_recommender, verbose=False)\n",
    "recommender.fit(alpha=study.best_params['alpha'])"
   ],
   "metadata": {
    "collapsed": false
   }
  },
  {
   "cell_type": "code",
   "execution_count": null,
   "outputs": [],
   "source": [
    "result, _ = evaluator_test.evaluateRecommender(recommender)\n",
    "result"
   ],
   "metadata": {
    "collapsed": false
   }
  },
  {
   "cell_type": "code",
   "execution_count": null,
   "outputs": [],
   "source": [],
   "metadata": {
    "collapsed": false
   }
  }
 ],
 "metadata": {
  "kernelspec": {
   "display_name": "Python 3",
   "language": "python",
   "name": "python3"
  },
  "language_info": {
   "codemirror_mode": {
    "name": "ipython",
    "version": 2
   },
   "file_extension": ".py",
   "mimetype": "text/x-python",
   "name": "python",
   "nbconvert_exporter": "python",
   "pygments_lexer": "ipython2",
   "version": "2.7.6"
  }
 },
 "nbformat": 4,
 "nbformat_minor": 0
}
