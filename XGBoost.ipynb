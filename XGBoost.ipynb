{
 "cells": [
  {
   "cell_type": "code",
   "execution_count": 3,
   "metadata": {
    "collapsed": true
   },
   "outputs": [],
   "source": [
    "import numpy as np\n",
    "import xgboost as xgb\n",
    "from sklearn import datasets\n",
    "from sklearn.model_selection import train_test_split\n",
    "from Utils.recsys2022DataReader import *"
   ]
  },
  {
   "cell_type": "code",
   "execution_count": 4,
   "outputs": [],
   "source": [
    "URM_init = load_BinURMTrainInit()\n",
    "URM_train = load_1K_BinURMTrain()[0]\n",
    "URM_validation = load_1K_BinURMValid()[0]\n",
    "URM_test = load_BinURMTest()"
   ],
   "metadata": {
    "collapsed": false
   }
  },
  {
   "cell_type": "code",
   "execution_count": 5,
   "outputs": [
    {
     "name": "stdout",
     "output_type": "stream",
     "text": [
      "RP3betaRecommender: Similarity column 24507 (100.0%), 4139.61 column/sec. Elapsed time 5.92 sec\n"
     ]
    }
   ],
   "source": [
    "from Recommenders.GraphBased.RP3betaRecommender import RP3betaRecommender\n",
    "\n",
    "candidate_generator_recommender = RP3betaRecommender(URM_train)\n",
    "candidate_generator_recommender.fit(topK=50, alpha=0.7179592867915304, beta=0.3290994149353332)"
   ],
   "metadata": {
    "collapsed": false
   }
  },
  {
   "cell_type": "markdown",
   "source": [
    "## Building dataframe"
   ],
   "metadata": {
    "collapsed": false
   }
  },
  {
   "cell_type": "code",
   "execution_count": 6,
   "outputs": [],
   "source": [
    "import pandas as pd\n",
    "from tqdm import tqdm\n",
    "import scipy.sparse as sps\n",
    "import numpy as np\n",
    "from xgboost import XGBRanker\n",
    "\n",
    "n_users, n_items = URM_train.shape\n",
    "\n",
    "training_dataframe = pd.DataFrame(index=range(0,n_users), columns = [\"ItemID\"])\n",
    "training_dataframe.index.name='UserID'"
   ],
   "metadata": {
    "collapsed": false
   }
  },
  {
   "cell_type": "code",
   "execution_count": 7,
   "outputs": [
    {
     "data": {
      "text/plain": "       ItemID\nUserID       \n0         NaN\n1         NaN\n2         NaN\n3         NaN\n4         NaN\n...       ...\n41624     NaN\n41625     NaN\n41626     NaN\n41627     NaN\n41628     NaN\n\n[41629 rows x 1 columns]",
      "text/html": "<div>\n<style scoped>\n    .dataframe tbody tr th:only-of-type {\n        vertical-align: middle;\n    }\n\n    .dataframe tbody tr th {\n        vertical-align: top;\n    }\n\n    .dataframe thead th {\n        text-align: right;\n    }\n</style>\n<table border=\"1\" class=\"dataframe\">\n  <thead>\n    <tr style=\"text-align: right;\">\n      <th></th>\n      <th>ItemID</th>\n    </tr>\n    <tr>\n      <th>UserID</th>\n      <th></th>\n    </tr>\n  </thead>\n  <tbody>\n    <tr>\n      <th>0</th>\n      <td>NaN</td>\n    </tr>\n    <tr>\n      <th>1</th>\n      <td>NaN</td>\n    </tr>\n    <tr>\n      <th>2</th>\n      <td>NaN</td>\n    </tr>\n    <tr>\n      <th>3</th>\n      <td>NaN</td>\n    </tr>\n    <tr>\n      <th>4</th>\n      <td>NaN</td>\n    </tr>\n    <tr>\n      <th>...</th>\n      <td>...</td>\n    </tr>\n    <tr>\n      <th>41624</th>\n      <td>NaN</td>\n    </tr>\n    <tr>\n      <th>41625</th>\n      <td>NaN</td>\n    </tr>\n    <tr>\n      <th>41626</th>\n      <td>NaN</td>\n    </tr>\n    <tr>\n      <th>41627</th>\n      <td>NaN</td>\n    </tr>\n    <tr>\n      <th>41628</th>\n      <td>NaN</td>\n    </tr>\n  </tbody>\n</table>\n<p>41629 rows × 1 columns</p>\n</div>"
     },
     "execution_count": 7,
     "metadata": {},
     "output_type": "execute_result"
    }
   ],
   "source": [
    "training_dataframe"
   ],
   "metadata": {
    "collapsed": false
   }
  },
  {
   "cell_type": "code",
   "execution_count": 8,
   "outputs": [
    {
     "name": "stderr",
     "output_type": "stream",
     "text": [
      "100%|██████████| 41629/41629 [00:15<00:00, 2704.31it/s]\n"
     ]
    }
   ],
   "source": [
    "cutoff = 30\n",
    "\n",
    "for user_id in tqdm(range(n_users)):\n",
    "    recommendations = candidate_generator_recommender.recommend(user_id, cutoff = cutoff)\n",
    "    training_dataframe.loc[user_id, \"ItemID\"] = recommendations"
   ],
   "metadata": {
    "collapsed": false
   }
  },
  {
   "cell_type": "code",
   "execution_count": 9,
   "outputs": [
    {
     "data": {
      "text/plain": "                                                   ItemID\nUserID                                                   \n0       [5735, 20, 391, 23, 828, 29, 2495, 752, 25, 61...\n1       [6874, 20379, 665, 249, 13968, 9636, 14363, 11...\n2       [453, 121, 7864, 617, 126, 676, 391, 15454, 67...\n3       [20, 58, 352, 269, 22, 393, 1746, 1967, 61, 59...\n4       [23, 25, 124, 53, 21, 353, 80, 71, 436, 67, 68...\n...                                                   ...\n41624   [14400, 22403, 7864, 10221, 14809, 18939, 1155...\n41625   [56, 53, 1032, 17589, 21, 1026, 23, 1449, 1965...\n41626   [56, 24064, 15229, 1693, 14551, 3535, 61, 2254...\n41627   [1214, 1514, 1859, 4577, 1754, 19705, 5070, 50...\n41628   [769, 2904, 1022, 3596, 929, 29, 6967, 3706, 7...\n\n[41629 rows x 1 columns]",
      "text/html": "<div>\n<style scoped>\n    .dataframe tbody tr th:only-of-type {\n        vertical-align: middle;\n    }\n\n    .dataframe tbody tr th {\n        vertical-align: top;\n    }\n\n    .dataframe thead th {\n        text-align: right;\n    }\n</style>\n<table border=\"1\" class=\"dataframe\">\n  <thead>\n    <tr style=\"text-align: right;\">\n      <th></th>\n      <th>ItemID</th>\n    </tr>\n    <tr>\n      <th>UserID</th>\n      <th></th>\n    </tr>\n  </thead>\n  <tbody>\n    <tr>\n      <th>0</th>\n      <td>[5735, 20, 391, 23, 828, 29, 2495, 752, 25, 61...</td>\n    </tr>\n    <tr>\n      <th>1</th>\n      <td>[6874, 20379, 665, 249, 13968, 9636, 14363, 11...</td>\n    </tr>\n    <tr>\n      <th>2</th>\n      <td>[453, 121, 7864, 617, 126, 676, 391, 15454, 67...</td>\n    </tr>\n    <tr>\n      <th>3</th>\n      <td>[20, 58, 352, 269, 22, 393, 1746, 1967, 61, 59...</td>\n    </tr>\n    <tr>\n      <th>4</th>\n      <td>[23, 25, 124, 53, 21, 353, 80, 71, 436, 67, 68...</td>\n    </tr>\n    <tr>\n      <th>...</th>\n      <td>...</td>\n    </tr>\n    <tr>\n      <th>41624</th>\n      <td>[14400, 22403, 7864, 10221, 14809, 18939, 1155...</td>\n    </tr>\n    <tr>\n      <th>41625</th>\n      <td>[56, 53, 1032, 17589, 21, 1026, 23, 1449, 1965...</td>\n    </tr>\n    <tr>\n      <th>41626</th>\n      <td>[56, 24064, 15229, 1693, 14551, 3535, 61, 2254...</td>\n    </tr>\n    <tr>\n      <th>41627</th>\n      <td>[1214, 1514, 1859, 4577, 1754, 19705, 5070, 50...</td>\n    </tr>\n    <tr>\n      <th>41628</th>\n      <td>[769, 2904, 1022, 3596, 929, 29, 6967, 3706, 7...</td>\n    </tr>\n  </tbody>\n</table>\n<p>41629 rows × 1 columns</p>\n</div>"
     },
     "execution_count": 9,
     "metadata": {},
     "output_type": "execute_result"
    }
   ],
   "source": [
    "training_dataframe"
   ],
   "metadata": {
    "collapsed": false
   }
  },
  {
   "cell_type": "code",
   "execution_count": 10,
   "outputs": [
    {
     "data": {
      "text/plain": "       ItemID\nUserID       \n0        5735\n0          20\n0         391\n0          23\n0         828\n...       ...\n41628    6703\n41628   21722\n41628   19424\n41628   22181\n41628    7155\n\n[1248870 rows x 1 columns]",
      "text/html": "<div>\n<style scoped>\n    .dataframe tbody tr th:only-of-type {\n        vertical-align: middle;\n    }\n\n    .dataframe tbody tr th {\n        vertical-align: top;\n    }\n\n    .dataframe thead th {\n        text-align: right;\n    }\n</style>\n<table border=\"1\" class=\"dataframe\">\n  <thead>\n    <tr style=\"text-align: right;\">\n      <th></th>\n      <th>ItemID</th>\n    </tr>\n    <tr>\n      <th>UserID</th>\n      <th></th>\n    </tr>\n  </thead>\n  <tbody>\n    <tr>\n      <th>0</th>\n      <td>5735</td>\n    </tr>\n    <tr>\n      <th>0</th>\n      <td>20</td>\n    </tr>\n    <tr>\n      <th>0</th>\n      <td>391</td>\n    </tr>\n    <tr>\n      <th>0</th>\n      <td>23</td>\n    </tr>\n    <tr>\n      <th>0</th>\n      <td>828</td>\n    </tr>\n    <tr>\n      <th>...</th>\n      <td>...</td>\n    </tr>\n    <tr>\n      <th>41628</th>\n      <td>6703</td>\n    </tr>\n    <tr>\n      <th>41628</th>\n      <td>21722</td>\n    </tr>\n    <tr>\n      <th>41628</th>\n      <td>19424</td>\n    </tr>\n    <tr>\n      <th>41628</th>\n      <td>22181</td>\n    </tr>\n    <tr>\n      <th>41628</th>\n      <td>7155</td>\n    </tr>\n  </tbody>\n</table>\n<p>1248870 rows × 1 columns</p>\n</div>"
     },
     "execution_count": 10,
     "metadata": {},
     "output_type": "execute_result"
    }
   ],
   "source": [
    "training_dataframe = training_dataframe.explode(\"ItemID\")\n",
    "training_dataframe"
   ],
   "metadata": {
    "collapsed": false
   }
  },
  {
   "cell_type": "markdown",
   "source": [
    "## Add validation test"
   ],
   "metadata": {
    "collapsed": false
   }
  },
  {
   "cell_type": "code",
   "execution_count": 11,
   "outputs": [
    {
     "data": {
      "text/plain": "        UserID  ItemID\n0            0     575\n1            0    4337\n2            0    6351\n3            0   10682\n4            0   16868\n...        ...     ...\n198212   41628    5878\n198213   41628    6219\n198214   41628    9000\n198215   41628   14567\n198216   41628   15971\n\n[198217 rows x 2 columns]",
      "text/html": "<div>\n<style scoped>\n    .dataframe tbody tr th:only-of-type {\n        vertical-align: middle;\n    }\n\n    .dataframe tbody tr th {\n        vertical-align: top;\n    }\n\n    .dataframe thead th {\n        text-align: right;\n    }\n</style>\n<table border=\"1\" class=\"dataframe\">\n  <thead>\n    <tr style=\"text-align: right;\">\n      <th></th>\n      <th>UserID</th>\n      <th>ItemID</th>\n    </tr>\n  </thead>\n  <tbody>\n    <tr>\n      <th>0</th>\n      <td>0</td>\n      <td>575</td>\n    </tr>\n    <tr>\n      <th>1</th>\n      <td>0</td>\n      <td>4337</td>\n    </tr>\n    <tr>\n      <th>2</th>\n      <td>0</td>\n      <td>6351</td>\n    </tr>\n    <tr>\n      <th>3</th>\n      <td>0</td>\n      <td>10682</td>\n    </tr>\n    <tr>\n      <th>4</th>\n      <td>0</td>\n      <td>16868</td>\n    </tr>\n    <tr>\n      <th>...</th>\n      <td>...</td>\n      <td>...</td>\n    </tr>\n    <tr>\n      <th>198212</th>\n      <td>41628</td>\n      <td>5878</td>\n    </tr>\n    <tr>\n      <th>198213</th>\n      <td>41628</td>\n      <td>6219</td>\n    </tr>\n    <tr>\n      <th>198214</th>\n      <td>41628</td>\n      <td>9000</td>\n    </tr>\n    <tr>\n      <th>198215</th>\n      <td>41628</td>\n      <td>14567</td>\n    </tr>\n    <tr>\n      <th>198216</th>\n      <td>41628</td>\n      <td>15971</td>\n    </tr>\n  </tbody>\n</table>\n<p>198217 rows × 2 columns</p>\n</div>"
     },
     "execution_count": 11,
     "metadata": {},
     "output_type": "execute_result"
    }
   ],
   "source": [
    "URM_validation_coo = sps.coo_matrix(URM_validation)\n",
    "\n",
    "correct_recommendations = pd.DataFrame({\"UserID\": URM_validation_coo.row,\n",
    "                                        \"ItemID\": URM_validation_coo.col})\n",
    "correct_recommendations"
   ],
   "metadata": {
    "collapsed": false
   }
  },
  {
   "cell_type": "code",
   "execution_count": 12,
   "outputs": [
    {
     "data": {
      "text/plain": "         UserID ItemID      Exist\n0             0   5735  left_only\n1             0     20  left_only\n2             0    391  left_only\n3             0     23  left_only\n4             0    828  left_only\n...         ...    ...        ...\n1248865   41628   6703  left_only\n1248866   41628  21722  left_only\n1248867   41628  19424  left_only\n1248868   41628  22181  left_only\n1248869   41628   7155  left_only\n\n[1248870 rows x 3 columns]",
      "text/html": "<div>\n<style scoped>\n    .dataframe tbody tr th:only-of-type {\n        vertical-align: middle;\n    }\n\n    .dataframe tbody tr th {\n        vertical-align: top;\n    }\n\n    .dataframe thead th {\n        text-align: right;\n    }\n</style>\n<table border=\"1\" class=\"dataframe\">\n  <thead>\n    <tr style=\"text-align: right;\">\n      <th></th>\n      <th>UserID</th>\n      <th>ItemID</th>\n      <th>Exist</th>\n    </tr>\n  </thead>\n  <tbody>\n    <tr>\n      <th>0</th>\n      <td>0</td>\n      <td>5735</td>\n      <td>left_only</td>\n    </tr>\n    <tr>\n      <th>1</th>\n      <td>0</td>\n      <td>20</td>\n      <td>left_only</td>\n    </tr>\n    <tr>\n      <th>2</th>\n      <td>0</td>\n      <td>391</td>\n      <td>left_only</td>\n    </tr>\n    <tr>\n      <th>3</th>\n      <td>0</td>\n      <td>23</td>\n      <td>left_only</td>\n    </tr>\n    <tr>\n      <th>4</th>\n      <td>0</td>\n      <td>828</td>\n      <td>left_only</td>\n    </tr>\n    <tr>\n      <th>...</th>\n      <td>...</td>\n      <td>...</td>\n      <td>...</td>\n    </tr>\n    <tr>\n      <th>1248865</th>\n      <td>41628</td>\n      <td>6703</td>\n      <td>left_only</td>\n    </tr>\n    <tr>\n      <th>1248866</th>\n      <td>41628</td>\n      <td>21722</td>\n      <td>left_only</td>\n    </tr>\n    <tr>\n      <th>1248867</th>\n      <td>41628</td>\n      <td>19424</td>\n      <td>left_only</td>\n    </tr>\n    <tr>\n      <th>1248868</th>\n      <td>41628</td>\n      <td>22181</td>\n      <td>left_only</td>\n    </tr>\n    <tr>\n      <th>1248869</th>\n      <td>41628</td>\n      <td>7155</td>\n      <td>left_only</td>\n    </tr>\n  </tbody>\n</table>\n<p>1248870 rows × 3 columns</p>\n</div>"
     },
     "execution_count": 12,
     "metadata": {},
     "output_type": "execute_result"
    }
   ],
   "source": [
    "training_dataframe = pd.merge(training_dataframe, correct_recommendations, on=['UserID','ItemID'], how='left', indicator='Exist')\n",
    "training_dataframe"
   ],
   "metadata": {
    "collapsed": false
   }
  },
  {
   "cell_type": "code",
   "execution_count": 13,
   "outputs": [
    {
     "data": {
      "text/plain": "         UserID ItemID  Label\n0             0   5735  False\n1             0     20  False\n2             0    391  False\n3             0     23  False\n4             0    828  False\n...         ...    ...    ...\n1248865   41628   6703  False\n1248866   41628  21722  False\n1248867   41628  19424  False\n1248868   41628  22181  False\n1248869   41628   7155  False\n\n[1248870 rows x 3 columns]",
      "text/html": "<div>\n<style scoped>\n    .dataframe tbody tr th:only-of-type {\n        vertical-align: middle;\n    }\n\n    .dataframe tbody tr th {\n        vertical-align: top;\n    }\n\n    .dataframe thead th {\n        text-align: right;\n    }\n</style>\n<table border=\"1\" class=\"dataframe\">\n  <thead>\n    <tr style=\"text-align: right;\">\n      <th></th>\n      <th>UserID</th>\n      <th>ItemID</th>\n      <th>Label</th>\n    </tr>\n  </thead>\n  <tbody>\n    <tr>\n      <th>0</th>\n      <td>0</td>\n      <td>5735</td>\n      <td>False</td>\n    </tr>\n    <tr>\n      <th>1</th>\n      <td>0</td>\n      <td>20</td>\n      <td>False</td>\n    </tr>\n    <tr>\n      <th>2</th>\n      <td>0</td>\n      <td>391</td>\n      <td>False</td>\n    </tr>\n    <tr>\n      <th>3</th>\n      <td>0</td>\n      <td>23</td>\n      <td>False</td>\n    </tr>\n    <tr>\n      <th>4</th>\n      <td>0</td>\n      <td>828</td>\n      <td>False</td>\n    </tr>\n    <tr>\n      <th>...</th>\n      <td>...</td>\n      <td>...</td>\n      <td>...</td>\n    </tr>\n    <tr>\n      <th>1248865</th>\n      <td>41628</td>\n      <td>6703</td>\n      <td>False</td>\n    </tr>\n    <tr>\n      <th>1248866</th>\n      <td>41628</td>\n      <td>21722</td>\n      <td>False</td>\n    </tr>\n    <tr>\n      <th>1248867</th>\n      <td>41628</td>\n      <td>19424</td>\n      <td>False</td>\n    </tr>\n    <tr>\n      <th>1248868</th>\n      <td>41628</td>\n      <td>22181</td>\n      <td>False</td>\n    </tr>\n    <tr>\n      <th>1248869</th>\n      <td>41628</td>\n      <td>7155</td>\n      <td>False</td>\n    </tr>\n  </tbody>\n</table>\n<p>1248870 rows × 3 columns</p>\n</div>"
     },
     "execution_count": 13,
     "metadata": {},
     "output_type": "execute_result"
    }
   ],
   "source": [
    "training_dataframe[\"Label\"] = training_dataframe[\"Exist\"] == \"both\"\n",
    "training_dataframe.drop(columns = ['Exist'], inplace=True)\n",
    "training_dataframe"
   ],
   "metadata": {
    "collapsed": false
   }
  },
  {
   "cell_type": "markdown",
   "source": [
    "## Now we add some features like different recommenders predictions"
   ],
   "metadata": {
    "collapsed": false
   }
  },
  {
   "cell_type": "code",
   "execution_count": 14,
   "outputs": [
    {
     "name": "stderr",
     "output_type": "stream",
     "text": [
      "Done: 100%|██████████| 24507/24507 [00:08<00:00, 2872.46it/s]            \n"
     ]
    },
    {
     "name": "stdout",
     "output_type": "stream",
     "text": [
      "P3alphaRecommender: Similarity column 24507 (100.0%), 3681.48 column/sec. Elapsed time 6.66 sec\n"
     ]
    }
   ],
   "source": [
    "from Recommenders.KNN.ItemKNNCFRecommenderPLUS import ItemKNNCFRecommender\n",
    "from Recommenders.GraphBased.P3alphaRecommender import P3alphaRecommender\n",
    "from Recommenders.Implicit.ImplicitALSRecommender import ImplicitALSRecommender\n",
    "\n",
    "ICM = createSmallICM()\n",
    "\n",
    "ItemKNN = ItemKNNCFRecommender(URM_train)\n",
    "ItemKNN.fit(ICM=ICM, topK=584, shrink=919, similarity=\"dice\", normalization=\"bm25\")\n",
    "\n",
    "P3alpha = P3alphaRecommender(URM_train)\n",
    "P3alpha.fit(topK=116, alpha=0.8763131065621229)\n",
    "\n",
    "#IALS = ImplicitALSRecommender(URM_train)\n",
    "#IALS.fit(factors=110, alpha=7, iterations=57, regularization=0.0008866558623568822)\n",
    "\n",
    "other_algorithms = {\n",
    "    \"ItemKNN\": ItemKNN,\n",
    "    \"P3alpha\": P3alpha,\n",
    "    #\"IALS\": IALS,\n",
    "}"
   ],
   "metadata": {
    "collapsed": false
   }
  },
  {
   "cell_type": "code",
   "execution_count": 15,
   "outputs": [
    {
     "name": "stderr",
     "output_type": "stream",
     "text": [
      "100%|██████████| 41629/41629 [00:39<00:00, 1044.45it/s]\n"
     ]
    },
    {
     "data": {
      "text/plain": "         UserID ItemID  Label   ItemKNN   P3alpha\n0             0   5735  False  1.886544  0.038573\n1             0     20  False  2.157015  0.032121\n2             0    391  False  1.810424  0.032799\n3             0     23  False  2.124116  0.050202\n4             0    828  False  1.957499  0.024736\n...         ...    ...    ...       ...       ...\n1248865   41628   6703  False  0.391042  0.008965\n1248866   41628  21722  False  0.394461  0.008719\n1248867   41628  19424  False  0.508864  0.008857\n1248868   41628  22181  False  0.463089  0.010560\n1248869   41628   7155  False  0.425453  0.008965\n\n[1248870 rows x 5 columns]",
      "text/html": "<div>\n<style scoped>\n    .dataframe tbody tr th:only-of-type {\n        vertical-align: middle;\n    }\n\n    .dataframe tbody tr th {\n        vertical-align: top;\n    }\n\n    .dataframe thead th {\n        text-align: right;\n    }\n</style>\n<table border=\"1\" class=\"dataframe\">\n  <thead>\n    <tr style=\"text-align: right;\">\n      <th></th>\n      <th>UserID</th>\n      <th>ItemID</th>\n      <th>Label</th>\n      <th>ItemKNN</th>\n      <th>P3alpha</th>\n    </tr>\n  </thead>\n  <tbody>\n    <tr>\n      <th>0</th>\n      <td>0</td>\n      <td>5735</td>\n      <td>False</td>\n      <td>1.886544</td>\n      <td>0.038573</td>\n    </tr>\n    <tr>\n      <th>1</th>\n      <td>0</td>\n      <td>20</td>\n      <td>False</td>\n      <td>2.157015</td>\n      <td>0.032121</td>\n    </tr>\n    <tr>\n      <th>2</th>\n      <td>0</td>\n      <td>391</td>\n      <td>False</td>\n      <td>1.810424</td>\n      <td>0.032799</td>\n    </tr>\n    <tr>\n      <th>3</th>\n      <td>0</td>\n      <td>23</td>\n      <td>False</td>\n      <td>2.124116</td>\n      <td>0.050202</td>\n    </tr>\n    <tr>\n      <th>4</th>\n      <td>0</td>\n      <td>828</td>\n      <td>False</td>\n      <td>1.957499</td>\n      <td>0.024736</td>\n    </tr>\n    <tr>\n      <th>...</th>\n      <td>...</td>\n      <td>...</td>\n      <td>...</td>\n      <td>...</td>\n      <td>...</td>\n    </tr>\n    <tr>\n      <th>1248865</th>\n      <td>41628</td>\n      <td>6703</td>\n      <td>False</td>\n      <td>0.391042</td>\n      <td>0.008965</td>\n    </tr>\n    <tr>\n      <th>1248866</th>\n      <td>41628</td>\n      <td>21722</td>\n      <td>False</td>\n      <td>0.394461</td>\n      <td>0.008719</td>\n    </tr>\n    <tr>\n      <th>1248867</th>\n      <td>41628</td>\n      <td>19424</td>\n      <td>False</td>\n      <td>0.508864</td>\n      <td>0.008857</td>\n    </tr>\n    <tr>\n      <th>1248868</th>\n      <td>41628</td>\n      <td>22181</td>\n      <td>False</td>\n      <td>0.463089</td>\n      <td>0.010560</td>\n    </tr>\n    <tr>\n      <th>1248869</th>\n      <td>41628</td>\n      <td>7155</td>\n      <td>False</td>\n      <td>0.425453</td>\n      <td>0.008965</td>\n    </tr>\n  </tbody>\n</table>\n<p>1248870 rows × 5 columns</p>\n</div>"
     },
     "execution_count": 15,
     "metadata": {},
     "output_type": "execute_result"
    }
   ],
   "source": [
    "training_dataframe = training_dataframe.set_index('UserID')\n",
    "\n",
    "for user_id in tqdm(range(n_users)):\n",
    "    for rec_label, rec_instance in other_algorithms.items():\n",
    "\n",
    "        item_list = training_dataframe.loc[user_id, \"ItemID\"].values.tolist()\n",
    "\n",
    "        all_item_scores = rec_instance._compute_item_score([user_id], items_to_compute = item_list)\n",
    "\n",
    "        training_dataframe.loc[user_id, rec_label] = all_item_scores[0, item_list]\n",
    "\n",
    "training_dataframe = training_dataframe.reset_index()\n",
    "training_dataframe = training_dataframe.rename(columns = {\"index\": \"UserID\"})\n",
    "training_dataframe"
   ],
   "metadata": {
    "collapsed": false
   }
  },
  {
   "cell_type": "markdown",
   "source": [
    "## We add the item popularity and profile length"
   ],
   "metadata": {
    "collapsed": false
   }
  },
  {
   "cell_type": "code",
   "execution_count": 16,
   "outputs": [
    {
     "data": {
      "text/plain": "         UserID ItemID  Label   ItemKNN   P3alpha  item_popularity\n0             0   5735  False  1.886544  0.038573              324\n1             0     20  False  2.157015  0.032121             3598\n2             0    391  False  1.810424  0.032799              279\n3             0     23  False  2.124116  0.050202             3121\n4             0    828  False  1.957499  0.024736              825\n...         ...    ...    ...       ...       ...              ...\n1248865   41628   6703  False  0.391042  0.008965               24\n1248866   41628  21722  False  0.394461  0.008719               23\n1248867   41628  19424  False  0.508864  0.008857               16\n1248868   41628  22181  False  0.463089  0.010560               21\n1248869   41628   7155  False  0.425453  0.008965               22\n\n[1248870 rows x 6 columns]",
      "text/html": "<div>\n<style scoped>\n    .dataframe tbody tr th:only-of-type {\n        vertical-align: middle;\n    }\n\n    .dataframe tbody tr th {\n        vertical-align: top;\n    }\n\n    .dataframe thead th {\n        text-align: right;\n    }\n</style>\n<table border=\"1\" class=\"dataframe\">\n  <thead>\n    <tr style=\"text-align: right;\">\n      <th></th>\n      <th>UserID</th>\n      <th>ItemID</th>\n      <th>Label</th>\n      <th>ItemKNN</th>\n      <th>P3alpha</th>\n      <th>item_popularity</th>\n    </tr>\n  </thead>\n  <tbody>\n    <tr>\n      <th>0</th>\n      <td>0</td>\n      <td>5735</td>\n      <td>False</td>\n      <td>1.886544</td>\n      <td>0.038573</td>\n      <td>324</td>\n    </tr>\n    <tr>\n      <th>1</th>\n      <td>0</td>\n      <td>20</td>\n      <td>False</td>\n      <td>2.157015</td>\n      <td>0.032121</td>\n      <td>3598</td>\n    </tr>\n    <tr>\n      <th>2</th>\n      <td>0</td>\n      <td>391</td>\n      <td>False</td>\n      <td>1.810424</td>\n      <td>0.032799</td>\n      <td>279</td>\n    </tr>\n    <tr>\n      <th>3</th>\n      <td>0</td>\n      <td>23</td>\n      <td>False</td>\n      <td>2.124116</td>\n      <td>0.050202</td>\n      <td>3121</td>\n    </tr>\n    <tr>\n      <th>4</th>\n      <td>0</td>\n      <td>828</td>\n      <td>False</td>\n      <td>1.957499</td>\n      <td>0.024736</td>\n      <td>825</td>\n    </tr>\n    <tr>\n      <th>...</th>\n      <td>...</td>\n      <td>...</td>\n      <td>...</td>\n      <td>...</td>\n      <td>...</td>\n      <td>...</td>\n    </tr>\n    <tr>\n      <th>1248865</th>\n      <td>41628</td>\n      <td>6703</td>\n      <td>False</td>\n      <td>0.391042</td>\n      <td>0.008965</td>\n      <td>24</td>\n    </tr>\n    <tr>\n      <th>1248866</th>\n      <td>41628</td>\n      <td>21722</td>\n      <td>False</td>\n      <td>0.394461</td>\n      <td>0.008719</td>\n      <td>23</td>\n    </tr>\n    <tr>\n      <th>1248867</th>\n      <td>41628</td>\n      <td>19424</td>\n      <td>False</td>\n      <td>0.508864</td>\n      <td>0.008857</td>\n      <td>16</td>\n    </tr>\n    <tr>\n      <th>1248868</th>\n      <td>41628</td>\n      <td>22181</td>\n      <td>False</td>\n      <td>0.463089</td>\n      <td>0.010560</td>\n      <td>21</td>\n    </tr>\n    <tr>\n      <th>1248869</th>\n      <td>41628</td>\n      <td>7155</td>\n      <td>False</td>\n      <td>0.425453</td>\n      <td>0.008965</td>\n      <td>22</td>\n    </tr>\n  </tbody>\n</table>\n<p>1248870 rows × 6 columns</p>\n</div>"
     },
     "execution_count": 16,
     "metadata": {},
     "output_type": "execute_result"
    }
   ],
   "source": [
    "item_popularity = np.ediff1d(sps.csc_matrix(URM_train).indptr)\n",
    "\n",
    "training_dataframe['item_popularity'] = item_popularity[training_dataframe[\"ItemID\"].values.astype(int)]\n",
    "training_dataframe"
   ],
   "metadata": {
    "collapsed": false
   }
  },
  {
   "cell_type": "code",
   "execution_count": 17,
   "outputs": [
    {
     "data": {
      "text/plain": "         UserID ItemID  Label   ItemKNN   P3alpha  item_popularity  \\\n0             0   5735  False  1.886544  0.038573              324   \n1             0     20  False  2.157015  0.032121             3598   \n2             0    391  False  1.810424  0.032799              279   \n3             0     23  False  2.124116  0.050202             3121   \n4             0    828  False  1.957499  0.024736              825   \n...         ...    ...    ...       ...       ...              ...   \n1248865   41628   6703  False  0.391042  0.008965               24   \n1248866   41628  21722  False  0.394461  0.008719               23   \n1248867   41628  19424  False  0.508864  0.008857               16   \n1248868   41628  22181  False  0.463089  0.010560               21   \n1248869   41628   7155  False  0.425453  0.008965               22   \n\n         user_profile_len  \n0                      47  \n1                      47  \n2                      47  \n3                      47  \n4                      47  \n...                   ...  \n1248865                14  \n1248866                14  \n1248867                14  \n1248868                14  \n1248869                14  \n\n[1248870 rows x 7 columns]",
      "text/html": "<div>\n<style scoped>\n    .dataframe tbody tr th:only-of-type {\n        vertical-align: middle;\n    }\n\n    .dataframe tbody tr th {\n        vertical-align: top;\n    }\n\n    .dataframe thead th {\n        text-align: right;\n    }\n</style>\n<table border=\"1\" class=\"dataframe\">\n  <thead>\n    <tr style=\"text-align: right;\">\n      <th></th>\n      <th>UserID</th>\n      <th>ItemID</th>\n      <th>Label</th>\n      <th>ItemKNN</th>\n      <th>P3alpha</th>\n      <th>item_popularity</th>\n      <th>user_profile_len</th>\n    </tr>\n  </thead>\n  <tbody>\n    <tr>\n      <th>0</th>\n      <td>0</td>\n      <td>5735</td>\n      <td>False</td>\n      <td>1.886544</td>\n      <td>0.038573</td>\n      <td>324</td>\n      <td>47</td>\n    </tr>\n    <tr>\n      <th>1</th>\n      <td>0</td>\n      <td>20</td>\n      <td>False</td>\n      <td>2.157015</td>\n      <td>0.032121</td>\n      <td>3598</td>\n      <td>47</td>\n    </tr>\n    <tr>\n      <th>2</th>\n      <td>0</td>\n      <td>391</td>\n      <td>False</td>\n      <td>1.810424</td>\n      <td>0.032799</td>\n      <td>279</td>\n      <td>47</td>\n    </tr>\n    <tr>\n      <th>3</th>\n      <td>0</td>\n      <td>23</td>\n      <td>False</td>\n      <td>2.124116</td>\n      <td>0.050202</td>\n      <td>3121</td>\n      <td>47</td>\n    </tr>\n    <tr>\n      <th>4</th>\n      <td>0</td>\n      <td>828</td>\n      <td>False</td>\n      <td>1.957499</td>\n      <td>0.024736</td>\n      <td>825</td>\n      <td>47</td>\n    </tr>\n    <tr>\n      <th>...</th>\n      <td>...</td>\n      <td>...</td>\n      <td>...</td>\n      <td>...</td>\n      <td>...</td>\n      <td>...</td>\n      <td>...</td>\n    </tr>\n    <tr>\n      <th>1248865</th>\n      <td>41628</td>\n      <td>6703</td>\n      <td>False</td>\n      <td>0.391042</td>\n      <td>0.008965</td>\n      <td>24</td>\n      <td>14</td>\n    </tr>\n    <tr>\n      <th>1248866</th>\n      <td>41628</td>\n      <td>21722</td>\n      <td>False</td>\n      <td>0.394461</td>\n      <td>0.008719</td>\n      <td>23</td>\n      <td>14</td>\n    </tr>\n    <tr>\n      <th>1248867</th>\n      <td>41628</td>\n      <td>19424</td>\n      <td>False</td>\n      <td>0.508864</td>\n      <td>0.008857</td>\n      <td>16</td>\n      <td>14</td>\n    </tr>\n    <tr>\n      <th>1248868</th>\n      <td>41628</td>\n      <td>22181</td>\n      <td>False</td>\n      <td>0.463089</td>\n      <td>0.010560</td>\n      <td>21</td>\n      <td>14</td>\n    </tr>\n    <tr>\n      <th>1248869</th>\n      <td>41628</td>\n      <td>7155</td>\n      <td>False</td>\n      <td>0.425453</td>\n      <td>0.008965</td>\n      <td>22</td>\n      <td>14</td>\n    </tr>\n  </tbody>\n</table>\n<p>1248870 rows × 7 columns</p>\n</div>"
     },
     "execution_count": 17,
     "metadata": {},
     "output_type": "execute_result"
    }
   ],
   "source": [
    "user_popularity = np.ediff1d(sps.csr_matrix(URM_train).indptr)\n",
    "\n",
    "training_dataframe['user_profile_len'] = user_popularity[training_dataframe[\"UserID\"].values.astype(int)]\n",
    "training_dataframe"
   ],
   "metadata": {
    "collapsed": false
   }
  },
  {
   "cell_type": "code",
   "execution_count": 18,
   "outputs": [
    {
     "data": {
      "text/plain": "         UserID ItemID  Label   ItemKNN   P3alpha  item_popularity  \\\n0             0   5735  False  1.886544  0.038573              324   \n1             0   3391  False  0.927966  0.021100              212   \n2             0   1648  False  1.105758  0.000000             1370   \n3             0   4577  False  0.934707  0.022408              223   \n4             0   5070  False  0.870980  0.021523              195   \n...         ...    ...    ...       ...       ...              ...   \n1248865   41628   2904  False  1.639046  0.019774               88   \n1248866   41628    769  False  2.373099  0.034845              117   \n1248867   41628  22181  False  0.463089  0.010560               21   \n1248868   41628    897  False  0.569218  0.007158              101   \n1248869   41628   7155  False  0.425453  0.008965               22   \n\n         user_profile_len  \n0                      47  \n1                      47  \n2                      47  \n3                      47  \n4                      47  \n...                   ...  \n1248865                14  \n1248866                14  \n1248867                14  \n1248868                14  \n1248869                14  \n\n[1248870 rows x 7 columns]",
      "text/html": "<div>\n<style scoped>\n    .dataframe tbody tr th:only-of-type {\n        vertical-align: middle;\n    }\n\n    .dataframe tbody tr th {\n        vertical-align: top;\n    }\n\n    .dataframe thead th {\n        text-align: right;\n    }\n</style>\n<table border=\"1\" class=\"dataframe\">\n  <thead>\n    <tr style=\"text-align: right;\">\n      <th></th>\n      <th>UserID</th>\n      <th>ItemID</th>\n      <th>Label</th>\n      <th>ItemKNN</th>\n      <th>P3alpha</th>\n      <th>item_popularity</th>\n      <th>user_profile_len</th>\n    </tr>\n  </thead>\n  <tbody>\n    <tr>\n      <th>0</th>\n      <td>0</td>\n      <td>5735</td>\n      <td>False</td>\n      <td>1.886544</td>\n      <td>0.038573</td>\n      <td>324</td>\n      <td>47</td>\n    </tr>\n    <tr>\n      <th>1</th>\n      <td>0</td>\n      <td>3391</td>\n      <td>False</td>\n      <td>0.927966</td>\n      <td>0.021100</td>\n      <td>212</td>\n      <td>47</td>\n    </tr>\n    <tr>\n      <th>2</th>\n      <td>0</td>\n      <td>1648</td>\n      <td>False</td>\n      <td>1.105758</td>\n      <td>0.000000</td>\n      <td>1370</td>\n      <td>47</td>\n    </tr>\n    <tr>\n      <th>3</th>\n      <td>0</td>\n      <td>4577</td>\n      <td>False</td>\n      <td>0.934707</td>\n      <td>0.022408</td>\n      <td>223</td>\n      <td>47</td>\n    </tr>\n    <tr>\n      <th>4</th>\n      <td>0</td>\n      <td>5070</td>\n      <td>False</td>\n      <td>0.870980</td>\n      <td>0.021523</td>\n      <td>195</td>\n      <td>47</td>\n    </tr>\n    <tr>\n      <th>...</th>\n      <td>...</td>\n      <td>...</td>\n      <td>...</td>\n      <td>...</td>\n      <td>...</td>\n      <td>...</td>\n      <td>...</td>\n    </tr>\n    <tr>\n      <th>1248865</th>\n      <td>41628</td>\n      <td>2904</td>\n      <td>False</td>\n      <td>1.639046</td>\n      <td>0.019774</td>\n      <td>88</td>\n      <td>14</td>\n    </tr>\n    <tr>\n      <th>1248866</th>\n      <td>41628</td>\n      <td>769</td>\n      <td>False</td>\n      <td>2.373099</td>\n      <td>0.034845</td>\n      <td>117</td>\n      <td>14</td>\n    </tr>\n    <tr>\n      <th>1248867</th>\n      <td>41628</td>\n      <td>22181</td>\n      <td>False</td>\n      <td>0.463089</td>\n      <td>0.010560</td>\n      <td>21</td>\n      <td>14</td>\n    </tr>\n    <tr>\n      <th>1248868</th>\n      <td>41628</td>\n      <td>897</td>\n      <td>False</td>\n      <td>0.569218</td>\n      <td>0.007158</td>\n      <td>101</td>\n      <td>14</td>\n    </tr>\n    <tr>\n      <th>1248869</th>\n      <td>41628</td>\n      <td>7155</td>\n      <td>False</td>\n      <td>0.425453</td>\n      <td>0.008965</td>\n      <td>22</td>\n      <td>14</td>\n    </tr>\n  </tbody>\n</table>\n<p>1248870 rows × 7 columns</p>\n</div>"
     },
     "execution_count": 18,
     "metadata": {},
     "output_type": "execute_result"
    }
   ],
   "source": [
    "training_dataframe = training_dataframe.sort_values(\"UserID\").reset_index()\n",
    "training_dataframe.drop(columns = ['index'], inplace=True)\n",
    "training_dataframe"
   ],
   "metadata": {
    "collapsed": false
   }
  },
  {
   "cell_type": "markdown",
   "source": [
    "## Train XGBoost"
   ],
   "metadata": {
    "collapsed": false
   }
  },
  {
   "cell_type": "code",
   "execution_count": 19,
   "outputs": [
    {
     "data": {
      "text/plain": "array([30, 30, 30, ..., 30, 30, 30])"
     },
     "execution_count": 19,
     "metadata": {},
     "output_type": "execute_result"
    }
   ],
   "source": [
    "groups = training_dataframe.groupby(\"UserID\").size().values\n",
    "groups"
   ],
   "metadata": {
    "collapsed": false
   }
  },
  {
   "cell_type": "code",
   "execution_count": 20,
   "outputs": [],
   "source": [
    "from xgboost import XGBRanker"
   ],
   "metadata": {
    "collapsed": false
   }
  },
  {
   "cell_type": "code",
   "execution_count": 21,
   "outputs": [],
   "source": [
    "y_train = training_dataframe[\"Label\"]\n",
    "X_train = training_dataframe.drop(columns=[\"Label\"])\n",
    "\n",
    "X_train[\"UserID\"] = X_train[\"UserID\"].astype(\"category\")\n",
    "X_train[\"ItemID\"] = X_train[\"ItemID\"].astype(\"category\")"
   ],
   "metadata": {
    "collapsed": false
   }
  },
  {
   "cell_type": "code",
   "execution_count": 22,
   "outputs": [
    {
     "data": {
      "text/plain": "XGBRanker(base_score=0.5, booster='gbtree', callbacks=None, colsample_bylevel=1,\n          colsample_bynode=1, colsample_bytree=1, early_stopping_rounds=None,\n          enable_categorical=True, eval_metric=None, feature_types=None,\n          gamma=0, gpu_id=-1, grow_policy='depthwise', importance_type=None,\n          interaction_constraints='', learning_rate=0.1, max_bin=256,\n          max_cat_threshold=64, max_cat_to_onehot=4, max_delta_step=0,\n          max_depth=5, max_leaves=0, min_child_weight=1, missing=nan,\n          monotone_constraints='()', n_estimators=50, n_jobs=0,\n          num_parallel_tree=1, predictor='auto', random_state=0, ...)",
      "text/html": "<style>#sk-container-id-1 {color: black;background-color: white;}#sk-container-id-1 pre{padding: 0;}#sk-container-id-1 div.sk-toggleable {background-color: white;}#sk-container-id-1 label.sk-toggleable__label {cursor: pointer;display: block;width: 100%;margin-bottom: 0;padding: 0.3em;box-sizing: border-box;text-align: center;}#sk-container-id-1 label.sk-toggleable__label-arrow:before {content: \"▸\";float: left;margin-right: 0.25em;color: #696969;}#sk-container-id-1 label.sk-toggleable__label-arrow:hover:before {color: black;}#sk-container-id-1 div.sk-estimator:hover label.sk-toggleable__label-arrow:before {color: black;}#sk-container-id-1 div.sk-toggleable__content {max-height: 0;max-width: 0;overflow: hidden;text-align: left;background-color: #f0f8ff;}#sk-container-id-1 div.sk-toggleable__content pre {margin: 0.2em;color: black;border-radius: 0.25em;background-color: #f0f8ff;}#sk-container-id-1 input.sk-toggleable__control:checked~div.sk-toggleable__content {max-height: 200px;max-width: 100%;overflow: auto;}#sk-container-id-1 input.sk-toggleable__control:checked~label.sk-toggleable__label-arrow:before {content: \"▾\";}#sk-container-id-1 div.sk-estimator input.sk-toggleable__control:checked~label.sk-toggleable__label {background-color: #d4ebff;}#sk-container-id-1 div.sk-label input.sk-toggleable__control:checked~label.sk-toggleable__label {background-color: #d4ebff;}#sk-container-id-1 input.sk-hidden--visually {border: 0;clip: rect(1px 1px 1px 1px);clip: rect(1px, 1px, 1px, 1px);height: 1px;margin: -1px;overflow: hidden;padding: 0;position: absolute;width: 1px;}#sk-container-id-1 div.sk-estimator {font-family: monospace;background-color: #f0f8ff;border: 1px dotted black;border-radius: 0.25em;box-sizing: border-box;margin-bottom: 0.5em;}#sk-container-id-1 div.sk-estimator:hover {background-color: #d4ebff;}#sk-container-id-1 div.sk-parallel-item::after {content: \"\";width: 100%;border-bottom: 1px solid gray;flex-grow: 1;}#sk-container-id-1 div.sk-label:hover label.sk-toggleable__label {background-color: #d4ebff;}#sk-container-id-1 div.sk-serial::before {content: \"\";position: absolute;border-left: 1px solid gray;box-sizing: border-box;top: 0;bottom: 0;left: 50%;z-index: 0;}#sk-container-id-1 div.sk-serial {display: flex;flex-direction: column;align-items: center;background-color: white;padding-right: 0.2em;padding-left: 0.2em;position: relative;}#sk-container-id-1 div.sk-item {position: relative;z-index: 1;}#sk-container-id-1 div.sk-parallel {display: flex;align-items: stretch;justify-content: center;background-color: white;position: relative;}#sk-container-id-1 div.sk-item::before, #sk-container-id-1 div.sk-parallel-item::before {content: \"\";position: absolute;border-left: 1px solid gray;box-sizing: border-box;top: 0;bottom: 0;left: 50%;z-index: -1;}#sk-container-id-1 div.sk-parallel-item {display: flex;flex-direction: column;z-index: 1;position: relative;background-color: white;}#sk-container-id-1 div.sk-parallel-item:first-child::after {align-self: flex-end;width: 50%;}#sk-container-id-1 div.sk-parallel-item:last-child::after {align-self: flex-start;width: 50%;}#sk-container-id-1 div.sk-parallel-item:only-child::after {width: 0;}#sk-container-id-1 div.sk-dashed-wrapped {border: 1px dashed gray;margin: 0 0.4em 0.5em 0.4em;box-sizing: border-box;padding-bottom: 0.4em;background-color: white;}#sk-container-id-1 div.sk-label label {font-family: monospace;font-weight: bold;display: inline-block;line-height: 1.2em;}#sk-container-id-1 div.sk-label-container {text-align: center;}#sk-container-id-1 div.sk-container {/* jupyter's `normalize.less` sets `[hidden] { display: none; }` but bootstrap.min.css set `[hidden] { display: none !important; }` so we also need the `!important` here to be able to override the default hidden behavior on the sphinx rendered scikit-learn.org. See: https://github.com/scikit-learn/scikit-learn/issues/21755 */display: inline-block !important;position: relative;}#sk-container-id-1 div.sk-text-repr-fallback {display: none;}</style><div id=\"sk-container-id-1\" class=\"sk-top-container\"><div class=\"sk-text-repr-fallback\"><pre>XGBRanker(base_score=0.5, booster=&#x27;gbtree&#x27;, callbacks=None, colsample_bylevel=1,\n          colsample_bynode=1, colsample_bytree=1, early_stopping_rounds=None,\n          enable_categorical=True, eval_metric=None, feature_types=None,\n          gamma=0, gpu_id=-1, grow_policy=&#x27;depthwise&#x27;, importance_type=None,\n          interaction_constraints=&#x27;&#x27;, learning_rate=0.1, max_bin=256,\n          max_cat_threshold=64, max_cat_to_onehot=4, max_delta_step=0,\n          max_depth=5, max_leaves=0, min_child_weight=1, missing=nan,\n          monotone_constraints=&#x27;()&#x27;, n_estimators=50, n_jobs=0,\n          num_parallel_tree=1, predictor=&#x27;auto&#x27;, random_state=0, ...)</pre><b>In a Jupyter environment, please rerun this cell to show the HTML representation or trust the notebook. <br />On GitHub, the HTML representation is unable to render, please try loading this page with nbviewer.org.</b></div><div class=\"sk-container\" hidden><div class=\"sk-item\"><div class=\"sk-estimator sk-toggleable\"><input class=\"sk-toggleable__control sk-hidden--visually\" id=\"sk-estimator-id-1\" type=\"checkbox\" checked><label for=\"sk-estimator-id-1\" class=\"sk-toggleable__label sk-toggleable__label-arrow\">XGBRanker</label><div class=\"sk-toggleable__content\"><pre>XGBRanker(base_score=0.5, booster=&#x27;gbtree&#x27;, callbacks=None, colsample_bylevel=1,\n          colsample_bynode=1, colsample_bytree=1, early_stopping_rounds=None,\n          enable_categorical=True, eval_metric=None, feature_types=None,\n          gamma=0, gpu_id=-1, grow_policy=&#x27;depthwise&#x27;, importance_type=None,\n          interaction_constraints=&#x27;&#x27;, learning_rate=0.1, max_bin=256,\n          max_cat_threshold=64, max_cat_to_onehot=4, max_delta_step=0,\n          max_depth=5, max_leaves=0, min_child_weight=1, missing=nan,\n          monotone_constraints=&#x27;()&#x27;, n_estimators=50, n_jobs=0,\n          num_parallel_tree=1, predictor=&#x27;auto&#x27;, random_state=0, ...)</pre></div></div></div></div></div>"
     },
     "execution_count": 22,
     "metadata": {},
     "output_type": "execute_result"
    }
   ],
   "source": [
    "n_estimators = 50\n",
    "learning_rate = 1e-1\n",
    "reg_alpha = 1e-1\n",
    "reg_lambda = 1e-1\n",
    "max_depth = 5\n",
    "max_leaves = 0\n",
    "grow_policy = \"depthwise\"\n",
    "objective = \"pairwise\"\n",
    "booster = \"gbtree\"\n",
    "use_user_profile = False\n",
    "random_seed = None\n",
    "\n",
    "XGB_model = XGBRanker(objective='rank:{}'.format(objective),\n",
    "                      n_estimators = int(n_estimators),\n",
    "                      random_state = random_seed,\n",
    "                      learning_rate = learning_rate,\n",
    "                      reg_alpha = reg_alpha,\n",
    "                      reg_lambda = reg_lambda,\n",
    "                      max_depth = int(max_depth),\n",
    "                      max_leaves = int(max_leaves),\n",
    "                      grow_policy = grow_policy,\n",
    "                      verbosity = 0, # 2 if self.verbose else 0,\n",
    "                      booster = booster,\n",
    "                      enable_categorical = True,\n",
    "                      tree_method = \"hist\",  # Supported tree methods are `gpu_hist`, `approx`, and `hist`.\n",
    "                      )\n",
    "\n",
    "XGB_model.fit(X_train,\n",
    "          y_train,\n",
    "          group=groups,\n",
    "          verbose=True)"
   ],
   "metadata": {
    "collapsed": false
   }
  },
  {
   "cell_type": "code",
   "execution_count": 33,
   "outputs": [
    {
     "data": {
      "text/plain": "array([ 0.61526287,  0.42317045,  0.1143931 ,  0.42317045,  0.42317045,\n        0.52949554,  0.197924  ,  0.586609  , -2.4397874 ,  0.21627763,\n        0.46798825,  0.197924  ,  0.21627763,  0.197924  ,  0.586609  ,\n        0.3416813 ,  0.17484385,  0.28172767,  0.8313922 ,  0.586609  ,\n        0.36377037,  0.56987286,  0.197924  ,  0.5805862 ,  0.53760964,\n        0.60245657,  0.586609  ,  0.586609  ,  0.17484385,  0.586609  ],\n      dtype=float32)"
     },
     "execution_count": 33,
     "metadata": {},
     "output_type": "execute_result"
    }
   ],
   "source": [
    "X_to_predict = X_train[X_train[\"UserID\"] == 0]\n",
    "\n",
    "XGB_model.predict(X_to_predict)"
   ],
   "metadata": {
    "collapsed": false
   }
  },
  {
   "cell_type": "code",
   "execution_count": 25,
   "outputs": [],
   "source": [
    "predictions = XGB_model.predict(X_to_predict)"
   ],
   "metadata": {
    "collapsed": false
   }
  },
  {
   "cell_type": "code",
   "execution_count": 26,
   "outputs": [
    {
     "data": {
      "text/plain": "30"
     },
     "execution_count": 26,
     "metadata": {},
     "output_type": "execute_result"
    }
   ],
   "source": [
    "len(predictions)"
   ],
   "metadata": {
    "collapsed": false
   }
  },
  {
   "cell_type": "code",
   "execution_count": 48,
   "outputs": [
    {
     "data": {
      "text/plain": "array([-2.5168478 , -2.5168478 , -2.5168478 , -2.5168478 , -2.5168478 ,\n       -2.5168478 , -2.5168478 , -2.5069976 , -1.5838032 , -0.89722914,\n        0.07954384,  0.08402009,  0.1021487 ,  0.1021487 ,  0.14843109,\n        0.15793152,  0.16972236,  0.26152292,  0.31325793,  0.37091306,\n        0.4387741 ,  0.58692884,  0.6935954 ,  0.7589379 ,  0.7647922 ,\n        0.8221102 ,  0.89217746,  0.98836696,  1.6048934 ,  1.6434541 ],\n      dtype=float32)"
     },
     "execution_count": 48,
     "metadata": {},
     "output_type": "execute_result"
    }
   ],
   "source": [
    "predictions"
   ],
   "metadata": {
    "collapsed": false
   }
  },
  {
   "cell_type": "code",
   "execution_count": 46,
   "outputs": [
    {
     "data": {
      "text/plain": "0      5735\n1      3391\n2      1648\n3      4577\n4      5070\n5       149\n6      2077\n7      2494\n8      8789\n9       299\n10     2792\n11      679\n12    14710\n13     1534\n14     2488\n15      107\n16     3608\n17     2019\n18       20\n19      391\n20       23\n21      828\n22     2495\n23       29\n24       25\n25      617\n26      353\n27    18484\n28      771\n29      752\nName: ItemID, dtype: object"
     },
     "execution_count": 46,
     "metadata": {},
     "output_type": "execute_result"
    }
   ],
   "source": [
    "user = 0\n",
    "items = training_dataframe.loc[training_dataframe[\"UserID\"]==user]\n",
    "items = items[\"ItemID\"]\n",
    "items"
   ],
   "metadata": {
    "collapsed": false
   }
  },
  {
   "cell_type": "code",
   "execution_count": 52,
   "outputs": [],
   "source": [
    "predictionsToSubmit = {}\n",
    "i = 0\n",
    "for item in items:\n",
    "    predictionsToSubmit[item] = predictions[i]\n",
    "    i+=1"
   ],
   "metadata": {
    "collapsed": false
   }
  },
  {
   "cell_type": "code",
   "execution_count": 53,
   "outputs": [
    {
     "data": {
      "text/plain": "{5735: -2.5168478,\n 3391: -2.5168478,\n 1648: -2.5168478,\n 4577: -2.5168478,\n 5070: -2.5168478,\n 149: -2.5168478,\n 2077: -2.5168478,\n 2494: -2.5069976,\n 8789: -1.5838032,\n 299: -0.89722914,\n 2792: 0.079543844,\n 679: 0.08402009,\n 14710: 0.102148704,\n 1534: 0.102148704,\n 2488: 0.14843109,\n 107: 0.15793152,\n 3608: 0.16972236,\n 2019: 0.26152292,\n 20: 0.31325793,\n 391: 0.37091306,\n 23: 0.4387741,\n 828: 0.58692884,\n 2495: 0.6935954,\n 29: 0.7589379,\n 25: 0.7647922,\n 617: 0.8221102,\n 353: 0.89217746,\n 18484: 0.98836696,\n 771: 1.6048934,\n 752: 1.6434541}"
     },
     "execution_count": 53,
     "metadata": {},
     "output_type": "execute_result"
    }
   ],
   "source": [
    "predictionsToSubmit"
   ],
   "metadata": {
    "collapsed": false
   }
  },
  {
   "cell_type": "code",
   "execution_count": 57,
   "outputs": [
    {
     "data": {
      "text/plain": "[1.6434541,\n 1.6048934,\n 0.98836696,\n 0.89217746,\n 0.8221102,\n 0.7647922,\n 0.7589379,\n 0.6935954,\n 0.58692884,\n 0.4387741,\n 0.37091306,\n 0.31325793,\n 0.26152292,\n 0.16972236,\n 0.15793152,\n 0.14843109,\n 0.102148704,\n 0.102148704,\n 0.08402009,\n 0.079543844,\n -0.89722914,\n -1.5838032,\n -2.5069976,\n -2.5168478,\n -2.5168478,\n -2.5168478,\n -2.5168478,\n -2.5168478,\n -2.5168478,\n -2.5168478]"
     },
     "execution_count": 57,
     "metadata": {},
     "output_type": "execute_result"
    }
   ],
   "source": [
    "SortedPredictions = sorted(predictionsToSubmit.values(), reverse=True)\n",
    "SortedPredictions"
   ],
   "metadata": {
    "collapsed": false
   }
  },
  {
   "cell_type": "code",
   "execution_count": 29,
   "outputs": [
    {
     "data": {
      "text/plain": "array([-2.5168478 , -2.5168478 , -2.5168478 , -2.5168478 , -2.5168478 ,\n       -2.5168478 , -2.5168478 , -2.5069976 , -1.5838032 , -0.89722914,\n        0.07954384,  0.08402009,  0.1021487 ,  0.1021487 ,  0.14843109,\n        0.15793152,  0.16972236,  0.26152292,  0.31325793,  0.37091306,\n        0.4387741 ,  0.58692884,  0.6935954 ,  0.7589379 ,  0.7647922 ,\n        0.8221102 ,  0.89217746,  0.98836696,  1.6048934 ,  1.6434541 ],\n      dtype=float32)"
     },
     "execution_count": 29,
     "metadata": {},
     "output_type": "execute_result"
    }
   ],
   "source": [
    "predictions.sort()\n",
    "predictions"
   ],
   "metadata": {
    "collapsed": false
   }
  },
  {
   "cell_type": "code",
   "execution_count": 24,
   "outputs": [
    {
     "data": {
      "text/plain": "<AxesSubplot:title={'center':'Weight (Frequence)'}, xlabel='F score', ylabel='Features'>"
     },
     "execution_count": 24,
     "metadata": {},
     "output_type": "execute_result"
    },
    {
     "data": {
      "text/plain": "<Figure size 640x480 with 1 Axes>",
      "image/png": "[encoded data removed]"
     },
     "metadata": {},
     "output_type": "display_data"
    }
   ],
   "source": [
    "from xgboost import plot_importance\n",
    "\n",
    "plot_importance(XGB_model, importance_type='weight', title='Weight (Frequence)')"
   ],
   "metadata": {
    "collapsed": false
   }
  },
  {
   "cell_type": "code",
   "execution_count": null,
   "outputs": [],
   "source": [],
   "metadata": {
    "collapsed": false
   }
  }
 ],
 "metadata": {
  "kernelspec": {
   "display_name": "Python 3",
   "language": "python",
   "name": "python3"
  },
  "language_info": {
   "codemirror_mode": {
    "name": "ipython",
    "version": 2
   },
   "file_extension": ".py",
   "mimetype": "text/x-python",
   "name": "python",
   "nbconvert_exporter": "python",
   "pygments_lexer": "ipython2",
   "version": "2.7.6"
  }
 },
 "nbformat": 4,
 "nbformat_minor": 0
}
