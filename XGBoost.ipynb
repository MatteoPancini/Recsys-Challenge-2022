{
 "cells": [
  {
   "cell_type": "code",
   "execution_count": 1,
   "metadata": {
    "collapsed": true
   },
   "outputs": [
    {
     "name": "stderr",
     "output_type": "stream",
     "text": [
      "C:\\Users\\Mike\\anaconda3\\envs\\recsys\\lib\\site-packages\\xgboost\\compat.py:36: FutureWarning: pandas.Int64Index is deprecated and will be removed from pandas in a future version. Use pandas.Index with the appropriate dtype instead.\n",
      "  from pandas import MultiIndex, Int64Index\n"
     ]
    }
   ],
   "source": [
    "import numpy as np\n",
    "import xgboost as xgb\n",
    "from sklearn import datasets\n",
    "from sklearn.model_selection import train_test_split\n",
    "from Utils.recsys2022DataReader import *"
   ]
  },
  {
   "cell_type": "code",
   "execution_count": 2,
   "outputs": [],
   "source": [
    "URM_init = load_BinURMTrainInit()\n",
    "URM_train = load_1K_BinURMTrain()[0]\n",
    "URM_validation = load_1K_BinURMValid()[0]\n",
    "URM_test = load_BinURMTest()"
   ],
   "metadata": {
    "collapsed": false
   }
  },
  {
   "cell_type": "code",
   "execution_count": 3,
   "outputs": [
    {
     "name": "stdout",
     "output_type": "stream",
     "text": [
      "RP3betaRecommender: Similarity column 24507 (100.0%), 677.34 column/sec. Elapsed time 36.18 sec\n"
     ]
    }
   ],
   "source": [
    "from Recommenders.GraphBased.RP3betaRecommender import RP3betaRecommender\n",
    "\n",
    "candidate_generator_recommender = RP3betaRecommender(URM_train)\n",
    "candidate_generator_recommender.fit(topK=50, alpha=0.7179592867915304, beta=0.3290994149353332)"
   ],
   "metadata": {
    "collapsed": false
   }
  },
  {
   "cell_type": "markdown",
   "source": [
    "## Building dataframe"
   ],
   "metadata": {
    "collapsed": false
   }
  },
  {
   "cell_type": "code",
   "execution_count": 4,
   "outputs": [],
   "source": [
    "import pandas as pd\n",
    "from tqdm import tqdm\n",
    "import scipy.sparse as sps\n",
    "import numpy as np\n",
    "from xgboost import XGBRanker\n",
    "\n",
    "n_users, n_items = URM_train.shape\n",
    "\n",
    "training_dataframe = pd.DataFrame(index=range(0,n_users), columns = [\"ItemID\"])\n",
    "training_dataframe.index.name='UserID'"
   ],
   "metadata": {
    "collapsed": false
   }
  },
  {
   "cell_type": "code",
   "execution_count": 5,
   "outputs": [
    {
     "data": {
      "text/plain": "       ItemID\nUserID       \n0         NaN\n1         NaN\n2         NaN\n3         NaN\n4         NaN\n...       ...\n41624     NaN\n41625     NaN\n41626     NaN\n41627     NaN\n41628     NaN\n\n[41629 rows x 1 columns]",
      "text/html": "<div>\n<style scoped>\n    .dataframe tbody tr th:only-of-type {\n        vertical-align: middle;\n    }\n\n    .dataframe tbody tr th {\n        vertical-align: top;\n    }\n\n    .dataframe thead th {\n        text-align: right;\n    }\n</style>\n<table border=\"1\" class=\"dataframe\">\n  <thead>\n    <tr style=\"text-align: right;\">\n      <th></th>\n      <th>ItemID</th>\n    </tr>\n    <tr>\n      <th>UserID</th>\n      <th></th>\n    </tr>\n  </thead>\n  <tbody>\n    <tr>\n      <th>0</th>\n      <td>NaN</td>\n    </tr>\n    <tr>\n      <th>1</th>\n      <td>NaN</td>\n    </tr>\n    <tr>\n      <th>2</th>\n      <td>NaN</td>\n    </tr>\n    <tr>\n      <th>3</th>\n      <td>NaN</td>\n    </tr>\n    <tr>\n      <th>4</th>\n      <td>NaN</td>\n    </tr>\n    <tr>\n      <th>...</th>\n      <td>...</td>\n    </tr>\n    <tr>\n      <th>41624</th>\n      <td>NaN</td>\n    </tr>\n    <tr>\n      <th>41625</th>\n      <td>NaN</td>\n    </tr>\n    <tr>\n      <th>41626</th>\n      <td>NaN</td>\n    </tr>\n    <tr>\n      <th>41627</th>\n      <td>NaN</td>\n    </tr>\n    <tr>\n      <th>41628</th>\n      <td>NaN</td>\n    </tr>\n  </tbody>\n</table>\n<p>41629 rows × 1 columns</p>\n</div>"
     },
     "execution_count": 5,
     "metadata": {},
     "output_type": "execute_result"
    }
   ],
   "source": [
    "training_dataframe"
   ],
   "metadata": {
    "collapsed": false
   }
  },
  {
   "cell_type": "code",
   "execution_count": 6,
   "outputs": [
    {
     "name": "stderr",
     "output_type": "stream",
     "text": [
      "100%|██████████| 41629/41629 [00:33<00:00, 1246.24it/s]\n"
     ]
    }
   ],
   "source": [
    "cutoff = 30\n",
    "\n",
    "for user_id in tqdm(range(n_users)):\n",
    "    recommendations = candidate_generator_recommender.recommend(user_id, cutoff = cutoff)\n",
    "    training_dataframe.loc[user_id, \"ItemID\"] = recommendations"
   ],
   "metadata": {
    "collapsed": false
   }
  },
  {
   "cell_type": "code",
   "execution_count": 7,
   "outputs": [
    {
     "data": {
      "text/plain": "                                                   ItemID\nUserID                                                   \n0       [5735, 20, 391, 23, 828, 29, 2495, 752, 25, 61...\n1       [6874, 20379, 665, 249, 13968, 9636, 14363, 11...\n2       [453, 121, 7864, 617, 126, 676, 391, 15454, 67...\n3       [20, 58, 352, 269, 22, 393, 1746, 1967, 61, 59...\n4       [23, 25, 124, 53, 21, 353, 80, 71, 436, 67, 68...\n...                                                   ...\n41624   [14400, 22403, 7864, 10221, 14809, 18939, 1155...\n41625   [56, 53, 1032, 17589, 21, 1026, 23, 1449, 1965...\n41626   [56, 24064, 15229, 1693, 14551, 3535, 61, 2254...\n41627   [1214, 1514, 1859, 4577, 1754, 19705, 5070, 50...\n41628   [769, 2904, 1022, 3596, 929, 29, 6967, 3706, 7...\n\n[41629 rows x 1 columns]",
      "text/html": "<div>\n<style scoped>\n    .dataframe tbody tr th:only-of-type {\n        vertical-align: middle;\n    }\n\n    .dataframe tbody tr th {\n        vertical-align: top;\n    }\n\n    .dataframe thead th {\n        text-align: right;\n    }\n</style>\n<table border=\"1\" class=\"dataframe\">\n  <thead>\n    <tr style=\"text-align: right;\">\n      <th></th>\n      <th>ItemID</th>\n    </tr>\n    <tr>\n      <th>UserID</th>\n      <th></th>\n    </tr>\n  </thead>\n  <tbody>\n    <tr>\n      <th>0</th>\n      <td>[5735, 20, 391, 23, 828, 29, 2495, 752, 25, 61...</td>\n    </tr>\n    <tr>\n      <th>1</th>\n      <td>[6874, 20379, 665, 249, 13968, 9636, 14363, 11...</td>\n    </tr>\n    <tr>\n      <th>2</th>\n      <td>[453, 121, 7864, 617, 126, 676, 391, 15454, 67...</td>\n    </tr>\n    <tr>\n      <th>3</th>\n      <td>[20, 58, 352, 269, 22, 393, 1746, 1967, 61, 59...</td>\n    </tr>\n    <tr>\n      <th>4</th>\n      <td>[23, 25, 124, 53, 21, 353, 80, 71, 436, 67, 68...</td>\n    </tr>\n    <tr>\n      <th>...</th>\n      <td>...</td>\n    </tr>\n    <tr>\n      <th>41624</th>\n      <td>[14400, 22403, 7864, 10221, 14809, 18939, 1155...</td>\n    </tr>\n    <tr>\n      <th>41625</th>\n      <td>[56, 53, 1032, 17589, 21, 1026, 23, 1449, 1965...</td>\n    </tr>\n    <tr>\n      <th>41626</th>\n      <td>[56, 24064, 15229, 1693, 14551, 3535, 61, 2254...</td>\n    </tr>\n    <tr>\n      <th>41627</th>\n      <td>[1214, 1514, 1859, 4577, 1754, 19705, 5070, 50...</td>\n    </tr>\n    <tr>\n      <th>41628</th>\n      <td>[769, 2904, 1022, 3596, 929, 29, 6967, 3706, 7...</td>\n    </tr>\n  </tbody>\n</table>\n<p>41629 rows × 1 columns</p>\n</div>"
     },
     "execution_count": 7,
     "metadata": {},
     "output_type": "execute_result"
    }
   ],
   "source": [
    "training_dataframe"
   ],
   "metadata": {
    "collapsed": false
   }
  },
  {
   "cell_type": "code",
   "execution_count": 8,
   "outputs": [
    {
     "data": {
      "text/plain": "       ItemID\nUserID       \n0        5735\n0          20\n0         391\n0          23\n0         828\n...       ...\n41628    6703\n41628   21722\n41628   19424\n41628   22181\n41628    7155\n\n[1248870 rows x 1 columns]",
      "text/html": "<div>\n<style scoped>\n    .dataframe tbody tr th:only-of-type {\n        vertical-align: middle;\n    }\n\n    .dataframe tbody tr th {\n        vertical-align: top;\n    }\n\n    .dataframe thead th {\n        text-align: right;\n    }\n</style>\n<table border=\"1\" class=\"dataframe\">\n  <thead>\n    <tr style=\"text-align: right;\">\n      <th></th>\n      <th>ItemID</th>\n    </tr>\n    <tr>\n      <th>UserID</th>\n      <th></th>\n    </tr>\n  </thead>\n  <tbody>\n    <tr>\n      <th>0</th>\n      <td>5735</td>\n    </tr>\n    <tr>\n      <th>0</th>\n      <td>20</td>\n    </tr>\n    <tr>\n      <th>0</th>\n      <td>391</td>\n    </tr>\n    <tr>\n      <th>0</th>\n      <td>23</td>\n    </tr>\n    <tr>\n      <th>0</th>\n      <td>828</td>\n    </tr>\n    <tr>\n      <th>...</th>\n      <td>...</td>\n    </tr>\n    <tr>\n      <th>41628</th>\n      <td>6703</td>\n    </tr>\n    <tr>\n      <th>41628</th>\n      <td>21722</td>\n    </tr>\n    <tr>\n      <th>41628</th>\n      <td>19424</td>\n    </tr>\n    <tr>\n      <th>41628</th>\n      <td>22181</td>\n    </tr>\n    <tr>\n      <th>41628</th>\n      <td>7155</td>\n    </tr>\n  </tbody>\n</table>\n<p>1248870 rows × 1 columns</p>\n</div>"
     },
     "execution_count": 8,
     "metadata": {},
     "output_type": "execute_result"
    }
   ],
   "source": [
    "training_dataframe = training_dataframe.explode(\"ItemID\")\n",
    "training_dataframe"
   ],
   "metadata": {
    "collapsed": false
   }
  },
  {
   "cell_type": "markdown",
   "source": [
    "## Add validation test"
   ],
   "metadata": {
    "collapsed": false
   }
  },
  {
   "cell_type": "code",
   "execution_count": 9,
   "outputs": [
    {
     "data": {
      "text/plain": "        UserID  ItemID\n0            0     575\n1            0    4337\n2            0    6351\n3            0   10682\n4            0   16868\n...        ...     ...\n198212   41628    5878\n198213   41628    6219\n198214   41628    9000\n198215   41628   14567\n198216   41628   15971\n\n[198217 rows x 2 columns]",
      "text/html": "<div>\n<style scoped>\n    .dataframe tbody tr th:only-of-type {\n        vertical-align: middle;\n    }\n\n    .dataframe tbody tr th {\n        vertical-align: top;\n    }\n\n    .dataframe thead th {\n        text-align: right;\n    }\n</style>\n<table border=\"1\" class=\"dataframe\">\n  <thead>\n    <tr style=\"text-align: right;\">\n      <th></th>\n      <th>UserID</th>\n      <th>ItemID</th>\n    </tr>\n  </thead>\n  <tbody>\n    <tr>\n      <th>0</th>\n      <td>0</td>\n      <td>575</td>\n    </tr>\n    <tr>\n      <th>1</th>\n      <td>0</td>\n      <td>4337</td>\n    </tr>\n    <tr>\n      <th>2</th>\n      <td>0</td>\n      <td>6351</td>\n    </tr>\n    <tr>\n      <th>3</th>\n      <td>0</td>\n      <td>10682</td>\n    </tr>\n    <tr>\n      <th>4</th>\n      <td>0</td>\n      <td>16868</td>\n    </tr>\n    <tr>\n      <th>...</th>\n      <td>...</td>\n      <td>...</td>\n    </tr>\n    <tr>\n      <th>198212</th>\n      <td>41628</td>\n      <td>5878</td>\n    </tr>\n    <tr>\n      <th>198213</th>\n      <td>41628</td>\n      <td>6219</td>\n    </tr>\n    <tr>\n      <th>198214</th>\n      <td>41628</td>\n      <td>9000</td>\n    </tr>\n    <tr>\n      <th>198215</th>\n      <td>41628</td>\n      <td>14567</td>\n    </tr>\n    <tr>\n      <th>198216</th>\n      <td>41628</td>\n      <td>15971</td>\n    </tr>\n  </tbody>\n</table>\n<p>198217 rows × 2 columns</p>\n</div>"
     },
     "execution_count": 9,
     "metadata": {},
     "output_type": "execute_result"
    }
   ],
   "source": [
    "URM_validation_coo = sps.coo_matrix(URM_validation)\n",
    "\n",
    "correct_recommendations = pd.DataFrame({\"UserID\": URM_validation_coo.row,\n",
    "                                        \"ItemID\": URM_validation_coo.col})\n",
    "correct_recommendations"
   ],
   "metadata": {
    "collapsed": false
   }
  },
  {
   "cell_type": "code",
   "execution_count": 10,
   "outputs": [
    {
     "data": {
      "text/plain": "         UserID ItemID      Exist\n0             0   5735  left_only\n1             0     20  left_only\n2             0    391  left_only\n3             0     23  left_only\n4             0    828  left_only\n...         ...    ...        ...\n1248865   41628   6703  left_only\n1248866   41628  21722  left_only\n1248867   41628  19424  left_only\n1248868   41628  22181  left_only\n1248869   41628   7155  left_only\n\n[1248870 rows x 3 columns]",
      "text/html": "<div>\n<style scoped>\n    .dataframe tbody tr th:only-of-type {\n        vertical-align: middle;\n    }\n\n    .dataframe tbody tr th {\n        vertical-align: top;\n    }\n\n    .dataframe thead th {\n        text-align: right;\n    }\n</style>\n<table border=\"1\" class=\"dataframe\">\n  <thead>\n    <tr style=\"text-align: right;\">\n      <th></th>\n      <th>UserID</th>\n      <th>ItemID</th>\n      <th>Exist</th>\n    </tr>\n  </thead>\n  <tbody>\n    <tr>\n      <th>0</th>\n      <td>0</td>\n      <td>5735</td>\n      <td>left_only</td>\n    </tr>\n    <tr>\n      <th>1</th>\n      <td>0</td>\n      <td>20</td>\n      <td>left_only</td>\n    </tr>\n    <tr>\n      <th>2</th>\n      <td>0</td>\n      <td>391</td>\n      <td>left_only</td>\n    </tr>\n    <tr>\n      <th>3</th>\n      <td>0</td>\n      <td>23</td>\n      <td>left_only</td>\n    </tr>\n    <tr>\n      <th>4</th>\n      <td>0</td>\n      <td>828</td>\n      <td>left_only</td>\n    </tr>\n    <tr>\n      <th>...</th>\n      <td>...</td>\n      <td>...</td>\n      <td>...</td>\n    </tr>\n    <tr>\n      <th>1248865</th>\n      <td>41628</td>\n      <td>6703</td>\n      <td>left_only</td>\n    </tr>\n    <tr>\n      <th>1248866</th>\n      <td>41628</td>\n      <td>21722</td>\n      <td>left_only</td>\n    </tr>\n    <tr>\n      <th>1248867</th>\n      <td>41628</td>\n      <td>19424</td>\n      <td>left_only</td>\n    </tr>\n    <tr>\n      <th>1248868</th>\n      <td>41628</td>\n      <td>22181</td>\n      <td>left_only</td>\n    </tr>\n    <tr>\n      <th>1248869</th>\n      <td>41628</td>\n      <td>7155</td>\n      <td>left_only</td>\n    </tr>\n  </tbody>\n</table>\n<p>1248870 rows × 3 columns</p>\n</div>"
     },
     "execution_count": 10,
     "metadata": {},
     "output_type": "execute_result"
    }
   ],
   "source": [
    "training_dataframe = pd.merge(training_dataframe, correct_recommendations, on=['UserID','ItemID'], how='left', indicator='Exist')\n",
    "training_dataframe"
   ],
   "metadata": {
    "collapsed": false
   }
  },
  {
   "cell_type": "code",
   "execution_count": 11,
   "outputs": [
    {
     "data": {
      "text/plain": "         UserID ItemID  Label\n0             0   5735  False\n1             0     20  False\n2             0    391  False\n3             0     23  False\n4             0    828  False\n...         ...    ...    ...\n1248865   41628   6703  False\n1248866   41628  21722  False\n1248867   41628  19424  False\n1248868   41628  22181  False\n1248869   41628   7155  False\n\n[1248870 rows x 3 columns]",
      "text/html": "<div>\n<style scoped>\n    .dataframe tbody tr th:only-of-type {\n        vertical-align: middle;\n    }\n\n    .dataframe tbody tr th {\n        vertical-align: top;\n    }\n\n    .dataframe thead th {\n        text-align: right;\n    }\n</style>\n<table border=\"1\" class=\"dataframe\">\n  <thead>\n    <tr style=\"text-align: right;\">\n      <th></th>\n      <th>UserID</th>\n      <th>ItemID</th>\n      <th>Label</th>\n    </tr>\n  </thead>\n  <tbody>\n    <tr>\n      <th>0</th>\n      <td>0</td>\n      <td>5735</td>\n      <td>False</td>\n    </tr>\n    <tr>\n      <th>1</th>\n      <td>0</td>\n      <td>20</td>\n      <td>False</td>\n    </tr>\n    <tr>\n      <th>2</th>\n      <td>0</td>\n      <td>391</td>\n      <td>False</td>\n    </tr>\n    <tr>\n      <th>3</th>\n      <td>0</td>\n      <td>23</td>\n      <td>False</td>\n    </tr>\n    <tr>\n      <th>4</th>\n      <td>0</td>\n      <td>828</td>\n      <td>False</td>\n    </tr>\n    <tr>\n      <th>...</th>\n      <td>...</td>\n      <td>...</td>\n      <td>...</td>\n    </tr>\n    <tr>\n      <th>1248865</th>\n      <td>41628</td>\n      <td>6703</td>\n      <td>False</td>\n    </tr>\n    <tr>\n      <th>1248866</th>\n      <td>41628</td>\n      <td>21722</td>\n      <td>False</td>\n    </tr>\n    <tr>\n      <th>1248867</th>\n      <td>41628</td>\n      <td>19424</td>\n      <td>False</td>\n    </tr>\n    <tr>\n      <th>1248868</th>\n      <td>41628</td>\n      <td>22181</td>\n      <td>False</td>\n    </tr>\n    <tr>\n      <th>1248869</th>\n      <td>41628</td>\n      <td>7155</td>\n      <td>False</td>\n    </tr>\n  </tbody>\n</table>\n<p>1248870 rows × 3 columns</p>\n</div>"
     },
     "execution_count": 11,
     "metadata": {},
     "output_type": "execute_result"
    }
   ],
   "source": [
    "training_dataframe[\"Label\"] = training_dataframe[\"Exist\"] == \"both\"\n",
    "training_dataframe.drop(columns = ['Exist'], inplace=True)\n",
    "training_dataframe"
   ],
   "metadata": {
    "collapsed": false
   }
  },
  {
   "cell_type": "markdown",
   "source": [
    "## Now we add some features like different recommenders predictions"
   ],
   "metadata": {
    "collapsed": false
   }
  },
  {
   "cell_type": "code",
   "execution_count": 12,
   "outputs": [
    {
     "name": "stderr",
     "output_type": "stream",
     "text": [
      "Done: 100%|██████████| 24507/24507 [00:03<00:00, 7276.62it/s]            \n"
     ]
    },
    {
     "name": "stdout",
     "output_type": "stream",
     "text": [
      "P3alphaRecommender: Similarity column 24507 (100.0%), 1352.64 column/sec. Elapsed time 18.12 sec\n"
     ]
    },
    {
     "data": {
      "text/plain": "  0%|          | 0/57 [00:00<?, ?it/s]",
      "application/vnd.jupyter.widget-view+json": {
       "version_major": 2,
       "version_minor": 0,
       "model_id": "2939f9e8abbc4ace810f764a76911b0e"
      }
     },
     "metadata": {},
     "output_type": "display_data"
    }
   ],
   "source": [
    "from Recommenders.KNN.ItemKNNCFRecommenderPLUS import ItemKNNCFRecommender\n",
    "from Recommenders.GraphBased.P3alphaRecommender import P3alphaRecommender\n",
    "from Recommenders.Implicit.ImplicitALSRecommender import ImplicitALSRecommender\n",
    "\n",
    "ICM = createSmallICM()\n",
    "\n",
    "ItemKNN = ItemKNNCFRecommender(URM_train)\n",
    "ItemKNN.fit(ICM=ICM, topK=584, shrink=919, similarity=\"dice\", normalization=\"bm25\")\n",
    "\n",
    "P3alpha = P3alphaRecommender(URM_train)\n",
    "P3alpha.fit(topK=116, alpha=0.8763131065621229)\n",
    "\n",
    "IALS = ImplicitALSRecommender(URM_train)\n",
    "IALS.fit(factors=110, alpha=7, iterations=57, regularization=0.0008866558623568822)\n",
    "\n",
    "other_algorithms = {\n",
    "    \"ItemKNN\": ItemKNN,\n",
    "    \"P3alpha\": P3alpha,\n",
    "    \"IALS\": IALS,\n",
    "}"
   ],
   "metadata": {
    "collapsed": false
   }
  },
  {
   "cell_type": "code",
   "execution_count": 13,
   "outputs": [
    {
     "name": "stderr",
     "output_type": "stream",
     "text": [
      "100%|██████████| 41629/41629 [03:28<00:00, 199.18it/s]\n"
     ]
    },
    {
     "data": {
      "text/plain": "         UserID ItemID  Label   ItemKNN   P3alpha      IALS\n0             0   5735  False  1.886544  0.038573  0.411152\n1             0     20  False  2.157014  0.032121  0.427384\n2             0    391  False  1.810423  0.032799  0.355383\n3             0     23  False  2.124116  0.050202  0.671742\n4             0    828  False  1.957499  0.024736  0.328565\n...         ...    ...    ...       ...       ...       ...\n1248865   41628   6703  False  0.391042  0.008965 -0.006666\n1248866   41628  21722  False  0.394461  0.008719  0.006177\n1248867   41628  19424  False  0.508864  0.008857 -0.001170\n1248868   41628  22181  False  0.463089  0.010560  0.009168\n1248869   41628   7155  False  0.425452  0.008965  0.001596\n\n[1248870 rows x 6 columns]",
      "text/html": "<div>\n<style scoped>\n    .dataframe tbody tr th:only-of-type {\n        vertical-align: middle;\n    }\n\n    .dataframe tbody tr th {\n        vertical-align: top;\n    }\n\n    .dataframe thead th {\n        text-align: right;\n    }\n</style>\n<table border=\"1\" class=\"dataframe\">\n  <thead>\n    <tr style=\"text-align: right;\">\n      <th></th>\n      <th>UserID</th>\n      <th>ItemID</th>\n      <th>Label</th>\n      <th>ItemKNN</th>\n      <th>P3alpha</th>\n      <th>IALS</th>\n    </tr>\n  </thead>\n  <tbody>\n    <tr>\n      <th>0</th>\n      <td>0</td>\n      <td>5735</td>\n      <td>False</td>\n      <td>1.886544</td>\n      <td>0.038573</td>\n      <td>0.411152</td>\n    </tr>\n    <tr>\n      <th>1</th>\n      <td>0</td>\n      <td>20</td>\n      <td>False</td>\n      <td>2.157014</td>\n      <td>0.032121</td>\n      <td>0.427384</td>\n    </tr>\n    <tr>\n      <th>2</th>\n      <td>0</td>\n      <td>391</td>\n      <td>False</td>\n      <td>1.810423</td>\n      <td>0.032799</td>\n      <td>0.355383</td>\n    </tr>\n    <tr>\n      <th>3</th>\n      <td>0</td>\n      <td>23</td>\n      <td>False</td>\n      <td>2.124116</td>\n      <td>0.050202</td>\n      <td>0.671742</td>\n    </tr>\n    <tr>\n      <th>4</th>\n      <td>0</td>\n      <td>828</td>\n      <td>False</td>\n      <td>1.957499</td>\n      <td>0.024736</td>\n      <td>0.328565</td>\n    </tr>\n    <tr>\n      <th>...</th>\n      <td>...</td>\n      <td>...</td>\n      <td>...</td>\n      <td>...</td>\n      <td>...</td>\n      <td>...</td>\n    </tr>\n    <tr>\n      <th>1248865</th>\n      <td>41628</td>\n      <td>6703</td>\n      <td>False</td>\n      <td>0.391042</td>\n      <td>0.008965</td>\n      <td>-0.006666</td>\n    </tr>\n    <tr>\n      <th>1248866</th>\n      <td>41628</td>\n      <td>21722</td>\n      <td>False</td>\n      <td>0.394461</td>\n      <td>0.008719</td>\n      <td>0.006177</td>\n    </tr>\n    <tr>\n      <th>1248867</th>\n      <td>41628</td>\n      <td>19424</td>\n      <td>False</td>\n      <td>0.508864</td>\n      <td>0.008857</td>\n      <td>-0.001170</td>\n    </tr>\n    <tr>\n      <th>1248868</th>\n      <td>41628</td>\n      <td>22181</td>\n      <td>False</td>\n      <td>0.463089</td>\n      <td>0.010560</td>\n      <td>0.009168</td>\n    </tr>\n    <tr>\n      <th>1248869</th>\n      <td>41628</td>\n      <td>7155</td>\n      <td>False</td>\n      <td>0.425452</td>\n      <td>0.008965</td>\n      <td>0.001596</td>\n    </tr>\n  </tbody>\n</table>\n<p>1248870 rows × 6 columns</p>\n</div>"
     },
     "execution_count": 13,
     "metadata": {},
     "output_type": "execute_result"
    }
   ],
   "source": [
    "training_dataframe = training_dataframe.set_index('UserID')\n",
    "\n",
    "for user_id in tqdm(range(n_users)):\n",
    "    for rec_label, rec_instance in other_algorithms.items():\n",
    "\n",
    "        item_list = training_dataframe.loc[user_id, \"ItemID\"].values.tolist()\n",
    "\n",
    "        all_item_scores = rec_instance._compute_item_score([user_id], items_to_compute = item_list)\n",
    "\n",
    "        training_dataframe.loc[user_id, rec_label] = all_item_scores[0, item_list]\n",
    "\n",
    "training_dataframe = training_dataframe.reset_index()\n",
    "training_dataframe = training_dataframe.rename(columns = {\"index\": \"UserID\"})\n",
    "training_dataframe"
   ],
   "metadata": {
    "collapsed": false
   }
  },
  {
   "cell_type": "markdown",
   "source": [
    "## We add the item popularity and profile length"
   ],
   "metadata": {
    "collapsed": false
   }
  },
  {
   "cell_type": "code",
   "execution_count": 14,
   "outputs": [
    {
     "data": {
      "text/plain": "         UserID ItemID  Label   ItemKNN   P3alpha      IALS  item_popularity\n0             0   5735  False  1.886544  0.038573  0.411152              324\n1             0     20  False  2.157014  0.032121  0.427384             3598\n2             0    391  False  1.810423  0.032799  0.355383              279\n3             0     23  False  2.124116  0.050202  0.671742             3121\n4             0    828  False  1.957499  0.024736  0.328565              825\n...         ...    ...    ...       ...       ...       ...              ...\n1248865   41628   6703  False  0.391042  0.008965 -0.006666               24\n1248866   41628  21722  False  0.394461  0.008719  0.006177               23\n1248867   41628  19424  False  0.508864  0.008857 -0.001170               16\n1248868   41628  22181  False  0.463089  0.010560  0.009168               21\n1248869   41628   7155  False  0.425452  0.008965  0.001596               22\n\n[1248870 rows x 7 columns]",
      "text/html": "<div>\n<style scoped>\n    .dataframe tbody tr th:only-of-type {\n        vertical-align: middle;\n    }\n\n    .dataframe tbody tr th {\n        vertical-align: top;\n    }\n\n    .dataframe thead th {\n        text-align: right;\n    }\n</style>\n<table border=\"1\" class=\"dataframe\">\n  <thead>\n    <tr style=\"text-align: right;\">\n      <th></th>\n      <th>UserID</th>\n      <th>ItemID</th>\n      <th>Label</th>\n      <th>ItemKNN</th>\n      <th>P3alpha</th>\n      <th>IALS</th>\n      <th>item_popularity</th>\n    </tr>\n  </thead>\n  <tbody>\n    <tr>\n      <th>0</th>\n      <td>0</td>\n      <td>5735</td>\n      <td>False</td>\n      <td>1.886544</td>\n      <td>0.038573</td>\n      <td>0.411152</td>\n      <td>324</td>\n    </tr>\n    <tr>\n      <th>1</th>\n      <td>0</td>\n      <td>20</td>\n      <td>False</td>\n      <td>2.157014</td>\n      <td>0.032121</td>\n      <td>0.427384</td>\n      <td>3598</td>\n    </tr>\n    <tr>\n      <th>2</th>\n      <td>0</td>\n      <td>391</td>\n      <td>False</td>\n      <td>1.810423</td>\n      <td>0.032799</td>\n      <td>0.355383</td>\n      <td>279</td>\n    </tr>\n    <tr>\n      <th>3</th>\n      <td>0</td>\n      <td>23</td>\n      <td>False</td>\n      <td>2.124116</td>\n      <td>0.050202</td>\n      <td>0.671742</td>\n      <td>3121</td>\n    </tr>\n    <tr>\n      <th>4</th>\n      <td>0</td>\n      <td>828</td>\n      <td>False</td>\n      <td>1.957499</td>\n      <td>0.024736</td>\n      <td>0.328565</td>\n      <td>825</td>\n    </tr>\n    <tr>\n      <th>...</th>\n      <td>...</td>\n      <td>...</td>\n      <td>...</td>\n      <td>...</td>\n      <td>...</td>\n      <td>...</td>\n      <td>...</td>\n    </tr>\n    <tr>\n      <th>1248865</th>\n      <td>41628</td>\n      <td>6703</td>\n      <td>False</td>\n      <td>0.391042</td>\n      <td>0.008965</td>\n      <td>-0.006666</td>\n      <td>24</td>\n    </tr>\n    <tr>\n      <th>1248866</th>\n      <td>41628</td>\n      <td>21722</td>\n      <td>False</td>\n      <td>0.394461</td>\n      <td>0.008719</td>\n      <td>0.006177</td>\n      <td>23</td>\n    </tr>\n    <tr>\n      <th>1248867</th>\n      <td>41628</td>\n      <td>19424</td>\n      <td>False</td>\n      <td>0.508864</td>\n      <td>0.008857</td>\n      <td>-0.001170</td>\n      <td>16</td>\n    </tr>\n    <tr>\n      <th>1248868</th>\n      <td>41628</td>\n      <td>22181</td>\n      <td>False</td>\n      <td>0.463089</td>\n      <td>0.010560</td>\n      <td>0.009168</td>\n      <td>21</td>\n    </tr>\n    <tr>\n      <th>1248869</th>\n      <td>41628</td>\n      <td>7155</td>\n      <td>False</td>\n      <td>0.425452</td>\n      <td>0.008965</td>\n      <td>0.001596</td>\n      <td>22</td>\n    </tr>\n  </tbody>\n</table>\n<p>1248870 rows × 7 columns</p>\n</div>"
     },
     "execution_count": 14,
     "metadata": {},
     "output_type": "execute_result"
    }
   ],
   "source": [
    "item_popularity = np.ediff1d(sps.csc_matrix(URM_train).indptr)\n",
    "\n",
    "training_dataframe['item_popularity'] = item_popularity[training_dataframe[\"ItemID\"].values.astype(int)]\n",
    "training_dataframe"
   ],
   "metadata": {
    "collapsed": false
   }
  },
  {
   "cell_type": "code",
   "execution_count": 15,
   "outputs": [
    {
     "data": {
      "text/plain": "         UserID ItemID  Label   ItemKNN   P3alpha      IALS  item_popularity  \\\n0             0   5735  False  1.886544  0.038573  0.411152              324   \n1             0     20  False  2.157014  0.032121  0.427384             3598   \n2             0    391  False  1.810423  0.032799  0.355383              279   \n3             0     23  False  2.124116  0.050202  0.671742             3121   \n4             0    828  False  1.957499  0.024736  0.328565              825   \n...         ...    ...    ...       ...       ...       ...              ...   \n1248865   41628   6703  False  0.391042  0.008965 -0.006666               24   \n1248866   41628  21722  False  0.394461  0.008719  0.006177               23   \n1248867   41628  19424  False  0.508864  0.008857 -0.001170               16   \n1248868   41628  22181  False  0.463089  0.010560  0.009168               21   \n1248869   41628   7155  False  0.425452  0.008965  0.001596               22   \n\n         user_profile_len  \n0                      47  \n1                      47  \n2                      47  \n3                      47  \n4                      47  \n...                   ...  \n1248865                14  \n1248866                14  \n1248867                14  \n1248868                14  \n1248869                14  \n\n[1248870 rows x 8 columns]",
      "text/html": "<div>\n<style scoped>\n    .dataframe tbody tr th:only-of-type {\n        vertical-align: middle;\n    }\n\n    .dataframe tbody tr th {\n        vertical-align: top;\n    }\n\n    .dataframe thead th {\n        text-align: right;\n    }\n</style>\n<table border=\"1\" class=\"dataframe\">\n  <thead>\n    <tr style=\"text-align: right;\">\n      <th></th>\n      <th>UserID</th>\n      <th>ItemID</th>\n      <th>Label</th>\n      <th>ItemKNN</th>\n      <th>P3alpha</th>\n      <th>IALS</th>\n      <th>item_popularity</th>\n      <th>user_profile_len</th>\n    </tr>\n  </thead>\n  <tbody>\n    <tr>\n      <th>0</th>\n      <td>0</td>\n      <td>5735</td>\n      <td>False</td>\n      <td>1.886544</td>\n      <td>0.038573</td>\n      <td>0.411152</td>\n      <td>324</td>\n      <td>47</td>\n    </tr>\n    <tr>\n      <th>1</th>\n      <td>0</td>\n      <td>20</td>\n      <td>False</td>\n      <td>2.157014</td>\n      <td>0.032121</td>\n      <td>0.427384</td>\n      <td>3598</td>\n      <td>47</td>\n    </tr>\n    <tr>\n      <th>2</th>\n      <td>0</td>\n      <td>391</td>\n      <td>False</td>\n      <td>1.810423</td>\n      <td>0.032799</td>\n      <td>0.355383</td>\n      <td>279</td>\n      <td>47</td>\n    </tr>\n    <tr>\n      <th>3</th>\n      <td>0</td>\n      <td>23</td>\n      <td>False</td>\n      <td>2.124116</td>\n      <td>0.050202</td>\n      <td>0.671742</td>\n      <td>3121</td>\n      <td>47</td>\n    </tr>\n    <tr>\n      <th>4</th>\n      <td>0</td>\n      <td>828</td>\n      <td>False</td>\n      <td>1.957499</td>\n      <td>0.024736</td>\n      <td>0.328565</td>\n      <td>825</td>\n      <td>47</td>\n    </tr>\n    <tr>\n      <th>...</th>\n      <td>...</td>\n      <td>...</td>\n      <td>...</td>\n      <td>...</td>\n      <td>...</td>\n      <td>...</td>\n      <td>...</td>\n      <td>...</td>\n    </tr>\n    <tr>\n      <th>1248865</th>\n      <td>41628</td>\n      <td>6703</td>\n      <td>False</td>\n      <td>0.391042</td>\n      <td>0.008965</td>\n      <td>-0.006666</td>\n      <td>24</td>\n      <td>14</td>\n    </tr>\n    <tr>\n      <th>1248866</th>\n      <td>41628</td>\n      <td>21722</td>\n      <td>False</td>\n      <td>0.394461</td>\n      <td>0.008719</td>\n      <td>0.006177</td>\n      <td>23</td>\n      <td>14</td>\n    </tr>\n    <tr>\n      <th>1248867</th>\n      <td>41628</td>\n      <td>19424</td>\n      <td>False</td>\n      <td>0.508864</td>\n      <td>0.008857</td>\n      <td>-0.001170</td>\n      <td>16</td>\n      <td>14</td>\n    </tr>\n    <tr>\n      <th>1248868</th>\n      <td>41628</td>\n      <td>22181</td>\n      <td>False</td>\n      <td>0.463089</td>\n      <td>0.010560</td>\n      <td>0.009168</td>\n      <td>21</td>\n      <td>14</td>\n    </tr>\n    <tr>\n      <th>1248869</th>\n      <td>41628</td>\n      <td>7155</td>\n      <td>False</td>\n      <td>0.425452</td>\n      <td>0.008965</td>\n      <td>0.001596</td>\n      <td>22</td>\n      <td>14</td>\n    </tr>\n  </tbody>\n</table>\n<p>1248870 rows × 8 columns</p>\n</div>"
     },
     "execution_count": 15,
     "metadata": {},
     "output_type": "execute_result"
    }
   ],
   "source": [
    "user_popularity = np.ediff1d(sps.csr_matrix(URM_train).indptr)\n",
    "\n",
    "training_dataframe['user_profile_len'] = user_popularity[training_dataframe[\"UserID\"].values.astype(int)]\n",
    "training_dataframe"
   ],
   "metadata": {
    "collapsed": false
   }
  },
  {
   "cell_type": "code",
   "execution_count": 16,
   "outputs": [
    {
     "data": {
      "text/plain": "         UserID ItemID  Label   ItemKNN   P3alpha      IALS  item_popularity  \\\n0             0   5735  False  1.886544  0.038573  0.411152              324   \n1             0   3391  False  0.927965  0.021100  0.200136              212   \n2             0   1648  False  1.105758  0.000000 -0.171304             1370   \n3             0   4577  False  0.934707  0.022408  0.198725              223   \n4             0   5070  False  0.870980  0.021523  0.221970              195   \n...         ...    ...    ...       ...       ...       ...              ...   \n1248865   41628   2904  False  1.639046  0.019774  0.186203               88   \n1248866   41628    769  False  2.373099  0.034845  0.266561              117   \n1248867   41628  22181  False  0.463089  0.010560  0.009168               21   \n1248868   41628    897  False  0.569218  0.007158  0.177831              101   \n1248869   41628   7155  False  0.425452  0.008965  0.001596               22   \n\n         user_profile_len  \n0                      47  \n1                      47  \n2                      47  \n3                      47  \n4                      47  \n...                   ...  \n1248865                14  \n1248866                14  \n1248867                14  \n1248868                14  \n1248869                14  \n\n[1248870 rows x 8 columns]",
      "text/html": "<div>\n<style scoped>\n    .dataframe tbody tr th:only-of-type {\n        vertical-align: middle;\n    }\n\n    .dataframe tbody tr th {\n        vertical-align: top;\n    }\n\n    .dataframe thead th {\n        text-align: right;\n    }\n</style>\n<table border=\"1\" class=\"dataframe\">\n  <thead>\n    <tr style=\"text-align: right;\">\n      <th></th>\n      <th>UserID</th>\n      <th>ItemID</th>\n      <th>Label</th>\n      <th>ItemKNN</th>\n      <th>P3alpha</th>\n      <th>IALS</th>\n      <th>item_popularity</th>\n      <th>user_profile_len</th>\n    </tr>\n  </thead>\n  <tbody>\n    <tr>\n      <th>0</th>\n      <td>0</td>\n      <td>5735</td>\n      <td>False</td>\n      <td>1.886544</td>\n      <td>0.038573</td>\n      <td>0.411152</td>\n      <td>324</td>\n      <td>47</td>\n    </tr>\n    <tr>\n      <th>1</th>\n      <td>0</td>\n      <td>3391</td>\n      <td>False</td>\n      <td>0.927965</td>\n      <td>0.021100</td>\n      <td>0.200136</td>\n      <td>212</td>\n      <td>47</td>\n    </tr>\n    <tr>\n      <th>2</th>\n      <td>0</td>\n      <td>1648</td>\n      <td>False</td>\n      <td>1.105758</td>\n      <td>0.000000</td>\n      <td>-0.171304</td>\n      <td>1370</td>\n      <td>47</td>\n    </tr>\n    <tr>\n      <th>3</th>\n      <td>0</td>\n      <td>4577</td>\n      <td>False</td>\n      <td>0.934707</td>\n      <td>0.022408</td>\n      <td>0.198725</td>\n      <td>223</td>\n      <td>47</td>\n    </tr>\n    <tr>\n      <th>4</th>\n      <td>0</td>\n      <td>5070</td>\n      <td>False</td>\n      <td>0.870980</td>\n      <td>0.021523</td>\n      <td>0.221970</td>\n      <td>195</td>\n      <td>47</td>\n    </tr>\n    <tr>\n      <th>...</th>\n      <td>...</td>\n      <td>...</td>\n      <td>...</td>\n      <td>...</td>\n      <td>...</td>\n      <td>...</td>\n      <td>...</td>\n      <td>...</td>\n    </tr>\n    <tr>\n      <th>1248865</th>\n      <td>41628</td>\n      <td>2904</td>\n      <td>False</td>\n      <td>1.639046</td>\n      <td>0.019774</td>\n      <td>0.186203</td>\n      <td>88</td>\n      <td>14</td>\n    </tr>\n    <tr>\n      <th>1248866</th>\n      <td>41628</td>\n      <td>769</td>\n      <td>False</td>\n      <td>2.373099</td>\n      <td>0.034845</td>\n      <td>0.266561</td>\n      <td>117</td>\n      <td>14</td>\n    </tr>\n    <tr>\n      <th>1248867</th>\n      <td>41628</td>\n      <td>22181</td>\n      <td>False</td>\n      <td>0.463089</td>\n      <td>0.010560</td>\n      <td>0.009168</td>\n      <td>21</td>\n      <td>14</td>\n    </tr>\n    <tr>\n      <th>1248868</th>\n      <td>41628</td>\n      <td>897</td>\n      <td>False</td>\n      <td>0.569218</td>\n      <td>0.007158</td>\n      <td>0.177831</td>\n      <td>101</td>\n      <td>14</td>\n    </tr>\n    <tr>\n      <th>1248869</th>\n      <td>41628</td>\n      <td>7155</td>\n      <td>False</td>\n      <td>0.425452</td>\n      <td>0.008965</td>\n      <td>0.001596</td>\n      <td>22</td>\n      <td>14</td>\n    </tr>\n  </tbody>\n</table>\n<p>1248870 rows × 8 columns</p>\n</div>"
     },
     "execution_count": 16,
     "metadata": {},
     "output_type": "execute_result"
    }
   ],
   "source": [
    "training_dataframe = training_dataframe.sort_values(\"UserID\").reset_index()\n",
    "training_dataframe.drop(columns = ['index'], inplace=True)\n",
    "training_dataframe"
   ],
   "metadata": {
    "collapsed": false
   }
  },
  {
   "cell_type": "markdown",
   "source": [
    "## Train XGBoost"
   ],
   "metadata": {
    "collapsed": false
   }
  },
  {
   "cell_type": "code",
   "execution_count": 17,
   "outputs": [
    {
     "data": {
      "text/plain": "array([30, 30, 30, ..., 30, 30, 30], dtype=int64)"
     },
     "execution_count": 17,
     "metadata": {},
     "output_type": "execute_result"
    }
   ],
   "source": [
    "groups = training_dataframe.groupby(\"UserID\").size().values\n",
    "groups"
   ],
   "metadata": {
    "collapsed": false
   }
  },
  {
   "cell_type": "code",
   "execution_count": 24,
   "outputs": [],
   "source": [
    "from xgboost import XGBRanker"
   ],
   "metadata": {
    "collapsed": false
   }
  },
  {
   "cell_type": "code",
   "execution_count": 25,
   "outputs": [],
   "source": [
    "y_train = training_dataframe[\"Label\"]\n",
    "X_train = training_dataframe.drop(columns=[\"Label\"])\n",
    "\n",
    "X_train[\"UserID\"] = X_train[\"UserID\"].astype(\"category\")\n",
    "X_train[\"ItemID\"] = X_train[\"ItemID\"].astype(\"category\")"
   ],
   "metadata": {
    "collapsed": false
   }
  },
  {
   "cell_type": "code",
   "execution_count": 28,
   "outputs": [
    {
     "name": "stderr",
     "output_type": "stream",
     "text": [
      "C:\\Users\\Mike\\anaconda3\\envs\\recsys\\lib\\site-packages\\xgboost\\data.py:250: FutureWarning: pandas.Int64Index is deprecated and will be removed from pandas in a future version. Use pandas.Index with the appropriate dtype instead.\n",
      "  elif isinstance(data.columns, (pd.Int64Index, pd.RangeIndex)):\n"
     ]
    },
    {
     "ename": "ValueError",
     "evalue": "Experimental support for categorical data is not implemented for current tree method yet.",
     "output_type": "error",
     "traceback": [
      "\u001B[1;31m---------------------------------------------------------------------------\u001B[0m",
      "\u001B[1;31mValueError\u001B[0m                                Traceback (most recent call last)",
      "Cell \u001B[1;32mIn[28], line 28\u001B[0m\n\u001B[0;32m     11\u001B[0m random_seed \u001B[38;5;241m=\u001B[39m \u001B[38;5;28;01mNone\u001B[39;00m\n\u001B[0;32m     13\u001B[0m XGB_model \u001B[38;5;241m=\u001B[39m XGBRanker(objective\u001B[38;5;241m=\u001B[39m\u001B[38;5;124m'\u001B[39m\u001B[38;5;124mrank:\u001B[39m\u001B[38;5;132;01m{}\u001B[39;00m\u001B[38;5;124m'\u001B[39m\u001B[38;5;241m.\u001B[39mformat(objective),\n\u001B[0;32m     14\u001B[0m                       n_estimators \u001B[38;5;241m=\u001B[39m \u001B[38;5;28mint\u001B[39m(n_estimators),\n\u001B[0;32m     15\u001B[0m                       random_state \u001B[38;5;241m=\u001B[39m random_seed,\n\u001B[1;32m   (...)\u001B[0m\n\u001B[0;32m     25\u001B[0m                       tree_method \u001B[38;5;241m=\u001B[39m \u001B[38;5;124m\"\u001B[39m\u001B[38;5;124mhist\u001B[39m\u001B[38;5;124m\"\u001B[39m  \u001B[38;5;66;03m# Supported tree methods are `gpu_hist`, `approx`, and `hist`.\u001B[39;00m\n\u001B[0;32m     26\u001B[0m                       )\n\u001B[1;32m---> 28\u001B[0m \u001B[43mXGB_model\u001B[49m\u001B[38;5;241;43m.\u001B[39;49m\u001B[43mfit\u001B[49m\u001B[43m(\u001B[49m\u001B[43mX_train\u001B[49m\u001B[43m,\u001B[49m\n\u001B[0;32m     29\u001B[0m \u001B[43m          \u001B[49m\u001B[43my_train\u001B[49m\u001B[43m,\u001B[49m\n\u001B[0;32m     30\u001B[0m \u001B[43m          \u001B[49m\u001B[43mgroup\u001B[49m\u001B[38;5;241;43m=\u001B[39;49m\u001B[43mgroups\u001B[49m\u001B[43m,\u001B[49m\n\u001B[0;32m     31\u001B[0m \u001B[43m          \u001B[49m\u001B[43mverbose\u001B[49m\u001B[38;5;241;43m=\u001B[39;49m\u001B[38;5;28;43;01mTrue\u001B[39;49;00m\u001B[43m)\u001B[49m\n",
      "File \u001B[1;32m~\\anaconda3\\envs\\recsys\\lib\\site-packages\\xgboost\\core.py:506\u001B[0m, in \u001B[0;36m_deprecate_positional_args.<locals>.inner_f\u001B[1;34m(*args, **kwargs)\u001B[0m\n\u001B[0;32m    504\u001B[0m \u001B[38;5;28;01mfor\u001B[39;00m k, arg \u001B[38;5;129;01min\u001B[39;00m \u001B[38;5;28mzip\u001B[39m(sig\u001B[38;5;241m.\u001B[39mparameters, args):\n\u001B[0;32m    505\u001B[0m     kwargs[k] \u001B[38;5;241m=\u001B[39m arg\n\u001B[1;32m--> 506\u001B[0m \u001B[38;5;28;01mreturn\u001B[39;00m f(\u001B[38;5;241m*\u001B[39m\u001B[38;5;241m*\u001B[39mkwargs)\n",
      "File \u001B[1;32m~\\anaconda3\\envs\\recsys\\lib\\site-packages\\xgboost\\sklearn.py:1731\u001B[0m, in \u001B[0;36mXGBRanker.fit\u001B[1;34m(self, X, y, group, qid, sample_weight, base_margin, eval_set, eval_group, eval_qid, eval_metric, early_stopping_rounds, verbose, xgb_model, sample_weight_eval_set, base_margin_eval_set, feature_weights, callbacks)\u001B[0m\n\u001B[0;32m   1728\u001B[0m evals_result: TrainingCallback\u001B[38;5;241m.\u001B[39mEvalsLog \u001B[38;5;241m=\u001B[39m {}\n\u001B[0;32m   1729\u001B[0m params \u001B[38;5;241m=\u001B[39m \u001B[38;5;28mself\u001B[39m\u001B[38;5;241m.\u001B[39mget_xgb_params()\n\u001B[1;32m-> 1731\u001B[0m model, feval, params \u001B[38;5;241m=\u001B[39m \u001B[38;5;28;43mself\u001B[39;49m\u001B[38;5;241;43m.\u001B[39;49m\u001B[43m_configure_fit\u001B[49m\u001B[43m(\u001B[49m\u001B[43mxgb_model\u001B[49m\u001B[43m,\u001B[49m\u001B[43m \u001B[49m\u001B[43meval_metric\u001B[49m\u001B[43m,\u001B[49m\u001B[43m \u001B[49m\u001B[43mparams\u001B[49m\u001B[43m)\u001B[49m\n\u001B[0;32m   1732\u001B[0m \u001B[38;5;28;01mif\u001B[39;00m callable(feval):\n\u001B[0;32m   1733\u001B[0m     \u001B[38;5;28;01mraise\u001B[39;00m \u001B[38;5;167;01mValueError\u001B[39;00m(\n\u001B[0;32m   1734\u001B[0m         \u001B[38;5;124m'\u001B[39m\u001B[38;5;124mCustom evaluation metric is not yet supported for XGBRanker.\u001B[39m\u001B[38;5;124m'\u001B[39m\n\u001B[0;32m   1735\u001B[0m     )\n",
      "File \u001B[1;32m~\\anaconda3\\envs\\recsys\\lib\\site-packages\\xgboost\\sklearn.py:654\u001B[0m, in \u001B[0;36mXGBModel._configure_fit\u001B[1;34m(self, booster, eval_metric, params)\u001B[0m\n\u001B[0;32m    652\u001B[0m         params\u001B[38;5;241m.\u001B[39mupdate({\u001B[38;5;124m\"\u001B[39m\u001B[38;5;124meval_metric\u001B[39m\u001B[38;5;124m\"\u001B[39m: eval_metric})\n\u001B[0;32m    653\u001B[0m \u001B[38;5;28;01mif\u001B[39;00m \u001B[38;5;28mself\u001B[39m\u001B[38;5;241m.\u001B[39menable_categorical \u001B[38;5;129;01mand\u001B[39;00m params\u001B[38;5;241m.\u001B[39mget(\u001B[38;5;124m\"\u001B[39m\u001B[38;5;124mtree_method\u001B[39m\u001B[38;5;124m\"\u001B[39m, \u001B[38;5;28;01mNone\u001B[39;00m) \u001B[38;5;241m!=\u001B[39m \u001B[38;5;124m\"\u001B[39m\u001B[38;5;124mgpu_hist\u001B[39m\u001B[38;5;124m\"\u001B[39m:\n\u001B[1;32m--> 654\u001B[0m     \u001B[38;5;28;01mraise\u001B[39;00m \u001B[38;5;167;01mValueError\u001B[39;00m(\n\u001B[0;32m    655\u001B[0m         \u001B[38;5;124m\"\u001B[39m\u001B[38;5;124mExperimental support for categorical data is not implemented for\u001B[39m\u001B[38;5;124m\"\u001B[39m\n\u001B[0;32m    656\u001B[0m         \u001B[38;5;124m\"\u001B[39m\u001B[38;5;124m current tree method yet.\u001B[39m\u001B[38;5;124m\"\u001B[39m\n\u001B[0;32m    657\u001B[0m     )\n\u001B[0;32m    659\u001B[0m \u001B[38;5;28;01mreturn\u001B[39;00m model, feval, params\n",
      "\u001B[1;31mValueError\u001B[0m: Experimental support for categorical data is not implemented for current tree method yet."
     ]
    }
   ],
   "source": [
    "n_estimators = 50\n",
    "learning_rate = 1e-1\n",
    "reg_alpha = 1e-1\n",
    "reg_lambda = 1e-1\n",
    "max_depth = 5\n",
    "max_leaves = 0\n",
    "grow_policy = \"depthwise\"\n",
    "objective = \"pairwise\"\n",
    "booster = \"gbtree\"\n",
    "use_user_profile = False\n",
    "random_seed = None\n",
    "\n",
    "XGB_model = XGBRanker(objective='rank:{}'.format(objective),\n",
    "                      n_estimators = int(n_estimators),\n",
    "                      random_state = random_seed,\n",
    "                      learning_rate = learning_rate,\n",
    "                      reg_alpha = reg_alpha,\n",
    "                      reg_lambda = reg_lambda,\n",
    "                      max_depth = int(max_depth),\n",
    "                      max_leaves = int(max_leaves),\n",
    "                      grow_policy = grow_policy,\n",
    "                      verbosity = 0, # 2 if self.verbose else 0,\n",
    "                      booster = booster,\n",
    "                      enable_categorical = True,\n",
    "                      tree_method = \"hist\"  # Supported tree methods are `gpu_hist`, `approx`, and `hist`.\n",
    "                      )\n",
    "\n",
    "XGB_model.fit(X_train,\n",
    "          y_train,\n",
    "          group=groups,\n",
    "          verbose=True)"
   ],
   "metadata": {
    "collapsed": false
   }
  },
  {
   "cell_type": "code",
   "execution_count": null,
   "outputs": [],
   "source": [],
   "metadata": {
    "collapsed": false
   }
  }
 ],
 "metadata": {
  "kernelspec": {
   "display_name": "Python 3",
   "language": "python",
   "name": "python3"
  },
  "language_info": {
   "codemirror_mode": {
    "name": "ipython",
    "version": 2
   },
   "file_extension": ".py",
   "mimetype": "text/x-python",
   "name": "python",
   "nbconvert_exporter": "python",
   "pygments_lexer": "ipython2",
   "version": "2.7.6"
  }
 },
 "nbformat": 4,
 "nbformat_minor": 0
}
