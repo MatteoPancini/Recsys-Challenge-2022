{
 "cells": [
  {
   "cell_type": "code",
   "execution_count": 33,
   "outputs": [],
   "source": [
    "import pandas as pd\n",
    "import scipy.sparse as sp\n",
    "import numpy as np\n",
    "import re"
   ],
   "metadata": {
    "collapsed": false
   }
  },
  {
   "cell_type": "code",
   "execution_count": 2,
   "outputs": [
    {
     "name": "stderr",
     "output_type": "stream",
     "text": [
      "/var/folders/tt/9v6608x550n51759gpcrffsc0000gn/T/ipykernel_55221/849025642.py:1: DtypeWarning: Columns (2) have mixed types. Specify dtype option on import or set low_memory=False.\n",
      "  dataset = pd.read_csv('Input/interactions_and_impressions.csv')\n"
     ]
    }
   ],
   "source": [
    "dataset = pd.read_csv('Input/interactions_and_impressions.csv')"
   ],
   "metadata": {
    "collapsed": false
   }
  },
  {
   "cell_type": "code",
   "execution_count": 13,
   "outputs": [],
   "source": [
    "datasetCOO = sp.coo_matrix((dataset[\"Data\"].values, (dataset[\"UserID\"].values, dataset[\"ItemID\"].values)))"
   ],
   "metadata": {
    "collapsed": false
   }
  },
  {
   "cell_type": "code",
   "execution_count": 7,
   "outputs": [
    {
     "data": {
      "text/plain": "'0,1,2,3,4,5,6,7,8,9,10,11,12,13,14,15,16,17,18,19'"
     },
     "execution_count": 7,
     "metadata": {},
     "output_type": "execute_result"
    }
   ],
   "source": [
    "dataset['Impressions'][0]"
   ],
   "metadata": {
    "collapsed": false
   }
  },
  {
   "cell_type": "code",
   "execution_count": 8,
   "outputs": [
    {
     "data": {
      "text/plain": "5826506"
     },
     "execution_count": 8,
     "metadata": {},
     "output_type": "execute_result"
    }
   ],
   "source": [
    "len(dataset['Impressions'])"
   ],
   "metadata": {
    "collapsed": false
   }
  },
  {
   "cell_type": "code",
   "execution_count": 14,
   "outputs": [
    {
     "data": {
      "text/plain": "5826506"
     },
     "execution_count": 14,
     "metadata": {},
     "output_type": "execute_result"
    }
   ],
   "source": [
    "len(datasetCOO.data)"
   ],
   "metadata": {
    "collapsed": false
   }
  },
  {
   "cell_type": "code",
   "execution_count": 15,
   "outputs": [],
   "source": [
    "userIDS = dataset['UserID'].unique()\n",
    "itemIDS = dataset['ItemID'].unique()"
   ],
   "metadata": {
    "collapsed": false
   }
  },
  {
   "cell_type": "code",
   "execution_count": 19,
   "outputs": [],
   "source": [
    "URM = np.zeros((len(userIDS), len(itemIDS)), dtype=int)"
   ],
   "metadata": {
    "collapsed": false
   }
  },
  {
   "cell_type": "code",
   "execution_count": 20,
   "outputs": [],
   "source": [
    "for x in range(len(datasetCOO.data)):\n",
    "    if (datasetCOO.data[x] == 0 or datasetCOO.data[x] == 1) and URM[datasetCOO.row[x]][datasetCOO.col[x]] != 1:\n",
    "        URM[datasetCOO.row[x]][datasetCOO.col[x]] = int(1)"
   ],
   "metadata": {
    "collapsed": false
   }
  },
  {
   "cell_type": "code",
   "execution_count": 24,
   "outputs": [
    {
     "data": {
      "text/plain": "array([[0, 0, 0, ..., 0, 0, 0],\n       [0, 0, 0, ..., 0, 0, 0],\n       [0, 0, 0, ..., 0, 0, 0],\n       ...,\n       [0, 0, 0, ..., 0, 0, 0],\n       [0, 0, 0, ..., 0, 0, 0],\n       [0, 0, 0, ..., 0, 0, 0]])"
     },
     "execution_count": 24,
     "metadata": {},
     "output_type": "execute_result"
    }
   ],
   "source": [
    "URM"
   ],
   "metadata": {
    "collapsed": false
   }
  },
  {
   "cell_type": "code",
   "execution_count": 60,
   "outputs": [
    {
     "data": {
      "text/plain": "         UserID  ItemID                                        Impressions  \\\n0             0      11  0,1,2,3,4,5,6,7,8,9,10,11,12,13,14,15,16,17,18,19   \n3             0      21                      20,21,22,23,24,25,26,27,28,29   \n11            0      21                      20,21,30,22,23,24,26,31,29,32   \n12            0      21                      20,21,22,23,24,25,26,27,28,29   \n28            0      24                      20,21,30,22,23,24,25,27,28,29   \n...         ...     ...                                                ...   \n5443674   36014   15175                   20,21,30,15175,23,24,26,31,29,32   \n5443677   36015      21                    124,20,21,30,22,23,24,25,206,28   \n5443724   36016    5396           150,773,537,938,540,5396,542,909,545,826   \n5443827   36017    4885                                 997,4885,3619,3622   \n5443853   36018      65     2964,1906,1674,2340,1675,2341,361,1300,1503,65   \n\n         Data  \n0           1  \n3           0  \n11          1  \n12          1  \n28          1  \n...       ...  \n5443674     1  \n5443677     0  \n5443724     1  \n5443827     0  \n5443853     0  \n\n[233136 rows x 4 columns]",
      "text/html": "<div>\n<style scoped>\n    .dataframe tbody tr th:only-of-type {\n        vertical-align: middle;\n    }\n\n    .dataframe tbody tr th {\n        vertical-align: top;\n    }\n\n    .dataframe thead th {\n        text-align: right;\n    }\n</style>\n<table border=\"1\" class=\"dataframe\">\n  <thead>\n    <tr style=\"text-align: right;\">\n      <th></th>\n      <th>UserID</th>\n      <th>ItemID</th>\n      <th>Impressions</th>\n      <th>Data</th>\n    </tr>\n  </thead>\n  <tbody>\n    <tr>\n      <th>0</th>\n      <td>0</td>\n      <td>11</td>\n      <td>0,1,2,3,4,5,6,7,8,9,10,11,12,13,14,15,16,17,18,19</td>\n      <td>1</td>\n    </tr>\n    <tr>\n      <th>3</th>\n      <td>0</td>\n      <td>21</td>\n      <td>20,21,22,23,24,25,26,27,28,29</td>\n      <td>0</td>\n    </tr>\n    <tr>\n      <th>11</th>\n      <td>0</td>\n      <td>21</td>\n      <td>20,21,30,22,23,24,26,31,29,32</td>\n      <td>1</td>\n    </tr>\n    <tr>\n      <th>12</th>\n      <td>0</td>\n      <td>21</td>\n      <td>20,21,22,23,24,25,26,27,28,29</td>\n      <td>1</td>\n    </tr>\n    <tr>\n      <th>28</th>\n      <td>0</td>\n      <td>24</td>\n      <td>20,21,30,22,23,24,25,27,28,29</td>\n      <td>1</td>\n    </tr>\n    <tr>\n      <th>...</th>\n      <td>...</td>\n      <td>...</td>\n      <td>...</td>\n      <td>...</td>\n    </tr>\n    <tr>\n      <th>5443674</th>\n      <td>36014</td>\n      <td>15175</td>\n      <td>20,21,30,15175,23,24,26,31,29,32</td>\n      <td>1</td>\n    </tr>\n    <tr>\n      <th>5443677</th>\n      <td>36015</td>\n      <td>21</td>\n      <td>124,20,21,30,22,23,24,25,206,28</td>\n      <td>0</td>\n    </tr>\n    <tr>\n      <th>5443724</th>\n      <td>36016</td>\n      <td>5396</td>\n      <td>150,773,537,938,540,5396,542,909,545,826</td>\n      <td>1</td>\n    </tr>\n    <tr>\n      <th>5443827</th>\n      <td>36017</td>\n      <td>4885</td>\n      <td>997,4885,3619,3622</td>\n      <td>0</td>\n    </tr>\n    <tr>\n      <th>5443853</th>\n      <td>36018</td>\n      <td>65</td>\n      <td>2964,1906,1674,2340,1675,2341,361,1300,1503,65</td>\n      <td>0</td>\n    </tr>\n  </tbody>\n</table>\n<p>233136 rows × 4 columns</p>\n</div>"
     },
     "execution_count": 60,
     "metadata": {},
     "output_type": "execute_result"
    }
   ],
   "source": [
    "datasetImpression = dataset[dataset['Impressions'].notna()]\n",
    "datasetImpression"
   ],
   "metadata": {
    "collapsed": false
   }
  },
  {
   "cell_type": "code",
   "execution_count": 75,
   "outputs": [],
   "source": [
    "newDatasetImpression = datasetImpression.reset_index(drop=True, inplace=False)"
   ],
   "metadata": {
    "collapsed": false
   }
  },
  {
   "cell_type": "code",
   "execution_count": 76,
   "outputs": [
    {
     "data": {
      "text/plain": "        UserID  ItemID                                        Impressions  \\\n0            0      11  0,1,2,3,4,5,6,7,8,9,10,11,12,13,14,15,16,17,18,19   \n1            0      21                      20,21,22,23,24,25,26,27,28,29   \n2            0      21                      20,21,30,22,23,24,26,31,29,32   \n3            0      21                      20,21,22,23,24,25,26,27,28,29   \n4            0      24                      20,21,30,22,23,24,25,27,28,29   \n...        ...     ...                                                ...   \n233131   36014   15175                   20,21,30,15175,23,24,26,31,29,32   \n233132   36015      21                    124,20,21,30,22,23,24,25,206,28   \n233133   36016    5396           150,773,537,938,540,5396,542,909,545,826   \n233134   36017    4885                                 997,4885,3619,3622   \n233135   36018      65     2964,1906,1674,2340,1675,2341,361,1300,1503,65   \n\n        Data  \n0          1  \n1          0  \n2          1  \n3          1  \n4          1  \n...      ...  \n233131     1  \n233132     0  \n233133     1  \n233134     0  \n233135     0  \n\n[233136 rows x 4 columns]",
      "text/html": "<div>\n<style scoped>\n    .dataframe tbody tr th:only-of-type {\n        vertical-align: middle;\n    }\n\n    .dataframe tbody tr th {\n        vertical-align: top;\n    }\n\n    .dataframe thead th {\n        text-align: right;\n    }\n</style>\n<table border=\"1\" class=\"dataframe\">\n  <thead>\n    <tr style=\"text-align: right;\">\n      <th></th>\n      <th>UserID</th>\n      <th>ItemID</th>\n      <th>Impressions</th>\n      <th>Data</th>\n    </tr>\n  </thead>\n  <tbody>\n    <tr>\n      <th>0</th>\n      <td>0</td>\n      <td>11</td>\n      <td>0,1,2,3,4,5,6,7,8,9,10,11,12,13,14,15,16,17,18,19</td>\n      <td>1</td>\n    </tr>\n    <tr>\n      <th>1</th>\n      <td>0</td>\n      <td>21</td>\n      <td>20,21,22,23,24,25,26,27,28,29</td>\n      <td>0</td>\n    </tr>\n    <tr>\n      <th>2</th>\n      <td>0</td>\n      <td>21</td>\n      <td>20,21,30,22,23,24,26,31,29,32</td>\n      <td>1</td>\n    </tr>\n    <tr>\n      <th>3</th>\n      <td>0</td>\n      <td>21</td>\n      <td>20,21,22,23,24,25,26,27,28,29</td>\n      <td>1</td>\n    </tr>\n    <tr>\n      <th>4</th>\n      <td>0</td>\n      <td>24</td>\n      <td>20,21,30,22,23,24,25,27,28,29</td>\n      <td>1</td>\n    </tr>\n    <tr>\n      <th>...</th>\n      <td>...</td>\n      <td>...</td>\n      <td>...</td>\n      <td>...</td>\n    </tr>\n    <tr>\n      <th>233131</th>\n      <td>36014</td>\n      <td>15175</td>\n      <td>20,21,30,15175,23,24,26,31,29,32</td>\n      <td>1</td>\n    </tr>\n    <tr>\n      <th>233132</th>\n      <td>36015</td>\n      <td>21</td>\n      <td>124,20,21,30,22,23,24,25,206,28</td>\n      <td>0</td>\n    </tr>\n    <tr>\n      <th>233133</th>\n      <td>36016</td>\n      <td>5396</td>\n      <td>150,773,537,938,540,5396,542,909,545,826</td>\n      <td>1</td>\n    </tr>\n    <tr>\n      <th>233134</th>\n      <td>36017</td>\n      <td>4885</td>\n      <td>997,4885,3619,3622</td>\n      <td>0</td>\n    </tr>\n    <tr>\n      <th>233135</th>\n      <td>36018</td>\n      <td>65</td>\n      <td>2964,1906,1674,2340,1675,2341,361,1300,1503,65</td>\n      <td>0</td>\n    </tr>\n  </tbody>\n</table>\n<p>233136 rows × 4 columns</p>\n</div>"
     },
     "execution_count": 76,
     "metadata": {},
     "output_type": "execute_result"
    }
   ],
   "source": [
    "newDatasetImpression"
   ],
   "metadata": {
    "collapsed": false
   }
  },
  {
   "cell_type": "code",
   "execution_count": 78,
   "outputs": [
    {
     "name": "stdout",
     "output_type": "stream",
     "text": [
      "0\n"
     ]
    },
    {
     "ename": "KeyboardInterrupt",
     "evalue": "",
     "output_type": "error",
     "traceback": [
      "\u001B[0;31m---------------------------------------------------------------------------\u001B[0m",
      "\u001B[0;31mKeyboardInterrupt\u001B[0m                         Traceback (most recent call last)",
      "Cell \u001B[0;32mIn [78], line 9\u001B[0m\n\u001B[1;32m      4\u001B[0m \u001B[38;5;28;01mif\u001B[39;00m URM[i][j] \u001B[38;5;241m==\u001B[39m \u001B[38;5;241m1\u001B[39m:\n\u001B[1;32m      5\u001B[0m \u001B[38;5;66;03m#print(dataset['UserID'][i])\u001B[39;00m\n\u001B[1;32m      6\u001B[0m \u001B[38;5;66;03m#print(dataset['ItemID'][i])\u001B[39;00m\n\u001B[1;32m      7\u001B[0m \u001B[38;5;66;03m#print(dataset['Impressions'][i])\u001B[39;00m\n\u001B[1;32m      8\u001B[0m     \u001B[38;5;28;01mfor\u001B[39;00m index \u001B[38;5;129;01min\u001B[39;00m \u001B[38;5;28mrange\u001B[39m(\u001B[38;5;28mlen\u001B[39m(newDatasetImpression)):\n\u001B[0;32m----> 9\u001B[0m         \u001B[38;5;28;01mif\u001B[39;00m \u001B[43mnewDatasetImpression\u001B[49m\u001B[43m[\u001B[49m\u001B[38;5;124;43m'\u001B[39;49m\u001B[38;5;124;43mUserID\u001B[39;49m\u001B[38;5;124;43m'\u001B[39;49m\u001B[43m]\u001B[49m\u001B[43m[\u001B[49m\u001B[43mindex\u001B[49m\u001B[43m]\u001B[49m \u001B[38;5;241m==\u001B[39m i \u001B[38;5;129;01mand\u001B[39;00m newDatasetImpression[\u001B[38;5;124m'\u001B[39m\u001B[38;5;124mItemID\u001B[39m\u001B[38;5;124m'\u001B[39m][index] \u001B[38;5;241m==\u001B[39m j:\n\u001B[1;32m     10\u001B[0m             \u001B[38;5;28;01mif\u001B[39;00m newDatasetImpression[\u001B[38;5;124m'\u001B[39m\u001B[38;5;124mImpressions\u001B[39m\u001B[38;5;124m'\u001B[39m][index] \u001B[38;5;129;01mis\u001B[39;00m \u001B[38;5;129;01mnot\u001B[39;00m \u001B[38;5;28;01mNone\u001B[39;00m:\n\u001B[1;32m     11\u001B[0m                 impressions \u001B[38;5;241m=\u001B[39m [\u001B[38;5;28mint\u001B[39m(s) \u001B[38;5;28;01mfor\u001B[39;00m s \u001B[38;5;129;01min\u001B[39;00m re\u001B[38;5;241m.\u001B[39mfindall(\u001B[38;5;124mr\u001B[39m\u001B[38;5;124m'\u001B[39m\u001B[38;5;124m\\\u001B[39m\u001B[38;5;124md+\u001B[39m\u001B[38;5;124m'\u001B[39m, newDatasetImpression[\u001B[38;5;124m'\u001B[39m\u001B[38;5;124mImpressions\u001B[39m\u001B[38;5;124m'\u001B[39m][index])]\n",
      "File \u001B[0;32m~/opt/anaconda3/envs/recsys/lib/python3.9/site-packages/pandas/core/series.py:958\u001B[0m, in \u001B[0;36mSeries.__getitem__\u001B[0;34m(self, key)\u001B[0m\n\u001B[1;32m    955\u001B[0m     \u001B[38;5;28;01mreturn\u001B[39;00m \u001B[38;5;28mself\u001B[39m\u001B[38;5;241m.\u001B[39m_values[key]\n\u001B[1;32m    957\u001B[0m \u001B[38;5;28;01melif\u001B[39;00m key_is_scalar:\n\u001B[0;32m--> 958\u001B[0m     \u001B[38;5;28;01mreturn\u001B[39;00m \u001B[38;5;28;43mself\u001B[39;49m\u001B[38;5;241;43m.\u001B[39;49m\u001B[43m_get_value\u001B[49m\u001B[43m(\u001B[49m\u001B[43mkey\u001B[49m\u001B[43m)\u001B[49m\n\u001B[1;32m    960\u001B[0m \u001B[38;5;28;01mif\u001B[39;00m is_hashable(key):\n\u001B[1;32m    961\u001B[0m     \u001B[38;5;66;03m# Otherwise index.get_value will raise InvalidIndexError\u001B[39;00m\n\u001B[1;32m    962\u001B[0m     \u001B[38;5;28;01mtry\u001B[39;00m:\n\u001B[1;32m    963\u001B[0m         \u001B[38;5;66;03m# For labels that don't resolve as scalars like tuples and frozensets\u001B[39;00m\n",
      "File \u001B[0;32m~/opt/anaconda3/envs/recsys/lib/python3.9/site-packages/pandas/core/series.py:1069\u001B[0m, in \u001B[0;36mSeries._get_value\u001B[0;34m(self, label, takeable)\u001B[0m\n\u001B[1;32m   1066\u001B[0m     \u001B[38;5;28;01mreturn\u001B[39;00m \u001B[38;5;28mself\u001B[39m\u001B[38;5;241m.\u001B[39m_values[label]\n\u001B[1;32m   1068\u001B[0m \u001B[38;5;66;03m# Similar to Index.get_value, but we do not fall back to positional\u001B[39;00m\n\u001B[0;32m-> 1069\u001B[0m loc \u001B[38;5;241m=\u001B[39m \u001B[38;5;28;43mself\u001B[39;49m\u001B[38;5;241;43m.\u001B[39;49m\u001B[43mindex\u001B[49m\u001B[38;5;241;43m.\u001B[39;49m\u001B[43mget_loc\u001B[49m\u001B[43m(\u001B[49m\u001B[43mlabel\u001B[49m\u001B[43m)\u001B[49m\n\u001B[1;32m   1070\u001B[0m \u001B[38;5;28;01mreturn\u001B[39;00m \u001B[38;5;28mself\u001B[39m\u001B[38;5;241m.\u001B[39mindex\u001B[38;5;241m.\u001B[39m_get_values_for_loc(\u001B[38;5;28mself\u001B[39m, loc, label)\n",
      "File \u001B[0;32m~/opt/anaconda3/envs/recsys/lib/python3.9/site-packages/pandas/core/indexes/range.py:379\u001B[0m, in \u001B[0;36mRangeIndex.get_loc\u001B[0;34m(self, key, method, tolerance)\u001B[0m\n\u001B[1;32m    374\u001B[0m     \u001B[38;5;28;01mreturn\u001B[39;00m \u001B[38;5;124m\"\u001B[39m\u001B[38;5;124minteger\u001B[39m\u001B[38;5;124m\"\u001B[39m\n\u001B[1;32m    376\u001B[0m \u001B[38;5;66;03m# --------------------------------------------------------------------\u001B[39;00m\n\u001B[1;32m    377\u001B[0m \u001B[38;5;66;03m# Indexing Methods\u001B[39;00m\n\u001B[0;32m--> 379\u001B[0m \u001B[38;5;129m@doc\u001B[39m(Int64Index\u001B[38;5;241m.\u001B[39mget_loc)\n\u001B[1;32m    380\u001B[0m \u001B[38;5;28;01mdef\u001B[39;00m \u001B[38;5;21mget_loc\u001B[39m(\u001B[38;5;28mself\u001B[39m, key, method\u001B[38;5;241m=\u001B[39m\u001B[38;5;28;01mNone\u001B[39;00m, tolerance\u001B[38;5;241m=\u001B[39m\u001B[38;5;28;01mNone\u001B[39;00m):\n\u001B[1;32m    381\u001B[0m     \u001B[38;5;28;01mif\u001B[39;00m method \u001B[38;5;129;01mis\u001B[39;00m \u001B[38;5;28;01mNone\u001B[39;00m \u001B[38;5;129;01mand\u001B[39;00m tolerance \u001B[38;5;129;01mis\u001B[39;00m \u001B[38;5;28;01mNone\u001B[39;00m:\n\u001B[1;32m    382\u001B[0m         \u001B[38;5;28;01mif\u001B[39;00m is_integer(key) \u001B[38;5;129;01mor\u001B[39;00m (is_float(key) \u001B[38;5;129;01mand\u001B[39;00m key\u001B[38;5;241m.\u001B[39mis_integer()):\n",
      "\u001B[0;31mKeyboardInterrupt\u001B[0m: "
     ]
    }
   ],
   "source": [
    "for i in range(10):\n",
    "    print(i)\n",
    "    for j in range(len(itemIDS)):\n",
    "        if URM[i][j] == 1:\n",
    "        #print(dataset['UserID'][i])\n",
    "        #print(dataset['ItemID'][i])\n",
    "        #print(dataset['Impressions'][i])\n",
    "            for index in range(len(newDatasetImpression)):\n",
    "                if newDatasetImpression['UserID'][index] == i and newDatasetImpression['ItemID'][index] == j:\n",
    "                    if newDatasetImpression['Impressions'][index] is not None:\n",
    "                        impressions = [int(s) for s in re.findall(r'\\d+', newDatasetImpression['Impressions'][index])]\n",
    "                        for item in impressions:\n",
    "                            if URM[i][item] == 0:\n",
    "                                URM[i][item] = -1"
   ],
   "metadata": {
    "collapsed": false
   }
  },
  {
   "cell_type": "code",
   "execution_count": 51,
   "outputs": [
    {
     "data": {
      "text/plain": "array([-1, -1, -1, ...,  0,  0,  0])"
     },
     "execution_count": 51,
     "metadata": {},
     "output_type": "execute_result"
    }
   ],
   "source": [
    "URM[0]"
   ],
   "metadata": {
    "collapsed": false
   }
  },
  {
   "cell_type": "code",
   "execution_count": null,
   "outputs": [],
   "source": [],
   "metadata": {
    "collapsed": false
   }
  }
 ],
 "metadata": {
  "kernelspec": {
   "display_name": "Python 3",
   "language": "python",
   "name": "python3"
  },
  "language_info": {
   "codemirror_mode": {
    "name": "ipython",
    "version": 2
   },
   "file_extension": ".py",
   "mimetype": "text/x-python",
   "name": "python",
   "nbconvert_exporter": "python",
   "pygments_lexer": "ipython2",
   "version": "2.7.6"
  }
 },
 "nbformat": 4,
 "nbformat_minor": 0
}
