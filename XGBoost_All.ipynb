{
 "cells": [
  {
   "cell_type": "code",
   "execution_count": 1,
   "metadata": {
    "collapsed": true
   },
   "outputs": [],
   "source": [
    "from Recommenders.Implicit.ImplicitALSRecommender import ImplicitALSRecommender\n",
    "import numpy as np\n",
    "import xgboost as xgb\n",
    "from sklearn import datasets\n",
    "from sklearn.model_selection import train_test_split\n",
    "from Utils.recsys2022DataReader import *"
   ]
  },
  {
   "cell_type": "code",
   "execution_count": 2,
   "outputs": [],
   "source": [
    "URM_train = load_1K_FinalURMTrain()\n",
    "URM_validation = load_1K_FinalURMValid()"
   ],
   "metadata": {
    "collapsed": false
   }
  },
  {
   "cell_type": "code",
   "execution_count": 3,
   "outputs": [
    {
     "data": {
      "text/plain": "  0%|          | 0/57 [00:00<?, ?it/s]",
      "application/vnd.jupyter.widget-view+json": {
       "version_major": 2,
       "version_minor": 0,
       "model_id": "0772e5780cb8430295adb12b44b2c5e9"
      }
     },
     "metadata": {},
     "output_type": "display_data"
    },
    {
     "name": "stdout",
     "output_type": "stream",
     "text": [
      "RP3betaRecommender: Similarity column 24507 (100.0%), 3857.55 column/sec. Elapsed time 6.35 sec\n",
      "SLIMElasticNetRecommender: Processed 1399 ( 5.7%) in 1.00 min. Items per second: 23.30\n",
      "SLIMElasticNetRecommender: Processed 2911 (11.9%) in 2.00 min. Items per second: 24.25\n",
      "SLIMElasticNetRecommender: Processed 4495 (18.3%) in 3.00 min. Items per second: 24.96\n",
      "SLIMElasticNetRecommender: Processed 6119 (25.0%) in 4.00 min. Items per second: 25.49\n",
      "SLIMElasticNetRecommender: Processed 7748 (31.6%) in 5.00 min. Items per second: 25.82\n",
      "SLIMElasticNetRecommender: Processed 9390 (38.3%) in 6.00 min. Items per second: 26.07\n",
      "SLIMElasticNetRecommender: Processed 11020 (45.0%) in 7.00 min. Items per second: 26.23\n",
      "SLIMElasticNetRecommender: Processed 12693 (51.8%) in 8.00 min. Items per second: 26.43\n",
      "SLIMElasticNetRecommender: Processed 14313 (58.4%) in 9.00 min. Items per second: 26.50\n",
      "SLIMElasticNetRecommender: Processed 16025 (65.4%) in 10.00 min. Items per second: 26.70\n",
      "SLIMElasticNetRecommender: Processed 17724 (72.3%) in 11.00 min. Items per second: 26.84\n",
      "SLIMElasticNetRecommender: Processed 19428 (79.3%) in 12.00 min. Items per second: 26.97\n",
      "SLIMElasticNetRecommender: Processed 21182 (86.4%) in 13.00 min. Items per second: 27.15\n",
      "SLIMElasticNetRecommender: Processed 22922 (93.5%) in 14.00 min. Items per second: 27.28\n",
      "SLIMElasticNetRecommender: Processed 24507 (100.0%) in 14.90 min. Items per second: 27.42\n",
      "Similarity column 24507 (100.0%), 6562.32 column/sec. Elapsed time 3.73 sec\n"
     ]
    }
   ],
   "source": [
    "from Recommenders.KNN.ItemKNNCFRecommender import ItemKNNCFRecommender\n",
    "from Recommenders.SLIM.SLIMElasticNetRecommender import SLIMElasticNetRecommender\n",
    "from Recommenders.GraphBased.RP3betaRecommender import RP3betaRecommender\n",
    "from Recommenders.Hybrid.LinearHybridRecommender import LinearHybridTwoRecommenderTwoVariables\n",
    "\n",
    "IALS_init = ImplicitALSRecommender(URM_train)\n",
    "IALS_init.fit(factors=110, alpha=7, iterations=57, regularization=0.0008866558623568822)\n",
    "\n",
    "RP3beta_init = RP3betaRecommender(URM_train)\n",
    "RP3beta_init.fit(topK=77, alpha=0.8401946814961014, beta=0.3073181471251768)\n",
    "\n",
    "SLIM_init = SLIMElasticNetRecommender(URM_train)\n",
    "SLIM_init.fit(topK=250, alpha=0.00312082198837027, l1_ratio=0.009899185175306373)\n",
    "\n",
    "ItemKNN_init = ItemKNNCFRecommender(URM_train)\n",
    "ItemKNN_init.fit(topK=123, shrink=510, similarity=\"cosine\", feature_weighting=\"TF-IDF\")\n",
    "\n",
    "hybrid1_init = LinearHybridTwoRecommenderTwoVariables(URM_train, Recommender_1=RP3beta_init,\n",
    "                                                          Recommender_2=SLIM_init)\n",
    "hybrid1_init.fit(alpha=0.40726736669265445, beta=0.7317482903276693)\n",
    "\n",
    "hybrid2_init = LinearHybridTwoRecommenderTwoVariables(URM_train, Recommender_1=IALS_init,\n",
    "                                                          Recommender_2=hybrid1_init)\n",
    "hybrid2_init.fit(alpha=0.019318928403041356, beta=0.8537494424674974)\n",
    "\n",
    "candidate_generator_recommender = LinearHybridTwoRecommenderTwoVariables(URM_train, Recommender_1=hybrid2_init,\n",
    "                                                                Recommender_2=ItemKNN_init)\n",
    "candidate_generator_recommender.fit(alpha=0.5182132379810547, beta=4.19321787406275e-06)"
   ],
   "metadata": {
    "collapsed": false
   }
  },
  {
   "cell_type": "markdown",
   "source": [
    "## Building dataframe"
   ],
   "metadata": {
    "collapsed": false
   }
  },
  {
   "cell_type": "code",
   "execution_count": 4,
   "outputs": [
    {
     "name": "stderr",
     "output_type": "stream",
     "text": [
      "/Users/matteopancini/PycharmProjects/recsys-challenge-2022-Pancini-Vitali/Utils/recsys2022DataReader.py:57: DtypeWarning: Columns (2) have mixed types. Specify dtype option on import or set low_memory=False.\n",
      "  dataset = pd.read_csv(urmPath)\n"
     ]
    }
   ],
   "source": [
    "URM_all = createURMBinary()"
   ],
   "metadata": {
    "collapsed": false
   }
  },
  {
   "cell_type": "code",
   "execution_count": 5,
   "outputs": [],
   "source": [
    "import pandas as pd\n",
    "from tqdm import tqdm\n",
    "import scipy.sparse as sps\n",
    "import numpy as np\n",
    "from xgboost import XGBRanker\n",
    "\n",
    "n_users, n_items = URM_all.shape\n",
    "\n",
    "training_dataframe = pd.DataFrame(index=range(0,n_users), columns = [\"ItemID\"])\n",
    "training_dataframe.index.name='UserID'"
   ],
   "metadata": {
    "collapsed": false
   }
  },
  {
   "cell_type": "code",
   "execution_count": 6,
   "outputs": [
    {
     "data": {
      "text/plain": "       ItemID\nUserID       \n0         NaN\n1         NaN\n2         NaN\n3         NaN\n4         NaN\n...       ...\n41624     NaN\n41625     NaN\n41626     NaN\n41627     NaN\n41628     NaN\n\n[41629 rows x 1 columns]",
      "text/html": "<div>\n<style scoped>\n    .dataframe tbody tr th:only-of-type {\n        vertical-align: middle;\n    }\n\n    .dataframe tbody tr th {\n        vertical-align: top;\n    }\n\n    .dataframe thead th {\n        text-align: right;\n    }\n</style>\n<table border=\"1\" class=\"dataframe\">\n  <thead>\n    <tr style=\"text-align: right;\">\n      <th></th>\n      <th>ItemID</th>\n    </tr>\n    <tr>\n      <th>UserID</th>\n      <th></th>\n    </tr>\n  </thead>\n  <tbody>\n    <tr>\n      <th>0</th>\n      <td>NaN</td>\n    </tr>\n    <tr>\n      <th>1</th>\n      <td>NaN</td>\n    </tr>\n    <tr>\n      <th>2</th>\n      <td>NaN</td>\n    </tr>\n    <tr>\n      <th>3</th>\n      <td>NaN</td>\n    </tr>\n    <tr>\n      <th>4</th>\n      <td>NaN</td>\n    </tr>\n    <tr>\n      <th>...</th>\n      <td>...</td>\n    </tr>\n    <tr>\n      <th>41624</th>\n      <td>NaN</td>\n    </tr>\n    <tr>\n      <th>41625</th>\n      <td>NaN</td>\n    </tr>\n    <tr>\n      <th>41626</th>\n      <td>NaN</td>\n    </tr>\n    <tr>\n      <th>41627</th>\n      <td>NaN</td>\n    </tr>\n    <tr>\n      <th>41628</th>\n      <td>NaN</td>\n    </tr>\n  </tbody>\n</table>\n<p>41629 rows × 1 columns</p>\n</div>"
     },
     "execution_count": 6,
     "metadata": {},
     "output_type": "execute_result"
    }
   ],
   "source": [
    "training_dataframe"
   ],
   "metadata": {
    "collapsed": false
   }
  },
  {
   "cell_type": "code",
   "execution_count": 7,
   "outputs": [
    {
     "name": "stderr",
     "output_type": "stream",
     "text": [
      "100%|██████████| 41629/41629 [01:37<00:00, 427.89it/s]\n"
     ]
    }
   ],
   "source": [
    "cutoff = 30\n",
    "\n",
    "for user_id in tqdm(range(n_users)):\n",
    "    recommendations = candidate_generator_recommender.recommend(user_id, cutoff = cutoff)\n",
    "    training_dataframe.loc[user_id, \"ItemID\"] = recommendations"
   ],
   "metadata": {
    "collapsed": false
   }
  },
  {
   "cell_type": "code",
   "execution_count": 8,
   "outputs": [
    {
     "data": {
      "text/plain": "                                                   ItemID\nUserID                                                   \n0       [617, 752, 20, 5735, 18484, 29, 391, 23, 673, ...\n1       [6874, 1068, 665, 393, 62, 60, 598, 1689, 56, ...\n2       [121, 126, 8875, 1080, 453, 10221, 15454, 1308...\n3       [20, 21, 352, 58, 269, 557, 536, 121, 109, 393...\n4       [23, 80, 21, 68, 124, 64, 56, 436, 2119, 2106,...\n...                                                   ...\n41624   [22403, 617, 10221, 752, 18939, 7864, 14400, 1...\n41625   [23, 53, 393, 909, 56, 596, 495, 494, 347, 498...\n41626   [21, 61, 12118, 23, 270, 268, 387, 1693, 343, ...\n41627   [1214, 1514, 1859, 4577, 19705, 1754, 5068, 50...\n41628   [769, 2904, 1022, 3596, 929, 763, 4464, 29, 89...\n\n[41629 rows x 1 columns]",
      "text/html": "<div>\n<style scoped>\n    .dataframe tbody tr th:only-of-type {\n        vertical-align: middle;\n    }\n\n    .dataframe tbody tr th {\n        vertical-align: top;\n    }\n\n    .dataframe thead th {\n        text-align: right;\n    }\n</style>\n<table border=\"1\" class=\"dataframe\">\n  <thead>\n    <tr style=\"text-align: right;\">\n      <th></th>\n      <th>ItemID</th>\n    </tr>\n    <tr>\n      <th>UserID</th>\n      <th></th>\n    </tr>\n  </thead>\n  <tbody>\n    <tr>\n      <th>0</th>\n      <td>[617, 752, 20, 5735, 18484, 29, 391, 23, 673, ...</td>\n    </tr>\n    <tr>\n      <th>1</th>\n      <td>[6874, 1068, 665, 393, 62, 60, 598, 1689, 56, ...</td>\n    </tr>\n    <tr>\n      <th>2</th>\n      <td>[121, 126, 8875, 1080, 453, 10221, 15454, 1308...</td>\n    </tr>\n    <tr>\n      <th>3</th>\n      <td>[20, 21, 352, 58, 269, 557, 536, 121, 109, 393...</td>\n    </tr>\n    <tr>\n      <th>4</th>\n      <td>[23, 80, 21, 68, 124, 64, 56, 436, 2119, 2106,...</td>\n    </tr>\n    <tr>\n      <th>...</th>\n      <td>...</td>\n    </tr>\n    <tr>\n      <th>41624</th>\n      <td>[22403, 617, 10221, 752, 18939, 7864, 14400, 1...</td>\n    </tr>\n    <tr>\n      <th>41625</th>\n      <td>[23, 53, 393, 909, 56, 596, 495, 494, 347, 498...</td>\n    </tr>\n    <tr>\n      <th>41626</th>\n      <td>[21, 61, 12118, 23, 270, 268, 387, 1693, 343, ...</td>\n    </tr>\n    <tr>\n      <th>41627</th>\n      <td>[1214, 1514, 1859, 4577, 19705, 1754, 5068, 50...</td>\n    </tr>\n    <tr>\n      <th>41628</th>\n      <td>[769, 2904, 1022, 3596, 929, 763, 4464, 29, 89...</td>\n    </tr>\n  </tbody>\n</table>\n<p>41629 rows × 1 columns</p>\n</div>"
     },
     "execution_count": 8,
     "metadata": {},
     "output_type": "execute_result"
    }
   ],
   "source": [
    "training_dataframe"
   ],
   "metadata": {
    "collapsed": false
   }
  },
  {
   "cell_type": "code",
   "execution_count": 9,
   "outputs": [
    {
     "data": {
      "text/plain": "       ItemID\nUserID       \n0         617\n0         752\n0          20\n0        5735\n0       18484\n...       ...\n41628    1546\n41628     273\n41628   18782\n41628     898\n41628    1024\n\n[1248870 rows x 1 columns]",
      "text/html": "<div>\n<style scoped>\n    .dataframe tbody tr th:only-of-type {\n        vertical-align: middle;\n    }\n\n    .dataframe tbody tr th {\n        vertical-align: top;\n    }\n\n    .dataframe thead th {\n        text-align: right;\n    }\n</style>\n<table border=\"1\" class=\"dataframe\">\n  <thead>\n    <tr style=\"text-align: right;\">\n      <th></th>\n      <th>ItemID</th>\n    </tr>\n    <tr>\n      <th>UserID</th>\n      <th></th>\n    </tr>\n  </thead>\n  <tbody>\n    <tr>\n      <th>0</th>\n      <td>617</td>\n    </tr>\n    <tr>\n      <th>0</th>\n      <td>752</td>\n    </tr>\n    <tr>\n      <th>0</th>\n      <td>20</td>\n    </tr>\n    <tr>\n      <th>0</th>\n      <td>5735</td>\n    </tr>\n    <tr>\n      <th>0</th>\n      <td>18484</td>\n    </tr>\n    <tr>\n      <th>...</th>\n      <td>...</td>\n    </tr>\n    <tr>\n      <th>41628</th>\n      <td>1546</td>\n    </tr>\n    <tr>\n      <th>41628</th>\n      <td>273</td>\n    </tr>\n    <tr>\n      <th>41628</th>\n      <td>18782</td>\n    </tr>\n    <tr>\n      <th>41628</th>\n      <td>898</td>\n    </tr>\n    <tr>\n      <th>41628</th>\n      <td>1024</td>\n    </tr>\n  </tbody>\n</table>\n<p>1248870 rows × 1 columns</p>\n</div>"
     },
     "execution_count": 9,
     "metadata": {},
     "output_type": "execute_result"
    }
   ],
   "source": [
    "training_dataframe = training_dataframe.explode(\"ItemID\")\n",
    "training_dataframe"
   ],
   "metadata": {
    "collapsed": false
   }
  },
  {
   "cell_type": "markdown",
   "source": [
    "## Add validation test"
   ],
   "metadata": {
    "collapsed": false
   }
  },
  {
   "cell_type": "code",
   "execution_count": 10,
   "outputs": [
    {
     "data": {
      "text/plain": "        UserID  ItemID\n0            0    1715\n1            0    2257\n2            0    2730\n3            0    5735\n4            0    8540\n...        ...     ...\n233191   41627   18212\n233192   41628      29\n233193   41628    2402\n233194   41628   10082\n233195   41628   10528\n\n[233196 rows x 2 columns]",
      "text/html": "<div>\n<style scoped>\n    .dataframe tbody tr th:only-of-type {\n        vertical-align: middle;\n    }\n\n    .dataframe tbody tr th {\n        vertical-align: top;\n    }\n\n    .dataframe thead th {\n        text-align: right;\n    }\n</style>\n<table border=\"1\" class=\"dataframe\">\n  <thead>\n    <tr style=\"text-align: right;\">\n      <th></th>\n      <th>UserID</th>\n      <th>ItemID</th>\n    </tr>\n  </thead>\n  <tbody>\n    <tr>\n      <th>0</th>\n      <td>0</td>\n      <td>1715</td>\n    </tr>\n    <tr>\n      <th>1</th>\n      <td>0</td>\n      <td>2257</td>\n    </tr>\n    <tr>\n      <th>2</th>\n      <td>0</td>\n      <td>2730</td>\n    </tr>\n    <tr>\n      <th>3</th>\n      <td>0</td>\n      <td>5735</td>\n    </tr>\n    <tr>\n      <th>4</th>\n      <td>0</td>\n      <td>8540</td>\n    </tr>\n    <tr>\n      <th>...</th>\n      <td>...</td>\n      <td>...</td>\n    </tr>\n    <tr>\n      <th>233191</th>\n      <td>41627</td>\n      <td>18212</td>\n    </tr>\n    <tr>\n      <th>233192</th>\n      <td>41628</td>\n      <td>29</td>\n    </tr>\n    <tr>\n      <th>233193</th>\n      <td>41628</td>\n      <td>2402</td>\n    </tr>\n    <tr>\n      <th>233194</th>\n      <td>41628</td>\n      <td>10082</td>\n    </tr>\n    <tr>\n      <th>233195</th>\n      <td>41628</td>\n      <td>10528</td>\n    </tr>\n  </tbody>\n</table>\n<p>233196 rows × 2 columns</p>\n</div>"
     },
     "execution_count": 10,
     "metadata": {},
     "output_type": "execute_result"
    }
   ],
   "source": [
    "URM_validation_coo = sps.coo_matrix(URM_validation)\n",
    "\n",
    "correct_recommendations = pd.DataFrame({\"UserID\": URM_validation_coo.row,\n",
    "                                        \"ItemID\": URM_validation_coo.col})\n",
    "correct_recommendations"
   ],
   "metadata": {
    "collapsed": false
   }
  },
  {
   "cell_type": "code",
   "execution_count": 11,
   "outputs": [
    {
     "data": {
      "text/plain": "         UserID ItemID      Exist\n0             0    617  left_only\n1             0    752  left_only\n2             0     20  left_only\n3             0   5735       both\n4             0  18484  left_only\n...         ...    ...        ...\n1248865   41628   1546  left_only\n1248866   41628    273  left_only\n1248867   41628  18782  left_only\n1248868   41628    898  left_only\n1248869   41628   1024  left_only\n\n[1248870 rows x 3 columns]",
      "text/html": "<div>\n<style scoped>\n    .dataframe tbody tr th:only-of-type {\n        vertical-align: middle;\n    }\n\n    .dataframe tbody tr th {\n        vertical-align: top;\n    }\n\n    .dataframe thead th {\n        text-align: right;\n    }\n</style>\n<table border=\"1\" class=\"dataframe\">\n  <thead>\n    <tr style=\"text-align: right;\">\n      <th></th>\n      <th>UserID</th>\n      <th>ItemID</th>\n      <th>Exist</th>\n    </tr>\n  </thead>\n  <tbody>\n    <tr>\n      <th>0</th>\n      <td>0</td>\n      <td>617</td>\n      <td>left_only</td>\n    </tr>\n    <tr>\n      <th>1</th>\n      <td>0</td>\n      <td>752</td>\n      <td>left_only</td>\n    </tr>\n    <tr>\n      <th>2</th>\n      <td>0</td>\n      <td>20</td>\n      <td>left_only</td>\n    </tr>\n    <tr>\n      <th>3</th>\n      <td>0</td>\n      <td>5735</td>\n      <td>both</td>\n    </tr>\n    <tr>\n      <th>4</th>\n      <td>0</td>\n      <td>18484</td>\n      <td>left_only</td>\n    </tr>\n    <tr>\n      <th>...</th>\n      <td>...</td>\n      <td>...</td>\n      <td>...</td>\n    </tr>\n    <tr>\n      <th>1248865</th>\n      <td>41628</td>\n      <td>1546</td>\n      <td>left_only</td>\n    </tr>\n    <tr>\n      <th>1248866</th>\n      <td>41628</td>\n      <td>273</td>\n      <td>left_only</td>\n    </tr>\n    <tr>\n      <th>1248867</th>\n      <td>41628</td>\n      <td>18782</td>\n      <td>left_only</td>\n    </tr>\n    <tr>\n      <th>1248868</th>\n      <td>41628</td>\n      <td>898</td>\n      <td>left_only</td>\n    </tr>\n    <tr>\n      <th>1248869</th>\n      <td>41628</td>\n      <td>1024</td>\n      <td>left_only</td>\n    </tr>\n  </tbody>\n</table>\n<p>1248870 rows × 3 columns</p>\n</div>"
     },
     "execution_count": 11,
     "metadata": {},
     "output_type": "execute_result"
    }
   ],
   "source": [
    "training_dataframe = pd.merge(training_dataframe, correct_recommendations, on=['UserID','ItemID'], how='left', indicator='Exist')\n",
    "training_dataframe"
   ],
   "metadata": {
    "collapsed": false
   }
  },
  {
   "cell_type": "code",
   "execution_count": 12,
   "outputs": [
    {
     "data": {
      "text/plain": "         UserID ItemID  Label\n0             0    617  False\n1             0    752  False\n2             0     20  False\n3             0   5735   True\n4             0  18484  False\n...         ...    ...    ...\n1248865   41628   1546  False\n1248866   41628    273  False\n1248867   41628  18782  False\n1248868   41628    898  False\n1248869   41628   1024  False\n\n[1248870 rows x 3 columns]",
      "text/html": "<div>\n<style scoped>\n    .dataframe tbody tr th:only-of-type {\n        vertical-align: middle;\n    }\n\n    .dataframe tbody tr th {\n        vertical-align: top;\n    }\n\n    .dataframe thead th {\n        text-align: right;\n    }\n</style>\n<table border=\"1\" class=\"dataframe\">\n  <thead>\n    <tr style=\"text-align: right;\">\n      <th></th>\n      <th>UserID</th>\n      <th>ItemID</th>\n      <th>Label</th>\n    </tr>\n  </thead>\n  <tbody>\n    <tr>\n      <th>0</th>\n      <td>0</td>\n      <td>617</td>\n      <td>False</td>\n    </tr>\n    <tr>\n      <th>1</th>\n      <td>0</td>\n      <td>752</td>\n      <td>False</td>\n    </tr>\n    <tr>\n      <th>2</th>\n      <td>0</td>\n      <td>20</td>\n      <td>False</td>\n    </tr>\n    <tr>\n      <th>3</th>\n      <td>0</td>\n      <td>5735</td>\n      <td>True</td>\n    </tr>\n    <tr>\n      <th>4</th>\n      <td>0</td>\n      <td>18484</td>\n      <td>False</td>\n    </tr>\n    <tr>\n      <th>...</th>\n      <td>...</td>\n      <td>...</td>\n      <td>...</td>\n    </tr>\n    <tr>\n      <th>1248865</th>\n      <td>41628</td>\n      <td>1546</td>\n      <td>False</td>\n    </tr>\n    <tr>\n      <th>1248866</th>\n      <td>41628</td>\n      <td>273</td>\n      <td>False</td>\n    </tr>\n    <tr>\n      <th>1248867</th>\n      <td>41628</td>\n      <td>18782</td>\n      <td>False</td>\n    </tr>\n    <tr>\n      <th>1248868</th>\n      <td>41628</td>\n      <td>898</td>\n      <td>False</td>\n    </tr>\n    <tr>\n      <th>1248869</th>\n      <td>41628</td>\n      <td>1024</td>\n      <td>False</td>\n    </tr>\n  </tbody>\n</table>\n<p>1248870 rows × 3 columns</p>\n</div>"
     },
     "execution_count": 12,
     "metadata": {},
     "output_type": "execute_result"
    }
   ],
   "source": [
    "training_dataframe[\"Label\"] = training_dataframe[\"Exist\"] == \"both\"\n",
    "training_dataframe.drop(columns = ['Exist'], inplace=True)\n",
    "training_dataframe"
   ],
   "metadata": {
    "collapsed": false
   }
  },
  {
   "cell_type": "markdown",
   "source": [
    "\n",
    "## Now we add some features like different recommenders predictions"
   ],
   "metadata": {
    "collapsed": false
   }
  },
  {
   "cell_type": "code",
   "execution_count": 13,
   "outputs": [
    {
     "name": "stdout",
     "output_type": "stream",
     "text": [
      "Similarity column 24507 (100.0%), 5973.02 column/sec. Elapsed time 4.10 sec\n",
      "P3alphaRecommender: Similarity column 24507 (100.0%), 3533.73 column/sec. Elapsed time 6.94 sec\n",
      "SLIMElasticNetRecommender: Processed 1321 ( 5.4%) in 1.00 min. Items per second: 21.99\n",
      "SLIMElasticNetRecommender: Processed 2723 (11.1%) in 2.00 min. Items per second: 22.68\n",
      "SLIMElasticNetRecommender: Processed 4188 (17.1%) in 3.00 min. Items per second: 23.25\n",
      "SLIMElasticNetRecommender: Processed 5679 (23.2%) in 4.00 min. Items per second: 23.65\n",
      "SLIMElasticNetRecommender: Processed 7174 (29.3%) in 5.00 min. Items per second: 23.90\n",
      "SLIMElasticNetRecommender: Processed 8673 (35.4%) in 6.00 min. Items per second: 24.08\n",
      "SLIMElasticNetRecommender: Processed 10168 (41.5%) in 7.00 min. Items per second: 24.20\n",
      "SLIMElasticNetRecommender: Processed 11669 (47.6%) in 8.00 min. Items per second: 24.30\n",
      "SLIMElasticNetRecommender: Processed 13175 (53.8%) in 9.00 min. Items per second: 24.39\n",
      "SLIMElasticNetRecommender: Processed 14672 (59.9%) in 10.00 min. Items per second: 24.44\n",
      "SLIMElasticNetRecommender: Processed 16165 (66.0%) in 11.00 min. Items per second: 24.48\n",
      "SLIMElasticNetRecommender: Processed 17668 (72.1%) in 12.00 min. Items per second: 24.53\n",
      "SLIMElasticNetRecommender: Processed 19175 (78.2%) in 13.00 min. Items per second: 24.57\n",
      "SLIMElasticNetRecommender: Processed 20680 (84.4%) in 14.01 min. Items per second: 24.61\n",
      "SLIMElasticNetRecommender: Processed 22187 (90.5%) in 15.01 min. Items per second: 24.64\n",
      "SLIMElasticNetRecommender: Processed 23680 (96.6%) in 16.01 min. Items per second: 24.66\n",
      "SLIMElasticNetRecommender: Processed 24507 (100.0%) in 16.55 min. Items per second: 24.68\n",
      "RP3betaRecommender: Similarity column 24507 (100.0%), 3949.31 column/sec. Elapsed time 6.21 sec\n"
     ]
    }
   ],
   "source": [
    "from Recommenders.KNN.ItemKNNCFRecommender import ItemKNNCFRecommender\n",
    "from Recommenders.GraphBased.P3alphaRecommender import P3alphaRecommender\n",
    "\n",
    "ItemKNN = ItemKNNCFRecommender(URM_all)\n",
    "ItemKNN.fit(topK=123, shrink=510, similarity=\"cosine\", feature_weighting=\"TF-IDF\")\n",
    "\n",
    "P3alpha = P3alphaRecommender(URM_all)\n",
    "P3alpha.fit(topK=116, alpha=0.8763131065621229)\n",
    "\n",
    "SLIM = SLIMElasticNetRecommender(URM_all)\n",
    "SLIM.fit(topK=396, alpha=0.0026732398099801086, l1_ratio=0.00859835955640564)\n",
    "\n",
    "RP3 = RP3betaRecommender(URM_all)\n",
    "RP3.fit(topK=54, alpha=0.8285172350759491, beta=0.292180138700761)\n",
    "\n",
    "\n",
    "other_algorithms = {\n",
    "    \"ItemKNN\": ItemKNN,\n",
    "    \"P3alpha\": P3alpha,\n",
    "    \"SLIM\": SLIM,\n",
    "    \"RP3\": RP3\n",
    "}"
   ],
   "metadata": {
    "collapsed": false
   }
  },
  {
   "cell_type": "code",
   "execution_count": 14,
   "outputs": [
    {
     "name": "stderr",
     "output_type": "stream",
     "text": [
      "100%|██████████| 41629/41629 [01:03<00:00, 655.80it/s]\n"
     ]
    },
    {
     "data": {
      "text/plain": "         UserID ItemID  Label   ItemKNN   P3alpha      SLIM       RP3\n0             0    617  False  4.201604  0.033769  0.268843  0.088610\n1             0    752  False  4.778629  0.032449  0.268370  0.086998\n2             0     20  False  7.917598  0.131257  0.190101  0.151179\n3             0   5735   True  5.543283  0.062471  0.237567  0.162682\n4             0  18484  False  2.548573  0.029527  0.237195  0.080570\n...         ...    ...    ...       ...       ...       ...       ...\n1248865   41628   1546  False  0.822460  0.000000  0.015798  0.000000\n1248866   41628    273  False  0.707531  0.000000  0.028615  0.000000\n1248867   41628  18782  False  0.332381  0.007713  0.016877  0.027080\n1248868   41628    898  False  1.106893  0.000000  0.008625  0.011687\n1248869   41628   1024  False  1.265436  0.000000  0.023607  0.000000\n\n[1248870 rows x 7 columns]",
      "text/html": "<div>\n<style scoped>\n    .dataframe tbody tr th:only-of-type {\n        vertical-align: middle;\n    }\n\n    .dataframe tbody tr th {\n        vertical-align: top;\n    }\n\n    .dataframe thead th {\n        text-align: right;\n    }\n</style>\n<table border=\"1\" class=\"dataframe\">\n  <thead>\n    <tr style=\"text-align: right;\">\n      <th></th>\n      <th>UserID</th>\n      <th>ItemID</th>\n      <th>Label</th>\n      <th>ItemKNN</th>\n      <th>P3alpha</th>\n      <th>SLIM</th>\n      <th>RP3</th>\n    </tr>\n  </thead>\n  <tbody>\n    <tr>\n      <th>0</th>\n      <td>0</td>\n      <td>617</td>\n      <td>False</td>\n      <td>4.201604</td>\n      <td>0.033769</td>\n      <td>0.268843</td>\n      <td>0.088610</td>\n    </tr>\n    <tr>\n      <th>1</th>\n      <td>0</td>\n      <td>752</td>\n      <td>False</td>\n      <td>4.778629</td>\n      <td>0.032449</td>\n      <td>0.268370</td>\n      <td>0.086998</td>\n    </tr>\n    <tr>\n      <th>2</th>\n      <td>0</td>\n      <td>20</td>\n      <td>False</td>\n      <td>7.917598</td>\n      <td>0.131257</td>\n      <td>0.190101</td>\n      <td>0.151179</td>\n    </tr>\n    <tr>\n      <th>3</th>\n      <td>0</td>\n      <td>5735</td>\n      <td>True</td>\n      <td>5.543283</td>\n      <td>0.062471</td>\n      <td>0.237567</td>\n      <td>0.162682</td>\n    </tr>\n    <tr>\n      <th>4</th>\n      <td>0</td>\n      <td>18484</td>\n      <td>False</td>\n      <td>2.548573</td>\n      <td>0.029527</td>\n      <td>0.237195</td>\n      <td>0.080570</td>\n    </tr>\n    <tr>\n      <th>...</th>\n      <td>...</td>\n      <td>...</td>\n      <td>...</td>\n      <td>...</td>\n      <td>...</td>\n      <td>...</td>\n      <td>...</td>\n    </tr>\n    <tr>\n      <th>1248865</th>\n      <td>41628</td>\n      <td>1546</td>\n      <td>False</td>\n      <td>0.822460</td>\n      <td>0.000000</td>\n      <td>0.015798</td>\n      <td>0.000000</td>\n    </tr>\n    <tr>\n      <th>1248866</th>\n      <td>41628</td>\n      <td>273</td>\n      <td>False</td>\n      <td>0.707531</td>\n      <td>0.000000</td>\n      <td>0.028615</td>\n      <td>0.000000</td>\n    </tr>\n    <tr>\n      <th>1248867</th>\n      <td>41628</td>\n      <td>18782</td>\n      <td>False</td>\n      <td>0.332381</td>\n      <td>0.007713</td>\n      <td>0.016877</td>\n      <td>0.027080</td>\n    </tr>\n    <tr>\n      <th>1248868</th>\n      <td>41628</td>\n      <td>898</td>\n      <td>False</td>\n      <td>1.106893</td>\n      <td>0.000000</td>\n      <td>0.008625</td>\n      <td>0.011687</td>\n    </tr>\n    <tr>\n      <th>1248869</th>\n      <td>41628</td>\n      <td>1024</td>\n      <td>False</td>\n      <td>1.265436</td>\n      <td>0.000000</td>\n      <td>0.023607</td>\n      <td>0.000000</td>\n    </tr>\n  </tbody>\n</table>\n<p>1248870 rows × 7 columns</p>\n</div>"
     },
     "execution_count": 14,
     "metadata": {},
     "output_type": "execute_result"
    }
   ],
   "source": [
    "training_dataframe = training_dataframe.set_index('UserID')\n",
    "\n",
    "for user_id in tqdm(range(n_users)):\n",
    "    for rec_label, rec_instance in other_algorithms.items():\n",
    "\n",
    "        item_list = training_dataframe.loc[user_id, \"ItemID\"].values.tolist()\n",
    "\n",
    "        all_item_scores = rec_instance._compute_item_score([user_id], items_to_compute = item_list)\n",
    "\n",
    "        training_dataframe.loc[user_id, rec_label] = all_item_scores[0, item_list]\n",
    "\n",
    "training_dataframe = training_dataframe.reset_index()\n",
    "training_dataframe = training_dataframe.rename(columns = {\"index\": \"UserID\"})\n",
    "training_dataframe"
   ],
   "metadata": {
    "collapsed": false
   }
  },
  {
   "cell_type": "markdown",
   "source": [
    "## We add the item popularity and profile length"
   ],
   "metadata": {
    "collapsed": false
   }
  },
  {
   "cell_type": "code",
   "execution_count": 15,
   "outputs": [
    {
     "data": {
      "text/plain": "         UserID ItemID  Label   ItemKNN   P3alpha      SLIM       RP3  \\\n0             0    617  False  4.201604  0.033769  0.268843  0.088610   \n1             0    752  False  4.778629  0.032449  0.268370  0.086998   \n2             0     20  False  7.917598  0.131257  0.190101  0.151179   \n3             0   5735   True  5.543283  0.062471  0.237567  0.162682   \n4             0  18484  False  2.548573  0.029527  0.237195  0.080570   \n...         ...    ...    ...       ...       ...       ...       ...   \n1248865   41628   1546  False  0.822460  0.000000  0.015798  0.000000   \n1248866   41628    273  False  0.707531  0.000000  0.028615  0.000000   \n1248867   41628  18782  False  0.332381  0.007713  0.016877  0.027080   \n1248868   41628    898  False  1.106893  0.000000  0.008625  0.011687   \n1248869   41628   1024  False  1.265436  0.000000  0.023607  0.000000   \n\n         item_popularity  \n0                    603  \n1                    556  \n2                   4243  \n3                    388  \n4                   1156  \n...                  ...  \n1248865              250  \n1248866              641  \n1248867              216  \n1248868              349  \n1248869              731  \n\n[1248870 rows x 8 columns]",
      "text/html": "<div>\n<style scoped>\n    .dataframe tbody tr th:only-of-type {\n        vertical-align: middle;\n    }\n\n    .dataframe tbody tr th {\n        vertical-align: top;\n    }\n\n    .dataframe thead th {\n        text-align: right;\n    }\n</style>\n<table border=\"1\" class=\"dataframe\">\n  <thead>\n    <tr style=\"text-align: right;\">\n      <th></th>\n      <th>UserID</th>\n      <th>ItemID</th>\n      <th>Label</th>\n      <th>ItemKNN</th>\n      <th>P3alpha</th>\n      <th>SLIM</th>\n      <th>RP3</th>\n      <th>item_popularity</th>\n    </tr>\n  </thead>\n  <tbody>\n    <tr>\n      <th>0</th>\n      <td>0</td>\n      <td>617</td>\n      <td>False</td>\n      <td>4.201604</td>\n      <td>0.033769</td>\n      <td>0.268843</td>\n      <td>0.088610</td>\n      <td>603</td>\n    </tr>\n    <tr>\n      <th>1</th>\n      <td>0</td>\n      <td>752</td>\n      <td>False</td>\n      <td>4.778629</td>\n      <td>0.032449</td>\n      <td>0.268370</td>\n      <td>0.086998</td>\n      <td>556</td>\n    </tr>\n    <tr>\n      <th>2</th>\n      <td>0</td>\n      <td>20</td>\n      <td>False</td>\n      <td>7.917598</td>\n      <td>0.131257</td>\n      <td>0.190101</td>\n      <td>0.151179</td>\n      <td>4243</td>\n    </tr>\n    <tr>\n      <th>3</th>\n      <td>0</td>\n      <td>5735</td>\n      <td>True</td>\n      <td>5.543283</td>\n      <td>0.062471</td>\n      <td>0.237567</td>\n      <td>0.162682</td>\n      <td>388</td>\n    </tr>\n    <tr>\n      <th>4</th>\n      <td>0</td>\n      <td>18484</td>\n      <td>False</td>\n      <td>2.548573</td>\n      <td>0.029527</td>\n      <td>0.237195</td>\n      <td>0.080570</td>\n      <td>1156</td>\n    </tr>\n    <tr>\n      <th>...</th>\n      <td>...</td>\n      <td>...</td>\n      <td>...</td>\n      <td>...</td>\n      <td>...</td>\n      <td>...</td>\n      <td>...</td>\n      <td>...</td>\n    </tr>\n    <tr>\n      <th>1248865</th>\n      <td>41628</td>\n      <td>1546</td>\n      <td>False</td>\n      <td>0.822460</td>\n      <td>0.000000</td>\n      <td>0.015798</td>\n      <td>0.000000</td>\n      <td>250</td>\n    </tr>\n    <tr>\n      <th>1248866</th>\n      <td>41628</td>\n      <td>273</td>\n      <td>False</td>\n      <td>0.707531</td>\n      <td>0.000000</td>\n      <td>0.028615</td>\n      <td>0.000000</td>\n      <td>641</td>\n    </tr>\n    <tr>\n      <th>1248867</th>\n      <td>41628</td>\n      <td>18782</td>\n      <td>False</td>\n      <td>0.332381</td>\n      <td>0.007713</td>\n      <td>0.016877</td>\n      <td>0.027080</td>\n      <td>216</td>\n    </tr>\n    <tr>\n      <th>1248868</th>\n      <td>41628</td>\n      <td>898</td>\n      <td>False</td>\n      <td>1.106893</td>\n      <td>0.000000</td>\n      <td>0.008625</td>\n      <td>0.011687</td>\n      <td>349</td>\n    </tr>\n    <tr>\n      <th>1248869</th>\n      <td>41628</td>\n      <td>1024</td>\n      <td>False</td>\n      <td>1.265436</td>\n      <td>0.000000</td>\n      <td>0.023607</td>\n      <td>0.000000</td>\n      <td>731</td>\n    </tr>\n  </tbody>\n</table>\n<p>1248870 rows × 8 columns</p>\n</div>"
     },
     "execution_count": 15,
     "metadata": {},
     "output_type": "execute_result"
    }
   ],
   "source": [
    "item_popularity = np.ediff1d(sps.csc_matrix(URM_train).indptr)\n",
    "\n",
    "training_dataframe['item_popularity'] = item_popularity[training_dataframe[\"ItemID\"].values.astype(int)]\n",
    "training_dataframe"
   ],
   "metadata": {
    "collapsed": false
   }
  },
  {
   "cell_type": "code",
   "execution_count": 16,
   "outputs": [
    {
     "data": {
      "text/plain": "         UserID ItemID  Label   ItemKNN   P3alpha      SLIM       RP3  \\\n0             0    617  False  4.201604  0.033769  0.268843  0.088610   \n1             0    752  False  4.778629  0.032449  0.268370  0.086998   \n2             0     20  False  7.917598  0.131257  0.190101  0.151179   \n3             0   5735   True  5.543283  0.062471  0.237567  0.162682   \n4             0  18484  False  2.548573  0.029527  0.237195  0.080570   \n...         ...    ...    ...       ...       ...       ...       ...   \n1248865   41628   1546  False  0.822460  0.000000  0.015798  0.000000   \n1248866   41628    273  False  0.707531  0.000000  0.028615  0.000000   \n1248867   41628  18782  False  0.332381  0.007713  0.016877  0.027080   \n1248868   41628    898  False  1.106893  0.000000  0.008625  0.011687   \n1248869   41628   1024  False  1.265436  0.000000  0.023607  0.000000   \n\n         item_popularity  user_profile_len  \n0                    603                55  \n1                    556                55  \n2                   4243                55  \n3                    388                55  \n4                   1156                55  \n...                  ...               ...  \n1248865              250                19  \n1248866              641                19  \n1248867              216                19  \n1248868              349                19  \n1248869              731                19  \n\n[1248870 rows x 9 columns]",
      "text/html": "<div>\n<style scoped>\n    .dataframe tbody tr th:only-of-type {\n        vertical-align: middle;\n    }\n\n    .dataframe tbody tr th {\n        vertical-align: top;\n    }\n\n    .dataframe thead th {\n        text-align: right;\n    }\n</style>\n<table border=\"1\" class=\"dataframe\">\n  <thead>\n    <tr style=\"text-align: right;\">\n      <th></th>\n      <th>UserID</th>\n      <th>ItemID</th>\n      <th>Label</th>\n      <th>ItemKNN</th>\n      <th>P3alpha</th>\n      <th>SLIM</th>\n      <th>RP3</th>\n      <th>item_popularity</th>\n      <th>user_profile_len</th>\n    </tr>\n  </thead>\n  <tbody>\n    <tr>\n      <th>0</th>\n      <td>0</td>\n      <td>617</td>\n      <td>False</td>\n      <td>4.201604</td>\n      <td>0.033769</td>\n      <td>0.268843</td>\n      <td>0.088610</td>\n      <td>603</td>\n      <td>55</td>\n    </tr>\n    <tr>\n      <th>1</th>\n      <td>0</td>\n      <td>752</td>\n      <td>False</td>\n      <td>4.778629</td>\n      <td>0.032449</td>\n      <td>0.268370</td>\n      <td>0.086998</td>\n      <td>556</td>\n      <td>55</td>\n    </tr>\n    <tr>\n      <th>2</th>\n      <td>0</td>\n      <td>20</td>\n      <td>False</td>\n      <td>7.917598</td>\n      <td>0.131257</td>\n      <td>0.190101</td>\n      <td>0.151179</td>\n      <td>4243</td>\n      <td>55</td>\n    </tr>\n    <tr>\n      <th>3</th>\n      <td>0</td>\n      <td>5735</td>\n      <td>True</td>\n      <td>5.543283</td>\n      <td>0.062471</td>\n      <td>0.237567</td>\n      <td>0.162682</td>\n      <td>388</td>\n      <td>55</td>\n    </tr>\n    <tr>\n      <th>4</th>\n      <td>0</td>\n      <td>18484</td>\n      <td>False</td>\n      <td>2.548573</td>\n      <td>0.029527</td>\n      <td>0.237195</td>\n      <td>0.080570</td>\n      <td>1156</td>\n      <td>55</td>\n    </tr>\n    <tr>\n      <th>...</th>\n      <td>...</td>\n      <td>...</td>\n      <td>...</td>\n      <td>...</td>\n      <td>...</td>\n      <td>...</td>\n      <td>...</td>\n      <td>...</td>\n      <td>...</td>\n    </tr>\n    <tr>\n      <th>1248865</th>\n      <td>41628</td>\n      <td>1546</td>\n      <td>False</td>\n      <td>0.822460</td>\n      <td>0.000000</td>\n      <td>0.015798</td>\n      <td>0.000000</td>\n      <td>250</td>\n      <td>19</td>\n    </tr>\n    <tr>\n      <th>1248866</th>\n      <td>41628</td>\n      <td>273</td>\n      <td>False</td>\n      <td>0.707531</td>\n      <td>0.000000</td>\n      <td>0.028615</td>\n      <td>0.000000</td>\n      <td>641</td>\n      <td>19</td>\n    </tr>\n    <tr>\n      <th>1248867</th>\n      <td>41628</td>\n      <td>18782</td>\n      <td>False</td>\n      <td>0.332381</td>\n      <td>0.007713</td>\n      <td>0.016877</td>\n      <td>0.027080</td>\n      <td>216</td>\n      <td>19</td>\n    </tr>\n    <tr>\n      <th>1248868</th>\n      <td>41628</td>\n      <td>898</td>\n      <td>False</td>\n      <td>1.106893</td>\n      <td>0.000000</td>\n      <td>0.008625</td>\n      <td>0.011687</td>\n      <td>349</td>\n      <td>19</td>\n    </tr>\n    <tr>\n      <th>1248869</th>\n      <td>41628</td>\n      <td>1024</td>\n      <td>False</td>\n      <td>1.265436</td>\n      <td>0.000000</td>\n      <td>0.023607</td>\n      <td>0.000000</td>\n      <td>731</td>\n      <td>19</td>\n    </tr>\n  </tbody>\n</table>\n<p>1248870 rows × 9 columns</p>\n</div>"
     },
     "execution_count": 16,
     "metadata": {},
     "output_type": "execute_result"
    }
   ],
   "source": [
    "user_popularity = np.ediff1d(sps.csr_matrix(URM_train).indptr)\n",
    "\n",
    "training_dataframe['user_profile_len'] = user_popularity[training_dataframe[\"UserID\"].values.astype(int)]\n",
    "training_dataframe"
   ],
   "metadata": {
    "collapsed": false
   }
  },
  {
   "cell_type": "code",
   "execution_count": 17,
   "outputs": [
    {
     "data": {
      "text/plain": "         UserID ItemID  Label   ItemKNN   P3alpha      SLIM       RP3  \\\n0             0    617  False  4.201604  0.033769  0.268843  0.088610   \n1             0    149  False  4.939782  0.041671  0.066627  0.072990   \n2             0   2494  False  5.213657  0.070379  0.130381  0.111937   \n3             0   1534  False  4.801333  0.048760  0.095758  0.048841   \n4             0   1023  False  4.681795  0.010211  0.084978  0.020989   \n...         ...    ...    ...       ...       ...       ...       ...   \n1248865   41628   2904  False  2.791947  0.018678  0.108751  0.075906   \n1248866   41628    769  False  4.435085  0.038295  0.260231  0.138324   \n1248867   41628    898  False  1.106893  0.000000  0.008625  0.011687   \n1248868   41628  14709  False  0.817198  0.008593  0.037472  0.049140   \n1248869   41628   1024  False  1.265436  0.000000  0.023607  0.000000   \n\n         item_popularity  user_profile_len  \n0                    603                55  \n1                    614                55  \n2                    772                55  \n3                    502                55  \n4                   1168                55  \n...                  ...               ...  \n1248865              102                19  \n1248866              142                19  \n1248867              349                19  \n1248868               41                19  \n1248869              731                19  \n\n[1248870 rows x 9 columns]",
      "text/html": "<div>\n<style scoped>\n    .dataframe tbody tr th:only-of-type {\n        vertical-align: middle;\n    }\n\n    .dataframe tbody tr th {\n        vertical-align: top;\n    }\n\n    .dataframe thead th {\n        text-align: right;\n    }\n</style>\n<table border=\"1\" class=\"dataframe\">\n  <thead>\n    <tr style=\"text-align: right;\">\n      <th></th>\n      <th>UserID</th>\n      <th>ItemID</th>\n      <th>Label</th>\n      <th>ItemKNN</th>\n      <th>P3alpha</th>\n      <th>SLIM</th>\n      <th>RP3</th>\n      <th>item_popularity</th>\n      <th>user_profile_len</th>\n    </tr>\n  </thead>\n  <tbody>\n    <tr>\n      <th>0</th>\n      <td>0</td>\n      <td>617</td>\n      <td>False</td>\n      <td>4.201604</td>\n      <td>0.033769</td>\n      <td>0.268843</td>\n      <td>0.088610</td>\n      <td>603</td>\n      <td>55</td>\n    </tr>\n    <tr>\n      <th>1</th>\n      <td>0</td>\n      <td>149</td>\n      <td>False</td>\n      <td>4.939782</td>\n      <td>0.041671</td>\n      <td>0.066627</td>\n      <td>0.072990</td>\n      <td>614</td>\n      <td>55</td>\n    </tr>\n    <tr>\n      <th>2</th>\n      <td>0</td>\n      <td>2494</td>\n      <td>False</td>\n      <td>5.213657</td>\n      <td>0.070379</td>\n      <td>0.130381</td>\n      <td>0.111937</td>\n      <td>772</td>\n      <td>55</td>\n    </tr>\n    <tr>\n      <th>3</th>\n      <td>0</td>\n      <td>1534</td>\n      <td>False</td>\n      <td>4.801333</td>\n      <td>0.048760</td>\n      <td>0.095758</td>\n      <td>0.048841</td>\n      <td>502</td>\n      <td>55</td>\n    </tr>\n    <tr>\n      <th>4</th>\n      <td>0</td>\n      <td>1023</td>\n      <td>False</td>\n      <td>4.681795</td>\n      <td>0.010211</td>\n      <td>0.084978</td>\n      <td>0.020989</td>\n      <td>1168</td>\n      <td>55</td>\n    </tr>\n    <tr>\n      <th>...</th>\n      <td>...</td>\n      <td>...</td>\n      <td>...</td>\n      <td>...</td>\n      <td>...</td>\n      <td>...</td>\n      <td>...</td>\n      <td>...</td>\n      <td>...</td>\n    </tr>\n    <tr>\n      <th>1248865</th>\n      <td>41628</td>\n      <td>2904</td>\n      <td>False</td>\n      <td>2.791947</td>\n      <td>0.018678</td>\n      <td>0.108751</td>\n      <td>0.075906</td>\n      <td>102</td>\n      <td>19</td>\n    </tr>\n    <tr>\n      <th>1248866</th>\n      <td>41628</td>\n      <td>769</td>\n      <td>False</td>\n      <td>4.435085</td>\n      <td>0.038295</td>\n      <td>0.260231</td>\n      <td>0.138324</td>\n      <td>142</td>\n      <td>19</td>\n    </tr>\n    <tr>\n      <th>1248867</th>\n      <td>41628</td>\n      <td>898</td>\n      <td>False</td>\n      <td>1.106893</td>\n      <td>0.000000</td>\n      <td>0.008625</td>\n      <td>0.011687</td>\n      <td>349</td>\n      <td>19</td>\n    </tr>\n    <tr>\n      <th>1248868</th>\n      <td>41628</td>\n      <td>14709</td>\n      <td>False</td>\n      <td>0.817198</td>\n      <td>0.008593</td>\n      <td>0.037472</td>\n      <td>0.049140</td>\n      <td>41</td>\n      <td>19</td>\n    </tr>\n    <tr>\n      <th>1248869</th>\n      <td>41628</td>\n      <td>1024</td>\n      <td>False</td>\n      <td>1.265436</td>\n      <td>0.000000</td>\n      <td>0.023607</td>\n      <td>0.000000</td>\n      <td>731</td>\n      <td>19</td>\n    </tr>\n  </tbody>\n</table>\n<p>1248870 rows × 9 columns</p>\n</div>"
     },
     "execution_count": 17,
     "metadata": {},
     "output_type": "execute_result"
    }
   ],
   "source": [
    "training_dataframe = training_dataframe.sort_values(\"UserID\").reset_index()\n",
    "training_dataframe.drop(columns = ['index'], inplace=True)\n",
    "training_dataframe"
   ],
   "metadata": {
    "collapsed": false
   }
  },
  {
   "cell_type": "markdown",
   "source": [
    "## Train XGBoost"
   ],
   "metadata": {
    "collapsed": false
   }
  },
  {
   "cell_type": "code",
   "execution_count": 18,
   "outputs": [
    {
     "data": {
      "text/plain": "array([30, 30, 30, ..., 30, 30, 30])"
     },
     "execution_count": 18,
     "metadata": {},
     "output_type": "execute_result"
    }
   ],
   "source": [
    "groups = training_dataframe.groupby(\"UserID\").size().values\n",
    "groups"
   ],
   "metadata": {
    "collapsed": false
   }
  },
  {
   "cell_type": "code",
   "execution_count": 19,
   "outputs": [],
   "source": [
    "from xgboost import XGBRanker"
   ],
   "metadata": {
    "collapsed": false
   }
  },
  {
   "cell_type": "code",
   "execution_count": 20,
   "outputs": [],
   "source": [
    "y_train = training_dataframe[\"Label\"]\n",
    "X_train = training_dataframe.drop(columns=[\"Label\"])\n",
    "\n",
    "X_train[\"UserID\"] = X_train[\"UserID\"].astype(\"category\")\n",
    "X_train[\"ItemID\"] = X_train[\"ItemID\"].astype(\"category\")"
   ],
   "metadata": {
    "collapsed": false
   }
  },
  {
   "cell_type": "code",
   "execution_count": 21,
   "outputs": [
    {
     "data": {
      "text/plain": "XGBRanker(base_score=0.5, booster='gbtree', callbacks=None, colsample_bylevel=1,\n          colsample_bynode=1, colsample_bytree=1, early_stopping_rounds=None,\n          enable_categorical=True, eval_metric=None, feature_types=None,\n          gamma=0, gpu_id=-1, grow_policy='depthwise', importance_type=None,\n          interaction_constraints='', learning_rate=0.1, max_bin=256,\n          max_cat_threshold=64, max_cat_to_onehot=4, max_delta_step=0,\n          max_depth=5, max_leaves=0, min_child_weight=1, missing=nan,\n          monotone_constraints='()', n_estimators=50, n_jobs=0,\n          num_parallel_tree=1, predictor='auto', random_state=0, ...)",
      "text/html": "<style>#sk-container-id-1 {color: black;background-color: white;}#sk-container-id-1 pre{padding: 0;}#sk-container-id-1 div.sk-toggleable {background-color: white;}#sk-container-id-1 label.sk-toggleable__label {cursor: pointer;display: block;width: 100%;margin-bottom: 0;padding: 0.3em;box-sizing: border-box;text-align: center;}#sk-container-id-1 label.sk-toggleable__label-arrow:before {content: \"▸\";float: left;margin-right: 0.25em;color: #696969;}#sk-container-id-1 label.sk-toggleable__label-arrow:hover:before {color: black;}#sk-container-id-1 div.sk-estimator:hover label.sk-toggleable__label-arrow:before {color: black;}#sk-container-id-1 div.sk-toggleable__content {max-height: 0;max-width: 0;overflow: hidden;text-align: left;background-color: #f0f8ff;}#sk-container-id-1 div.sk-toggleable__content pre {margin: 0.2em;color: black;border-radius: 0.25em;background-color: #f0f8ff;}#sk-container-id-1 input.sk-toggleable__control:checked~div.sk-toggleable__content {max-height: 200px;max-width: 100%;overflow: auto;}#sk-container-id-1 input.sk-toggleable__control:checked~label.sk-toggleable__label-arrow:before {content: \"▾\";}#sk-container-id-1 div.sk-estimator input.sk-toggleable__control:checked~label.sk-toggleable__label {background-color: #d4ebff;}#sk-container-id-1 div.sk-label input.sk-toggleable__control:checked~label.sk-toggleable__label {background-color: #d4ebff;}#sk-container-id-1 input.sk-hidden--visually {border: 0;clip: rect(1px 1px 1px 1px);clip: rect(1px, 1px, 1px, 1px);height: 1px;margin: -1px;overflow: hidden;padding: 0;position: absolute;width: 1px;}#sk-container-id-1 div.sk-estimator {font-family: monospace;background-color: #f0f8ff;border: 1px dotted black;border-radius: 0.25em;box-sizing: border-box;margin-bottom: 0.5em;}#sk-container-id-1 div.sk-estimator:hover {background-color: #d4ebff;}#sk-container-id-1 div.sk-parallel-item::after {content: \"\";width: 100%;border-bottom: 1px solid gray;flex-grow: 1;}#sk-container-id-1 div.sk-label:hover label.sk-toggleable__label {background-color: #d4ebff;}#sk-container-id-1 div.sk-serial::before {content: \"\";position: absolute;border-left: 1px solid gray;box-sizing: border-box;top: 0;bottom: 0;left: 50%;z-index: 0;}#sk-container-id-1 div.sk-serial {display: flex;flex-direction: column;align-items: center;background-color: white;padding-right: 0.2em;padding-left: 0.2em;position: relative;}#sk-container-id-1 div.sk-item {position: relative;z-index: 1;}#sk-container-id-1 div.sk-parallel {display: flex;align-items: stretch;justify-content: center;background-color: white;position: relative;}#sk-container-id-1 div.sk-item::before, #sk-container-id-1 div.sk-parallel-item::before {content: \"\";position: absolute;border-left: 1px solid gray;box-sizing: border-box;top: 0;bottom: 0;left: 50%;z-index: -1;}#sk-container-id-1 div.sk-parallel-item {display: flex;flex-direction: column;z-index: 1;position: relative;background-color: white;}#sk-container-id-1 div.sk-parallel-item:first-child::after {align-self: flex-end;width: 50%;}#sk-container-id-1 div.sk-parallel-item:last-child::after {align-self: flex-start;width: 50%;}#sk-container-id-1 div.sk-parallel-item:only-child::after {width: 0;}#sk-container-id-1 div.sk-dashed-wrapped {border: 1px dashed gray;margin: 0 0.4em 0.5em 0.4em;box-sizing: border-box;padding-bottom: 0.4em;background-color: white;}#sk-container-id-1 div.sk-label label {font-family: monospace;font-weight: bold;display: inline-block;line-height: 1.2em;}#sk-container-id-1 div.sk-label-container {text-align: center;}#sk-container-id-1 div.sk-container {/* jupyter's `normalize.less` sets `[hidden] { display: none; }` but bootstrap.min.css set `[hidden] { display: none !important; }` so we also need the `!important` here to be able to override the default hidden behavior on the sphinx rendered scikit-learn.org. See: https://github.com/scikit-learn/scikit-learn/issues/21755 */display: inline-block !important;position: relative;}#sk-container-id-1 div.sk-text-repr-fallback {display: none;}</style><div id=\"sk-container-id-1\" class=\"sk-top-container\"><div class=\"sk-text-repr-fallback\"><pre>XGBRanker(base_score=0.5, booster=&#x27;gbtree&#x27;, callbacks=None, colsample_bylevel=1,\n          colsample_bynode=1, colsample_bytree=1, early_stopping_rounds=None,\n          enable_categorical=True, eval_metric=None, feature_types=None,\n          gamma=0, gpu_id=-1, grow_policy=&#x27;depthwise&#x27;, importance_type=None,\n          interaction_constraints=&#x27;&#x27;, learning_rate=0.1, max_bin=256,\n          max_cat_threshold=64, max_cat_to_onehot=4, max_delta_step=0,\n          max_depth=5, max_leaves=0, min_child_weight=1, missing=nan,\n          monotone_constraints=&#x27;()&#x27;, n_estimators=50, n_jobs=0,\n          num_parallel_tree=1, predictor=&#x27;auto&#x27;, random_state=0, ...)</pre><b>In a Jupyter environment, please rerun this cell to show the HTML representation or trust the notebook. <br />On GitHub, the HTML representation is unable to render, please try loading this page with nbviewer.org.</b></div><div class=\"sk-container\" hidden><div class=\"sk-item\"><div class=\"sk-estimator sk-toggleable\"><input class=\"sk-toggleable__control sk-hidden--visually\" id=\"sk-estimator-id-1\" type=\"checkbox\" checked><label for=\"sk-estimator-id-1\" class=\"sk-toggleable__label sk-toggleable__label-arrow\">XGBRanker</label><div class=\"sk-toggleable__content\"><pre>XGBRanker(base_score=0.5, booster=&#x27;gbtree&#x27;, callbacks=None, colsample_bylevel=1,\n          colsample_bynode=1, colsample_bytree=1, early_stopping_rounds=None,\n          enable_categorical=True, eval_metric=None, feature_types=None,\n          gamma=0, gpu_id=-1, grow_policy=&#x27;depthwise&#x27;, importance_type=None,\n          interaction_constraints=&#x27;&#x27;, learning_rate=0.1, max_bin=256,\n          max_cat_threshold=64, max_cat_to_onehot=4, max_delta_step=0,\n          max_depth=5, max_leaves=0, min_child_weight=1, missing=nan,\n          monotone_constraints=&#x27;()&#x27;, n_estimators=50, n_jobs=0,\n          num_parallel_tree=1, predictor=&#x27;auto&#x27;, random_state=0, ...)</pre></div></div></div></div></div>"
     },
     "execution_count": 21,
     "metadata": {},
     "output_type": "execute_result"
    }
   ],
   "source": [
    "n_estimators = 50\n",
    "learning_rate = 1e-1\n",
    "reg_alpha = 1e-1\n",
    "reg_lambda = 1e-1\n",
    "max_depth = 5\n",
    "max_leaves = 0\n",
    "grow_policy = \"depthwise\"\n",
    "objective = \"pairwise\"\n",
    "booster = \"gbtree\"\n",
    "use_user_profile = False\n",
    "random_seed = None\n",
    "\n",
    "XGB_model = XGBRanker(objective='rank:{}'.format(objective),\n",
    "                      n_estimators = int(n_estimators),\n",
    "                      random_state = random_seed,\n",
    "                      learning_rate = learning_rate,\n",
    "                      reg_alpha = reg_alpha,\n",
    "                      reg_lambda = reg_lambda,\n",
    "                      max_depth = int(max_depth),\n",
    "                      max_leaves = int(max_leaves),\n",
    "                      grow_policy = grow_policy,\n",
    "                      verbosity = 0, # 2 if self.verbose else 0,\n",
    "                      booster = booster,\n",
    "                      enable_categorical = True,\n",
    "                      tree_method = \"hist\",  # Supported tree methods are `gpu_hist`, `approx`, and `hist`.\n",
    "                      )\n",
    "\n",
    "XGB_model.fit(X_train,\n",
    "          y_train,\n",
    "          group=groups,\n",
    "          verbose=True)"
   ],
   "metadata": {
    "collapsed": false
   }
  },
  {
   "cell_type": "code",
   "execution_count": 22,
   "outputs": [
    {
     "data": {
      "text/plain": "<AxesSubplot:title={'center':'Weight (Frequence)'}, xlabel='F score', ylabel='Features'>"
     },
     "execution_count": 22,
     "metadata": {},
     "output_type": "execute_result"
    },
    {
     "data": {
      "text/plain": "<Figure size 640x480 with 1 Axes>",
      "image/png": "[encoded data removed]"
     },
     "metadata": {},
     "output_type": "display_data"
    }
   ],
   "source": [
    "from xgboost import plot_importance\n",
    "\n",
    "plot_importance(XGB_model, importance_type='weight', title='Weight (Frequence)')"
   ],
   "metadata": {
    "collapsed": false
   }
  },
  {
   "cell_type": "code",
   "execution_count": 23,
   "outputs": [],
   "source": [
    "targetUsers = pd.read_csv('Input/data_target_users_test.csv')['user_id']\n",
    "\n",
    "targetUsers = targetUsers.tolist()"
   ],
   "metadata": {
    "collapsed": false
   }
  },
  {
   "cell_type": "code",
   "execution_count": 25,
   "outputs": [
    {
     "name": "stderr",
     "output_type": "stream",
     "text": [
      "100%|██████████| 41629/41629 [03:04<00:00, 225.42it/s]\n"
     ]
    }
   ],
   "source": [
    "import operator\n",
    "import csv\n",
    "with open('XGBoostPredictions/first.csv', 'w', newline='') as file:\n",
    "    writer = csv.writer(file)\n",
    "    writer.writerow(['user_id', 'item_list'])\n",
    "\n",
    "    for i in tqdm(range(n_users)):\n",
    "        if i in targetUsers:\n",
    "            X_to_predict = X_train[X_train[\"UserID\"] == i]\n",
    "            predictions = XGB_model.predict(X_to_predict)\n",
    "            items = training_dataframe.loc[training_dataframe[\"UserID\"]==i]\n",
    "            predictedItems = items[\"ItemID\"]\n",
    "\n",
    "            predictionsToSubmit = {}\n",
    "            j = 0\n",
    "            for item in predictedItems:\n",
    "                predictionsToSubmit[item] = predictions[j]\n",
    "                j+=1\n",
    "\n",
    "            sorted_predictions = dict(sorted(predictionsToSubmit.items(), key=operator.itemgetter(1),reverse=True))\n",
    "            best10 = list(sorted_predictions.keys())[:10]\n",
    "            writer.writerow([i, str(np.array(best10))[1:-1]])"
   ],
   "metadata": {
    "collapsed": false
   }
  },
  {
   "cell_type": "code",
   "execution_count": null,
   "outputs": [],
   "source": [],
   "metadata": {
    "collapsed": false
   }
  }
 ],
 "metadata": {
  "kernelspec": {
   "display_name": "Python 3",
   "language": "python",
   "name": "python3"
  },
  "language_info": {
   "codemirror_mode": {
    "name": "ipython",
    "version": 2
   },
   "file_extension": ".py",
   "mimetype": "text/x-python",
   "name": "python",
   "nbconvert_exporter": "python",
   "pygments_lexer": "ipython2",
   "version": "2.7.6"
  }
 },
 "nbformat": 4,
 "nbformat_minor": 0
}
