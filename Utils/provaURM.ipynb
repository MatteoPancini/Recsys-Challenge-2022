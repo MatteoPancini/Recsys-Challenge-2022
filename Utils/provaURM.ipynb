{
 "cells": [
  {
   "cell_type": "code",
   "execution_count": 1,
   "metadata": {
    "collapsed": true
   },
   "outputs": [],
   "source": [
    "import pandas as pd\n",
    "import scipy.sparse as sp\n",
    "import numpy as np\n",
    "urmPath = \"../Input/interactions_and_impressions.csv\"\n",
    "icmLenghtPath = \"../Input/data_ICM_length.csv\""
   ]
  },
  {
   "cell_type": "code",
   "execution_count": 2,
   "outputs": [
    {
     "name": "stderr",
     "output_type": "stream",
     "text": [
      "C:\\Users\\Mike\\AppData\\Local\\Temp\\ipykernel_27696\\1584756250.py:1: DtypeWarning: Columns (2) have mixed types. Specify dtype option on import or set low_memory=False.\n",
      "  dataset = pd.read_csv(urmPath)\n"
     ]
    }
   ],
   "source": [
    "dataset = pd.read_csv(urmPath)\n",
    "icm = pd.read_csv(icmLenghtPath)\n",
    "dataset = dataset.drop(columns=['Impressions'])\n",
    "datasetGroup = dataset.groupby(['UserID', 'ItemID', 'Data']).size()"
   ],
   "metadata": {
    "collapsed": false
   }
  },
  {
   "cell_type": "code",
   "execution_count": 15,
   "outputs": [
    {
     "data": {
      "text/plain": "UserID  ItemID  Data\n0       11      1        1\n        21      0        3\n                1        9\n        22      1       15\n        24      1        1\n                        ..\n2       17396   0        1\n        17970   0        1\n        18001   0        1\n        18484   1        3\n        19057   0        1\nLength: 200, dtype: int64"
     },
     "execution_count": 15,
     "metadata": {},
     "output_type": "execute_result"
    }
   ],
   "source": [
    "datasetGroup.head(200)"
   ],
   "metadata": {
    "collapsed": false
   }
  },
  {
   "cell_type": "code",
   "execution_count": 4,
   "outputs": [],
   "source": [
    "icmOO = sp.coo_matrix((icm[\"data\"].values, (icm[\"item_id\"].values, icm[\"feature_id\"].values)))"
   ],
   "metadata": {
    "collapsed": false
   }
  },
  {
   "cell_type": "code",
   "execution_count": 12,
   "outputs": [
    {
     "data": {
      "text/plain": "array([[0., 0., 0., ..., 0., 0., 0.],\n       [0., 0., 0., ..., 0., 0., 0.],\n       [0., 0., 0., ..., 0., 0., 0.],\n       ...,\n       [0., 0., 0., ..., 0., 0., 0.],\n       [0., 0., 0., ..., 0., 0., 0.],\n       [0., 0., 0., ..., 0., 0., 0.]])"
     },
     "execution_count": 12,
     "metadata": {},
     "output_type": "execute_result"
    }
   ],
   "source": [
    "datasetCOO = sp.coo_matrix((dataset[\"Data\"].values, (dataset[\"UserID\"].values, dataset[\"ItemID\"].values)))\n",
    "userIDS = dataset['UserID'].unique()\n",
    "itemIDS = dataset['ItemID'].unique()\n",
    "\n",
    "ICM = np.zeros((27968, 1), dtype=int)\n",
    "for item in range(len(icmOO.data)):\n",
    "    ICM[icmOO.row[item]] = icmOO.data[item]\n",
    "\n",
    "list_user = []\n",
    "\n",
    "URM = np.zeros((len(userIDS), len(itemIDS)), dtype=float)\n",
    "\n",
    "for x in range(len(datasetCOO.data)):\n",
    "    if datasetCOO.row[x] not in list_user and datasetCOO.data[x] == 0:\n",
    "        if datasetGroup[datasetCOO.row[x]][datasetCOO.col[x]][0] >= ICM[datasetCOO.col[x]]:\n",
    "            URM[datasetCOO.row[x]][datasetCOO.col[x]] = 10\n",
    "            list_user.append(datasetCOO.row[x])\n",
    "        elif datasetCOO.row[x] not in list_user:\n",
    "            URM[datasetCOO.row[x]][datasetCOO.col[x]] = 5 + (datasetGroup[datasetCOO.row[x]][datasetCOO.col[x]][0] / ICM[datasetCOO.col[x]] * 10)\n",
    "            list_user.append(datasetCOO.row[x])\n",
    "    elif datasetCOO.data[x] == 1 and URM[datasetCOO.row[x]][datasetCOO.col[x]] < 4:\n",
    "        URM[datasetCOO.row[x]][datasetCOO.col[x]] = URM[datasetCOO.row[x]][datasetCOO.col[x]] + 1\n",
    "\n",
    "URM"
   ],
   "metadata": {
    "collapsed": false
   }
  },
  {
   "cell_type": "code",
   "execution_count": 19,
   "outputs": [],
   "source": [
    "DF = pd.DataFrame(URM)\n",
    "DF.to_csv('../Input/URM.csv')"
   ],
   "metadata": {
    "collapsed": false
   }
  },
  {
   "cell_type": "code",
   "execution_count": null,
   "outputs": [],
   "source": [],
   "metadata": {
    "collapsed": false
   }
  }
 ],
 "metadata": {
  "kernelspec": {
   "display_name": "Python 3",
   "language": "python",
   "name": "python3"
  },
  "language_info": {
   "codemirror_mode": {
    "name": "ipython",
    "version": 2
   },
   "file_extension": ".py",
   "mimetype": "text/x-python",
   "name": "python",
   "nbconvert_exporter": "python",
   "pygments_lexer": "ipython2",
   "version": "2.7.6"
  }
 },
 "nbformat": 4,
 "nbformat_minor": 0
}
