{
 "cells": [
  {
   "cell_type": "code",
   "execution_count": 1,
   "outputs": [],
   "source": [
    "import pandas as pd\n",
    "import scipy.sparse as sp\n",
    "import numpy as np"
   ],
   "metadata": {
    "collapsed": false
   }
  },
  {
   "cell_type": "code",
   "execution_count": 2,
   "outputs": [
    {
     "name": "stderr",
     "output_type": "stream",
     "text": [
      "C:\\Users\\Mike\\AppData\\Local\\Temp\\ipykernel_46728\\3063296559.py:1: DtypeWarning: Columns (2) have mixed types. Specify dtype option on import or set low_memory=False.\n",
      "  dataset = pd.read_csv(\"../Input/interactions_and_impressions.csv\")\n"
     ]
    }
   ],
   "source": [
    "dataset = pd.read_csv(\"../Input/interactions_and_impressions.csv\")\n",
    "\n",
    "dataset = dataset.drop(columns=['Impressions'])\n",
    "\n",
    "datasetCOO = sp.coo_matrix((dataset[\"Data\"].values, (dataset[\"UserID\"].values, dataset[\"ItemID\"].values)))\n",
    "userIDS = dataset['UserID'].unique()\n",
    "itemIDS = dataset['ItemID'].unique()"
   ],
   "metadata": {
    "collapsed": false
   }
  },
  {
   "cell_type": "code",
   "execution_count": 3,
   "outputs": [
    {
     "data": {
      "text/plain": "UserID  ItemID  Data\n0       11      1        1\n        21      0        3\n                1        9\n        22      1       15\n        24      1        1\n                        ..\n41628   20448   0        1\n        20896   1        1\n        21506   1        1\n        22882   0        1\n        23757   0        1\nLength: 1715198, dtype: int64"
     },
     "execution_count": 3,
     "metadata": {},
     "output_type": "execute_result"
    }
   ],
   "source": [
    "datasetGrouped = dataset.groupby(['UserID', 'ItemID', 'Data']).size()\n",
    "datasetGrouped"
   ],
   "metadata": {
    "collapsed": false
   }
  },
  {
   "cell_type": "code",
   "execution_count": 6,
   "outputs": [],
   "source": [
    "URM = np.zeros((len(userIDS), len(itemIDS)), dtype=int)\n",
    "ones_list = np.zeros((len(userIDS), len(itemIDS)), dtype=int)\n",
    "negative_users = np.zeros((len(userIDS), 2), dtype=int)\n",
    "\n",
    "for x in range(len(datasetCOO.data)):\n",
    "    if datasetCOO.data[x] == 0:\n",
    "        if URM[datasetCOO.row[x]][datasetCOO.col[x]] <= 4:\n",
    "            URM[datasetCOO.row[x]][datasetCOO.col[x]] = int(5)\n",
    "            if negative_users[datasetCOO.row[x]][0] == 1 and negative_users[datasetCOO.row[x]][1] == datasetCOO.col[x]:\n",
    "                negative_users[datasetCOO.row[x]][0] = 0\n",
    "        else:\n",
    "            URM[datasetCOO.row[x]][datasetCOO.col[x]] = int(7)\n",
    "    elif datasetCOO.data[x] == 1:\n",
    "        if URM[datasetCOO.row[x]][datasetCOO.col[x]] == 7:\n",
    "            URM[datasetCOO.row[x]][datasetCOO.col[x]] = int(5)\n",
    "        elif negative_users[datasetCOO.row[x]][0] == 0:\n",
    "            negative_users[datasetCOO.row[x]][0] = 1\n",
    "            negative_users[datasetCOO.row[x]][1] = datasetCOO.col[x]\n",
    "            URM[datasetCOO.row[x]][datasetCOO.col[x]] = -1\n",
    "        elif URM[datasetCOO.row[x]][datasetCOO.col[x]] == 0:\n",
    "            URM[datasetCOO.row[x]][datasetCOO.col[x]] = 2\n",
    "            ones_list[datasetCOO.row[x]][datasetCOO.col[x]] += 1\n",
    "        elif URM[datasetCOO.row[x]][datasetCOO.col[x]] >= 2 and ones_list[datasetCOO.row[x]][datasetCOO.col[x]] < 3:\n",
    "            URM[datasetCOO.row[x]][datasetCOO.col[x]] += 1\n",
    "            ones_list[datasetCOO.row[x]][datasetCOO.col[x]] += 1\n",
    "        elif URM[datasetCOO.row[x]][datasetCOO.col[x]] > 1 and URM[datasetCOO.row[x]][datasetCOO.col[x]] != 5 and URM[datasetCOO.row[x]][datasetCOO.col[x]] != 7 and ones_list[datasetCOO.row[x]][datasetCOO.col[x]] >= 3:\n",
    "            URM[datasetCOO.row[x]][datasetCOO.col[x]] = URM[datasetCOO.row[x]][datasetCOO.col[x]] - 1"
   ],
   "metadata": {
    "collapsed": false
   }
  },
  {
   "cell_type": "code",
   "execution_count": 7,
   "outputs": [
    {
     "data": {
      "text/plain": "array([[0, 0, 0, ..., 0, 0, 0],\n       [0, 0, 0, ..., 0, 0, 0],\n       [0, 0, 0, ..., 0, 0, 0],\n       ...,\n       [0, 0, 0, ..., 0, 0, 0],\n       [0, 0, 0, ..., 0, 0, 0],\n       [0, 0, 0, ..., 0, 0, 0]])"
     },
     "execution_count": 7,
     "metadata": {},
     "output_type": "execute_result"
    }
   ],
   "source": [
    "URM"
   ],
   "metadata": {
    "collapsed": false
   }
  },
  {
   "cell_type": "code",
   "execution_count": 11,
   "outputs": [
    {
     "data": {
      "text/plain": "array([[0, 0, 0, ..., 0, 0, 0],\n       [0, 0, 0, ..., 0, 0, 0],\n       [0, 0, 0, ..., 0, 0, 0],\n       ...,\n       [0, 0, 0, ..., 0, 0, 0],\n       [0, 0, 0, ..., 0, 0, 0],\n       [0, 0, 0, ..., 0, 0, 0]])"
     },
     "execution_count": 11,
     "metadata": {},
     "output_type": "execute_result"
    }
   ],
   "source": [
    "URM = np.zeros((len(userIDS), len(itemIDS)), dtype=int)\n",
    "ones_list = np.zeros((len(userIDS), len(itemIDS)), dtype=int)\n",
    "for x in range(len(datasetCOO.data)):\n",
    "    if datasetCOO.data[x] == 0:\n",
    "        if URM[datasetCOO.row[x]][datasetCOO.col[x]] <= 4:\n",
    "            URM[datasetCOO.row[x]][datasetCOO.col[x]] = int(5)\n",
    "        else:\n",
    "            URM[datasetCOO.row[x]][datasetCOO.col[x]] = int(7)\n",
    "    elif datasetCOO.data[x] == 1:\n",
    "        if URM[datasetCOO.row[x]][datasetCOO.col[x]] == 7:\n",
    "            URM[datasetCOO.row[x]][datasetCOO.col[x]] = int(5)\n",
    "        elif URM[datasetCOO.row[x]][datasetCOO.col[x]] == 0:\n",
    "            URM[datasetCOO.row[x]][datasetCOO.col[x]] = 2\n",
    "            ones_list[datasetCOO.row[x]][datasetCOO.col[x]] += 1\n",
    "        elif URM[datasetCOO.row[x]][datasetCOO.col[x]] >= 2 and ones_list[datasetCOO.row[x]][datasetCOO.col[x]] < 3:\n",
    "            URM[datasetCOO.row[x]][datasetCOO.col[x]] += 1\n",
    "            ones_list[datasetCOO.row[x]][datasetCOO.col[x]] += 1\n",
    "        elif URM[datasetCOO.row[x]][datasetCOO.col[x]] > 1 and URM[datasetCOO.row[x]][datasetCOO.col[x]] != 5 and URM[datasetCOO.row[x]][datasetCOO.col[x]] != 7 and ones_list[datasetCOO.row[x]][datasetCOO.col[x]] >= 3:\n",
    "            URM[datasetCOO.row[x]][datasetCOO.col[x]] = URM[datasetCOO.row[x]][datasetCOO.col[x]] - 1\n",
    "\n",
    "URM"
   ],
   "metadata": {
    "collapsed": false
   }
  },
  {
   "cell_type": "code",
   "execution_count": null,
   "outputs": [],
   "source": [],
   "metadata": {
    "collapsed": false
   }
  }
 ],
 "metadata": {
  "kernelspec": {
   "display_name": "Python 3",
   "language": "python",
   "name": "python3"
  },
  "language_info": {
   "codemirror_mode": {
    "name": "ipython",
    "version": 2
   },
   "file_extension": ".py",
   "mimetype": "text/x-python",
   "name": "python",
   "nbconvert_exporter": "python",
   "pygments_lexer": "ipython2",
   "version": "2.7.6"
  }
 },
 "nbformat": 4,
 "nbformat_minor": 0
}
