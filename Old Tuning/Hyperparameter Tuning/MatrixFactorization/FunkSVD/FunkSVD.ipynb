{
 "cells": [
  {
   "cell_type": "code",
   "execution_count": 10,
   "metadata": {
    "collapsed": true
   },
   "outputs": [],
   "source": [
    "import optuna as op\n",
    "%matplotlib inline\n",
    "from Data_manager.split_functions.split_train_validation_random_holdout import split_train_in_two_percentage_global_sample\n",
    "from Evaluation.Evaluator import EvaluatorHoldout\n",
    "from Recommenders.MatrixFactorization.Cython.MatrixFactorization_Cython import MatrixFactorization_FunkSVD_Cython\n",
    "from Utils.createURM import createURM"
   ]
  },
  {
   "cell_type": "code",
   "execution_count": 11,
   "outputs": [
    {
     "name": "stderr",
     "output_type": "stream",
     "text": [
      "C:\\Users\\Mike\\PycharmProjects\\recsys-challenge-2022-Pancini-Vitali\\Utils\\createURM.py:5: DtypeWarning: Columns (2) have mixed types. Specify dtype option on import or set low_memory=False.\n",
      "  dataset = pd.read_csv('../Input/interactions_and_impressions.csv')\n"
     ]
    }
   ],
   "source": [
    "URM = createURM()"
   ],
   "metadata": {
    "collapsed": false
   }
  },
  {
   "cell_type": "code",
   "execution_count": 12,
   "outputs": [
    {
     "name": "stdout",
     "output_type": "stream",
     "text": [
      "Warning: 324 (0.78 %) of 41629 users have no sampled items\n",
      "Warning: 716 (1.72 %) of 41629 users have no sampled items\n"
     ]
    }
   ],
   "source": [
    "URM_train, URM_test = split_train_in_two_percentage_global_sample(URM, train_percentage = 0.80)\n",
    "URM_train, URM_validation = split_train_in_two_percentage_global_sample(URM_train, train_percentage = 0.80)"
   ],
   "metadata": {
    "collapsed": false
   }
  },
  {
   "cell_type": "code",
   "execution_count": 13,
   "outputs": [
    {
     "name": "stdout",
     "output_type": "stream",
     "text": [
      "EvaluatorHoldout: Ignoring 716 ( 1.7%) Users that have less than 1 test interactions\n",
      "EvaluatorHoldout: Ignoring 324 ( 0.8%) Users that have less than 1 test interactions\n"
     ]
    }
   ],
   "source": [
    "evaluator_validation = EvaluatorHoldout(URM_validation, cutoff_list=[10])\n",
    "evaluator_test = EvaluatorHoldout(URM_test, cutoff_list=[10])"
   ],
   "metadata": {
    "collapsed": false
   }
  },
  {
   "cell_type": "markdown",
   "source": [
    "## FunkSVD"
   ],
   "metadata": {
    "collapsed": false
   }
  },
  {
   "cell_type": "code",
   "execution_count": 14,
   "outputs": [],
   "source": [
    "recommender = MatrixFactorization_FunkSVD_Cython(URM_train)\n",
    "\n",
    "def objective(trial):\n",
    "    num_factors = trial.suggest_float(\"num_factors\", 50, 500)\n",
    "    user_reg = trial.suggest_float(\"user_reg\", 1, 10)\n",
    "    item_reg = trial.suggest_float(\"item_reg\", 1, 10)\n",
    "    recommender.fit(\n",
    "            epochs=10,\n",
    "            batch_size=1000,\n",
    "            num_factors=num_factors,\n",
    "            positive_threshold_BPR=None,\n",
    "            learning_rate=0.001,\n",
    "            use_bias=False,\n",
    "            sgd_mode='adam',\n",
    "            negative_interactions_quota=0.0,\n",
    "            init_mean=0.0, init_std_dev=0.1,\n",
    "            user_reg=user_reg, item_reg=item_reg, bias_reg=0.0, positive_reg=0.0, negative_reg=0.0,\n",
    "            random_seed=None,\n",
    "            **{\n",
    "                'epochs_min' : 0,\n",
    "                'evaluator_object' : evaluator_validation,\n",
    "                'stop_on_validation' : True,\n",
    "                'validation_every_n' : 5,\n",
    "                'validation_metric' : 'MAP',\n",
    "                'lower_validations_allowed' : 3\n",
    "            }\n",
    "    )\n",
    "\n",
    "    result_dict, _ = evaluator_validation.evaluateRecommender(recommender)\n",
    "\n",
    "    return result_dict.loc[10][\"MAP\"]"
   ],
   "metadata": {
    "collapsed": false
   }
  },
  {
   "cell_type": "code",
   "execution_count": 15,
   "outputs": [
    {
     "name": "stderr",
     "output_type": "stream",
     "text": [
      "\u001B[32m[I 2022-11-06 14:41:17,789]\u001B[0m A new study created in memory with name: no-name-0c935b0d-9243-4316-af2c-5ebbefe8f930\u001B[0m\n"
     ]
    },
    {
     "name": "stdout",
     "output_type": "stream",
     "text": [
      "FUNK_SVD: Processed 995000 (100.0%) in 21.98 sec. MSE loss 1.70E+01. Sample per second: 45259\n",
      "FUNK_SVD: Epoch 1 of 10. Elapsed time 21.92 sec\n",
      "FUNK_SVD: Processed 995000 (100.0%) in 22.72 sec. MSE loss 1.67E+01. Sample per second: 43785\n",
      "FUNK_SVD: Epoch 2 of 10. Elapsed time 43.65 sec\n",
      "FUNK_SVD: Processed 995000 (100.0%) in 22.48 sec. MSE loss 1.58E+01. Sample per second: 44253\n",
      "FUNK_SVD: Epoch 3 of 10. Elapsed time 1.09 min\n",
      "FUNK_SVD: Processed 995000 (100.0%) in 23.03 sec. MSE loss 1.34E+01. Sample per second: 43201\n",
      "FUNK_SVD: Epoch 4 of 10. Elapsed time 1.47 min\n",
      "FUNK_SVD: Processed 995000 (100.0%) in 22.00 sec. MSE loss 1.03E+01. Sample per second: 45226\n",
      "FUNK_SVD: Validation begins...\n",
      "EvaluatorHoldout: Processed 40913 (100.0%) in 29.55 sec. Users per second: 1384\n",
      "FUNK_SVD: CUTOFF: 10 - PRECISION: 0.0178770, PRECISION_RECALL_MIN_DEN: 0.0293527, RECALL: 0.0274167, MAP: 0.0068349, MAP_MIN_DEN: 0.0111769, MRR: 0.0559141, NDCG: 0.0276888, F1: 0.0216422, HIT_RATE: 0.1472148, ARHR_ALL_HITS: 0.0617076, NOVELTY: 0.0038888, AVERAGE_POPULARITY: 0.3448144, DIVERSITY_MEAN_INTER_LIST: 0.6372155, DIVERSITY_HERFINDAHL: 0.9637200, COVERAGE_ITEM: 0.4532583, COVERAGE_ITEM_HIT: 0.0040397, ITEMS_IN_GT: 0.9953075, COVERAGE_USER: 0.9828005, COVERAGE_USER_HIT: 0.1446828, USERS_IN_GT: 0.9828005, DIVERSITY_GINI: 0.0219218, SHANNON_ENTROPY: 6.2257590, RATIO_DIVERSITY_HERFINDAHL: 0.9640377, RATIO_DIVERSITY_GINI: 0.0434737, RATIO_SHANNON_ENTROPY: 0.4614696, RATIO_AVERAGE_POPULARITY: 6.7581852, RATIO_NOVELTY: 0.2955601, \n",
      "\n",
      "FUNK_SVD: New best model found! Updating.\n",
      "FUNK_SVD: Epoch 5 of 10. Elapsed time 2.33 min\n",
      "FUNK_SVD: Processed 995000 (100.0%) in 22.71 sec. MSE loss 8.06E+00. Sample per second: 43819\n",
      "FUNK_SVD: Epoch 6 of 10. Elapsed time 2.69 min\n",
      "FUNK_SVD: Processed 995000 (100.0%) in 22.68 sec. MSE loss 6.54E+00. Sample per second: 43872\n",
      "FUNK_SVD: Epoch 7 of 10. Elapsed time 3.06 min\n",
      "FUNK_SVD: Processed 995000 (100.0%) in 22.75 sec. MSE loss 5.53E+00. Sample per second: 43736\n",
      "FUNK_SVD: Epoch 8 of 10. Elapsed time 3.43 min\n",
      "FUNK_SVD: Processed 995000 (100.0%) in 22.66 sec. MSE loss 4.84E+00. Sample per second: 43918\n",
      "FUNK_SVD: Epoch 9 of 10. Elapsed time 3.79 min\n",
      "FUNK_SVD: Processed 995000 (100.0%) in 23.76 sec. MSE loss 4.34E+00. Sample per second: 41882\n",
      "FUNK_SVD: Validation begins...\n",
      "EvaluatorHoldout: Processed 40913 (100.0%) in 31.17 sec. Users per second: 1313\n",
      "FUNK_SVD: CUTOFF: 10 - PRECISION: 0.0098673, PRECISION_RECALL_MIN_DEN: 0.0166662, RECALL: 0.0156636, MAP: 0.0037572, MAP_MIN_DEN: 0.0063374, MRR: 0.0339136, NDCG: 0.0164248, F1: 0.0121075, HIT_RATE: 0.0892626, ARHR_ALL_HITS: 0.0356813, NOVELTY: 0.0041796, AVERAGE_POPULARITY: 0.1934335, DIVERSITY_MEAN_INTER_LIST: 0.8007349, DIVERSITY_HERFINDAHL: 0.9800715, COVERAGE_ITEM: 0.2719631, COVERAGE_ITEM_HIT: 0.0061615, ITEMS_IN_GT: 0.9953075, COVERAGE_USER: 0.9828005, COVERAGE_USER_HIT: 0.0877273, USERS_IN_GT: 0.9828005, DIVERSITY_GINI: 0.0094591, SHANNON_ENTROPY: 6.7260383, RATIO_DIVERSITY_HERFINDAHL: 0.9803946, RATIO_DIVERSITY_GINI: 0.0187585, RATIO_SHANNON_ENTROPY: 0.4985517, RATIO_AVERAGE_POPULARITY: 3.7911967, RATIO_NOVELTY: 0.3176629, \n",
      "\n",
      "FUNK_SVD: Epoch 10 of 10. Elapsed time 4.70 min\n",
      "FUNK_SVD: Terminating at epoch 10. Best value for 'MAP' at epoch 5 is 0.0068. Elapsed time 4.70 min\n",
      "EvaluatorHoldout: Processed 40913 (100.0%) in 31.62 sec. Users per second: 1294\n"
     ]
    },
    {
     "name": "stderr",
     "output_type": "stream",
     "text": [
      "\u001B[32m[I 2022-11-06 14:46:31,622]\u001B[0m Trial 0 finished with value: 0.0068348865711563185 and parameters: {'num_factors': 141.42397448002794, 'user_reg': 6.569205321080409, 'item_reg': 4.568108884230745}. Best is trial 0 with value: 0.0068348865711563185.\u001B[0m\n"
     ]
    },
    {
     "name": "stdout",
     "output_type": "stream",
     "text": [
      "FUNK_SVD: Processed 995000 (100.0%) in 30.02 sec. MSE loss 1.69E+01. Sample per second: 33145\n",
      "FUNK_SVD: Epoch 1 of 10. Elapsed time 29.97 sec\n",
      "FUNK_SVD: Processed 995000 (100.0%) in 29.96 sec. MSE loss 1.65E+01. Sample per second: 33206\n",
      "FUNK_SVD: Epoch 2 of 10. Elapsed time 59.93 sec\n",
      "FUNK_SVD: Processed 995000 (100.0%) in 30.03 sec. MSE loss 1.56E+01. Sample per second: 33138\n",
      "FUNK_SVD: Epoch 3 of 10. Elapsed time 1.48 min\n",
      "FUNK_SVD: Processed 995000 (100.0%) in 29.09 sec. MSE loss 1.30E+01. Sample per second: 34206\n",
      "FUNK_SVD: Epoch 4 of 10. Elapsed time 1.97 min\n",
      "FUNK_SVD: Processed 995000 (100.0%) in 28.63 sec. MSE loss 9.94E+00. Sample per second: 34755\n",
      "FUNK_SVD: Validation begins...\n",
      "EvaluatorHoldout: Processed 40913 (100.0%) in 31.26 sec. Users per second: 1309\n",
      "FUNK_SVD: CUTOFF: 10 - PRECISION: 0.0178941, PRECISION_RECALL_MIN_DEN: 0.0298287, RECALL: 0.0279000, MAP: 0.0068750, MAP_MIN_DEN: 0.0113537, MRR: 0.0565004, NDCG: 0.0283417, F1: 0.0218039, HIT_RATE: 0.1480214, ARHR_ALL_HITS: 0.0622032, NOVELTY: 0.0038978, AVERAGE_POPULARITY: 0.3368611, DIVERSITY_MEAN_INTER_LIST: 0.6589530, DIVERSITY_HERFINDAHL: 0.9658937, COVERAGE_ITEM: 0.4657853, COVERAGE_ITEM_HIT: 0.0042029, ITEMS_IN_GT: 0.9953075, COVERAGE_USER: 0.9828005, COVERAGE_USER_HIT: 0.1454755, USERS_IN_GT: 0.9828005, DIVERSITY_GINI: 0.0227686, SHANNON_ENTROPY: 6.3105965, RATIO_DIVERSITY_HERFINDAHL: 0.9662121, RATIO_DIVERSITY_GINI: 0.0451529, RATIO_SHANNON_ENTROPY: 0.4677580, RATIO_AVERAGE_POPULARITY: 6.6023059, RATIO_NOVELTY: 0.2962423, \n",
      "\n",
      "FUNK_SVD: New best model found! Updating.\n",
      "FUNK_SVD: Epoch 5 of 10. Elapsed time 2.97 min\n",
      "FUNK_SVD: Processed 995000 (100.0%) in 30.42 sec. MSE loss 7.73E+00. Sample per second: 32708\n",
      "FUNK_SVD: Epoch 6 of 10. Elapsed time 3.46 min\n",
      "FUNK_SVD: Processed 995000 (100.0%) in 29.08 sec. MSE loss 6.27E+00. Sample per second: 34217\n",
      "FUNK_SVD: Epoch 7 of 10. Elapsed time 3.93 min\n",
      "FUNK_SVD: Processed 995000 (100.0%) in 28.68 sec. MSE loss 5.29E+00. Sample per second: 34698\n",
      "FUNK_SVD: Epoch 8 of 10. Elapsed time 4.41 min\n",
      "FUNK_SVD: Processed 995000 (100.0%) in 29.24 sec. MSE loss 4.61E+00. Sample per second: 34030\n",
      "FUNK_SVD: Epoch 9 of 10. Elapsed time 4.89 min\n",
      "FUNK_SVD: Processed 995000 (100.0%) in 30.31 sec. MSE loss 4.15E+00. Sample per second: 32832\n",
      "FUNK_SVD: Validation begins...\n",
      "EvaluatorHoldout: Processed 40913 (100.0%) in 33.14 sec. Users per second: 1235\n",
      "FUNK_SVD: CUTOFF: 10 - PRECISION: 0.0107154, PRECISION_RECALL_MIN_DEN: 0.0181580, RECALL: 0.0170792, MAP: 0.0041772, MAP_MIN_DEN: 0.0070628, MRR: 0.0371590, NDCG: 0.0182035, F1: 0.0131688, HIT_RATE: 0.0955198, ARHR_ALL_HITS: 0.0393682, NOVELTY: 0.0041697, AVERAGE_POPULARITY: 0.1944307, DIVERSITY_MEAN_INTER_LIST: 0.8045587, DIVERSITY_HERFINDAHL: 0.9804539, COVERAGE_ITEM: 0.2862447, COVERAGE_ITEM_HIT: 0.0065696, ITEMS_IN_GT: 0.9953075, COVERAGE_USER: 0.9828005, COVERAGE_USER_HIT: 0.0938769, USERS_IN_GT: 0.9828005, DIVERSITY_GINI: 0.0103352, SHANNON_ENTROPY: 6.8240100, RATIO_DIVERSITY_HERFINDAHL: 0.9807771, RATIO_DIVERSITY_GINI: 0.0204959, RATIO_SHANNON_ENTROPY: 0.5058136, RATIO_AVERAGE_POPULARITY: 3.8107419, RATIO_NOVELTY: 0.3169089, \n",
      "\n",
      "FUNK_SVD: Epoch 10 of 10. Elapsed time 5.94 min\n",
      "FUNK_SVD: Terminating at epoch 10. Best value for 'MAP' at epoch 5 is 0.0069. Elapsed time 5.94 min\n",
      "EvaluatorHoldout: Processed 40913 (100.0%) in 31.87 sec. Users per second: 1284\n"
     ]
    },
    {
     "name": "stderr",
     "output_type": "stream",
     "text": [
      "\u001B[32m[I 2022-11-06 14:53:00,414]\u001B[0m Trial 1 finished with value: 0.006874950291346173 and parameters: {'num_factors': 186.49842762740138, 'user_reg': 6.720283373203484, 'item_reg': 5.639741227630359}. Best is trial 1 with value: 0.006874950291346173.\u001B[0m\n"
     ]
    },
    {
     "name": "stdout",
     "output_type": "stream",
     "text": [
      "FUNK_SVD: Processed 995000 (100.0%) in 1.20 min. MSE loss 1.67E+01. Sample per second: 13776\n",
      "FUNK_SVD: Epoch 1 of 10. Elapsed time 1.20 min\n",
      "FUNK_SVD: Processed 995000 (100.0%) in 1.36 min. MSE loss 1.60E+01. Sample per second: 12198\n",
      "FUNK_SVD: Epoch 2 of 10. Elapsed time 2.55 min\n",
      "FUNK_SVD: Processed 995000 (100.0%) in 1.27 min. MSE loss 1.49E+01. Sample per second: 13104\n",
      "FUNK_SVD: Epoch 3 of 10. Elapsed time 3.81 min\n",
      "FUNK_SVD: Processed 995000 (100.0%) in 1.25 min. MSE loss 1.24E+01. Sample per second: 13224\n",
      "FUNK_SVD: Epoch 4 of 10. Elapsed time 5.05 min\n",
      "FUNK_SVD: Processed 995000 (100.0%) in 1.35 min. MSE loss 9.71E+00. Sample per second: 12273\n",
      "FUNK_SVD: Validation begins...\n",
      "EvaluatorHoldout: Processed 40913 (100.0%) in 45.55 sec. Users per second: 898\n",
      "FUNK_SVD: CUTOFF: 10 - PRECISION: 0.0184685, PRECISION_RECALL_MIN_DEN: 0.0306866, RECALL: 0.0287114, MAP: 0.0069202, MAP_MIN_DEN: 0.0113010, MRR: 0.0560585, NDCG: 0.0283960, F1: 0.0224780, HIT_RATE: 0.1513700, ARHR_ALL_HITS: 0.0621669, NOVELTY: 0.0038887, AVERAGE_POPULARITY: 0.3592206, DIVERSITY_MEAN_INTER_LIST: 0.5726803, DIVERSITY_HERFINDAHL: 0.9572666, COVERAGE_ITEM: 0.6038683, COVERAGE_ITEM_HIT: 0.0039172, ITEMS_IN_GT: 0.9953075, COVERAGE_USER: 0.9828005, COVERAGE_USER_HIT: 0.1487665, USERS_IN_GT: 0.9828005, DIVERSITY_GINI: 0.0367656, SHANNON_ENTROPY: 6.2336793, RATIO_DIVERSITY_HERFINDAHL: 0.9575822, RATIO_DIVERSITY_GINI: 0.0729107, RATIO_SHANNON_ENTROPY: 0.4620567, RATIO_AVERAGE_POPULARITY: 7.0405408, RATIO_NOVELTY: 0.2955496, \n",
      "\n",
      "FUNK_SVD: New best model found! Updating.\n",
      "FUNK_SVD: Epoch 5 of 10. Elapsed time 7.16 min\n",
      "FUNK_SVD: Processed 995000 (100.0%) in 1.33 min. MSE loss 7.74E+00. Sample per second: 12440\n",
      "FUNK_SVD: Epoch 6 of 10. Elapsed time 8.48 min\n",
      "FUNK_SVD: Processed 995000 (100.0%) in 1.44 min. MSE loss 6.37E+00. Sample per second: 11528\n",
      "FUNK_SVD: Epoch 7 of 10. Elapsed time 9.90 min\n",
      "FUNK_SVD: Processed 995000 (100.0%) in 1.46 min. MSE loss 5.41E+00. Sample per second: 11376\n",
      "FUNK_SVD: Epoch 8 of 10. Elapsed time 11.35 min\n",
      "FUNK_SVD: Processed 995000 (100.0%) in 1.37 min. MSE loss 4.72E+00. Sample per second: 12104\n",
      "FUNK_SVD: Epoch 9 of 10. Elapsed time 12.71 min\n",
      "FUNK_SVD: Processed 995000 (100.0%) in 1.34 min. MSE loss 4.22E+00. Sample per second: 12330\n",
      "FUNK_SVD: Validation begins...\n",
      "EvaluatorHoldout: Processed 40913 (100.0%) in 45.01 sec. Users per second: 909\n",
      "FUNK_SVD: CUTOFF: 10 - PRECISION: 0.0101801, PRECISION_RECALL_MIN_DEN: 0.0170936, RECALL: 0.0160347, MAP: 0.0039522, MAP_MIN_DEN: 0.0065016, MRR: 0.0349082, NDCG: 0.0170069, F1: 0.0124537, HIT_RATE: 0.0909002, ARHR_ALL_HITS: 0.0371179, NOVELTY: 0.0042128, AVERAGE_POPULARITY: 0.1875427, DIVERSITY_MEAN_INTER_LIST: 0.7734145, DIVERSITY_HERFINDAHL: 0.9773396, COVERAGE_ITEM: 0.4262456, COVERAGE_ITEM_HIT: 0.0065696, ITEMS_IN_GT: 0.9953075, COVERAGE_USER: 0.9828005, COVERAGE_USER_HIT: 0.0893368, USERS_IN_GT: 0.9828005, DIVERSITY_GINI: 0.0190572, SHANNON_ENTROPY: 6.8264373, RATIO_DIVERSITY_HERFINDAHL: 0.9776617, RATIO_DIVERSITY_GINI: 0.0377927, RATIO_SHANNON_ENTROPY: 0.5059935, RATIO_AVERAGE_POPULARITY: 3.6757408, RATIO_NOVELTY: 0.3201834, \n",
      "\n",
      "FUNK_SVD: Epoch 10 of 10. Elapsed time 14.81 min\n",
      "FUNK_SVD: Terminating at epoch 10. Best value for 'MAP' at epoch 5 is 0.0069. Elapsed time 14.81 min\n",
      "EvaluatorHoldout: Processed 40913 (100.0%) in 44.76 sec. Users per second: 914\n"
     ]
    },
    {
     "name": "stderr",
     "output_type": "stream",
     "text": [
      "\u001B[32m[I 2022-11-06 15:08:34,647]\u001B[0m Trial 2 finished with value: 0.006920204079969993 and parameters: {'num_factors': 463.09671291017145, 'user_reg': 9.634779566999654, 'item_reg': 6.562212829181321}. Best is trial 2 with value: 0.006920204079969993.\u001B[0m\n"
     ]
    },
    {
     "name": "stdout",
     "output_type": "stream",
     "text": [
      "FUNK_SVD: Processed 995000 (100.0%) in 1.12 min. MSE loss 1.68E+01. Sample per second: 14860\n",
      "FUNK_SVD: Epoch 1 of 10. Elapsed time 1.11 min\n",
      "FUNK_SVD: Processed 995000 (100.0%) in 1.11 min. MSE loss 1.61E+01. Sample per second: 14911\n",
      "FUNK_SVD: Epoch 2 of 10. Elapsed time 2.20 min\n",
      "FUNK_SVD: Processed 995000 (100.0%) in 1.07 min. MSE loss 1.52E+01. Sample per second: 15470\n",
      "FUNK_SVD: Epoch 3 of 10. Elapsed time 3.26 min\n",
      "FUNK_SVD: Processed 995000 (100.0%) in 1.11 min. MSE loss 1.26E+01. Sample per second: 14937\n",
      "FUNK_SVD: Epoch 4 of 10. Elapsed time 4.37 min\n",
      "FUNK_SVD: Processed 995000 (100.0%) in 1.11 min. MSE loss 9.88E+00. Sample per second: 14951\n",
      "FUNK_SVD: Validation begins...\n",
      "EvaluatorHoldout: Processed 40913 (100.0%) in 43.28 sec. Users per second: 945\n",
      "FUNK_SVD: CUTOFF: 10 - PRECISION: 0.0184196, PRECISION_RECALL_MIN_DEN: 0.0305470, RECALL: 0.0286139, MAP: 0.0070229, MAP_MIN_DEN: 0.0114354, MRR: 0.0567572, NDCG: 0.0285400, F1: 0.0224119, HIT_RATE: 0.1510767, ARHR_ALL_HITS: 0.0630139, NOVELTY: 0.0038734, AVERAGE_POPULARITY: 0.3622148, DIVERSITY_MEAN_INTER_LIST: 0.5863248, DIVERSITY_HERFINDAHL: 0.9586310, COVERAGE_ITEM: 0.5754682, COVERAGE_ITEM_HIT: 0.0042029, ITEMS_IN_GT: 0.9953075, COVERAGE_USER: 0.9828005, COVERAGE_USER_HIT: 0.1484782, USERS_IN_GT: 0.9828005, DIVERSITY_GINI: 0.0331254, SHANNON_ENTROPY: 6.2079742, RATIO_DIVERSITY_HERFINDAHL: 0.9589470, RATIO_DIVERSITY_GINI: 0.0656917, RATIO_SHANNON_ENTROPY: 0.4601514, RATIO_AVERAGE_POPULARITY: 7.0992251, RATIO_NOVELTY: 0.2943870, \n",
      "\n",
      "FUNK_SVD: New best model found! Updating.\n",
      "FUNK_SVD: Epoch 5 of 10. Elapsed time 6.19 min\n",
      "FUNK_SVD: Processed 995000 (100.0%) in 1.10 min. MSE loss 7.88E+00. Sample per second: 15053\n",
      "FUNK_SVD: Epoch 6 of 10. Elapsed time 7.29 min\n",
      "FUNK_SVD: Processed 995000 (100.0%) in 1.09 min. MSE loss 6.46E+00. Sample per second: 15218\n",
      "FUNK_SVD: Epoch 7 of 10. Elapsed time 8.38 min\n",
      "FUNK_SVD: Processed 995000 (100.0%) in 1.11 min. MSE loss 5.48E+00. Sample per second: 14983\n",
      "FUNK_SVD: Epoch 8 of 10. Elapsed time 9.48 min\n",
      "FUNK_SVD: Processed 995000 (100.0%) in 1.10 min. MSE loss 4.78E+00. Sample per second: 15117\n",
      "FUNK_SVD: Epoch 9 of 10. Elapsed time 10.57 min\n",
      "FUNK_SVD: Processed 995000 (100.0%) in 1.09 min. MSE loss 4.29E+00. Sample per second: 15281\n",
      "FUNK_SVD: Validation begins...\n",
      "EvaluatorHoldout: Processed 40913 (100.0%) in 44.59 sec. Users per second: 917\n",
      "FUNK_SVD: CUTOFF: 10 - PRECISION: 0.0097255, PRECISION_RECALL_MIN_DEN: 0.0160130, RECALL: 0.0149930, MAP: 0.0037543, MAP_MIN_DEN: 0.0060738, MRR: 0.0331060, NDCG: 0.0158421, F1: 0.0117980, HIT_RATE: 0.0862562, ARHR_ALL_HITS: 0.0352153, NOVELTY: 0.0042292, AVERAGE_POPULARITY: 0.1779730, DIVERSITY_MEAN_INTER_LIST: 0.7796497, DIVERSITY_HERFINDAHL: 0.9779631, COVERAGE_ITEM: 0.3939691, COVERAGE_ITEM_HIT: 0.0062839, ITEMS_IN_GT: 0.9953075, COVERAGE_USER: 0.9828005, COVERAGE_USER_HIT: 0.0847726, USERS_IN_GT: 0.9828005, DIVERSITY_GINI: 0.0163559, SHANNON_ENTROPY: 6.7641771, RATIO_DIVERSITY_HERFINDAHL: 0.9782854, RATIO_DIVERSITY_GINI: 0.0324357, RATIO_SHANNON_ENTROPY: 0.5013786, RATIO_AVERAGE_POPULARITY: 3.4881788, RATIO_NOVELTY: 0.3214306, \n",
      "\n",
      "FUNK_SVD: Epoch 10 of 10. Elapsed time 12.39 min\n",
      "FUNK_SVD: Terminating at epoch 10. Best value for 'MAP' at epoch 5 is 0.0070. Elapsed time 12.39 min\n",
      "EvaluatorHoldout: Processed 40913 (100.0%) in 43.36 sec. Users per second: 944\n"
     ]
    },
    {
     "name": "stderr",
     "output_type": "stream",
     "text": [
      "\u001B[32m[I 2022-11-06 15:21:42,247]\u001B[0m Trial 3 finished with value: 0.007022908463526468 and parameters: {'num_factors': 371.21502354206234, 'user_reg': 9.193456056995329, 'item_reg': 3.484514906797387}. Best is trial 3 with value: 0.007022908463526468.\u001B[0m\n"
     ]
    },
    {
     "name": "stdout",
     "output_type": "stream",
     "text": [
      "FUNK_SVD: Processed 995000 (100.0%) in 51.52 sec. MSE loss 1.68E+01. Sample per second: 19311\n",
      "FUNK_SVD: Epoch 1 of 10. Elapsed time 50.53 sec\n",
      "FUNK_SVD: Processed 995000 (100.0%) in 50.44 sec. MSE loss 1.62E+01. Sample per second: 19725\n",
      "FUNK_SVD: Epoch 2 of 10. Elapsed time 1.67 min\n",
      "FUNK_SVD: Processed 995000 (100.0%) in 49.99 sec. MSE loss 1.52E+01. Sample per second: 19903\n",
      "FUNK_SVD: Epoch 3 of 10. Elapsed time 2.50 min\n",
      "FUNK_SVD: Processed 995000 (100.0%) in 50.98 sec. MSE loss 1.25E+01. Sample per second: 19517\n",
      "FUNK_SVD: Epoch 4 of 10. Elapsed time 3.33 min\n",
      "FUNK_SVD: Processed 995000 (100.0%) in 51.25 sec. MSE loss 9.60E+00. Sample per second: 19413\n",
      "FUNK_SVD: Validation begins...\n",
      "EvaluatorHoldout: Processed 40913 (100.0%) in 42.62 sec. Users per second: 960\n",
      "FUNK_SVD: CUTOFF: 10 - PRECISION: 0.0172708, PRECISION_RECALL_MIN_DEN: 0.0286548, RECALL: 0.0268578, MAP: 0.0065299, MAP_MIN_DEN: 0.0107093, MRR: 0.0535183, NDCG: 0.0270482, F1: 0.0210229, HIT_RATE: 0.1430108, ARHR_ALL_HITS: 0.0590004, NOVELTY: 0.0039090, AVERAGE_POPULARITY: 0.3369381, DIVERSITY_MEAN_INTER_LIST: 0.6201160, DIVERSITY_HERFINDAHL: 0.9620101, COVERAGE_ITEM: 0.5313584, COVERAGE_ITEM_HIT: 0.0039581, ITEMS_IN_GT: 0.9953075, COVERAGE_USER: 0.9828005, COVERAGE_USER_HIT: 0.1405511, USERS_IN_GT: 0.9828005, DIVERSITY_GINI: 0.0292808, SHANNON_ENTROPY: 6.2974652, RATIO_DIVERSITY_HERFINDAHL: 0.9623272, RATIO_DIVERSITY_GINI: 0.0580674, RATIO_SHANNON_ENTROPY: 0.4667847, RATIO_AVERAGE_POPULARITY: 6.6038146, RATIO_NOVELTY: 0.2970896, \n",
      "\n",
      "FUNK_SVD: New best model found! Updating.\n",
      "FUNK_SVD: Epoch 5 of 10. Elapsed time 4.88 min\n",
      "FUNK_SVD: Processed 995000 (100.0%) in 49.92 sec. MSE loss 7.52E+00. Sample per second: 19932\n",
      "FUNK_SVD: Epoch 6 of 10. Elapsed time 5.72 min\n",
      "FUNK_SVD: Processed 995000 (100.0%) in 52.76 sec. MSE loss 6.11E+00. Sample per second: 18857\n",
      "FUNK_SVD: Epoch 7 of 10. Elapsed time 6.58 min\n",
      "FUNK_SVD: Processed 995000 (100.0%) in 52.75 sec. MSE loss 5.16E+00. Sample per second: 18863\n",
      "FUNK_SVD: Epoch 8 of 10. Elapsed time 7.45 min\n",
      "FUNK_SVD: Processed 995000 (100.0%) in 51.23 sec. MSE loss 4.51E+00. Sample per second: 19422\n",
      "FUNK_SVD: Epoch 9 of 10. Elapsed time 8.29 min\n",
      "FUNK_SVD: Processed 995000 (100.0%) in 52.53 sec. MSE loss 4.06E+00. Sample per second: 18942\n",
      "FUNK_SVD: Validation begins...\n",
      "EvaluatorHoldout: Processed 40913 (100.0%) in 41.99 sec. Users per second: 974\n",
      "FUNK_SVD: CUTOFF: 10 - PRECISION: 0.0096277, PRECISION_RECALL_MIN_DEN: 0.0162501, RECALL: 0.0152775, MAP: 0.0037606, MAP_MIN_DEN: 0.0063153, MRR: 0.0336016, NDCG: 0.0162608, F1: 0.0118118, HIT_RATE: 0.0861829, ARHR_ALL_HITS: 0.0355137, NOVELTY: 0.0042232, AVERAGE_POPULARITY: 0.1820137, DIVERSITY_MEAN_INTER_LIST: 0.7859445, DIVERSITY_HERFINDAHL: 0.9785925, COVERAGE_ITEM: 0.3518587, COVERAGE_ITEM_HIT: 0.0063247, ITEMS_IN_GT: 0.9953075, COVERAGE_USER: 0.9828005, COVERAGE_USER_HIT: 0.0847006, USERS_IN_GT: 0.9828005, DIVERSITY_GINI: 0.0138658, SHANNON_ENTROPY: 6.8122529, RATIO_DIVERSITY_HERFINDAHL: 0.9789151, RATIO_DIVERSITY_GINI: 0.0274976, RATIO_SHANNON_ENTROPY: 0.5049421, RATIO_AVERAGE_POPULARITY: 3.5673745, RATIO_NOVELTY: 0.3209764, \n",
      "\n",
      "FUNK_SVD: Epoch 10 of 10. Elapsed time 9.86 min\n",
      "FUNK_SVD: Terminating at epoch 10. Best value for 'MAP' at epoch 5 is 0.0065. Elapsed time 9.86 min\n",
      "EvaluatorHoldout: Processed 40913 (100.0%) in 41.76 sec. Users per second: 980\n"
     ]
    },
    {
     "name": "stderr",
     "output_type": "stream",
     "text": [
      "\u001B[32m[I 2022-11-06 15:32:16,403]\u001B[0m Trial 4 finished with value: 0.006529904338241613 and parameters: {'num_factors': 285.5816022718442, 'user_reg': 7.669741622305774, 'item_reg': 1.4585326954090112}. Best is trial 3 with value: 0.007022908463526468.\u001B[0m\n"
     ]
    }
   ],
   "source": [
    "study = op.create_study(direction='maximize')\n",
    "study.optimize(objective, n_trials=5)"
   ],
   "metadata": {
    "collapsed": false
   }
  },
  {
   "cell_type": "code",
   "execution_count": 16,
   "outputs": [],
   "source": [
    "num_factors = study.best_params['num_factors']\n",
    "user_reg = study.best_params['user_reg']\n",
    "item_reg = study.best_params['item_reg']"
   ],
   "metadata": {
    "collapsed": false
   }
  },
  {
   "cell_type": "code",
   "execution_count": 17,
   "outputs": [
    {
     "name": "stdout",
     "output_type": "stream",
     "text": [
      "FUNK_SVD: Processed 995000 (100.0%) in 1.11 min. MSE loss 1.68E+01. Sample per second: 14961\n",
      "FUNK_SVD: Epoch 1 of 10. Elapsed time 1.10 min\n",
      "FUNK_SVD: Processed 995000 (100.0%) in 1.11 min. MSE loss 1.61E+01. Sample per second: 14968\n",
      "FUNK_SVD: Epoch 2 of 10. Elapsed time 2.20 min\n",
      "FUNK_SVD: Processed 995000 (100.0%) in 1.12 min. MSE loss 1.53E+01. Sample per second: 14752\n",
      "FUNK_SVD: Epoch 3 of 10. Elapsed time 3.32 min\n",
      "FUNK_SVD: Processed 995000 (100.0%) in 1.09 min. MSE loss 1.28E+01. Sample per second: 15260\n",
      "FUNK_SVD: Epoch 4 of 10. Elapsed time 4.40 min\n",
      "FUNK_SVD: Processed 995000 (100.0%) in 1.20 min. MSE loss 1.00E+01. Sample per second: 13856\n",
      "FUNK_SVD: Validation begins...\n",
      "EvaluatorHoldout: Processed 40913 (100.0%) in 42.40 sec. Users per second: 965\n",
      "FUNK_SVD: CUTOFF: 10 - PRECISION: 0.0185125, PRECISION_RECALL_MIN_DEN: 0.0304934, RECALL: 0.0285360, MAP: 0.0070950, MAP_MIN_DEN: 0.0114115, MRR: 0.0570583, NDCG: 0.0286641, F1: 0.0224565, HIT_RATE: 0.1509300, ARHR_ALL_HITS: 0.0635005, NOVELTY: 0.0038678, AVERAGE_POPULARITY: 0.3654892, DIVERSITY_MEAN_INTER_LIST: 0.5887336, DIVERSITY_HERFINDAHL: 0.9588719, COVERAGE_ITEM: 0.5708981, COVERAGE_ITEM_HIT: 0.0035908, ITEMS_IN_GT: 0.9953075, COVERAGE_USER: 0.9828005, COVERAGE_USER_HIT: 0.1483341, USERS_IN_GT: 0.9828005, DIVERSITY_GINI: 0.0323544, SHANNON_ENTROPY: 6.2048187, RATIO_DIVERSITY_HERFINDAHL: 0.9591880, RATIO_DIVERSITY_GINI: 0.0641626, RATIO_SHANNON_ENTROPY: 0.4599175, RATIO_AVERAGE_POPULARITY: 7.1634004, RATIO_NOVELTY: 0.2939592, \n",
      "\n",
      "FUNK_SVD: New best model found! Updating.\n",
      "FUNK_SVD: Epoch 5 of 10. Elapsed time 6.30 min\n",
      "FUNK_SVD: Processed 995000 (100.0%) in 1.08 min. MSE loss 7.99E+00. Sample per second: 15320\n",
      "FUNK_SVD: Epoch 6 of 10. Elapsed time 7.38 min\n",
      "FUNK_SVD: Processed 995000 (100.0%) in 1.08 min. MSE loss 6.57E+00. Sample per second: 15314\n",
      "FUNK_SVD: Epoch 7 of 10. Elapsed time 8.44 min\n",
      "FUNK_SVD: Processed 995000 (100.0%) in 1.07 min. MSE loss 5.55E+00. Sample per second: 15506\n",
      "FUNK_SVD: Epoch 8 of 10. Elapsed time 9.50 min\n",
      "FUNK_SVD: Processed 995000 (100.0%) in 1.06 min. MSE loss 4.86E+00. Sample per second: 15700\n",
      "FUNK_SVD: Epoch 9 of 10. Elapsed time 10.55 min\n",
      "FUNK_SVD: Processed 995000 (100.0%) in 1.07 min. MSE loss 4.33E+00. Sample per second: 15507\n",
      "FUNK_SVD: Validation begins...\n",
      "EvaluatorHoldout: Processed 40913 (100.0%) in 42.20 sec. Users per second: 969\n",
      "FUNK_SVD: CUTOFF: 10 - PRECISION: 0.0103781, PRECISION_RECALL_MIN_DEN: 0.0171805, RECALL: 0.0161376, MAP: 0.0040868, MAP_MIN_DEN: 0.0066329, MRR: 0.0360966, NDCG: 0.0173470, F1: 0.0126324, HIT_RATE: 0.0921223, ARHR_ALL_HITS: 0.0383636, NOVELTY: 0.0042011, AVERAGE_POPULARITY: 0.1900999, DIVERSITY_MEAN_INTER_LIST: 0.7800128, DIVERSITY_HERFINDAHL: 0.9779994, COVERAGE_ITEM: 0.3897254, COVERAGE_ITEM_HIT: 0.0058759, ITEMS_IN_GT: 0.9953075, COVERAGE_USER: 0.9828005, COVERAGE_USER_HIT: 0.0905378, USERS_IN_GT: 0.9828005, DIVERSITY_GINI: 0.0161248, SHANNON_ENTROPY: 6.8051472, RATIO_DIVERSITY_HERFINDAHL: 0.9783218, RATIO_DIVERSITY_GINI: 0.0319775, RATIO_SHANNON_ENTROPY: 0.5044154, RATIO_AVERAGE_POPULARITY: 3.7258606, RATIO_NOVELTY: 0.3192935, \n",
      "\n",
      "FUNK_SVD: Epoch 10 of 10. Elapsed time 12.32 min\n",
      "FUNK_SVD: Terminating at epoch 10. Best value for 'MAP' at epoch 5 is 0.0071. Elapsed time 12.32 min\n",
      "EvaluatorHoldout: Processed 41305 (100.0%) in 44.88 sec. Users per second: 920\n"
     ]
    },
    {
     "data": {
      "text/plain": "       PRECISION PRECISION_RECALL_MIN_DEN    RECALL      MAP MAP_MIN_DEN  \\\ncutoff                                                                     \n10      0.023464                 0.033697  0.030092  0.00927    0.013031   \n\n             MRR      NDCG        F1 HIT_RATE ARHR_ALL_HITS  ...  \\\ncutoff                                                       ...   \n10      0.072161  0.032863  0.026368  0.18499      0.081576  ...   \n\n       COVERAGE_USER COVERAGE_USER_HIT USERS_IN_GT DIVERSITY_GINI  \\\ncutoff                                                              \n10          0.992217           0.18355    0.992217       0.032555   \n\n       SHANNON_ENTROPY RATIO_DIVERSITY_HERFINDAHL RATIO_DIVERSITY_GINI  \\\ncutoff                                                                   \n10            6.214462                   0.959299             0.064561   \n\n       RATIO_SHANNON_ENTROPY RATIO_AVERAGE_POPULARITY RATIO_NOVELTY  \ncutoff                                                               \n10                  0.460632                 7.156731      0.294069  \n\n[1 rows x 27 columns]",
      "text/html": "<div>\n<style scoped>\n    .dataframe tbody tr th:only-of-type {\n        vertical-align: middle;\n    }\n\n    .dataframe tbody tr th {\n        vertical-align: top;\n    }\n\n    .dataframe thead th {\n        text-align: right;\n    }\n</style>\n<table border=\"1\" class=\"dataframe\">\n  <thead>\n    <tr style=\"text-align: right;\">\n      <th></th>\n      <th>PRECISION</th>\n      <th>PRECISION_RECALL_MIN_DEN</th>\n      <th>RECALL</th>\n      <th>MAP</th>\n      <th>MAP_MIN_DEN</th>\n      <th>MRR</th>\n      <th>NDCG</th>\n      <th>F1</th>\n      <th>HIT_RATE</th>\n      <th>ARHR_ALL_HITS</th>\n      <th>...</th>\n      <th>COVERAGE_USER</th>\n      <th>COVERAGE_USER_HIT</th>\n      <th>USERS_IN_GT</th>\n      <th>DIVERSITY_GINI</th>\n      <th>SHANNON_ENTROPY</th>\n      <th>RATIO_DIVERSITY_HERFINDAHL</th>\n      <th>RATIO_DIVERSITY_GINI</th>\n      <th>RATIO_SHANNON_ENTROPY</th>\n      <th>RATIO_AVERAGE_POPULARITY</th>\n      <th>RATIO_NOVELTY</th>\n    </tr>\n    <tr>\n      <th>cutoff</th>\n      <th></th>\n      <th></th>\n      <th></th>\n      <th></th>\n      <th></th>\n      <th></th>\n      <th></th>\n      <th></th>\n      <th></th>\n      <th></th>\n      <th></th>\n      <th></th>\n      <th></th>\n      <th></th>\n      <th></th>\n      <th></th>\n      <th></th>\n      <th></th>\n      <th></th>\n      <th></th>\n      <th></th>\n    </tr>\n  </thead>\n  <tbody>\n    <tr>\n      <th>10</th>\n      <td>0.023464</td>\n      <td>0.033697</td>\n      <td>0.030092</td>\n      <td>0.00927</td>\n      <td>0.013031</td>\n      <td>0.072161</td>\n      <td>0.032863</td>\n      <td>0.026368</td>\n      <td>0.18499</td>\n      <td>0.081576</td>\n      <td>...</td>\n      <td>0.992217</td>\n      <td>0.18355</td>\n      <td>0.992217</td>\n      <td>0.032555</td>\n      <td>6.214462</td>\n      <td>0.959299</td>\n      <td>0.064561</td>\n      <td>0.460632</td>\n      <td>7.156731</td>\n      <td>0.294069</td>\n    </tr>\n  </tbody>\n</table>\n<p>1 rows × 27 columns</p>\n</div>"
     },
     "execution_count": 17,
     "metadata": {},
     "output_type": "execute_result"
    }
   ],
   "source": [
    "recommender.fit(\n",
    "            epochs=10,\n",
    "            batch_size=1000,\n",
    "            num_factors=num_factors,\n",
    "            positive_threshold_BPR=None,\n",
    "            learning_rate=0.001,\n",
    "            use_bias=False,\n",
    "            sgd_mode='adam',\n",
    "            negative_interactions_quota=0.0,\n",
    "            init_mean=0.0, init_std_dev=0.1,\n",
    "            user_reg=user_reg, item_reg=item_reg, bias_reg=0.0, positive_reg=0.0, negative_reg=0.0,\n",
    "            random_seed=None,\n",
    "            **{\n",
    "                'epochs_min' : 0,\n",
    "                'evaluator_object' : evaluator_validation,\n",
    "                'stop_on_validation' : True,\n",
    "                'validation_every_n' : 5,\n",
    "                'validation_metric' : 'MAP',\n",
    "                'lower_validations_allowed' : 3\n",
    "            })\n",
    "result_df, _ = evaluator_test.evaluateRecommender(recommender)\n",
    "result_df"
   ],
   "metadata": {
    "collapsed": false
   }
  },
  {
   "cell_type": "code",
   "execution_count": 17,
   "outputs": [],
   "source": [],
   "metadata": {
    "collapsed": false
   }
  },
  {
   "cell_type": "code",
   "execution_count": 17,
   "outputs": [],
   "source": [],
   "metadata": {
    "collapsed": false
   }
  }
 ],
 "metadata": {
  "kernelspec": {
   "display_name": "Python 3",
   "language": "python",
   "name": "python3"
  },
  "language_info": {
   "codemirror_mode": {
    "name": "ipython",
    "version": 2
   },
   "file_extension": ".py",
   "mimetype": "text/x-python",
   "name": "python",
   "nbconvert_exporter": "python",
   "pygments_lexer": "ipython2",
   "version": "2.7.6"
  }
 },
 "nbformat": 4,
 "nbformat_minor": 0
}
