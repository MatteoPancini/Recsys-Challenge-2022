{
 "cells": [
  {
   "cell_type": "code",
   "execution_count": null,
   "metadata": {
    "collapsed": true
   },
   "outputs": [],
   "source": [
    "%load_ext Cython"
   ]
  },
  {
   "cell_type": "code",
   "execution_count": null,
   "outputs": [],
   "source": [
    "import json\n",
    "from datetime import datetime\n",
    "import optuna as op\n",
    "from optuna.samplers import TPESampler\n",
    "import scipy.sparse as sp\n",
    "%matplotlib inline\n",
    "from Data_manager.split_functions.split_train_validation_random_holdout import split_train_in_two_percentage_global_sample\n",
    "from Evaluation.Evaluator import EvaluatorHoldout\n",
    "from Recommenders.KNN.ItemKNNCFRecommender import ItemKNNCFRecommender\n",
    "from Recommenders.GraphBased.P3alphaRecommender import P3alphaRecommender\n",
    "from Utils.recsys2022DataReader import *"
   ],
   "metadata": {
    "collapsed": false
   }
  },
  {
   "cell_type": "code",
   "execution_count": null,
   "outputs": [],
   "source": [
    "URM = createBigBumpURM()"
   ],
   "metadata": {
    "collapsed": false
   }
  },
  {
   "cell_type": "code",
   "execution_count": null,
   "outputs": [],
   "source": [
    "URM_train_list = []\n",
    "URM_validation_list = []\n",
    "\n",
    "URM_train, URM_test = split_train_in_two_percentage_global_sample(URM2, train_percentage=0.85)\n",
    "\n",
    "for k in range(3):\n",
    "    URM_train, URM_validation = split_train_in_two_percentage_global_sample(URM_train, train_percentage=0.85)\n",
    "    URM_train_list.append(URM_train)\n",
    "    URM_validation_list.append(URM_validation)\n",
    "\n",
    "recommender_P3alpha_list = []\n",
    "recommender_SLIMEl"
   ],
   "metadata": {
    "collapsed": false
   }
  },
  {
   "cell_type": "code",
   "execution_count": null,
   "outputs": [],
   "source": [
    "def objective(trial):\n",
    "\n",
    "    MAP_List_Fold = []\n",
    "\n",
    "    topK = trial.suggest_int(\"topK\", 400, 800)\n",
    "    alpha = trial.suggest_float(\"alpha\", 0.6, 0.9)\n",
    "\n",
    "    for index in range(len(URM_train_list)):\n",
    "        recommender_P3alpha = P3alphaRecommender(URM_train_list[index], verbose=False)\n",
    "\n",
    "        recommender_P3alpha.fit(alpha=alpha, topK=topK)\n",
    "\n",
    "        recommender_P3alpha_list.append(recommender_P3alpha)\n",
    "\n",
    "        evaluator_validation = EvaluatorHoldout(URM_validation_list[index], cutoff_list=[10])\n",
    "\n",
    "        result_dict, _ = evaluator_validation.evaluateRecommender(recommender_P3alpha)\n",
    "\n",
    "        MAP_List_Fold.append(result_dict.iloc[0][\"MAP\"])\n",
    "\n",
    "    return sum(MAP_List_Fold) / len(MAP_List_Fold)"
   ],
   "metadata": {
    "collapsed": false
   }
  }
 ],
 "metadata": {
  "kernelspec": {
   "display_name": "Python 3",
   "language": "python",
   "name": "python3"
  },
  "language_info": {
   "codemirror_mode": {
    "name": "ipython",
    "version": 2
   },
   "file_extension": ".py",
   "mimetype": "text/x-python",
   "name": "python",
   "nbconvert_exporter": "python",
   "pygments_lexer": "ipython2",
   "version": "2.7.6"
  }
 },
 "nbformat": 4,
 "nbformat_minor": 0
}
