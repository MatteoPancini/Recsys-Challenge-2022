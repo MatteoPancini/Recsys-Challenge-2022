{
 "cells": [
  {
   "cell_type": "code",
   "execution_count": 1,
   "outputs": [],
   "source": [
    "import numpy as np\n",
    "import seaborn as sb\n",
    "from Utils.recsys2022DataReader import *\n",
    "from Data_manager.split_functions.split_train_validation_random_holdout import split_train_in_two_percentage_global_sample\n",
    "import matplotlib.pyplot as plt"
   ],
   "metadata": {
    "collapsed": false
   }
  },
  {
   "cell_type": "code",
   "execution_count": 2,
   "outputs": [
    {
     "name": "stderr",
     "output_type": "stream",
     "text": [
      "/Users/matteopancini/PycharmProjects/recsys-challenge-2022-Pancini-Vitali/Utils/recsys2022DataReader.py:57: DtypeWarning: Columns (2) have mixed types. Specify dtype option on import or set low_memory=False.\n",
      "  dataset = pd.read_csv(urmPath)\n"
     ]
    }
   ],
   "source": [
    "URM = createURMBinary()\n",
    "ICM = createSmallICM()"
   ],
   "metadata": {
    "collapsed": false
   }
  },
  {
   "cell_type": "code",
   "execution_count": 3,
   "outputs": [
    {
     "data": {
      "text/plain": "(array([ 66,  21, 103, ...,  23,  53,  23], dtype=int32), (41629,))"
     },
     "execution_count": 3,
     "metadata": {},
     "output_type": "execute_result"
    }
   ],
   "source": [
    "profile_length = np.ediff1d(URM.indptr)\n",
    "profile_length, profile_length.shape"
   ],
   "metadata": {
    "collapsed": false
   }
  },
  {
   "cell_type": "code",
   "execution_count": 4,
   "outputs": [
    {
     "data": {
      "text/plain": "array([38400, 30257, 25061, ..., 19407,  8693, 12454])"
     },
     "execution_count": 4,
     "metadata": {},
     "output_type": "execute_result"
    }
   ],
   "source": [
    "sorted_users = np.argsort(profile_length)\n",
    "sorted_users"
   ],
   "metadata": {
    "collapsed": false
   }
  },
  {
   "cell_type": "code",
   "execution_count": 5,
   "outputs": [
    {
     "name": "stdout",
     "output_type": "stream",
     "text": [
      "Warning: 991 (2.38 %) of 41629 users have no sampled items\n"
     ]
    }
   ],
   "source": [
    "URM_train, URM_test = split_train_in_two_percentage_global_sample(URM, train_percentage=0.85)"
   ],
   "metadata": {
    "collapsed": false
   }
  },
  {
   "cell_type": "code",
   "execution_count": 6,
   "outputs": [],
   "source": [
    "interactions = []\n",
    "for i in range(41629):\n",
    "    interactions.append(len(URM[i,:].nonzero()[0]))"
   ],
   "metadata": {
    "collapsed": false
   }
  },
  {
   "cell_type": "code",
   "execution_count": 7,
   "outputs": [
    {
     "data": {
      "text/plain": "  0%|          | 0/57 [00:00<?, ?it/s]",
      "application/vnd.jupyter.widget-view+json": {
       "version_major": 2,
       "version_minor": 0,
       "model_id": "414103c174644a5bad9823d32bb9c4bb"
      }
     },
     "metadata": {},
     "output_type": "display_data"
    },
    {
     "name": "stderr",
     "output_type": "stream",
     "text": [
      "Done: 100%|██████████| 24507/24507 [00:08<00:00, 2799.42it/s]            \n"
     ]
    },
    {
     "name": "stdout",
     "output_type": "stream",
     "text": [
      "RP3betaRecommender: Similarity column 24507 (100.0%), 3981.42 column/sec. Elapsed time 6.16 sec\n"
     ]
    }
   ],
   "source": [
    "from Recommenders.Implicit.ImplicitALSRecommender import ImplicitALSRecommender\n",
    "from Recommenders.NonPersonalizedRecommender import TopPop\n",
    "from Recommenders.KNN.ItemKNNCFRecommenderPLUS import ItemKNNCFRecommender\n",
    "from Recommenders.SLIM.SLIMElasticNetRecommender import MultiThreadSLIM_SLIMElasticNetRecommender\n",
    "from Recommenders.GraphBased.P3alphaRecommender import P3alphaRecommender\n",
    "from Recommenders.GraphBased.RP3betaRecommender import RP3betaRecommender\n",
    "\n",
    "MAP_recommender_per_group = {}\n",
    "\n",
    "collaborative_recommender_class = {\n",
    "                                    \"IALS\": ImplicitALSRecommender,\n",
    "                                    \"ItemKNNCF\": ItemKNNCFRecommender,\n",
    "                                   \"RP3beta\": RP3betaRecommender,\n",
    "                                   #\"SlimElasticNet\": MultiThreadSLIM_SLIMElasticNetRecommender,\n",
    "                                   }\n",
    "\n",
    "recommender_object_dict = {}\n",
    "\n",
    "for label, recommender_class in collaborative_recommender_class.items():\n",
    "    recommender_object = recommender_class(URM_train)\n",
    "\n",
    "    if(label == 'ItemKNNCF'):\n",
    "        recommender_object.fit(ICM=ICM, shrink=919, topK=584, similarity='dice', normalization='bm25')\n",
    "    elif(label == 'IALS'):\n",
    "        recommender_object.fit(factors=110, alpha=7, iterations=57, regularization=0.0008866558623568822)\n",
    "    elif(label == 'RP3beta'):\n",
    "        recommender_object.fit(topK=54, alpha=0.8285172350759491, beta=0.292180138700761)\n",
    "    elif(label == 'SlimElasticNet'):\n",
    "        recommender_object.fit(topK=359, alpha=0.04183472018614359, l1_ratio=0.03260349571135893)\n",
    "    else:\n",
    "        recommender_object.fit()\n",
    "\n",
    "    recommender_object_dict[label] = recommender_object"
   ],
   "metadata": {
    "collapsed": false
   }
  },
  {
   "cell_type": "markdown",
   "source": [
    "## OLD Interactions split"
   ],
   "metadata": {
    "collapsed": false
   }
  },
  {
   "cell_type": "code",
   "execution_count": 8,
   "outputs": [
    {
     "name": "stdout",
     "output_type": "stream",
     "text": [
      "Evaluating group: 0\n",
      "EvaluatorHoldout: Ignoring 991 ( 2.4%) Users that have less than 1 test interactions\n",
      "EvaluatorHoldout: Ignoring 32533 Users\n",
      "EvaluatorHoldout: Processed 8417 (100.0%) in 5.60 sec. Users per second: 1503\n",
      "EvaluatorHoldout: Processed 8417 (100.0%) in 5.57 sec. Users per second: 1511\n",
      "EvaluatorHoldout: Processed 8417 (100.0%) in 3.94 sec. Users per second: 2134\n",
      "Evaluating group: 1\n",
      "EvaluatorHoldout: Ignoring 991 ( 2.4%) Users that have less than 1 test interactions\n",
      "EvaluatorHoldout: Ignoring 16708 Users\n",
      "EvaluatorHoldout: Processed 24609 (100.0%) in 14.61 sec. Users per second: 1685\n",
      "EvaluatorHoldout: Processed 24609 (100.0%) in 17.34 sec. Users per second: 1420\n",
      "EvaluatorHoldout: Processed 24609 (100.0%) in 10.81 sec. Users per second: 2276\n",
      "Evaluating group: 2\n",
      "EvaluatorHoldout: Ignoring 991 ( 2.4%) Users that have less than 1 test interactions\n",
      "EvaluatorHoldout: Ignoring 34017 Users\n",
      "EvaluatorHoldout: Processed 7612 (100.0%) in 5.31 sec. Users per second: 1433\n",
      "EvaluatorHoldout: Processed 7612 (100.0%) in 7.94 sec. Users per second: 959\n",
      "EvaluatorHoldout: Processed 7612 (100.0%) in 4.25 sec. Users per second: 1790\n"
     ]
    }
   ],
   "source": [
    "cutoff = 10\n",
    "from Evaluation.Evaluator import EvaluatorHoldout\n",
    "\n",
    "list_group_interactions = [[0, 20], [21, 49], [50, max(interactions)]]\n",
    "for group_id in range(3):\n",
    "    lower_bound = list_group_interactions[group_id][0]\n",
    "    higher_bound = list_group_interactions[group_id][1]\n",
    "\n",
    "    users_in_group = [user_id for user_id in range(len(interactions)) if (lower_bound <= interactions[user_id] <= higher_bound)]\n",
    "    users_in_group_p_len = profile_length[users_in_group]\n",
    "    print(\"Group {}, #users in group {}, average p.len {:.2f}, median {}, min {}, max {}\".format(\n",
    "            group_id,\n",
    "            users_in_group.shape[0],\n",
    "            users_in_group_p_len.mean(),\n",
    "            np.median(users_in_group_p_len),\n",
    "            users_in_group_p_len.min(),\n",
    "            users_in_group_p_len.max()))\n",
    "\n",
    "    users_not_in_group_flag = np.isin(sorted_users, users_in_group, invert=True)\n",
    "    users_not_in_group = sorted_users[users_not_in_group_flag]\n",
    "\n",
    "    print(f\"Evaluating group: {group_id}\")\n",
    "\n",
    "    evaluator_test = EvaluatorHoldout(URM_test, cutoff_list=[cutoff], ignore_users=users_not_in_group)\n",
    "\n",
    "    for label, recommender in recommender_object_dict.items():\n",
    "        result_df, _ = evaluator_test.evaluateRecommender(recommender)\n",
    "        if label in MAP_recommender_per_group:\n",
    "            MAP_recommender_per_group[label].append(result_df.loc[cutoff][\"MAP\"])\n",
    "        else:\n",
    "            MAP_recommender_per_group[label] = [result_df.loc[cutoff][\"MAP\"]]"
   ],
   "metadata": {
    "collapsed": false
   }
  },
  {
   "cell_type": "code",
   "execution_count": 9,
   "outputs": [
    {
     "data": {
      "text/plain": "<Figure size 1600x900 with 1 Axes>",
      "image/png": "[encoded data removed]"
     },
     "metadata": {},
     "output_type": "display_data"
    }
   ],
   "source": [
    "import matplotlib.pyplot as plt\n",
    "%matplotlib inline\n",
    "\n",
    "_ = plt.figure(figsize=(16, 9))\n",
    "for label, recommender in recommender_object_dict.items():\n",
    "    results = MAP_recommender_per_group[label]\n",
    "    plt.scatter(x=np.arange(0,len(results)), y=results, label=label)\n",
    "plt.ylabel('MAP')\n",
    "plt.xlabel('User Group')\n",
    "plt.legend()\n",
    "plt.show()"
   ],
   "metadata": {
    "collapsed": false
   }
  },
  {
   "cell_type": "markdown",
   "source": [
    "### 25%"
   ],
   "metadata": {
    "collapsed": false
   }
  },
  {
   "cell_type": "code",
   "execution_count": 13,
   "outputs": [
    {
     "name": "stdout",
     "output_type": "stream",
     "text": [
      "Evaluating group: 0\n",
      "EvaluatorHoldout: Ignoring 991 ( 2.4%) Users that have less than 1 test interactions\n",
      "EvaluatorHoldout: Ignoring 31222 Users\n",
      "EvaluatorHoldout: Processed 9690 (100.0%) in 6.42 sec. Users per second: 1508\n",
      "EvaluatorHoldout: Processed 9690 (100.0%) in 6.50 sec. Users per second: 1490\n",
      "EvaluatorHoldout: Processed 9690 (100.0%) in 4.51 sec. Users per second: 2149\n",
      "Evaluating group: 1\n",
      "EvaluatorHoldout: Ignoring 991 ( 2.4%) Users that have less than 1 test interactions\n",
      "EvaluatorHoldout: Ignoring 31222 Users\n",
      "EvaluatorHoldout: Processed 10189 (100.0%) in 6.51 sec. Users per second: 1566\n",
      "EvaluatorHoldout: Processed 10189 (100.0%) in 7.27 sec. Users per second: 1401\n",
      "EvaluatorHoldout: Processed 10189 (100.0%) in 4.80 sec. Users per second: 2124\n",
      "Evaluating group: 2\n",
      "EvaluatorHoldout: Ignoring 991 ( 2.4%) Users that have less than 1 test interactions\n",
      "EvaluatorHoldout: Ignoring 31222 Users\n",
      "EvaluatorHoldout: Processed 10354 (100.0%) in 6.66 sec. Users per second: 1556\n",
      "EvaluatorHoldout: Processed 10354 (100.0%) in 8.04 sec. Users per second: 1288\n",
      "EvaluatorHoldout: Processed 10354 (100.0%) in 4.99 sec. Users per second: 2073\n",
      "Evaluating group: 3\n",
      "EvaluatorHoldout: Ignoring 991 ( 2.4%) Users that have less than 1 test interactions\n",
      "EvaluatorHoldout: Ignoring 31222 Users\n",
      "EvaluatorHoldout: Processed 10404 (100.0%) in 6.90 sec. Users per second: 1507\n",
      "EvaluatorHoldout: Processed 10404 (100.0%) in 10.06 sec. Users per second: 1034\n",
      "EvaluatorHoldout: Processed 10404 (100.0%) in 5.55 sec. Users per second: 1876\n"
     ]
    }
   ],
   "source": [
    "cutoff = 10\n",
    "from Evaluation.Evaluator import EvaluatorHoldout\n",
    "\n",
    "block_size = int(len(profile_length) * 0.25)\n",
    "for group_id in range(4):\n",
    "    start_pos = group_id * block_size\n",
    "    end_pos = min((group_id + 1) * block_size, len(profile_length))\n",
    "\n",
    "    users_in_group = sorted_users[start_pos:end_pos]\n",
    "\n",
    "    users_in_group_p_len = profile_length[users_in_group]\n",
    "    print(\"Group {}, #users in group {}, average p.len {:.2f}, median {}, min {}, max {}\".format(\n",
    "            group_id,\n",
    "            users_in_group.shape[0],\n",
    "            users_in_group_p_len.mean(),\n",
    "            np.median(users_in_group_p_len),\n",
    "            users_in_group_p_len.min(),\n",
    "            users_in_group_p_len.max()))\n",
    "\n",
    "    users_not_in_group_flag = np.isin(sorted_users, users_in_group, invert=True)\n",
    "    users_not_in_group = sorted_users[users_not_in_group_flag]\n",
    "\n",
    "    print(f\"Evaluating group: {group_id}\")\n",
    "\n",
    "    evaluator_test = EvaluatorHoldout(URM_test, cutoff_list=[cutoff], ignore_users=users_not_in_group)\n",
    "\n",
    "    for label, recommender in recommender_object_dict.items():\n",
    "        result_df, _ = evaluator_test.evaluateRecommender(recommender)\n",
    "        if label in MAP_recommender_per_group:\n",
    "            MAP_recommender_per_group[label].append(result_df.loc[cutoff][\"MAP\"])\n",
    "        else:\n",
    "            MAP_recommender_per_group[label] = [result_df.loc[cutoff][\"MAP\"]]"
   ],
   "metadata": {
    "collapsed": false
   }
  },
  {
   "cell_type": "code",
   "execution_count": 15,
   "outputs": [
    {
     "data": {
      "text/plain": "<Figure size 1600x900 with 1 Axes>",
      "image/png": "[encoded data removed]"
     },
     "metadata": {},
     "output_type": "display_data"
    }
   ],
   "source": [
    "import matplotlib.pyplot as plt\n",
    "\n",
    "_ = plt.figure(figsize=(16, 9))\n",
    "for label, recommender in recommender_object_dict.items():\n",
    "    results = MAP_recommender_per_group[label]\n",
    "    plt.scatter(x=np.arange(0, len(results)), y=results, label=label)\n",
    "plt.ylabel('MAP')\n",
    "plt.xlabel('User Group')\n",
    "plt.legend()\n",
    "plt.show()"
   ],
   "metadata": {
    "collapsed": false
   }
  },
  {
   "cell_type": "code",
   "execution_count": null,
   "outputs": [],
   "source": [],
   "metadata": {
    "collapsed": false
   }
  }
 ],
 "metadata": {
  "kernelspec": {
   "display_name": "Python 3",
   "language": "python",
   "name": "python3"
  },
  "language_info": {
   "codemirror_mode": {
    "name": "ipython",
    "version": 2
   },
   "file_extension": ".py",
   "mimetype": "text/x-python",
   "name": "python",
   "nbconvert_exporter": "python",
   "pygments_lexer": "ipython2",
   "version": "2.7.6"
  }
 },
 "nbformat": 4,
 "nbformat_minor": 0
}
